{
 "cells": [
  {
   "cell_type": "code",
   "execution_count": 1,
   "metadata": {},
   "outputs": [],
   "source": [
    "from scipy import stats\n",
    "\n",
    "import matplotlib.pyplot as plt\n",
    "import numpy as np\n",
    "import pandas as pd\n",
    "import seaborn as sns"
   ]
  },
  {
   "cell_type": "code",
   "execution_count": 2,
   "metadata": {},
   "outputs": [
    {
     "data": {
      "text/html": [
       "<div>\n",
       "<style scoped>\n",
       "    .dataframe tbody tr th:only-of-type {\n",
       "        vertical-align: middle;\n",
       "    }\n",
       "\n",
       "    .dataframe tbody tr th {\n",
       "        vertical-align: top;\n",
       "    }\n",
       "\n",
       "    .dataframe thead th {\n",
       "        text-align: right;\n",
       "    }\n",
       "</style>\n",
       "<table border=\"1\" class=\"dataframe\">\n",
       "  <thead>\n",
       "    <tr style=\"text-align: right;\">\n",
       "      <th></th>\n",
       "      <th>giver_username_if_known</th>\n",
       "      <th>number_of_downvotes_of_request_at_retrieval</th>\n",
       "      <th>number_of_upvotes_of_request_at_retrieval</th>\n",
       "      <th>post_was_edited</th>\n",
       "      <th>request_id</th>\n",
       "      <th>request_number_of_comments_at_retrieval</th>\n",
       "      <th>request_text</th>\n",
       "      <th>request_text_edit_aware</th>\n",
       "      <th>request_title</th>\n",
       "      <th>requester_account_age_in_days_at_request</th>\n",
       "      <th>...</th>\n",
       "      <th>requester_received_pizza</th>\n",
       "      <th>requester_subreddits_at_request</th>\n",
       "      <th>requester_upvotes_minus_downvotes_at_request</th>\n",
       "      <th>requester_upvotes_minus_downvotes_at_retrieval</th>\n",
       "      <th>requester_upvotes_plus_downvotes_at_request</th>\n",
       "      <th>requester_upvotes_plus_downvotes_at_retrieval</th>\n",
       "      <th>requester_user_flair</th>\n",
       "      <th>requester_username</th>\n",
       "      <th>unix_timestamp_of_request</th>\n",
       "      <th>unix_timestamp_of_request_utc</th>\n",
       "    </tr>\n",
       "  </thead>\n",
       "  <tbody>\n",
       "    <tr>\n",
       "      <th>0</th>\n",
       "      <td>N/A</td>\n",
       "      <td>0</td>\n",
       "      <td>1</td>\n",
       "      <td>0</td>\n",
       "      <td>t3_l25d7</td>\n",
       "      <td>0</td>\n",
       "      <td>Hi I am in need of food for my 4 children we a...</td>\n",
       "      <td>Hi I am in need of food for my 4 children we a...</td>\n",
       "      <td>Request Colorado Springs Help Us Please</td>\n",
       "      <td>0.000000</td>\n",
       "      <td>...</td>\n",
       "      <td>False</td>\n",
       "      <td>[]</td>\n",
       "      <td>0</td>\n",
       "      <td>1</td>\n",
       "      <td>0</td>\n",
       "      <td>1</td>\n",
       "      <td>None</td>\n",
       "      <td>nickylvst</td>\n",
       "      <td>1317852607</td>\n",
       "      <td>1317849007</td>\n",
       "    </tr>\n",
       "    <tr>\n",
       "      <th>1</th>\n",
       "      <td>N/A</td>\n",
       "      <td>2</td>\n",
       "      <td>5</td>\n",
       "      <td>0</td>\n",
       "      <td>t3_rcb83</td>\n",
       "      <td>0</td>\n",
       "      <td>I spent the last money I had on gas today. Im ...</td>\n",
       "      <td>I spent the last money I had on gas today. Im ...</td>\n",
       "      <td>[Request] California, No cash and I could use ...</td>\n",
       "      <td>501.111100</td>\n",
       "      <td>...</td>\n",
       "      <td>False</td>\n",
       "      <td>[AskReddit, Eve, IAmA, MontereyBay, RandomKind...</td>\n",
       "      <td>34</td>\n",
       "      <td>4258</td>\n",
       "      <td>116</td>\n",
       "      <td>11168</td>\n",
       "      <td>None</td>\n",
       "      <td>fohacidal</td>\n",
       "      <td>1332652424</td>\n",
       "      <td>1332648824</td>\n",
       "    </tr>\n",
       "    <tr>\n",
       "      <th>2</th>\n",
       "      <td>N/A</td>\n",
       "      <td>0</td>\n",
       "      <td>3</td>\n",
       "      <td>0</td>\n",
       "      <td>t3_lpu5j</td>\n",
       "      <td>0</td>\n",
       "      <td>My girlfriend decided it would be a good idea ...</td>\n",
       "      <td>My girlfriend decided it would be a good idea ...</td>\n",
       "      <td>[Request] Hungry couple in Dundee, Scotland wo...</td>\n",
       "      <td>0.000000</td>\n",
       "      <td>...</td>\n",
       "      <td>False</td>\n",
       "      <td>[]</td>\n",
       "      <td>0</td>\n",
       "      <td>3</td>\n",
       "      <td>0</td>\n",
       "      <td>3</td>\n",
       "      <td>None</td>\n",
       "      <td>jacquibatman7</td>\n",
       "      <td>1319650094</td>\n",
       "      <td>1319646494</td>\n",
       "    </tr>\n",
       "    <tr>\n",
       "      <th>3</th>\n",
       "      <td>N/A</td>\n",
       "      <td>0</td>\n",
       "      <td>1</td>\n",
       "      <td>1</td>\n",
       "      <td>t3_mxvj3</td>\n",
       "      <td>4</td>\n",
       "      <td>It's cold, I'n hungry, and to be completely ho...</td>\n",
       "      <td>It's cold, I'n hungry, and to be completely ho...</td>\n",
       "      <td>[Request] In Canada (Ontario), just got home f...</td>\n",
       "      <td>6.518438</td>\n",
       "      <td>...</td>\n",
       "      <td>False</td>\n",
       "      <td>[AskReddit, DJs, IAmA, Random_Acts_Of_Pizza]</td>\n",
       "      <td>54</td>\n",
       "      <td>59</td>\n",
       "      <td>76</td>\n",
       "      <td>81</td>\n",
       "      <td>None</td>\n",
       "      <td>4on_the_floor</td>\n",
       "      <td>1322855434</td>\n",
       "      <td>1322855434</td>\n",
       "    </tr>\n",
       "    <tr>\n",
       "      <th>4</th>\n",
       "      <td>N/A</td>\n",
       "      <td>6</td>\n",
       "      <td>6</td>\n",
       "      <td>0</td>\n",
       "      <td>t3_1i6486</td>\n",
       "      <td>5</td>\n",
       "      <td>hey guys:\\n I love this sub. I think it's grea...</td>\n",
       "      <td>hey guys:\\n I love this sub. I think it's grea...</td>\n",
       "      <td>[Request] Old friend coming to visit. Would LO...</td>\n",
       "      <td>162.063252</td>\n",
       "      <td>...</td>\n",
       "      <td>False</td>\n",
       "      <td>[GayBrosWeightLoss, RandomActsOfCookies, Rando...</td>\n",
       "      <td>1121</td>\n",
       "      <td>1225</td>\n",
       "      <td>1733</td>\n",
       "      <td>1887</td>\n",
       "      <td>None</td>\n",
       "      <td>Futuredogwalker</td>\n",
       "      <td>1373657691</td>\n",
       "      <td>1373654091</td>\n",
       "    </tr>\n",
       "  </tbody>\n",
       "</table>\n",
       "<p>5 rows × 32 columns</p>\n",
       "</div>"
      ],
      "text/plain": [
       "  giver_username_if_known  number_of_downvotes_of_request_at_retrieval  \\\n",
       "0                     N/A                                            0   \n",
       "1                     N/A                                            2   \n",
       "2                     N/A                                            0   \n",
       "3                     N/A                                            0   \n",
       "4                     N/A                                            6   \n",
       "\n",
       "   number_of_upvotes_of_request_at_retrieval  post_was_edited request_id  \\\n",
       "0                                          1                0   t3_l25d7   \n",
       "1                                          5                0   t3_rcb83   \n",
       "2                                          3                0   t3_lpu5j   \n",
       "3                                          1                1   t3_mxvj3   \n",
       "4                                          6                0  t3_1i6486   \n",
       "\n",
       "   request_number_of_comments_at_retrieval  \\\n",
       "0                                        0   \n",
       "1                                        0   \n",
       "2                                        0   \n",
       "3                                        4   \n",
       "4                                        5   \n",
       "\n",
       "                                        request_text  \\\n",
       "0  Hi I am in need of food for my 4 children we a...   \n",
       "1  I spent the last money I had on gas today. Im ...   \n",
       "2  My girlfriend decided it would be a good idea ...   \n",
       "3  It's cold, I'n hungry, and to be completely ho...   \n",
       "4  hey guys:\\n I love this sub. I think it's grea...   \n",
       "\n",
       "                             request_text_edit_aware  \\\n",
       "0  Hi I am in need of food for my 4 children we a...   \n",
       "1  I spent the last money I had on gas today. Im ...   \n",
       "2  My girlfriend decided it would be a good idea ...   \n",
       "3  It's cold, I'n hungry, and to be completely ho...   \n",
       "4  hey guys:\\n I love this sub. I think it's grea...   \n",
       "\n",
       "                                       request_title  \\\n",
       "0            Request Colorado Springs Help Us Please   \n",
       "1  [Request] California, No cash and I could use ...   \n",
       "2  [Request] Hungry couple in Dundee, Scotland wo...   \n",
       "3  [Request] In Canada (Ontario), just got home f...   \n",
       "4  [Request] Old friend coming to visit. Would LO...   \n",
       "\n",
       "   requester_account_age_in_days_at_request  ...  requester_received_pizza  \\\n",
       "0                                  0.000000  ...                     False   \n",
       "1                                501.111100  ...                     False   \n",
       "2                                  0.000000  ...                     False   \n",
       "3                                  6.518438  ...                     False   \n",
       "4                                162.063252  ...                     False   \n",
       "\n",
       "                     requester_subreddits_at_request  \\\n",
       "0                                                 []   \n",
       "1  [AskReddit, Eve, IAmA, MontereyBay, RandomKind...   \n",
       "2                                                 []   \n",
       "3       [AskReddit, DJs, IAmA, Random_Acts_Of_Pizza]   \n",
       "4  [GayBrosWeightLoss, RandomActsOfCookies, Rando...   \n",
       "\n",
       "   requester_upvotes_minus_downvotes_at_request  \\\n",
       "0                                             0   \n",
       "1                                            34   \n",
       "2                                             0   \n",
       "3                                            54   \n",
       "4                                          1121   \n",
       "\n",
       "   requester_upvotes_minus_downvotes_at_retrieval  \\\n",
       "0                                               1   \n",
       "1                                            4258   \n",
       "2                                               3   \n",
       "3                                              59   \n",
       "4                                            1225   \n",
       "\n",
       "   requester_upvotes_plus_downvotes_at_request  \\\n",
       "0                                            0   \n",
       "1                                          116   \n",
       "2                                            0   \n",
       "3                                           76   \n",
       "4                                         1733   \n",
       "\n",
       "   requester_upvotes_plus_downvotes_at_retrieval  requester_user_flair  \\\n",
       "0                                              1                  None   \n",
       "1                                          11168                  None   \n",
       "2                                              3                  None   \n",
       "3                                             81                  None   \n",
       "4                                           1887                  None   \n",
       "\n",
       "   requester_username  unix_timestamp_of_request  \\\n",
       "0           nickylvst                 1317852607   \n",
       "1           fohacidal                 1332652424   \n",
       "2       jacquibatman7                 1319650094   \n",
       "3       4on_the_floor                 1322855434   \n",
       "4     Futuredogwalker                 1373657691   \n",
       "\n",
       "   unix_timestamp_of_request_utc  \n",
       "0                     1317849007  \n",
       "1                     1332648824  \n",
       "2                     1319646494  \n",
       "3                     1322855434  \n",
       "4                     1373654091  \n",
       "\n",
       "[5 rows x 32 columns]"
      ]
     },
     "execution_count": 2,
     "metadata": {},
     "output_type": "execute_result"
    }
   ],
   "source": [
    "train_data = pd.read_json('train.json')\n",
    "train_data.head()"
   ]
  },
  {
   "cell_type": "code",
   "execution_count": 3,
   "metadata": {},
   "outputs": [
    {
     "data": {
      "text/html": [
       "<div>\n",
       "<style scoped>\n",
       "    .dataframe tbody tr th:only-of-type {\n",
       "        vertical-align: middle;\n",
       "    }\n",
       "\n",
       "    .dataframe tbody tr th {\n",
       "        vertical-align: top;\n",
       "    }\n",
       "\n",
       "    .dataframe thead th {\n",
       "        text-align: right;\n",
       "    }\n",
       "</style>\n",
       "<table border=\"1\" class=\"dataframe\">\n",
       "  <thead>\n",
       "    <tr style=\"text-align: right;\">\n",
       "      <th></th>\n",
       "      <th>giver_username_if_known</th>\n",
       "      <th>number_of_downvotes_of_request_at_retrieval</th>\n",
       "      <th>number_of_upvotes_of_request_at_retrieval</th>\n",
       "      <th>post_was_edited</th>\n",
       "      <th>request_number_of_comments_at_retrieval</th>\n",
       "      <th>request_text</th>\n",
       "      <th>request_text_edit_aware</th>\n",
       "      <th>request_title</th>\n",
       "      <th>requester_account_age_in_days_at_request</th>\n",
       "      <th>requester_account_age_in_days_at_retrieval</th>\n",
       "      <th>...</th>\n",
       "      <th>requester_received_pizza</th>\n",
       "      <th>requester_subreddits_at_request</th>\n",
       "      <th>requester_upvotes_minus_downvotes_at_request</th>\n",
       "      <th>requester_upvotes_minus_downvotes_at_retrieval</th>\n",
       "      <th>requester_upvotes_plus_downvotes_at_request</th>\n",
       "      <th>requester_upvotes_plus_downvotes_at_retrieval</th>\n",
       "      <th>requester_user_flair</th>\n",
       "      <th>requester_username</th>\n",
       "      <th>unix_timestamp_of_request</th>\n",
       "      <th>unix_timestamp_of_request_utc</th>\n",
       "    </tr>\n",
       "  </thead>\n",
       "  <tbody>\n",
       "    <tr>\n",
       "      <th>0</th>\n",
       "      <td>N/A</td>\n",
       "      <td>0</td>\n",
       "      <td>1</td>\n",
       "      <td>0</td>\n",
       "      <td>0</td>\n",
       "      <td>Hi I am in need of food for my 4 children we a...</td>\n",
       "      <td>Hi I am in need of food for my 4 children we a...</td>\n",
       "      <td>Request Colorado Springs Help Us Please</td>\n",
       "      <td>0.000000</td>\n",
       "      <td>792.420405</td>\n",
       "      <td>...</td>\n",
       "      <td>False</td>\n",
       "      <td>[]</td>\n",
       "      <td>0</td>\n",
       "      <td>1</td>\n",
       "      <td>0</td>\n",
       "      <td>1</td>\n",
       "      <td>None</td>\n",
       "      <td>nickylvst</td>\n",
       "      <td>1317852607</td>\n",
       "      <td>1317849007</td>\n",
       "    </tr>\n",
       "    <tr>\n",
       "      <th>1</th>\n",
       "      <td>N/A</td>\n",
       "      <td>2</td>\n",
       "      <td>5</td>\n",
       "      <td>0</td>\n",
       "      <td>0</td>\n",
       "      <td>I spent the last money I had on gas today. Im ...</td>\n",
       "      <td>I spent the last money I had on gas today. Im ...</td>\n",
       "      <td>[Request] California, No cash and I could use ...</td>\n",
       "      <td>501.111100</td>\n",
       "      <td>1122.279838</td>\n",
       "      <td>...</td>\n",
       "      <td>False</td>\n",
       "      <td>[AskReddit, Eve, IAmA, MontereyBay, RandomKind...</td>\n",
       "      <td>34</td>\n",
       "      <td>4258</td>\n",
       "      <td>116</td>\n",
       "      <td>11168</td>\n",
       "      <td>None</td>\n",
       "      <td>fohacidal</td>\n",
       "      <td>1332652424</td>\n",
       "      <td>1332648824</td>\n",
       "    </tr>\n",
       "    <tr>\n",
       "      <th>2</th>\n",
       "      <td>N/A</td>\n",
       "      <td>0</td>\n",
       "      <td>3</td>\n",
       "      <td>0</td>\n",
       "      <td>0</td>\n",
       "      <td>My girlfriend decided it would be a good idea ...</td>\n",
       "      <td>My girlfriend decided it would be a good idea ...</td>\n",
       "      <td>[Request] Hungry couple in Dundee, Scotland wo...</td>\n",
       "      <td>0.000000</td>\n",
       "      <td>771.616181</td>\n",
       "      <td>...</td>\n",
       "      <td>False</td>\n",
       "      <td>[]</td>\n",
       "      <td>0</td>\n",
       "      <td>3</td>\n",
       "      <td>0</td>\n",
       "      <td>3</td>\n",
       "      <td>None</td>\n",
       "      <td>jacquibatman7</td>\n",
       "      <td>1319650094</td>\n",
       "      <td>1319646494</td>\n",
       "    </tr>\n",
       "    <tr>\n",
       "      <th>3</th>\n",
       "      <td>N/A</td>\n",
       "      <td>0</td>\n",
       "      <td>1</td>\n",
       "      <td>1</td>\n",
       "      <td>4</td>\n",
       "      <td>It's cold, I'n hungry, and to be completely ho...</td>\n",
       "      <td>It's cold, I'n hungry, and to be completely ho...</td>\n",
       "      <td>[Request] In Canada (Ontario), just got home f...</td>\n",
       "      <td>6.518438</td>\n",
       "      <td>741.035602</td>\n",
       "      <td>...</td>\n",
       "      <td>False</td>\n",
       "      <td>[AskReddit, DJs, IAmA, Random_Acts_Of_Pizza]</td>\n",
       "      <td>54</td>\n",
       "      <td>59</td>\n",
       "      <td>76</td>\n",
       "      <td>81</td>\n",
       "      <td>None</td>\n",
       "      <td>4on_the_floor</td>\n",
       "      <td>1322855434</td>\n",
       "      <td>1322855434</td>\n",
       "    </tr>\n",
       "    <tr>\n",
       "      <th>4</th>\n",
       "      <td>N/A</td>\n",
       "      <td>6</td>\n",
       "      <td>6</td>\n",
       "      <td>0</td>\n",
       "      <td>5</td>\n",
       "      <td>hey guys:\\n I love this sub. I think it's grea...</td>\n",
       "      <td>hey guys:\\n I love this sub. I think it's grea...</td>\n",
       "      <td>[Request] Old friend coming to visit. Would LO...</td>\n",
       "      <td>162.063252</td>\n",
       "      <td>308.633819</td>\n",
       "      <td>...</td>\n",
       "      <td>False</td>\n",
       "      <td>[GayBrosWeightLoss, RandomActsOfCookies, Rando...</td>\n",
       "      <td>1121</td>\n",
       "      <td>1225</td>\n",
       "      <td>1733</td>\n",
       "      <td>1887</td>\n",
       "      <td>None</td>\n",
       "      <td>Futuredogwalker</td>\n",
       "      <td>1373657691</td>\n",
       "      <td>1373654091</td>\n",
       "    </tr>\n",
       "    <tr>\n",
       "      <th>...</th>\n",
       "      <td>...</td>\n",
       "      <td>...</td>\n",
       "      <td>...</td>\n",
       "      <td>...</td>\n",
       "      <td>...</td>\n",
       "      <td>...</td>\n",
       "      <td>...</td>\n",
       "      <td>...</td>\n",
       "      <td>...</td>\n",
       "      <td>...</td>\n",
       "      <td>...</td>\n",
       "      <td>...</td>\n",
       "      <td>...</td>\n",
       "      <td>...</td>\n",
       "      <td>...</td>\n",
       "      <td>...</td>\n",
       "      <td>...</td>\n",
       "      <td>...</td>\n",
       "      <td>...</td>\n",
       "      <td>...</td>\n",
       "      <td>...</td>\n",
       "    </tr>\n",
       "    <tr>\n",
       "      <th>4035</th>\n",
       "      <td>N/A</td>\n",
       "      <td>3</td>\n",
       "      <td>5</td>\n",
       "      <td>0</td>\n",
       "      <td>1</td>\n",
       "      <td>Is anyone out there kind enough to help me out...</td>\n",
       "      <td>Is anyone out there kind enough to help me out...</td>\n",
       "      <td>[REQUEST] Anyone help a recent college grad wh...</td>\n",
       "      <td>0.000000</td>\n",
       "      <td>153.344630</td>\n",
       "      <td>...</td>\n",
       "      <td>False</td>\n",
       "      <td>[]</td>\n",
       "      <td>0</td>\n",
       "      <td>4</td>\n",
       "      <td>0</td>\n",
       "      <td>12</td>\n",
       "      <td>None</td>\n",
       "      <td>bstewart88</td>\n",
       "      <td>1373068818</td>\n",
       "      <td>1373065218</td>\n",
       "    </tr>\n",
       "    <tr>\n",
       "      <th>4036</th>\n",
       "      <td>N/A</td>\n",
       "      <td>2</td>\n",
       "      <td>5</td>\n",
       "      <td>0</td>\n",
       "      <td>0</td>\n",
       "      <td>If someone could hook me up with a $15 gift ca...</td>\n",
       "      <td>If someone could hook me up with a $15 gift ca...</td>\n",
       "      <td>[Request][USA] Papa Johns is giving away one f...</td>\n",
       "      <td>658.366863</td>\n",
       "      <td>746.955648</td>\n",
       "      <td>...</td>\n",
       "      <td>True</td>\n",
       "      <td>[AskReddit, CoffeeWithJesus, IAmA, RandomKindn...</td>\n",
       "      <td>738</td>\n",
       "      <td>751</td>\n",
       "      <td>2974</td>\n",
       "      <td>3025</td>\n",
       "      <td>shroom</td>\n",
       "      <td>puddems</td>\n",
       "      <td>1378667174</td>\n",
       "      <td>1378663574</td>\n",
       "    </tr>\n",
       "    <tr>\n",
       "      <th>4037</th>\n",
       "      <td>N/A</td>\n",
       "      <td>4</td>\n",
       "      <td>10</td>\n",
       "      <td>1369770892</td>\n",
       "      <td>2</td>\n",
       "      <td>Have today off, soo I'll be stuck in the house...</td>\n",
       "      <td>Have today off, soo I'll be stuck in the house...</td>\n",
       "      <td>[REQUEST][MI,USA] Day off, would love pizza fo...</td>\n",
       "      <td>410.551736</td>\n",
       "      <td>602.295428</td>\n",
       "      <td>...</td>\n",
       "      <td>False</td>\n",
       "      <td>[AdviceAnimals, Android, AskReddit, Diablo, HT...</td>\n",
       "      <td>1252</td>\n",
       "      <td>1327</td>\n",
       "      <td>5634</td>\n",
       "      <td>5761</td>\n",
       "      <td>None</td>\n",
       "      <td>Candlejac88</td>\n",
       "      <td>1369754714</td>\n",
       "      <td>1369751114</td>\n",
       "    </tr>\n",
       "    <tr>\n",
       "      <th>4038</th>\n",
       "      <td>N/A</td>\n",
       "      <td>2</td>\n",
       "      <td>7</td>\n",
       "      <td>0</td>\n",
       "      <td>4</td>\n",
       "      <td>I've never done anything like this before, but...</td>\n",
       "      <td>I've never done anything like this before, but...</td>\n",
       "      <td>[Request] Nashua Nh Mother of one hungry 2 yea...</td>\n",
       "      <td>0.000000</td>\n",
       "      <td>647.682940</td>\n",
       "      <td>...</td>\n",
       "      <td>False</td>\n",
       "      <td>[Random_Acts_Of_Pizza]</td>\n",
       "      <td>5</td>\n",
       "      <td>13</td>\n",
       "      <td>7</td>\n",
       "      <td>41</td>\n",
       "      <td>None</td>\n",
       "      <td>nhcollegechic</td>\n",
       "      <td>1330357920</td>\n",
       "      <td>1330357920</td>\n",
       "    </tr>\n",
       "    <tr>\n",
       "      <th>4039</th>\n",
       "      <td>N/A</td>\n",
       "      <td>0</td>\n",
       "      <td>1</td>\n",
       "      <td>0</td>\n",
       "      <td>1</td>\n",
       "      <td>Like the title says, had to pay an unexpected ...</td>\n",
       "      <td>Like the title says, had to pay an unexpected ...</td>\n",
       "      <td>[Request] USA WA. Unexpected bill, couldn't go...</td>\n",
       "      <td>572.314942</td>\n",
       "      <td>870.725336</td>\n",
       "      <td>...</td>\n",
       "      <td>False</td>\n",
       "      <td>[AskReddit, Drugs, IAmA, LongDistance, Minecra...</td>\n",
       "      <td>3212</td>\n",
       "      <td>3616</td>\n",
       "      <td>8424</td>\n",
       "      <td>9186</td>\n",
       "      <td>None</td>\n",
       "      <td>Ellebean</td>\n",
       "      <td>1360535063</td>\n",
       "      <td>1360535063</td>\n",
       "    </tr>\n",
       "  </tbody>\n",
       "</table>\n",
       "<p>4040 rows × 31 columns</p>\n",
       "</div>"
      ],
      "text/plain": [
       "     giver_username_if_known  number_of_downvotes_of_request_at_retrieval  \\\n",
       "0                        N/A                                            0   \n",
       "1                        N/A                                            2   \n",
       "2                        N/A                                            0   \n",
       "3                        N/A                                            0   \n",
       "4                        N/A                                            6   \n",
       "...                      ...                                          ...   \n",
       "4035                     N/A                                            3   \n",
       "4036                     N/A                                            2   \n",
       "4037                     N/A                                            4   \n",
       "4038                     N/A                                            2   \n",
       "4039                     N/A                                            0   \n",
       "\n",
       "      number_of_upvotes_of_request_at_retrieval  post_was_edited  \\\n",
       "0                                             1                0   \n",
       "1                                             5                0   \n",
       "2                                             3                0   \n",
       "3                                             1                1   \n",
       "4                                             6                0   \n",
       "...                                         ...              ...   \n",
       "4035                                          5                0   \n",
       "4036                                          5                0   \n",
       "4037                                         10       1369770892   \n",
       "4038                                          7                0   \n",
       "4039                                          1                0   \n",
       "\n",
       "      request_number_of_comments_at_retrieval  \\\n",
       "0                                           0   \n",
       "1                                           0   \n",
       "2                                           0   \n",
       "3                                           4   \n",
       "4                                           5   \n",
       "...                                       ...   \n",
       "4035                                        1   \n",
       "4036                                        0   \n",
       "4037                                        2   \n",
       "4038                                        4   \n",
       "4039                                        1   \n",
       "\n",
       "                                           request_text  \\\n",
       "0     Hi I am in need of food for my 4 children we a...   \n",
       "1     I spent the last money I had on gas today. Im ...   \n",
       "2     My girlfriend decided it would be a good idea ...   \n",
       "3     It's cold, I'n hungry, and to be completely ho...   \n",
       "4     hey guys:\\n I love this sub. I think it's grea...   \n",
       "...                                                 ...   \n",
       "4035  Is anyone out there kind enough to help me out...   \n",
       "4036  If someone could hook me up with a $15 gift ca...   \n",
       "4037  Have today off, soo I'll be stuck in the house...   \n",
       "4038  I've never done anything like this before, but...   \n",
       "4039  Like the title says, had to pay an unexpected ...   \n",
       "\n",
       "                                request_text_edit_aware  \\\n",
       "0     Hi I am in need of food for my 4 children we a...   \n",
       "1     I spent the last money I had on gas today. Im ...   \n",
       "2     My girlfriend decided it would be a good idea ...   \n",
       "3     It's cold, I'n hungry, and to be completely ho...   \n",
       "4     hey guys:\\n I love this sub. I think it's grea...   \n",
       "...                                                 ...   \n",
       "4035  Is anyone out there kind enough to help me out...   \n",
       "4036  If someone could hook me up with a $15 gift ca...   \n",
       "4037  Have today off, soo I'll be stuck in the house...   \n",
       "4038  I've never done anything like this before, but...   \n",
       "4039  Like the title says, had to pay an unexpected ...   \n",
       "\n",
       "                                          request_title  \\\n",
       "0               Request Colorado Springs Help Us Please   \n",
       "1     [Request] California, No cash and I could use ...   \n",
       "2     [Request] Hungry couple in Dundee, Scotland wo...   \n",
       "3     [Request] In Canada (Ontario), just got home f...   \n",
       "4     [Request] Old friend coming to visit. Would LO...   \n",
       "...                                                 ...   \n",
       "4035  [REQUEST] Anyone help a recent college grad wh...   \n",
       "4036  [Request][USA] Papa Johns is giving away one f...   \n",
       "4037  [REQUEST][MI,USA] Day off, would love pizza fo...   \n",
       "4038  [Request] Nashua Nh Mother of one hungry 2 yea...   \n",
       "4039  [Request] USA WA. Unexpected bill, couldn't go...   \n",
       "\n",
       "      requester_account_age_in_days_at_request  \\\n",
       "0                                     0.000000   \n",
       "1                                   501.111100   \n",
       "2                                     0.000000   \n",
       "3                                     6.518438   \n",
       "4                                   162.063252   \n",
       "...                                        ...   \n",
       "4035                                  0.000000   \n",
       "4036                                658.366863   \n",
       "4037                                410.551736   \n",
       "4038                                  0.000000   \n",
       "4039                                572.314942   \n",
       "\n",
       "      requester_account_age_in_days_at_retrieval  ...  \\\n",
       "0                                     792.420405  ...   \n",
       "1                                    1122.279838  ...   \n",
       "2                                     771.616181  ...   \n",
       "3                                     741.035602  ...   \n",
       "4                                     308.633819  ...   \n",
       "...                                          ...  ...   \n",
       "4035                                  153.344630  ...   \n",
       "4036                                  746.955648  ...   \n",
       "4037                                  602.295428  ...   \n",
       "4038                                  647.682940  ...   \n",
       "4039                                  870.725336  ...   \n",
       "\n",
       "      requester_received_pizza  \\\n",
       "0                        False   \n",
       "1                        False   \n",
       "2                        False   \n",
       "3                        False   \n",
       "4                        False   \n",
       "...                        ...   \n",
       "4035                     False   \n",
       "4036                      True   \n",
       "4037                     False   \n",
       "4038                     False   \n",
       "4039                     False   \n",
       "\n",
       "                        requester_subreddits_at_request  \\\n",
       "0                                                    []   \n",
       "1     [AskReddit, Eve, IAmA, MontereyBay, RandomKind...   \n",
       "2                                                    []   \n",
       "3          [AskReddit, DJs, IAmA, Random_Acts_Of_Pizza]   \n",
       "4     [GayBrosWeightLoss, RandomActsOfCookies, Rando...   \n",
       "...                                                 ...   \n",
       "4035                                                 []   \n",
       "4036  [AskReddit, CoffeeWithJesus, IAmA, RandomKindn...   \n",
       "4037  [AdviceAnimals, Android, AskReddit, Diablo, HT...   \n",
       "4038                             [Random_Acts_Of_Pizza]   \n",
       "4039  [AskReddit, Drugs, IAmA, LongDistance, Minecra...   \n",
       "\n",
       "      requester_upvotes_minus_downvotes_at_request  \\\n",
       "0                                                0   \n",
       "1                                               34   \n",
       "2                                                0   \n",
       "3                                               54   \n",
       "4                                             1121   \n",
       "...                                            ...   \n",
       "4035                                             0   \n",
       "4036                                           738   \n",
       "4037                                          1252   \n",
       "4038                                             5   \n",
       "4039                                          3212   \n",
       "\n",
       "      requester_upvotes_minus_downvotes_at_retrieval  \\\n",
       "0                                                  1   \n",
       "1                                               4258   \n",
       "2                                                  3   \n",
       "3                                                 59   \n",
       "4                                               1225   \n",
       "...                                              ...   \n",
       "4035                                               4   \n",
       "4036                                             751   \n",
       "4037                                            1327   \n",
       "4038                                              13   \n",
       "4039                                            3616   \n",
       "\n",
       "      requester_upvotes_plus_downvotes_at_request  \\\n",
       "0                                               0   \n",
       "1                                             116   \n",
       "2                                               0   \n",
       "3                                              76   \n",
       "4                                            1733   \n",
       "...                                           ...   \n",
       "4035                                            0   \n",
       "4036                                         2974   \n",
       "4037                                         5634   \n",
       "4038                                            7   \n",
       "4039                                         8424   \n",
       "\n",
       "      requester_upvotes_plus_downvotes_at_retrieval  requester_user_flair  \\\n",
       "0                                                 1                  None   \n",
       "1                                             11168                  None   \n",
       "2                                                 3                  None   \n",
       "3                                                81                  None   \n",
       "4                                              1887                  None   \n",
       "...                                             ...                   ...   \n",
       "4035                                             12                  None   \n",
       "4036                                           3025                shroom   \n",
       "4037                                           5761                  None   \n",
       "4038                                             41                  None   \n",
       "4039                                           9186                  None   \n",
       "\n",
       "      requester_username  unix_timestamp_of_request  \\\n",
       "0              nickylvst                 1317852607   \n",
       "1              fohacidal                 1332652424   \n",
       "2          jacquibatman7                 1319650094   \n",
       "3          4on_the_floor                 1322855434   \n",
       "4        Futuredogwalker                 1373657691   \n",
       "...                  ...                        ...   \n",
       "4035          bstewart88                 1373068818   \n",
       "4036             puddems                 1378667174   \n",
       "4037         Candlejac88                 1369754714   \n",
       "4038       nhcollegechic                 1330357920   \n",
       "4039            Ellebean                 1360535063   \n",
       "\n",
       "      unix_timestamp_of_request_utc  \n",
       "0                        1317849007  \n",
       "1                        1332648824  \n",
       "2                        1319646494  \n",
       "3                        1322855434  \n",
       "4                        1373654091  \n",
       "...                             ...  \n",
       "4035                     1373065218  \n",
       "4036                     1378663574  \n",
       "4037                     1369751114  \n",
       "4038                     1330357920  \n",
       "4039                     1360535063  \n",
       "\n",
       "[4040 rows x 31 columns]"
      ]
     },
     "execution_count": 3,
     "metadata": {},
     "output_type": "execute_result"
    }
   ],
   "source": [
    "train_data.drop(['request_id'], axis=1)"
   ]
  },
  {
   "cell_type": "code",
   "execution_count": 4,
   "metadata": {},
   "outputs": [
    {
     "data": {
      "text/plain": [
       "<AxesSubplot:ylabel='Frequency'>"
      ]
     },
     "execution_count": 4,
     "metadata": {},
     "output_type": "execute_result"
    },
    {
     "data": {
      "image/png": "[encoded data removed]",
      "text/plain": [
       "<Figure size 432x288 with 1 Axes>"
      ]
     },
     "metadata": {
      "needs_background": "light"
     },
     "output_type": "display_data"
    }
   ],
   "source": [
    "train_data[\"requester_received_pizza_1or0\"] = train_data[\"requester_received_pizza\"].astype(int)\n",
    "train_data[\"requester_received_pizza_1or0\"].plot.hist()"
   ]
  },
  {
   "cell_type": "markdown",
   "metadata": {},
   "source": [
    "### requester_account_age_in_days_at_request"
   ]
  },
  {
   "cell_type": "code",
   "execution_count": 5,
   "metadata": {},
   "outputs": [
    {
     "data": {
      "text/plain": [
       "{'whiskers': [<matplotlib.lines.Line2D at 0x7fc9d5af67d0>,\n",
       "  <matplotlib.lines.Line2D at 0x7fc9d5afc390>,\n",
       "  <matplotlib.lines.Line2D at 0x7fc9d5b1d710>,\n",
       "  <matplotlib.lines.Line2D at 0x7fc9d5b20ed0>],\n",
       " 'caps': [<matplotlib.lines.Line2D at 0x7fc9d5afce10>,\n",
       "  <matplotlib.lines.Line2D at 0x7fc9d5b07210>,\n",
       "  <matplotlib.lines.Line2D at 0x7fc9d5b291d0>,\n",
       "  <matplotlib.lines.Line2D at 0x7fc9d5b2dbd0>],\n",
       " 'boxes': [<matplotlib.lines.Line2D at 0x7fc9d5af3bd0>,\n",
       "  <matplotlib.lines.Line2D at 0x7fc9d5b18410>],\n",
       " 'medians': [<matplotlib.lines.Line2D at 0x7fc9d5b0c310>,\n",
       "  <matplotlib.lines.Line2D at 0x7fc9d5b321d0>],\n",
       " 'fliers': [<matplotlib.lines.Line2D at 0x7fc9d5b103d0>,\n",
       "  <matplotlib.lines.Line2D at 0x7fc9d5b39910>],\n",
       " 'means': []}"
      ]
     },
     "execution_count": 5,
     "metadata": {},
     "output_type": "execute_result"
    },
    {
     "data": {
      "image/png": "[encoded data removed]",
      "text/plain": [
       "<Figure size 864x504 with 1 Axes>"
      ]
     },
     "metadata": {
      "needs_background": "light"
     },
     "output_type": "display_data"
    }
   ],
   "source": [
    "requester_account_age_in_days_at_request_1 = train_data[train_data['requester_received_pizza'] == True]['requester_account_age_in_days_at_request']\n",
    "requester_account_age_in_days_at_request_0 = train_data[train_data['requester_received_pizza'] == False]['requester_account_age_in_days_at_request']\n",
    "\n",
    "set_to_plot = [requester_account_age_in_days_at_request_1, requester_account_age_in_days_at_request_0]\n",
    "\n",
    "labels = train_data['requester_received_pizza'].unique()\n",
    "\n",
    "fig, ax = plt.subplots(figsize=(12, 7))\n",
    "ax.boxplot(set_to_plot, labels=labels)"
   ]
  },
  {
   "cell_type": "code",
   "execution_count": 6,
   "metadata": {},
   "outputs": [
    {
     "data": {
      "text/plain": [
       "0.0"
      ]
     },
     "execution_count": 6,
     "metadata": {},
     "output_type": "execute_result"
    }
   ],
   "source": [
    "min(train_data[\"requester_account_age_in_days_at_request\"])"
   ]
  },
  {
   "cell_type": "code",
   "execution_count": 7,
   "metadata": {},
   "outputs": [
    {
     "data": {
      "text/plain": [
       "2809.750787037037"
      ]
     },
     "execution_count": 7,
     "metadata": {},
     "output_type": "execute_result"
    }
   ],
   "source": [
    "max(train_data[\"requester_account_age_in_days_at_request\"])"
   ]
  },
  {
   "cell_type": "code",
   "execution_count": 8,
   "metadata": {},
   "outputs": [
    {
     "data": {
      "text/plain": [
       "0.0"
      ]
     },
     "execution_count": 8,
     "metadata": {},
     "output_type": "execute_result"
    }
   ],
   "source": [
    "min(requester_account_age_in_days_at_request_0)"
   ]
  },
  {
   "cell_type": "code",
   "execution_count": 9,
   "metadata": {},
   "outputs": [
    {
     "data": {
      "text/plain": [
       "2124.362650462963"
      ]
     },
     "execution_count": 9,
     "metadata": {},
     "output_type": "execute_result"
    }
   ],
   "source": [
    "max(requester_account_age_in_days_at_request_1)"
   ]
  },
  {
   "cell_type": "code",
   "execution_count": 10,
   "metadata": {},
   "outputs": [
    {
     "data": {
      "text/plain": [
       "2809.750787037037"
      ]
     },
     "execution_count": 10,
     "metadata": {},
     "output_type": "execute_result"
    }
   ],
   "source": [
    "max(requester_account_age_in_days_at_request_0)"
   ]
  },
  {
   "cell_type": "markdown",
   "metadata": {},
   "source": [
    "The difference in distribution seems more than the other features analyzed below."
   ]
  },
  {
   "cell_type": "markdown",
   "metadata": {},
   "source": [
    "### requester_account_age_in_days_at_retrieval"
   ]
  },
  {
   "cell_type": "code",
   "execution_count": 11,
   "metadata": {},
   "outputs": [
    {
     "data": {
      "text/plain": [
       "{'whiskers': [<matplotlib.lines.Line2D at 0x7fc9d5c44050>,\n",
       "  <matplotlib.lines.Line2D at 0x7fc9d5c4ba90>,\n",
       "  <matplotlib.lines.Line2D at 0x7fc9d5c6c310>,\n",
       "  <matplotlib.lines.Line2D at 0x7fc9d5c73e50>],\n",
       " 'caps': [<matplotlib.lines.Line2D at 0x7fc9d5c50e10>,\n",
       "  <matplotlib.lines.Line2D at 0x7fc9d5c567d0>,\n",
       "  <matplotlib.lines.Line2D at 0x7fc9d5c75f50>,\n",
       "  <matplotlib.lines.Line2D at 0x7fc9d5c7cd90>],\n",
       " 'boxes': [<matplotlib.lines.Line2D at 0x7fc9d5c3cf10>,\n",
       "  <matplotlib.lines.Line2D at 0x7fc9d5c63d10>],\n",
       " 'medians': [<matplotlib.lines.Line2D at 0x7fc9d5c59f50>,\n",
       "  <matplotlib.lines.Line2D at 0x7fc9d5c83ad0>],\n",
       " 'fliers': [<matplotlib.lines.Line2D at 0x7fc9d5c5ddd0>,\n",
       "  <matplotlib.lines.Line2D at 0x7fc9d5c8b7d0>],\n",
       " 'means': []}"
      ]
     },
     "execution_count": 11,
     "metadata": {},
     "output_type": "execute_result"
    },
    {
     "data": {
      "image/png": "[encoded data removed]",
      "text/plain": [
       "<Figure size 864x504 with 1 Axes>"
      ]
     },
     "metadata": {
      "needs_background": "light"
     },
     "output_type": "display_data"
    }
   ],
   "source": [
    "requester_account_age_in_days_at_retrieval_1 = train_data[train_data['requester_received_pizza'] == True]['requester_account_age_in_days_at_retrieval']\n",
    "requester_account_age_in_days_at_retrieval_0 = train_data[train_data['requester_received_pizza'] == False]['requester_account_age_in_days_at_retrieval']\n",
    "\n",
    "set_to_plot = [requester_account_age_in_days_at_retrieval_1, requester_account_age_in_days_at_retrieval_0]\n",
    "\n",
    "labels = train_data['requester_received_pizza'].unique()\n",
    "\n",
    "fig, ax = plt.subplots(figsize=(12, 7))\n",
    "ax.boxplot(set_to_plot, labels=labels)"
   ]
  },
  {
   "cell_type": "markdown",
   "metadata": {},
   "source": [
    "### requester_subreddits_at_request"
   ]
  },
  {
   "cell_type": "code",
   "execution_count": 12,
   "metadata": {},
   "outputs": [],
   "source": [
    "requester_subreddits_at_request_1 = train_data[train_data['requester_received_pizza'] == True]['requester_subreddits_at_request']\n",
    "requester_subreddits_at_request_0 = train_data[train_data['requester_received_pizza'] == False]['requester_subreddits_at_request']"
   ]
  },
  {
   "cell_type": "markdown",
   "metadata": {},
   "source": [
    "Relationship between number of subreddits with activity and altruism"
   ]
  },
  {
   "cell_type": "code",
   "execution_count": 13,
   "metadata": {},
   "outputs": [
    {
     "data": {
      "text/plain": [
       "{'whiskers': [<matplotlib.lines.Line2D at 0x7fc9d5d8e890>,\n",
       "  <matplotlib.lines.Line2D at 0x7fc9d5d97450>,\n",
       "  <matplotlib.lines.Line2D at 0x7fc9d5dbab90>,\n",
       "  <matplotlib.lines.Line2D at 0x7fc9d5dbf910>],\n",
       " 'caps': [<matplotlib.lines.Line2D at 0x7fc9d5d9b690>,\n",
       "  <matplotlib.lines.Line2D at 0x7fc9d5da0810>,\n",
       "  <matplotlib.lines.Line2D at 0x7fc9d5dc5d90>,\n",
       "  <matplotlib.lines.Line2D at 0x7fc9d5dd0fd0>],\n",
       " 'boxes': [<matplotlib.lines.Line2D at 0x7fc9d5d8aad0>,\n",
       "  <matplotlib.lines.Line2D at 0x7fc9d5db81d0>],\n",
       " 'medians': [<matplotlib.lines.Line2D at 0x7fc9d5da9650>,\n",
       "  <matplotlib.lines.Line2D at 0x7fc9d5dd7890>],\n",
       " 'fliers': [<matplotlib.lines.Line2D at 0x7fc9d5db0050>,\n",
       "  <matplotlib.lines.Line2D at 0x7fc9d5dd8d50>],\n",
       " 'means': []}"
      ]
     },
     "execution_count": 13,
     "metadata": {},
     "output_type": "execute_result"
    },
    {
     "data": {
      "image/png": "[encoded data removed]",
      "text/plain": [
       "<Figure size 432x288 with 1 Axes>"
      ]
     },
     "metadata": {
      "needs_background": "light"
     },
     "output_type": "display_data"
    }
   ],
   "source": [
    "len_requester_subreddits_at_request_1 = []\n",
    "for r1 in requester_subreddits_at_request_1:\n",
    "    len_requester_subreddits_at_request_1.append(len(r1))\n",
    "    \n",
    "len_requester_subreddits_at_request_0 = []\n",
    "for r0 in requester_subreddits_at_request_0:\n",
    "    len_requester_subreddits_at_request_0.append(len(r0))\n",
    "\n",
    "set_to_plot = [len_requester_subreddits_at_request_1, len_requester_subreddits_at_request_0]\n",
    "\n",
    "labels = train_data['requester_received_pizza'].unique()\n",
    "\n",
    "plt.boxplot(set_to_plot, labels=labels)"
   ]
  },
  {
   "cell_type": "markdown",
   "metadata": {},
   "source": [
    "Relationship between number of \"Random\" subreddits with activity and altruism"
   ]
  },
  {
   "cell_type": "code",
   "execution_count": 14,
   "metadata": {},
   "outputs": [
    {
     "data": {
      "text/plain": [
       "{'whiskers': [<matplotlib.lines.Line2D at 0x7fc9d5d21610>,\n",
       "  <matplotlib.lines.Line2D at 0x7fc9d5d2dad0>,\n",
       "  <matplotlib.lines.Line2D at 0x7fc9d5e13890>,\n",
       "  <matplotlib.lines.Line2D at 0x7fc9d5e06590>],\n",
       " 'caps': [<matplotlib.lines.Line2D at 0x7fc9d5d1a390>,\n",
       "  <matplotlib.lines.Line2D at 0x7fc9d5e0d810>,\n",
       "  <matplotlib.lines.Line2D at 0x7fc9d5e5dd90>,\n",
       "  <matplotlib.lines.Line2D at 0x7fc9d5e78d50>],\n",
       " 'boxes': [<matplotlib.lines.Line2D at 0x7fc9d5d06750>,\n",
       "  <matplotlib.lines.Line2D at 0x7fc9d5d8e090>],\n",
       " 'medians': [<matplotlib.lines.Line2D at 0x7fc9d5e1b950>,\n",
       "  <matplotlib.lines.Line2D at 0x7fc9d5e7bad0>],\n",
       " 'fliers': [<matplotlib.lines.Line2D at 0x7fc9d5dec790>,\n",
       "  <matplotlib.lines.Line2D at 0x7fc9d5e5f210>],\n",
       " 'means': []}"
      ]
     },
     "execution_count": 14,
     "metadata": {},
     "output_type": "execute_result"
    },
    {
     "data": {
      "image/png": "[encoded data removed]",
      "text/plain": [
       "<Figure size 432x288 with 1 Axes>"
      ]
     },
     "metadata": {
      "needs_background": "light"
     },
     "output_type": "display_data"
    }
   ],
   "source": [
    "len_random_requester_subreddits_at_request_1 = []\n",
    "for r1 in requester_subreddits_at_request_1:\n",
    "    len_random_requester_subreddits_at_request_1.append(len([r for r in r1 if \"Random\" in r]))\n",
    "    \n",
    "    \n",
    "len_random_requester_subreddits_at_request_0 = []\n",
    "for r0 in requester_subreddits_at_request_0:\n",
    "    len_random_requester_subreddits_at_request_0.append(len([r for r in r0 if \"Random\" in r]))\n",
    "\n",
    "set_to_plot = [len_requester_subreddits_at_request_1, len_requester_subreddits_at_request_0]\n",
    "\n",
    "labels = train_data['requester_received_pizza'].unique()\n",
    "\n",
    "plt.boxplot(set_to_plot, labels=labels)"
   ]
  },
  {
   "cell_type": "code",
   "execution_count": 15,
   "metadata": {},
   "outputs": [
    {
     "data": {
      "text/plain": [
       "0.6016096579476862"
      ]
     },
     "execution_count": 15,
     "metadata": {},
     "output_type": "execute_result"
    }
   ],
   "source": [
    "np.mean(len_random_requester_subreddits_at_request_1)"
   ]
  },
  {
   "cell_type": "code",
   "execution_count": 16,
   "metadata": {},
   "outputs": [
    {
     "data": {
      "text/plain": [
       "0.46224556795797767"
      ]
     },
     "execution_count": 16,
     "metadata": {},
     "output_type": "execute_result"
    }
   ],
   "source": [
    "np.mean(len_random_requester_subreddits_at_request_0)"
   ]
  },
  {
   "cell_type": "markdown",
   "metadata": {},
   "source": [
    "Relationship between activity in \"Random_Acts_Of_Pizza\" subreddits and altruism"
   ]
  },
  {
   "cell_type": "code",
   "execution_count": 17,
   "metadata": {},
   "outputs": [
    {
     "data": {
      "text/plain": [
       "{'whiskers': [<matplotlib.lines.Line2D at 0x7fc9d5f86910>,\n",
       "  <matplotlib.lines.Line2D at 0x7fc9d5f8f190>,\n",
       "  <matplotlib.lines.Line2D at 0x7fc9d5fb2650>,\n",
       "  <matplotlib.lines.Line2D at 0x7fc9d5fb7c10>],\n",
       " 'caps': [<matplotlib.lines.Line2D at 0x7fc9d5f93810>,\n",
       "  <matplotlib.lines.Line2D at 0x7fc9d5f99d90>,\n",
       "  <matplotlib.lines.Line2D at 0x7fc9d5fbbe90>,\n",
       "  <matplotlib.lines.Line2D at 0x7fc9d5fc1850>],\n",
       " 'boxes': [<matplotlib.lines.Line2D at 0x7fc9d5f81c90>,\n",
       "  <matplotlib.lines.Line2D at 0x7fc9d5faa590>],\n",
       " 'medians': [<matplotlib.lines.Line2D at 0x7fc9d5f9bd50>,\n",
       "  <matplotlib.lines.Line2D at 0x7fc9d5fc6a10>],\n",
       " 'fliers': [<matplotlib.lines.Line2D at 0x7fc9d5fa1b90>,\n",
       "  <matplotlib.lines.Line2D at 0x7fc9d5fcba50>],\n",
       " 'means': []}"
      ]
     },
     "execution_count": 17,
     "metadata": {},
     "output_type": "execute_result"
    },
    {
     "data": {
      "image/png": "[encoded data removed]",
      "text/plain": [
       "<Figure size 432x288 with 1 Axes>"
      ]
     },
     "metadata": {
      "needs_background": "light"
     },
     "output_type": "display_data"
    }
   ],
   "source": [
    "len_random_requester_subreddits_at_request_1 = []\n",
    "for r1 in requester_subreddits_at_request_1:\n",
    "    len_random_requester_subreddits_at_request_1.append(len([r for r in r1 if \"Random_Acts_Of_Pizza\" in r]))\n",
    "    \n",
    "len_random_requester_subreddits_at_request_0 = []\n",
    "for r0 in requester_subreddits_at_request_0:\n",
    "    len_random_requester_subreddits_at_request_0.append(len([r for r in r0 if \"Random_Acts_Of_Pizza\" in r]))\n",
    "\n",
    "set_to_plot = [len_requester_subreddits_at_request_1, len_requester_subreddits_at_request_0]\n",
    "\n",
    "labels = train_data['requester_received_pizza'].unique()\n",
    "\n",
    "plt.boxplot(set_to_plot, labels=labels)"
   ]
  },
  {
   "cell_type": "markdown",
   "metadata": {},
   "source": [
    "### requester_upvotes_minus_downvotes_at_request"
   ]
  },
  {
   "cell_type": "code",
   "execution_count": 18,
   "metadata": {},
   "outputs": [
    {
     "name": "stdout",
     "output_type": "stream",
     "text": [
      "0          0\n",
      "1         34\n",
      "2          0\n",
      "3         54\n",
      "4       1121\n",
      "        ... \n",
      "4034     119\n",
      "4035       0\n",
      "4037    1252\n",
      "4038       5\n",
      "4039    3212\n",
      "Name: requester_upvotes_minus_downvotes_at_request, Length: 3046, dtype: int64\n"
     ]
    },
    {
     "data": {
      "text/plain": [
       "{'whiskers': [<matplotlib.lines.Line2D at 0x7fc9d68ea810>,\n",
       "  <matplotlib.lines.Line2D at 0x7fc9d68f5dd0>,\n",
       "  <matplotlib.lines.Line2D at 0x7fc9d691d2d0>,\n",
       "  <matplotlib.lines.Line2D at 0x7fc9d691ded0>],\n",
       " 'caps': [<matplotlib.lines.Line2D at 0x7fc9d68fd610>,\n",
       "  <matplotlib.lines.Line2D at 0x7fc9d6907750>,\n",
       "  <matplotlib.lines.Line2D at 0x7fc9d6923c10>,\n",
       "  <matplotlib.lines.Line2D at 0x7fc9d6929cd0>],\n",
       " 'boxes': [<matplotlib.lines.Line2D at 0x7fc9d68ea0d0>,\n",
       "  <matplotlib.lines.Line2D at 0x7fc9d69175d0>],\n",
       " 'medians': [<matplotlib.lines.Line2D at 0x7fc9d690a250>,\n",
       "  <matplotlib.lines.Line2D at 0x7fc9d692df50>],\n",
       " 'fliers': [<matplotlib.lines.Line2D at 0x7fc9d690e410>,\n",
       "  <matplotlib.lines.Line2D at 0x7fc9d6938850>],\n",
       " 'means': []}"
      ]
     },
     "execution_count": 18,
     "metadata": {},
     "output_type": "execute_result"
    },
    {
     "data": {
      "image/png": "[encoded data removed]",
      "text/plain": [
       "<Figure size 864x504 with 1 Axes>"
      ]
     },
     "metadata": {
      "needs_background": "light"
     },
     "output_type": "display_data"
    }
   ],
   "source": [
    "requester_upvotes_minus_downvotes_at_request_1 = train_data[train_data['requester_received_pizza'] == True]['requester_upvotes_minus_downvotes_at_request']\n",
    "requester_upvotes_minus_downvotes_at_request_0 = train_data[train_data['requester_received_pizza'] == False]['requester_upvotes_minus_downvotes_at_request']\n",
    "\n",
    "print(requester_upvotes_minus_downvotes_at_request_0)\n",
    "\n",
    "set_to_plot = [requester_upvotes_minus_downvotes_at_request_1, requester_upvotes_minus_downvotes_at_request_0]\n",
    "\n",
    "labels = train_data['requester_received_pizza'].unique()\n",
    "\n",
    "fig, ax = plt.subplots(figsize=(12, 7))\n",
    "ax.boxplot(set_to_plot, labels=labels)"
   ]
  },
  {
   "cell_type": "code",
   "execution_count": 46,
   "metadata": {},
   "outputs": [
    {
     "name": "stdout",
     "output_type": "stream",
     "text": [
      "994\n",
      "994\n",
      "3046\n",
      "3046\n"
     ]
    }
   ],
   "source": [
    "requester_upvotes_minus_downvotes_at_request_1 = train_data[train_data['requester_received_pizza'] == True]['requester_upvotes_minus_downvotes_at_request']\n",
    "requester_upvotes_minus_downvotes_at_request_0 = train_data[train_data['requester_received_pizza'] == False]['requester_upvotes_minus_downvotes_at_request']\n",
    "print(len(requester_upvotes_minus_downvotes_at_request_1))\n",
    "#removing outliers\n",
    "z = np.abs(stats.zscore(requester_upvotes_minus_downvotes_at_request_1))\n",
    "#print(z)\n",
    "requester_upvotes_minus_downvotes_at_request_1_removed_outliers = requester_upvotes_minus_downvotes_at_request_1.where(z < 2)\n",
    "print(len(requester_upvotes_minus_downvotes_at_request_1_removed_outliers))\n",
    "\n",
    "print(len(requester_upvotes_minus_downvotes_at_request_0))\n",
    "#removing outliers\n",
    "z = np.abs(stats.zscore(requester_upvotes_minus_downvotes_at_request_0))\n",
    "#print(z)\n",
    "requester_upvotes_minus_downvotes_at_request_0_removed_outliers = requester_upvotes_minus_downvotes_at_request_0.where(z < 2)\n",
    "print(len(requester_upvotes_minus_downvotes_at_request_0_removed_outliers))"
   ]
  },
  {
   "cell_type": "code",
   "execution_count": 19,
   "metadata": {},
   "outputs": [
    {
     "data": {
      "text/plain": [
       "1372.0603621730381"
      ]
     },
     "execution_count": 19,
     "metadata": {},
     "output_type": "execute_result"
    }
   ],
   "source": [
    "np.mean(requester_upvotes_minus_downvotes_at_request_1)"
   ]
  },
  {
   "cell_type": "code",
   "execution_count": 20,
   "metadata": {},
   "outputs": [
    {
     "data": {
      "text/plain": [
       "1090.9044648719632"
      ]
     },
     "execution_count": 20,
     "metadata": {},
     "output_type": "execute_result"
    }
   ],
   "source": [
    "np.mean(requester_upvotes_minus_downvotes_at_request_0)"
   ]
  },
  {
   "cell_type": "markdown",
   "metadata": {},
   "source": [
    "### requester_upvotes_minus_downvotes_at_retrieval"
   ]
  },
  {
   "cell_type": "code",
   "execution_count": 21,
   "metadata": {},
   "outputs": [
    {
     "name": "stdout",
     "output_type": "stream",
     "text": [
      "0          1\n",
      "1       4258\n",
      "2          3\n",
      "3         59\n",
      "4       1225\n",
      "        ... \n",
      "4034    7460\n",
      "4035       4\n",
      "4037    1327\n",
      "4038      13\n",
      "4039    3616\n",
      "Name: requester_upvotes_minus_downvotes_at_retrieval, Length: 3046, dtype: int64\n"
     ]
    },
    {
     "data": {
      "text/plain": [
       "{'whiskers': [<matplotlib.lines.Line2D at 0x7fc9d6a4af50>,\n",
       "  <matplotlib.lines.Line2D at 0x7fc9d6a51410>,\n",
       "  <matplotlib.lines.Line2D at 0x7fc9d6a71e90>,\n",
       "  <matplotlib.lines.Line2D at 0x7fc9d6a77850>],\n",
       " 'caps': [<matplotlib.lines.Line2D at 0x7fc9d6a55290>,\n",
       "  <matplotlib.lines.Line2D at 0x7fc9d6a5c4d0>,\n",
       "  <matplotlib.lines.Line2D at 0x7fc9d6a7bad0>,\n",
       "  <matplotlib.lines.Line2D at 0x7fc9d6a83710>],\n",
       " 'boxes': [<matplotlib.lines.Line2D at 0x7fc9d6a429d0>,\n",
       "  <matplotlib.lines.Line2D at 0x7fc9d6a6dc50>],\n",
       " 'medians': [<matplotlib.lines.Line2D at 0x7fc9d6a60390>,\n",
       "  <matplotlib.lines.Line2D at 0x7fc9d6a83f90>],\n",
       " 'fliers': [<matplotlib.lines.Line2D at 0x7fc9d6a64d90>,\n",
       "  <matplotlib.lines.Line2D at 0x7fc9d6a8c610>],\n",
       " 'means': []}"
      ]
     },
     "execution_count": 21,
     "metadata": {},
     "output_type": "execute_result"
    },
    {
     "data": {
      "image/png": "[encoded data removed]",
      "text/plain": [
       "<Figure size 864x504 with 1 Axes>"
      ]
     },
     "metadata": {
      "needs_background": "light"
     },
     "output_type": "display_data"
    }
   ],
   "source": [
    "requester_upvotes_minus_downvotes_at_retrieval_1 = train_data[train_data['requester_received_pizza'] == True]['requester_upvotes_minus_downvotes_at_retrieval']\n",
    "requester_upvotes_minus_downvotes_at_retrieval_0 = train_data[train_data['requester_received_pizza'] == False]['requester_upvotes_minus_downvotes_at_retrieval']\n",
    "\n",
    "print(requester_upvotes_minus_downvotes_at_retrieval_0)\n",
    "\n",
    "set_to_plot = [requester_upvotes_minus_downvotes_at_retrieval_1, requester_upvotes_minus_downvotes_at_retrieval_0]\n",
    "\n",
    "labels = train_data['requester_received_pizza'].unique()\n",
    "\n",
    "fig, ax = plt.subplots(figsize=(12, 7))\n",
    "ax.boxplot(set_to_plot, labels=labels)"
   ]
  },
  {
   "cell_type": "code",
   "execution_count": 22,
   "metadata": {},
   "outputs": [
    {
     "data": {
      "text/plain": [
       "3572.609657947686"
      ]
     },
     "execution_count": 22,
     "metadata": {},
     "output_type": "execute_result"
    }
   ],
   "source": [
    "np.mean(requester_upvotes_minus_downvotes_at_retrieval_1)"
   ]
  },
  {
   "cell_type": "code",
   "execution_count": 23,
   "metadata": {},
   "outputs": [
    {
     "data": {
      "text/plain": [
       "2442.2219304005253"
      ]
     },
     "execution_count": 23,
     "metadata": {},
     "output_type": "execute_result"
    }
   ],
   "source": [
    "np.mean(requester_upvotes_minus_downvotes_at_retrieval_0)"
   ]
  },
  {
   "cell_type": "markdown",
   "metadata": {},
   "source": [
    "### requester_upvotes_plus_downvotes_at_request"
   ]
  },
  {
   "cell_type": "code",
   "execution_count": 24,
   "metadata": {},
   "outputs": [
    {
     "data": {
      "text/plain": [
       "{'whiskers': [<matplotlib.lines.Line2D at 0x7fc9d6b4db50>,\n",
       "  <matplotlib.lines.Line2D at 0x7fc9d6b54f10>,\n",
       "  <matplotlib.lines.Line2D at 0x7fc9d6b77f10>,\n",
       "  <matplotlib.lines.Line2D at 0x7fc9d6b799d0>],\n",
       " 'caps': [<matplotlib.lines.Line2D at 0x7fc9d6b57750>,\n",
       "  <matplotlib.lines.Line2D at 0x7fc9d6b5f290>,\n",
       "  <matplotlib.lines.Line2D at 0x7fc9d6b83850>,\n",
       "  <matplotlib.lines.Line2D at 0x7fc9d6b8bc50>],\n",
       " 'boxes': [<matplotlib.lines.Line2D at 0x7fc9d6b4d2d0>,\n",
       "  <matplotlib.lines.Line2D at 0x7fc9d6b6e8d0>],\n",
       " 'medians': [<matplotlib.lines.Line2D at 0x7fc9d6b65610>,\n",
       "  <matplotlib.lines.Line2D at 0x7fc9d6b90050>],\n",
       " 'fliers': [<matplotlib.lines.Line2D at 0x7fc9d6b6b190>,\n",
       "  <matplotlib.lines.Line2D at 0x7fc9d6b94e10>],\n",
       " 'means': []}"
      ]
     },
     "execution_count": 24,
     "metadata": {},
     "output_type": "execute_result"
    },
    {
     "data": {
      "image/png": "[encoded data removed]",
      "text/plain": [
       "<Figure size 864x504 with 1 Axes>"
      ]
     },
     "metadata": {
      "needs_background": "light"
     },
     "output_type": "display_data"
    }
   ],
   "source": [
    "requester_upvotes_plus_downvotes_at_request_1 = train_data[train_data['requester_received_pizza'] == True]['requester_upvotes_plus_downvotes_at_request']\n",
    "requester_upvotes_plus_downvotes_at_request_0 = train_data[train_data['requester_received_pizza'] == False]['requester_upvotes_plus_downvotes_at_request']\n",
    "\n",
    "set_to_plot = [requester_upvotes_plus_downvotes_at_request_1, requester_upvotes_plus_downvotes_at_request_0]\n",
    "\n",
    "labels = train_data['requester_received_pizza'].unique()\n",
    "\n",
    "fig, ax = plt.subplots(figsize=(12, 7))\n",
    "ax.boxplot(set_to_plot, labels=labels)"
   ]
  },
  {
   "cell_type": "code",
   "execution_count": 25,
   "metadata": {},
   "outputs": [
    {
     "data": {
      "text/plain": [
       "4923.7002012072435"
      ]
     },
     "execution_count": 25,
     "metadata": {},
     "output_type": "execute_result"
    }
   ],
   "source": [
    "np.mean(requester_upvotes_plus_downvotes_at_request_1)"
   ]
  },
  {
   "cell_type": "code",
   "execution_count": 26,
   "metadata": {},
   "outputs": [
    {
     "data": {
      "text/plain": [
       "3358.015430072226"
      ]
     },
     "execution_count": 26,
     "metadata": {},
     "output_type": "execute_result"
    }
   ],
   "source": [
    "np.mean(requester_upvotes_plus_downvotes_at_request_0)"
   ]
  },
  {
   "cell_type": "markdown",
   "metadata": {},
   "source": [
    "### requester_upvotes_plus_downvotes_at_retrieval"
   ]
  },
  {
   "cell_type": "code",
   "execution_count": 27,
   "metadata": {},
   "outputs": [
    {
     "data": {
      "text/plain": [
       "{'whiskers': [<matplotlib.lines.Line2D at 0x7fc9d6c945d0>,\n",
       "  <matplotlib.lines.Line2D at 0x7fc9d6c99390>,\n",
       "  <matplotlib.lines.Line2D at 0x7fc9d6cba7d0>,\n",
       "  <matplotlib.lines.Line2D at 0x7fc9d6cbddd0>],\n",
       " 'caps': [<matplotlib.lines.Line2D at 0x7fc9d6c9da10>,\n",
       "  <matplotlib.lines.Line2D at 0x7fc9d6ca0a90>,\n",
       "  <matplotlib.lines.Line2D at 0x7fc9d6cc6190>,\n",
       "  <matplotlib.lines.Line2D at 0x7fc9d6ccacd0>],\n",
       " 'boxes': [<matplotlib.lines.Line2D at 0x7fc9d6c8f050>,\n",
       "  <matplotlib.lines.Line2D at 0x7fc9d6cb6290>],\n",
       " 'medians': [<matplotlib.lines.Line2D at 0x7fc9d6ca8910>,\n",
       "  <matplotlib.lines.Line2D at 0x7fc9d6cd1550>],\n",
       " 'fliers': [<matplotlib.lines.Line2D at 0x7fc9d6caed90>,\n",
       "  <matplotlib.lines.Line2D at 0x7fc9d6cd4490>],\n",
       " 'means': []}"
      ]
     },
     "execution_count": 27,
     "metadata": {},
     "output_type": "execute_result"
    },
    {
     "data": {
      "image/png": "[encoded data removed]",
      "text/plain": [
       "<Figure size 864x504 with 1 Axes>"
      ]
     },
     "metadata": {
      "needs_background": "light"
     },
     "output_type": "display_data"
    }
   ],
   "source": [
    "requester_upvotes_plus_downvotes_at_retrieval_1 = train_data[train_data['requester_received_pizza'] == True]['requester_upvotes_plus_downvotes_at_retrieval']\n",
    "requester_upvotes_plus_downvotes_at_retrieval_0 = train_data[train_data['requester_received_pizza'] == False]['requester_upvotes_plus_downvotes_at_retrieval']\n",
    "\n",
    "set_to_plot = [requester_upvotes_plus_downvotes_at_retrieval_1, requester_upvotes_plus_downvotes_at_retrieval_0]\n",
    "\n",
    "labels = train_data['requester_received_pizza'].unique()\n",
    "\n",
    "fig, ax = plt.subplots(figsize=(12, 7))\n",
    "ax.boxplot(set_to_plot, labels=labels)"
   ]
  },
  {
   "cell_type": "code",
   "execution_count": 28,
   "metadata": {},
   "outputs": [
    {
     "data": {
      "text/plain": [
       "10941.207243460765"
      ]
     },
     "execution_count": 28,
     "metadata": {},
     "output_type": "execute_result"
    }
   ],
   "source": [
    "np.mean(requester_upvotes_plus_downvotes_at_retrieval_1)"
   ]
  },
  {
   "cell_type": "code",
   "execution_count": 29,
   "metadata": {},
   "outputs": [
    {
     "data": {
      "text/plain": [
       "6759.106369008536"
      ]
     },
     "execution_count": 29,
     "metadata": {},
     "output_type": "execute_result"
    }
   ],
   "source": [
    "np.mean(requester_upvotes_plus_downvotes_at_retrieval_0)"
   ]
  },
  {
   "cell_type": "code",
   "execution_count": null,
   "metadata": {},
   "outputs": [],
   "source": []
  }
 ],
 "metadata": {
  "kernelspec": {
   "display_name": "Python 3",
   "language": "python",
   "name": "python3"
  },
  "language_info": {
   "codemirror_mode": {
    "name": "ipython",
    "version": 3
   },
   "file_extension": ".py",
   "mimetype": "text/x-python",
   "name": "python",
   "nbconvert_exporter": "python",
   "pygments_lexer": "ipython3",
   "version": "3.7.7"
  }
 },
 "nbformat": 4,
 "nbformat_minor": 4
}
