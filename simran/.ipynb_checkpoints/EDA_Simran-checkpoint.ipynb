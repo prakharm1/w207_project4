{
 "cells": [
  {
   "cell_type": "code",
   "execution_count": 1,
   "metadata": {},
   "outputs": [],
   "source": [
    "import pandas as pd\n",
    "import numpy as np\n",
    "import json \n",
    "import matplotlib.pyplot as plt\n",
    "from datetime import datetime"
   ]
  },
  {
   "cell_type": "code",
   "execution_count": 3,
   "metadata": {},
   "outputs": [],
   "source": [
    "with open('train.json') as f:\n",
    "  train_json_df = json.load(f)"
   ]
  },
  {
   "cell_type": "code",
   "execution_count": 4,
   "metadata": {},
   "outputs": [
    {
     "name": "stderr",
     "output_type": "stream",
     "text": [
      "<ipython-input-4-6ae5475da184>:1: FutureWarning: pandas.io.json.json_normalize is deprecated, use pandas.json_normalize instead\n",
      "  train_df = pd.io.json.json_normalize(train_json_df)\n"
     ]
    }
   ],
   "source": [
    "train_df = pd.io.json.json_normalize(train_json_df) "
   ]
  },
  {
   "cell_type": "code",
   "execution_count": 5,
   "metadata": {},
   "outputs": [],
   "source": [
    "sim_cols = ['requester_days_since_first_post_on_raop_at_request',\n",
    "          'requester_days_since_first_post_on_raop_at_retrieval',\n",
    "         'requester_number_of_comments_at_request', \n",
    "         'requester_number_of_comments_at_retrieval',\n",
    "         'requester_username',\n",
    "          'requester_user_flair',\n",
    "         'unix_timestamp_of_request',\n",
    "         'unix_timestamp_of_request_utc']"
   ]
  },
  {
   "cell_type": "code",
   "execution_count": 6,
   "metadata": {},
   "outputs": [
    {
     "data": {
      "text/html": [
       "<div>\n",
       "<style scoped>\n",
       "    .dataframe tbody tr th:only-of-type {\n",
       "        vertical-align: middle;\n",
       "    }\n",
       "\n",
       "    .dataframe tbody tr th {\n",
       "        vertical-align: top;\n",
       "    }\n",
       "\n",
       "    .dataframe thead th {\n",
       "        text-align: right;\n",
       "    }\n",
       "</style>\n",
       "<table border=\"1\" class=\"dataframe\">\n",
       "  <thead>\n",
       "    <tr style=\"text-align: right;\">\n",
       "      <th></th>\n",
       "      <th>requester_days_since_first_post_on_raop_at_request</th>\n",
       "      <th>requester_days_since_first_post_on_raop_at_retrieval</th>\n",
       "      <th>requester_number_of_comments_at_request</th>\n",
       "      <th>requester_number_of_comments_at_retrieval</th>\n",
       "      <th>unix_timestamp_of_request</th>\n",
       "      <th>unix_timestamp_of_request_utc</th>\n",
       "    </tr>\n",
       "  </thead>\n",
       "  <tbody>\n",
       "    <tr>\n",
       "      <th>count</th>\n",
       "      <td>4040.000000</td>\n",
       "      <td>4040.000000</td>\n",
       "      <td>4040.000000</td>\n",
       "      <td>4040.000000</td>\n",
       "      <td>4.040000e+03</td>\n",
       "      <td>4.040000e+03</td>\n",
       "    </tr>\n",
       "    <tr>\n",
       "      <th>mean</th>\n",
       "      <td>16.417034</td>\n",
       "      <td>518.993205</td>\n",
       "      <td>115.098267</td>\n",
       "      <td>289.425743</td>\n",
       "      <td>1.342829e+09</td>\n",
       "      <td>1.342826e+09</td>\n",
       "    </tr>\n",
       "    <tr>\n",
       "      <th>std</th>\n",
       "      <td>70.651428</td>\n",
       "      <td>267.872623</td>\n",
       "      <td>193.318968</td>\n",
       "      <td>357.416133</td>\n",
       "      <td>2.333057e+07</td>\n",
       "      <td>2.332989e+07</td>\n",
       "    </tr>\n",
       "    <tr>\n",
       "      <th>min</th>\n",
       "      <td>0.000000</td>\n",
       "      <td>0.000000</td>\n",
       "      <td>0.000000</td>\n",
       "      <td>0.000000</td>\n",
       "      <td>1.297723e+09</td>\n",
       "      <td>1.297723e+09</td>\n",
       "    </tr>\n",
       "    <tr>\n",
       "      <th>25%</th>\n",
       "      <td>0.000000</td>\n",
       "      <td>279.009051</td>\n",
       "      <td>0.000000</td>\n",
       "      <td>8.000000</td>\n",
       "      <td>1.320469e+09</td>\n",
       "      <td>1.320466e+09</td>\n",
       "    </tr>\n",
       "    <tr>\n",
       "      <th>50%</th>\n",
       "      <td>0.000000</td>\n",
       "      <td>528.781939</td>\n",
       "      <td>24.000000</td>\n",
       "      <td>114.000000</td>\n",
       "      <td>1.342565e+09</td>\n",
       "      <td>1.342561e+09</td>\n",
       "    </tr>\n",
       "    <tr>\n",
       "      <th>75%</th>\n",
       "      <td>0.000000</td>\n",
       "      <td>776.226670</td>\n",
       "      <td>140.250000</td>\n",
       "      <td>479.000000</td>\n",
       "      <td>1.364618e+09</td>\n",
       "      <td>1.364614e+09</td>\n",
       "    </tr>\n",
       "    <tr>\n",
       "      <th>max</th>\n",
       "      <td>785.457685</td>\n",
       "      <td>1025.407593</td>\n",
       "      <td>994.000000</td>\n",
       "      <td>1000.000000</td>\n",
       "      <td>1.381552e+09</td>\n",
       "      <td>1.381523e+09</td>\n",
       "    </tr>\n",
       "  </tbody>\n",
       "</table>\n",
       "</div>"
      ],
      "text/plain": [
       "       requester_days_since_first_post_on_raop_at_request  \\\n",
       "count                                        4040.000000    \n",
       "mean                                           16.417034    \n",
       "std                                            70.651428    \n",
       "min                                             0.000000    \n",
       "25%                                             0.000000    \n",
       "50%                                             0.000000    \n",
       "75%                                             0.000000    \n",
       "max                                           785.457685    \n",
       "\n",
       "       requester_days_since_first_post_on_raop_at_retrieval  \\\n",
       "count                                        4040.000000      \n",
       "mean                                          518.993205      \n",
       "std                                           267.872623      \n",
       "min                                             0.000000      \n",
       "25%                                           279.009051      \n",
       "50%                                           528.781939      \n",
       "75%                                           776.226670      \n",
       "max                                          1025.407593      \n",
       "\n",
       "       requester_number_of_comments_at_request  \\\n",
       "count                              4040.000000   \n",
       "mean                                115.098267   \n",
       "std                                 193.318968   \n",
       "min                                   0.000000   \n",
       "25%                                   0.000000   \n",
       "50%                                  24.000000   \n",
       "75%                                 140.250000   \n",
       "max                                 994.000000   \n",
       "\n",
       "       requester_number_of_comments_at_retrieval  unix_timestamp_of_request  \\\n",
       "count                                4040.000000               4.040000e+03   \n",
       "mean                                  289.425743               1.342829e+09   \n",
       "std                                   357.416133               2.333057e+07   \n",
       "min                                     0.000000               1.297723e+09   \n",
       "25%                                     8.000000               1.320469e+09   \n",
       "50%                                   114.000000               1.342565e+09   \n",
       "75%                                   479.000000               1.364618e+09   \n",
       "max                                  1000.000000               1.381552e+09   \n",
       "\n",
       "       unix_timestamp_of_request_utc  \n",
       "count                   4.040000e+03  \n",
       "mean                    1.342826e+09  \n",
       "std                     2.332989e+07  \n",
       "min                     1.297723e+09  \n",
       "25%                     1.320466e+09  \n",
       "50%                     1.342561e+09  \n",
       "75%                     1.364614e+09  \n",
       "max                     1.381523e+09  "
      ]
     },
     "execution_count": 6,
     "metadata": {},
     "output_type": "execute_result"
    }
   ],
   "source": [
    "train_df[sim_cols].describe()"
   ]
  },
  {
   "cell_type": "code",
   "execution_count": 7,
   "metadata": {},
   "outputs": [
    {
     "name": "stdout",
     "output_type": "stream",
     "text": [
      "<class 'pandas.core.frame.DataFrame'>\n",
      "RangeIndex: 4040 entries, 0 to 4039\n",
      "Data columns (total 8 columns):\n",
      " #   Column                                                Non-Null Count  Dtype  \n",
      "---  ------                                                --------------  -----  \n",
      " 0   requester_days_since_first_post_on_raop_at_request    4040 non-null   float64\n",
      " 1   requester_days_since_first_post_on_raop_at_retrieval  4040 non-null   float64\n",
      " 2   requester_number_of_comments_at_request               4040 non-null   int64  \n",
      " 3   requester_number_of_comments_at_retrieval             4040 non-null   int64  \n",
      " 4   requester_username                                    4040 non-null   object \n",
      " 5   requester_user_flair                                  994 non-null    object \n",
      " 6   unix_timestamp_of_request                             4040 non-null   float64\n",
      " 7   unix_timestamp_of_request_utc                         4040 non-null   float64\n",
      "dtypes: float64(4), int64(2), object(2)\n",
      "memory usage: 252.6+ KB\n"
     ]
    }
   ],
   "source": [
    "train_df[sim_cols].info()"
   ]
  },
  {
   "cell_type": "markdown",
   "metadata": {},
   "source": [
    "Summary:\n",
    "- Number of comments on Reddit are higher at retrieval than at requester\n",
    "- Requester username & requester user flair is a text field \n",
    "- only field with nulls is \"requester_user_flair\""
   ]
  },
  {
   "cell_type": "markdown",
   "metadata": {},
   "source": [
    "# Colname: requester_days_since_first_post_on_raop_at_request"
   ]
  },
  {
   "cell_type": "code",
   "execution_count": 8,
   "metadata": {},
   "outputs": [
    {
     "data": {
      "text/plain": [
       "<matplotlib.axes._subplots.AxesSubplot at 0x7f9bc1870040>"
      ]
     },
     "execution_count": 8,
     "metadata": {},
     "output_type": "execute_result"
    },
    {
     "data": {
      "image/png": "[encoded data removed]",
      "text/plain": [
       "<Figure size 432x288 with 1 Axes>"
      ]
     },
     "metadata": {
      "needs_background": "light"
     },
     "output_type": "display_data"
    }
   ],
   "source": [
    "train_df['requester_days_since_first_post_on_raop_at_request'].plot(kind='bar')"
   ]
  },
  {
   "cell_type": "code",
   "execution_count": 92,
   "metadata": {},
   "outputs": [
    {
     "data": {
      "text/plain": [
       "<matplotlib.axes._subplots.AxesSubplot at 0x7f922f3862b0>"
      ]
     },
     "execution_count": 92,
     "metadata": {},
     "output_type": "execute_result"
    },
    {
     "data": {
      "image/png": "[encoded data removed]",
      "text/plain": [
       "<Figure size 432x288 with 1 Axes>"
      ]
     },
     "metadata": {
      "needs_background": "light"
     },
     "output_type": "display_data"
    }
   ],
   "source": [
    "train_df['requester_days_since_first_post_on_raop_at_request_bins'] = pd.cut(train_df['requester_days_since_first_post_on_raop_at_request'],\n",
    "                                                                 5)\n",
    "train_df['requester_days_since_first_post_on_raop_at_request_bins'].value_counts().plot(kind='bar')"
   ]
  },
  {
   "cell_type": "code",
   "execution_count": 47,
   "metadata": {},
   "outputs": [
    {
     "data": {
      "text/html": [
       "<div>\n",
       "<style scoped>\n",
       "    .dataframe tbody tr th:only-of-type {\n",
       "        vertical-align: middle;\n",
       "    }\n",
       "\n",
       "    .dataframe tbody tr th {\n",
       "        vertical-align: top;\n",
       "    }\n",
       "\n",
       "    .dataframe thead th {\n",
       "        text-align: right;\n",
       "    }\n",
       "</style>\n",
       "<table border=\"1\" class=\"dataframe\">\n",
       "  <thead>\n",
       "    <tr style=\"text-align: right;\">\n",
       "      <th></th>\n",
       "      <th>requester_days_since_first_post_on_raop_at_request_bins</th>\n",
       "    </tr>\n",
       "  </thead>\n",
       "  <tbody>\n",
       "    <tr>\n",
       "      <th>(-0.785, 157.092]</th>\n",
       "      <td>0.966337</td>\n",
       "    </tr>\n",
       "    <tr>\n",
       "      <th>(157.092, 314.183]</th>\n",
       "      <td>0.017079</td>\n",
       "    </tr>\n",
       "    <tr>\n",
       "      <th>(314.183, 471.275]</th>\n",
       "      <td>0.009406</td>\n",
       "    </tr>\n",
       "    <tr>\n",
       "      <th>(471.275, 628.366]</th>\n",
       "      <td>0.004208</td>\n",
       "    </tr>\n",
       "    <tr>\n",
       "      <th>(628.366, 785.458]</th>\n",
       "      <td>0.002970</td>\n",
       "    </tr>\n",
       "  </tbody>\n",
       "</table>\n",
       "</div>"
      ],
      "text/plain": [
       "                    requester_days_since_first_post_on_raop_at_request_bins\n",
       "(-0.785, 157.092]                                            0.966337      \n",
       "(157.092, 314.183]                                           0.017079      \n",
       "(314.183, 471.275]                                           0.009406      \n",
       "(471.275, 628.366]                                           0.004208      \n",
       "(628.366, 785.458]                                           0.002970      "
      ]
     },
     "execution_count": 47,
     "metadata": {},
     "output_type": "execute_result"
    }
   ],
   "source": [
    "pd.DataFrame(train_df['requester_days_since_first_post_on_raop_at_request_bins'].value_counts()/len(train_df))"
   ]
  },
  {
   "cell_type": "code",
   "execution_count": 9,
   "metadata": {},
   "outputs": [
    {
     "name": "stderr",
     "output_type": "stream",
     "text": [
      "/Users/simranbhatia/opt/anaconda3/lib/python3.8/site-packages/pandas/core/series.py:679: RuntimeWarning: divide by zero encountered in log\n",
      "  result = getattr(ufunc, method)(*inputs, **kwargs)\n"
     ]
    },
    {
     "data": {
      "text/plain": [
       "<matplotlib.axes._subplots.AxesSubplot at 0x7f9ba6afafa0>"
      ]
     },
     "execution_count": 9,
     "metadata": {},
     "output_type": "execute_result"
    },
    {
     "data": {
      "image/png": "[encoded data removed]",
      "text/plain": [
       "<Figure size 432x288 with 1 Axes>"
      ]
     },
     "metadata": {
      "needs_background": "light"
     },
     "output_type": "display_data"
    }
   ],
   "source": [
    "# transform variable to be log based\n",
    "np.log(train_df['requester_days_since_first_post_on_raop_at_request']).plot(kind='bar')"
   ]
  },
  {
   "cell_type": "markdown",
   "metadata": {},
   "source": [
    "Summary:\n",
    "- No null values, but majority of values between (-0.785 and 157). The negative value in this is confusing but it could be an outlier, should be ignored in analysis. Can build better buckets to understand this downward trend."
   ]
  },
  {
   "cell_type": "code",
   "execution_count": 88,
   "metadata": {},
   "outputs": [
    {
     "data": {
      "text/html": [
       "<div>\n",
       "<style scoped>\n",
       "    .dataframe tbody tr th:only-of-type {\n",
       "        vertical-align: middle;\n",
       "    }\n",
       "\n",
       "    .dataframe tbody tr th {\n",
       "        vertical-align: top;\n",
       "    }\n",
       "\n",
       "    .dataframe thead th {\n",
       "        text-align: right;\n",
       "    }\n",
       "</style>\n",
       "<table border=\"1\" class=\"dataframe\">\n",
       "  <thead>\n",
       "    <tr style=\"text-align: right;\">\n",
       "      <th>requester_days_since_first_post_on_raop_at_request_bins</th>\n",
       "      <th>(-0.785, 157.092]</th>\n",
       "      <th>(157.092, 314.183]</th>\n",
       "      <th>(314.183, 471.275]</th>\n",
       "      <th>(471.275, 628.366]</th>\n",
       "      <th>(628.366, 785.458]</th>\n",
       "    </tr>\n",
       "    <tr>\n",
       "      <th>requester_received_pizza</th>\n",
       "      <th></th>\n",
       "      <th></th>\n",
       "      <th></th>\n",
       "      <th></th>\n",
       "      <th></th>\n",
       "    </tr>\n",
       "  </thead>\n",
       "  <tbody>\n",
       "    <tr>\n",
       "      <th>False</th>\n",
       "      <td>2967</td>\n",
       "      <td>47</td>\n",
       "      <td>18</td>\n",
       "      <td>8</td>\n",
       "      <td>6</td>\n",
       "    </tr>\n",
       "    <tr>\n",
       "      <th>True</th>\n",
       "      <td>937</td>\n",
       "      <td>22</td>\n",
       "      <td>20</td>\n",
       "      <td>9</td>\n",
       "      <td>6</td>\n",
       "    </tr>\n",
       "  </tbody>\n",
       "</table>\n",
       "</div>"
      ],
      "text/plain": [
       "requester_days_since_first_post_on_raop_at_request_bins  (-0.785, 157.092]  \\\n",
       "requester_received_pizza                                                     \n",
       "False                                                                 2967   \n",
       "True                                                                   937   \n",
       "\n",
       "requester_days_since_first_post_on_raop_at_request_bins  (157.092, 314.183]  \\\n",
       "requester_received_pizza                                                      \n",
       "False                                                                    47   \n",
       "True                                                                     22   \n",
       "\n",
       "requester_days_since_first_post_on_raop_at_request_bins  (314.183, 471.275]  \\\n",
       "requester_received_pizza                                                      \n",
       "False                                                                    18   \n",
       "True                                                                     20   \n",
       "\n",
       "requester_days_since_first_post_on_raop_at_request_bins  (471.275, 628.366]  \\\n",
       "requester_received_pizza                                                      \n",
       "False                                                                     8   \n",
       "True                                                                      9   \n",
       "\n",
       "requester_days_since_first_post_on_raop_at_request_bins  (628.366, 785.458]  \n",
       "requester_received_pizza                                                     \n",
       "False                                                                     6  \n",
       "True                                                                      6  "
      ]
     },
     "execution_count": 88,
     "metadata": {},
     "output_type": "execute_result"
    }
   ],
   "source": [
    "# relation with outcome variable\n",
    "pd.crosstab(train_df.requester_received_pizza, train_df['requester_days_since_first_post_on_raop_at_request_bins'])"
   ]
  },
  {
   "cell_type": "code",
   "execution_count": 11,
   "metadata": {},
   "outputs": [
    {
     "name": "stderr",
     "output_type": "stream",
     "text": [
      "/Users/simranbhatia/opt/anaconda3/lib/python3.8/site-packages/pandas/core/series.py:679: RuntimeWarning: divide by zero encountered in log\n",
      "  result = getattr(ufunc, method)(*inputs, **kwargs)\n",
      "/Users/simranbhatia/opt/anaconda3/lib/python3.8/site-packages/matplotlib/cbook/__init__.py:1211: RuntimeWarning: invalid value encountered in double_scalars\n",
      "  stats['iqr'] = q3 - q1\n",
      "/Users/simranbhatia/opt/anaconda3/lib/python3.8/site-packages/matplotlib/cbook/__init__.py:1239: RuntimeWarning: invalid value encountered in less_equal\n",
      "  wiskhi = x[x <= hival]\n",
      "/Users/simranbhatia/opt/anaconda3/lib/python3.8/site-packages/matplotlib/cbook/__init__.py:1246: RuntimeWarning: invalid value encountered in greater_equal\n",
      "  wisklo = x[x >= loval]\n"
     ]
    },
    {
     "data": {
      "text/plain": [
       "{'whiskers': [<matplotlib.lines.Line2D at 0x7f9baada4f70>,\n",
       "  <matplotlib.lines.Line2D at 0x7f9baadb3310>,\n",
       "  <matplotlib.lines.Line2D at 0x7f9baadeb700>,\n",
       "  <matplotlib.lines.Line2D at 0x7f9baadebd00>],\n",
       " 'caps': [<matplotlib.lines.Line2D at 0x7f9baadc0940>,\n",
       "  <matplotlib.lines.Line2D at 0x7f9baadc0f10>,\n",
       "  <matplotlib.lines.Line2D at 0x7f9baadf8310>,\n",
       "  <matplotlib.lines.Line2D at 0x7f9baae07ca0>],\n",
       " 'boxes': [<matplotlib.lines.Line2D at 0x7f9baada47f0>,\n",
       "  <matplotlib.lines.Line2D at 0x7f9baaddc910>],\n",
       " 'medians': [<matplotlib.lines.Line2D at 0x7f9baadce2e0>,\n",
       "  <matplotlib.lines.Line2D at 0x7f9baae07970>],\n",
       " 'fliers': [<matplotlib.lines.Line2D at 0x7f9baaddc9a0>,\n",
       "  <matplotlib.lines.Line2D at 0x7f9baae24c10>],\n",
       " 'means': []}"
      ]
     },
     "execution_count": 11,
     "metadata": {},
     "output_type": "execute_result"
    },
    {
     "data": {
      "image/png": "[encoded data removed]",
      "text/plain": [
       "<Figure size 864x504 with 1 Axes>"
      ]
     },
     "metadata": {
      "needs_background": "light"
     },
     "output_type": "display_data"
    }
   ],
   "source": [
    "requester_days_since_first_post_on_raop_at_request_1 = np.log(train_df[train_df['requester_received_pizza'] == True]['requester_days_since_first_post_on_raop_at_request'])\n",
    "requester_days_since_first_post_on_raop_at_request_0 = np.log(train_df[train_df['requester_received_pizza'] == False]['requester_days_since_first_post_on_raop_at_request'])\n",
    "\n",
    "cols_requester_days_since_first_post_on_raop_at_request = [requester_days_since_first_post_on_raop_at_request_1, \n",
    "                                                           requester_days_since_first_post_on_raop_at_request_0]\n",
    "\n",
    "labels = train_df['requester_received_pizza'].unique()\n",
    "\n",
    "fig, ax = plt.subplots(figsize=(12, 7))\n",
    "ax.boxplot(cols_requester_days_since_first_post_on_raop_at_request, labels=labels)"
   ]
  },
  {
   "cell_type": "markdown",
   "metadata": {},
   "source": [
    "# Colname: requester_days_since_first_post_on_raop_at_retrieval"
   ]
  },
  {
   "cell_type": "code",
   "execution_count": 40,
   "metadata": {},
   "outputs": [
    {
     "data": {
      "text/plain": [
       "<matplotlib.axes._subplots.AxesSubplot at 0x7f925a10a1f0>"
      ]
     },
     "execution_count": 40,
     "metadata": {},
     "output_type": "execute_result"
    },
    {
     "data": {
      "image/png": "[encoded data removed]",
      "text/plain": [
       "<Figure size 432x288 with 1 Axes>"
      ]
     },
     "metadata": {
      "needs_background": "light"
     },
     "output_type": "display_data"
    }
   ],
   "source": [
    "train_df['requester_days_since_first_post_on_raop_at_retrieval'].plot(kind='bar')"
   ]
  },
  {
   "cell_type": "code",
   "execution_count": 44,
   "metadata": {},
   "outputs": [
    {
     "data": {
      "text/plain": [
       "<matplotlib.axes._subplots.AxesSubplot at 0x7f922a2ab910>"
      ]
     },
     "execution_count": 44,
     "metadata": {},
     "output_type": "execute_result"
    },
    {
     "data": {
      "image/png": "[encoded data removed]",
      "text/plain": [
       "<Figure size 432x288 with 1 Axes>"
      ]
     },
     "metadata": {
      "needs_background": "light"
     },
     "output_type": "display_data"
    }
   ],
   "source": [
    "train_df['requester_days_since_first_post_on_raop_at_retrieval_bins'] = pd.cut(train_df['requester_days_since_first_post_on_raop_at_retrieval'],\n",
    "                                                                 5)\n",
    "train_df['requester_days_since_first_post_on_raop_at_retrieval_bins'].value_counts().plot(kind='bar')\n"
   ]
  },
  {
   "cell_type": "code",
   "execution_count": 48,
   "metadata": {},
   "outputs": [
    {
     "data": {
      "text/html": [
       "<div>\n",
       "<style scoped>\n",
       "    .dataframe tbody tr th:only-of-type {\n",
       "        vertical-align: middle;\n",
       "    }\n",
       "\n",
       "    .dataframe tbody tr th {\n",
       "        vertical-align: top;\n",
       "    }\n",
       "\n",
       "    .dataframe thead th {\n",
       "        text-align: right;\n",
       "    }\n",
       "</style>\n",
       "<table border=\"1\" class=\"dataframe\">\n",
       "  <thead>\n",
       "    <tr style=\"text-align: right;\">\n",
       "      <th></th>\n",
       "      <th>requester_days_since_first_post_on_raop_at_retrieval_bins</th>\n",
       "    </tr>\n",
       "  </thead>\n",
       "  <tbody>\n",
       "    <tr>\n",
       "      <th>(615.245, 820.326]</th>\n",
       "      <td>0.220792</td>\n",
       "    </tr>\n",
       "    <tr>\n",
       "      <th>(410.163, 615.245]</th>\n",
       "      <td>0.219059</td>\n",
       "    </tr>\n",
       "    <tr>\n",
       "      <th>(820.326, 1025.408]</th>\n",
       "      <td>0.190099</td>\n",
       "    </tr>\n",
       "    <tr>\n",
       "      <th>(205.082, 410.163]</th>\n",
       "      <td>0.189851</td>\n",
       "    </tr>\n",
       "    <tr>\n",
       "      <th>(-1.025, 205.082]</th>\n",
       "      <td>0.180198</td>\n",
       "    </tr>\n",
       "  </tbody>\n",
       "</table>\n",
       "</div>"
      ],
      "text/plain": [
       "                     requester_days_since_first_post_on_raop_at_retrieval_bins\n",
       "(615.245, 820.326]                                            0.220792        \n",
       "(410.163, 615.245]                                            0.219059        \n",
       "(820.326, 1025.408]                                           0.190099        \n",
       "(205.082, 410.163]                                            0.189851        \n",
       "(-1.025, 205.082]                                             0.180198        "
      ]
     },
     "execution_count": 48,
     "metadata": {},
     "output_type": "execute_result"
    }
   ],
   "source": [
    "pd.DataFrame(train_df['requester_days_since_first_post_on_raop_at_retrieval_bins'].value_counts()/len(train_df))"
   ]
  },
  {
   "cell_type": "markdown",
   "metadata": {},
   "source": [
    "Summary:\n",
    "- This data feels well distributed, but noisy. There is no downward trend as compared to the # of days at request.Next step would be to understand the influence of this column on outcome vs. that of the request one. "
   ]
  },
  {
   "cell_type": "code",
   "execution_count": 93,
   "metadata": {},
   "outputs": [
    {
     "data": {
      "text/html": [
       "<div>\n",
       "<style scoped>\n",
       "    .dataframe tbody tr th:only-of-type {\n",
       "        vertical-align: middle;\n",
       "    }\n",
       "\n",
       "    .dataframe tbody tr th {\n",
       "        vertical-align: top;\n",
       "    }\n",
       "\n",
       "    .dataframe thead th {\n",
       "        text-align: right;\n",
       "    }\n",
       "</style>\n",
       "<table border=\"1\" class=\"dataframe\">\n",
       "  <thead>\n",
       "    <tr style=\"text-align: right;\">\n",
       "      <th>requester_days_since_first_post_on_raop_at_retrieval_bins</th>\n",
       "      <th>(-1.025, 205.082]</th>\n",
       "      <th>(205.082, 410.163]</th>\n",
       "      <th>(410.163, 615.245]</th>\n",
       "      <th>(615.245, 820.326]</th>\n",
       "      <th>(820.326, 1025.408]</th>\n",
       "    </tr>\n",
       "    <tr>\n",
       "      <th>requester_received_pizza</th>\n",
       "      <th></th>\n",
       "      <th></th>\n",
       "      <th></th>\n",
       "      <th></th>\n",
       "      <th></th>\n",
       "    </tr>\n",
       "  </thead>\n",
       "  <tbody>\n",
       "    <tr>\n",
       "      <th>False</th>\n",
       "      <td>606</td>\n",
       "      <td>601</td>\n",
       "      <td>681</td>\n",
       "      <td>654</td>\n",
       "      <td>504</td>\n",
       "    </tr>\n",
       "    <tr>\n",
       "      <th>True</th>\n",
       "      <td>122</td>\n",
       "      <td>166</td>\n",
       "      <td>204</td>\n",
       "      <td>238</td>\n",
       "      <td>264</td>\n",
       "    </tr>\n",
       "  </tbody>\n",
       "</table>\n",
       "</div>"
      ],
      "text/plain": [
       "requester_days_since_first_post_on_raop_at_retrieval_bins  (-1.025, 205.082]  \\\n",
       "requester_received_pizza                                                       \n",
       "False                                                                    606   \n",
       "True                                                                     122   \n",
       "\n",
       "requester_days_since_first_post_on_raop_at_retrieval_bins  (205.082, 410.163]  \\\n",
       "requester_received_pizza                                                        \n",
       "False                                                                     601   \n",
       "True                                                                      166   \n",
       "\n",
       "requester_days_since_first_post_on_raop_at_retrieval_bins  (410.163, 615.245]  \\\n",
       "requester_received_pizza                                                        \n",
       "False                                                                     681   \n",
       "True                                                                      204   \n",
       "\n",
       "requester_days_since_first_post_on_raop_at_retrieval_bins  (615.245, 820.326]  \\\n",
       "requester_received_pizza                                                        \n",
       "False                                                                     654   \n",
       "True                                                                      238   \n",
       "\n",
       "requester_days_since_first_post_on_raop_at_retrieval_bins  (820.326, 1025.408]  \n",
       "requester_received_pizza                                                        \n",
       "False                                                                      504  \n",
       "True                                                                       264  "
      ]
     },
     "execution_count": 93,
     "metadata": {},
     "output_type": "execute_result"
    }
   ],
   "source": [
    "# relation with outcome variable\n",
    "pd.crosstab(train_df.requester_received_pizza, train_df['requester_days_since_first_post_on_raop_at_retrieval_bins'])"
   ]
  },
  {
   "cell_type": "markdown",
   "metadata": {},
   "source": [
    "# Colname: requester_number_of_comments_at_request"
   ]
  },
  {
   "cell_type": "code",
   "execution_count": 39,
   "metadata": {},
   "outputs": [
    {
     "data": {
      "text/plain": [
       "<matplotlib.axes._subplots.AxesSubplot at 0x7f924d0c3f70>"
      ]
     },
     "execution_count": 39,
     "metadata": {},
     "output_type": "execute_result"
    },
    {
     "data": {
      "image/png": "[encoded data removed]",
      "text/plain": [
       "<Figure size 432x288 with 1 Axes>"
      ]
     },
     "metadata": {
      "needs_background": "light"
     },
     "output_type": "display_data"
    }
   ],
   "source": [
    "train_df['requester_number_of_comments_at_request'].plot(kind='bar')"
   ]
  },
  {
   "cell_type": "code",
   "execution_count": 36,
   "metadata": {},
   "outputs": [
    {
     "data": {
      "text/plain": [
       "<matplotlib.axes._subplots.AxesSubplot at 0x7f9243b2a2b0>"
      ]
     },
     "execution_count": 36,
     "metadata": {},
     "output_type": "execute_result"
    },
    {
     "data": {
      "image/png": "[encoded data removed]",
      "text/plain": [
       "<Figure size 432x288 with 1 Axes>"
      ]
     },
     "metadata": {
      "needs_background": "light"
     },
     "output_type": "display_data"
    }
   ],
   "source": [
    "train_df['requester_number_of_comments_at_request_bins'] = pd.cut(train_df['requester_number_of_comments_at_request'],\n",
    "                                                                 5)\n",
    "train_df['requester_number_of_comments_at_request_bins'].value_counts().plot(kind='bar')"
   ]
  },
  {
   "cell_type": "code",
   "execution_count": 49,
   "metadata": {},
   "outputs": [
    {
     "data": {
      "text/html": [
       "<div>\n",
       "<style scoped>\n",
       "    .dataframe tbody tr th:only-of-type {\n",
       "        vertical-align: middle;\n",
       "    }\n",
       "\n",
       "    .dataframe tbody tr th {\n",
       "        vertical-align: top;\n",
       "    }\n",
       "\n",
       "    .dataframe thead th {\n",
       "        text-align: right;\n",
       "    }\n",
       "</style>\n",
       "<table border=\"1\" class=\"dataframe\">\n",
       "  <thead>\n",
       "    <tr style=\"text-align: right;\">\n",
       "      <th></th>\n",
       "      <th>requester_number_of_comments_at_request_bins</th>\n",
       "    </tr>\n",
       "  </thead>\n",
       "  <tbody>\n",
       "    <tr>\n",
       "      <th>(-0.994, 198.8]</th>\n",
       "      <td>0.807426</td>\n",
       "    </tr>\n",
       "    <tr>\n",
       "      <th>(198.8, 397.6]</th>\n",
       "      <td>0.098267</td>\n",
       "    </tr>\n",
       "    <tr>\n",
       "      <th>(397.6, 596.4]</th>\n",
       "      <td>0.047525</td>\n",
       "    </tr>\n",
       "    <tr>\n",
       "      <th>(596.4, 795.2]</th>\n",
       "      <td>0.029208</td>\n",
       "    </tr>\n",
       "    <tr>\n",
       "      <th>(795.2, 994.0]</th>\n",
       "      <td>0.017574</td>\n",
       "    </tr>\n",
       "  </tbody>\n",
       "</table>\n",
       "</div>"
      ],
      "text/plain": [
       "                 requester_number_of_comments_at_request_bins\n",
       "(-0.994, 198.8]                                      0.807426\n",
       "(198.8, 397.6]                                       0.098267\n",
       "(397.6, 596.4]                                       0.047525\n",
       "(596.4, 795.2]                                       0.029208\n",
       "(795.2, 994.0]                                       0.017574"
      ]
     },
     "execution_count": 49,
     "metadata": {},
     "output_type": "execute_result"
    }
   ],
   "source": [
    "pd.DataFrame(train_df['requester_number_of_comments_at_request_bins'].value_counts()/len(train_df))"
   ]
  },
  {
   "cell_type": "markdown",
   "metadata": {},
   "source": [
    "Summary:\n",
    "- Majority of the values lie between -0.994, 198.8. This distribution seems similar to days since first post on RAOP, as collected on request time. Next step: look into the first bucket in more detail."
   ]
  },
  {
   "cell_type": "code",
   "execution_count": 94,
   "metadata": {},
   "outputs": [
    {
     "data": {
      "text/html": [
       "<div>\n",
       "<style scoped>\n",
       "    .dataframe tbody tr th:only-of-type {\n",
       "        vertical-align: middle;\n",
       "    }\n",
       "\n",
       "    .dataframe tbody tr th {\n",
       "        vertical-align: top;\n",
       "    }\n",
       "\n",
       "    .dataframe thead th {\n",
       "        text-align: right;\n",
       "    }\n",
       "</style>\n",
       "<table border=\"1\" class=\"dataframe\">\n",
       "  <thead>\n",
       "    <tr style=\"text-align: right;\">\n",
       "      <th>requester_number_of_comments_at_request_bins</th>\n",
       "      <th>(-0.994, 198.8]</th>\n",
       "      <th>(198.8, 397.6]</th>\n",
       "      <th>(397.6, 596.4]</th>\n",
       "      <th>(596.4, 795.2]</th>\n",
       "      <th>(795.2, 994.0]</th>\n",
       "    </tr>\n",
       "    <tr>\n",
       "      <th>requester_received_pizza</th>\n",
       "      <th></th>\n",
       "      <th></th>\n",
       "      <th></th>\n",
       "      <th></th>\n",
       "      <th></th>\n",
       "    </tr>\n",
       "  </thead>\n",
       "  <tbody>\n",
       "    <tr>\n",
       "      <th>False</th>\n",
       "      <td>2477</td>\n",
       "      <td>290</td>\n",
       "      <td>145</td>\n",
       "      <td>84</td>\n",
       "      <td>50</td>\n",
       "    </tr>\n",
       "    <tr>\n",
       "      <th>True</th>\n",
       "      <td>785</td>\n",
       "      <td>107</td>\n",
       "      <td>47</td>\n",
       "      <td>34</td>\n",
       "      <td>21</td>\n",
       "    </tr>\n",
       "  </tbody>\n",
       "</table>\n",
       "</div>"
      ],
      "text/plain": [
       "requester_number_of_comments_at_request_bins  (-0.994, 198.8]  (198.8, 397.6]  \\\n",
       "requester_received_pizza                                                        \n",
       "False                                                    2477             290   \n",
       "True                                                      785             107   \n",
       "\n",
       "requester_number_of_comments_at_request_bins  (397.6, 596.4]  (596.4, 795.2]  \\\n",
       "requester_received_pizza                                                       \n",
       "False                                                    145              84   \n",
       "True                                                      47              34   \n",
       "\n",
       "requester_number_of_comments_at_request_bins  (795.2, 994.0]  \n",
       "requester_received_pizza                                      \n",
       "False                                                     50  \n",
       "True                                                      21  "
      ]
     },
     "execution_count": 94,
     "metadata": {},
     "output_type": "execute_result"
    }
   ],
   "source": [
    "# relation with outcome variable\n",
    "pd.crosstab(train_df.requester_received_pizza, train_df['requester_number_of_comments_at_request_bins'])"
   ]
  },
  {
   "cell_type": "code",
   "execution_count": 12,
   "metadata": {},
   "outputs": [
    {
     "name": "stderr",
     "output_type": "stream",
     "text": [
      "/Users/simranbhatia/opt/anaconda3/lib/python3.8/site-packages/pandas/core/series.py:679: RuntimeWarning: divide by zero encountered in log\n",
      "  result = getattr(ufunc, method)(*inputs, **kwargs)\n"
     ]
    },
    {
     "data": {
      "text/plain": [
       "{'whiskers': [<matplotlib.lines.Line2D at 0x7f9baf97b0d0>,\n",
       "  <matplotlib.lines.Line2D at 0x7f9baf97b430>,\n",
       "  <matplotlib.lines.Line2D at 0x7f9baf94d850>,\n",
       "  <matplotlib.lines.Line2D at 0x7f9baf94db80>],\n",
       " 'caps': [<matplotlib.lines.Line2D at 0x7f9baf97b790>,\n",
       "  <matplotlib.lines.Line2D at 0x7f9baf97baf0>,\n",
       "  <matplotlib.lines.Line2D at 0x7f9baf94deb0>,\n",
       "  <matplotlib.lines.Line2D at 0x7f9baf6ff220>],\n",
       " 'boxes': [<matplotlib.lines.Line2D at 0x7f9baf964d30>,\n",
       "  <matplotlib.lines.Line2D at 0x7f9baf94d520>],\n",
       " 'medians': [<matplotlib.lines.Line2D at 0x7f9baf97be50>,\n",
       "  <matplotlib.lines.Line2D at 0x7f9baf6ff550>],\n",
       " 'fliers': [<matplotlib.lines.Line2D at 0x7f9baf94d190>,\n",
       "  <matplotlib.lines.Line2D at 0x7f9baf6ff820>],\n",
       " 'means': []}"
      ]
     },
     "execution_count": 12,
     "metadata": {},
     "output_type": "execute_result"
    },
    {
     "data": {
      "image/png": "[encoded data removed]",
      "text/plain": [
       "<Figure size 864x504 with 1 Axes>"
      ]
     },
     "metadata": {
      "needs_background": "light"
     },
     "output_type": "display_data"
    }
   ],
   "source": [
    "requester_number_of_comments_at_request_1 = np.log(train_df[train_df['requester_received_pizza'] == True]['requester_number_of_comments_at_request'])\n",
    "requester_number_of_comments_at_request_0 = np.log(train_df[train_df['requester_received_pizza'] == False]['requester_number_of_comments_at_request'])\n",
    "\n",
    "cols_requester_number_of_comments_at_request = [requester_number_of_comments_at_request_1, \n",
    "                                            requester_number_of_comments_at_request_0]\n",
    "\n",
    "labels = train_df['requester_received_pizza'].unique()\n",
    "\n",
    "fig, ax = plt.subplots(figsize=(12, 7))\n",
    "ax.boxplot(cols_requester_number_of_comments_at_request, labels=labels)\n"
   ]
  },
  {
   "cell_type": "markdown",
   "metadata": {},
   "source": [
    "# Colname: requester_number_of_comments_at_retrieval"
   ]
  },
  {
   "cell_type": "code",
   "execution_count": 42,
   "metadata": {},
   "outputs": [
    {
     "data": {
      "text/plain": [
       "<matplotlib.axes._subplots.AxesSubplot at 0x7f923e23e760>"
      ]
     },
     "execution_count": 42,
     "metadata": {},
     "output_type": "execute_result"
    },
    {
     "data": {
      "image/png": "[encoded data removed]",
      "text/plain": [
       "<Figure size 432x288 with 1 Axes>"
      ]
     },
     "metadata": {
      "needs_background": "light"
     },
     "output_type": "display_data"
    }
   ],
   "source": [
    "train_df['requester_number_of_comments_at_retrieval'].plot(kind='bar')"
   ]
  },
  {
   "cell_type": "code",
   "execution_count": 50,
   "metadata": {},
   "outputs": [
    {
     "data": {
      "text/plain": [
       "<matplotlib.axes._subplots.AxesSubplot at 0x7f922d214d60>"
      ]
     },
     "execution_count": 50,
     "metadata": {},
     "output_type": "execute_result"
    },
    {
     "data": {
      "image/png": "[encoded data removed]",
      "text/plain": [
       "<Figure size 432x288 with 1 Axes>"
      ]
     },
     "metadata": {
      "needs_background": "light"
     },
     "output_type": "display_data"
    }
   ],
   "source": [
    "train_df['requester_number_of_comments_at_retrieval_bins'] = pd.cut(train_df['requester_number_of_comments_at_retrieval'],\n",
    "                                                                 5)\n",
    "train_df['requester_number_of_comments_at_retrieval_bins'].value_counts().plot(kind='bar')\n"
   ]
  },
  {
   "cell_type": "code",
   "execution_count": 51,
   "metadata": {},
   "outputs": [
    {
     "data": {
      "text/html": [
       "<div>\n",
       "<style scoped>\n",
       "    .dataframe tbody tr th:only-of-type {\n",
       "        vertical-align: middle;\n",
       "    }\n",
       "\n",
       "    .dataframe tbody tr th {\n",
       "        vertical-align: top;\n",
       "    }\n",
       "\n",
       "    .dataframe thead th {\n",
       "        text-align: right;\n",
       "    }\n",
       "</style>\n",
       "<table border=\"1\" class=\"dataframe\">\n",
       "  <thead>\n",
       "    <tr style=\"text-align: right;\">\n",
       "      <th></th>\n",
       "      <th>requester_number_of_comments_at_retrieval_bins</th>\n",
       "    </tr>\n",
       "  </thead>\n",
       "  <tbody>\n",
       "    <tr>\n",
       "      <th>(-1.0, 200.0]</th>\n",
       "      <td>0.599505</td>\n",
       "    </tr>\n",
       "    <tr>\n",
       "      <th>(800.0, 1000.0]</th>\n",
       "      <td>0.167822</td>\n",
       "    </tr>\n",
       "    <tr>\n",
       "      <th>(200.0, 400.0]</th>\n",
       "      <td>0.122277</td>\n",
       "    </tr>\n",
       "    <tr>\n",
       "      <th>(400.0, 600.0]</th>\n",
       "      <td>0.066089</td>\n",
       "    </tr>\n",
       "    <tr>\n",
       "      <th>(600.0, 800.0]</th>\n",
       "      <td>0.044307</td>\n",
       "    </tr>\n",
       "  </tbody>\n",
       "</table>\n",
       "</div>"
      ],
      "text/plain": [
       "                 requester_number_of_comments_at_retrieval_bins\n",
       "(-1.0, 200.0]                                          0.599505\n",
       "(800.0, 1000.0]                                        0.167822\n",
       "(200.0, 400.0]                                         0.122277\n",
       "(400.0, 600.0]                                         0.066089\n",
       "(600.0, 800.0]                                         0.044307"
      ]
     },
     "execution_count": 51,
     "metadata": {},
     "output_type": "execute_result"
    }
   ],
   "source": [
    "pd.DataFrame(train_df['requester_number_of_comments_at_retrieval_bins'].value_counts()/len(train_df))"
   ]
  },
  {
   "cell_type": "markdown",
   "metadata": {},
   "source": [
    "Summary:\n",
    "- This seems like a good highly left skewed dataset. First bucket seems to have most amount of datapoints, this bucket should be further investigated."
   ]
  },
  {
   "cell_type": "code",
   "execution_count": 95,
   "metadata": {},
   "outputs": [
    {
     "data": {
      "text/html": [
       "<div>\n",
       "<style scoped>\n",
       "    .dataframe tbody tr th:only-of-type {\n",
       "        vertical-align: middle;\n",
       "    }\n",
       "\n",
       "    .dataframe tbody tr th {\n",
       "        vertical-align: top;\n",
       "    }\n",
       "\n",
       "    .dataframe thead th {\n",
       "        text-align: right;\n",
       "    }\n",
       "</style>\n",
       "<table border=\"1\" class=\"dataframe\">\n",
       "  <thead>\n",
       "    <tr style=\"text-align: right;\">\n",
       "      <th>requester_number_of_comments_at_retrieval_bins</th>\n",
       "      <th>(-1.0, 200.0]</th>\n",
       "      <th>(200.0, 400.0]</th>\n",
       "      <th>(400.0, 600.0]</th>\n",
       "      <th>(600.0, 800.0]</th>\n",
       "      <th>(800.0, 1000.0]</th>\n",
       "    </tr>\n",
       "    <tr>\n",
       "      <th>requester_received_pizza</th>\n",
       "      <th></th>\n",
       "      <th></th>\n",
       "      <th></th>\n",
       "      <th></th>\n",
       "      <th></th>\n",
       "    </tr>\n",
       "  </thead>\n",
       "  <tbody>\n",
       "    <tr>\n",
       "      <th>False</th>\n",
       "      <td>1913</td>\n",
       "      <td>352</td>\n",
       "      <td>188</td>\n",
       "      <td>135</td>\n",
       "      <td>458</td>\n",
       "    </tr>\n",
       "    <tr>\n",
       "      <th>True</th>\n",
       "      <td>509</td>\n",
       "      <td>142</td>\n",
       "      <td>79</td>\n",
       "      <td>44</td>\n",
       "      <td>220</td>\n",
       "    </tr>\n",
       "  </tbody>\n",
       "</table>\n",
       "</div>"
      ],
      "text/plain": [
       "requester_number_of_comments_at_retrieval_bins  (-1.0, 200.0]  (200.0, 400.0]  \\\n",
       "requester_received_pizza                                                        \n",
       "False                                                    1913             352   \n",
       "True                                                      509             142   \n",
       "\n",
       "requester_number_of_comments_at_retrieval_bins  (400.0, 600.0]  \\\n",
       "requester_received_pizza                                         \n",
       "False                                                      188   \n",
       "True                                                        79   \n",
       "\n",
       "requester_number_of_comments_at_retrieval_bins  (600.0, 800.0]  \\\n",
       "requester_received_pizza                                         \n",
       "False                                                      135   \n",
       "True                                                        44   \n",
       "\n",
       "requester_number_of_comments_at_retrieval_bins  (800.0, 1000.0]  \n",
       "requester_received_pizza                                         \n",
       "False                                                       458  \n",
       "True                                                        220  "
      ]
     },
     "execution_count": 95,
     "metadata": {},
     "output_type": "execute_result"
    }
   ],
   "source": [
    "# relation with outcome variable\n",
    "pd.crosstab(train_df.requester_received_pizza, train_df['requester_number_of_comments_at_retrieval_bins'])"
   ]
  },
  {
   "cell_type": "markdown",
   "metadata": {},
   "source": [
    "# Colname: requester_username"
   ]
  },
  {
   "cell_type": "code",
   "execution_count": 21,
   "metadata": {},
   "outputs": [
    {
     "data": {
      "text/plain": [
       "knockerwocky       1\n",
       "Brizzwold          1\n",
       "BallerinaBonzai    1\n",
       "juniormantis       1\n",
       "Ticking__bomb      1\n",
       "                  ..\n",
       "MitchellHaaland    1\n",
       "effigies           1\n",
       "ghostofahorse      1\n",
       "staglord           1\n",
       "Cthomte            1\n",
       "Name: requester_username, Length: 4040, dtype: int64"
      ]
     },
     "execution_count": 21,
     "metadata": {},
     "output_type": "execute_result"
    }
   ],
   "source": [
    "train_df.requester_username.value_counts()"
   ]
  },
  {
   "cell_type": "markdown",
   "metadata": {},
   "source": [
    "Summary:\n",
    "- Each user has 1 requester username -> this seems weird as this seems like one person only requests once?\n",
    "- Next step: analyze type of requester username but that seems like a stretch and not directly related to the request"
   ]
  },
  {
   "cell_type": "code",
   "execution_count": 96,
   "metadata": {},
   "outputs": [
    {
     "data": {
      "text/html": [
       "<div>\n",
       "<style scoped>\n",
       "    .dataframe tbody tr th:only-of-type {\n",
       "        vertical-align: middle;\n",
       "    }\n",
       "\n",
       "    .dataframe tbody tr th {\n",
       "        vertical-align: top;\n",
       "    }\n",
       "\n",
       "    .dataframe thead th {\n",
       "        text-align: right;\n",
       "    }\n",
       "</style>\n",
       "<table border=\"1\" class=\"dataframe\">\n",
       "  <thead>\n",
       "    <tr style=\"text-align: right;\">\n",
       "      <th>requester_username</th>\n",
       "      <th>-Magitek-Armor-</th>\n",
       "      <th>-idk</th>\n",
       "      <th>-notagirl-</th>\n",
       "      <th>0b4m4</th>\n",
       "      <th>122david</th>\n",
       "      <th>124418609219</th>\n",
       "      <th>13853211</th>\n",
       "      <th>1level1</th>\n",
       "      <th>20TL12III</th>\n",
       "      <th>20greenshades</th>\n",
       "      <th>...</th>\n",
       "      <th>zimpirate</th>\n",
       "      <th>zombiehannah</th>\n",
       "      <th>zombisaurusrex</th>\n",
       "      <th>zomboi</th>\n",
       "      <th>zooey_roses</th>\n",
       "      <th>zpoehlein12</th>\n",
       "      <th>zqxwcevrbt</th>\n",
       "      <th>zratz3171</th>\n",
       "      <th>ztfreeman</th>\n",
       "      <th>zuggle</th>\n",
       "    </tr>\n",
       "    <tr>\n",
       "      <th>requester_received_pizza</th>\n",
       "      <th></th>\n",
       "      <th></th>\n",
       "      <th></th>\n",
       "      <th></th>\n",
       "      <th></th>\n",
       "      <th></th>\n",
       "      <th></th>\n",
       "      <th></th>\n",
       "      <th></th>\n",
       "      <th></th>\n",
       "      <th></th>\n",
       "      <th></th>\n",
       "      <th></th>\n",
       "      <th></th>\n",
       "      <th></th>\n",
       "      <th></th>\n",
       "      <th></th>\n",
       "      <th></th>\n",
       "      <th></th>\n",
       "      <th></th>\n",
       "      <th></th>\n",
       "    </tr>\n",
       "  </thead>\n",
       "  <tbody>\n",
       "    <tr>\n",
       "      <th>False</th>\n",
       "      <td>1</td>\n",
       "      <td>1</td>\n",
       "      <td>0</td>\n",
       "      <td>1</td>\n",
       "      <td>0</td>\n",
       "      <td>0</td>\n",
       "      <td>1</td>\n",
       "      <td>1</td>\n",
       "      <td>0</td>\n",
       "      <td>1</td>\n",
       "      <td>...</td>\n",
       "      <td>0</td>\n",
       "      <td>0</td>\n",
       "      <td>1</td>\n",
       "      <td>1</td>\n",
       "      <td>1</td>\n",
       "      <td>1</td>\n",
       "      <td>1</td>\n",
       "      <td>1</td>\n",
       "      <td>1</td>\n",
       "      <td>1</td>\n",
       "    </tr>\n",
       "    <tr>\n",
       "      <th>True</th>\n",
       "      <td>0</td>\n",
       "      <td>0</td>\n",
       "      <td>1</td>\n",
       "      <td>0</td>\n",
       "      <td>1</td>\n",
       "      <td>1</td>\n",
       "      <td>0</td>\n",
       "      <td>0</td>\n",
       "      <td>1</td>\n",
       "      <td>0</td>\n",
       "      <td>...</td>\n",
       "      <td>1</td>\n",
       "      <td>1</td>\n",
       "      <td>0</td>\n",
       "      <td>0</td>\n",
       "      <td>0</td>\n",
       "      <td>0</td>\n",
       "      <td>0</td>\n",
       "      <td>0</td>\n",
       "      <td>0</td>\n",
       "      <td>0</td>\n",
       "    </tr>\n",
       "  </tbody>\n",
       "</table>\n",
       "<p>2 rows × 4040 columns</p>\n",
       "</div>"
      ],
      "text/plain": [
       "requester_username        -Magitek-Armor-  -idk  -notagirl-  0b4m4  122david  \\\n",
       "requester_received_pizza                                                       \n",
       "False                                   1     1           0      1         0   \n",
       "True                                    0     0           1      0         1   \n",
       "\n",
       "requester_username        124418609219  13853211  1level1  20TL12III  \\\n",
       "requester_received_pizza                                               \n",
       "False                                0         1        1          0   \n",
       "True                                 1         0        0          1   \n",
       "\n",
       "requester_username        20greenshades  ...  zimpirate  zombiehannah  \\\n",
       "requester_received_pizza                 ...                            \n",
       "False                                 1  ...          0             0   \n",
       "True                                  0  ...          1             1   \n",
       "\n",
       "requester_username        zombisaurusrex  zomboi  zooey_roses  zpoehlein12  \\\n",
       "requester_received_pizza                                                     \n",
       "False                                  1       1            1            1   \n",
       "True                                   0       0            0            0   \n",
       "\n",
       "requester_username        zqxwcevrbt  zratz3171  ztfreeman  zuggle  \n",
       "requester_received_pizza                                            \n",
       "False                              1          1          1       1  \n",
       "True                               0          0          0       0  \n",
       "\n",
       "[2 rows x 4040 columns]"
      ]
     },
     "execution_count": 96,
     "metadata": {},
     "output_type": "execute_result"
    }
   ],
   "source": [
    "# relation with outcome variable\n",
    "pd.crosstab(train_df.requester_received_pizza, train_df['requester_username'])"
   ]
  },
  {
   "cell_type": "markdown",
   "metadata": {},
   "source": [
    "# colname: requester_user_flair"
   ]
  },
  {
   "cell_type": "code",
   "execution_count": 22,
   "metadata": {},
   "outputs": [
    {
     "data": {
      "text/plain": [
       "shroom    935\n",
       "PIF        59\n",
       "Name: requester_user_flair, dtype: int64"
      ]
     },
     "execution_count": 22,
     "metadata": {},
     "output_type": "execute_result"
    }
   ],
   "source": [
    "train_df.requester_user_flair.value_counts()"
   ]
  },
  {
   "cell_type": "markdown",
   "metadata": {},
   "source": [
    "- There are only two types \"requester_user_flair\" however, majority of these values are null. Given that this is binary, this might be helpful for the same scenario"
   ]
  },
  {
   "cell_type": "code",
   "execution_count": 97,
   "metadata": {},
   "outputs": [
    {
     "data": {
      "text/html": [
       "<div>\n",
       "<style scoped>\n",
       "    .dataframe tbody tr th:only-of-type {\n",
       "        vertical-align: middle;\n",
       "    }\n",
       "\n",
       "    .dataframe tbody tr th {\n",
       "        vertical-align: top;\n",
       "    }\n",
       "\n",
       "    .dataframe thead th {\n",
       "        text-align: right;\n",
       "    }\n",
       "</style>\n",
       "<table border=\"1\" class=\"dataframe\">\n",
       "  <thead>\n",
       "    <tr style=\"text-align: right;\">\n",
       "      <th>requester_user_flair</th>\n",
       "      <th>PIF</th>\n",
       "      <th>shroom</th>\n",
       "    </tr>\n",
       "    <tr>\n",
       "      <th>requester_received_pizza</th>\n",
       "      <th></th>\n",
       "      <th></th>\n",
       "    </tr>\n",
       "  </thead>\n",
       "  <tbody>\n",
       "    <tr>\n",
       "      <th>True</th>\n",
       "      <td>59</td>\n",
       "      <td>935</td>\n",
       "    </tr>\n",
       "  </tbody>\n",
       "</table>\n",
       "</div>"
      ],
      "text/plain": [
       "requester_user_flair      PIF  shroom\n",
       "requester_received_pizza             \n",
       "True                       59     935"
      ]
     },
     "execution_count": 97,
     "metadata": {},
     "output_type": "execute_result"
    }
   ],
   "source": [
    "# relation with outcome variable\n",
    "pd.crosstab(train_df.requester_received_pizza, train_df['requester_user_flair'])"
   ]
  },
  {
   "cell_type": "markdown",
   "metadata": {},
   "source": [
    "- This is interesting that only values of success in dependent variable have `requester_user_flair`, as per training dataframe"
   ]
  },
  {
   "cell_type": "markdown",
   "metadata": {},
   "source": [
    "# colname: unix_timestamp_of_request"
   ]
  },
  {
   "cell_type": "code",
   "execution_count": 52,
   "metadata": {},
   "outputs": [
    {
     "data": {
      "text/plain": [
       "1.380356e+09    2\n",
       "1.313532e+09    1\n",
       "1.363909e+09    1\n",
       "1.347131e+09    1\n",
       "1.363907e+09    1\n",
       "               ..\n",
       "1.336100e+09    1\n",
       "1.347143e+09    1\n",
       "1.319319e+09    1\n",
       "1.336094e+09    1\n",
       "1.308624e+09    1\n",
       "Name: unix_timestamp_of_request, Length: 4039, dtype: int64"
      ]
     },
     "execution_count": 52,
     "metadata": {},
     "output_type": "execute_result"
    }
   ],
   "source": [
    "train_df.unix_timestamp_of_request.value_counts()"
   ]
  },
  {
   "cell_type": "code",
   "execution_count": 14,
   "metadata": {},
   "outputs": [
    {
     "data": {
      "text/plain": [
       "2013-09-28 08:05:44    2\n",
       "2013-08-05 18:21:42    1\n",
       "2012-09-07 04:26:55    1\n",
       "2011-12-24 16:01:26    1\n",
       "2013-03-04 22:45:22    1\n",
       "                      ..\n",
       "2011-10-18 12:44:38    1\n",
       "2012-04-13 06:50:50    1\n",
       "2013-08-15 00:11:19    1\n",
       "2011-08-06 15:09:47    1\n",
       "2012-07-07 01:21:38    1\n",
       "Name: timestamp_converted, Length: 4039, dtype: int64"
      ]
     },
     "execution_count": 14,
     "metadata": {},
     "output_type": "execute_result"
    }
   ],
   "source": [
    "# Need to change format of unix timestamp of request, currently it's a float\n",
    "train_df['timestamp_converted'] = pd.to_datetime(train_df['unix_timestamp_of_request'],unit='s')\n",
    "train_df.timestamp_converted.value_counts()"
   ]
  },
  {
   "cell_type": "code",
   "execution_count": 81,
   "metadata": {},
   "outputs": [
    {
     "data": {
      "text/plain": [
       "2012    1493\n",
       "2013    1313\n",
       "2011    1234\n",
       "Name: timestamp_converted, dtype: int64"
      ]
     },
     "execution_count": 81,
     "metadata": {},
     "output_type": "execute_result"
    }
   ],
   "source": [
    "# distribution by year\n",
    "train_df.timestamp_converted.dt.year.value_counts()"
   ]
  },
  {
   "cell_type": "code",
   "execution_count": 98,
   "metadata": {},
   "outputs": [
    {
     "data": {
      "text/html": [
       "<div>\n",
       "<style scoped>\n",
       "    .dataframe tbody tr th:only-of-type {\n",
       "        vertical-align: middle;\n",
       "    }\n",
       "\n",
       "    .dataframe tbody tr th {\n",
       "        vertical-align: top;\n",
       "    }\n",
       "\n",
       "    .dataframe thead th {\n",
       "        text-align: right;\n",
       "    }\n",
       "</style>\n",
       "<table border=\"1\" class=\"dataframe\">\n",
       "  <thead>\n",
       "    <tr style=\"text-align: right;\">\n",
       "      <th>timestamp_converted</th>\n",
       "      <th>2011</th>\n",
       "      <th>2012</th>\n",
       "      <th>2013</th>\n",
       "    </tr>\n",
       "    <tr>\n",
       "      <th>requester_received_pizza</th>\n",
       "      <th></th>\n",
       "      <th></th>\n",
       "      <th></th>\n",
       "    </tr>\n",
       "  </thead>\n",
       "  <tbody>\n",
       "    <tr>\n",
       "      <th>False</th>\n",
       "      <td>863</td>\n",
       "      <td>1141</td>\n",
       "      <td>1042</td>\n",
       "    </tr>\n",
       "    <tr>\n",
       "      <th>True</th>\n",
       "      <td>371</td>\n",
       "      <td>352</td>\n",
       "      <td>271</td>\n",
       "    </tr>\n",
       "  </tbody>\n",
       "</table>\n",
       "</div>"
      ],
      "text/plain": [
       "timestamp_converted       2011  2012  2013\n",
       "requester_received_pizza                  \n",
       "False                      863  1141  1042\n",
       "True                       371   352   271"
      ]
     },
     "execution_count": 98,
     "metadata": {},
     "output_type": "execute_result"
    }
   ],
   "source": [
    "# relation between year & outcome \n",
    "pd.crosstab(train_df.requester_received_pizza, train_df.timestamp_converted.dt.year)"
   ]
  },
  {
   "cell_type": "code",
   "execution_count": 15,
   "metadata": {},
   "outputs": [
    {
     "data": {
      "text/plain": [
       "{'whiskers': [<matplotlib.lines.Line2D at 0x7f9bafa252e0>,\n",
       "  <matplotlib.lines.Line2D at 0x7f9bafa25640>,\n",
       "  <matplotlib.lines.Line2D at 0x7f9bafa2bac0>,\n",
       "  <matplotlib.lines.Line2D at 0x7f9bafa2bdf0>],\n",
       " 'caps': [<matplotlib.lines.Line2D at 0x7f9bafa259a0>,\n",
       "  <matplotlib.lines.Line2D at 0x7f9bafa25d00>,\n",
       "  <matplotlib.lines.Line2D at 0x7f9bafa35160>,\n",
       "  <matplotlib.lines.Line2D at 0x7f9bafa35490>],\n",
       " 'boxes': [<matplotlib.lines.Line2D at 0x7f9bafa1af40>,\n",
       "  <matplotlib.lines.Line2D at 0x7f9bafa2b760>],\n",
       " 'medians': [<matplotlib.lines.Line2D at 0x7f9bafa2b0a0>,\n",
       "  <matplotlib.lines.Line2D at 0x7f9bafa357c0>],\n",
       " 'fliers': [<matplotlib.lines.Line2D at 0x7f9bafa2b3a0>,\n",
       "  <matplotlib.lines.Line2D at 0x7f9bafa35a90>],\n",
       " 'means': []}"
      ]
     },
     "execution_count": 15,
     "metadata": {},
     "output_type": "execute_result"
    },
    {
     "data": {
      "image/png": "[encoded data removed]",
      "text/plain": [
       "<Figure size 864x504 with 1 Axes>"
      ]
     },
     "metadata": {
      "needs_background": "light"
     },
     "output_type": "display_data"
    }
   ],
   "source": [
    "year_1 = train_df[train_df['requester_received_pizza'] == True]['timestamp_converted'].dt.year\n",
    "year_0 = train_df[train_df['requester_received_pizza'] == False]['timestamp_converted'].dt.year\n",
    "\n",
    "year_request = [year_1, year_0]\n",
    "\n",
    "labels = train_df['requester_received_pizza'].unique()\n",
    "\n",
    "fig, ax = plt.subplots(figsize=(12, 7))\n",
    "ax.boxplot(year_request, labels=labels)\n"
   ]
  },
  {
   "cell_type": "code",
   "execution_count": 30,
   "metadata": {},
   "outputs": [
    {
     "data": {
      "text/plain": [
       "7     617\n",
       "8     528\n",
       "9     526\n",
       "6     415\n",
       "10    301\n",
       "4     279\n",
       "5     251\n",
       "12    247\n",
       "11    228\n",
       "1     227\n",
       "3     213\n",
       "2     208\n",
       "Name: timestamp_converted, dtype: int64"
      ]
     },
     "execution_count": 30,
     "metadata": {},
     "output_type": "execute_result"
    }
   ],
   "source": [
    "# distribution by month\n",
    "train_df.timestamp_converted.dt.month.value_counts()"
   ]
  },
  {
   "cell_type": "code",
   "execution_count": 31,
   "metadata": {},
   "outputs": [
    {
     "data": {
      "text/plain": [
       "{'whiskers': [<matplotlib.lines.Line2D at 0x7f9ba91dbdf0>,\n",
       "  <matplotlib.lines.Line2D at 0x7f9ba91be670>,\n",
       "  <matplotlib.lines.Line2D at 0x7f9ba8c39d90>,\n",
       "  <matplotlib.lines.Line2D at 0x7f9ba9284af0>],\n",
       " 'caps': [<matplotlib.lines.Line2D at 0x7f9ba9222910>,\n",
       "  <matplotlib.lines.Line2D at 0x7f9ba9205be0>,\n",
       "  <matplotlib.lines.Line2D at 0x7f9ba933ddf0>,\n",
       "  <matplotlib.lines.Line2D at 0x7f9ba8cd48b0>],\n",
       " 'boxes': [<matplotlib.lines.Line2D at 0x7f9ba91a1430>,\n",
       "  <matplotlib.lines.Line2D at 0x7f9ba925ad00>],\n",
       " 'medians': [<matplotlib.lines.Line2D at 0x7f9ba8bab760>,\n",
       "  <matplotlib.lines.Line2D at 0x7f9ba9390430>],\n",
       " 'fliers': [<matplotlib.lines.Line2D at 0x7f9ba92a1f40>,\n",
       "  <matplotlib.lines.Line2D at 0x7f9ba93a0af0>],\n",
       " 'means': []}"
      ]
     },
     "execution_count": 31,
     "metadata": {},
     "output_type": "execute_result"
    },
    {
     "data": {
      "image/png": "[encoded data removed]",
      "text/plain": [
       "<Figure size 864x504 with 1 Axes>"
      ]
     },
     "metadata": {
      "needs_background": "light"
     },
     "output_type": "display_data"
    }
   ],
   "source": [
    "month_1 = train_df[train_df['requester_received_pizza'] == True]['timestamp_converted'].dt.month\n",
    "month_0 = train_df[train_df['requester_received_pizza'] == False]['timestamp_converted'].dt.month\n",
    "\n",
    "month_request = [month_1, month_0]\n",
    "\n",
    "labels = train_df['requester_received_pizza'].unique()\n",
    "\n",
    "fig, ax = plt.subplots(figsize=(12, 7))\n",
    "ax.boxplot(month_request, labels=labels)\n"
   ]
  },
  {
   "cell_type": "code",
   "execution_count": 33,
   "metadata": {},
   "outputs": [
    {
     "data": {
      "text/plain": [
       "-0.18813735994430125"
      ]
     },
     "execution_count": 33,
     "metadata": {},
     "output_type": "execute_result"
    }
   ],
   "source": [
    "np.mean(month_1) - np.mean(month_0)"
   ]
  },
  {
   "cell_type": "code",
   "execution_count": 85,
   "metadata": {},
   "outputs": [
    {
     "data": {
      "text/plain": [
       "<matplotlib.axes._subplots.AxesSubplot at 0x7f922e144af0>"
      ]
     },
     "execution_count": 85,
     "metadata": {},
     "output_type": "execute_result"
    },
    {
     "data": {
      "image/png": "[encoded data removed]",
      "text/plain": [
       "<Figure size 432x288 with 1 Axes>"
      ]
     },
     "metadata": {
      "needs_background": "light"
     },
     "output_type": "display_data"
    }
   ],
   "source": [
    "# distribution by week in year\n",
    "train_df.timestamp_converted.dt.week.astype(int).value_counts().plot(kind='bar')"
   ]
  },
  {
   "cell_type": "code",
   "execution_count": 87,
   "metadata": {
    "scrolled": true
   },
   "outputs": [
    {
     "data": {
      "text/plain": [
       "30    175\n",
       "29    171\n",
       "26    161\n",
       "38    138\n",
       "39    134\n",
       "31    133\n",
       "35    128\n",
       "36    126\n",
       "27    113\n",
       "32    113\n",
       "33    110\n",
       "28    104\n",
       "34    101\n",
       "37     94\n",
       "23     92\n",
       "25     87\n",
       "41     82\n",
       "17     79\n",
       "50     79\n",
       "40     74\n",
       "24     71\n",
       "48     71\n",
       "22     71\n",
       "42     69\n",
       "44     67\n",
       "20     66\n",
       "5      65\n",
       "18     64\n",
       "14     63\n",
       "13     62\n",
       "2      61\n",
       "8      58\n",
       "45     58\n",
       "49     57\n",
       "6      55\n",
       "11     55\n",
       "19     55\n",
       "21     55\n",
       "43     54\n",
       "16     53\n",
       "15     52\n",
       "3      51\n",
       "1      49\n",
       "10     49\n",
       "47     48\n",
       "46     45\n",
       "12     42\n",
       "51     39\n",
       "9      36\n",
       "4      36\n",
       "7      35\n",
       "52     34\n",
       "Name: timestamp_converted, dtype: int64"
      ]
     },
     "execution_count": 87,
     "metadata": {},
     "output_type": "execute_result"
    }
   ],
   "source": [
    "train_df.timestamp_converted.dt.week.value_counts()"
   ]
  },
  {
   "cell_type": "code",
   "execution_count": 99,
   "metadata": {},
   "outputs": [
    {
     "data": {
      "text/html": [
       "<div>\n",
       "<style scoped>\n",
       "    .dataframe tbody tr th:only-of-type {\n",
       "        vertical-align: middle;\n",
       "    }\n",
       "\n",
       "    .dataframe tbody tr th {\n",
       "        vertical-align: top;\n",
       "    }\n",
       "\n",
       "    .dataframe thead th {\n",
       "        text-align: right;\n",
       "    }\n",
       "</style>\n",
       "<table border=\"1\" class=\"dataframe\">\n",
       "  <thead>\n",
       "    <tr style=\"text-align: right;\">\n",
       "      <th>timestamp_converted</th>\n",
       "      <th>1</th>\n",
       "      <th>2</th>\n",
       "      <th>3</th>\n",
       "      <th>4</th>\n",
       "      <th>5</th>\n",
       "      <th>6</th>\n",
       "      <th>7</th>\n",
       "      <th>8</th>\n",
       "      <th>9</th>\n",
       "      <th>10</th>\n",
       "      <th>...</th>\n",
       "      <th>43</th>\n",
       "      <th>44</th>\n",
       "      <th>45</th>\n",
       "      <th>46</th>\n",
       "      <th>47</th>\n",
       "      <th>48</th>\n",
       "      <th>49</th>\n",
       "      <th>50</th>\n",
       "      <th>51</th>\n",
       "      <th>52</th>\n",
       "    </tr>\n",
       "    <tr>\n",
       "      <th>requester_received_pizza</th>\n",
       "      <th></th>\n",
       "      <th></th>\n",
       "      <th></th>\n",
       "      <th></th>\n",
       "      <th></th>\n",
       "      <th></th>\n",
       "      <th></th>\n",
       "      <th></th>\n",
       "      <th></th>\n",
       "      <th></th>\n",
       "      <th></th>\n",
       "      <th></th>\n",
       "      <th></th>\n",
       "      <th></th>\n",
       "      <th></th>\n",
       "      <th></th>\n",
       "      <th></th>\n",
       "      <th></th>\n",
       "      <th></th>\n",
       "      <th></th>\n",
       "      <th></th>\n",
       "    </tr>\n",
       "  </thead>\n",
       "  <tbody>\n",
       "    <tr>\n",
       "      <th>False</th>\n",
       "      <td>32</td>\n",
       "      <td>46</td>\n",
       "      <td>40</td>\n",
       "      <td>32</td>\n",
       "      <td>45</td>\n",
       "      <td>33</td>\n",
       "      <td>31</td>\n",
       "      <td>42</td>\n",
       "      <td>34</td>\n",
       "      <td>35</td>\n",
       "      <td>...</td>\n",
       "      <td>42</td>\n",
       "      <td>53</td>\n",
       "      <td>42</td>\n",
       "      <td>36</td>\n",
       "      <td>35</td>\n",
       "      <td>57</td>\n",
       "      <td>43</td>\n",
       "      <td>63</td>\n",
       "      <td>28</td>\n",
       "      <td>19</td>\n",
       "    </tr>\n",
       "    <tr>\n",
       "      <th>True</th>\n",
       "      <td>17</td>\n",
       "      <td>15</td>\n",
       "      <td>11</td>\n",
       "      <td>4</td>\n",
       "      <td>20</td>\n",
       "      <td>22</td>\n",
       "      <td>4</td>\n",
       "      <td>16</td>\n",
       "      <td>2</td>\n",
       "      <td>14</td>\n",
       "      <td>...</td>\n",
       "      <td>12</td>\n",
       "      <td>14</td>\n",
       "      <td>16</td>\n",
       "      <td>9</td>\n",
       "      <td>13</td>\n",
       "      <td>14</td>\n",
       "      <td>14</td>\n",
       "      <td>16</td>\n",
       "      <td>11</td>\n",
       "      <td>15</td>\n",
       "    </tr>\n",
       "  </tbody>\n",
       "</table>\n",
       "<p>2 rows × 52 columns</p>\n",
       "</div>"
      ],
      "text/plain": [
       "timestamp_converted       1   2   3   4   5   6   7   8   9   10  ...  43  44  \\\n",
       "requester_received_pizza                                          ...           \n",
       "False                     32  46  40  32  45  33  31  42  34  35  ...  42  53   \n",
       "True                      17  15  11   4  20  22   4  16   2  14  ...  12  14   \n",
       "\n",
       "timestamp_converted       45  46  47  48  49  50  51  52  \n",
       "requester_received_pizza                                  \n",
       "False                     42  36  35  57  43  63  28  19  \n",
       "True                      16   9  13  14  14  16  11  15  \n",
       "\n",
       "[2 rows x 52 columns]"
      ]
     },
     "execution_count": 99,
     "metadata": {},
     "output_type": "execute_result"
    }
   ],
   "source": [
    "# relation between week year & outcome \n",
    "pd.crosstab(train_df.requester_received_pizza, train_df.timestamp_converted.dt.week)"
   ]
  },
  {
   "cell_type": "code",
   "execution_count": 16,
   "metadata": {},
   "outputs": [
    {
     "data": {
      "text/plain": [
       "{'whiskers': [<matplotlib.lines.Line2D at 0x7f9baf7656d0>,\n",
       "  <matplotlib.lines.Line2D at 0x7f9baf765a30>,\n",
       "  <matplotlib.lines.Line2D at 0x7f9bafafbe50>,\n",
       "  <matplotlib.lines.Line2D at 0x7f9bafb021c0>],\n",
       " 'caps': [<matplotlib.lines.Line2D at 0x7f9baf765d90>,\n",
       "  <matplotlib.lines.Line2D at 0x7f9bafafb130>,\n",
       "  <matplotlib.lines.Line2D at 0x7f9bafb024f0>,\n",
       "  <matplotlib.lines.Line2D at 0x7f9bafb02820>],\n",
       " 'boxes': [<matplotlib.lines.Line2D at 0x7f9baf765370>,\n",
       "  <matplotlib.lines.Line2D at 0x7f9bafafbb20>],\n",
       " 'medians': [<matplotlib.lines.Line2D at 0x7f9bafafb490>,\n",
       "  <matplotlib.lines.Line2D at 0x7f9bafb02b50>],\n",
       " 'fliers': [<matplotlib.lines.Line2D at 0x7f9bafafb790>,\n",
       "  <matplotlib.lines.Line2D at 0x7f9bafb02e20>],\n",
       " 'means': []}"
      ]
     },
     "execution_count": 16,
     "metadata": {},
     "output_type": "execute_result"
    },
    {
     "data": {
      "image/png": "[encoded data removed]",
      "text/plain": [
       "<Figure size 864x504 with 1 Axes>"
      ]
     },
     "metadata": {
      "needs_background": "light"
     },
     "output_type": "display_data"
    }
   ],
   "source": [
    "week_1 = train_df[train_df['requester_received_pizza'] == True]['timestamp_converted'].dt.week\n",
    "week_0 = train_df[train_df['requester_received_pizza'] == False]['timestamp_converted'].dt.week\n",
    "\n",
    "week_request = [week_1, week_0]\n",
    "\n",
    "labels = train_df['requester_received_pizza'].unique()\n",
    "\n",
    "fig, ax = plt.subplots(figsize=(12, 7))\n",
    "ax.boxplot(week_request, labels=labels)\n"
   ]
  },
  {
   "cell_type": "code",
   "execution_count": 17,
   "metadata": {},
   "outputs": [
    {
     "data": {
      "text/plain": [
       "-0.9441904215840005"
      ]
     },
     "execution_count": 17,
     "metadata": {},
     "output_type": "execute_result"
    }
   ],
   "source": [
    "np.mean(week_1) - np.mean(week_0)"
   ]
  },
  {
   "cell_type": "code",
   "execution_count": 74,
   "metadata": {},
   "outputs": [
    {
     "data": {
      "text/plain": [
       "<matplotlib.axes._subplots.AxesSubplot at 0x7f922be8bf70>"
      ]
     },
     "execution_count": 74,
     "metadata": {},
     "output_type": "execute_result"
    },
    {
     "data": {
      "image/png": "[encoded data removed]",
      "text/plain": [
       "<Figure size 432x288 with 1 Axes>"
      ]
     },
     "metadata": {
      "needs_background": "light"
     },
     "output_type": "display_data"
    }
   ],
   "source": [
    "# distribution by weekday\n",
    "train_df.timestamp_converted.dt.day_name().value_counts().plot(kind='bar')"
   ]
  },
  {
   "cell_type": "code",
   "execution_count": 75,
   "metadata": {},
   "outputs": [
    {
     "data": {
      "text/plain": [
       "Wednesday    0.165842\n",
       "Tuesday      0.148267\n",
       "Monday       0.144059\n",
       "Sunday       0.141832\n",
       "Thursday     0.137624\n",
       "Saturday     0.131436\n",
       "Friday       0.130941\n",
       "Name: timestamp_converted, dtype: float64"
      ]
     },
     "execution_count": 75,
     "metadata": {},
     "output_type": "execute_result"
    }
   ],
   "source": [
    "train_df.timestamp_converted.dt.day_name().value_counts()/len(train_df)"
   ]
  },
  {
   "cell_type": "code",
   "execution_count": 101,
   "metadata": {},
   "outputs": [
    {
     "data": {
      "text/html": [
       "<div>\n",
       "<style scoped>\n",
       "    .dataframe tbody tr th:only-of-type {\n",
       "        vertical-align: middle;\n",
       "    }\n",
       "\n",
       "    .dataframe tbody tr th {\n",
       "        vertical-align: top;\n",
       "    }\n",
       "\n",
       "    .dataframe thead th {\n",
       "        text-align: right;\n",
       "    }\n",
       "</style>\n",
       "<table border=\"1\" class=\"dataframe\">\n",
       "  <thead>\n",
       "    <tr style=\"text-align: right;\">\n",
       "      <th>timestamp_converted</th>\n",
       "      <th>Friday</th>\n",
       "      <th>Monday</th>\n",
       "      <th>Saturday</th>\n",
       "      <th>Sunday</th>\n",
       "      <th>Thursday</th>\n",
       "      <th>Tuesday</th>\n",
       "      <th>Wednesday</th>\n",
       "    </tr>\n",
       "    <tr>\n",
       "      <th>requester_received_pizza</th>\n",
       "      <th></th>\n",
       "      <th></th>\n",
       "      <th></th>\n",
       "      <th></th>\n",
       "      <th></th>\n",
       "      <th></th>\n",
       "      <th></th>\n",
       "    </tr>\n",
       "  </thead>\n",
       "  <tbody>\n",
       "    <tr>\n",
       "      <th>False</th>\n",
       "      <td>393</td>\n",
       "      <td>430</td>\n",
       "      <td>414</td>\n",
       "      <td>439</td>\n",
       "      <td>391</td>\n",
       "      <td>461</td>\n",
       "      <td>518</td>\n",
       "    </tr>\n",
       "    <tr>\n",
       "      <th>True</th>\n",
       "      <td>136</td>\n",
       "      <td>152</td>\n",
       "      <td>117</td>\n",
       "      <td>134</td>\n",
       "      <td>165</td>\n",
       "      <td>138</td>\n",
       "      <td>152</td>\n",
       "    </tr>\n",
       "  </tbody>\n",
       "</table>\n",
       "</div>"
      ],
      "text/plain": [
       "timestamp_converted       Friday  Monday  Saturday  Sunday  Thursday  Tuesday  \\\n",
       "requester_received_pizza                                                        \n",
       "False                        393     430       414     439       391      461   \n",
       "True                         136     152       117     134       165      138   \n",
       "\n",
       "timestamp_converted       Wednesday  \n",
       "requester_received_pizza             \n",
       "False                           518  \n",
       "True                            152  "
      ]
     },
     "execution_count": 101,
     "metadata": {},
     "output_type": "execute_result"
    }
   ],
   "source": [
    "# relation between week day & outcome \n",
    "pd.crosstab(train_df.requester_received_pizza, train_df.timestamp_converted.dt.day_name())"
   ]
  },
  {
   "cell_type": "code",
   "execution_count": 24,
   "metadata": {},
   "outputs": [
    {
     "data": {
      "text/plain": [
       "{'whiskers': [<matplotlib.lines.Line2D at 0x7f9bb2869760>,\n",
       "  <matplotlib.lines.Line2D at 0x7f9bb2869ac0>,\n",
       "  <matplotlib.lines.Line2D at 0x7f9bb2872f40>,\n",
       "  <matplotlib.lines.Line2D at 0x7f9bb287b2e0>],\n",
       " 'caps': [<matplotlib.lines.Line2D at 0x7f9bb2869e20>,\n",
       "  <matplotlib.lines.Line2D at 0x7f9bb28721c0>,\n",
       "  <matplotlib.lines.Line2D at 0x7f9bb287b640>,\n",
       "  <matplotlib.lines.Line2D at 0x7f9bb287b9a0>],\n",
       " 'boxes': [<matplotlib.lines.Line2D at 0x7f9bb2869400>,\n",
       "  <matplotlib.lines.Line2D at 0x7f9bb2872be0>],\n",
       " 'medians': [<matplotlib.lines.Line2D at 0x7f9bb2872520>,\n",
       "  <matplotlib.lines.Line2D at 0x7f9bb287bd00>],\n",
       " 'fliers': [<matplotlib.lines.Line2D at 0x7f9bb2872820>,\n",
       "  <matplotlib.lines.Line2D at 0x7f9bb2886040>],\n",
       " 'means': []}"
      ]
     },
     "execution_count": 24,
     "metadata": {},
     "output_type": "execute_result"
    },
    {
     "data": {
      "image/png": "[encoded data removed]",
      "text/plain": [
       "<Figure size 864x504 with 1 Axes>"
      ]
     },
     "metadata": {
      "needs_background": "light"
     },
     "output_type": "display_data"
    }
   ],
   "source": [
    "day_1 = train_df[train_df['requester_received_pizza'] == True]['timestamp_converted'].dt.dayofweek\n",
    "day_0 = train_df[train_df['requester_received_pizza'] == False]['timestamp_converted'].dt.dayofweek\n",
    "\n",
    "day_request = [day_1, day_0]\n",
    "\n",
    "labels = train_df['requester_received_pizza'].unique()\n",
    "\n",
    "fig, ax = plt.subplots(figsize=(12, 7))\n",
    "ax.boxplot(day_request, labels=labels)\n"
   ]
  },
  {
   "cell_type": "code",
   "execution_count": 25,
   "metadata": {},
   "outputs": [
    {
     "data": {
      "text/plain": [
       "-0.049642569798303615"
      ]
     },
     "execution_count": 25,
     "metadata": {},
     "output_type": "execute_result"
    }
   ],
   "source": [
    "np.mean(day_1) - np.mean(day_0)"
   ]
  },
  {
   "cell_type": "code",
   "execution_count": 80,
   "metadata": {},
   "outputs": [
    {
     "data": {
      "text/plain": [
       "<matplotlib.axes._subplots.AxesSubplot at 0x7f922d32cac0>"
      ]
     },
     "execution_count": 80,
     "metadata": {},
     "output_type": "execute_result"
    },
    {
     "data": {
      "image/png": "[encoded data removed]",
      "text/plain": [
       "<Figure size 432x288 with 1 Axes>"
      ]
     },
     "metadata": {
      "needs_background": "light"
     },
     "output_type": "display_data"
    }
   ],
   "source": [
    "# distribution by hour\n",
    "train_df.timestamp_converted.dt.hour.value_counts().plot(kind='bar')"
   ]
  },
  {
   "cell_type": "code",
   "execution_count": 79,
   "metadata": {},
   "outputs": [
    {
     "data": {
      "text/plain": [
       "23    354\n",
       "0     346\n",
       "22    336\n",
       "1     324\n",
       "21    312\n",
       "2     306\n",
       "20    277\n",
       "19    244\n",
       "3     224\n",
       "18    210\n",
       "4     181\n",
       "17    164\n",
       "16    150\n",
       "5     117\n",
       "15     93\n",
       "6      91\n",
       "14     62\n",
       "7      56\n",
       "13     47\n",
       "9      39\n",
       "8      35\n",
       "11     25\n",
       "10     25\n",
       "12     22\n",
       "Name: timestamp_converted, dtype: int64"
      ]
     },
     "execution_count": 79,
     "metadata": {},
     "output_type": "execute_result"
    }
   ],
   "source": [
    "train_df.timestamp_converted.dt.hour.value_counts()"
   ]
  },
  {
   "cell_type": "code",
   "execution_count": 102,
   "metadata": {},
   "outputs": [
    {
     "data": {
      "text/html": [
       "<div>\n",
       "<style scoped>\n",
       "    .dataframe tbody tr th:only-of-type {\n",
       "        vertical-align: middle;\n",
       "    }\n",
       "\n",
       "    .dataframe tbody tr th {\n",
       "        vertical-align: top;\n",
       "    }\n",
       "\n",
       "    .dataframe thead th {\n",
       "        text-align: right;\n",
       "    }\n",
       "</style>\n",
       "<table border=\"1\" class=\"dataframe\">\n",
       "  <thead>\n",
       "    <tr style=\"text-align: right;\">\n",
       "      <th>timestamp_converted</th>\n",
       "      <th>0</th>\n",
       "      <th>1</th>\n",
       "      <th>2</th>\n",
       "      <th>3</th>\n",
       "      <th>4</th>\n",
       "      <th>5</th>\n",
       "      <th>6</th>\n",
       "      <th>7</th>\n",
       "      <th>8</th>\n",
       "      <th>9</th>\n",
       "      <th>...</th>\n",
       "      <th>14</th>\n",
       "      <th>15</th>\n",
       "      <th>16</th>\n",
       "      <th>17</th>\n",
       "      <th>18</th>\n",
       "      <th>19</th>\n",
       "      <th>20</th>\n",
       "      <th>21</th>\n",
       "      <th>22</th>\n",
       "      <th>23</th>\n",
       "    </tr>\n",
       "    <tr>\n",
       "      <th>requester_received_pizza</th>\n",
       "      <th></th>\n",
       "      <th></th>\n",
       "      <th></th>\n",
       "      <th></th>\n",
       "      <th></th>\n",
       "      <th></th>\n",
       "      <th></th>\n",
       "      <th></th>\n",
       "      <th></th>\n",
       "      <th></th>\n",
       "      <th></th>\n",
       "      <th></th>\n",
       "      <th></th>\n",
       "      <th></th>\n",
       "      <th></th>\n",
       "      <th></th>\n",
       "      <th></th>\n",
       "      <th></th>\n",
       "      <th></th>\n",
       "      <th></th>\n",
       "      <th></th>\n",
       "    </tr>\n",
       "  </thead>\n",
       "  <tbody>\n",
       "    <tr>\n",
       "      <th>False</th>\n",
       "      <td>262</td>\n",
       "      <td>224</td>\n",
       "      <td>239</td>\n",
       "      <td>177</td>\n",
       "      <td>139</td>\n",
       "      <td>101</td>\n",
       "      <td>71</td>\n",
       "      <td>46</td>\n",
       "      <td>30</td>\n",
       "      <td>31</td>\n",
       "      <td>...</td>\n",
       "      <td>45</td>\n",
       "      <td>62</td>\n",
       "      <td>105</td>\n",
       "      <td>116</td>\n",
       "      <td>152</td>\n",
       "      <td>176</td>\n",
       "      <td>212</td>\n",
       "      <td>236</td>\n",
       "      <td>268</td>\n",
       "      <td>262</td>\n",
       "    </tr>\n",
       "    <tr>\n",
       "      <th>True</th>\n",
       "      <td>84</td>\n",
       "      <td>100</td>\n",
       "      <td>67</td>\n",
       "      <td>47</td>\n",
       "      <td>42</td>\n",
       "      <td>16</td>\n",
       "      <td>20</td>\n",
       "      <td>10</td>\n",
       "      <td>5</td>\n",
       "      <td>8</td>\n",
       "      <td>...</td>\n",
       "      <td>17</td>\n",
       "      <td>31</td>\n",
       "      <td>45</td>\n",
       "      <td>48</td>\n",
       "      <td>58</td>\n",
       "      <td>68</td>\n",
       "      <td>65</td>\n",
       "      <td>76</td>\n",
       "      <td>68</td>\n",
       "      <td>92</td>\n",
       "    </tr>\n",
       "  </tbody>\n",
       "</table>\n",
       "<p>2 rows × 24 columns</p>\n",
       "</div>"
      ],
      "text/plain": [
       "timestamp_converted        0    1    2    3    4    5   6   7   8   9   ...  \\\n",
       "requester_received_pizza                                                ...   \n",
       "False                     262  224  239  177  139  101  71  46  30  31  ...   \n",
       "True                       84  100   67   47   42   16  20  10   5   8  ...   \n",
       "\n",
       "timestamp_converted       14  15   16   17   18   19   20   21   22   23  \n",
       "requester_received_pizza                                                  \n",
       "False                     45  62  105  116  152  176  212  236  268  262  \n",
       "True                      17  31   45   48   58   68   65   76   68   92  \n",
       "\n",
       "[2 rows x 24 columns]"
      ]
     },
     "execution_count": 102,
     "metadata": {},
     "output_type": "execute_result"
    }
   ],
   "source": [
    "# relation between hour & outcome \n",
    "pd.crosstab(train_df.requester_received_pizza, train_df.timestamp_converted.dt.hour)"
   ]
  },
  {
   "cell_type": "code",
   "execution_count": 26,
   "metadata": {},
   "outputs": [
    {
     "data": {
      "text/plain": [
       "{'whiskers': [<matplotlib.lines.Line2D at 0x7f9baed0f430>,\n",
       "  <matplotlib.lines.Line2D at 0x7f9baed0fa60>,\n",
       "  <matplotlib.lines.Line2D at 0x7f9baec8ca60>,\n",
       "  <matplotlib.lines.Line2D at 0x7f9bc3bc4460>],\n",
       " 'caps': [<matplotlib.lines.Line2D at 0x7f9baed1b160>,\n",
       "  <matplotlib.lines.Line2D at 0x7f9baed1b700>,\n",
       "  <matplotlib.lines.Line2D at 0x7f9ba6ea4550>,\n",
       "  <matplotlib.lines.Line2D at 0x7f9ba6eec880>],\n",
       " 'boxes': [<matplotlib.lines.Line2D at 0x7f9baf649910>,\n",
       "  <matplotlib.lines.Line2D at 0x7f9baec8c430>],\n",
       " 'medians': [<matplotlib.lines.Line2D at 0x7f9baed1bc10>,\n",
       "  <matplotlib.lines.Line2D at 0x7f9ba6fc5ac0>],\n",
       " 'fliers': [<matplotlib.lines.Line2D at 0x7f9baed1b070>,\n",
       "  <matplotlib.lines.Line2D at 0x7f9ba84375e0>],\n",
       " 'means': []}"
      ]
     },
     "execution_count": 26,
     "metadata": {},
     "output_type": "execute_result"
    },
    {
     "data": {
      "image/png": "[encoded data removed]",
      "text/plain": [
       "<Figure size 864x504 with 1 Axes>"
      ]
     },
     "metadata": {
      "needs_background": "light"
     },
     "output_type": "display_data"
    }
   ],
   "source": [
    "hour_1 = train_df[train_df['requester_received_pizza'] == True]['timestamp_converted'].dt.hour\n",
    "hour_0 = train_df[train_df['requester_received_pizza'] == False]['timestamp_converted'].dt.hour\n",
    "\n",
    "hour_request = [hour_1, hour_0]\n",
    "\n",
    "labels = train_df['requester_received_pizza'].unique()\n",
    "\n",
    "fig, ax = plt.subplots(figsize=(12, 7))\n",
    "ax.boxplot(hour_request, labels=labels)"
   ]
  },
  {
   "cell_type": "code",
   "execution_count": 29,
   "metadata": {},
   "outputs": [
    {
     "data": {
      "text/plain": [
       "0.25327077369007256"
      ]
     },
     "execution_count": 29,
     "metadata": {},
     "output_type": "execute_result"
    }
   ],
   "source": [
    "np.mean(hour_1) - np.mean(hour_0)"
   ]
  },
  {
   "cell_type": "code",
   "execution_count": 46,
   "metadata": {},
   "outputs": [
    {
     "data": {
      "text/plain": [
       "<matplotlib.axes._subplots.AxesSubplot at 0x7f9bb4eafd00>"
      ]
     },
     "execution_count": 46,
     "metadata": {},
     "output_type": "execute_result"
    },
    {
     "data": {
      "image/png": "[encoded data removed]",
      "text/plain": [
       "<Figure size 432x288 with 1 Axes>"
      ]
     },
     "metadata": {
      "needs_background": "light"
     },
     "output_type": "display_data"
    }
   ],
   "source": [
    "# bin hours into three groups: \n",
    "train_df['hour_bins'] = pd.cut(train_df['timestamp_converted'].dt.hour, [0, 7, 12, 19, 23])\n",
    "train_df['hour_bins'].value_counts().plot(kind='bar')\n"
   ]
  },
  {
   "cell_type": "code",
   "execution_count": 47,
   "metadata": {},
   "outputs": [
    {
     "data": {
      "text/html": [
       "<div>\n",
       "<style scoped>\n",
       "    .dataframe tbody tr th:only-of-type {\n",
       "        vertical-align: middle;\n",
       "    }\n",
       "\n",
       "    .dataframe tbody tr th {\n",
       "        vertical-align: top;\n",
       "    }\n",
       "\n",
       "    .dataframe thead th {\n",
       "        text-align: right;\n",
       "    }\n",
       "</style>\n",
       "<table border=\"1\" class=\"dataframe\">\n",
       "  <thead>\n",
       "    <tr style=\"text-align: right;\">\n",
       "      <th>hour_bins</th>\n",
       "      <th>(0, 7]</th>\n",
       "      <th>(7, 12]</th>\n",
       "      <th>(12, 19]</th>\n",
       "      <th>(19, 23]</th>\n",
       "    </tr>\n",
       "    <tr>\n",
       "      <th>requester_received_pizza</th>\n",
       "      <th></th>\n",
       "      <th></th>\n",
       "      <th></th>\n",
       "      <th></th>\n",
       "    </tr>\n",
       "  </thead>\n",
       "  <tbody>\n",
       "    <tr>\n",
       "      <th>False</th>\n",
       "      <td>997</td>\n",
       "      <td>122</td>\n",
       "      <td>687</td>\n",
       "      <td>978</td>\n",
       "    </tr>\n",
       "    <tr>\n",
       "      <th>True</th>\n",
       "      <td>302</td>\n",
       "      <td>24</td>\n",
       "      <td>283</td>\n",
       "      <td>301</td>\n",
       "    </tr>\n",
       "  </tbody>\n",
       "</table>\n",
       "</div>"
      ],
      "text/plain": [
       "hour_bins                 (0, 7]  (7, 12]  (12, 19]  (19, 23]\n",
       "requester_received_pizza                                     \n",
       "False                        997      122       687       978\n",
       "True                         302       24       283       301"
      ]
     },
     "execution_count": 47,
     "metadata": {},
     "output_type": "execute_result"
    }
   ],
   "source": [
    "# relation between hour bins& outcome \n",
    "pd.crosstab(train_df.requester_received_pizza, train_df.hour_bins)"
   ]
  },
  {
   "cell_type": "markdown",
   "metadata": {},
   "source": [
    "Summary\n",
    "- Majority posts seem to be on Wednesdays\n",
    "- Hour of the day seems to have an effect, most requests after 6pm \n",
    "- Weeks 26 to 39 make up majority of the data"
   ]
  },
  {
   "cell_type": "markdown",
   "metadata": {},
   "source": [
    "# colname: requester_received_pizza (dependent)"
   ]
  },
  {
   "cell_type": "code",
   "execution_count": 28,
   "metadata": {},
   "outputs": [
    {
     "data": {
      "text/plain": [
       "False    3046\n",
       "True      994\n",
       "Name: requester_received_pizza, dtype: int64"
      ]
     },
     "execution_count": 28,
     "metadata": {},
     "output_type": "execute_result"
    }
   ],
   "source": [
    "# outcome variable\n",
    "train_df.requester_received_pizza.value_counts()"
   ]
  },
  {
   "cell_type": "code",
   "execution_count": 30,
   "metadata": {},
   "outputs": [
    {
     "data": {
      "text/plain": [
       "<matplotlib.axes._subplots.AxesSubplot at 0x7f924219f0d0>"
      ]
     },
     "execution_count": 30,
     "metadata": {},
     "output_type": "execute_result"
    },
    {
     "data": {
      "image/png": "[encoded data removed]",
      "text/plain": [
       "<Figure size 432x288 with 1 Axes>"
      ]
     },
     "metadata": {
      "needs_background": "light"
     },
     "output_type": "display_data"
    }
   ],
   "source": [
    "train_df.requester_received_pizza.value_counts().plot(kind='bar')"
   ]
  },
  {
   "cell_type": "markdown",
   "metadata": {},
   "source": [
    "## Text field"
   ]
  },
  {
   "cell_type": "code",
   "execution_count": 49,
   "metadata": {},
   "outputs": [],
   "source": [
    "# SK-learn libraries for feature extraction from text.\n",
    "from sklearn.feature_extraction.text import *"
   ]
  },
  {
   "cell_type": "code",
   "execution_count": 48,
   "metadata": {
    "scrolled": true
   },
   "outputs": [
    {
     "data": {
      "text/plain": [
       "                                                                                                                                                                                                                                                                                                                                                                                                                                                                                                                                                                                                                                                                                                                                                                                                                                                                                                                                                                                                                                                                                                                                                                                                                                                                                                                     104\n",
       "*                                                                                                                                                                                                                                                                                                                                                                                                                                                                                                                                                                                                                                                                                                                                                                                                                                                                                                                                                                                                                                                                                                                                                                                                                                                                                                                      5\n",
       "Please and thank you!                                                                                                                                                                                                                                                                                                                                                                                                                                                                                                                                                                                                                                                                                                                                                                                                                                                                                                                                                                                                                                                                                                                                                                                                                                                                                                  2\n",
       "I got out of the Marine Corps several months ago. I am from Texas, and for the past few months I've been preparing to start college in Florida. The original plan was I would drive here to Florida, take a test, then return home and do my coursework online for the first 90 days, which would give me time to pull the funds together for the move to Florida. Unfortunately, they failed to inform me that the online option only applies to students who do exceptionally well on that test, which I did not. Just for the first trip, I had to sell something that was very important to me. Then I took the test and they told me I either had to give up my dream of becoming a student at their university, or move to Florida immediately. I returned to Texas and did everything I could think of to raise money for the early move, and in a final act of desperation, I sold even more of my belongings. Now I am in Florida, with 2 boxes of clothes, sleeping on a fellow classmate's (who also has no money) couch, with $2.00 in my wallet, wondering what I will do for food for the next 30 days, which is when my Veteran's Benefits kick in and I will finally be able to afford to eat. I would LOVE it and greatly appreciate it if some kind soul would buy me a pizza to enjoy tonight.      1\n",
       "I've been hit hard with medical bills, insurance bills, and utilities, resulting in becoming completely broke.  If someone was willing to send a pizza my way it would go a long way, I'd make make whatever sent last for at least a week or more.  If anyone can help that would be most awesome and I'd try my best to help others on here when I financially can.                                                                                                                                                                                                                                                                                                                                                                                                                                                                                                                                                                                                                                                                                                                                                                                                                                                                                                                                                  1\n",
       "                                                                                                                                                                                                                                                                                                                                                                                                                                                                                                                                                                                                                                                                                                                                                                                                                                                                                                                                                                                                                                                                                                                                                                                                                                                                                                                    ... \n",
       "Hey all,\\n\\nFigured I would give this a go. \\n\\nI'm Broke and currently looking for work, I don't have ANY food in the house (I finished the last of it last night, tomato sauce sandwich woot!) and haven't had anything today bar coffee and water :(\\n\\nSo yeah, hurts me to do this but anyone feel like shouting me a pizza? There would be much love!!!                                                                                                                                                                                                                                                                                                                                                                                                                                                                                                                                                                                                                                                                                                                                                                                                                                                                                                                                                          1\n",
       "There's a shitty story behind this but the boyfriend and myself are hungry. Payday is Friday so I'd love to return the favor but for now our tummies are grumbly and we'd love a pizza!                                                                                                                                                                                                                                                                                                                                                                                                                                                                                                                                                                                                                                                                                                                                                                                                                                                                                                                                                                                                                                                                                                                                1\n",
       "Leaving my old stomping grounds of Atlanta to head for greener pastures ( or well , flatter ones i suppose ) . Between the packing and getting a place to live set up im out of readily available cookware and expendable income , was just wanting to try and see if i could get a friendly and memorable send off from a town i love so much. Either or , thanks for the good times atlanta                                                                                                                                                                                                                                                                                                                                                                                                                                                                                                                                                                                                                                                                                                                                                                                                                                                                                                                          1\n",
       "times are hard, and I'd just really enjoy a pizza like old times.                                                                                                                                                                                                                                                                                                                                                                                                                                                                                                                                                                                                                                                                                                                                                                                                                                                                                                                                                                                                                                                                                                                                                                                                                                                      1\n",
       "Hey, I just got off work (11:37pm EST) and have tons of Lab reports to do and a quiz to study for in the morning. Also the paychecks at my work didn't go through this weekend, due to veteran's day on friday, so I wont get paid until tomorrow. I have no money and no time to prepare the scraps I have. Would greatly appreciate a pizza and can pay it forward once my check goes through tomorrow!                                                                                                                                                                                                                                                                                                                                                                                                                                                                                                                                                                                                                                                                                                                                                                                                                                                                                                              1\n",
       "Name: request_text_edit_aware, Length: 3932, dtype: int64"
      ]
     },
     "execution_count": 48,
     "metadata": {},
     "output_type": "execute_result"
    }
   ],
   "source": [
    "train_df.request_text_edit_aware.value_counts()"
   ]
  },
  {
   "cell_type": "code",
   "execution_count": 52,
   "metadata": {
    "scrolled": true
   },
   "outputs": [
    {
     "name": "stdout",
     "output_type": "stream",
     "text": [
      "Example:  1\n",
      "Label:  False\n",
      "Message: \n",
      " Hi I am in need of food for my 4 children we are a military family that has really hit hard times and we have exahusted all means of help just to be able to feed my family and make it through another night is all i ask i know our blessing is coming so whatever u can find in your heart to give is greatly appreciated\n",
      "--- \n",
      "\n",
      "Example:  2\n",
      "Label:  False\n",
      "Message: \n",
      " I spent the last money I had on gas today. Im broke until next Thursday :(\n",
      "--- \n",
      "\n",
      "Example:  3\n",
      "Label:  False\n",
      "Message: \n",
      " My girlfriend decided it would be a good idea to get off at Perth bus station when she was coming to visit me and has since had to spend all her money on a taxi to get to me here in Dundee. Any chance some kind soul would get us some pizza since we don't have any cash anymore?\n",
      "--- \n",
      "\n",
      "Example:  4\n",
      "Label:  False\n",
      "Message: \n",
      " It's cold, I'n hungry, and to be completely honest I'm broke. My mum said we're having leftovers for dinner. A random pizza arriving would be nice.\n",
      "\n",
      "Edit: We had leftovers.\n",
      "--- \n",
      "\n",
      "Example:  5\n",
      "Label:  False\n",
      "Message: \n",
      " hey guys:\n",
      " I love this sub. I think it's great. (Except the sob stories. I miss when this place was fun!) Anywho, I've given a pizza out before so thought I would try my luck at getting one. My friend, who lives an hour away and our schedules do not let us see each other too much, decided to come down and visit me for the night! I would love to be able to be a good host and order her a pizza to go with some beer!\n",
      "\n",
      "Again, no sob story. Just looking to share a pizza with an old friend :)\n",
      "--- \n",
      "\n",
      "Example:  6\n",
      "Label:  True\n",
      "Message: \n",
      " Feeling under the weather so I called out off work today! I hate requesting because I feel like I'm begging so I thought I'd give back! \n",
      "\n",
      "(I'd offer pizza if today were payday :C)\n",
      "--- \n",
      "\n",
      "Example:  7\n",
      "Label:  False\n",
      "Message: \n",
      " We're in Tampa Florida...moving to Ybor on Friday. My email is usfstuff@yahoo.com, since I'm having major trouble figuring out reddit's message system.\n",
      "\n",
      "\n",
      "My two roommates and I have found a new place to live and are moving in on Friday. The rent is $1100 including utitilies and internet. My 2 roomies have very nicely offered for me to just pay $200 a month until I have a job. I am so thankful to have them as friends! This month all of us are extremely poor from paying $2000 to landlord (first+last rent+deposit). We also had to pay $310 for TECO to turn on the electricity.\n",
      "\n",
      "\n",
      "I would just really love to do something nice for them and pick them up a pizza and a sub/pzone. My one roomie doesn't love pizza and she only ever gets a sub/pzone haha. Using a few coupons, I can get 8 pizza rollers, 1 large pizza, and a pzone for $11 from Pizza Hut. If anyone can help me out I would be so grateful! Pizza Hut is just the cheapest, if you have something else in mind let me know. I have an interview on Thursday so keep your fingers crossed!\n",
      "\n",
      "\n",
      "The pic for our huge TECO deposit :/\n",
      "http://imgur.com/B0uoo\n",
      "--- \n",
      "\n",
      "Example:  8\n",
      "Label:  False\n",
      "Message: \n",
      " (Request) I have given a few things on reddit, a copy of skyrim + 1 year of xbocks live, and soon to be a binder full of magic cards, when i can mail it. I would love, if possible, a kinder egg. I cant get them in the states, and I want the joy, and wonder, and hell, german chocolate.\n",
      "if you think I am lying, check my submissions and comments, please direct me to where i can get some of this chocolate goodness....\n",
      "Texas - USA\n",
      "--- \n",
      "\n",
      "Example:  9\n",
      "Label:  False\n",
      "Message: \n",
      " Wasnt really sure what to put as the title, uni student, recently moved interstate (Victoria australia to Queensland australia) am running a little low on funds till wednesday, was hoping maybe a kind stranger could order me a pizza and i can return the favour on wed?\n",
      "--- \n",
      "\n",
      "Example:  10\n",
      "Label:  True\n",
      "Message: \n",
      " Austin, Texas\n",
      "\n",
      "My two roommates and I are hungry as hell. We were all sort of counting on the deposit from our last apartment to help us out, but they claimed there was damages, so we did not receive anything. So, we're sort of struggling. Is anyone able to help us out for dinner tonight? We'd really appreciate it!\n",
      "\n",
      "--- \n",
      "\n"
     ]
    }
   ],
   "source": [
    "for example in range(10):\n",
    "    print(\"Example: \", example+1)       \n",
    "    print(\"Label: \", train_df['requester_received_pizza'][example])\n",
    "    print(\"Message: \\n\", train_df['request_text_edit_aware'][example])\n",
    "    print(\"--- \\n\")\n",
    "    ### STUDENT END ###"
   ]
  },
  {
   "cell_type": "code",
   "execution_count": 63,
   "metadata": {},
   "outputs": [
    {
     "data": {
      "text/plain": [
       "<matplotlib.axes._subplots.AxesSubplot at 0x7f9bb27c2370>"
      ]
     },
     "execution_count": 63,
     "metadata": {},
     "output_type": "execute_result"
    },
    {
     "data": {
      "image/png": "[encoded data removed]",
      "text/plain": [
       "<Figure size 432x288 with 1 Axes>"
      ]
     },
     "metadata": {
      "needs_background": "light"
     },
     "output_type": "display_data"
    }
   ],
   "source": [
    "train_df['request_text_edit_aware'].str.len().plot(kind='bar')"
   ]
  },
  {
   "cell_type": "code",
   "execution_count": 54,
   "metadata": {},
   "outputs": [
    {
     "name": "stdout",
     "output_type": "stream",
     "text": [
      "Size of Vocabulary: 12317\n",
      "Average Number of Non-Zero Features Per Example:  53.56\n",
      "Fraction of Non-Zero entries in matrix: 0.43 %\n",
      "With alphabetical order, the 0th feature string is: 00 \n",
      " the last feature string is: zza\n"
     ]
    }
   ],
   "source": [
    "# unigram vectorizer\n",
    "vectorizer_1 = CountVectorizer()\n",
    "mat_1 = vectorizer_1.fit_transform(train_df['request_text_edit_aware'])\n",
    "print(\"Size of Vocabulary:\", mat_1.shape[1])\n",
    "print('Average Number of Non-Zero Features Per Example: ', round(mat_1.nnz / mat_1.shape[0], 2))\n",
    "print(\"Fraction of Non-Zero entries in matrix:\", \n",
    "          round(100 * mat_1.nnz/(mat_1.shape[0] * mat_1.shape[1]), 2), \"%\")\n",
    "print(\"With alphabetical order, the 0th feature string is:\", vectorizer_1.get_feature_names()[0], \n",
    "         \"\\n the last feature string is:\", vectorizer_1.get_feature_names()[-1])"
   ]
  },
  {
   "cell_type": "code",
   "execution_count": 68,
   "metadata": {
    "scrolled": false
   },
   "outputs": [
    {
     "name": "stdout",
     "output_type": "stream",
     "text": [
      "pizza 3623\n",
      "just 1804\n",
      "help 1445\n",
      "really 1269\n",
      "food 1192\n",
      "money 1111\n",
      "ve 1058\n",
      "don 956\n",
      "pay 916\n",
      "like 887\n",
      "thanks 887\n",
      "week 836\n",
      "work 824\n",
      "job 794\n",
      "time 784\n",
      "love 715\n",
      "day 666\n",
      "got 654\n",
      "know 597\n",
      "make 590\n"
     ]
    },
    {
     "data": {
      "text/plain": [
       "<matplotlib.axes._subplots.AxesSubplot at 0x7f9b95a36670>"
      ]
     },
     "execution_count": 68,
     "metadata": {},
     "output_type": "execute_result"
    },
    {
     "data": {
      "image/png": "[encoded data removed]",
      "text/plain": [
       "<Figure size 432x288 with 1 Axes>"
      ]
     },
     "metadata": {
      "needs_background": "light"
     },
     "output_type": "display_data"
    }
   ],
   "source": [
    "def get_top_n_words(corpus, n=None):\n",
    "    vec = CountVectorizer(stop_words = 'english').fit(corpus)\n",
    "    bag_of_words = vec.transform(corpus)\n",
    "    sum_words = bag_of_words.sum(axis=0) \n",
    "    words_freq = [(word, sum_words[0, idx]) for word, idx in vec.vocabulary_.items()]\n",
    "    words_freq =sorted(words_freq, key = lambda x: x[1], reverse=True)\n",
    "    return words_freq[:n]\n",
    "common_words = get_top_n_words(train_df['request_text_edit_aware'], 20)\n",
    "for word, freq in common_words:\n",
    "    print(word, freq)\n",
    "df2 = pd.DataFrame(common_words, columns = ['request_text' , 'count'])\n",
    "df2.groupby('request_text').sum()['count'].sort_values(ascending=False).plot(kind='bar')"
   ]
  },
  {
   "cell_type": "code",
   "execution_count": 57,
   "metadata": {},
   "outputs": [
    {
     "name": "stdout",
     "output_type": "stream",
     "text": [
      "Size of Vocabulary: 2601\n",
      "Average Number of Non-Zero Features Per Example:  152.4\n",
      "Fraction of Non-Zero entries in matrix: 5.86 %\n"
     ]
    }
   ],
   "source": [
    "# bigram vectorizer\n",
    "vectorizer_2 = CountVectorizer(analyzer='char', ngram_range=(2,2))\n",
    "mat_2 = vectorizer_2.fit_transform(train_df['request_text_edit_aware'])\n",
    "print(\"Size of Vocabulary:\", mat_2.shape[1])\n",
    "print('Average Number of Non-Zero Features Per Example: ', round(mat_2.nnz / mat_2.shape[0], 2))\n",
    "print(\"Fraction of Non-Zero entries in matrix:\", \n",
    "          round(100 * mat_2.nnz/(mat_2.shape[0] * mat_2.shape[1]), 2), \"%\")"
   ]
  },
  {
   "cell_type": "code",
   "execution_count": 70,
   "metadata": {},
   "outputs": [
    {
     "name": "stdout",
     "output_type": "stream",
     "text": [
      "pay forward 433\n",
      "love pizza 210\n",
      "imgur com 208\n",
      "http imgur 203\n",
      "bank account 135\n",
      "really appreciate 132\n",
      "pizza hut 124\n",
      "college student 124\n",
      "return favor 120\n",
      "thanks reading 119\n",
      "just got 115\n",
      "don know 114\n",
      "lost job 111\n",
      "year old 111\n",
      "sob story 110\n",
      "new job 107\n",
      "pizza tonight 104\n",
      "thanks advance 104\n",
      "ve got 95\n",
      "http www 94\n"
     ]
    },
    {
     "data": {
      "text/plain": [
       "<matplotlib.axes._subplots.AxesSubplot at 0x7f9b95656be0>"
      ]
     },
     "execution_count": 70,
     "metadata": {},
     "output_type": "execute_result"
    },
    {
     "data": {
      "image/png": "[encoded data removed]",
      "text/plain": [
       "<Figure size 432x288 with 1 Axes>"
      ]
     },
     "metadata": {
      "needs_background": "light"
     },
     "output_type": "display_data"
    }
   ],
   "source": [
    "def get_top_n_bigram(corpus, n=None):\n",
    "    vec = CountVectorizer(ngram_range=(2, 2), stop_words='english').fit(corpus)\n",
    "    bag_of_words = vec.transform(corpus)\n",
    "    sum_words = bag_of_words.sum(axis=0) \n",
    "    words_freq = [(word, sum_words[0, idx]) for word, idx in vec.vocabulary_.items()]\n",
    "    words_freq =sorted(words_freq, key = lambda x: x[1], reverse=True)\n",
    "    return words_freq[:n]\n",
    "common_words = get_top_n_bigram(train_df['request_text_edit_aware'], 20)\n",
    "for word, freq in common_words:\n",
    "    print(word, freq)\n",
    "df3 = pd.DataFrame(common_words, columns = ['request_text_edit_aware' , 'count'])\n",
    "df3.groupby('request_text_edit_aware').sum()['count'].sort_values(ascending=False).plot(kind='bar')"
   ]
  },
  {
   "cell_type": "code",
   "execution_count": 71,
   "metadata": {},
   "outputs": [
    {
     "name": "stdout",
     "output_type": "stream",
     "text": [
      "Size of Vocabulary: 17622\n",
      "Average Number of Non-Zero Features Per Example:  274.39\n",
      "Fraction of Non-Zero entries in matrix: 1.56 %\n"
     ]
    }
   ],
   "source": [
    "# bigram, trigram vectorizer\n",
    "vectorizer_3 = CountVectorizer(analyzer='char', ngram_range=(3,3))\n",
    "mat_3 = vectorizer_3.fit_transform(train_df['request_text_edit_aware'])\n",
    "print(\"Size of Vocabulary:\", mat_3.shape[1])\n",
    "print('Average Number of Non-Zero Features Per Example: ', round(mat_3.nnz / mat_3.shape[0], 2))\n",
    "print(\"Fraction of Non-Zero entries in matrix:\", \n",
    "          round(100 * mat_3.nnz/(mat_2.shape[0] * mat_3.shape[1]), 2), \"%\")"
   ]
  },
  {
   "cell_type": "code",
   "execution_count": 73,
   "metadata": {},
   "outputs": [
    {
     "name": "stdout",
     "output_type": "stream",
     "text": [
      "http imgur com 203\n",
      "promise pay forward 48\n",
      "pay forward soon 47\n",
      "long story short 45\n",
      "www reddit com 44\n",
      "http www reddit 42\n",
      "ll pay forward 41\n",
      "really appreciate pizza 38\n",
      "really use pizza 36\n",
      "random act pizza 36\n",
      "random acts pizza 32\n",
      "sob story just 29\n",
      "help greatly appreciated 29\n",
      "broke college student 29\n",
      "taking time read 24\n",
      "started new job 24\n",
      "really love pizza 23\n",
      "pay forward paid 23\n",
      "definitely pay forward 23\n",
      "long time lurker 18\n"
     ]
    },
    {
     "data": {
      "text/plain": [
       "<matplotlib.axes._subplots.AxesSubplot at 0x7f9b953fb730>"
      ]
     },
     "execution_count": 73,
     "metadata": {},
     "output_type": "execute_result"
    },
    {
     "data": {
      "image/png": "[encoded data removed]",
      "text/plain": [
       "<Figure size 432x288 with 1 Axes>"
      ]
     },
     "metadata": {
      "needs_background": "light"
     },
     "output_type": "display_data"
    }
   ],
   "source": [
    "def get_top_n_trigram(corpus, n=None):\n",
    "    vec = CountVectorizer(ngram_range=(3, 3), stop_words='english').fit(corpus)\n",
    "    bag_of_words = vec.transform(corpus)\n",
    "    sum_words = bag_of_words.sum(axis=0) \n",
    "    words_freq = [(word, sum_words[0, idx]) for word, idx in vec.vocabulary_.items()]\n",
    "    words_freq =sorted(words_freq, key = lambda x: x[1], reverse=True)\n",
    "    return words_freq[:n]\n",
    "common_words = get_top_n_trigram(train_df['request_text_edit_aware'], 20)\n",
    "for word, freq in common_words:\n",
    "    print(word, freq)\n",
    "df6 = pd.DataFrame(common_words, columns = ['request_text_edit_aware' , 'count'])\n",
    "df6.groupby('request_text_edit_aware').sum()['count'].sort_values(ascending=False).plot(kind='bar')"
   ]
  },
  {
   "cell_type": "code",
   "execution_count": 61,
   "metadata": {},
   "outputs": [
    {
     "name": "stdout",
     "output_type": "stream",
     "text": [
      "Size of Vocabulary: 12317\n",
      "Average Number of Non-Zero Features Per Example:  53.56\n",
      "Fraction of Non-Zero entries in matrix: 0.43 %\n"
     ]
    }
   ],
   "source": [
    "from sklearn.feature_extraction.text import TfidfTransformer\n",
    "# create tf-idf object\n",
    "vectorizer_4 = TfidfVectorizer()\n",
    "\n",
    "# learn the vocabulary and store tf-idf sparse matrix in tfidf\n",
    "tfidf = vectorizer_4.fit_transform(train_df['request_text_edit_aware'])\n",
    "\n",
    "print(\"Size of Vocabulary:\", tfidf.shape[1])\n",
    "print('Average Number of Non-Zero Features Per Example: ', round(tfidf.nnz / tfidf.shape[0], 2))\n",
    "print(\"Fraction of Non-Zero entries in matrix:\", \n",
    "          round(100 * tfidf.nnz/(tfidf.shape[0] * tfidf.shape[1]), 2), \"%\")                      "
   ]
  },
  {
   "cell_type": "code",
   "execution_count": 74,
   "metadata": {},
   "outputs": [
    {
     "name": "stdout",
     "output_type": "stream",
     "text": [
      "pizza 198.1470690131613\n",
      "just 123.63086874953979\n",
      "help 114.33175540881969\n",
      "really 104.61025810241856\n",
      "food 96.38348284456708\n",
      "money 93.60305201365308\n",
      "thanks 86.31424441749401\n",
      "love 81.94120450077126\n",
      "don 81.87802060275997\n",
      "pay 81.76533110543858\n",
      "ve 79.05956839898924\n",
      "week 77.31178481280318\n",
      "like 75.20066893304423\n",
      "job 70.12254866027159\n",
      "work 69.29517898417505\n",
      "time 66.02690941076247\n",
      "broke 65.2812616081544\n",
      "paid 64.40005242818346\n",
      "day 63.7931383087479\n",
      "forward 62.98888776728672\n"
     ]
    },
    {
     "data": {
      "text/plain": [
       "<matplotlib.axes._subplots.AxesSubplot at 0x7f9b9721af10>"
      ]
     },
     "execution_count": 74,
     "metadata": {},
     "output_type": "execute_result"
    },
    {
     "data": {
      "image/png": "[encoded data removed]",
      "text/plain": [
       "<Figure size 432x288 with 1 Axes>"
      ]
     },
     "metadata": {
      "needs_background": "light"
     },
     "output_type": "display_data"
    }
   ],
   "source": [
    "def get_top_n_trigram(corpus, n=None):\n",
    "    vec = TfidfVectorizer(stop_words='english').fit(corpus)\n",
    "    bag_of_words = vec.transform(corpus)\n",
    "    sum_words = bag_of_words.sum(axis=0) \n",
    "    words_freq = [(word, sum_words[0, idx]) for word, idx in vec.vocabulary_.items()]\n",
    "    words_freq =sorted(words_freq, key = lambda x: x[1], reverse=True)\n",
    "    return words_freq[:n]\n",
    "common_words = get_top_n_trigram(train_df['request_text_edit_aware'], 20)\n",
    "for word, freq in common_words:\n",
    "    print(word, freq)\n",
    "df7 = pd.DataFrame(common_words, columns = ['request_text_edit_aware' , 'count'])\n",
    "df7.groupby('request_text_edit_aware').sum()['count'].sort_values(ascending=False).plot(kind='bar')"
   ]
  },
  {
   "cell_type": "code",
   "execution_count": null,
   "metadata": {},
   "outputs": [],
   "source": []
  }
 ],
 "metadata": {
  "kernelspec": {
   "display_name": "Python 3",
   "language": "python",
   "name": "python3"
  },
  "language_info": {
   "codemirror_mode": {
    "name": "ipython",
    "version": 3
   },
   "file_extension": ".py",
   "mimetype": "text/x-python",
   "name": "python",
   "nbconvert_exporter": "python",
   "pygments_lexer": "ipython3",
   "version": "3.8.3"
  }
 },
 "nbformat": 4,
 "nbformat_minor": 4
}
