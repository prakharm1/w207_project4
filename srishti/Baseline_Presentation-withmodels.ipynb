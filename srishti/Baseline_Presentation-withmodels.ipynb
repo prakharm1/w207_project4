{
 "cells": [
  {
   "cell_type": "code",
   "execution_count": 254,
   "metadata": {
    "scrolled": true
   },
   "outputs": [
    {
     "name": "stderr",
     "output_type": "stream",
     "text": [
      "[nltk_data] Downloading package punkt to\n",
      "[nltk_data]     /Users/srishtimehra/nltk_data...\n",
      "[nltk_data]   Package punkt is already up-to-date!\n",
      "[nltk_data] Downloading package stopwords to\n",
      "[nltk_data]     /Users/srishtimehra/nltk_data...\n",
      "[nltk_data]   Package stopwords is already up-to-date!\n",
      "[nltk_data] Downloading package wordnet to\n",
      "[nltk_data]     /Users/srishtimehra/nltk_data...\n",
      "[nltk_data]   Package wordnet is already up-to-date!\n",
      "[nltk_data] Downloading package averaged_perceptron_tagger to\n",
      "[nltk_data]     /Users/srishtimehra/nltk_data...\n",
      "[nltk_data]   Package averaged_perceptron_tagger is already up-to-\n",
      "[nltk_data]       date!\n"
     ]
    },
    {
     "data": {
      "text/plain": [
       "True"
      ]
     },
     "execution_count": 254,
     "metadata": {},
     "output_type": "execute_result"
    }
   ],
   "source": [
    "# SK-learn libraries for feature extraction from text.\n",
    "from sklearn.feature_extraction.text import *\n",
    "import pandas as pd\n",
    "from datetime import datetime\n",
    "import re\n",
    "import nltk\n",
    "import json\n",
    "import numpy as np\n",
    "from nltk import sent_tokenize, word_tokenize\n",
    "from nltk import pos_tag\n",
    "from nltk.stem import WordNetLemmatizer\n",
    "from nltk.corpus import stopwords\n",
    "from string import punctuation\n",
    "from textblob import TextBlob\n",
    "#import contractions \n",
    "import scipy\n",
    "from sklearn.decomposition import LatentDirichletAllocation\n",
    "from sklearn.decomposition import NMF\n",
    "from sklearn.ensemble import AdaBoostClassifier\n",
    "from sklearn.ensemble import GradientBoostingClassifier\n",
    "from sklearn.pipeline import make_pipeline\n",
    "from sklearn.ensemble import RandomForestClassifier\n",
    "from sklearn.linear_model import LogisticRegression\n",
    "from sklearn.model_selection import RandomizedSearchCV\n",
    "from sklearn.metrics import accuracy_score\n",
    "from sklearn.metrics import confusion_matrix\n",
    "from sklearn.metrics import classification_report\n",
    "from sklearn.metrics import precision_recall_curve\n",
    "from sklearn.model_selection import train_test_split\n",
    "from sklearn.neighbors import KNeighborsClassifier\n",
    "from sklearn.preprocessing import LabelEncoder\n",
    "from sklearn import svm\n",
    "import sklearn.tree\n",
    "from statistics import mode\n",
    "import re\n",
    "\n",
    "%matplotlib inline\n",
    "import csv\n",
    "import sklearn\n",
    "import matplotlib.pyplot as plt\n",
    "import seaborn as sns\n",
    "from sklearn.model_selection import train_test_split \n",
    "sns.set(style=\"darkgrid\")\n",
    "\n",
    "import gensim\n",
    "from gensim.models import Phrases, KeyedVectors, Word2Vec\n",
    "import gensim.downloader\n",
    "\n",
    "#import xgboost as xgb\n",
    "\n",
    "from scipy import stats\n",
    "\n",
    "nltk.download('punkt')\n",
    "nltk.download('stopwords')\n",
    "nltk.download('wordnet')\n",
    "nltk.download('averaged_perceptron_tagger')"
   ]
  },
  {
   "cell_type": "markdown",
   "metadata": {},
   "source": [
    "## Problem Introduction\n",
    "\n",
    "We have a dataset in JSON format containing information about the user activity in a reddit forum **ROAP**. Our feature set comes from a bunch of user features noted at the time of posting user comments in the forun alogside the titel and text they chose. The response variable is whether the requester received the pizza or not."
   ]
  },
  {
   "cell_type": "markdown",
   "metadata": {},
   "source": [
    "### 1. Loading the training data"
   ]
  },
  {
   "cell_type": "code",
   "execution_count": 2,
   "metadata": {},
   "outputs": [],
   "source": [
    "with open('../data/random-acts-of-pizza/train.json') as f:\n",
    "    train_json_data = json.load(f)"
   ]
  },
  {
   "cell_type": "code",
   "execution_count": 3,
   "metadata": {},
   "outputs": [
    {
     "name": "stderr",
     "output_type": "stream",
     "text": [
      "/opt/anaconda3/lib/python3.7/site-packages/ipykernel_launcher.py:1: FutureWarning: pandas.io.json.json_normalize is deprecated, use pandas.json_normalize instead\n",
      "  \"\"\"Entry point for launching an IPython kernel.\n"
     ]
    },
    {
     "data": {
      "text/html": [
       "<div>\n",
       "<style scoped>\n",
       "    .dataframe tbody tr th:only-of-type {\n",
       "        vertical-align: middle;\n",
       "    }\n",
       "\n",
       "    .dataframe tbody tr th {\n",
       "        vertical-align: top;\n",
       "    }\n",
       "\n",
       "    .dataframe thead th {\n",
       "        text-align: right;\n",
       "    }\n",
       "</style>\n",
       "<table border=\"1\" class=\"dataframe\">\n",
       "  <thead>\n",
       "    <tr style=\"text-align: right;\">\n",
       "      <th></th>\n",
       "      <th>giver_username_if_known</th>\n",
       "      <th>number_of_downvotes_of_request_at_retrieval</th>\n",
       "      <th>number_of_upvotes_of_request_at_retrieval</th>\n",
       "      <th>post_was_edited</th>\n",
       "      <th>request_id</th>\n",
       "      <th>request_number_of_comments_at_retrieval</th>\n",
       "      <th>request_text</th>\n",
       "      <th>request_text_edit_aware</th>\n",
       "      <th>request_title</th>\n",
       "      <th>requester_account_age_in_days_at_request</th>\n",
       "      <th>...</th>\n",
       "      <th>requester_received_pizza</th>\n",
       "      <th>requester_subreddits_at_request</th>\n",
       "      <th>requester_upvotes_minus_downvotes_at_request</th>\n",
       "      <th>requester_upvotes_minus_downvotes_at_retrieval</th>\n",
       "      <th>requester_upvotes_plus_downvotes_at_request</th>\n",
       "      <th>requester_upvotes_plus_downvotes_at_retrieval</th>\n",
       "      <th>requester_user_flair</th>\n",
       "      <th>requester_username</th>\n",
       "      <th>unix_timestamp_of_request</th>\n",
       "      <th>unix_timestamp_of_request_utc</th>\n",
       "    </tr>\n",
       "  </thead>\n",
       "  <tbody>\n",
       "    <tr>\n",
       "      <th>0</th>\n",
       "      <td>N/A</td>\n",
       "      <td>0</td>\n",
       "      <td>1</td>\n",
       "      <td>False</td>\n",
       "      <td>t3_l25d7</td>\n",
       "      <td>0</td>\n",
       "      <td>Hi I am in need of food for my 4 children we a...</td>\n",
       "      <td>Hi I am in need of food for my 4 children we a...</td>\n",
       "      <td>Request Colorado Springs Help Us Please</td>\n",
       "      <td>0.000000</td>\n",
       "      <td>...</td>\n",
       "      <td>False</td>\n",
       "      <td>[]</td>\n",
       "      <td>0</td>\n",
       "      <td>1</td>\n",
       "      <td>0</td>\n",
       "      <td>1</td>\n",
       "      <td>None</td>\n",
       "      <td>nickylvst</td>\n",
       "      <td>1.317853e+09</td>\n",
       "      <td>1.317849e+09</td>\n",
       "    </tr>\n",
       "    <tr>\n",
       "      <th>1</th>\n",
       "      <td>N/A</td>\n",
       "      <td>2</td>\n",
       "      <td>5</td>\n",
       "      <td>False</td>\n",
       "      <td>t3_rcb83</td>\n",
       "      <td>0</td>\n",
       "      <td>I spent the last money I had on gas today. Im ...</td>\n",
       "      <td>I spent the last money I had on gas today. Im ...</td>\n",
       "      <td>[Request] California, No cash and I could use ...</td>\n",
       "      <td>501.111100</td>\n",
       "      <td>...</td>\n",
       "      <td>False</td>\n",
       "      <td>[AskReddit, Eve, IAmA, MontereyBay, RandomKind...</td>\n",
       "      <td>34</td>\n",
       "      <td>4258</td>\n",
       "      <td>116</td>\n",
       "      <td>11168</td>\n",
       "      <td>None</td>\n",
       "      <td>fohacidal</td>\n",
       "      <td>1.332652e+09</td>\n",
       "      <td>1.332649e+09</td>\n",
       "    </tr>\n",
       "    <tr>\n",
       "      <th>2</th>\n",
       "      <td>N/A</td>\n",
       "      <td>0</td>\n",
       "      <td>3</td>\n",
       "      <td>False</td>\n",
       "      <td>t3_lpu5j</td>\n",
       "      <td>0</td>\n",
       "      <td>My girlfriend decided it would be a good idea ...</td>\n",
       "      <td>My girlfriend decided it would be a good idea ...</td>\n",
       "      <td>[Request] Hungry couple in Dundee, Scotland wo...</td>\n",
       "      <td>0.000000</td>\n",
       "      <td>...</td>\n",
       "      <td>False</td>\n",
       "      <td>[]</td>\n",
       "      <td>0</td>\n",
       "      <td>3</td>\n",
       "      <td>0</td>\n",
       "      <td>3</td>\n",
       "      <td>None</td>\n",
       "      <td>jacquibatman7</td>\n",
       "      <td>1.319650e+09</td>\n",
       "      <td>1.319646e+09</td>\n",
       "    </tr>\n",
       "    <tr>\n",
       "      <th>3</th>\n",
       "      <td>N/A</td>\n",
       "      <td>0</td>\n",
       "      <td>1</td>\n",
       "      <td>True</td>\n",
       "      <td>t3_mxvj3</td>\n",
       "      <td>4</td>\n",
       "      <td>It's cold, I'n hungry, and to be completely ho...</td>\n",
       "      <td>It's cold, I'n hungry, and to be completely ho...</td>\n",
       "      <td>[Request] In Canada (Ontario), just got home f...</td>\n",
       "      <td>6.518438</td>\n",
       "      <td>...</td>\n",
       "      <td>False</td>\n",
       "      <td>[AskReddit, DJs, IAmA, Random_Acts_Of_Pizza]</td>\n",
       "      <td>54</td>\n",
       "      <td>59</td>\n",
       "      <td>76</td>\n",
       "      <td>81</td>\n",
       "      <td>None</td>\n",
       "      <td>4on_the_floor</td>\n",
       "      <td>1.322855e+09</td>\n",
       "      <td>1.322855e+09</td>\n",
       "    </tr>\n",
       "    <tr>\n",
       "      <th>4</th>\n",
       "      <td>N/A</td>\n",
       "      <td>6</td>\n",
       "      <td>6</td>\n",
       "      <td>False</td>\n",
       "      <td>t3_1i6486</td>\n",
       "      <td>5</td>\n",
       "      <td>hey guys:\\n I love this sub. I think it's grea...</td>\n",
       "      <td>hey guys:\\n I love this sub. I think it's grea...</td>\n",
       "      <td>[Request] Old friend coming to visit. Would LO...</td>\n",
       "      <td>162.063252</td>\n",
       "      <td>...</td>\n",
       "      <td>False</td>\n",
       "      <td>[GayBrosWeightLoss, RandomActsOfCookies, Rando...</td>\n",
       "      <td>1121</td>\n",
       "      <td>1225</td>\n",
       "      <td>1733</td>\n",
       "      <td>1887</td>\n",
       "      <td>None</td>\n",
       "      <td>Futuredogwalker</td>\n",
       "      <td>1.373658e+09</td>\n",
       "      <td>1.373654e+09</td>\n",
       "    </tr>\n",
       "  </tbody>\n",
       "</table>\n",
       "<p>5 rows × 32 columns</p>\n",
       "</div>"
      ],
      "text/plain": [
       "  giver_username_if_known  number_of_downvotes_of_request_at_retrieval  \\\n",
       "0                     N/A                                            0   \n",
       "1                     N/A                                            2   \n",
       "2                     N/A                                            0   \n",
       "3                     N/A                                            0   \n",
       "4                     N/A                                            6   \n",
       "\n",
       "   number_of_upvotes_of_request_at_retrieval post_was_edited request_id  \\\n",
       "0                                          1           False   t3_l25d7   \n",
       "1                                          5           False   t3_rcb83   \n",
       "2                                          3           False   t3_lpu5j   \n",
       "3                                          1            True   t3_mxvj3   \n",
       "4                                          6           False  t3_1i6486   \n",
       "\n",
       "   request_number_of_comments_at_retrieval  \\\n",
       "0                                        0   \n",
       "1                                        0   \n",
       "2                                        0   \n",
       "3                                        4   \n",
       "4                                        5   \n",
       "\n",
       "                                        request_text  \\\n",
       "0  Hi I am in need of food for my 4 children we a...   \n",
       "1  I spent the last money I had on gas today. Im ...   \n",
       "2  My girlfriend decided it would be a good idea ...   \n",
       "3  It's cold, I'n hungry, and to be completely ho...   \n",
       "4  hey guys:\\n I love this sub. I think it's grea...   \n",
       "\n",
       "                             request_text_edit_aware  \\\n",
       "0  Hi I am in need of food for my 4 children we a...   \n",
       "1  I spent the last money I had on gas today. Im ...   \n",
       "2  My girlfriend decided it would be a good idea ...   \n",
       "3  It's cold, I'n hungry, and to be completely ho...   \n",
       "4  hey guys:\\n I love this sub. I think it's grea...   \n",
       "\n",
       "                                       request_title  \\\n",
       "0            Request Colorado Springs Help Us Please   \n",
       "1  [Request] California, No cash and I could use ...   \n",
       "2  [Request] Hungry couple in Dundee, Scotland wo...   \n",
       "3  [Request] In Canada (Ontario), just got home f...   \n",
       "4  [Request] Old friend coming to visit. Would LO...   \n",
       "\n",
       "   requester_account_age_in_days_at_request  ...  requester_received_pizza  \\\n",
       "0                                  0.000000  ...                     False   \n",
       "1                                501.111100  ...                     False   \n",
       "2                                  0.000000  ...                     False   \n",
       "3                                  6.518438  ...                     False   \n",
       "4                                162.063252  ...                     False   \n",
       "\n",
       "                     requester_subreddits_at_request  \\\n",
       "0                                                 []   \n",
       "1  [AskReddit, Eve, IAmA, MontereyBay, RandomKind...   \n",
       "2                                                 []   \n",
       "3       [AskReddit, DJs, IAmA, Random_Acts_Of_Pizza]   \n",
       "4  [GayBrosWeightLoss, RandomActsOfCookies, Rando...   \n",
       "\n",
       "   requester_upvotes_minus_downvotes_at_request  \\\n",
       "0                                             0   \n",
       "1                                            34   \n",
       "2                                             0   \n",
       "3                                            54   \n",
       "4                                          1121   \n",
       "\n",
       "   requester_upvotes_minus_downvotes_at_retrieval  \\\n",
       "0                                               1   \n",
       "1                                            4258   \n",
       "2                                               3   \n",
       "3                                              59   \n",
       "4                                            1225   \n",
       "\n",
       "   requester_upvotes_plus_downvotes_at_request  \\\n",
       "0                                            0   \n",
       "1                                          116   \n",
       "2                                            0   \n",
       "3                                           76   \n",
       "4                                         1733   \n",
       "\n",
       "   requester_upvotes_plus_downvotes_at_retrieval  requester_user_flair  \\\n",
       "0                                              1                  None   \n",
       "1                                          11168                  None   \n",
       "2                                              3                  None   \n",
       "3                                             81                  None   \n",
       "4                                           1887                  None   \n",
       "\n",
       "   requester_username  unix_timestamp_of_request  \\\n",
       "0           nickylvst               1.317853e+09   \n",
       "1           fohacidal               1.332652e+09   \n",
       "2       jacquibatman7               1.319650e+09   \n",
       "3       4on_the_floor               1.322855e+09   \n",
       "4     Futuredogwalker               1.373658e+09   \n",
       "\n",
       "   unix_timestamp_of_request_utc  \n",
       "0                   1.317849e+09  \n",
       "1                   1.332649e+09  \n",
       "2                   1.319646e+09  \n",
       "3                   1.322855e+09  \n",
       "4                   1.373654e+09  \n",
       "\n",
       "[5 rows x 32 columns]"
      ]
     },
     "execution_count": 3,
     "metadata": {},
     "output_type": "execute_result"
    }
   ],
   "source": [
    "df = pd.io.json.json_normalize(train_json_data) \n",
    "df.head()"
   ]
  },
  {
   "cell_type": "code",
   "execution_count": 4,
   "metadata": {},
   "outputs": [
    {
     "name": "stdout",
     "output_type": "stream",
     "text": [
      "Total data rows in full training set: 4040\n",
      "Total data columns in full training set: 32\n"
     ]
    }
   ],
   "source": [
    "print('Total data rows in full training set: {}'.format(df.shape[0]))\n",
    "print('Total data columns in full training set: {}'.format(df.shape[1]))"
   ]
  },
  {
   "cell_type": "markdown",
   "metadata": {},
   "source": [
    "### 2. Splitting training set into training and validation\n",
    "\n",
    "As we don't have labeled test set, we have to split existing training data into training and validation set in order to evaluate our model performance. We have already split the train and validation in 90/10 ratio and saved as csv files. We read them directly in memory."
   ]
  },
  {
   "cell_type": "code",
   "execution_count": 5,
   "metadata": {},
   "outputs": [],
   "source": [
    "# split data in training and test data\n",
    "train, val = train_test_split(df, test_size=0.1, random_state=42)"
   ]
  },
  {
   "cell_type": "code",
   "execution_count": 6,
   "metadata": {},
   "outputs": [
    {
     "name": "stdout",
     "output_type": "stream",
     "text": [
      "(3636, 32)\n",
      "(404, 32)\n"
     ]
    }
   ],
   "source": [
    "print(train.shape)\n",
    "print(val.shape)"
   ]
  },
  {
   "cell_type": "markdown",
   "metadata": {},
   "source": [
    "### 3. Extracting relevant columns (which are present in test data) "
   ]
  },
  {
   "cell_type": "code",
   "execution_count": 7,
   "metadata": {},
   "outputs": [],
   "source": [
    "relevant_cols = ['request_title', 'request_text_edit_aware' ,\n",
    "                 'requester_number_of_posts_on_raop_at_request', \n",
    "                'requester_number_of_subreddits_at_request', \n",
    "                 'unix_timestamp_of_request', \n",
    "                'requester_account_age_in_days_at_request',\n",
    "                'requester_subreddits_at_request',\n",
    "                'requester_upvotes_minus_downvotes_at_request', \n",
    "                'requester_upvotes_plus_downvotes_at_request']\n",
    "\n",
    "text_cols = ['request_title','request_text_edit_aware']\n",
    "y_col = 'requester_received_pizza'"
   ]
  },
  {
   "cell_type": "code",
   "execution_count": 8,
   "metadata": {},
   "outputs": [
    {
     "data": {
      "text/html": [
       "<div>\n",
       "<style scoped>\n",
       "    .dataframe tbody tr th:only-of-type {\n",
       "        vertical-align: middle;\n",
       "    }\n",
       "\n",
       "    .dataframe tbody tr th {\n",
       "        vertical-align: top;\n",
       "    }\n",
       "\n",
       "    .dataframe thead th {\n",
       "        text-align: right;\n",
       "    }\n",
       "</style>\n",
       "<table border=\"1\" class=\"dataframe\">\n",
       "  <thead>\n",
       "    <tr style=\"text-align: right;\">\n",
       "      <th></th>\n",
       "      <th>requester_received_pizza</th>\n",
       "      <th>request_title</th>\n",
       "      <th>request_text_edit_aware</th>\n",
       "      <th>requester_number_of_posts_on_raop_at_request</th>\n",
       "      <th>requester_number_of_subreddits_at_request</th>\n",
       "      <th>unix_timestamp_of_request</th>\n",
       "      <th>requester_account_age_in_days_at_request</th>\n",
       "      <th>requester_subreddits_at_request</th>\n",
       "      <th>requester_upvotes_minus_downvotes_at_request</th>\n",
       "      <th>requester_upvotes_plus_downvotes_at_request</th>\n",
       "    </tr>\n",
       "  </thead>\n",
       "  <tbody>\n",
       "    <tr>\n",
       "      <th>1575</th>\n",
       "      <td>False</td>\n",
       "      <td>[REQUEST] Ottawa Canada poor unemployed  hungr...</td>\n",
       "      <td>I'm a liberal arts student with zero dollars t...</td>\n",
       "      <td>0</td>\n",
       "      <td>1</td>\n",
       "      <td>1.329752e+09</td>\n",
       "      <td>0.000000</td>\n",
       "      <td>[Random_Acts_Of_Pizza]</td>\n",
       "      <td>-1</td>\n",
       "      <td>1</td>\n",
       "    </tr>\n",
       "    <tr>\n",
       "      <th>1614</th>\n",
       "      <td>True</td>\n",
       "      <td>[Request] For my brother and I (south FL)</td>\n",
       "      <td>For the past months since I've been home fro...</td>\n",
       "      <td>0</td>\n",
       "      <td>31</td>\n",
       "      <td>1.310158e+09</td>\n",
       "      <td>525.780440</td>\n",
       "      <td>[4chan, AskReddit, DMA, Filevo, FreewareForRed...</td>\n",
       "      <td>1294</td>\n",
       "      <td>2276</td>\n",
       "    </tr>\n",
       "    <tr>\n",
       "      <th>1487</th>\n",
       "      <td>False</td>\n",
       "      <td>[Request] Broke and hungry - Oregon</td>\n",
       "      <td>Broke, pregnant and hungry. We won't get foods...</td>\n",
       "      <td>0</td>\n",
       "      <td>29</td>\n",
       "      <td>1.372539e+09</td>\n",
       "      <td>374.880625</td>\n",
       "      <td>[AskReddit, Assistance, BabyBumps, BabyExchang...</td>\n",
       "      <td>1369</td>\n",
       "      <td>2387</td>\n",
       "    </tr>\n",
       "    <tr>\n",
       "      <th>188</th>\n",
       "      <td>False</td>\n",
       "      <td>[request] Our cat decided he was going to lay ...</td>\n",
       "      <td>our cat always jumps onto the counter when we ...</td>\n",
       "      <td>0</td>\n",
       "      <td>11</td>\n",
       "      <td>1.366735e+09</td>\n",
       "      <td>41.885185</td>\n",
       "      <td>[ABraThatFits, AskReddit, BustyPetite, Monster...</td>\n",
       "      <td>1426</td>\n",
       "      <td>2666</td>\n",
       "    </tr>\n",
       "    <tr>\n",
       "      <th>12</th>\n",
       "      <td>False</td>\n",
       "      <td>[REQUEST] Georgia, USA Please help me family o...</td>\n",
       "      <td>I am a stay at home mom of two kids i live wit...</td>\n",
       "      <td>0</td>\n",
       "      <td>0</td>\n",
       "      <td>1.311833e+09</td>\n",
       "      <td>0.000000</td>\n",
       "      <td>[]</td>\n",
       "      <td>0</td>\n",
       "      <td>0</td>\n",
       "    </tr>\n",
       "  </tbody>\n",
       "</table>\n",
       "</div>"
      ],
      "text/plain": [
       "      requester_received_pizza  \\\n",
       "1575                     False   \n",
       "1614                      True   \n",
       "1487                     False   \n",
       "188                      False   \n",
       "12                       False   \n",
       "\n",
       "                                          request_title  \\\n",
       "1575  [REQUEST] Ottawa Canada poor unemployed  hungr...   \n",
       "1614          [Request] For my brother and I (south FL)   \n",
       "1487                [Request] Broke and hungry - Oregon   \n",
       "188   [request] Our cat decided he was going to lay ...   \n",
       "12    [REQUEST] Georgia, USA Please help me family o...   \n",
       "\n",
       "                                request_text_edit_aware  \\\n",
       "1575  I'm a liberal arts student with zero dollars t...   \n",
       "1614    For the past months since I've been home fro...   \n",
       "1487  Broke, pregnant and hungry. We won't get foods...   \n",
       "188   our cat always jumps onto the counter when we ...   \n",
       "12    I am a stay at home mom of two kids i live wit...   \n",
       "\n",
       "      requester_number_of_posts_on_raop_at_request  \\\n",
       "1575                                             0   \n",
       "1614                                             0   \n",
       "1487                                             0   \n",
       "188                                              0   \n",
       "12                                               0   \n",
       "\n",
       "      requester_number_of_subreddits_at_request  unix_timestamp_of_request  \\\n",
       "1575                                          1               1.329752e+09   \n",
       "1614                                         31               1.310158e+09   \n",
       "1487                                         29               1.372539e+09   \n",
       "188                                          11               1.366735e+09   \n",
       "12                                            0               1.311833e+09   \n",
       "\n",
       "      requester_account_age_in_days_at_request  \\\n",
       "1575                                  0.000000   \n",
       "1614                                525.780440   \n",
       "1487                                374.880625   \n",
       "188                                  41.885185   \n",
       "12                                    0.000000   \n",
       "\n",
       "                        requester_subreddits_at_request  \\\n",
       "1575                             [Random_Acts_Of_Pizza]   \n",
       "1614  [4chan, AskReddit, DMA, Filevo, FreewareForRed...   \n",
       "1487  [AskReddit, Assistance, BabyBumps, BabyExchang...   \n",
       "188   [ABraThatFits, AskReddit, BustyPetite, Monster...   \n",
       "12                                                   []   \n",
       "\n",
       "      requester_upvotes_minus_downvotes_at_request  \\\n",
       "1575                                            -1   \n",
       "1614                                          1294   \n",
       "1487                                          1369   \n",
       "188                                           1426   \n",
       "12                                               0   \n",
       "\n",
       "      requester_upvotes_plus_downvotes_at_request  \n",
       "1575                                            1  \n",
       "1614                                         2276  \n",
       "1487                                         2387  \n",
       "188                                          2666  \n",
       "12                                              0  "
      ]
     },
     "execution_count": 8,
     "metadata": {},
     "output_type": "execute_result"
    }
   ],
   "source": [
    "train = train[[y_col] + relevant_cols]\n",
    "val = val[[y_col] + relevant_cols]\n",
    "train.head()"
   ]
  },
  {
   "cell_type": "code",
   "execution_count": 9,
   "metadata": {},
   "outputs": [
    {
     "name": "stdout",
     "output_type": "stream",
     "text": [
      "(3636, 10)\n",
      "(404, 10)\n"
     ]
    }
   ],
   "source": [
    "print(train.shape)\n",
    "print(val.shape)"
   ]
  },
  {
   "cell_type": "markdown",
   "metadata": {},
   "source": [
    "### 4. Exploration of outcome variable (univariate)"
   ]
  },
  {
   "cell_type": "code",
   "execution_count": 10,
   "metadata": {},
   "outputs": [
    {
     "data": {
      "image/png": "[encoded data removed]",
      "text/plain": [
       "<Figure size 432x288 with 1 Axes>"
      ]
     },
     "metadata": {},
     "output_type": "display_data"
    }
   ],
   "source": [
    "ax = train['requester_received_pizza'].value_counts(normalize=True).plot(kind='bar')\n",
    "for p in ax.patches:\n",
    "    ax.annotate(str(round(p.get_height(), 5)), (p.get_x() * 1.005, p.get_height() * 1.005))\n",
    "plt.title('Success Rate in Training')\n",
    "plt.ylabel('Number of Occurrences', fontsize=12)\n",
    "pass"
   ]
  },
  {
   "cell_type": "markdown",
   "metadata": {},
   "source": [
    "We see that there is a **24.5% success rate** in our training set. This is encouraging as although there is a class imbalance in our training dataset, it is not extream. "
   ]
  },
  {
   "cell_type": "markdown",
   "metadata": {},
   "source": [
    "### 5. Exploration of non-text features"
   ]
  },
  {
   "cell_type": "markdown",
   "metadata": {},
   "source": [
    "#### 5.1 requester_number_of_posts_on_raop_at_request\n",
    "\n",
    "It is evident that most of the requesters in our training set (95.25%) made their first post on RAOP when they requested for pizza. This strongly suggests a novelty effect at play if the training data is representative. When people discover this group and see others requesting pizza, they themselves are encouraged to ask for pizza from an unknown community."
   ]
  },
  {
   "cell_type": "code",
   "execution_count": 11,
   "metadata": {},
   "outputs": [
    {
     "data": {
      "text/plain": [
       "0    3459\n",
       "1     132\n",
       "2      33\n",
       "3       8\n",
       "5       3\n",
       "4       1\n",
       "Name: requester_number_of_posts_on_raop_at_request, dtype: int64"
      ]
     },
     "execution_count": 11,
     "metadata": {},
     "output_type": "execute_result"
    }
   ],
   "source": [
    "train['requester_number_of_posts_on_raop_at_request'].value_counts()"
   ]
  },
  {
   "cell_type": "code",
   "execution_count": 12,
   "metadata": {},
   "outputs": [
    {
     "data": {
      "image/png": "[encoded data removed]",
      "text/plain": [
       "<Figure size 432x288 with 1 Axes>"
      ]
     },
     "metadata": {},
     "output_type": "display_data"
    }
   ],
   "source": [
    "ax = train['requester_number_of_posts_on_raop_at_request'].value_counts(normalize=True).plot(kind='bar')\n",
    "for p in ax.patches:\n",
    "    ax.annotate(str(round(p.get_height(), 2)), (p.get_x() * 1.005, p.get_height() * 1.005))\n",
    "plt.title('Distribution of Number of posts on RAOP at request')\n",
    "plt.ylabel('Number of Occurrences', fontsize=12)\n",
    "pass"
   ]
  },
  {
   "cell_type": "code",
   "execution_count": 13,
   "metadata": {},
   "outputs": [
    {
     "data": {
      "image/png": "[encoded data removed]",
      "text/plain": [
       "<Figure size 432x288 with 1 Axes>"
      ]
     },
     "metadata": {},
     "output_type": "display_data"
    }
   ],
   "source": [
    "sns.countplot(x = 'requester_number_of_posts_on_raop_at_request', \n",
    "              hue='requester_received_pizza', data=train)\n",
    "plt.title('Distribution of success rate across #posts at request')\n",
    "pass"
   ]
  },
  {
   "cell_type": "markdown",
   "metadata": {},
   "source": [
    "#### 5.2 requester_number_of_subreddits_at_request\n",
    "\n",
    "We see the following pattern \n",
    "\n",
    "|Category|sub-reddits|count|Prcnt|\n",
    "|--|--|--|--|\n",
    "|New comer|0|656|18.04%|\n",
    "|Newbie|1-5|730|19.96%|\n",
    "|Somewhat Engaged|5-10|441|11.41%|\n",
    "|Medium Engaged|10-50|1510|42.11%|\n",
    "|Highly Engaged|50-100|267|7.62%|\n",
    "|Power users|100+|32|0.85%|\n",
    "\n",
    "\n",
    "This indicates that may be users are finding ROAP via freeform browsing and engaging when needed. Most of the users are existing users of reddit platform. "
   ]
  },
  {
   "cell_type": "code",
   "execution_count": 14,
   "metadata": {},
   "outputs": [
    {
     "data": {
      "text/plain": [
       "3. 10-50     0.421892\n",
       "1. 1-5       0.198845\n",
       "0. 0         0.182068\n",
       "2. 5-10      0.114411\n",
       "4. 50-100    0.073982\n",
       "5. 100+      0.008801\n",
       "Name: requester_number_of_subreddits_at_request, dtype: float64"
      ]
     },
     "execution_count": 14,
     "metadata": {},
     "output_type": "execute_result"
    }
   ],
   "source": [
    "pd.cut(train['requester_number_of_subreddits_at_request'], \n",
    "       [-np.inf, 0, 5, 10, 50, 100, np.inf], \n",
    "       labels=['0. 0','1. 1-5', '2. 5-10', '3. 10-50', '4. 50-100', '5. 100+']).value_counts(normalize=True)"
   ]
  },
  {
   "cell_type": "code",
   "execution_count": 15,
   "metadata": {},
   "outputs": [
    {
     "data": {
      "image/png": "[encoded data removed]",
      "text/plain": [
       "<Figure size 432x288 with 1 Axes>"
      ]
     },
     "metadata": {},
     "output_type": "display_data"
    }
   ],
   "source": [
    "ax = pd.cut(train['requester_number_of_subreddits_at_request'], \n",
    "       [-np.inf, 0, 5, 10, 50, 100, np.inf], \n",
    "       labels=['0. 0','1. 1-5', '2. 5-10', '3. 10-50', '4. 50-100', '5. 100+']).value_counts().sort_index().plot(kind='bar')\n",
    "for p in ax.patches:\n",
    "    ax.annotate(str(round(p.get_height(), 2)), (p.get_x() * 1.005, p.get_height() * 1.005))\n",
    "plt.title('Distribution of number_of_subreddits_at_request')\n",
    "plt.ylabel('Number of Occurrences', fontsize=12)\n",
    "pass"
   ]
  },
  {
   "cell_type": "code",
   "execution_count": 16,
   "metadata": {},
   "outputs": [],
   "source": [
    "# creating the new feature\n",
    "feat_train = pd.cut(train['requester_number_of_subreddits_at_request'], \n",
    "       [-np.inf, 0, 5, 10, 50, 100, np.inf], \n",
    "       labels=['0. 0','1. 1-5', '2. 5-10', '3. 10-50', '4. 50-100', '5. 100+'])\n",
    "\n",
    "feat_val = pd.cut(val['requester_number_of_subreddits_at_request'], \n",
    "       [-np.inf, 0, 5, 10, 50, 100, np.inf], \n",
    "       labels=['0. 0','1. 1-5', '2. 5-10', '3. 10-50', '4. 50-100', '5. 100+'])\n",
    "\n",
    "train['num_subreddits_req'] = feat_train\n",
    "val['num_subreddits_req'] = feat_val"
   ]
  },
  {
   "cell_type": "code",
   "execution_count": 17,
   "metadata": {},
   "outputs": [
    {
     "data": {
      "image/png": "[encoded data removed]",
      "text/plain": [
       "<Figure size 432x288 with 1 Axes>"
      ]
     },
     "metadata": {},
     "output_type": "display_data"
    }
   ],
   "source": [
    "sns.countplot(x = 'num_subreddits_req', hue='requester_received_pizza', data=train)\n",
    "plt.title('Distribution of success rate across #subreddits at request')\n",
    "pass"
   ]
  },
  {
   "cell_type": "markdown",
   "metadata": {},
   "source": [
    "#### 5.3 Unix timestamp of request"
   ]
  },
  {
   "cell_type": "code",
   "execution_count": 18,
   "metadata": {},
   "outputs": [],
   "source": [
    "# Need to change format of unix timestamp of request, currently it's a float\n",
    "train['timestamp_converted'] = pd.to_datetime(train['unix_timestamp_of_request'],unit='s')"
   ]
  },
  {
   "cell_type": "markdown",
   "metadata": {},
   "source": [
    "#### 5.3.1 Distribution by the hour of the day when the request was made"
   ]
  },
  {
   "cell_type": "code",
   "execution_count": 19,
   "metadata": {},
   "outputs": [
    {
     "data": {
      "text/html": [
       "<div>\n",
       "<style scoped>\n",
       "    .dataframe tbody tr th:only-of-type {\n",
       "        vertical-align: middle;\n",
       "    }\n",
       "\n",
       "    .dataframe tbody tr th {\n",
       "        vertical-align: top;\n",
       "    }\n",
       "\n",
       "    .dataframe thead th {\n",
       "        text-align: right;\n",
       "    }\n",
       "</style>\n",
       "<table border=\"1\" class=\"dataframe\">\n",
       "  <thead>\n",
       "    <tr style=\"text-align: right;\">\n",
       "      <th>hour_bin_4</th>\n",
       "      <th>(-0.023, 3.833]</th>\n",
       "      <th>(3.833, 7.667]</th>\n",
       "      <th>(7.667, 11.5]</th>\n",
       "      <th>(11.5, 15.333]</th>\n",
       "      <th>(15.333, 19.167]</th>\n",
       "      <th>(19.167, 23.0]</th>\n",
       "    </tr>\n",
       "    <tr>\n",
       "      <th>requester_received_pizza</th>\n",
       "      <th></th>\n",
       "      <th></th>\n",
       "      <th></th>\n",
       "      <th></th>\n",
       "      <th></th>\n",
       "      <th></th>\n",
       "    </tr>\n",
       "  </thead>\n",
       "  <tbody>\n",
       "    <tr>\n",
       "      <th>False</th>\n",
       "      <td>0.747672</td>\n",
       "      <td>0.81203</td>\n",
       "      <td>0.837838</td>\n",
       "      <td>0.69802</td>\n",
       "      <td>0.719941</td>\n",
       "      <td>0.765411</td>\n",
       "    </tr>\n",
       "    <tr>\n",
       "      <th>True</th>\n",
       "      <td>0.252328</td>\n",
       "      <td>0.18797</td>\n",
       "      <td>0.162162</td>\n",
       "      <td>0.30198</td>\n",
       "      <td>0.280059</td>\n",
       "      <td>0.234589</td>\n",
       "    </tr>\n",
       "  </tbody>\n",
       "</table>\n",
       "</div>"
      ],
      "text/plain": [
       "hour_bin_4                (-0.023, 3.833]  (3.833, 7.667]  (7.667, 11.5]  \\\n",
       "requester_received_pizza                                                   \n",
       "False                            0.747672         0.81203       0.837838   \n",
       "True                             0.252328         0.18797       0.162162   \n",
       "\n",
       "hour_bin_4                (11.5, 15.333]  (15.333, 19.167]  (19.167, 23.0]  \n",
       "requester_received_pizza                                                    \n",
       "False                            0.69802          0.719941        0.765411  \n",
       "True                             0.30198          0.280059        0.234589  "
      ]
     },
     "execution_count": 19,
     "metadata": {},
     "output_type": "execute_result"
    }
   ],
   "source": [
    "train['hour_bin_4'] = pd.cut(train['timestamp_converted'].dt.hour, 6)\n",
    "pd.DataFrame(pd.crosstab(train.requester_received_pizza, \n",
    "            train.hour_bin_4).apply(lambda r: r/r.sum(), axis=0))"
   ]
  },
  {
   "cell_type": "markdown",
   "metadata": {},
   "source": [
    "It is seen that different times of the data impact the outcome, with 11 am to 7 pm seeing majority of True requests."
   ]
  },
  {
   "cell_type": "code",
   "execution_count": 20,
   "metadata": {},
   "outputs": [],
   "source": [
    "def add_request_hour_feature(data):\n",
    "    \n",
    "    hour_bin_6 = pd.cut(data['timestamp_converted'].dt.hour, 6)\n",
    "    \n",
    "    return np.reshape(np.array(hour_bin_6),( len(hour_bin_6), 1 ))"
   ]
  },
  {
   "cell_type": "code",
   "execution_count": 21,
   "metadata": {},
   "outputs": [
    {
     "data": {
      "text/plain": [
       "array([[Interval(11.5, 15.333, closed='right')],\n",
       "       [Interval(19.167, 23.0, closed='right')],\n",
       "       [Interval(19.167, 23.0, closed='right')],\n",
       "       ...,\n",
       "       [Interval(3.833, 7.667, closed='right')],\n",
       "       [Interval(7.667, 11.5, closed='right')],\n",
       "       [Interval(15.333, 19.167, closed='right')]], dtype=object)"
      ]
     },
     "execution_count": 21,
     "metadata": {},
     "output_type": "execute_result"
    }
   ],
   "source": [
    "add_request_hour_feature(train)"
   ]
  },
  {
   "cell_type": "markdown",
   "metadata": {},
   "source": [
    "#### 5.3.4 requester_account_age_in_days_at_request"
   ]
  },
  {
   "cell_type": "code",
   "execution_count": 22,
   "metadata": {},
   "outputs": [
    {
     "data": {
      "image/png": "[encoded data removed]",
      "text/plain": [
       "<Figure size 864x504 with 1 Axes>"
      ]
     },
     "metadata": {},
     "output_type": "display_data"
    }
   ],
   "source": [
    "requester_account_age_in_days_at_request_1 = train[train['requester_received_pizza'] == True]['requester_account_age_in_days_at_request']\n",
    "requester_account_age_in_days_at_request_0 = train[train['requester_received_pizza'] == False]['requester_account_age_in_days_at_request']\n",
    "\n",
    "set_to_plot = [requester_account_age_in_days_at_request_1, requester_account_age_in_days_at_request_0]\n",
    "\n",
    "labels = train['requester_received_pizza'].unique()\n",
    "\n",
    "fig, ax = plt.subplots(figsize=(12, 7))\n",
    "ax.boxplot(set_to_plot, labels=labels)\n",
    "pass"
   ]
  },
  {
   "cell_type": "markdown",
   "metadata": {},
   "source": [
    "The difference in distribution seems more than the other features analyzed below."
   ]
  },
  {
   "cell_type": "markdown",
   "metadata": {},
   "source": [
    "#### 5.3.6 requester_subreddits_at_request"
   ]
  },
  {
   "cell_type": "code",
   "execution_count": 23,
   "metadata": {},
   "outputs": [
    {
     "data": {
      "text/plain": [
       "1575                               [Random_Acts_Of_Pizza]\n",
       "1487    [AskReddit, Assistance, BabyBumps, BabyExchang...\n",
       "188     [ABraThatFits, AskReddit, BustyPetite, Monster...\n",
       "12                                                     []\n",
       "1231    [AdviceAnimals, Ameristralia, AskReddit, IAmA,...\n",
       "                              ...                        \n",
       "1095                               [Random_Acts_Of_Pizza]\n",
       "1294    [AdviceAnimals, AskReddit, Austin, IAmA, fanta...\n",
       "860                                [Random_Acts_Of_Pizza]\n",
       "3507    [AskReddit, IAmA, WTF, frederickmd, funny, gam...\n",
       "3174    [AskReddit, Favors, IAmA, WTF, funny, gaming, ...\n",
       "Name: requester_subreddits_at_request, Length: 2746, dtype: object"
      ]
     },
     "execution_count": 23,
     "metadata": {},
     "output_type": "execute_result"
    }
   ],
   "source": [
    "requester_subreddits_at_request_1 = train[train['requester_received_pizza'] == True]['requester_subreddits_at_request']\n",
    "requester_subreddits_at_request_0 = train[train['requester_received_pizza'] == False]['requester_subreddits_at_request']\n",
    "requester_subreddits_at_request_0"
   ]
  },
  {
   "cell_type": "markdown",
   "metadata": {},
   "source": [
    "##### 5.3.6.1 Relationship between number of subreddits with activity and altruism"
   ]
  },
  {
   "cell_type": "code",
   "execution_count": 24,
   "metadata": {},
   "outputs": [
    {
     "data": {
      "image/png": "[encoded data removed]",
      "text/plain": [
       "<Figure size 432x288 with 1 Axes>"
      ]
     },
     "metadata": {},
     "output_type": "display_data"
    }
   ],
   "source": [
    "len_requester_subreddits_at_request_1 = []\n",
    "for r1 in requester_subreddits_at_request_1:\n",
    "    len_requester_subreddits_at_request_1.append(len(r1))\n",
    "    \n",
    "len_requester_subreddits_at_request_0 = []\n",
    "for r0 in requester_subreddits_at_request_0:\n",
    "    len_requester_subreddits_at_request_0.append(len(r0))\n",
    "\n",
    "set_to_plot = [len_requester_subreddits_at_request_1, len_requester_subreddits_at_request_0]\n",
    "\n",
    "labels = train['requester_received_pizza'].unique()\n",
    "\n",
    "plt.boxplot(set_to_plot, labels=labels)\n",
    "pass"
   ]
  },
  {
   "cell_type": "markdown",
   "metadata": {},
   "source": [
    "Those with fulfilled pizza requests seem to be (on average) lesser active in subreddits than those with unfulfilled requests."
   ]
  },
  {
   "cell_type": "markdown",
   "metadata": {},
   "source": [
    "##### 5.3.6.2 Relationship between number of \"Random\" subreddits with activity and altruism"
   ]
  },
  {
   "cell_type": "markdown",
   "metadata": {},
   "source": [
    "Analyzing activity in the following subreddits:"
   ]
  },
  {
   "cell_type": "code",
   "execution_count": 25,
   "metadata": {},
   "outputs": [],
   "source": [
    "def find_subreddits(data, to_look_for):\n",
    "    found_subreddits = []\n",
    "    for subreddit_list in data['requester_subreddits_at_request']:\n",
    "        temp = []\n",
    "        if not subreddit_list:\n",
    "            found_subreddits.append(temp)\n",
    "        else:\n",
    "            for subreddits in subreddit_list:\n",
    "                if to_look_for.lower() in subreddits.lower():\n",
    "                    temp.append(subreddits)\n",
    "                else:\n",
    "                    continue\n",
    "            found_subreddits.append(temp)              \n",
    "#                 splits_by_line = subreddits.replace(']','').replace('[','').split('\\n')\n",
    "#                 splits_subreddits = [s.replace(\"'\",\"\").split(\",\") for s in splits_by_line]\n",
    "#             found_subreddits.append([r for r in splits_subreddits[0] if to_look_for.lower() in r.lower()])\n",
    "    return found_subreddits"
   ]
  },
  {
   "cell_type": "code",
   "execution_count": 104,
   "metadata": {},
   "outputs": [],
   "source": [
    "def num_random_subreddits_feature(data):\n",
    "    \n",
    "    num_random_sr = [len(x) for x in find_subreddits(data, \"Random\")]\n",
    "    \n",
    "    return np.reshape(np.array(num_random_sr),( len(num_random_sr), 1 ))"
   ]
  },
  {
   "cell_type": "code",
   "execution_count": 105,
   "metadata": {},
   "outputs": [
    {
     "data": {
      "text/plain": [
       "404"
      ]
     },
     "execution_count": 105,
     "metadata": {},
     "output_type": "execute_result"
    }
   ],
   "source": [
    "len(num_random_subreddits_feature(val))"
   ]
  },
  {
   "cell_type": "code",
   "execution_count": 102,
   "metadata": {},
   "outputs": [
    {
     "data": {
      "text/plain": [
       "404"
      ]
     },
     "execution_count": 102,
     "metadata": {},
     "output_type": "execute_result"
    }
   ],
   "source": [
    "len(val)"
   ]
  },
  {
   "cell_type": "markdown",
   "metadata": {},
   "source": [
    "##### 5.3.6.3 Relationship between activity in \"Random_Acts_Of_Pizza\" subreddits and altruism"
   ]
  },
  {
   "cell_type": "code",
   "execution_count": 106,
   "metadata": {},
   "outputs": [],
   "source": [
    "def num_raop_subreddits_feature(data):\n",
    "    \n",
    "    num_raop_sr = [len(x) for x in find_subreddits(data, \"Random_Acts_Of_Pizza\")]\n",
    "    \n",
    "    return np.reshape(np.array(num_raop_sr),( len(num_raop_sr), 1 ))"
   ]
  },
  {
   "cell_type": "code",
   "execution_count": 29,
   "metadata": {},
   "outputs": [
    {
     "data": {
      "text/plain": [
       "array([[1],\n",
       "       [0],\n",
       "       [0],\n",
       "       ...,\n",
       "       [1],\n",
       "       [0],\n",
       "       [0]])"
      ]
     },
     "execution_count": 29,
     "metadata": {},
     "output_type": "execute_result"
    }
   ],
   "source": [
    "num_raop_subreddits_feature(train)"
   ]
  },
  {
   "cell_type": "markdown",
   "metadata": {},
   "source": [
    "##### 5.3.6.4 Relationship between activity in 'pizza' related subreddits and altruism"
   ]
  },
  {
   "cell_type": "code",
   "execution_count": 107,
   "metadata": {},
   "outputs": [],
   "source": [
    "def num_food_subreddits_feature(data):\n",
    "    \n",
    "    num_food_sr = [len(x) for x in find_subreddits(data, \"food\")]\n",
    "    \n",
    "    return np.reshape(np.array(num_food_sr),( len(num_food_sr), 1 ))"
   ]
  },
  {
   "cell_type": "code",
   "execution_count": 31,
   "metadata": {},
   "outputs": [
    {
     "data": {
      "text/plain": [
       "array([[0],\n",
       "       [0],\n",
       "       [0],\n",
       "       ...,\n",
       "       [0],\n",
       "       [0],\n",
       "       [0]])"
      ]
     },
     "execution_count": 31,
     "metadata": {},
     "output_type": "execute_result"
    }
   ],
   "source": [
    "num_food_subreddits_feature(train)"
   ]
  },
  {
   "cell_type": "markdown",
   "metadata": {},
   "source": [
    "##### What types of subreddits are most commonly associated with pizza request fulfilment"
   ]
  },
  {
   "cell_type": "code",
   "execution_count": 32,
   "metadata": {},
   "outputs": [],
   "source": [
    "def commonly_associated_subreddits(data):\n",
    "    subreddits_frequency = {}\n",
    "    for r1 in requester_subreddits_at_request_1:\n",
    "        for s in r1:\n",
    "            subreddits_frequency[s] = subreddits_frequency.get(s, 0) + 1\n",
    "    return sorted(subreddits_frequency.items(), key=lambda item: item[1], reverse = True)"
   ]
  },
  {
   "cell_type": "code",
   "execution_count": 33,
   "metadata": {},
   "outputs": [
    {
     "data": {
      "text/plain": [
       "[('AskReddit', 568),\n",
       " ('pics', 490),\n",
       " ('funny', 468),\n",
       " ('WTF', 370),\n",
       " ('IAmA', 369),\n",
       " ('Random_Acts_Of_Pizza', 364),\n",
       " ('gaming', 356),\n",
       " ('videos', 284),\n",
       " ('todayilearned', 267),\n",
       " ('reddit.com', 263)]"
      ]
     },
     "execution_count": 33,
     "metadata": {},
     "output_type": "execute_result"
    }
   ],
   "source": [
    "commonly_associated_subreddits(train)[0:10]"
   ]
  },
  {
   "cell_type": "code",
   "execution_count": 111,
   "metadata": {},
   "outputs": [],
   "source": [
    "def activity_in_commonly_associated_subreddits(data):\n",
    "    activities = []\n",
    "    for casr in commonly_associated_subreddits(data)[0:10]:\n",
    "        activity_array = [len(x) for x in find_subreddits(data, casr[0])]\n",
    "        activity = np.reshape(np.array(activity_array),( len(activity_array), 1 ))\n",
    "        if(len(activities)==0):\n",
    "            activities = activity\n",
    "        else:\n",
    "            activities = np.hstack((activities, activity))\n",
    "    return activities"
   ]
  },
  {
   "cell_type": "markdown",
   "metadata": {},
   "source": [
    "#### 5.4 requester_upvotes_minus_downvotes_at_request"
   ]
  },
  {
   "cell_type": "code",
   "execution_count": 36,
   "metadata": {},
   "outputs": [
    {
     "name": "stdout",
     "output_type": "stream",
     "text": [
      "1381.3505617977528\n",
      "1068.4442825928622\n"
     ]
    },
    {
     "data": {
      "image/png": "[encoded data removed]",
      "text/plain": [
       "<Figure size 864x504 with 1 Axes>"
      ]
     },
     "metadata": {},
     "output_type": "display_data"
    }
   ],
   "source": [
    "requester_upvotes_minus_downvotes_at_request_1 = train[train['requester_received_pizza'] == True]['requester_upvotes_minus_downvotes_at_request']\n",
    "requester_upvotes_minus_downvotes_at_request_0 = train[train['requester_received_pizza'] == False]['requester_upvotes_minus_downvotes_at_request']\n",
    "\n",
    "set_to_plot = [requester_upvotes_minus_downvotes_at_request_1, requester_upvotes_minus_downvotes_at_request_0]\n",
    "\n",
    "labels = train['requester_received_pizza'].unique()\n",
    "\n",
    "fig, ax = plt.subplots(figsize=(12, 7))\n",
    "ax.boxplot(set_to_plot, labels=labels)\n",
    "\n",
    "print(np.mean(requester_upvotes_minus_downvotes_at_request_1))\n",
    "print(np.mean(requester_upvotes_minus_downvotes_at_request_0))"
   ]
  },
  {
   "cell_type": "code",
   "execution_count": 37,
   "metadata": {},
   "outputs": [
    {
     "name": "stdout",
     "output_type": "stream",
     "text": [
      "890\n",
      "890\n",
      "2746\n",
      "2746\n"
     ]
    }
   ],
   "source": [
    "requester_upvotes_minus_downvotes_at_request_1 = train[train['requester_received_pizza'] == True]['requester_upvotes_minus_downvotes_at_request']\n",
    "requester_upvotes_minus_downvotes_at_request_0 = train[train['requester_received_pizza'] == False]['requester_upvotes_minus_downvotes_at_request']\n",
    "print(len(requester_upvotes_minus_downvotes_at_request_1))\n",
    "#removing outliers\n",
    "z = np.abs(stats.zscore(requester_upvotes_minus_downvotes_at_request_1))\n",
    "#print(z)\n",
    "requester_upvotes_minus_downvotes_at_request_1_removed_outliers = requester_upvotes_minus_downvotes_at_request_1.where(z < 2)\n",
    "print(len(requester_upvotes_minus_downvotes_at_request_1_removed_outliers))\n",
    "\n",
    "print(len(requester_upvotes_minus_downvotes_at_request_0))\n",
    "#removing outliers\n",
    "z = np.abs(stats.zscore(requester_upvotes_minus_downvotes_at_request_0))\n",
    "#print(z)\n",
    "requester_upvotes_minus_downvotes_at_request_0_removed_outliers = requester_upvotes_minus_downvotes_at_request_0.where(z < 2)\n",
    "print(len(requester_upvotes_minus_downvotes_at_request_0_removed_outliers))"
   ]
  },
  {
   "cell_type": "markdown",
   "metadata": {},
   "source": [
    "#### 5.5 requester_upvotes_plus_downvotes_at_request"
   ]
  },
  {
   "cell_type": "code",
   "execution_count": 38,
   "metadata": {},
   "outputs": [
    {
     "name": "stdout",
     "output_type": "stream",
     "text": [
      "5146.087640449438\n",
      "3189.305171158048\n"
     ]
    },
    {
     "data": {
      "image/png": "[encoded data removed]",
      "text/plain": [
       "<Figure size 864x504 with 1 Axes>"
      ]
     },
     "metadata": {},
     "output_type": "display_data"
    }
   ],
   "source": [
    "requester_upvotes_plus_downvotes_at_request_1 = train[train['requester_received_pizza'] == True]['requester_upvotes_plus_downvotes_at_request']\n",
    "requester_upvotes_plus_downvotes_at_request_0 = train[train['requester_received_pizza'] == False]['requester_upvotes_plus_downvotes_at_request']\n",
    "\n",
    "set_to_plot = [requester_upvotes_plus_downvotes_at_request_1, requester_upvotes_plus_downvotes_at_request_0]\n",
    "\n",
    "labels = train['requester_received_pizza'].unique()\n",
    "\n",
    "fig, ax = plt.subplots(figsize=(12, 7))\n",
    "ax.boxplot(set_to_plot, labels=labels)\n",
    "\n",
    "print(np.mean(requester_upvotes_plus_downvotes_at_request_1))\n",
    "print(np.mean(requester_upvotes_plus_downvotes_at_request_0))"
   ]
  },
  {
   "cell_type": "markdown",
   "metadata": {},
   "source": [
    "### 6. Exploration of text-based features"
   ]
  },
  {
   "cell_type": "markdown",
   "metadata": {},
   "source": [
    "### 6.1 Creating new features from text"
   ]
  },
  {
   "cell_type": "code",
   "execution_count": 39,
   "metadata": {},
   "outputs": [
    {
     "data": {
      "text/html": [
       "<div>\n",
       "<style scoped>\n",
       "    .dataframe tbody tr th:only-of-type {\n",
       "        vertical-align: middle;\n",
       "    }\n",
       "\n",
       "    .dataframe tbody tr th {\n",
       "        vertical-align: top;\n",
       "    }\n",
       "\n",
       "    .dataframe thead th {\n",
       "        text-align: right;\n",
       "    }\n",
       "</style>\n",
       "<table border=\"1\" class=\"dataframe\">\n",
       "  <thead>\n",
       "    <tr style=\"text-align: right;\">\n",
       "      <th></th>\n",
       "      <th>request_text_edit_aware</th>\n",
       "    </tr>\n",
       "  </thead>\n",
       "  <tbody>\n",
       "    <tr>\n",
       "      <th>1575</th>\n",
       "      <td>I'm a liberal arts student with zero dollars t...</td>\n",
       "    </tr>\n",
       "    <tr>\n",
       "      <th>1614</th>\n",
       "      <td>For the past months since I've been home fro...</td>\n",
       "    </tr>\n",
       "    <tr>\n",
       "      <th>1487</th>\n",
       "      <td>Broke, pregnant and hungry. We won't get foods...</td>\n",
       "    </tr>\n",
       "    <tr>\n",
       "      <th>188</th>\n",
       "      <td>our cat always jumps onto the counter when we ...</td>\n",
       "    </tr>\n",
       "    <tr>\n",
       "      <th>12</th>\n",
       "      <td>I am a stay at home mom of two kids i live wit...</td>\n",
       "    </tr>\n",
       "  </tbody>\n",
       "</table>\n",
       "</div>"
      ],
      "text/plain": [
       "                                request_text_edit_aware\n",
       "1575  I'm a liberal arts student with zero dollars t...\n",
       "1614    For the past months since I've been home fro...\n",
       "1487  Broke, pregnant and hungry. We won't get foods...\n",
       "188   our cat always jumps onto the counter when we ...\n",
       "12    I am a stay at home mom of two kids i live wit..."
      ]
     },
     "execution_count": 39,
     "metadata": {},
     "output_type": "execute_result"
    }
   ],
   "source": [
    "request_text_features = train[['request_text_edit_aware']]\n",
    "request_labels = train[['requester_received_pizza']]\n",
    "request_text_features.head()"
   ]
  },
  {
   "cell_type": "code",
   "execution_count": 40,
   "metadata": {},
   "outputs": [],
   "source": [
    "text0 = \"I'm a liberal arts student with zero dollars to my name and getting desperate. I'd be gracious and thankful for a pizza today\\n\"\n",
    "text1 = \"  For the past months since I've been home from college my family's living situation has gone from bad to terrible.  My mom has been in and out work for even longer, and its been difficult to keep food in the home. Along with my Dad skipping out of child support payments and bills looming it hasn't been easy.  \\n\\n Me and my brother have been basically eating fried rice and beans for the last few weeks and could really use a decent meal like a hot fresh pizza.\\n\\n\""
   ]
  },
  {
   "cell_type": "code",
   "execution_count": 41,
   "metadata": {},
   "outputs": [],
   "source": [
    "def lengths_feature(data):\n",
    "    \n",
    "    lengths = [len(t) for t in data['request_text_edit_aware']]\n",
    "    \n",
    "    return np.reshape(np.array(lengths),( len(lengths), 1 ))"
   ]
  },
  {
   "cell_type": "code",
   "execution_count": 42,
   "metadata": {},
   "outputs": [],
   "source": [
    "def num_words_feature(data):\n",
    "        \n",
    "    words = [len(x.split()) for x in data['request_text_edit_aware']]\n",
    "        \n",
    "    return np.reshape(np.array(words),( len(words), 1 ))"
   ]
  },
  {
   "cell_type": "code",
   "execution_count": 43,
   "metadata": {},
   "outputs": [],
   "source": [
    "def num_caps_feature(data):\n",
    "    \n",
    "    caps = [sum(1 for word in x.split() for c in word if c.isupper()) for x in data['request_text_edit_aware']]\n",
    "\n",
    "    return np.reshape(np.array(caps),(len(caps), 1))"
   ]
  },
  {
   "cell_type": "code",
   "execution_count": 44,
   "metadata": {},
   "outputs": [],
   "source": [
    "def caps_vs_lengths_feature(data):\n",
    "    \n",
    "    caps_vs_lengths = [sum(1 for word in x.split() for c in word if c.isupper())/\n",
    "                       len(x) if len(x)>0 else 0 for x in data['request_text_edit_aware']]\n",
    "    return np.reshape(np.array(caps_vs_lengths),(len(caps_vs_lengths), 1))"
   ]
  },
  {
   "cell_type": "code",
   "execution_count": 45,
   "metadata": {},
   "outputs": [],
   "source": [
    "def num_unique_words_feature(data):\n",
    "    \n",
    "    num_unique_words = [len(set(w for w in x.split())) for x in data['request_text_edit_aware']]\n",
    "\n",
    "    return np.reshape(np.array(num_unique_words),(len(num_unique_words), 1))"
   ]
  },
  {
   "cell_type": "code",
   "execution_count": 46,
   "metadata": {},
   "outputs": [],
   "source": [
    "def num_punctuations_feature(data):\n",
    "    \n",
    "    puncs = '!\"#$%&\\'()*+,-./:;<=>?@[\\\\]^_{|}~`'\n",
    "\n",
    "    num_punctuations = [sum(x.count(w) for w in puncs) for x in data['request_text_edit_aware']]\n",
    "\n",
    "    return np.reshape(np.array(num_punctuations),(len(num_punctuations), 1))"
   ]
  },
  {
   "cell_type": "code",
   "execution_count": 47,
   "metadata": {},
   "outputs": [],
   "source": [
    "def requests_with_url(data):\n",
    "    \n",
    "    url_regex = re.compile(r\"(?i)\\b((?:https?://|www\\d{0,3}[.]|[a-z0-9.\\-]+[.][a-z]{2,4}/)(?:[^\\s()<>]+|\\(([^\\s()<>]+|(\\([^\\s()<>]+\\)))*\\))+(?:\\(([^\\s()<>]+|(\\([^\\s()<>]+\\)))*\\)|[^\\s`!()\\[\\]{};:'\\\".,<>?«»“”‘’]))\")\n",
    "\n",
    "    requests_with_url = [1 if len([f[0] for f in re.findall(url_regex,str(x))])>0 else 0 for x in data['request_text_edit_aware']]\n",
    "    \n",
    "    return np.reshape(np.array(requests_with_url),(len(requests_with_url), 1))"
   ]
  },
  {
   "cell_type": "code",
   "execution_count": 48,
   "metadata": {},
   "outputs": [
    {
     "data": {
      "text/plain": [
       "'All tests passed!'"
      ]
     },
     "execution_count": 48,
     "metadata": {},
     "output_type": "execute_result"
    }
   ],
   "source": [
    "def testTextFeatures():\n",
    "    puncs = '!\"#$%&\\'()*+,-./:;<=>?@[\\\\]^_{|}~`'\n",
    "    url_regex = re.compile(r\"(?i)\\b((?:https?://|www\\d{0,3}[.]|[a-z0-9.\\-]+[.][a-z]{2,4}/)(?:[^\\s()<>]+|\\(([^\\s()<>]+|(\\([^\\s()<>]+\\)))*\\))+(?:\\(([^\\s()<>]+|(\\([^\\s()<>]+\\)))*\\)|[^\\s`!()\\[\\]{};:'\\\".,<>?«»“”‘’]))\")\n",
    "\n",
    "    try:\n",
    "        assert lengths_feature(train)[0][0]==len(text0)\n",
    "        assert lengths_feature(train)[1][0]==len(text1)\n",
    "        \n",
    "        assert num_words_feature(train)[0][0]==len(text0.split())\n",
    "        assert num_words_feature(train)[1][0]==len(text1.split())\n",
    "        \n",
    "        assert num_caps_feature(train)[0][0]==sum([1 for word in text0.split() for c in word if c.isupper()])\n",
    "        assert num_caps_feature(train)[1][0]==sum([1 for word in text1.split() for c in word if c.isupper()])\n",
    "        \n",
    "        assert caps_vs_lengths_feature(train)[0][0]==sum([1 for word in text0.split() for c in word if c.isupper()])/len(text0)\n",
    "        assert caps_vs_lengths_feature(train)[1][0]==sum([1 for word in text1.split() for c in word if c.isupper()])/len(text1)\n",
    "        assert caps_vs_lengths_feature(train)[7][0]==0\n",
    "        \n",
    "        assert num_unique_words_feature(train)[0][0]==len(set(w for w in text0.split()))\n",
    "        assert num_unique_words_feature(train)[1][0]==len(set(w for w in text1.split()))\n",
    "        \n",
    "        assert num_punctuations_feature(train)[0][0]==sum(text0.count(w) for w in puncs)\n",
    "        assert num_punctuations_feature(train)[1][0]==sum(text1.count(w) for w in puncs)\n",
    "        \n",
    "        assert requests_with_url(train)[0][0]==(1 if len(re.findall(url_regex,str(text0)))>0 else 0)\n",
    "        assert requests_with_url(train)[1000][0]==(1 if len(re.findall(url_regex,str(train['request_text_edit_aware'].values[1000])))>0 else 0)\n",
    "        \n",
    "        return \"All tests passed!\"\n",
    "    except AssertionError as error:\n",
    "        print(\"Error found:\", error)\n",
    "testTextFeatures()"
   ]
  },
  {
   "cell_type": "markdown",
   "metadata": {},
   "source": [
    "## 6.2 Adding Request and Text Meta Features to transformed data set"
   ]
  },
  {
   "cell_type": "code",
   "execution_count": 112,
   "metadata": {},
   "outputs": [],
   "source": [
    "def add_text_and_request_features_df(data):\n",
    "    data_pandas_df = pd.DataFrame(data)\n",
    "    data_pandas_df['lengths_text'] = lengths_feature(data)\n",
    "    data_pandas_df['num_words_text'] = num_words_feature(data)\n",
    "    data_pandas_df['num_caps_text'] = num_caps_feature(data)\n",
    "    data_pandas_df['capsvslen_text'] = caps_vs_lengths_feature(data)\n",
    "    data_pandas_df['num_unique_words_text'] = num_unique_words_feature(data)\n",
    "    data_pandas_df['num_puncs_text'] = num_punctuations_feature(data)\n",
    "    data_pandas_df['num_req_w_url_text'] = requests_with_url(data)\n",
    "    #data_pandas_df['request_hour']=add_request_hour_feature(data).tolist()\n",
    "    data_pandas_df['active_random_subr'] = num_random_subreddits_feature(data)\n",
    "    data_pandas_df['active_raop_subr'] = num_raop_subreddits_feature(data)\n",
    "    data_pandas_df['active_food_subr'] = num_food_subreddits_feature(data)\n",
    "    \n",
    "    acts = activity_in_commonly_associated_subreddits(data)\n",
    "    prefix_act = 'active_common_sr_'\n",
    "    for a in range(acts.shape[1]):\n",
    "        data_pandas_df[prefix_act+str(a)] = acts[:,a]\n",
    "\n",
    "    return data_pandas_df"
   ]
  },
  {
   "cell_type": "markdown",
   "metadata": {},
   "source": [
    "### 6.2 Feature Preprocessing \n",
    "\n",
    "The first step for text processing is to set up the preprocessing functions. In our preprocessing steps, we are doing the following:\n",
    "\n",
    "1. Coverting the text to lower case\n",
    "2. Removing stopwords\n",
    "3. Removing digits\n",
    "4. Lemmatizing the word tokens"
   ]
  },
  {
   "cell_type": "markdown",
   "metadata": {},
   "source": [
    "### 6.2.1 Creating stopword list\n",
    "\n",
    "Added a couple of custom stopwords that are frequently used in ROAP requests (e.g. piza, request, hey, hi)"
   ]
  },
  {
   "cell_type": "code",
   "execution_count": 88,
   "metadata": {},
   "outputs": [],
   "source": [
    "# stopwords from stopwords-json\n",
    "stopwords_json = {\"en\":[\"a\",\"a's\",\"able\",\"about\",\"above\",\"according\",\"accordingly\",\"across\",\"actually\",\"after\",\"afterwards\",\"again\",\"against\",\"ain't\",\"all\",\"allow\",\"allows\",\"almost\",\"alone\",\"along\",\"already\",\"also\",\"although\",\"always\",\"am\",\"among\",\"amongst\",\"an\",\"and\",\"another\",\"any\",\"anybody\",\"anyhow\",\"anyone\",\"anything\",\"anyway\",\"anyways\",\"anywhere\",\"apart\",\"appear\",\"appreciate\",\"appropriate\",\"are\",\"aren't\",\"around\",\"as\",\"aside\",\"ask\",\"asking\",\"associated\",\"at\",\"available\",\"away\",\"awfully\",\"b\",\"be\",\"became\",\"because\",\"become\",\"becomes\",\"becoming\",\"been\",\"before\",\"beforehand\",\"behind\",\"being\",\"believe\",\"below\",\"beside\",\"besides\",\"best\",\"better\",\"between\",\"beyond\",\"both\",\"brief\",\"but\",\"by\",\"c\",\"c'mon\",\"c's\",\"came\",\"can\",\"can't\",\"cannot\",\"cant\",\"cause\",\"causes\",\"certain\",\"certainly\",\"changes\",\"clearly\",\"co\",\"com\",\"come\",\"comes\",\"concerning\",\"consequently\",\"consider\",\"considering\",\"contain\",\"containing\",\"contains\",\"corresponding\",\"could\",\"couldn't\",\"course\",\"currently\",\"d\",\"definitely\",\"described\",\"despite\",\"did\",\"didn't\",\"different\",\"do\",\"does\",\"doesn't\",\"doing\",\"don't\",\"done\",\"down\",\"downwards\",\"during\",\"e\",\"each\",\"edu\",\"eg\",\"eight\",\"either\",\"else\",\"elsewhere\",\"enough\",\"entirely\",\"especially\",\"et\",\"etc\",\"even\",\"ever\",\"every\",\"everybody\",\"everyone\",\"everything\",\"everywhere\",\"ex\",\"exactly\",\"example\",\"except\",\"f\",\"far\",\"few\",\"fifth\",\"first\",\"five\",\"followed\",\"following\",\"follows\",\"for\",\"former\",\"formerly\",\"forth\",\"four\",\"from\",\"further\",\"furthermore\",\"g\",\"get\",\"gets\",\"getting\",\"given\",\"gives\",\"go\",\"goes\",\"going\",\"gone\",\"got\",\"gotten\",\"greetings\",\"h\",\"had\",\"hadn't\",\"happens\",\"hardly\",\"has\",\"hasn't\",\"have\",\"haven't\",\"having\",\"he\",\"he's\",\"hello\",\"help\",\"hence\",\"her\",\"here\",\"here's\",\"hereafter\",\"hereby\",\"herein\",\"hereupon\",\"hers\",\"herself\",\"hi\",\"him\",\"himself\",\"his\",\"hither\",\"hopefully\",\"how\",\"howbeit\",\"however\",\"i\",\"i'd\",\"i'll\",\"i'm\",\"i've\",\"ie\",\"if\",\"ignored\",\"immediate\",\"in\",\"inasmuch\",\"inc\",\"indeed\",\"indicate\",\"indicated\",\"indicates\",\"inner\",\"insofar\",\"instead\",\"into\",\"inward\",\"is\",\"isn't\",\"it\",\"it'd\",\"it'll\",\"it's\",\"its\",\"itself\",\"j\",\"just\",\"k\",\"keep\",\"keeps\",\"kept\",\"know\",\"known\",\"knows\",\"l\",\"last\",\"lately\",\"later\",\"latter\",\"latterly\",\"least\",\"less\",\"lest\",\"let\",\"let's\",\"like\",\"liked\",\"likely\",\"little\",\"look\",\"looking\",\"looks\",\"ltd\",\"m\",\"mainly\",\"many\",\"may\",\"maybe\",\"me\",\"mean\",\"meanwhile\",\"merely\",\"might\",\"more\",\"moreover\",\"most\",\"mostly\",\"much\",\"must\",\"my\",\"myself\",\"n\",\"name\",\"namely\",\"nd\",\"near\",\"nearly\",\"necessary\",\"need\",\"needs\",\"neither\",\"never\",\"nevertheless\",\"new\",\"next\",\"nine\",\"no\",\"nobody\",\"non\",\"none\",\"noone\",\"nor\",\"normally\",\"not\",\"nothing\",\"novel\",\"now\",\"nowhere\",\"o\",\"obviously\",\"of\",\"off\",\"often\",\"oh\",\"ok\",\"okay\",\"old\",\"on\",\"once\",\"one\",\"ones\",\"only\",\"onto\",\"or\",\"other\",\"others\",\"otherwise\",\"ought\",\"our\",\"ours\",\"ourselves\",\"out\",\"outside\",\"over\",\"overall\",\"own\",\"p\",\"particular\",\"particularly\",\"per\",\"perhaps\",\"placed\",\"please\",\"plus\",\"possible\",\"presumably\",\"probably\",\"provides\",\"q\",\"que\",\"quite\",\"qv\",\"r\",\"rather\",\"rd\",\"re\",\"really\",\"reasonably\",\"regarding\",\"regardless\",\"regards\",\"relatively\",\"respectively\",\"right\",\"s\",\"said\",\"same\",\"saw\",\"say\",\"saying\",\"says\",\"second\",\"secondly\",\"see\",\"seeing\",\"seem\",\"seemed\",\"seeming\",\"seems\",\"seen\",\"self\",\"selves\",\"sensible\",\"sent\",\"serious\",\"seriously\",\"seven\",\"several\",\"shall\",\"she\",\"should\",\"shouldn't\",\"since\",\"six\",\"so\",\"some\",\"somebody\",\"somehow\",\"someone\",\"something\",\"sometime\",\"sometimes\",\"somewhat\",\"somewhere\",\"soon\",\"sorry\",\"specified\",\"specify\",\"specifying\",\"still\",\"sub\",\"such\",\"sup\",\"sure\",\"t\",\"t's\",\"take\",\"taken\",\"tell\",\"tends\",\"th\",\"than\",\"thank\",\"thanks\",\"thanx\",\"that\",\"that's\",\"thats\",\"the\",\"their\",\"theirs\",\"them\",\"themselves\",\"then\",\"thence\",\"there\",\"there's\",\"thereafter\",\"thereby\",\"therefore\",\"therein\",\"theres\",\"thereupon\",\"these\",\"they\",\"they'd\",\"they'll\",\"they're\",\"they've\",\"think\",\"third\",\"this\",\"thorough\",\"thoroughly\",\"those\",\"though\",\"three\",\"through\",\"throughout\",\"thru\",\"thus\",\"to\",\"together\",\"too\",\"took\",\"toward\",\"towards\",\"tried\",\"tries\",\"truly\",\"try\",\"trying\",\"twice\",\"two\",\"u\",\"un\",\"under\",\"unfortunately\",\"unless\",\"unlikely\",\"until\",\"unto\",\"up\",\"upon\",\"us\",\"use\",\"used\",\"useful\",\"uses\",\"using\",\"usually\",\"uucp\",\"v\",\"value\",\"various\",\"very\",\"via\",\"viz\",\"vs\",\"w\",\"want\",\"wants\",\"was\",\"wasn't\",\"way\",\"we\",\"we'd\",\"we'll\",\"we're\",\"we've\",\"welcome\",\"well\",\"went\",\"were\",\"weren't\",\"what\",\"what's\",\"whatever\",\"when\",\"whence\",\"whenever\",\"where\",\"where's\",\"whereafter\",\"whereas\",\"whereby\",\"wherein\",\"whereupon\",\"wherever\",\"whether\",\"which\",\"while\",\"whither\",\"who\",\"who's\",\"whoever\",\"whole\",\"whom\",\"whose\",\"why\",\"will\",\"willing\",\"wish\",\"with\",\"within\",\"without\",\"won't\",\"wonder\",\"would\",\"wouldn't\",\"x\",\"y\",\"yes\",\"yet\",\"you\",\"you'd\",\"you'll\",\"you're\",\"you've\",\"your\",\"yours\",\"yourself\",\"yourselves\",\"z\",\"zero\"]}\n",
    "stopwords_json_en = set(stopwords_json['en'])\n",
    "# adding some of our own stop words to NLTK's stopword list\n",
    "stopwords_nltk_en = set(stopwords.words('english') + ['though','pizza', 'request', 'hey', 'hi'])\n",
    "# create stop word list for punctuation\n",
    "stopwords_punct = set(punctuation)\n",
    "# combine the three stopwords lists\n",
    "stoplist_combined = set.union(stopwords_json_en, stopwords_nltk_en, stopwords_punct)"
   ]
  },
  {
   "cell_type": "markdown",
   "metadata": {},
   "source": [
    "### 6.2.2 Create Text Pre-processor\n",
    "Added the ability to replace contractions with their proper form and remove URLS to the text preprocessor"
   ]
  },
  {
   "cell_type": "code",
   "execution_count": 86,
   "metadata": {},
   "outputs": [],
   "source": [
    "wnl = WordNetLemmatizer()\n",
    "\n",
    "def penn2morphy(penntag):\n",
    "    \"\"\" Converts Penn Treebank tags to WordNet. \"\"\"\n",
    "    morphy_tag = {'NN':'n', 'JJ':'a',\n",
    "                  'VB':'v', 'RB':'r'}\n",
    "    try:\n",
    "        return morphy_tag[penntag[:2]]\n",
    "    except:\n",
    "        return 'n' \n",
    "    \n",
    "def lemmatize_sent(text): \n",
    "    # Text input is string, returns lowercased strings.\n",
    "    return [wnl.lemmatize(word.lower(), pos=penn2morphy(tag)) \n",
    "            for word, tag in pos_tag(word_tokenize(text))]\n",
    "\n",
    "def preprocess_text_1(text):\n",
    "    # Input: str, i.e. document/sentence\n",
    "    # Output: list(str) , i.e. list of lemmas\n",
    "    # added functions to replace contractions with their proper form\n",
    "    # and remove any URLs\n",
    "    processed_list = [word for word in lemmatize_sent(text)\n",
    "            if word not in stoplist_combined\n",
    "            and not word.isdigit()]\n",
    "    processed_text = ' '.join(processed_list) \n",
    "    return processed_text\n",
    "\n",
    "\n",
    "def preprocess_text_2(text):\n",
    "    # Input: str, i.e. document/sentence\n",
    "    # Output: list(str) , i.e. list of lemmas\n",
    "    return ' '.join([word for word in lemmatize_sent(text) \n",
    "            if word not in stoplist_combined\n",
    "            and not word.isdigit()])\n",
    "\n",
    "def preprocess_text(text):\n",
    "    # Input: str, i.e. document/sentence\n",
    "    # Output: list(str) , i.e. list of lemmas\n",
    "    return [word for word in lemmatize_sent(text) \n",
    "            if word not in stoplist_combined\n",
    "            and not word.isdigit()]"
   ]
  },
  {
   "cell_type": "markdown",
   "metadata": {},
   "source": [
    "### 6.3 Using TFIDFVectorizer for Bigrams"
   ]
  },
  {
   "cell_type": "code",
   "execution_count": 89,
   "metadata": {},
   "outputs": [],
   "source": [
    "# Initialize bigram TDIFD vectorizer \n",
    "tf_bigram = TfidfVectorizer(analyzer = 'word', preprocessor = preprocess_text_1, ngram_range = (2, 2))\n",
    "train_bigram = tf_bigram.fit_transform(train['request_text_edit_aware'])\n",
    "\n",
    "# average frequency of ngrams\n",
    "avg_values = train_bigram.toarray().sum(axis=0)\n",
    "# list of ngrams\n",
    "vocab = tf_bigram.vocabulary_\n",
    "df_bigram = pd.DataFrame(sorted([(avg_values[i],k) for k,i in vocab.items()], reverse=True)).rename(columns={0: 'sum frequency', 1:'bigram'})"
   ]
  },
  {
   "cell_type": "code",
   "execution_count": 90,
   "metadata": {},
   "outputs": [
    {
     "data": {
      "text/html": [
       "<div>\n",
       "<style scoped>\n",
       "    .dataframe tbody tr th:only-of-type {\n",
       "        vertical-align: middle;\n",
       "    }\n",
       "\n",
       "    .dataframe tbody tr th {\n",
       "        vertical-align: top;\n",
       "    }\n",
       "\n",
       "    .dataframe thead th {\n",
       "        text-align: right;\n",
       "    }\n",
       "</style>\n",
       "<table border=\"1\" class=\"dataframe\">\n",
       "  <thead>\n",
       "    <tr style=\"text-align: right;\">\n",
       "      <th></th>\n",
       "      <th>sum frequency</th>\n",
       "      <th>bigram</th>\n",
       "    </tr>\n",
       "  </thead>\n",
       "  <tbody>\n",
       "    <tr>\n",
       "      <th>0</th>\n",
       "      <td>37.914944</td>\n",
       "      <td>pay forward</td>\n",
       "    </tr>\n",
       "    <tr>\n",
       "      <th>1</th>\n",
       "      <td>17.896445</td>\n",
       "      <td>imgur com</td>\n",
       "    </tr>\n",
       "    <tr>\n",
       "      <th>2</th>\n",
       "      <td>17.438381</td>\n",
       "      <td>college student</td>\n",
       "    </tr>\n",
       "    <tr>\n",
       "      <th>3</th>\n",
       "      <td>17.423593</td>\n",
       "      <td>http imgur</td>\n",
       "    </tr>\n",
       "    <tr>\n",
       "      <th>4</th>\n",
       "      <td>15.198332</td>\n",
       "      <td>return favor</td>\n",
       "    </tr>\n",
       "    <tr>\n",
       "      <th>5</th>\n",
       "      <td>13.729342</td>\n",
       "      <td>sob story</td>\n",
       "    </tr>\n",
       "    <tr>\n",
       "      <th>6</th>\n",
       "      <td>13.667979</td>\n",
       "      <td>bank account</td>\n",
       "    </tr>\n",
       "    <tr>\n",
       "      <th>7</th>\n",
       "      <td>13.119734</td>\n",
       "      <td>lose job</td>\n",
       "    </tr>\n",
       "    <tr>\n",
       "      <th>8</th>\n",
       "      <td>10.750201</td>\n",
       "      <td>ll pay</td>\n",
       "    </tr>\n",
       "    <tr>\n",
       "      <th>9</th>\n",
       "      <td>10.088778</td>\n",
       "      <td>pay back</td>\n",
       "    </tr>\n",
       "    <tr>\n",
       "      <th>10</th>\n",
       "      <td>10.053487</td>\n",
       "      <td>papa john</td>\n",
       "    </tr>\n",
       "    <tr>\n",
       "      <th>11</th>\n",
       "      <td>9.415477</td>\n",
       "      <td>pay rent</td>\n",
       "    </tr>\n",
       "    <tr>\n",
       "      <th>12</th>\n",
       "      <td>9.254538</td>\n",
       "      <td>ca afford</td>\n",
       "    </tr>\n",
       "    <tr>\n",
       "      <th>13</th>\n",
       "      <td>8.891013</td>\n",
       "      <td>pay friday</td>\n",
       "    </tr>\n",
       "    <tr>\n",
       "      <th>14</th>\n",
       "      <td>8.832841</td>\n",
       "      <td>pay week</td>\n",
       "    </tr>\n",
       "    <tr>\n",
       "      <th>15</th>\n",
       "      <td>8.812217</td>\n",
       "      <td>http www</td>\n",
       "    </tr>\n",
       "    <tr>\n",
       "      <th>16</th>\n",
       "      <td>8.800995</td>\n",
       "      <td>random act</td>\n",
       "    </tr>\n",
       "    <tr>\n",
       "      <th>17</th>\n",
       "      <td>8.377570</td>\n",
       "      <td>money food</td>\n",
       "    </tr>\n",
       "    <tr>\n",
       "      <th>18</th>\n",
       "      <td>8.043409</td>\n",
       "      <td>make day</td>\n",
       "    </tr>\n",
       "    <tr>\n",
       "      <th>19</th>\n",
       "      <td>8.028331</td>\n",
       "      <td>couple day</td>\n",
       "    </tr>\n",
       "  </tbody>\n",
       "</table>\n",
       "</div>"
      ],
      "text/plain": [
       "    sum frequency           bigram\n",
       "0       37.914944      pay forward\n",
       "1       17.896445        imgur com\n",
       "2       17.438381  college student\n",
       "3       17.423593       http imgur\n",
       "4       15.198332     return favor\n",
       "5       13.729342        sob story\n",
       "6       13.667979     bank account\n",
       "7       13.119734         lose job\n",
       "8       10.750201           ll pay\n",
       "9       10.088778         pay back\n",
       "10      10.053487        papa john\n",
       "11       9.415477         pay rent\n",
       "12       9.254538        ca afford\n",
       "13       8.891013       pay friday\n",
       "14       8.832841         pay week\n",
       "15       8.812217         http www\n",
       "16       8.800995       random act\n",
       "17       8.377570       money food\n",
       "18       8.043409         make day\n",
       "19       8.028331       couple day"
      ]
     },
     "execution_count": 90,
     "metadata": {},
     "output_type": "execute_result"
    }
   ],
   "source": [
    "df_bigram[:20]"
   ]
  },
  {
   "cell_type": "markdown",
   "metadata": {},
   "source": [
    "### 6.4 Topic Modeling using LDA (Latent Dirichlet Allocation)\n",
    "\n",
    "After using the TDIDF vectorizer to create bigrams, we looked into whether similar bigrams can be grouped into topics. One method we used for topic modeling is LDA.\n",
    "\n",
    "LDA is an iterative probabilistic model that creates topics using two probability values: P(Word|Topic) and P(Topic|Document). We set the LDA model tocreate 10 topics. First, LDA will randomly assign bigrams to 10 topics. Then it'll use the two probability values to reassign bigrams to topics. The reassignment step will happen over and over again until the model converges. This results is the final 10 topics."
   ]
  },
  {
   "cell_type": "code",
   "execution_count": 91,
   "metadata": {},
   "outputs": [
    {
     "name": "stdout",
     "output_type": "stream",
     "text": [
      "Topic #0: pay forward, college student, sob story, imgur com, pay week\n",
      "Topic #1: pay forward, sob story, pay back, bank account, http imgur\n",
      "Topic #2: pay forward, http imgur, imgur com, bank account, pay rent\n",
      "Topic #3: pay forward, lose job, spend money, bank account, return favor\n",
      "Topic #4: pay forward, http imgur, imgur com, return favor, food money\n",
      "Topic #5: pay forward, sob story, college student, money food, imgur com\n",
      "Topic #6: pay forward, imgur com, http imgur, family love, pay friday\n",
      "Topic #7: return favor, pay forward, college student, kind soul, http imgur\n",
      "Topic #8: pay forward, http imgur, imgur com, sob story, food house\n",
      "Topic #9: pay forward, ll pay, return favor, broke college, college student\n",
      "\n"
     ]
    }
   ],
   "source": [
    "# topics for TFIDF trigrams using LDA\n",
    "lda = LatentDirichletAllocation(n_components=10)\n",
    "pipe_lda = make_pipeline(tf_bigram, lda)\n",
    "pipe_lda.fit(train['request_text_edit_aware'])\n",
    "def print_top_words(model, feature_names, n_top_words):\n",
    "    for topic_idx, topic in enumerate(model.components_):\n",
    "        message = \"Topic #%d: \" % topic_idx\n",
    "        message += \", \".join([feature_names[i]\n",
    "                             for i in topic.argsort()[:-n_top_words - 1:-1]])\n",
    "        print(message)\n",
    "    print()\n",
    "print_top_words(lda, tf_bigram.get_feature_names(), n_top_words=5)"
   ]
  },
  {
   "cell_type": "markdown",
   "metadata": {},
   "source": [
    "### 6.5 Topic Modeling using NMF (Non-negative Matrix Factorization)\n",
    "\n",
    "Another topic modeling method we used was NMF. NMF is a linear algebreic model that moves from higher dimensionality to lower dimensionality. It makes a given document-word matrix (our TDIDF matrix) and factors it into two lower dimensional forms: one is a vector of topics and another is a matrix of topic weights for each document. The two lower dimensionality forms are calculated by iterating over them until them optimize and coverge.\n",
    "\n",
    "Below we used NMF to create 10 topics like we did above with LDA modeling. From NMF we saw topics that seemed to make more sense and have less repetition."
   ]
  },
  {
   "cell_type": "code",
   "execution_count": 92,
   "metadata": {},
   "outputs": [
    {
     "name": "stdout",
     "output_type": "stream",
     "text": [
      "Topic #0: pay forward, ll pay, promise pay, forward asap, forward money\n",
      "Topic #1: imgur com, http imgur, proof http, dxye3 jpg, com dxye3\n",
      "Topic #2: college student, broke college, hungry college, break college, student ll\n",
      "Topic #3: return favor, gladly return, love return, favor paycheck, title return\n",
      "Topic #4: money food, eat today, food eat, food hungry, hungry nice\n",
      "Topic #5: sob story, real sob, random act, story hungry, give sob\n",
      "Topic #6: http www, reddit com, www reddit, random_acts_of_pizza comments, com random_acts_of_pizza\n",
      "Topic #7: pay week, pay back, forward pay, pay friday, back forward\n",
      "Topic #8: lose job, job week, week ago, job couple, job month\n",
      "Topic #9: bank account, cent bank, ca afford, past week, make day\n",
      "\n"
     ]
    },
    {
     "name": "stderr",
     "output_type": "stream",
     "text": [
      "/opt/anaconda3/lib/python3.7/site-packages/sklearn/decomposition/_nmf.py:1077: ConvergenceWarning: Maximum number of iterations 200 reached. Increase it to improve convergence.\n",
      "  \" improve convergence.\" % max_iter, ConvergenceWarning)\n"
     ]
    }
   ],
   "source": [
    "## topics for TFIDF trigrams using NMF\n",
    "nmf = NMF(n_components=10)\n",
    "pipe = make_pipeline(tf_bigram, nmf)\n",
    "pipe.fit(train['request_text_edit_aware'])\n",
    "print_top_words(nmf, tf_bigram.get_feature_names(), n_top_words=5)"
   ]
  },
  {
   "cell_type": "code",
   "execution_count": 93,
   "metadata": {},
   "outputs": [
    {
     "name": "stdout",
     "output_type": "stream",
     "text": [
      "Topic #0: imgur com, http imgur, proof http, com cpw0q, cat http\n",
      "Topic #1: pay forward, ll pay, forward money, promise pay, forward re\n",
      "Topic #2: pay week, reciprocate pay, leave house, cereal egg, house mood\n",
      "Topic #3: ca afford, eat ramen, lose job, make day, sob story\n",
      "Topic #4: college student, ve live, peanut butter, friday random, make friday\n",
      "Topic #5: return favor, love return, pay friday, fee day, friday love\n",
      "Topic #6: bank account, pay bank, eat day, empty bank, dollar bank\n",
      "Topic #7: money food, hungry nice, food hungry, leave money, weekend leave\n",
      "Topic #8: job pay, work week, pay month, pay work, finally job\n",
      "Topic #9: http www, www reddit, reddit com, gift card, com random_acts_of_pizza\n",
      "\n"
     ]
    }
   ],
   "source": [
    "## topics for TFIDF trigrams using NMF for those who did get pizza\n",
    "nmf = NMF(n_components=10)\n",
    "pipe = make_pipeline(tf_bigram, nmf)\n",
    "pipe.fit(train.request_text_edit_aware[train.requester_received_pizza == True])\n",
    "print_top_words(nmf, tf_bigram.get_feature_names(), n_top_words=5)"
   ]
  },
  {
   "cell_type": "code",
   "execution_count": 94,
   "metadata": {},
   "outputs": [
    {
     "name": "stdout",
     "output_type": "stream",
     "text": [
      "Topic #0: pay forward, forward asap, promise pay, forward pay, will pay\n",
      "Topic #1: imgur com, http imgur, k4mz7kr png, com k4mz7kr, com dxye3\n",
      "Topic #2: college student, broke college, hungry college, break college, student ll\n",
      "Topic #3: return favor, gladly return, favor paycheck, title return, guy forever\n",
      "Topic #4: bank account, money food, eat today, make day, couple day\n",
      "Topic #5: sob story, random act, story random, give sob, wan na\n",
      "Topic #6: http www, reddit com, www reddit, youtube com, com watch\n",
      "Topic #7: pay back, pay friday, pay week, forward pay, love pay\n",
      "Topic #8: lose job, job couple, job month, job week, month ago\n",
      "Topic #9: ll pay, pay forward, advance ll, money ll, hungry money\n",
      "\n"
     ]
    }
   ],
   "source": [
    "## topics for TFIDF trigrams using NMF for those who did not get piza\n",
    "nmf = NMF(n_components=10)\n",
    "pipe = make_pipeline(tf_bigram, nmf)\n",
    "pipe.fit(train.request_text_edit_aware[train.requester_received_pizza == False])\n",
    "print_top_words(nmf, tf_bigram.get_feature_names(), n_top_words=5)"
   ]
  },
  {
   "cell_type": "markdown",
   "metadata": {},
   "source": [
    "### 6.6 PMI Calculation\n",
    "The idea of PMI is that we want to quantify the likelihood of co-occurrence of two words, taking into account the fact that it might be caused by the frequency of the single words. Hence, the algorithm computes the (log) probability of co-occurrence scaled by the product of the single probability of occurrence as follows:\n",
    "\n",
    "\n",
    "$$\n",
    "PMI (a, b) = \\log(\\frac{P(a, b)}{P(a) * P(b)})\n",
    "$$\n",
    "\n",
    "Now, knowing that, when ‘a’ and ‘b’ are independent, their joint probability is equal to the product of their marginal probabilities, when the ratio equals 1 (hence the log equals 0), it means that the two words together don’t form a unique concept: they co-occur by chance.\n",
    "\n",
    "It is important to note that we can use PMI criterion to not just detect the collocation of two words. We can also use it to get a sense of if a word and a class are co-occuring togather or not. This is the way we are going to use PMI in our case. "
   ]
  },
  {
   "cell_type": "markdown",
   "metadata": {},
   "source": [
    "#### 6.6.1 Counting inclass and overall frequencies for all words in training dataset\n",
    "\n",
    "The next step is to start with the pre-processed text and identify the occurance frequency for each token in the training and test dataset. "
   ]
  },
  {
   "cell_type": "code",
   "execution_count": 95,
   "metadata": {},
   "outputs": [],
   "source": [
    "def count_words_per_category(v, out):\n",
    "    result_true, result_false, result_vocab = {}, {}, {}\n",
    "    for ind, line in enumerate(v):\n",
    "        #print(ind)\n",
    "        #print(out[ind])\n",
    "        trf_line = preprocess_text(line) # preprocess and lammatized title text\n",
    "        for elem in trf_line:\n",
    "            result_vocab[elem] = result_vocab.get(elem, 0) + 1\n",
    "            \n",
    "            if out[ind]:\n",
    "                result_true[elem] = result_true.get(elem, 0) + 1\n",
    "            else: \n",
    "                result_false[elem] = result_false.get(elem, 0) + 1\n",
    "    \n",
    "    return result_true, result_false, result_vocab"
   ]
  },
  {
   "cell_type": "markdown",
   "metadata": {},
   "source": [
    "#### 6.6.2 Implementing the PMI function\n",
    "\n",
    "In the next step, we implement the PMI function and compute PMI for all the words in the dictionary"
   ]
  },
  {
   "cell_type": "code",
   "execution_count": 96,
   "metadata": {},
   "outputs": [],
   "source": [
    "def pmi(inclass_freq, total_freq, class_freq, min_count=10):\n",
    "    \"\"\"\n",
    "    inclass_freq (dict): dictionary containing inclass frequency for a given word\n",
    "    total_freq (dict): dictionary containing total frequency for a given word\n",
    "    class_freq (float): class prevalence\n",
    "    min_count (int): minimum frequency for pmi calculation\n",
    "    \"\"\"\n",
    "    pmi = {}\n",
    "    for word, freq in total_freq.items():\n",
    "        if freq < min_count:\n",
    "            continue\n",
    "        pmi[word] = np.log((inclass_freq.get(word, 0) + 0.001) * 1.0 / (class_freq * freq))\n",
    "    return pmi"
   ]
  },
  {
   "cell_type": "markdown",
   "metadata": {},
   "source": [
    "### 7. Feature Engineering"
   ]
  },
  {
   "cell_type": "markdown",
   "metadata": {},
   "source": [
    "#### 7.1 non-text features\n",
    "\n",
    "Looking at the data, there are just few text fields and a lot of non-text features present. We start with creating the non-text features first and then add text based features on top. "
   ]
  },
  {
   "cell_type": "code",
   "execution_count": 97,
   "metadata": {},
   "outputs": [],
   "source": [
    "# feature 1 - number of posts on ROAP at request\n",
    "\n",
    "def num_posts_roap(data, colname, id_colname,th=0):\n",
    "    \"\"\"\n",
    "    data (pandas dataframe): inout data frame\n",
    "    colname (str): original column name\n",
    "    id_colname (str): identifier for the created feature\n",
    "    th (int): threshold for creating binary feature\n",
    "    \"\"\"\n",
    "    new_colname = id_colname + '_' +colname\n",
    "    feat = np.where(data[colname] == th, 0, 1)\n",
    "    data[new_colname] = feat\n",
    "    del data[colname]\n",
    "    return data"
   ]
  },
  {
   "cell_type": "code",
   "execution_count": 98,
   "metadata": {},
   "outputs": [],
   "source": [
    "# feature 2 - number subreddits dummy variables\n",
    "\n",
    "def num_subreddit_dummy(data, colname):\n",
    "    \"\"\"\n",
    "    data (pandas dataframe): inout data frame\n",
    "    colname (str): original column name\n",
    "    \"\"\"\n",
    "    return pd.get_dummies(data=data, columns=[colname], drop_first=True)"
   ]
  },
  {
   "cell_type": "markdown",
   "metadata": {},
   "source": [
    "### Preparing the training data"
   ]
  },
  {
   "cell_type": "code",
   "execution_count": 113,
   "metadata": {},
   "outputs": [],
   "source": [
    "train_final = add_text_and_request_features_df(train)\n",
    "val_final = add_text_and_request_features_df(val)"
   ]
  },
  {
   "cell_type": "code",
   "execution_count": 114,
   "metadata": {},
   "outputs": [],
   "source": [
    "train_final = num_posts_roap(data=train_final, \n",
    "                             colname='requester_number_of_posts_on_raop_at_request', \n",
    "                             id_colname='binary')\n",
    "\n",
    "val_final = num_posts_roap(data=val_final, \n",
    "                             colname='requester_number_of_posts_on_raop_at_request', \n",
    "                             id_colname='binary')"
   ]
  },
  {
   "cell_type": "code",
   "execution_count": 115,
   "metadata": {},
   "outputs": [],
   "source": [
    "train_final = num_subreddit_dummy(data = train_final, colname= 'num_subreddits_req')\n",
    "val_final = num_subreddit_dummy(data = val_final, colname= 'num_subreddits_req')"
   ]
  },
  {
   "cell_type": "code",
   "execution_count": 116,
   "metadata": {},
   "outputs": [
    {
     "data": {
      "text/plain": [
       "Index(['requester_received_pizza', 'request_title', 'request_text_edit_aware',\n",
       "       'requester_number_of_subreddits_at_request',\n",
       "       'unix_timestamp_of_request', 'requester_account_age_in_days_at_request',\n",
       "       'requester_subreddits_at_request',\n",
       "       'requester_upvotes_minus_downvotes_at_request',\n",
       "       'requester_upvotes_plus_downvotes_at_request', 'lengths_text',\n",
       "       'num_words_text', 'num_caps_text', 'capsvslen_text',\n",
       "       'num_unique_words_text', 'num_puncs_text', 'num_req_w_url_text',\n",
       "       'active_random_subr', 'active_raop_subr', 'active_food_subr',\n",
       "       'active_common_sr_0', 'active_common_sr_1', 'active_common_sr_2',\n",
       "       'active_common_sr_3', 'active_common_sr_4', 'active_common_sr_5',\n",
       "       'active_common_sr_6', 'active_common_sr_7', 'active_common_sr_8',\n",
       "       'active_common_sr_9',\n",
       "       'binary_requester_number_of_posts_on_raop_at_request',\n",
       "       'num_subreddits_req_1. 1-5', 'num_subreddits_req_2. 5-10',\n",
       "       'num_subreddits_req_3. 10-50', 'num_subreddits_req_4. 50-100',\n",
       "       'num_subreddits_req_5. 100+'],\n",
       "      dtype='object')"
      ]
     },
     "execution_count": 116,
     "metadata": {},
     "output_type": "execute_result"
    }
   ],
   "source": [
    "val_final.columns"
   ]
  },
  {
   "cell_type": "markdown",
   "metadata": {},
   "source": [
    "#### 7.2 Text feature extraction\n",
    "\n",
    "We start by extacting the top 20 words from both text and title columns w.r.t. PMI criterion. For that we need to calculate the inclass frequencies and compute PMI as noted in above code. "
   ]
  },
  {
   "cell_type": "code",
   "execution_count": 117,
   "metadata": {},
   "outputs": [],
   "source": [
    "def get_counts(data, text_colname, outcome_colname):\n",
    "    return count_words_per_category(data[text_colname], \n",
    "                                    list(data[outcome_colname]))\n",
    "\n",
    "def get_top_k_from_dict(d, k):\n",
    "    return sorted(d.items(), key=lambda kv: kv[1])[-k:]\n",
    "\n",
    "def get_words(sorted_dict):\n",
    "    return [w[0] for w in sorted_dict]\n",
    "\n",
    "def calculate_pmi(data, text_colname, outcome_colname, class_freq_true, top_k):\n",
    "    count_class_true, count_class_false, count_total = get_counts(data = data, \n",
    "                                                         text_colname=text_colname, \n",
    "                                                         outcome_colname=outcome_colname) \n",
    "    pmi_true = pmi(inclass_freq=count_class_true, \n",
    "                   total_freq=count_total, \n",
    "                   class_freq=class_freq_true)\n",
    "    \n",
    "    pmi_false = pmi(inclass_freq=count_class_false, \n",
    "                   total_freq=count_total, \n",
    "                   class_freq=1-class_freq_true)\n",
    "    \n",
    "    pmi_true_top_k = get_top_k_from_dict(pmi_true, k=top_k)\n",
    "    pmi_false_top_k = get_top_k_from_dict(pmi_false, k=top_k)\n",
    "    \n",
    "    pmi_true_words = get_words(pmi_true_top_k)\n",
    "    pmi_false_words = get_words(pmi_false_top_k)\n",
    "    \n",
    "    return pmi_true_words, pmi_false_words\n"
   ]
  },
  {
   "cell_type": "code",
   "execution_count": 118,
   "metadata": {},
   "outputs": [],
   "source": [
    "true_class_pmi_words_title, false_class_pmi_words_title = calculate_pmi(data = train_final, \n",
    "                                                                        text_colname='request_title', \n",
    "                                                                        outcome_colname='requester_received_pizza', \n",
    "                                                                        class_freq_true=0.24505, \n",
    "                                                                        top_k=20)"
   ]
  },
  {
   "cell_type": "code",
   "execution_count": 119,
   "metadata": {},
   "outputs": [],
   "source": [
    "true_class_pmi_words_text, false_class_pmi_words_text = calculate_pmi(data = train_final, \n",
    "                                                                      text_colname='request_text_edit_aware', \n",
    "                                                                      outcome_colname='requester_received_pizza', \n",
    "                                                                      class_freq_true=0.24505, \n",
    "                                                                      top_k=20)"
   ]
  },
  {
   "cell_type": "code",
   "execution_count": 120,
   "metadata": {},
   "outputs": [],
   "source": [
    "# Creating text features - token counts\n",
    "def simple_token_count(v):\n",
    "    result = []\n",
    "    for line in v:\n",
    "        if line != line:\n",
    "            result.append(1)\n",
    "            continue\n",
    "        result.append(len(word_tokenize(line)))\n",
    "    return result"
   ]
  },
  {
   "cell_type": "code",
   "execution_count": 121,
   "metadata": {},
   "outputs": [],
   "source": [
    "title_length_train = simple_token_count(train_final.request_title)\n",
    "title_length_val = simple_token_count(val_final.request_title)\n",
    "text_length_train = simple_token_count(train_final.request_text_edit_aware)\n",
    "text_length_val = simple_token_count(val_final.request_text_edit_aware)"
   ]
  },
  {
   "cell_type": "code",
   "execution_count": 122,
   "metadata": {},
   "outputs": [],
   "source": [
    "train_final['title_length'] = title_length_train\n",
    "train_final['text_length'] = text_length_train\n",
    "val_final['title_length'] = title_length_val\n",
    "val_final['text_length'] = text_length_val"
   ]
  },
  {
   "cell_type": "code",
   "execution_count": 123,
   "metadata": {},
   "outputs": [
    {
     "data": {
      "text/plain": [
       "Index(['requester_received_pizza', 'request_title', 'request_text_edit_aware',\n",
       "       'requester_number_of_subreddits_at_request',\n",
       "       'unix_timestamp_of_request', 'requester_account_age_in_days_at_request',\n",
       "       'requester_subreddits_at_request',\n",
       "       'requester_upvotes_minus_downvotes_at_request',\n",
       "       'requester_upvotes_plus_downvotes_at_request', 'timestamp_converted',\n",
       "       'hour_bin_4', 'lengths_text', 'num_words_text', 'num_caps_text',\n",
       "       'capsvslen_text', 'num_unique_words_text', 'num_puncs_text',\n",
       "       'num_req_w_url_text', 'active_random_subr', 'active_raop_subr',\n",
       "       'active_food_subr', 'active_common_subr', 'active_common_sr_0',\n",
       "       'active_common_sr_1', 'active_common_sr_2', 'active_common_sr_3',\n",
       "       'active_common_sr_4', 'active_common_sr_5', 'active_common_sr_6',\n",
       "       'active_common_sr_7', 'active_common_sr_8', 'active_common_sr_9',\n",
       "       'binary_requester_number_of_posts_on_raop_at_request',\n",
       "       'num_subreddits_req_1. 1-5', 'num_subreddits_req_2. 5-10',\n",
       "       'num_subreddits_req_3. 10-50', 'num_subreddits_req_4. 50-100',\n",
       "       'num_subreddits_req_5. 100+', 'title_length', 'text_length'],\n",
       "      dtype='object')"
      ]
     },
     "execution_count": 123,
     "metadata": {},
     "output_type": "execute_result"
    }
   ],
   "source": [
    "train_final.columns"
   ]
  },
  {
   "cell_type": "code",
   "execution_count": 124,
   "metadata": {},
   "outputs": [
    {
     "data": {
      "text/plain": [
       "Index(['requester_received_pizza', 'request_title', 'request_text_edit_aware',\n",
       "       'requester_number_of_subreddits_at_request',\n",
       "       'unix_timestamp_of_request', 'requester_account_age_in_days_at_request',\n",
       "       'requester_subreddits_at_request',\n",
       "       'requester_upvotes_minus_downvotes_at_request',\n",
       "       'requester_upvotes_plus_downvotes_at_request', 'lengths_text',\n",
       "       'num_words_text', 'num_caps_text', 'capsvslen_text',\n",
       "       'num_unique_words_text', 'num_puncs_text', 'num_req_w_url_text',\n",
       "       'active_random_subr', 'active_raop_subr', 'active_food_subr',\n",
       "       'active_common_sr_0', 'active_common_sr_1', 'active_common_sr_2',\n",
       "       'active_common_sr_3', 'active_common_sr_4', 'active_common_sr_5',\n",
       "       'active_common_sr_6', 'active_common_sr_7', 'active_common_sr_8',\n",
       "       'active_common_sr_9',\n",
       "       'binary_requester_number_of_posts_on_raop_at_request',\n",
       "       'num_subreddits_req_1. 1-5', 'num_subreddits_req_2. 5-10',\n",
       "       'num_subreddits_req_3. 10-50', 'num_subreddits_req_4. 50-100',\n",
       "       'num_subreddits_req_5. 100+', 'title_length', 'text_length'],\n",
       "      dtype='object')"
      ]
     },
     "execution_count": 124,
     "metadata": {},
     "output_type": "execute_result"
    }
   ],
   "source": [
    "val_final.columns"
   ]
  },
  {
   "cell_type": "code",
   "execution_count": 125,
   "metadata": {},
   "outputs": [],
   "source": [
    "## Advanced word matching features\n",
    "\n",
    "w_vect = gensim.downloader.load('glove-twitter-50')"
   ]
  },
  {
   "cell_type": "code",
   "execution_count": 126,
   "metadata": {},
   "outputs": [],
   "source": [
    "def get_binary_feature(word, vector, wv):\n",
    "    result = []\n",
    "    candidates = set([w[0] for w in wv.most_similar(word, topn=20)] + [word])\n",
    "    for line in vector:\n",
    "        if line != line:\n",
    "            result.append(0)\n",
    "            continue\n",
    "        trf_line = preprocess_text(line)\n",
    "        if len(candidates.intersection(set(trf_line))) > 0:\n",
    "            result.append(1)\n",
    "        else:\n",
    "            result.append(0)\n",
    "    return result\n",
    "\n",
    "def text_feature_addition(word_list, df, colname, id_str, wv):\n",
    "    for ind, word in enumerate(word_list):\n",
    "        print(ind, ' : ', word)\n",
    "        f_name = id_str + word\n",
    "        feat = get_binary_feature(word, df[colname], wv)\n",
    "        df[f_name] = feat\n",
    "    return df"
   ]
  },
  {
   "cell_type": "code",
   "execution_count": 127,
   "metadata": {},
   "outputs": [
    {
     "name": "stdout",
     "output_type": "stream",
     "text": [
      "0  :  page\n",
      "1  :  lover\n",
      "2  :  country\n",
      "3  :  remove\n",
      "4  :  username\n",
      "5  :  sibling\n",
      "6  :  economy\n",
      "7  :  smoke\n",
      "8  :  shelter\n",
      "9  :  favour\n",
      "10  :  drunk\n",
      "11  :  english\n",
      "12  :  ta\n",
      "13  :  animal\n",
      "14  :  ga\n",
      "15  :  dead\n",
      "16  :  essay\n",
      "17  :  bc\n",
      "18  :  tide\n",
      "19  :  fancy\n",
      "0  :  fly\n",
      "1  :  exchange\n",
      "2  :  remain\n",
      "3  :  earn\n",
      "4  :  subsist\n",
      "5  :  partner\n",
      "6  :  basic\n",
      "7  :  stone\n",
      "8  :  leg\n",
      "9  :  dvd\n",
      "10  :  individual\n",
      "11  :  puppy\n",
      "12  :  fry\n",
      "13  :  sum\n",
      "14  :  admit\n",
      "15  :  kidney\n",
      "16  :  lawyer\n",
      "17  :  collect\n",
      "18  :  package\n",
      "19  :  bonus\n",
      "0  :  saturday\n",
      "1  :  hell\n",
      "2  :  london\n",
      "3  :  great\n",
      "4  :  houston\n",
      "5  :  slice\n",
      "6  :  pick\n",
      "7  :  colorado\n",
      "8  :  fuck\n",
      "9  :  play\n",
      "10  :  people\n",
      "11  :  ct\n",
      "12  :  jersey\n",
      "13  :  order\n",
      "14  :  noodle\n",
      "15  :  enjoy\n",
      "16  :  na\n",
      "17  :  pepperoni\n",
      "18  :  wan\n",
      "19  :  class\n",
      "0  :  rough\n",
      "1  :  real\n",
      "2  :  holiday\n",
      "3  :  redditor\n",
      "4  :  iowa\n",
      "5  :  yesterday\n",
      "6  :  arizona\n",
      "7  :  kentucky\n",
      "8  :  los\n",
      "9  :  angeles\n",
      "10  :  fail\n",
      "11  :  smile\n",
      "12  :  anniversary\n",
      "13  :  nj\n",
      "14  :  father\n",
      "15  :  baby\n",
      "16  :  daughter\n",
      "17  :  tucson\n",
      "18  :  happy\n",
      "19  :  lot\n"
     ]
    }
   ],
   "source": [
    "train_final = text_feature_addition(word_list=false_class_pmi_words_text, \n",
    "                                    df=train_final, \n",
    "                                    colname='request_text_edit_aware', \n",
    "                                    wv=w_vect, \n",
    "                                    id_str='text_false_')\n",
    "\n",
    "train_final = text_feature_addition(word_list=true_class_pmi_words_text, \n",
    "                                    df=train_final, \n",
    "                                    colname='request_text_edit_aware', \n",
    "                                    wv=w_vect, \n",
    "                                    id_str='text_true_')\n",
    "\n",
    "train_final = text_feature_addition(word_list=false_class_pmi_words_title, \n",
    "                                    df=train_final, \n",
    "                                    colname='request_title', \n",
    "                                    wv=w_vect, \n",
    "                                    id_str='title_false_')\n",
    "\n",
    "train_final = text_feature_addition(word_list=true_class_pmi_words_title, \n",
    "                                    df=train_final, \n",
    "                                    colname='request_title', \n",
    "                                    wv=w_vect, \n",
    "                                    id_str='title_true_')"
   ]
  },
  {
   "cell_type": "code",
   "execution_count": 128,
   "metadata": {},
   "outputs": [
    {
     "name": "stdout",
     "output_type": "stream",
     "text": [
      "0  :  page\n",
      "1  :  lover\n",
      "2  :  country\n",
      "3  :  remove\n",
      "4  :  username\n",
      "5  :  sibling\n",
      "6  :  economy\n",
      "7  :  smoke\n",
      "8  :  shelter\n",
      "9  :  favour\n",
      "10  :  drunk\n",
      "11  :  english\n",
      "12  :  ta\n",
      "13  :  animal\n",
      "14  :  ga\n",
      "15  :  dead\n",
      "16  :  essay\n",
      "17  :  bc\n",
      "18  :  tide\n",
      "19  :  fancy\n",
      "0  :  fly\n",
      "1  :  exchange\n",
      "2  :  remain\n",
      "3  :  earn\n",
      "4  :  subsist\n",
      "5  :  partner\n",
      "6  :  basic\n",
      "7  :  stone\n",
      "8  :  leg\n",
      "9  :  dvd\n",
      "10  :  individual\n",
      "11  :  puppy\n",
      "12  :  fry\n",
      "13  :  sum\n",
      "14  :  admit\n",
      "15  :  kidney\n",
      "16  :  lawyer\n",
      "17  :  collect\n",
      "18  :  package\n",
      "19  :  bonus\n",
      "0  :  saturday\n",
      "1  :  hell\n",
      "2  :  london\n",
      "3  :  great\n",
      "4  :  houston\n",
      "5  :  slice\n",
      "6  :  pick\n",
      "7  :  colorado\n",
      "8  :  fuck\n",
      "9  :  play\n",
      "10  :  people\n",
      "11  :  ct\n",
      "12  :  jersey\n",
      "13  :  order\n",
      "14  :  noodle\n",
      "15  :  enjoy\n",
      "16  :  na\n",
      "17  :  pepperoni\n",
      "18  :  wan\n",
      "19  :  class\n",
      "0  :  rough\n",
      "1  :  real\n",
      "2  :  holiday\n",
      "3  :  redditor\n",
      "4  :  iowa\n",
      "5  :  yesterday\n",
      "6  :  arizona\n",
      "7  :  kentucky\n",
      "8  :  los\n",
      "9  :  angeles\n",
      "10  :  fail\n",
      "11  :  smile\n",
      "12  :  anniversary\n",
      "13  :  nj\n",
      "14  :  father\n",
      "15  :  baby\n",
      "16  :  daughter\n",
      "17  :  tucson\n",
      "18  :  happy\n",
      "19  :  lot\n"
     ]
    }
   ],
   "source": [
    "val_final = text_feature_addition(word_list=false_class_pmi_words_text, \n",
    "                                    df=val_final, \n",
    "                                    colname='request_text_edit_aware', \n",
    "                                    wv=w_vect, \n",
    "                                    id_str='text_false_')\n",
    "\n",
    "val_final = text_feature_addition(word_list=true_class_pmi_words_text, \n",
    "                                    df=val_final, \n",
    "                                    colname='request_text_edit_aware', \n",
    "                                    wv=w_vect, \n",
    "                                    id_str='text_true_')\n",
    "\n",
    "val_final = text_feature_addition(word_list=false_class_pmi_words_title, \n",
    "                                    df=val_final, \n",
    "                                    colname='request_title', \n",
    "                                    wv=w_vect, \n",
    "                                    id_str='title_false_')\n",
    "\n",
    "val_final = text_feature_addition(word_list=true_class_pmi_words_title, \n",
    "                                    df=val_final, \n",
    "                                    colname='request_title', \n",
    "                                    wv=w_vect, \n",
    "                                    id_str='title_true_')"
   ]
  },
  {
   "cell_type": "code",
   "execution_count": 129,
   "metadata": {},
   "outputs": [
    {
     "data": {
      "text/plain": [
       "Index(['requester_received_pizza', 'request_title', 'request_text_edit_aware',\n",
       "       'requester_number_of_subreddits_at_request',\n",
       "       'unix_timestamp_of_request', 'requester_account_age_in_days_at_request',\n",
       "       'requester_subreddits_at_request',\n",
       "       'requester_upvotes_minus_downvotes_at_request',\n",
       "       'requester_upvotes_plus_downvotes_at_request', 'timestamp_converted',\n",
       "       ...\n",
       "       'title_true_fail', 'title_true_smile', 'title_true_anniversary',\n",
       "       'title_true_nj', 'title_true_father', 'title_true_baby',\n",
       "       'title_true_daughter', 'title_true_tucson', 'title_true_happy',\n",
       "       'title_true_lot'],\n",
       "      dtype='object', length=120)"
      ]
     },
     "execution_count": 129,
     "metadata": {},
     "output_type": "execute_result"
    }
   ],
   "source": [
    "train_final.columns"
   ]
  },
  {
   "cell_type": "code",
   "execution_count": 130,
   "metadata": {},
   "outputs": [
    {
     "data": {
      "text/plain": [
       "Index(['requester_received_pizza', 'request_title', 'request_text_edit_aware',\n",
       "       'requester_number_of_subreddits_at_request',\n",
       "       'unix_timestamp_of_request', 'requester_account_age_in_days_at_request',\n",
       "       'requester_subreddits_at_request',\n",
       "       'requester_upvotes_minus_downvotes_at_request',\n",
       "       'requester_upvotes_plus_downvotes_at_request', 'lengths_text',\n",
       "       ...\n",
       "       'title_true_fail', 'title_true_smile', 'title_true_anniversary',\n",
       "       'title_true_nj', 'title_true_father', 'title_true_baby',\n",
       "       'title_true_daughter', 'title_true_tucson', 'title_true_happy',\n",
       "       'title_true_lot'],\n",
       "      dtype='object', length=117)"
      ]
     },
     "execution_count": 130,
     "metadata": {},
     "output_type": "execute_result"
    }
   ],
   "source": [
    "val_final.columns"
   ]
  },
  {
   "cell_type": "markdown",
   "metadata": {},
   "source": [
    "### 8. Model training and baseline results"
   ]
  },
  {
   "cell_type": "code",
   "execution_count": 200,
   "metadata": {},
   "outputs": [],
   "source": [
    "exc_col = ['requester_received_pizza', 'request_title', 'request_text_edit_aware', 'unix_timestamp_of_request', \n",
    "          'requester_subreddits_at_request', 'timestamp_converted', 'hour_bin_4','active_common_subr']\n",
    "Xcols = [c for c in train_final.columns.tolist() if c not in exc_col]"
   ]
  },
  {
   "cell_type": "code",
   "execution_count": 201,
   "metadata": {},
   "outputs": [
    {
     "data": {
      "text/plain": [
       "requester_number_of_subreddits_at_request       0\n",
       "requester_account_age_in_days_at_request        0\n",
       "requester_upvotes_minus_downvotes_at_request    0\n",
       "requester_upvotes_plus_downvotes_at_request     0\n",
       "lengths_text                                    0\n",
       "                                               ..\n",
       "title_true_baby                                 0\n",
       "title_true_daughter                             0\n",
       "title_true_tucson                               0\n",
       "title_true_happy                                0\n",
       "title_true_lot                                  0\n",
       "Length: 112, dtype: int64"
      ]
     },
     "execution_count": 201,
     "metadata": {},
     "output_type": "execute_result"
    }
   ],
   "source": [
    "train_final[Xcols].isna().sum()"
   ]
  },
  {
   "cell_type": "code",
   "execution_count": 202,
   "metadata": {},
   "outputs": [
    {
     "data": {
      "text/plain": [
       "(3636, 112)"
      ]
     },
     "execution_count": 202,
     "metadata": {},
     "output_type": "execute_result"
    }
   ],
   "source": [
    "train_final[Xcols].shape"
   ]
  },
  {
   "cell_type": "code",
   "execution_count": 203,
   "metadata": {},
   "outputs": [
    {
     "data": {
      "text/plain": [
       "(3636,)"
      ]
     },
     "execution_count": 203,
     "metadata": {},
     "output_type": "execute_result"
    }
   ],
   "source": [
    "train_final[y_col].shape"
   ]
  },
  {
   "cell_type": "code",
   "execution_count": 178,
   "metadata": {},
   "outputs": [],
   "source": [
    "txcols = train_final[Xcols]"
   ]
  },
  {
   "cell_type": "code",
   "execution_count": 199,
   "metadata": {},
   "outputs": [
    {
     "name": "stdout",
     "output_type": "stream",
     "text": [
      "requester_number_of_subreddits_at_request\n",
      "<class 'int'>\n",
      "requester_account_age_in_days_at_request\n",
      "<class 'float'>\n",
      "requester_upvotes_minus_downvotes_at_request\n",
      "<class 'int'>\n",
      "requester_upvotes_plus_downvotes_at_request\n",
      "<class 'int'>\n",
      "lengths_text\n",
      "<class 'int'>\n",
      "num_words_text\n",
      "<class 'int'>\n",
      "num_caps_text\n",
      "<class 'int'>\n",
      "capsvslen_text\n",
      "<class 'float'>\n",
      "num_unique_words_text\n",
      "<class 'int'>\n",
      "num_puncs_text\n",
      "<class 'int'>\n",
      "num_req_w_url_text\n",
      "<class 'int'>\n",
      "active_random_subr\n",
      "<class 'int'>\n",
      "active_raop_subr\n",
      "<class 'int'>\n",
      "active_food_subr\n",
      "<class 'int'>\n",
      "active_common_subr\n",
      "<class 'list'>\n",
      "active_common_sr_0\n",
      "<class 'int'>\n",
      "active_common_sr_1\n",
      "<class 'int'>\n",
      "active_common_sr_2\n",
      "<class 'int'>\n",
      "active_common_sr_3\n",
      "<class 'int'>\n",
      "active_common_sr_4\n",
      "<class 'int'>\n",
      "active_common_sr_5\n",
      "<class 'int'>\n",
      "active_common_sr_6\n",
      "<class 'int'>\n",
      "active_common_sr_7\n",
      "<class 'int'>\n",
      "active_common_sr_8\n",
      "<class 'int'>\n",
      "active_common_sr_9\n",
      "<class 'int'>\n",
      "binary_requester_number_of_posts_on_raop_at_request\n",
      "<class 'int'>\n",
      "num_subreddits_req_1. 1-5\n",
      "<class 'int'>\n",
      "num_subreddits_req_2. 5-10\n",
      "<class 'int'>\n",
      "num_subreddits_req_3. 10-50\n",
      "<class 'int'>\n",
      "num_subreddits_req_4. 50-100\n",
      "<class 'int'>\n",
      "num_subreddits_req_5. 100+\n",
      "<class 'int'>\n",
      "title_length\n",
      "<class 'int'>\n",
      "text_length\n",
      "<class 'int'>\n",
      "text_false_page\n",
      "<class 'int'>\n",
      "text_false_lover\n",
      "<class 'int'>\n",
      "text_false_country\n",
      "<class 'int'>\n",
      "text_false_remove\n",
      "<class 'int'>\n",
      "text_false_username\n",
      "<class 'int'>\n",
      "text_false_sibling\n",
      "<class 'int'>\n",
      "text_false_economy\n",
      "<class 'int'>\n",
      "text_false_smoke\n",
      "<class 'int'>\n",
      "text_false_shelter\n",
      "<class 'int'>\n",
      "text_false_favour\n",
      "<class 'int'>\n",
      "text_false_drunk\n",
      "<class 'int'>\n",
      "text_false_english\n",
      "<class 'int'>\n",
      "text_false_ta\n",
      "<class 'int'>\n",
      "text_false_animal\n",
      "<class 'int'>\n",
      "text_false_ga\n",
      "<class 'int'>\n",
      "text_false_dead\n",
      "<class 'int'>\n",
      "text_false_essay\n",
      "<class 'int'>\n",
      "text_false_bc\n",
      "<class 'int'>\n",
      "text_false_tide\n",
      "<class 'int'>\n",
      "text_false_fancy\n",
      "<class 'int'>\n",
      "text_true_fly\n",
      "<class 'int'>\n",
      "text_true_exchange\n",
      "<class 'int'>\n",
      "text_true_remain\n",
      "<class 'int'>\n",
      "text_true_earn\n",
      "<class 'int'>\n",
      "text_true_subsist\n",
      "<class 'int'>\n",
      "text_true_partner\n",
      "<class 'int'>\n",
      "text_true_basic\n",
      "<class 'int'>\n",
      "text_true_stone\n",
      "<class 'int'>\n",
      "text_true_leg\n",
      "<class 'int'>\n",
      "text_true_dvd\n",
      "<class 'int'>\n",
      "text_true_individual\n",
      "<class 'int'>\n",
      "text_true_puppy\n",
      "<class 'int'>\n",
      "text_true_fry\n",
      "<class 'int'>\n",
      "text_true_sum\n",
      "<class 'int'>\n",
      "text_true_admit\n",
      "<class 'int'>\n",
      "text_true_kidney\n",
      "<class 'int'>\n",
      "text_true_lawyer\n",
      "<class 'int'>\n",
      "text_true_collect\n",
      "<class 'int'>\n",
      "text_true_package\n",
      "<class 'int'>\n",
      "text_true_bonus\n",
      "<class 'int'>\n",
      "title_false_saturday\n",
      "<class 'int'>\n",
      "title_false_hell\n",
      "<class 'int'>\n",
      "title_false_london\n",
      "<class 'int'>\n",
      "title_false_great\n",
      "<class 'int'>\n",
      "title_false_houston\n",
      "<class 'int'>\n",
      "title_false_slice\n",
      "<class 'int'>\n",
      "title_false_pick\n",
      "<class 'int'>\n",
      "title_false_colorado\n",
      "<class 'int'>\n",
      "title_false_fuck\n",
      "<class 'int'>\n",
      "title_false_play\n",
      "<class 'int'>\n",
      "title_false_people\n",
      "<class 'int'>\n",
      "title_false_ct\n",
      "<class 'int'>\n",
      "title_false_jersey\n",
      "<class 'int'>\n",
      "title_false_order\n",
      "<class 'int'>\n",
      "title_false_noodle\n",
      "<class 'int'>\n",
      "title_false_enjoy\n",
      "<class 'int'>\n",
      "title_false_na\n",
      "<class 'int'>\n",
      "title_false_pepperoni\n",
      "<class 'int'>\n",
      "title_false_wan\n",
      "<class 'int'>\n",
      "title_false_class\n",
      "<class 'int'>\n",
      "title_true_rough\n",
      "<class 'int'>\n",
      "title_true_real\n",
      "<class 'int'>\n",
      "title_true_holiday\n",
      "<class 'int'>\n",
      "title_true_redditor\n",
      "<class 'int'>\n",
      "title_true_iowa\n",
      "<class 'int'>\n",
      "title_true_yesterday\n",
      "<class 'int'>\n",
      "title_true_arizona\n",
      "<class 'int'>\n",
      "title_true_kentucky\n",
      "<class 'int'>\n",
      "title_true_los\n",
      "<class 'int'>\n",
      "title_true_angeles\n",
      "<class 'int'>\n",
      "title_true_fail\n",
      "<class 'int'>\n",
      "title_true_smile\n",
      "<class 'int'>\n",
      "title_true_anniversary\n",
      "<class 'int'>\n",
      "title_true_nj\n",
      "<class 'int'>\n",
      "title_true_father\n",
      "<class 'int'>\n",
      "title_true_baby\n",
      "<class 'int'>\n",
      "title_true_daughter\n",
      "<class 'int'>\n",
      "title_true_tucson\n",
      "<class 'int'>\n",
      "title_true_happy\n",
      "<class 'int'>\n",
      "title_true_lot\n",
      "<class 'int'>\n",
      "{<class 'int'>, <class 'list'>, <class 'float'>}\n"
     ]
    }
   ],
   "source": [
    "types = []\n",
    "for x in Xcols:\n",
    "    print(x)\n",
    "    for d in txcols[x]:\n",
    "        print(type(d))\n",
    "        types.append(type(d))\n",
    "        break\n",
    "print(set(types))"
   ]
  },
  {
   "cell_type": "markdown",
   "metadata": {},
   "source": [
    "### Adding Request and Text Meta Features"
   ]
  },
  {
   "cell_type": "markdown",
   "metadata": {},
   "source": [
    "#### 8.1 Hyper parameter tuning"
   ]
  },
  {
   "cell_type": "code",
   "execution_count": 205,
   "metadata": {},
   "outputs": [
    {
     "name": "stdout",
     "output_type": "stream",
     "text": [
      "Fitting 3 folds for each of 400 candidates, totalling 1200 fits\n"
     ]
    },
    {
     "name": "stderr",
     "output_type": "stream",
     "text": [
      "[Parallel(n_jobs=-1)]: Using backend LokyBackend with 4 concurrent workers.\n",
      "[Parallel(n_jobs=-1)]: Done  42 tasks      | elapsed:  1.0min\n",
      "[Parallel(n_jobs=-1)]: Done 192 tasks      | elapsed:  5.1min\n",
      "[Parallel(n_jobs=-1)]: Done 442 tasks      | elapsed: 11.2min\n",
      "[Parallel(n_jobs=-1)]: Done 792 tasks      | elapsed: 19.4min\n",
      "[Parallel(n_jobs=-1)]: Done 1200 out of 1200 | elapsed: 27.8min finished\n"
     ]
    },
    {
     "data": {
      "text/plain": [
       "{'n_estimators': 800,\n",
       " 'min_samples_split': 7,\n",
       " 'max_features': 15,\n",
       " 'max_depth': None,\n",
       " 'class_weight': None,\n",
       " 'bootstrap': True}"
      ]
     },
     "execution_count": 205,
     "metadata": {},
     "output_type": "execute_result"
    }
   ],
   "source": [
    "# Number of trees in Random Forest\n",
    "rf_n_estimators = [int(x) for x in np.linspace(200, 1000, 5)]\n",
    "\n",
    "# Maximum number of levels in tree\n",
    "rf_max_depth = [int(x) for x in np.linspace(1, 10, 1)]\n",
    "# Add the default as a possible value\n",
    "rf_max_depth.append(None)\n",
    "\n",
    "# Number of features to consider at every split\n",
    "rf_max_features = ['auto', 'log2', 8, 10, 15, 20]\n",
    "\n",
    "# Minimum number of samples required to split a node\n",
    "rf_min_samples_split = [int(x) for x in np.linspace(4, 10, 7)]\n",
    "\n",
    "# Method of selecting samples for training each tree\n",
    "rf_bootstrap = [True, False]\n",
    "\n",
    "rf_class_weight = [None, 'balanced', 'balanced_subsample']\n",
    "\n",
    "# Create the grid\n",
    "rf_grid = {'n_estimators': rf_n_estimators,\n",
    "            'max_depth': rf_max_depth,\n",
    "            'max_features': rf_max_features,\n",
    "            'min_samples_split': rf_min_samples_split,\n",
    "            'bootstrap': rf_bootstrap, \n",
    "            'class_weight': rf_class_weight}\n",
    "\n",
    "rf_base = RandomForestClassifier()\n",
    "\n",
    "# Create the random search Random Forest\n",
    "rf_random = RandomizedSearchCV(estimator = rf_base, param_distributions = rf_grid, \n",
    "                               n_iter = 400, cv = 3, verbose = 1, random_state = 42, \n",
    "                               n_jobs = -1)\n",
    "\n",
    "# Fit the random search model\n",
    "rf_random.fit(train_final[Xcols], train_final[y_col])\n",
    "\n",
    "# View the best parameters from the random search\n",
    "rf_random.best_params_"
   ]
  },
  {
   "cell_type": "markdown",
   "metadata": {},
   "source": [
    "#### 8.2 Random Forest Classifier model fitting "
   ]
  },
  {
   "cell_type": "code",
   "execution_count": 206,
   "metadata": {},
   "outputs": [
    {
     "data": {
      "text/plain": [
       "RandomForestClassifier(max_features=20, min_samples_split=4, n_estimators=600,\n",
       "                       n_jobs=-1, random_state=42)"
      ]
     },
     "execution_count": 206,
     "metadata": {},
     "output_type": "execute_result"
    }
   ],
   "source": [
    "rf_final = RandomForestClassifier(n_estimators=600, min_samples_split=4, max_features=20, \n",
    "                                  max_depth=None, class_weight=None,\n",
    "                                 bootstrap=True, n_jobs=-1, random_state=42)\n",
    "\n",
    "rf_final.fit(train_final[Xcols], train_final[y_col])"
   ]
  },
  {
   "cell_type": "markdown",
   "metadata": {},
   "source": [
    "#### 8.3 Random Forest Classifier predictions"
   ]
  },
  {
   "cell_type": "code",
   "execution_count": 207,
   "metadata": {},
   "outputs": [],
   "source": [
    "prediction_probs = rf_final.predict_proba(val_final[Xcols])[:,1]"
   ]
  },
  {
   "cell_type": "code",
   "execution_count": 208,
   "metadata": {},
   "outputs": [
    {
     "data": {
      "image/png": "[encoded data removed]",
      "text/plain": [
       "<Figure size 432x288 with 1 Axes>"
      ]
     },
     "metadata": {},
     "output_type": "display_data"
    }
   ],
   "source": [
    "feat_importances = pd.Series(rf_final.feature_importances_, index=Xcols)\n",
    "feat_importances.nlargest(10).plot(kind='barh')\n",
    "pass"
   ]
  },
  {
   "cell_type": "markdown",
   "metadata": {},
   "source": [
    "#### 8.4 Choosing right thresholds and reporting results"
   ]
  },
  {
   "cell_type": "code",
   "execution_count": 209,
   "metadata": {},
   "outputs": [
    {
     "name": "stdout",
     "output_type": "stream",
     "text": [
      "Best Threshold=0.209909, F-Score=0.451\n"
     ]
    },
    {
     "data": {
      "image/png": "[encoded data removed]",
      "text/plain": [
       "<Figure size 432x288 with 1 Axes>"
      ]
     },
     "metadata": {},
     "output_type": "display_data"
    }
   ],
   "source": [
    "# calculate roc curves\n",
    "precision, recall, thresholds = precision_recall_curve(val_final[y_col], prediction_probs)\n",
    "# convert to f score\n",
    "fscore = (2 * precision * recall) / (precision + recall)\n",
    "# locate the index of the largest f score\n",
    "ix = np.nanargmax(fscore)\n",
    "print('Best Threshold=%f, F-Score=%.3f' % (thresholds[ix], fscore[ix]))\n",
    "# plot the roc curve for the model\n",
    "no_skill = 0.24505\n",
    "plt.plot([0,1], [no_skill,no_skill], linestyle='--', label='No Skill')\n",
    "plt.plot(recall, precision, marker='.', label='Logistic')\n",
    "plt.scatter(recall[ix], precision[ix], marker='o', color='black', label='Best')\n",
    "# axis labels\n",
    "plt.xlabel('Recall')\n",
    "plt.ylabel('Precision')\n",
    "plt.legend()\n",
    "# show the plot\n",
    "plt.show()"
   ]
  },
  {
   "cell_type": "code",
   "execution_count": 210,
   "metadata": {},
   "outputs": [],
   "source": [
    "pred_label = prediction_probs>=0.279234"
   ]
  },
  {
   "cell_type": "code",
   "execution_count": 211,
   "metadata": {},
   "outputs": [
    {
     "name": "stdout",
     "output_type": "stream",
     "text": [
      "              precision    recall  f1-score   support\n",
      "\n",
      "       False       0.79      0.63      0.70       300\n",
      "        True       0.32      0.51      0.40       104\n",
      "\n",
      "    accuracy                           0.60       404\n",
      "   macro avg       0.56      0.57      0.55       404\n",
      "weighted avg       0.67      0.60      0.62       404\n",
      "\n"
     ]
    }
   ],
   "source": [
    "print(classification_report(y_true=val_final[y_col], y_pred=pred_label))"
   ]
  },
  {
   "cell_type": "code",
   "execution_count": 240,
   "metadata": {},
   "outputs": [],
   "source": [
    "rfprediction = pred_label"
   ]
  },
  {
   "cell_type": "code",
   "execution_count": 241,
   "metadata": {},
   "outputs": [
    {
     "data": {
      "text/plain": [
       "(404,)"
      ]
     },
     "execution_count": 241,
     "metadata": {},
     "output_type": "execute_result"
    }
   ],
   "source": [
    "rfprediction.shape"
   ]
  },
  {
   "cell_type": "markdown",
   "metadata": {},
   "source": [
    "### KNN Classifier"
   ]
  },
  {
   "cell_type": "markdown",
   "metadata": {},
   "source": [
    "#### KNN Classifier model fitting "
   ]
  },
  {
   "cell_type": "code",
   "execution_count": 234,
   "metadata": {},
   "outputs": [],
   "source": [
    "knnmodel = KNeighborsClassifier(n_jobs=-1)\n",
    "#learning\n",
    "knnmodel.fit(train_final[Xcols], train_final[y_col])\n",
    "#Prediction\n",
    "knnprediction=knnmodel.predict(val_final[Xcols])"
   ]
  },
  {
   "cell_type": "code",
   "execution_count": 238,
   "metadata": {},
   "outputs": [
    {
     "data": {
      "text/plain": [
       "(404,)"
      ]
     },
     "execution_count": 238,
     "metadata": {},
     "output_type": "execute_result"
    }
   ],
   "source": [
    "knnprediction.shape"
   ]
  },
  {
   "cell_type": "markdown",
   "metadata": {},
   "source": [
    "#### KNN Classifier Evaluation"
   ]
  },
  {
   "cell_type": "code",
   "execution_count": 235,
   "metadata": {},
   "outputs": [
    {
     "name": "stdout",
     "output_type": "stream",
     "text": [
      "Accuracy: 0.7103960396039604\n",
      "Confusion Metrix:\n",
      " [[268  85]\n",
      " [ 32  19]]\n"
     ]
    }
   ],
   "source": [
    "#evaluation(Accuracy)\n",
    "print(\"Accuracy:\",accuracy_score(knnprediction,val_final[y_col]))\n",
    "#evaluation(Confusion Metrix)\n",
    "print(\"Confusion Metrix:\\n\",confusion_matrix(knnprediction,val_final[y_col]))"
   ]
  },
  {
   "cell_type": "markdown",
   "metadata": {},
   "source": [
    "### SVM"
   ]
  },
  {
   "cell_type": "markdown",
   "metadata": {},
   "source": [
    "#### SVM Model fitting"
   ]
  },
  {
   "cell_type": "code",
   "execution_count": 225,
   "metadata": {},
   "outputs": [],
   "source": [
    "#making the instance\n",
    "svmmodel = svm.SVC(random_state=123)\n",
    "#learning\n",
    "svmmodel.fit(train_final[Xcols], train_final[y_col])\n",
    "#Prediction\n",
    "svmprediction=svmmodel.predict(val_final[Xcols])"
   ]
  },
  {
   "cell_type": "code",
   "execution_count": 239,
   "metadata": {},
   "outputs": [
    {
     "data": {
      "text/plain": [
       "(404,)"
      ]
     },
     "execution_count": 239,
     "metadata": {},
     "output_type": "execute_result"
    }
   ],
   "source": [
    "svmprediction.shape"
   ]
  },
  {
   "cell_type": "markdown",
   "metadata": {},
   "source": [
    "#### SVM Model Evaluations"
   ]
  },
  {
   "cell_type": "code",
   "execution_count": 229,
   "metadata": {},
   "outputs": [
    {
     "name": "stdout",
     "output_type": "stream",
     "text": [
      "Accuracy: 0.7425742574257426\n",
      "Confusion Metrix:\n",
      " [[300 104]\n",
      " [  0   0]]\n"
     ]
    }
   ],
   "source": [
    "#evaluation(Accuracy)\n",
    "print(\"Accuracy:\", accuracy_score(svmprediction,val_final[y_col]))\n",
    "#evaluation(Confusion Metrix)\n",
    "print(\"Confusion Metrix:\\n\", confusion_matrix(svmprediction,val_final[y_col]))"
   ]
  },
  {
   "cell_type": "code",
   "execution_count": null,
   "metadata": {},
   "outputs": [],
   "source": []
  },
  {
   "cell_type": "markdown",
   "metadata": {},
   "source": [
    "## Ensemble Modeling"
   ]
  },
  {
   "cell_type": "markdown",
   "metadata": {},
   "source": [
    "### Max Voting"
   ]
  },
  {
   "cell_type": "code",
   "execution_count": 245,
   "metadata": {},
   "outputs": [],
   "source": [
    "model1 = rf_final\n",
    "model2 = knnmodel\n",
    "model3= svmmodel\n",
    "\n",
    "pred1=rfprediction\n",
    "pred2=knnprediction\n",
    "pred3=svmprediction\n",
    "\n",
    "final_pred = np.array([])\n",
    "for i in range(0,len(val_final[y_col])):\n",
    "    final_pred = np.append(final_pred, mode([pred1[i], pred2[i], pred3[i]]))"
   ]
  },
  {
   "cell_type": "code",
   "execution_count": 246,
   "metadata": {},
   "outputs": [
    {
     "name": "stdout",
     "output_type": "stream",
     "text": [
      "Accuracy: 0.7227722772277227\n"
     ]
    }
   ],
   "source": [
    "print(\"Accuracy:\", accuracy_score(final_pred,val_final[y_col]))"
   ]
  },
  {
   "cell_type": "markdown",
   "metadata": {},
   "source": [
    "### Blending"
   ]
  },
  {
   "cell_type": "code",
   "execution_count": 249,
   "metadata": {},
   "outputs": [],
   "source": [
    "#splitting train further \n",
    "train_train, train_eval = train_test_split(train_final, test_size=0.3, random_state=0)\n",
    "\n",
    "model1.fit(train_train[Xcols], train_train[y_col])\n",
    "train_eval_pred1=model1.predict(train_eval[Xcols])\n",
    "eval_pred1=model1.predict(val_final[Xcols])\n",
    "train_eval_pred1=pd.DataFrame(train_eval_pred1)\n",
    "eval_pred1=pd.DataFrame(eval_pred1)\n",
    "\n",
    "model2.fit(train_train[Xcols], train_train[y_col])\n",
    "train_eval_pred2=model2.predict(train_eval[Xcols])\n",
    "eval_pred2=model2.predict(val_final[Xcols])\n",
    "train_eval_pred2=pd.DataFrame(train_eval_pred2)\n",
    "eval_pred2=pd.DataFrame(eval_pred2)"
   ]
  },
  {
   "cell_type": "code",
   "execution_count": 255,
   "metadata": {},
   "outputs": [
    {
     "ename": "ValueError",
     "evalue": "Input contains NaN, infinity or a value too large for dtype('float64').",
     "output_type": "error",
     "traceback": [
      "\u001b[0;31m---------------------------------------------------------------------------\u001b[0m",
      "\u001b[0;31mValueError\u001b[0m                                Traceback (most recent call last)",
      "\u001b[0;32m<ipython-input-255-aee63d54d9a1>\u001b[0m in \u001b[0;36m<module>\u001b[0;34m\u001b[0m\n\u001b[1;32m      3\u001b[0m \u001b[0;34m\u001b[0m\u001b[0m\n\u001b[1;32m      4\u001b[0m \u001b[0mlrmodel\u001b[0m \u001b[0;34m=\u001b[0m \u001b[0mLogisticRegression\u001b[0m\u001b[0;34m(\u001b[0m\u001b[0mrandom_state\u001b[0m\u001b[0;34m=\u001b[0m\u001b[0;36m1\u001b[0m\u001b[0;34m)\u001b[0m\u001b[0;34m\u001b[0m\u001b[0;34m\u001b[0m\u001b[0m\n\u001b[0;32m----> 5\u001b[0;31m \u001b[0mlrmodel\u001b[0m\u001b[0;34m.\u001b[0m\u001b[0mfit\u001b[0m\u001b[0;34m(\u001b[0m\u001b[0mdf_val\u001b[0m\u001b[0;34m,\u001b[0m\u001b[0mtrain_train\u001b[0m\u001b[0;34m[\u001b[0m\u001b[0my_col\u001b[0m\u001b[0;34m]\u001b[0m\u001b[0;34m)\u001b[0m\u001b[0;34m\u001b[0m\u001b[0;34m\u001b[0m\u001b[0m\n\u001b[0m\u001b[1;32m      6\u001b[0m \u001b[0mlrmodel\u001b[0m\u001b[0;34m.\u001b[0m\u001b[0mscore\u001b[0m\u001b[0;34m(\u001b[0m\u001b[0mdf_test\u001b[0m\u001b[0;34m,\u001b[0m\u001b[0mval_final\u001b[0m\u001b[0;34m[\u001b[0m\u001b[0my_col\u001b[0m\u001b[0;34m]\u001b[0m\u001b[0;34m)\u001b[0m\u001b[0;34m\u001b[0m\u001b[0;34m\u001b[0m\u001b[0m\n",
      "\u001b[0;32m/opt/anaconda3/lib/python3.7/site-packages/sklearn/linear_model/_logistic.py\u001b[0m in \u001b[0;36mfit\u001b[0;34m(self, X, y, sample_weight)\u001b[0m\n\u001b[1;32m   1342\u001b[0m         X, y = self._validate_data(X, y, accept_sparse='csr', dtype=_dtype,\n\u001b[1;32m   1343\u001b[0m                                    \u001b[0morder\u001b[0m\u001b[0;34m=\u001b[0m\u001b[0;34m\"C\"\u001b[0m\u001b[0;34m,\u001b[0m\u001b[0;34m\u001b[0m\u001b[0;34m\u001b[0m\u001b[0m\n\u001b[0;32m-> 1344\u001b[0;31m                                    accept_large_sparse=solver != 'liblinear')\n\u001b[0m\u001b[1;32m   1345\u001b[0m         \u001b[0mcheck_classification_targets\u001b[0m\u001b[0;34m(\u001b[0m\u001b[0my\u001b[0m\u001b[0;34m)\u001b[0m\u001b[0;34m\u001b[0m\u001b[0;34m\u001b[0m\u001b[0m\n\u001b[1;32m   1346\u001b[0m         \u001b[0mself\u001b[0m\u001b[0;34m.\u001b[0m\u001b[0mclasses_\u001b[0m \u001b[0;34m=\u001b[0m \u001b[0mnp\u001b[0m\u001b[0;34m.\u001b[0m\u001b[0munique\u001b[0m\u001b[0;34m(\u001b[0m\u001b[0my\u001b[0m\u001b[0;34m)\u001b[0m\u001b[0;34m\u001b[0m\u001b[0;34m\u001b[0m\u001b[0m\n",
      "\u001b[0;32m/opt/anaconda3/lib/python3.7/site-packages/sklearn/base.py\u001b[0m in \u001b[0;36m_validate_data\u001b[0;34m(self, X, y, reset, validate_separately, **check_params)\u001b[0m\n\u001b[1;32m    430\u001b[0m                 \u001b[0my\u001b[0m \u001b[0;34m=\u001b[0m \u001b[0mcheck_array\u001b[0m\u001b[0;34m(\u001b[0m\u001b[0my\u001b[0m\u001b[0;34m,\u001b[0m \u001b[0;34m**\u001b[0m\u001b[0mcheck_y_params\u001b[0m\u001b[0;34m)\u001b[0m\u001b[0;34m\u001b[0m\u001b[0;34m\u001b[0m\u001b[0m\n\u001b[1;32m    431\u001b[0m             \u001b[0;32melse\u001b[0m\u001b[0;34m:\u001b[0m\u001b[0;34m\u001b[0m\u001b[0;34m\u001b[0m\u001b[0m\n\u001b[0;32m--> 432\u001b[0;31m                 \u001b[0mX\u001b[0m\u001b[0;34m,\u001b[0m \u001b[0my\u001b[0m \u001b[0;34m=\u001b[0m \u001b[0mcheck_X_y\u001b[0m\u001b[0;34m(\u001b[0m\u001b[0mX\u001b[0m\u001b[0;34m,\u001b[0m \u001b[0my\u001b[0m\u001b[0;34m,\u001b[0m \u001b[0;34m**\u001b[0m\u001b[0mcheck_params\u001b[0m\u001b[0;34m)\u001b[0m\u001b[0;34m\u001b[0m\u001b[0;34m\u001b[0m\u001b[0m\n\u001b[0m\u001b[1;32m    433\u001b[0m             \u001b[0mout\u001b[0m \u001b[0;34m=\u001b[0m \u001b[0mX\u001b[0m\u001b[0;34m,\u001b[0m \u001b[0my\u001b[0m\u001b[0;34m\u001b[0m\u001b[0;34m\u001b[0m\u001b[0m\n\u001b[1;32m    434\u001b[0m \u001b[0;34m\u001b[0m\u001b[0m\n",
      "\u001b[0;32m/opt/anaconda3/lib/python3.7/site-packages/sklearn/utils/validation.py\u001b[0m in \u001b[0;36minner_f\u001b[0;34m(*args, **kwargs)\u001b[0m\n\u001b[1;32m     71\u001b[0m                           FutureWarning)\n\u001b[1;32m     72\u001b[0m         \u001b[0mkwargs\u001b[0m\u001b[0;34m.\u001b[0m\u001b[0mupdate\u001b[0m\u001b[0;34m(\u001b[0m\u001b[0;34m{\u001b[0m\u001b[0mk\u001b[0m\u001b[0;34m:\u001b[0m \u001b[0marg\u001b[0m \u001b[0;32mfor\u001b[0m \u001b[0mk\u001b[0m\u001b[0;34m,\u001b[0m \u001b[0marg\u001b[0m \u001b[0;32min\u001b[0m \u001b[0mzip\u001b[0m\u001b[0;34m(\u001b[0m\u001b[0msig\u001b[0m\u001b[0;34m.\u001b[0m\u001b[0mparameters\u001b[0m\u001b[0;34m,\u001b[0m \u001b[0margs\u001b[0m\u001b[0;34m)\u001b[0m\u001b[0;34m}\u001b[0m\u001b[0;34m)\u001b[0m\u001b[0;34m\u001b[0m\u001b[0;34m\u001b[0m\u001b[0m\n\u001b[0;32m---> 73\u001b[0;31m         \u001b[0;32mreturn\u001b[0m \u001b[0mf\u001b[0m\u001b[0;34m(\u001b[0m\u001b[0;34m**\u001b[0m\u001b[0mkwargs\u001b[0m\u001b[0;34m)\u001b[0m\u001b[0;34m\u001b[0m\u001b[0;34m\u001b[0m\u001b[0m\n\u001b[0m\u001b[1;32m     74\u001b[0m     \u001b[0;32mreturn\u001b[0m \u001b[0minner_f\u001b[0m\u001b[0;34m\u001b[0m\u001b[0;34m\u001b[0m\u001b[0m\n\u001b[1;32m     75\u001b[0m \u001b[0;34m\u001b[0m\u001b[0m\n",
      "\u001b[0;32m/opt/anaconda3/lib/python3.7/site-packages/sklearn/utils/validation.py\u001b[0m in \u001b[0;36mcheck_X_y\u001b[0;34m(X, y, accept_sparse, accept_large_sparse, dtype, order, copy, force_all_finite, ensure_2d, allow_nd, multi_output, ensure_min_samples, ensure_min_features, y_numeric, estimator)\u001b[0m\n\u001b[1;32m    801\u001b[0m                     \u001b[0mensure_min_samples\u001b[0m\u001b[0;34m=\u001b[0m\u001b[0mensure_min_samples\u001b[0m\u001b[0;34m,\u001b[0m\u001b[0;34m\u001b[0m\u001b[0;34m\u001b[0m\u001b[0m\n\u001b[1;32m    802\u001b[0m                     \u001b[0mensure_min_features\u001b[0m\u001b[0;34m=\u001b[0m\u001b[0mensure_min_features\u001b[0m\u001b[0;34m,\u001b[0m\u001b[0;34m\u001b[0m\u001b[0;34m\u001b[0m\u001b[0m\n\u001b[0;32m--> 803\u001b[0;31m                     estimator=estimator)\n\u001b[0m\u001b[1;32m    804\u001b[0m     \u001b[0;32mif\u001b[0m \u001b[0mmulti_output\u001b[0m\u001b[0;34m:\u001b[0m\u001b[0;34m\u001b[0m\u001b[0;34m\u001b[0m\u001b[0m\n\u001b[1;32m    805\u001b[0m         y = check_array(y, accept_sparse='csr', force_all_finite=True,\n",
      "\u001b[0;32m/opt/anaconda3/lib/python3.7/site-packages/sklearn/utils/validation.py\u001b[0m in \u001b[0;36minner_f\u001b[0;34m(*args, **kwargs)\u001b[0m\n\u001b[1;32m     71\u001b[0m                           FutureWarning)\n\u001b[1;32m     72\u001b[0m         \u001b[0mkwargs\u001b[0m\u001b[0;34m.\u001b[0m\u001b[0mupdate\u001b[0m\u001b[0;34m(\u001b[0m\u001b[0;34m{\u001b[0m\u001b[0mk\u001b[0m\u001b[0;34m:\u001b[0m \u001b[0marg\u001b[0m \u001b[0;32mfor\u001b[0m \u001b[0mk\u001b[0m\u001b[0;34m,\u001b[0m \u001b[0marg\u001b[0m \u001b[0;32min\u001b[0m \u001b[0mzip\u001b[0m\u001b[0;34m(\u001b[0m\u001b[0msig\u001b[0m\u001b[0;34m.\u001b[0m\u001b[0mparameters\u001b[0m\u001b[0;34m,\u001b[0m \u001b[0margs\u001b[0m\u001b[0;34m)\u001b[0m\u001b[0;34m}\u001b[0m\u001b[0;34m)\u001b[0m\u001b[0;34m\u001b[0m\u001b[0;34m\u001b[0m\u001b[0m\n\u001b[0;32m---> 73\u001b[0;31m         \u001b[0;32mreturn\u001b[0m \u001b[0mf\u001b[0m\u001b[0;34m(\u001b[0m\u001b[0;34m**\u001b[0m\u001b[0mkwargs\u001b[0m\u001b[0;34m)\u001b[0m\u001b[0;34m\u001b[0m\u001b[0;34m\u001b[0m\u001b[0m\n\u001b[0m\u001b[1;32m     74\u001b[0m     \u001b[0;32mreturn\u001b[0m \u001b[0minner_f\u001b[0m\u001b[0;34m\u001b[0m\u001b[0;34m\u001b[0m\u001b[0m\n\u001b[1;32m     75\u001b[0m \u001b[0;34m\u001b[0m\u001b[0m\n",
      "\u001b[0;32m/opt/anaconda3/lib/python3.7/site-packages/sklearn/utils/validation.py\u001b[0m in \u001b[0;36mcheck_array\u001b[0;34m(array, accept_sparse, accept_large_sparse, dtype, order, copy, force_all_finite, ensure_2d, allow_nd, ensure_min_samples, ensure_min_features, estimator)\u001b[0m\n\u001b[1;32m    644\u001b[0m         \u001b[0;32mif\u001b[0m \u001b[0mforce_all_finite\u001b[0m\u001b[0;34m:\u001b[0m\u001b[0;34m\u001b[0m\u001b[0;34m\u001b[0m\u001b[0m\n\u001b[1;32m    645\u001b[0m             _assert_all_finite(array,\n\u001b[0;32m--> 646\u001b[0;31m                                allow_nan=force_all_finite == 'allow-nan')\n\u001b[0m\u001b[1;32m    647\u001b[0m \u001b[0;34m\u001b[0m\u001b[0m\n\u001b[1;32m    648\u001b[0m     \u001b[0;32mif\u001b[0m \u001b[0mensure_min_samples\u001b[0m \u001b[0;34m>\u001b[0m \u001b[0;36m0\u001b[0m\u001b[0;34m:\u001b[0m\u001b[0;34m\u001b[0m\u001b[0;34m\u001b[0m\u001b[0m\n",
      "\u001b[0;32m/opt/anaconda3/lib/python3.7/site-packages/sklearn/utils/validation.py\u001b[0m in \u001b[0;36m_assert_all_finite\u001b[0;34m(X, allow_nan, msg_dtype)\u001b[0m\n\u001b[1;32m     98\u001b[0m                     \u001b[0mmsg_err\u001b[0m\u001b[0;34m.\u001b[0m\u001b[0mformat\u001b[0m\u001b[0;34m\u001b[0m\u001b[0;34m\u001b[0m\u001b[0m\n\u001b[1;32m     99\u001b[0m                     (type_err,\n\u001b[0;32m--> 100\u001b[0;31m                      msg_dtype if msg_dtype is not None else X.dtype)\n\u001b[0m\u001b[1;32m    101\u001b[0m             )\n\u001b[1;32m    102\u001b[0m     \u001b[0;31m# for object dtype data, we only check for NaNs (GH-13254)\u001b[0m\u001b[0;34m\u001b[0m\u001b[0;34m\u001b[0m\u001b[0;34m\u001b[0m\u001b[0m\n",
      "\u001b[0;31mValueError\u001b[0m: Input contains NaN, infinity or a value too large for dtype('float64')."
     ]
    }
   ],
   "source": [
    "df_val=pd.concat([train_train[Xcols], train_eval_pred1,train_eval_pred2],axis=1)\n",
    "df_test=pd.concat([val_final[Xcols], eval_pred1,eval_pred2],axis=1)\n",
    "\n",
    "lrmodel = LogisticRegression(random_state=1)\n",
    "lrmodel.fit(df_val,train_train[y_col])\n",
    "lrmodel.score(df_test,val_final[y_col])"
   ]
  },
  {
   "cell_type": "code",
   "execution_count": null,
   "metadata": {},
   "outputs": [],
   "source": []
  },
  {
   "cell_type": "code",
   "execution_count": null,
   "metadata": {},
   "outputs": [],
   "source": []
  },
  {
   "cell_type": "markdown",
   "metadata": {},
   "source": [
    "### Boosting"
   ]
  },
  {
   "cell_type": "markdown",
   "metadata": {},
   "source": [
    "#### AdaBoost"
   ]
  },
  {
   "cell_type": "code",
   "execution_count": 213,
   "metadata": {},
   "outputs": [
    {
     "data": {
      "text/plain": [
       "0.7376237623762376"
      ]
     },
     "execution_count": 213,
     "metadata": {},
     "output_type": "execute_result"
    }
   ],
   "source": [
    "AdaBoostModel = AdaBoostClassifier(random_state=1)\n",
    "AdaBoostModel.fit(train_final[Xcols], train_final[y_col])\n",
    "AdaBoostModel.score(val_final[Xcols],val_final[y_col])"
   ]
  },
  {
   "cell_type": "markdown",
   "metadata": {},
   "source": [
    "#### Gradient Booting (GBM)"
   ]
  },
  {
   "cell_type": "code",
   "execution_count": 215,
   "metadata": {},
   "outputs": [
    {
     "data": {
      "text/plain": [
       "0.745049504950495"
      ]
     },
     "execution_count": 215,
     "metadata": {},
     "output_type": "execute_result"
    }
   ],
   "source": [
    "gbmmodel= GradientBoostingClassifier(learning_rate=0.01,random_state=1)\n",
    "gbmmodel.fit(train_final[Xcols], train_final[y_col])\n",
    "gbmmodel.score(val_final[Xcols],val_final[y_col])"
   ]
  },
  {
   "cell_type": "markdown",
   "metadata": {},
   "source": [
    "#### XGBoost"
   ]
  },
  {
   "cell_type": "code",
   "execution_count": 217,
   "metadata": {},
   "outputs": [
    {
     "ename": "NameError",
     "evalue": "name 'xgb' is not defined",
     "output_type": "error",
     "traceback": [
      "\u001b[0;31m---------------------------------------------------------------------------\u001b[0m",
      "\u001b[0;31mNameError\u001b[0m                                 Traceback (most recent call last)",
      "\u001b[0;32m<ipython-input-217-9df860af6bbd>\u001b[0m in \u001b[0;36m<module>\u001b[0;34m\u001b[0m\n\u001b[0;32m----> 1\u001b[0;31m \u001b[0mxgbmodel\u001b[0m\u001b[0;34m=\u001b[0m\u001b[0mxgb\u001b[0m\u001b[0;34m.\u001b[0m\u001b[0mXGBClassifier\u001b[0m\u001b[0;34m(\u001b[0m\u001b[0mrandom_state\u001b[0m\u001b[0;34m=\u001b[0m\u001b[0;36m1\u001b[0m\u001b[0;34m,\u001b[0m\u001b[0mlearning_rate\u001b[0m\u001b[0;34m=\u001b[0m\u001b[0;36m0.01\u001b[0m\u001b[0;34m)\u001b[0m\u001b[0;34m\u001b[0m\u001b[0;34m\u001b[0m\u001b[0m\n\u001b[0m\u001b[1;32m      2\u001b[0m \u001b[0mxgbmodel\u001b[0m\u001b[0;34m.\u001b[0m\u001b[0mfit\u001b[0m\u001b[0;34m(\u001b[0m\u001b[0mtrain_final\u001b[0m\u001b[0;34m[\u001b[0m\u001b[0mXcols\u001b[0m\u001b[0;34m]\u001b[0m\u001b[0;34m,\u001b[0m \u001b[0mtrain_final\u001b[0m\u001b[0;34m[\u001b[0m\u001b[0my_col\u001b[0m\u001b[0;34m]\u001b[0m\u001b[0;34m)\u001b[0m\u001b[0;34m\u001b[0m\u001b[0;34m\u001b[0m\u001b[0m\n\u001b[1;32m      3\u001b[0m \u001b[0mxgbmodel\u001b[0m\u001b[0;34m.\u001b[0m\u001b[0mscore\u001b[0m\u001b[0;34m(\u001b[0m\u001b[0mval_final\u001b[0m\u001b[0;34m[\u001b[0m\u001b[0mXcols\u001b[0m\u001b[0;34m]\u001b[0m\u001b[0;34m,\u001b[0m\u001b[0mval_final\u001b[0m\u001b[0;34m[\u001b[0m\u001b[0my_col\u001b[0m\u001b[0;34m]\u001b[0m\u001b[0;34m)\u001b[0m\u001b[0;34m\u001b[0m\u001b[0;34m\u001b[0m\u001b[0m\n",
      "\u001b[0;31mNameError\u001b[0m: name 'xgb' is not defined"
     ]
    }
   ],
   "source": [
    "xgbmodel=xgb.XGBClassifier(random_state=1,learning_rate=0.01)\n",
    "xgbmodel.fit(train_final[Xcols], train_final[y_col])\n",
    "xgbmodel.score(val_final[Xcols],val_final[y_col])"
   ]
  },
  {
   "cell_type": "code",
   "execution_count": null,
   "metadata": {},
   "outputs": [],
   "source": []
  }
 ],
 "metadata": {
  "kernelspec": {
   "display_name": "Python 3",
   "language": "python",
   "name": "python3"
  },
  "language_info": {
   "codemirror_mode": {
    "name": "ipython",
    "version": 3
   },
   "file_extension": ".py",
   "mimetype": "text/x-python",
   "name": "python",
   "nbconvert_exporter": "python",
   "pygments_lexer": "ipython3",
   "version": "3.7.4"
  }
 },
 "nbformat": 4,
 "nbformat_minor": 4
}
