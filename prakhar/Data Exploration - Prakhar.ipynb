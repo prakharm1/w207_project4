{
 "cells": [
  {
   "cell_type": "code",
   "execution_count": 45,
   "metadata": {},
   "outputs": [],
   "source": [
    "%matplotlib inline\n",
    "import csv\n",
    "import pandas as pd\n",
    "import numpy as np\n",
    "import sklearn\n",
    "import matplotlib.pyplot as plt\n",
    "import json\n",
    "import seaborn as sns\n",
    "sns.set(style=\"darkgrid\")"
   ]
  },
  {
   "cell_type": "markdown",
   "metadata": {},
   "source": [
    "## Importing JSON and loading to pandas"
   ]
  },
  {
   "cell_type": "code",
   "execution_count": 3,
   "metadata": {
    "scrolled": true
   },
   "outputs": [
    {
     "data": {
      "text/plain": [
       "{'giver_username_if_known': 'N/A',\n",
       " 'number_of_downvotes_of_request_at_retrieval': 0,\n",
       " 'number_of_upvotes_of_request_at_retrieval': 1,\n",
       " 'post_was_edited': False,\n",
       " 'request_id': 't3_l25d7',\n",
       " 'request_number_of_comments_at_retrieval': 0,\n",
       " 'request_text': 'Hi I am in need of food for my 4 children we are a military family that has really hit hard times and we have exahusted all means of help just to be able to feed my family and make it through another night is all i ask i know our blessing is coming so whatever u can find in your heart to give is greatly appreciated',\n",
       " 'request_text_edit_aware': 'Hi I am in need of food for my 4 children we are a military family that has really hit hard times and we have exahusted all means of help just to be able to feed my family and make it through another night is all i ask i know our blessing is coming so whatever u can find in your heart to give is greatly appreciated',\n",
       " 'request_title': 'Request Colorado Springs Help Us Please',\n",
       " 'requester_account_age_in_days_at_request': 0.0,\n",
       " 'requester_account_age_in_days_at_retrieval': 792.4204050925925,\n",
       " 'requester_days_since_first_post_on_raop_at_request': 0.0,\n",
       " 'requester_days_since_first_post_on_raop_at_retrieval': 792.4204050925925,\n",
       " 'requester_number_of_comments_at_request': 0,\n",
       " 'requester_number_of_comments_at_retrieval': 0,\n",
       " 'requester_number_of_comments_in_raop_at_request': 0,\n",
       " 'requester_number_of_comments_in_raop_at_retrieval': 0,\n",
       " 'requester_number_of_posts_at_request': 0,\n",
       " 'requester_number_of_posts_at_retrieval': 1,\n",
       " 'requester_number_of_posts_on_raop_at_request': 0,\n",
       " 'requester_number_of_posts_on_raop_at_retrieval': 1,\n",
       " 'requester_number_of_subreddits_at_request': 0,\n",
       " 'requester_received_pizza': False,\n",
       " 'requester_subreddits_at_request': [],\n",
       " 'requester_upvotes_minus_downvotes_at_request': 0,\n",
       " 'requester_upvotes_minus_downvotes_at_retrieval': 1,\n",
       " 'requester_upvotes_plus_downvotes_at_request': 0,\n",
       " 'requester_upvotes_plus_downvotes_at_retrieval': 1,\n",
       " 'requester_user_flair': None,\n",
       " 'requester_username': 'nickylvst',\n",
       " 'unix_timestamp_of_request': 1317852607.0,\n",
       " 'unix_timestamp_of_request_utc': 1317849007.0}"
      ]
     },
     "execution_count": 3,
     "metadata": {},
     "output_type": "execute_result"
    }
   ],
   "source": [
    "with open('../data/random-acts-of-pizza/train.json') as f:\n",
    "    train_json_data = json.load(f)\n",
    "    \n",
    "train_json_data[0]"
   ]
  },
  {
   "cell_type": "code",
   "execution_count": 5,
   "metadata": {},
   "outputs": [
    {
     "data": {
      "text/html": [
       "<div>\n",
       "<style scoped>\n",
       "    .dataframe tbody tr th:only-of-type {\n",
       "        vertical-align: middle;\n",
       "    }\n",
       "\n",
       "    .dataframe tbody tr th {\n",
       "        vertical-align: top;\n",
       "    }\n",
       "\n",
       "    .dataframe thead th {\n",
       "        text-align: right;\n",
       "    }\n",
       "</style>\n",
       "<table border=\"1\" class=\"dataframe\">\n",
       "  <thead>\n",
       "    <tr style=\"text-align: right;\">\n",
       "      <th></th>\n",
       "      <th>giver_username_if_known</th>\n",
       "      <th>number_of_downvotes_of_request_at_retrieval</th>\n",
       "      <th>number_of_upvotes_of_request_at_retrieval</th>\n",
       "      <th>post_was_edited</th>\n",
       "      <th>request_id</th>\n",
       "      <th>request_number_of_comments_at_retrieval</th>\n",
       "      <th>request_text</th>\n",
       "      <th>request_text_edit_aware</th>\n",
       "      <th>request_title</th>\n",
       "      <th>requester_account_age_in_days_at_request</th>\n",
       "      <th>...</th>\n",
       "      <th>requester_received_pizza</th>\n",
       "      <th>requester_subreddits_at_request</th>\n",
       "      <th>requester_upvotes_minus_downvotes_at_request</th>\n",
       "      <th>requester_upvotes_minus_downvotes_at_retrieval</th>\n",
       "      <th>requester_upvotes_plus_downvotes_at_request</th>\n",
       "      <th>requester_upvotes_plus_downvotes_at_retrieval</th>\n",
       "      <th>requester_user_flair</th>\n",
       "      <th>requester_username</th>\n",
       "      <th>unix_timestamp_of_request</th>\n",
       "      <th>unix_timestamp_of_request_utc</th>\n",
       "    </tr>\n",
       "  </thead>\n",
       "  <tbody>\n",
       "    <tr>\n",
       "      <td>0</td>\n",
       "      <td>N/A</td>\n",
       "      <td>0</td>\n",
       "      <td>1</td>\n",
       "      <td>False</td>\n",
       "      <td>t3_l25d7</td>\n",
       "      <td>0</td>\n",
       "      <td>Hi I am in need of food for my 4 children we a...</td>\n",
       "      <td>Hi I am in need of food for my 4 children we a...</td>\n",
       "      <td>Request Colorado Springs Help Us Please</td>\n",
       "      <td>0.000000</td>\n",
       "      <td>...</td>\n",
       "      <td>False</td>\n",
       "      <td>[]</td>\n",
       "      <td>0</td>\n",
       "      <td>1</td>\n",
       "      <td>0</td>\n",
       "      <td>1</td>\n",
       "      <td>None</td>\n",
       "      <td>nickylvst</td>\n",
       "      <td>1.317853e+09</td>\n",
       "      <td>1.317849e+09</td>\n",
       "    </tr>\n",
       "    <tr>\n",
       "      <td>1</td>\n",
       "      <td>N/A</td>\n",
       "      <td>2</td>\n",
       "      <td>5</td>\n",
       "      <td>False</td>\n",
       "      <td>t3_rcb83</td>\n",
       "      <td>0</td>\n",
       "      <td>I spent the last money I had on gas today. Im ...</td>\n",
       "      <td>I spent the last money I had on gas today. Im ...</td>\n",
       "      <td>[Request] California, No cash and I could use ...</td>\n",
       "      <td>501.111100</td>\n",
       "      <td>...</td>\n",
       "      <td>False</td>\n",
       "      <td>[AskReddit, Eve, IAmA, MontereyBay, RandomKind...</td>\n",
       "      <td>34</td>\n",
       "      <td>4258</td>\n",
       "      <td>116</td>\n",
       "      <td>11168</td>\n",
       "      <td>None</td>\n",
       "      <td>fohacidal</td>\n",
       "      <td>1.332652e+09</td>\n",
       "      <td>1.332649e+09</td>\n",
       "    </tr>\n",
       "    <tr>\n",
       "      <td>2</td>\n",
       "      <td>N/A</td>\n",
       "      <td>0</td>\n",
       "      <td>3</td>\n",
       "      <td>False</td>\n",
       "      <td>t3_lpu5j</td>\n",
       "      <td>0</td>\n",
       "      <td>My girlfriend decided it would be a good idea ...</td>\n",
       "      <td>My girlfriend decided it would be a good idea ...</td>\n",
       "      <td>[Request] Hungry couple in Dundee, Scotland wo...</td>\n",
       "      <td>0.000000</td>\n",
       "      <td>...</td>\n",
       "      <td>False</td>\n",
       "      <td>[]</td>\n",
       "      <td>0</td>\n",
       "      <td>3</td>\n",
       "      <td>0</td>\n",
       "      <td>3</td>\n",
       "      <td>None</td>\n",
       "      <td>jacquibatman7</td>\n",
       "      <td>1.319650e+09</td>\n",
       "      <td>1.319646e+09</td>\n",
       "    </tr>\n",
       "    <tr>\n",
       "      <td>3</td>\n",
       "      <td>N/A</td>\n",
       "      <td>0</td>\n",
       "      <td>1</td>\n",
       "      <td>True</td>\n",
       "      <td>t3_mxvj3</td>\n",
       "      <td>4</td>\n",
       "      <td>It's cold, I'n hungry, and to be completely ho...</td>\n",
       "      <td>It's cold, I'n hungry, and to be completely ho...</td>\n",
       "      <td>[Request] In Canada (Ontario), just got home f...</td>\n",
       "      <td>6.518438</td>\n",
       "      <td>...</td>\n",
       "      <td>False</td>\n",
       "      <td>[AskReddit, DJs, IAmA, Random_Acts_Of_Pizza]</td>\n",
       "      <td>54</td>\n",
       "      <td>59</td>\n",
       "      <td>76</td>\n",
       "      <td>81</td>\n",
       "      <td>None</td>\n",
       "      <td>4on_the_floor</td>\n",
       "      <td>1.322855e+09</td>\n",
       "      <td>1.322855e+09</td>\n",
       "    </tr>\n",
       "    <tr>\n",
       "      <td>4</td>\n",
       "      <td>N/A</td>\n",
       "      <td>6</td>\n",
       "      <td>6</td>\n",
       "      <td>False</td>\n",
       "      <td>t3_1i6486</td>\n",
       "      <td>5</td>\n",
       "      <td>hey guys:\\n I love this sub. I think it's grea...</td>\n",
       "      <td>hey guys:\\n I love this sub. I think it's grea...</td>\n",
       "      <td>[Request] Old friend coming to visit. Would LO...</td>\n",
       "      <td>162.063252</td>\n",
       "      <td>...</td>\n",
       "      <td>False</td>\n",
       "      <td>[GayBrosWeightLoss, RandomActsOfCookies, Rando...</td>\n",
       "      <td>1121</td>\n",
       "      <td>1225</td>\n",
       "      <td>1733</td>\n",
       "      <td>1887</td>\n",
       "      <td>None</td>\n",
       "      <td>Futuredogwalker</td>\n",
       "      <td>1.373658e+09</td>\n",
       "      <td>1.373654e+09</td>\n",
       "    </tr>\n",
       "  </tbody>\n",
       "</table>\n",
       "<p>5 rows × 32 columns</p>\n",
       "</div>"
      ],
      "text/plain": [
       "  giver_username_if_known  number_of_downvotes_of_request_at_retrieval  \\\n",
       "0                     N/A                                            0   \n",
       "1                     N/A                                            2   \n",
       "2                     N/A                                            0   \n",
       "3                     N/A                                            0   \n",
       "4                     N/A                                            6   \n",
       "\n",
       "   number_of_upvotes_of_request_at_retrieval post_was_edited request_id  \\\n",
       "0                                          1           False   t3_l25d7   \n",
       "1                                          5           False   t3_rcb83   \n",
       "2                                          3           False   t3_lpu5j   \n",
       "3                                          1            True   t3_mxvj3   \n",
       "4                                          6           False  t3_1i6486   \n",
       "\n",
       "   request_number_of_comments_at_retrieval  \\\n",
       "0                                        0   \n",
       "1                                        0   \n",
       "2                                        0   \n",
       "3                                        4   \n",
       "4                                        5   \n",
       "\n",
       "                                        request_text  \\\n",
       "0  Hi I am in need of food for my 4 children we a...   \n",
       "1  I spent the last money I had on gas today. Im ...   \n",
       "2  My girlfriend decided it would be a good idea ...   \n",
       "3  It's cold, I'n hungry, and to be completely ho...   \n",
       "4  hey guys:\\n I love this sub. I think it's grea...   \n",
       "\n",
       "                             request_text_edit_aware  \\\n",
       "0  Hi I am in need of food for my 4 children we a...   \n",
       "1  I spent the last money I had on gas today. Im ...   \n",
       "2  My girlfriend decided it would be a good idea ...   \n",
       "3  It's cold, I'n hungry, and to be completely ho...   \n",
       "4  hey guys:\\n I love this sub. I think it's grea...   \n",
       "\n",
       "                                       request_title  \\\n",
       "0            Request Colorado Springs Help Us Please   \n",
       "1  [Request] California, No cash and I could use ...   \n",
       "2  [Request] Hungry couple in Dundee, Scotland wo...   \n",
       "3  [Request] In Canada (Ontario), just got home f...   \n",
       "4  [Request] Old friend coming to visit. Would LO...   \n",
       "\n",
       "   requester_account_age_in_days_at_request  ...  requester_received_pizza  \\\n",
       "0                                  0.000000  ...                     False   \n",
       "1                                501.111100  ...                     False   \n",
       "2                                  0.000000  ...                     False   \n",
       "3                                  6.518438  ...                     False   \n",
       "4                                162.063252  ...                     False   \n",
       "\n",
       "                     requester_subreddits_at_request  \\\n",
       "0                                                 []   \n",
       "1  [AskReddit, Eve, IAmA, MontereyBay, RandomKind...   \n",
       "2                                                 []   \n",
       "3       [AskReddit, DJs, IAmA, Random_Acts_Of_Pizza]   \n",
       "4  [GayBrosWeightLoss, RandomActsOfCookies, Rando...   \n",
       "\n",
       "   requester_upvotes_minus_downvotes_at_request  \\\n",
       "0                                             0   \n",
       "1                                            34   \n",
       "2                                             0   \n",
       "3                                            54   \n",
       "4                                          1121   \n",
       "\n",
       "   requester_upvotes_minus_downvotes_at_retrieval  \\\n",
       "0                                               1   \n",
       "1                                            4258   \n",
       "2                                               3   \n",
       "3                                              59   \n",
       "4                                            1225   \n",
       "\n",
       "   requester_upvotes_plus_downvotes_at_request  \\\n",
       "0                                            0   \n",
       "1                                          116   \n",
       "2                                            0   \n",
       "3                                           76   \n",
       "4                                         1733   \n",
       "\n",
       "   requester_upvotes_plus_downvotes_at_retrieval  requester_user_flair  \\\n",
       "0                                              1                  None   \n",
       "1                                          11168                  None   \n",
       "2                                              3                  None   \n",
       "3                                             81                  None   \n",
       "4                                           1887                  None   \n",
       "\n",
       "   requester_username  unix_timestamp_of_request  \\\n",
       "0           nickylvst               1.317853e+09   \n",
       "1           fohacidal               1.332652e+09   \n",
       "2       jacquibatman7               1.319650e+09   \n",
       "3       4on_the_floor               1.322855e+09   \n",
       "4     Futuredogwalker               1.373658e+09   \n",
       "\n",
       "   unix_timestamp_of_request_utc  \n",
       "0                   1.317849e+09  \n",
       "1                   1.332649e+09  \n",
       "2                   1.319646e+09  \n",
       "3                   1.322855e+09  \n",
       "4                   1.373654e+09  \n",
       "\n",
       "[5 rows x 32 columns]"
      ]
     },
     "execution_count": 5,
     "metadata": {},
     "output_type": "execute_result"
    }
   ],
   "source": [
    "df = pd.io.json.json_normalize(train_json_data) \n",
    "df.head()"
   ]
  },
  {
   "cell_type": "markdown",
   "metadata": {},
   "source": [
    "## Basic data exploration"
   ]
  },
  {
   "cell_type": "code",
   "execution_count": 6,
   "metadata": {},
   "outputs": [
    {
     "data": {
      "text/plain": [
       "(4040, 32)"
      ]
     },
     "execution_count": 6,
     "metadata": {},
     "output_type": "execute_result"
    }
   ],
   "source": [
    "# Training data size\n",
    "df.shape"
   ]
  },
  {
   "cell_type": "code",
   "execution_count": 11,
   "metadata": {},
   "outputs": [],
   "source": [
    "prakhar_cols = ['post_was_edited', 'request_number_of_comments_at_retrieval', 'request_title', \n",
    "                'requester_number_of_posts_on_raop_at_request', 'requester_number_of_posts_on_raop_at_retrieval', \n",
    "                'requester_number_of_subreddits_at_request', 'requester_received_pizza']\n",
    "df_short = df[prakhar_cols]"
   ]
  },
  {
   "cell_type": "code",
   "execution_count": 12,
   "metadata": {},
   "outputs": [
    {
     "data": {
      "text/html": [
       "<div>\n",
       "<style scoped>\n",
       "    .dataframe tbody tr th:only-of-type {\n",
       "        vertical-align: middle;\n",
       "    }\n",
       "\n",
       "    .dataframe tbody tr th {\n",
       "        vertical-align: top;\n",
       "    }\n",
       "\n",
       "    .dataframe thead th {\n",
       "        text-align: right;\n",
       "    }\n",
       "</style>\n",
       "<table border=\"1\" class=\"dataframe\">\n",
       "  <thead>\n",
       "    <tr style=\"text-align: right;\">\n",
       "      <th></th>\n",
       "      <th>post_was_edited</th>\n",
       "      <th>request_number_of_comments_at_retrieval</th>\n",
       "      <th>request_title</th>\n",
       "      <th>requester_number_of_posts_on_raop_at_request</th>\n",
       "      <th>requester_number_of_posts_on_raop_at_retrieval</th>\n",
       "      <th>requester_number_of_subreddits_at_request</th>\n",
       "      <th>requester_received_pizza</th>\n",
       "    </tr>\n",
       "  </thead>\n",
       "  <tbody>\n",
       "    <tr>\n",
       "      <td>0</td>\n",
       "      <td>False</td>\n",
       "      <td>0</td>\n",
       "      <td>Request Colorado Springs Help Us Please</td>\n",
       "      <td>0</td>\n",
       "      <td>1</td>\n",
       "      <td>0</td>\n",
       "      <td>False</td>\n",
       "    </tr>\n",
       "    <tr>\n",
       "      <td>1</td>\n",
       "      <td>False</td>\n",
       "      <td>0</td>\n",
       "      <td>[Request] California, No cash and I could use ...</td>\n",
       "      <td>0</td>\n",
       "      <td>2</td>\n",
       "      <td>12</td>\n",
       "      <td>False</td>\n",
       "    </tr>\n",
       "    <tr>\n",
       "      <td>2</td>\n",
       "      <td>False</td>\n",
       "      <td>0</td>\n",
       "      <td>[Request] Hungry couple in Dundee, Scotland wo...</td>\n",
       "      <td>0</td>\n",
       "      <td>1</td>\n",
       "      <td>0</td>\n",
       "      <td>False</td>\n",
       "    </tr>\n",
       "    <tr>\n",
       "      <td>3</td>\n",
       "      <td>True</td>\n",
       "      <td>4</td>\n",
       "      <td>[Request] In Canada (Ontario), just got home f...</td>\n",
       "      <td>0</td>\n",
       "      <td>1</td>\n",
       "      <td>4</td>\n",
       "      <td>False</td>\n",
       "    </tr>\n",
       "    <tr>\n",
       "      <td>4</td>\n",
       "      <td>False</td>\n",
       "      <td>5</td>\n",
       "      <td>[Request] Old friend coming to visit. Would LO...</td>\n",
       "      <td>0</td>\n",
       "      <td>1</td>\n",
       "      <td>11</td>\n",
       "      <td>False</td>\n",
       "    </tr>\n",
       "  </tbody>\n",
       "</table>\n",
       "</div>"
      ],
      "text/plain": [
       "  post_was_edited  request_number_of_comments_at_retrieval  \\\n",
       "0           False                                        0   \n",
       "1           False                                        0   \n",
       "2           False                                        0   \n",
       "3            True                                        4   \n",
       "4           False                                        5   \n",
       "\n",
       "                                       request_title  \\\n",
       "0            Request Colorado Springs Help Us Please   \n",
       "1  [Request] California, No cash and I could use ...   \n",
       "2  [Request] Hungry couple in Dundee, Scotland wo...   \n",
       "3  [Request] In Canada (Ontario), just got home f...   \n",
       "4  [Request] Old friend coming to visit. Would LO...   \n",
       "\n",
       "   requester_number_of_posts_on_raop_at_request  \\\n",
       "0                                             0   \n",
       "1                                             0   \n",
       "2                                             0   \n",
       "3                                             0   \n",
       "4                                             0   \n",
       "\n",
       "   requester_number_of_posts_on_raop_at_retrieval  \\\n",
       "0                                               1   \n",
       "1                                               2   \n",
       "2                                               1   \n",
       "3                                               1   \n",
       "4                                               1   \n",
       "\n",
       "   requester_number_of_subreddits_at_request  requester_received_pizza  \n",
       "0                                          0                     False  \n",
       "1                                         12                     False  \n",
       "2                                          0                     False  \n",
       "3                                          4                     False  \n",
       "4                                         11                     False  "
      ]
     },
     "execution_count": 12,
     "metadata": {},
     "output_type": "execute_result"
    }
   ],
   "source": [
    "df_short.head()"
   ]
  },
  {
   "cell_type": "code",
   "execution_count": 49,
   "metadata": {},
   "outputs": [
    {
     "data": {
      "text/plain": [
       "post_was_edited                                   object\n",
       "request_number_of_comments_at_retrieval            int64\n",
       "request_title                                     object\n",
       "requester_number_of_posts_on_raop_at_request       int64\n",
       "requester_number_of_posts_on_raop_at_retrieval     int64\n",
       "requester_number_of_subreddits_at_request          int64\n",
       "requester_received_pizza                            bool\n",
       "dtype: object"
      ]
     },
     "execution_count": 49,
     "metadata": {},
     "output_type": "execute_result"
    }
   ],
   "source": [
    "df_short.dtypes"
   ]
  },
  {
   "cell_type": "markdown",
   "metadata": {},
   "source": [
    "## Per column Analysis"
   ]
  },
  {
   "cell_type": "markdown",
   "metadata": {},
   "source": [
    "### Post was edited"
   ]
  },
  {
   "cell_type": "code",
   "execution_count": 13,
   "metadata": {},
   "outputs": [
    {
     "data": {
      "text/plain": [
       "False           3395\n",
       "True             346\n",
       "1339356859.0       1\n",
       "1346565296.0       1\n",
       "1360516410.0       1\n",
       "                ... \n",
       "1338341728.0       1\n",
       "1352058568.0       1\n",
       "1363914082.0       1\n",
       "1344732948.0       1\n",
       "1346551621.0       1\n",
       "Name: post_was_edited, Length: 301, dtype: int64"
      ]
     },
     "execution_count": 13,
     "metadata": {},
     "output_type": "execute_result"
    }
   ],
   "source": [
    "df_short['post_was_edited'].value_counts()"
   ]
  },
  {
   "cell_type": "code",
   "execution_count": 15,
   "metadata": {},
   "outputs": [
    {
     "data": {
      "text/html": [
       "<div>\n",
       "<style scoped>\n",
       "    .dataframe tbody tr th:only-of-type {\n",
       "        vertical-align: middle;\n",
       "    }\n",
       "\n",
       "    .dataframe tbody tr th {\n",
       "        vertical-align: top;\n",
       "    }\n",
       "\n",
       "    .dataframe thead th {\n",
       "        text-align: right;\n",
       "    }\n",
       "</style>\n",
       "<table border=\"1\" class=\"dataframe\">\n",
       "  <thead>\n",
       "    <tr style=\"text-align: right;\">\n",
       "      <th></th>\n",
       "      <th>giver_username_if_known</th>\n",
       "      <th>number_of_downvotes_of_request_at_retrieval</th>\n",
       "      <th>number_of_upvotes_of_request_at_retrieval</th>\n",
       "      <th>post_was_edited</th>\n",
       "      <th>request_id</th>\n",
       "      <th>request_number_of_comments_at_retrieval</th>\n",
       "      <th>request_text</th>\n",
       "      <th>request_text_edit_aware</th>\n",
       "      <th>request_title</th>\n",
       "      <th>requester_account_age_in_days_at_request</th>\n",
       "      <th>...</th>\n",
       "      <th>requester_received_pizza</th>\n",
       "      <th>requester_subreddits_at_request</th>\n",
       "      <th>requester_upvotes_minus_downvotes_at_request</th>\n",
       "      <th>requester_upvotes_minus_downvotes_at_retrieval</th>\n",
       "      <th>requester_upvotes_plus_downvotes_at_request</th>\n",
       "      <th>requester_upvotes_plus_downvotes_at_retrieval</th>\n",
       "      <th>requester_user_flair</th>\n",
       "      <th>requester_username</th>\n",
       "      <th>unix_timestamp_of_request</th>\n",
       "      <th>unix_timestamp_of_request_utc</th>\n",
       "    </tr>\n",
       "  </thead>\n",
       "  <tbody>\n",
       "    <tr>\n",
       "      <td>1288</td>\n",
       "      <td>N/A</td>\n",
       "      <td>0</td>\n",
       "      <td>1</td>\n",
       "      <td>1.33936e+09</td>\n",
       "      <td>t3_uuwgc</td>\n",
       "      <td>1</td>\n",
       "      <td>If anyone is interested in my story here it is...</td>\n",
       "      <td>If anyone is interested in my story here it is...</td>\n",
       "      <td>[Request] Broke Canadian in need of food</td>\n",
       "      <td>539.5225</td>\n",
       "      <td>...</td>\n",
       "      <td>False</td>\n",
       "      <td>[AlienBlue, Android, AskReddit, DoesAnybodyEls...</td>\n",
       "      <td>3043</td>\n",
       "      <td>3194</td>\n",
       "      <td>6723</td>\n",
       "      <td>7072</td>\n",
       "      <td>None</td>\n",
       "      <td>itsamoreh</td>\n",
       "      <td>1.339358e+09</td>\n",
       "      <td>1.339355e+09</td>\n",
       "    </tr>\n",
       "  </tbody>\n",
       "</table>\n",
       "<p>1 rows × 32 columns</p>\n",
       "</div>"
      ],
      "text/plain": [
       "     giver_username_if_known  number_of_downvotes_of_request_at_retrieval  \\\n",
       "1288                     N/A                                            0   \n",
       "\n",
       "      number_of_upvotes_of_request_at_retrieval post_was_edited request_id  \\\n",
       "1288                                          1     1.33936e+09   t3_uuwgc   \n",
       "\n",
       "      request_number_of_comments_at_retrieval  \\\n",
       "1288                                        1   \n",
       "\n",
       "                                           request_text  \\\n",
       "1288  If anyone is interested in my story here it is...   \n",
       "\n",
       "                                request_text_edit_aware  \\\n",
       "1288  If anyone is interested in my story here it is...   \n",
       "\n",
       "                                 request_title  \\\n",
       "1288  [Request] Broke Canadian in need of food   \n",
       "\n",
       "      requester_account_age_in_days_at_request  ...  requester_received_pizza  \\\n",
       "1288                                  539.5225  ...                     False   \n",
       "\n",
       "                        requester_subreddits_at_request  \\\n",
       "1288  [AlienBlue, Android, AskReddit, DoesAnybodyEls...   \n",
       "\n",
       "      requester_upvotes_minus_downvotes_at_request  \\\n",
       "1288                                          3043   \n",
       "\n",
       "      requester_upvotes_minus_downvotes_at_retrieval  \\\n",
       "1288                                            3194   \n",
       "\n",
       "      requester_upvotes_plus_downvotes_at_request  \\\n",
       "1288                                         6723   \n",
       "\n",
       "      requester_upvotes_plus_downvotes_at_retrieval  requester_user_flair  \\\n",
       "1288                                           7072                  None   \n",
       "\n",
       "      requester_username  unix_timestamp_of_request  \\\n",
       "1288           itsamoreh               1.339358e+09   \n",
       "\n",
       "      unix_timestamp_of_request_utc  \n",
       "1288                   1.339355e+09  \n",
       "\n",
       "[1 rows x 32 columns]"
      ]
     },
     "execution_count": 15,
     "metadata": {},
     "output_type": "execute_result"
    }
   ],
   "source": [
    "## Checking out an example\n",
    "df[df['post_was_edited'] == 1339356859.0]"
   ]
  },
  {
   "cell_type": "code",
   "execution_count": 39,
   "metadata": {},
   "outputs": [
    {
     "data": {
      "text/plain": [
       "pandas.core.series.Series"
      ]
     },
     "execution_count": 39,
     "metadata": {},
     "output_type": "execute_result"
    }
   ],
   "source": [
    "v = df_short['post_was_edited']\n",
    "type(v)"
   ]
  },
  {
   "cell_type": "code",
   "execution_count": 40,
   "metadata": {},
   "outputs": [
    {
     "data": {
      "text/plain": [
       "False      3395\n",
       "True        346\n",
       "UNKNOWN     299\n",
       "Name: post_was_edited, dtype: int64"
      ]
     },
     "execution_count": 40,
     "metadata": {},
     "output_type": "execute_result"
    }
   ],
   "source": [
    "v = v.where(v.isin([True, False]) ,'UNKNOWN')\n",
    "v.value_counts()"
   ]
  },
  {
   "cell_type": "code",
   "execution_count": 48,
   "metadata": {},
   "outputs": [
    {
     "data": {
      "image/png": "[encoded data removed]",
      "text/plain": [
       "<Figure size 432x288 with 1 Axes>"
      ]
     },
     "metadata": {},
     "output_type": "display_data"
    }
   ],
   "source": [
    "v.value_counts().plot(kind='bar')\n",
    "plt.title('Distribution of lables - post_was_edited')\n",
    "plt.ylabel('Number of Occurrences', fontsize=12)\n",
    "pass"
   ]
  },
  {
   "cell_type": "markdown",
   "metadata": {},
   "source": [
    "#### Summary\n",
    "\n",
    "It seems that for True and False boolean labels we have boolean information however, the unknown instances are UTC timestamps and might represent the time of edit. "
   ]
  },
  {
   "cell_type": "markdown",
   "metadata": {},
   "source": [
    "### request_number_of_comments_at_retrieval"
   ]
  },
  {
   "cell_type": "code",
   "execution_count": 50,
   "metadata": {},
   "outputs": [
    {
     "data": {
      "text/plain": [
       "0     1485\n",
       "1      690\n",
       "2      461\n",
       "3      329\n",
       "4      247\n",
       "5      183\n",
       "6      122\n",
       "7       94\n",
       "8       87\n",
       "9       66\n",
       "11      52\n",
       "12      36\n",
       "10      35\n",
       "13      29\n",
       "15      16\n",
       "16      16\n",
       "14      15\n",
       "18      13\n",
       "21       7\n",
       "20       7\n",
       "17       6\n",
       "26       5\n",
       "19       5\n",
       "22       5\n",
       "25       3\n",
       "36       3\n",
       "24       3\n",
       "61       2\n",
       "27       2\n",
       "35       2\n",
       "30       1\n",
       "28       1\n",
       "32       1\n",
       "34       1\n",
       "38       1\n",
       "42       1\n",
       "57       1\n",
       "48       1\n",
       "52       1\n",
       "23       1\n",
       "29       1\n",
       "31       1\n",
       "33       1\n",
       "44       1\n",
       "Name: request_number_of_comments_at_retrieval, dtype: int64"
      ]
     },
     "execution_count": 50,
     "metadata": {},
     "output_type": "execute_result"
    }
   ],
   "source": [
    "df_short['request_number_of_comments_at_retrieval'].value_counts()"
   ]
  },
  {
   "cell_type": "code",
   "execution_count": 55,
   "metadata": {},
   "outputs": [
    {
     "data": {
      "image/png": "[encoded data removed]",
      "text/plain": [
       "<Figure size 432x288 with 1 Axes>"
      ]
     },
     "metadata": {},
     "output_type": "display_data"
    }
   ],
   "source": [
    "df_short['request_number_of_comments_at_retrieval'].value_counts().plot(kind='bar')\n",
    "plt.title('Distribution of Number of comments at retrieval')\n",
    "plt.ylabel('Number of Occurrences', fontsize=12)\n",
    "pass"
   ]
  },
  {
   "cell_type": "code",
   "execution_count": 70,
   "metadata": {},
   "outputs": [
    {
     "data": {
      "image/png": "[encoded data removed]",
      "text/plain": [
       "<Figure size 432x288 with 1 Axes>"
      ]
     },
     "metadata": {},
     "output_type": "display_data"
    }
   ],
   "source": [
    "np.log(df_short['request_number_of_comments_at_retrieval'].value_counts()).plot(kind='bar')\n",
    "plt.title('Distribution of log(Number of comments at retrieval)')\n",
    "plt.ylabel('Log(Number of Occurrences)', fontsize=12)\n",
    "pass"
   ]
  },
  {
   "cell_type": "markdown",
   "metadata": {},
   "source": [
    "#### Summary\n",
    "\n",
    "We see a steep decline in the distribution of number of comments at retrieval. Unsurprisingly, the majority class is 0 comments which represents 36.75% of the total cases. In general we see a near exponential decline in the number of comments at retrieval. "
   ]
  },
  {
   "cell_type": "markdown",
   "metadata": {},
   "source": [
    "### requester_number_of_posts_on_raop_at_request"
   ]
  },
  {
   "cell_type": "code",
   "execution_count": 72,
   "metadata": {},
   "outputs": [
    {
     "data": {
      "text/plain": [
       "0    3848\n",
       "1     146\n",
       "2      34\n",
       "3       8\n",
       "5       3\n",
       "4       1\n",
       "Name: requester_number_of_posts_on_raop_at_request, dtype: int64"
      ]
     },
     "execution_count": 72,
     "metadata": {},
     "output_type": "execute_result"
    }
   ],
   "source": [
    "df_short['requester_number_of_posts_on_raop_at_request'].value_counts()"
   ]
  },
  {
   "cell_type": "code",
   "execution_count": 73,
   "metadata": {},
   "outputs": [
    {
     "data": {
      "image/png": "[encoded data removed]",
      "text/plain": [
       "<Figure size 432x288 with 1 Axes>"
      ]
     },
     "metadata": {},
     "output_type": "display_data"
    }
   ],
   "source": [
    "df_short['requester_number_of_posts_on_raop_at_request'].value_counts().plot(kind='bar')\n",
    "plt.title('Distribution of Number of posts on RAOP at request')\n",
    "plt.ylabel('Number of Occurrences', fontsize=12)\n",
    "pass"
   ]
  },
  {
   "cell_type": "markdown",
   "metadata": {},
   "source": [
    "### requester_number_of_posts_on_raop_at_retrieval "
   ]
  },
  {
   "cell_type": "code",
   "execution_count": 74,
   "metadata": {},
   "outputs": [
    {
     "data": {
      "text/plain": [
       "1    3256\n",
       "2     608\n",
       "3     110\n",
       "4      28\n",
       "0      22\n",
       "5       8\n",
       "6       6\n",
       "9       1\n",
       "7       1\n",
       "Name: requester_number_of_posts_on_raop_at_retrieval, dtype: int64"
      ]
     },
     "execution_count": 74,
     "metadata": {},
     "output_type": "execute_result"
    }
   ],
   "source": [
    "df_short['requester_number_of_posts_on_raop_at_retrieval'].value_counts()"
   ]
  },
  {
   "cell_type": "code",
   "execution_count": 75,
   "metadata": {},
   "outputs": [
    {
     "data": {
      "image/png": "[encoded data removed]",
      "text/plain": [
       "<Figure size 432x288 with 1 Axes>"
      ]
     },
     "metadata": {},
     "output_type": "display_data"
    }
   ],
   "source": [
    "df_short['requester_number_of_posts_on_raop_at_retrieval'].value_counts().plot(kind='bar')\n",
    "plt.title('Distribution of Number of posts on RAOP at retrieval')\n",
    "plt.ylabel('Number of Occurrences', fontsize=12)\n",
    "pass"
   ]
  },
  {
   "cell_type": "markdown",
   "metadata": {},
   "source": [
    "#### Summary\n",
    "\n",
    "It is evident that most of the requesters in our training set (95.25%) made their first post on RAOP when they requested for pizza. This strongly suggests a novelty effect at play if the training data is representative. When people discover this group and see others requesting pizza, they themselves are encouraged to ask for pizza from an unknown community. \n",
    "\n",
    "We see that once they made their first post (i.e. pizza request), many of them are encouraged to make more posts on the group. Number of requestors with one posts prior to their pizza request is 3.61% where as post the pizza request, number of requesters with 2 posts is 15%. This is a marked increase in engagement. "
   ]
  },
  {
   "cell_type": "markdown",
   "metadata": {},
   "source": [
    "### requester_number_of_subreddits_at_request"
   ]
  },
  {
   "cell_type": "code",
   "execution_count": 79,
   "metadata": {},
   "outputs": [
    {
     "data": {
      "text/plain": [
       "0      729\n",
       "1      362\n",
       "2      128\n",
       "3      119\n",
       "6      107\n",
       "      ... \n",
       "106      1\n",
       "104      1\n",
       "102      1\n",
       "100      1\n",
       "162      1\n",
       "Name: requester_number_of_subreddits_at_request, Length: 128, dtype: int64"
      ]
     },
     "execution_count": 79,
     "metadata": {},
     "output_type": "execute_result"
    }
   ],
   "source": [
    "df_short['requester_number_of_subreddits_at_request'].value_counts()"
   ]
  },
  {
   "cell_type": "code",
   "execution_count": 97,
   "metadata": {},
   "outputs": [
    {
     "data": {
      "text/plain": [
       "3. 10-50     1706\n",
       "1. 1-5        800\n",
       "0. 0          729\n",
       "2. 5-10       477\n",
       "4. 50-100     295\n",
       "5. 100+        33\n",
       "Name: requester_number_of_subreddits_at_request, dtype: int64"
      ]
     },
     "execution_count": 97,
     "metadata": {},
     "output_type": "execute_result"
    }
   ],
   "source": [
    "pd.cut(df_short['requester_number_of_subreddits_at_request'], \n",
    "       [-np.inf, 0, 5, 10, 50, 100, np.inf], \n",
    "       labels=['0. 0','1. 1-5', '2. 5-10', '3. 10-50', '4. 50-100', '5. 100+']).value_counts()"
   ]
  },
  {
   "cell_type": "code",
   "execution_count": 92,
   "metadata": {},
   "outputs": [
    {
     "data": {
      "image/png": "[encoded data removed]",
      "text/plain": [
       "<Figure size 432x288 with 1 Axes>"
      ]
     },
     "metadata": {},
     "output_type": "display_data"
    }
   ],
   "source": [
    "pd.cut(df_short['requester_number_of_subreddits_at_request'], \n",
    "       [-np.inf, 0, 5, 10, 50, 100, np.inf], \n",
    "       labels=['0. 0','1. 1-5', '2. 5-10', '3. 10-50', '4. 50-100', '5. 100+']).value_counts().sort_index().plot(kind='bar')\n",
    "plt.title('Distribution of number_of_subreddits_at_request')\n",
    "plt.ylabel('Number of Occurrences', fontsize=12)\n",
    "pass"
   ]
  },
  {
   "cell_type": "markdown",
   "metadata": {},
   "source": [
    "#### Summary\n",
    "\n",
    "We see the following pattern \n",
    "\n",
    "|Category|Prcnt|\n",
    "|--|--|\n",
    "|New comer|18.04%|\n",
    "|Newbie|19.80%|\n",
    "|Somewhat Engaged|11.81%|\n",
    "|Medium Engaged|42.22%|\n",
    "|Highly Engaged|7.30%|\n",
    "|Power users|0.81%|\n",
    "\n",
    "\n",
    "This indicates that may be users are finding ROAP via freeform browsing and engaging when needed. Most of the users are existing users of reddit platform. "
   ]
  },
  {
   "cell_type": "markdown",
   "metadata": {},
   "source": [
    "## requester_received_pizza : Outcome"
   ]
  },
  {
   "cell_type": "code",
   "execution_count": 104,
   "metadata": {},
   "outputs": [
    {
     "data": {
      "text/plain": [
       "False    3046\n",
       "True      994\n",
       "Name: requester_received_pizza, dtype: int64"
      ]
     },
     "execution_count": 104,
     "metadata": {},
     "output_type": "execute_result"
    }
   ],
   "source": [
    "df_short['requester_received_pizza'].value_counts()"
   ]
  },
  {
   "cell_type": "code",
   "execution_count": 106,
   "metadata": {},
   "outputs": [
    {
     "data": {
      "image/png": "[encoded data removed]",
      "text/plain": [
       "<Figure size 432x288 with 1 Axes>"
      ]
     },
     "metadata": {},
     "output_type": "display_data"
    }
   ],
   "source": [
    "(df_short['requester_received_pizza'].value_counts()*100.0/len(df_short)).plot(kind='bar')\n",
    "plt.title('Success Rate')\n",
    "plt.ylabel('Number of Occurrences', fontsize=12)\n",
    "pass"
   ]
  },
  {
   "cell_type": "markdown",
   "metadata": {},
   "source": [
    "#### Summary\n",
    "\n",
    "We see that there is a 25% success rate in our training set. This is encouraging as although there is a class imbalance in our training dataset, it is not extream. "
   ]
  },
  {
   "cell_type": "markdown",
   "metadata": {},
   "source": [
    "## Exploration of existing features with outcome"
   ]
  },
  {
   "cell_type": "code",
   "execution_count": 109,
   "metadata": {},
   "outputs": [
    {
     "name": "stderr",
     "output_type": "stream",
     "text": [
      "C:\\ProgramData\\Anaconda3\\lib\\site-packages\\ipykernel_launcher.py:5: SettingWithCopyWarning: \n",
      "A value is trying to be set on a copy of a slice from a DataFrame.\n",
      "Try using .loc[row_indexer,col_indexer] = value instead\n",
      "\n",
      "See the caveats in the documentation: http://pandas.pydata.org/pandas-docs/stable/user_guide/indexing.html#returning-a-view-versus-a-copy\n",
      "  \"\"\"\n",
      "C:\\ProgramData\\Anaconda3\\lib\\site-packages\\ipykernel_launcher.py:9: SettingWithCopyWarning: \n",
      "A value is trying to be set on a copy of a slice from a DataFrame.\n",
      "Try using .loc[row_indexer,col_indexer] = value instead\n",
      "\n",
      "See the caveats in the documentation: http://pandas.pydata.org/pandas-docs/stable/user_guide/indexing.html#returning-a-view-versus-a-copy\n",
      "  if __name__ == '__main__':\n",
      "C:\\ProgramData\\Anaconda3\\lib\\site-packages\\ipykernel_launcher.py:13: SettingWithCopyWarning: \n",
      "A value is trying to be set on a copy of a slice from a DataFrame.\n",
      "Try using .loc[row_indexer,col_indexer] = value instead\n",
      "\n",
      "See the caveats in the documentation: http://pandas.pydata.org/pandas-docs/stable/user_guide/indexing.html#returning-a-view-versus-a-copy\n",
      "  del sys.path[0]\n"
     ]
    }
   ],
   "source": [
    "# Column Transformation\n",
    "\n",
    "df_short['post_was_edited_transformed'] =  np.where(df_short['post_was_edited'].isin([True, False]),\n",
    "                                                    df_short['post_was_edited'],\n",
    "                                                    'UNKNOWN')\n",
    "\n",
    "df_short['request_number_of_comments_at_retrieval_transformed'] = pd.cut(df_short['request_number_of_comments_at_retrieval'], \n",
    "       [-np.inf, 0, 5, 10, 20, np.inf], \n",
    "       labels=['0. 0','1. 1-5', '2. 5-10', '3. 10-20','4. 20+'])\n",
    "\n",
    "df_short['requester_number_of_subreddits_at_request_transformed'] = pd.cut(df_short['requester_number_of_subreddits_at_request'], \n",
    "       [-np.inf, 0, 5, 10, 50, 100, np.inf], \n",
    "       labels=['0. 0','1. 1-5', '2. 5-10', '3. 10-50', '4. 50-100', '5. 100+'])"
   ]
  },
  {
   "cell_type": "code",
   "execution_count": 112,
   "metadata": {},
   "outputs": [
    {
     "data": {
      "image/png": "[encoded data removed]",
      "text/plain": [
       "<Figure size 432x288 with 1 Axes>"
      ]
     },
     "metadata": {},
     "output_type": "display_data"
    }
   ],
   "source": [
    "sns.countplot(x = 'post_was_edited_transformed', hue='requester_received_pizza', data=df_short)\n",
    "plt.title('Distribution of success rate across edit categories')\n",
    "pass"
   ]
  },
  {
   "cell_type": "code",
   "execution_count": 113,
   "metadata": {},
   "outputs": [
    {
     "data": {
      "image/png": "[encoded data removed]",
      "text/plain": [
       "<Figure size 432x288 with 1 Axes>"
      ]
     },
     "metadata": {},
     "output_type": "display_data"
    }
   ],
   "source": [
    "sns.countplot(x = 'request_number_of_comments_at_retrieval_transformed', hue='requester_received_pizza', data=df_short)\n",
    "plt.title('Distribution of success rate across #comments at retrieval')\n",
    "pass"
   ]
  },
  {
   "cell_type": "code",
   "execution_count": 114,
   "metadata": {},
   "outputs": [
    {
     "data": {
      "image/png": "[encoded data removed]",
      "text/plain": [
       "<Figure size 432x288 with 1 Axes>"
      ]
     },
     "metadata": {},
     "output_type": "display_data"
    }
   ],
   "source": [
    "sns.countplot(x = 'requester_number_of_subreddits_at_request_transformed', hue='requester_received_pizza', data=df_short)\n",
    "plt.title('Distribution of success rate across #subreddits at request')\n",
    "pass"
   ]
  },
  {
   "cell_type": "code",
   "execution_count": 115,
   "metadata": {},
   "outputs": [
    {
     "data": {
      "image/png": "[encoded data removed]",
      "text/plain": [
       "<Figure size 432x288 with 1 Axes>"
      ]
     },
     "metadata": {},
     "output_type": "display_data"
    }
   ],
   "source": [
    "sns.countplot(x = 'requester_number_of_posts_on_raop_at_request', hue='requester_received_pizza', data=df_short)\n",
    "plt.title('Distribution of success rate across #posts at request')\n",
    "pass"
   ]
  },
  {
   "cell_type": "code",
   "execution_count": 116,
   "metadata": {},
   "outputs": [
    {
     "data": {
      "image/png": "[encoded data removed]",
      "text/plain": [
       "<Figure size 432x288 with 1 Axes>"
      ]
     },
     "metadata": {},
     "output_type": "display_data"
    }
   ],
   "source": [
    "sns.countplot(x = 'requester_number_of_posts_on_raop_at_retrieval', hue='requester_received_pizza', data=df_short)\n",
    "plt.title('Distribution of success rate across #posts at retrieval')\n",
    "pass"
   ]
  },
  {
   "cell_type": "markdown",
   "metadata": {},
   "source": [
    "#### Summary\n",
    "\n",
    "We see that: \n",
    "\n",
    "1. Post edit status seems to be a good signal to understand whether the requestor got the pizza. In both True and UNKNOWN categories, the success rate is much higher (43% and 32% respectively) compared to the False category (22%) [global average (~25%)] \n",
    "\n",
    "2. The success rate seems to be positively correlated with the number of reddit comments by requestor at retrieval. This indicates that more active users are getting the pizza more often than the non active users\n",
    "\n",
    "3. We get similar insights from the past sub-reddit counts at request. This is an indicator of historical usage and we see that ratio of successful population increases (up to a point) with the historical engagement\n",
    "\n",
    "4. Number of posts in RAOP at retrieval seems to be a very strong indicator of success rate. It seems that 2 and 3 posts are very highly correlated with getting the pizza. "
   ]
  },
  {
   "cell_type": "markdown",
   "metadata": {},
   "source": [
    "### Analysis of request title"
   ]
  },
  {
   "cell_type": "code",
   "execution_count": 71,
   "metadata": {},
   "outputs": [
    {
     "data": {
      "text/plain": [
       "0                 Request Colorado Springs Help Us Please\n",
       "1       [Request] California, No cash and I could use ...\n",
       "2       [Request] Hungry couple in Dundee, Scotland wo...\n",
       "3       [Request] In Canada (Ontario), just got home f...\n",
       "4       [Request] Old friend coming to visit. Would LO...\n",
       "                              ...                        \n",
       "4035    [REQUEST] Anyone help a recent college grad wh...\n",
       "4036    [Request][USA] Papa Johns is giving away one f...\n",
       "4037    [REQUEST][MI,USA] Day off, would love pizza fo...\n",
       "4038    [Request] Nashua Nh Mother of one hungry 2 yea...\n",
       "4039    [Request] USA WA. Unexpected bill, couldn't go...\n",
       "Name: request_title, Length: 4040, dtype: object"
      ]
     },
     "execution_count": 71,
     "metadata": {},
     "output_type": "execute_result"
    }
   ],
   "source": [
    "df_short['request_title']"
   ]
  },
  {
   "cell_type": "code",
   "execution_count": 126,
   "metadata": {},
   "outputs": [],
   "source": [
    "import nltk\n",
    "from nltk import sent_tokenize, word_tokenize\n",
    "from nltk import pos_tag\n",
    "from nltk.stem import WordNetLemmatizer\n",
    "from nltk.corpus import stopwords\n",
    "from string import punctuation"
   ]
  },
  {
   "cell_type": "code",
   "execution_count": 138,
   "metadata": {},
   "outputs": [
    {
     "name": "stderr",
     "output_type": "stream",
     "text": [
      "[nltk_data] Downloading package wordnet to\n",
      "[nltk_data]     C:\\Users\\prakh\\AppData\\Roaming\\nltk_data...\n",
      "[nltk_data]   Unzipping corpora\\wordnet.zip.\n"
     ]
    },
    {
     "data": {
      "text/plain": [
       "True"
      ]
     },
     "execution_count": 138,
     "metadata": {},
     "output_type": "execute_result"
    }
   ],
   "source": [
    "nltk.download('punkt')\n",
    "nltk.download('stopwords')\n",
    "nltk.download('wordnet')"
   ]
  },
  {
   "cell_type": "code",
   "execution_count": 128,
   "metadata": {},
   "outputs": [],
   "source": [
    "stopwords_json = {\"en\":[\"a\",\"a's\",\"able\",\"about\",\"above\",\"according\",\"accordingly\",\"across\",\"actually\",\"after\",\n",
    "                        \"afterwards\",\"again\",\"against\",\"ain't\",\"all\",\"allow\",\"allows\",\"almost\",\"alone\",\"along\",\n",
    "                        \"already\",\"also\",\"although\",\"always\",\"am\",\"among\",\"amongst\",\"an\",\"and\",\"another\",\"any\",\n",
    "                        \"anybody\",\"anyhow\",\"anyone\",\"anything\",\"anyway\",\"anyways\",\"anywhere\",\"apart\",\"appear\",\n",
    "                        \"appreciate\",\"appropriate\",\"are\",\"aren't\",\"around\",\"as\",\"aside\",\"ask\",\"asking\",\"associated\",\n",
    "                        \"at\",\"available\",\"away\",\"awfully\",\"b\",\"be\",\"became\",\"because\",\"become\",\"becomes\",\"becoming\",\n",
    "                        \"been\",\"before\",\"beforehand\",\"behind\",\"being\",\"believe\",\"below\",\"beside\",\"besides\",\"best\",\n",
    "                        \"better\",\"between\",\"beyond\",\"both\",\"brief\",\"but\",\"by\",\"c\",\"c'mon\",\"c's\",\"came\",\"can\",\"can't\",\n",
    "                        \"cannot\",\"cant\",\"cause\",\"causes\",\"certain\",\"certainly\",\"changes\",\"clearly\",\"co\",\"com\",\"come\",\n",
    "                        \"comes\",\"concerning\",\"consequently\",\"consider\",\"considering\",\"contain\",\"containing\",\"contains\",\n",
    "                        \"corresponding\",\"could\",\"couldn't\",\"course\",\"currently\",\"d\",\"definitely\",\"described\",\"despite\",\n",
    "                        \"did\",\"didn't\",\"different\",\"do\",\"does\",\"doesn't\",\"doing\",\"don't\",\"done\",\"down\",\"downwards\",\"during\",\n",
    "                        \"e\",\"each\",\"edu\",\"eg\",\"eight\",\"either\",\"else\",\"elsewhere\",\"enough\",\"entirely\",\"especially\",\"et\",\n",
    "                        \"etc\",\"even\",\"ever\",\"every\",\"everybody\",\"everyone\",\"everything\",\"everywhere\",\"ex\",\"exactly\",\n",
    "                        \"example\",\"except\",\"f\",\"far\",\"few\",\"fifth\",\"first\",\"five\",\"followed\",\"following\",\"follows\",\n",
    "                        \"for\",\"former\",\"formerly\",\"forth\",\"four\",\"from\",\"further\",\"furthermore\",\"g\",\"get\",\"gets\",\n",
    "                        \"getting\",\"given\",\"gives\",\"go\",\"goes\",\"going\",\"gone\",\"got\",\"gotten\",\"greetings\",\"h\",\"had\",\n",
    "                        \"hadn't\",\"happens\",\"hardly\",\"has\",\"hasn't\",\"have\",\"haven't\",\"having\",\"he\",\"he's\",\"hello\",\n",
    "                        \"help\",\"hence\",\"her\",\"here\",\"here's\",\"hereafter\",\"hereby\",\"herein\",\"hereupon\",\"hers\",\"herself\",\n",
    "                        \"hi\",\"him\",\"himself\",\"his\",\"hither\",\"hopefully\",\"how\",\"howbeit\",\"however\",\"i\",\"i'd\",\"i'll\",\n",
    "                        \"i'm\",\"i've\",\"ie\",\"if\",\"ignored\",\"immediate\",\"in\",\"inasmuch\",\"inc\",\"indeed\",\"indicate\",\n",
    "                        \"indicated\",\"indicates\",\"inner\",\"insofar\",\"instead\",\"into\",\"inward\",\"is\",\"isn't\",\"it\",\"it'd\",\n",
    "                        \"it'll\",\"it's\",\"its\",\"itself\",\"j\",\"just\",\"k\",\"keep\",\"keeps\",\"kept\",\"know\",\"known\",\"knows\",\"l\",\n",
    "                        \"last\",\"lately\",\"later\",\"latter\",\"latterly\",\"least\",\"less\",\"lest\",\"let\",\"let's\",\"like\",\"liked\",\n",
    "                        \"likely\",\"little\",\"look\",\"looking\",\"looks\",\"ltd\",\"m\",\"mainly\",\"many\",\"may\",\"maybe\",\"me\",\"mean\",\n",
    "                        \"meanwhile\",\"merely\",\"might\",\"more\",\"moreover\",\"most\",\"mostly\",\"much\",\"must\",\"my\",\"myself\",\"n\",\n",
    "                        \"name\",\"namely\",\"nd\",\"near\",\"nearly\",\"necessary\",\"need\",\"needs\",\"neither\",\"never\",\"nevertheless\",\n",
    "                        \"new\",\"next\",\"nine\",\"no\",\"nobody\",\"non\",\"none\",\"noone\",\"nor\",\"normally\",\"not\",\"nothing\",\"novel\",\n",
    "                        \"now\",\"nowhere\",\"o\",\"obviously\",\"of\",\"off\",\"often\",\"oh\",\"ok\",\"okay\",\"old\",\"on\",\"once\",\"one\",\"ones\",\n",
    "                        \"only\",\"onto\",\"or\",\"other\",\"others\",\"otherwise\",\"ought\",\"our\",\"ours\",\"ourselves\",\"out\",\"outside\",\n",
    "                        \"over\",\"overall\",\"own\",\"p\",\"particular\",\"particularly\",\"per\",\"perhaps\",\"placed\",\"please\",\"plus\",\n",
    "                        \"possible\",\"presumably\",\"probably\",\"provides\",\"q\",\"que\",\"quite\",\"qv\",\"r\",\"rather\",\"rd\",\"re\",\"really\",\n",
    "                        \"reasonably\",\"regarding\",\"regardless\",\"regards\",\"relatively\",\"respectively\",\"right\",\"s\",\"said\",\"same\",\n",
    "                        \"saw\",\"say\",\"saying\",\"says\",\"second\",\"secondly\",\"see\",\"seeing\",\"seem\",\"seemed\",\"seeming\",\"seems\",\n",
    "                        \"seen\",\"self\",\"selves\",\"sensible\",\"sent\",\"serious\",\"seriously\",\"seven\",\"several\",\"shall\",\"she\",\n",
    "                        \"should\",\"shouldn't\",\"since\",\"six\",\"so\",\"some\",\"somebody\",\"somehow\",\"someone\",\"something\",\"sometime\",\n",
    "                        \"sometimes\",\"somewhat\",\"somewhere\",\"soon\",\"sorry\",\"specified\",\"specify\",\"specifying\",\"still\",\"sub\",\n",
    "                        \"such\",\"sup\",\"sure\",\"t\",\"t's\",\"take\",\"taken\",\"tell\",\"tends\",\"th\",\"than\",\"thank\",\"thanks\",\"thanx\",\n",
    "                        \"that\",\"that's\",\"thats\",\"the\",\"their\",\"theirs\",\"them\",\"themselves\",\"then\",\"thence\",\"there\",\"there's\",\n",
    "                        \"thereafter\",\"thereby\",\"therefore\",\"therein\",\"theres\",\"thereupon\",\"these\",\"they\",\"they'd\",\"they'll\",\n",
    "                        \"they're\",\"they've\",\"think\",\"third\",\"this\",\"thorough\",\"thoroughly\",\"those\",\"though\",\"three\",\"through\",\n",
    "                        \"throughout\",\"thru\",\"thus\",\"to\",\"together\",\"too\",\"took\",\"toward\",\"towards\",\"tried\",\"tries\",\"truly\",\n",
    "                        \"try\",\"trying\",\"twice\",\"two\",\"u\",\"un\",\"under\",\"unfortunately\",\"unless\",\"unlikely\",\"until\",\"unto\",\"up\",\n",
    "                        \"upon\",\"us\",\"use\",\"used\",\"useful\",\"uses\",\"using\",\"usually\",\"uucp\",\"v\",\"value\",\"various\",\"very\",\"via\",\n",
    "                        \"viz\",\"vs\",\"w\",\"want\",\"wants\",\"was\",\"wasn't\",\"way\",\"we\",\"we'd\",\"we'll\",\"we're\",\"we've\",\"welcome\",\n",
    "                        \"well\",\"went\",\"were\",\"weren't\",\"what\",\"what's\",\"whatever\",\"when\",\"whence\",\"whenever\",\"where\",\"where's\",\n",
    "                        \"whereafter\",\"whereas\",\"whereby\",\"wherein\",\"whereupon\",\"wherever\",\"whether\",\"which\",\"while\",\"whither\",\n",
    "                        \"who\",\"who's\",\"whoever\",\"whole\",\"whom\",\"whose\",\"why\",\"will\",\"willing\",\"wish\",\"with\",\"within\",\"without\",\n",
    "                        \"won't\",\"wonder\",\"would\",\"wouldn't\",\"x\",\"y\",\"yes\",\"yet\",\"you\",\"you'd\",\"you'll\",\"you're\",\"you've\",\n",
    "                        \"your\",\"yours\",\"yourself\",\"yourselves\",\"z\",\"zero\"]}"
   ]
  },
  {
   "cell_type": "code",
   "execution_count": 131,
   "metadata": {},
   "outputs": [],
   "source": [
    "stopwords_json_en = set(stopwords_json['en'])\n",
    "stopwords_nltk_en = set(stopwords.words('english'))\n",
    "stopwords_punct = set(punctuation)\n",
    "# Combine the stopwords. Its a lot longer so I'm not printing it out...\n",
    "stoplist_combined = set.union(stopwords_json_en, stopwords_nltk_en, stopwords_punct)"
   ]
  },
  {
   "cell_type": "code",
   "execution_count": 132,
   "metadata": {},
   "outputs": [],
   "source": [
    "wnl = WordNetLemmatizer()\n",
    "\n",
    "def penn2morphy(penntag):\n",
    "    \"\"\" Converts Penn Treebank tags to WordNet. \"\"\"\n",
    "    morphy_tag = {'NN':'n', 'JJ':'a',\n",
    "                  'VB':'v', 'RB':'r'}\n",
    "    try:\n",
    "        return morphy_tag[penntag[:2]]\n",
    "    except:\n",
    "        return 'n' \n",
    "    \n",
    "def lemmatize_sent(text): \n",
    "    # Text input is string, returns lowercased strings.\n",
    "    return [wnl.lemmatize(word.lower(), pos=penn2morphy(tag)) \n",
    "            for word, tag in pos_tag(word_tokenize(text))]\n",
    "\n",
    "def preprocess_text(text):\n",
    "    # Input: str, i.e. document/sentence\n",
    "    # Output: list(str) , i.e. list of lemmas\n",
    "    return [word for word in lemmatize_sent(text) \n",
    "            if word not in stoplist_combined\n",
    "            and not word.isdigit()]"
   ]
  },
  {
   "cell_type": "markdown",
   "metadata": {},
   "source": [
    "#### Custom word counter - with final category"
   ]
  },
  {
   "cell_type": "code",
   "execution_count": 141,
   "metadata": {},
   "outputs": [
    {
     "name": "stderr",
     "output_type": "stream",
     "text": [
      "C:\\ProgramData\\Anaconda3\\lib\\site-packages\\ipykernel_launcher.py:10: SettingWithCopyWarning: \n",
      "A value is trying to be set on a copy of a slice from a DataFrame.\n",
      "Try using .loc[row_indexer,col_indexer] = value instead\n",
      "\n",
      "See the caveats in the documentation: http://pandas.pydata.org/pandas-docs/stable/user_guide/indexing.html#returning-a-view-versus-a-copy\n",
      "  # Remove the CWD from sys.path while we load stuff.\n"
     ]
    }
   ],
   "source": [
    "#1 Number of tokens in the request title vs. outcome\n",
    "\n",
    "def simple_token_count(v):\n",
    "    result = []\n",
    "    for line in v:\n",
    "        result.append(len(word_tokenize(line)))\n",
    "    return result\n",
    "\n",
    "\n",
    "df_short['num_token_title'] = simple_token_count(df_short['request_title'])"
   ]
  },
  {
   "cell_type": "code",
   "execution_count": 142,
   "metadata": {
    "scrolled": true
   },
   "outputs": [
    {
     "data": {
      "text/plain": [
       "11    251\n",
       "12    244\n",
       "13    241\n",
       "14    237\n",
       "9     225\n",
       "15    218\n",
       "10    207\n",
       "16    201\n",
       "19    182\n",
       "17    182\n",
       "8     172\n",
       "18    166\n",
       "20    154\n",
       "21    144\n",
       "7     119\n",
       "6     111\n",
       "22    107\n",
       "23     98\n",
       "24     87\n",
       "25     83\n",
       "26     75\n",
       "27     70\n",
       "28     47\n",
       "5      42\n",
       "30     36\n",
       "31     32\n",
       "33     31\n",
       "32     29\n",
       "35     26\n",
       "34     25\n",
       "29     24\n",
       "3      21\n",
       "37     17\n",
       "4      17\n",
       "41     12\n",
       "36     12\n",
       "39     11\n",
       "38      9\n",
       "40      9\n",
       "1       8\n",
       "49      7\n",
       "42      6\n",
       "44      6\n",
       "46      6\n",
       "48      6\n",
       "43      5\n",
       "47      3\n",
       "45      3\n",
       "51      3\n",
       "2       2\n",
       "50      2\n",
       "52      2\n",
       "60      2\n",
       "62      1\n",
       "59      1\n",
       "53      1\n",
       "55      1\n",
       "67      1\n",
       "Name: num_token_title, dtype: int64"
      ]
     },
     "execution_count": 142,
     "metadata": {},
     "output_type": "execute_result"
    }
   ],
   "source": [
    "df_short['num_token_title'].value_counts()"
   ]
  },
  {
   "cell_type": "code",
   "execution_count": 143,
   "metadata": {},
   "outputs": [
    {
     "name": "stderr",
     "output_type": "stream",
     "text": [
      "C:\\ProgramData\\Anaconda3\\lib\\site-packages\\ipykernel_launcher.py:3: SettingWithCopyWarning: \n",
      "A value is trying to be set on a copy of a slice from a DataFrame.\n",
      "Try using .loc[row_indexer,col_indexer] = value instead\n",
      "\n",
      "See the caveats in the documentation: http://pandas.pydata.org/pandas-docs/stable/user_guide/indexing.html#returning-a-view-versus-a-copy\n",
      "  This is separate from the ipykernel package so we can avoid doing imports until\n"
     ]
    }
   ],
   "source": [
    "df_short['num_token_title_transformed'] = pd.cut(df_short['num_token_title'], \n",
    "       [-np.inf, 0, 10, 15, 20, np.inf], \n",
    "       labels=['0. 0','1. 1-10', '2. 10-15', '3. 15-20','4. 20+'])"
   ]
  },
  {
   "cell_type": "code",
   "execution_count": 144,
   "metadata": {},
   "outputs": [
    {
     "data": {
      "image/png": "[encoded data removed]",
      "text/plain": [
       "<Figure size 432x288 with 1 Axes>"
      ]
     },
     "metadata": {},
     "output_type": "display_data"
    }
   ],
   "source": [
    "sns.countplot(x = 'num_token_title_transformed', hue='requester_received_pizza', data=df_short)\n",
    "plt.title('Distribution of success rate across #tokens in title')\n",
    "pass"
   ]
  },
  {
   "cell_type": "code",
   "execution_count": 175,
   "metadata": {},
   "outputs": [],
   "source": [
    "#2 Most important words for true category\n",
    "\n",
    "def count_words_per_category(v, out):\n",
    "    result_true, result_false = {}, {}\n",
    "    for ind, line in enumerate(v):\n",
    "        #print(ind)\n",
    "        #print(out[ind])\n",
    "        trf_line = preprocess_text(line) # preprocess and lammatized title text\n",
    "        for elem in trf_line:\n",
    "            if out[ind]:\n",
    "                result_true[elem] = result_true.get(elem, 0) + 1\n",
    "            else: \n",
    "                result_false[elem] = result_false.get(elem, 0) + 1\n",
    "    return result_true, result_false"
   ]
  },
  {
   "cell_type": "code",
   "execution_count": 176,
   "metadata": {},
   "outputs": [],
   "source": [
    "count_pizza_true, count_pizza_false = count_words_per_category(df_short['request_title'], \n",
    "                                                                list(df_short['requester_received_pizza']))"
   ]
  },
  {
   "cell_type": "code",
   "execution_count": 178,
   "metadata": {},
   "outputs": [
    {
     "name": "stdout",
     "output_type": "stream",
     "text": [
      "1590\n",
      "3425\n"
     ]
    }
   ],
   "source": [
    "print(len(count_pizza_true))\n",
    "print(len(count_pizza_false))"
   ]
  },
  {
   "cell_type": "code",
   "execution_count": 183,
   "metadata": {},
   "outputs": [],
   "source": [
    "total_tokens = set(count_pizza_false.keys()).union(set(count_pizza_true.keys()))"
   ]
  },
  {
   "cell_type": "code",
   "execution_count": 190,
   "metadata": {},
   "outputs": [],
   "source": [
    "true_class_prevalance = {}\n",
    "for tok in total_tokens:\n",
    "    true_class_prevalance[tok] = count_pizza_true.get(tok, 0)/ (count_pizza_true.get(tok, 0) + count_pizza_false.get(tok, 0))"
   ]
  },
  {
   "cell_type": "code",
   "execution_count": 191,
   "metadata": {},
   "outputs": [],
   "source": [
    "sorted_true_class_prevalance = sorted(true_class_prevalance.items(), key=lambda kv: kv[1])"
   ]
  },
  {
   "cell_type": "code",
   "execution_count": 192,
   "metadata": {},
   "outputs": [
    {
     "data": {
      "text/plain": [
       "[('twentysomethings', 1.0),\n",
       " ('steeler', 1.0),\n",
       " ('shred', 1.0),\n",
       " ('bought', 1.0),\n",
       " ('longview', 1.0),\n",
       " ('kitten', 1.0),\n",
       " ('suddenly', 1.0),\n",
       " ('swansea', 1.0),\n",
       " ('pacific', 1.0),\n",
       " ('boerne', 1.0),\n",
       " ('shoulder', 1.0),\n",
       " ('restart', 1.0),\n",
       " ('op', 1.0),\n",
       " ('perk', 1.0),\n",
       " ('honeymoon', 1.0),\n",
       " ('full-time', 1.0),\n",
       " ('rural', 1.0),\n",
       " ('cookeville', 1.0),\n",
       " ('pizza-related', 1.0),\n",
       " ('£20', 1.0),\n",
       " ('gut', 1.0),\n",
       " ('qc-', 1.0),\n",
       " ('blackhawks', 1.0),\n",
       " ('leak', 1.0),\n",
       " ('accomplishment', 1.0),\n",
       " ('seattle-', 1.0),\n",
       " ('whiskey', 1.0),\n",
       " ('current', 1.0),\n",
       " ('homemade', 1.0),\n",
       " ('propose', 1.0),\n",
       " ('photo', 1.0),\n",
       " ('bitch', 1.0),\n",
       " ('account/', 1.0),\n",
       " ('blindside', 1.0),\n",
       " ('kielbasa', 1.0),\n",
       " ('interested', 1.0),\n",
       " ('brooklynite', 1.0),\n",
       " ('toledo', 1.0),\n",
       " ('poconos', 1.0),\n",
       " ('rope', 1.0),\n",
       " ('nephew', 1.0),\n",
       " ('australia.missed', 1.0),\n",
       " ('kent', 1.0),\n",
       " ('invited', 1.0),\n",
       " ('great-pa', 1.0),\n",
       " ('fussy', 1.0),\n",
       " ('uber', 1.0),\n",
       " ('flagstaff', 1.0),\n",
       " ('/sop', 1.0),\n",
       " ('embarrassed', 1.0)]"
      ]
     },
     "execution_count": 192,
     "metadata": {},
     "output_type": "execute_result"
    }
   ],
   "source": [
    "sorted_true_class_prevalance[-50:]"
   ]
  },
  {
   "cell_type": "code",
   "execution_count": 193,
   "metadata": {},
   "outputs": [],
   "source": [
    "true_class_count = {}\n",
    "for tok in total_tokens:\n",
    "    true_class_count[tok] = count_pizza_true.get(tok, 0)"
   ]
  },
  {
   "cell_type": "code",
   "execution_count": 194,
   "metadata": {},
   "outputs": [],
   "source": [
    "sorted_true_class_count = sorted(true_class_count.items(), key=lambda kv: kv[1])"
   ]
  },
  {
   "cell_type": "code",
   "execution_count": 195,
   "metadata": {},
   "outputs": [
    {
     "data": {
      "text/plain": [
       "[('starve', 16),\n",
       " ('car', 17),\n",
       " ('meal', 17),\n",
       " ('unemployed', 18),\n",
       " ('rent', 18),\n",
       " ('poor', 18),\n",
       " ('couple', 19),\n",
       " ('payday', 19),\n",
       " ('feel', 19),\n",
       " ('time', 20),\n",
       " ('girl', 21),\n",
       " ('sick', 21),\n",
       " ('friend', 21),\n",
       " ('forward', 22),\n",
       " ('year', 24),\n",
       " ('home', 24),\n",
       " ('today', 26),\n",
       " ('ramen', 26),\n",
       " ('tx', 28),\n",
       " ('dinner', 29),\n",
       " ('tomorrow', 29),\n",
       " ('uk', 30),\n",
       " ('night', 31),\n",
       " ('ca', 32),\n",
       " ('kid', 33),\n",
       " ('make', 34),\n",
       " ('family', 35),\n",
       " ('friday', 36),\n",
       " ('job', 44),\n",
       " ('eat', 46),\n",
       " ('work', 46),\n",
       " ('week', 49),\n",
       " (\"'s\", 50),\n",
       " ('tonight', 51),\n",
       " (\"'m\", 54),\n",
       " ('usa', 57),\n",
       " ('pay', 59),\n",
       " (\"n't\", 61),\n",
       " ('day', 62),\n",
       " ('break', 63),\n",
       " ('college', 65),\n",
       " ('money', 68),\n",
       " ('broke', 70),\n",
       " ('...', 70),\n",
       " ('love', 76),\n",
       " ('food', 88),\n",
       " ('student', 91),\n",
       " ('hungry', 130),\n",
       " ('pizza', 353),\n",
       " ('request', 1000)]"
      ]
     },
     "execution_count": 195,
     "metadata": {},
     "output_type": "execute_result"
    }
   ],
   "source": [
    "sorted_true_class_count[-50:]"
   ]
  },
  {
   "cell_type": "code",
   "execution_count": 196,
   "metadata": {},
   "outputs": [],
   "source": [
    "df_final = pd.DataFrame()\n",
    "\n",
    "df_final['Token'] = list(total_tokens)"
   ]
  },
  {
   "cell_type": "code",
   "execution_count": 197,
   "metadata": {},
   "outputs": [],
   "source": [
    "v1, v2 = [], []\n",
    "for t in total_tokens:\n",
    "    v1.append(true_class_prevalance[t])\n",
    "    v2.append(true_class_count[t])\n",
    "df_final['token_count_for_positive_class'] = v2\n",
    "df_final['token_prevalence_for_positive_class'] = v1"
   ]
  },
  {
   "cell_type": "code",
   "execution_count": 205,
   "metadata": {},
   "outputs": [],
   "source": [
    "df_final['greater_than_global_prevalance'] = df_final['token_prevalence_for_positive_class'] >= 0.25"
   ]
  },
  {
   "cell_type": "code",
   "execution_count": 201,
   "metadata": {},
   "outputs": [],
   "source": [
    "df_final.sort_values(by='token_count_for_positive_class', inplace=True, ascending=False)"
   ]
  },
  {
   "cell_type": "code",
   "execution_count": 209,
   "metadata": {},
   "outputs": [
    {
     "data": {
      "text/html": [
       "<div>\n",
       "<style scoped>\n",
       "    .dataframe tbody tr th:only-of-type {\n",
       "        vertical-align: middle;\n",
       "    }\n",
       "\n",
       "    .dataframe tbody tr th {\n",
       "        vertical-align: top;\n",
       "    }\n",
       "\n",
       "    .dataframe thead th {\n",
       "        text-align: right;\n",
       "    }\n",
       "</style>\n",
       "<table border=\"1\" class=\"dataframe\">\n",
       "  <thead>\n",
       "    <tr style=\"text-align: right;\">\n",
       "      <th></th>\n",
       "      <th>Token</th>\n",
       "      <th>token_count_for_positive_class</th>\n",
       "      <th>token_prevalence_for_positive_class</th>\n",
       "      <th>greater_than_global_prevalance</th>\n",
       "    </tr>\n",
       "  </thead>\n",
       "  <tbody>\n",
       "    <tr>\n",
       "      <td>1481</td>\n",
       "      <td>hungry</td>\n",
       "      <td>130</td>\n",
       "      <td>0.274841</td>\n",
       "      <td>True</td>\n",
       "    </tr>\n",
       "    <tr>\n",
       "      <td>1098</td>\n",
       "      <td>student</td>\n",
       "      <td>91</td>\n",
       "      <td>0.266082</td>\n",
       "      <td>True</td>\n",
       "    </tr>\n",
       "    <tr>\n",
       "      <td>14</td>\n",
       "      <td>food</td>\n",
       "      <td>88</td>\n",
       "      <td>0.267477</td>\n",
       "      <td>True</td>\n",
       "    </tr>\n",
       "    <tr>\n",
       "      <td>2419</td>\n",
       "      <td>broke</td>\n",
       "      <td>70</td>\n",
       "      <td>0.272374</td>\n",
       "      <td>True</td>\n",
       "    </tr>\n",
       "    <tr>\n",
       "      <td>2458</td>\n",
       "      <td>...</td>\n",
       "      <td>70</td>\n",
       "      <td>0.264151</td>\n",
       "      <td>True</td>\n",
       "    </tr>\n",
       "    <tr>\n",
       "      <td>1576</td>\n",
       "      <td>money</td>\n",
       "      <td>68</td>\n",
       "      <td>0.272000</td>\n",
       "      <td>True</td>\n",
       "    </tr>\n",
       "    <tr>\n",
       "      <td>3106</td>\n",
       "      <td>college</td>\n",
       "      <td>65</td>\n",
       "      <td>0.271967</td>\n",
       "      <td>True</td>\n",
       "    </tr>\n",
       "    <tr>\n",
       "      <td>1488</td>\n",
       "      <td>pay</td>\n",
       "      <td>59</td>\n",
       "      <td>0.307292</td>\n",
       "      <td>True</td>\n",
       "    </tr>\n",
       "    <tr>\n",
       "      <td>3600</td>\n",
       "      <td>'m</td>\n",
       "      <td>54</td>\n",
       "      <td>0.252336</td>\n",
       "      <td>True</td>\n",
       "    </tr>\n",
       "    <tr>\n",
       "      <td>2393</td>\n",
       "      <td>tonight</td>\n",
       "      <td>51</td>\n",
       "      <td>0.322785</td>\n",
       "      <td>True</td>\n",
       "    </tr>\n",
       "  </tbody>\n",
       "</table>\n",
       "</div>"
      ],
      "text/plain": [
       "        Token  token_count_for_positive_class  \\\n",
       "1481   hungry                             130   \n",
       "1098  student                              91   \n",
       "14       food                              88   \n",
       "2419    broke                              70   \n",
       "2458      ...                              70   \n",
       "1576    money                              68   \n",
       "3106  college                              65   \n",
       "1488      pay                              59   \n",
       "3600       'm                              54   \n",
       "2393  tonight                              51   \n",
       "\n",
       "      token_prevalence_for_positive_class  greater_than_global_prevalance  \n",
       "1481                             0.274841                            True  \n",
       "1098                             0.266082                            True  \n",
       "14                               0.267477                            True  \n",
       "2419                             0.272374                            True  \n",
       "2458                             0.264151                            True  \n",
       "1576                             0.272000                            True  \n",
       "3106                             0.271967                            True  \n",
       "1488                             0.307292                            True  \n",
       "3600                             0.252336                            True  \n",
       "2393                             0.322785                            True  "
      ]
     },
     "execution_count": 209,
     "metadata": {},
     "output_type": "execute_result"
    }
   ],
   "source": [
    "df_final[(df_final['token_count_for_positive_class']>50) & (df_final['greater_than_global_prevalance'] == True)]"
   ]
  }
 ],
 "metadata": {
  "kernelspec": {
   "display_name": "Python 3",
   "language": "python",
   "name": "python3"
  },
  "language_info": {
   "codemirror_mode": {
    "name": "ipython",
    "version": 3
   },
   "file_extension": ".py",
   "mimetype": "text/x-python",
   "name": "python",
   "nbconvert_exporter": "python",
   "pygments_lexer": "ipython3",
   "version": "3.7.4"
  }
 },
 "nbformat": 4,
 "nbformat_minor": 2
}
