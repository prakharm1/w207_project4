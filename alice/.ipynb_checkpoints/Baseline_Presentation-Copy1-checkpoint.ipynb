{
 "cells": [
  {
   "cell_type": "code",
   "execution_count": null,
   "metadata": {
    "scrolled": true
   },
   "outputs": [],
   "source": [
    "# SK-learn libraries for feature extraction from text.\n",
    "from sklearn.feature_extraction.text import *\n",
    "import pandas as pd\n",
    "from datetime import datetime\n",
    "import re\n",
    "import nltk\n",
    "import json\n",
    "import numpy as np\n",
    "from nltk import sent_tokenize, word_tokenize\n",
    "from nltk import pos_tag\n",
    "from nltk.stem import WordNetLemmatizer\n",
    "from nltk.corpus import stopwords\n",
    "from string import punctuation\n",
    "from textblob import TextBlob\n",
    "#import contractions \n",
    "from sklearn.decomposition import LatentDirichletAllocation\n",
    "from sklearn.decomposition import NMF\n",
    "from sklearn.pipeline import make_pipeline\n",
    "from sklearn.ensemble import RandomForestClassifier\n",
    "from sklearn.model_selection import RandomizedSearchCV\n",
    "from sklearn.metrics import precision_recall_curve\n",
    "from sklearn.metrics import classification_report\n",
    "import sklearn.tree\n",
    "from collections import Counter\n",
    "from nltk.stem import PorterStemmer\n",
    "import contractions \n",
    "\n",
    "%matplotlib inline\n",
    "import csv\n",
    "import sklearn\n",
    "import matplotlib.pyplot as plt\n",
    "import seaborn as sns\n",
    "from sklearn.model_selection import train_test_split \n",
    "sns.set(style=\"darkgrid\")\n",
    "\n",
    "import gensim\n",
    "from gensim.models import Phrases, KeyedVectors, Word2Vec\n",
    "import gensim.downloader\n",
    "\n",
    "from scipy import stats\n",
    "\n",
    "nltk.download('punkt')\n",
    "nltk.download('stopwords')\n",
    "nltk.download('wordnet')\n",
    "nltk.download('averaged_perceptron_tagger')\n",
    "pass"
   ]
  },
  {
   "cell_type": "markdown",
   "metadata": {},
   "source": [
    "## Problem Introduction\n",
    "\n",
    "We have a dataset in JSON format containing information about the user activity in a reddit forum **ROAP**. Our feature set comes from a bunch of user features noted at the time of posting user comments in the forun alogside the titel and text they chose. The response variable is whether the requester received the pizza or not."
   ]
  },
  {
   "cell_type": "markdown",
   "metadata": {},
   "source": [
    "### 1. Loading the training data"
   ]
  },
  {
   "cell_type": "code",
   "execution_count": null,
   "metadata": {},
   "outputs": [],
   "source": [
    "with open('data/random-acts-of-pizza/train.json') as f:\n",
    "    train_json_data = json.load(f)"
   ]
  },
  {
   "cell_type": "code",
   "execution_count": 119,
   "metadata": {},
   "outputs": [
    {
     "name": "stderr",
     "output_type": "stream",
     "text": [
      "/Users/aliceye/opt/anaconda3/lib/python3.7/site-packages/ipykernel_launcher.py:1: FutureWarning: pandas.io.json.json_normalize is deprecated, use pandas.json_normalize instead\n",
      "  \"\"\"Entry point for launching an IPython kernel.\n"
     ]
    }
   ],
   "source": [
    "df = pd.io.json.json_normalize(train_json_data) \n",
    "df.head()\n",
    "pass"
   ]
  },
  {
   "cell_type": "code",
   "execution_count": 120,
   "metadata": {},
   "outputs": [
    {
     "name": "stdout",
     "output_type": "stream",
     "text": [
      "Total data rows in full training set: 4040\n",
      "Total data columns in full training set: 32\n"
     ]
    }
   ],
   "source": [
    "print('Total data rows in full training set: {}'.format(df.shape[0]))\n",
    "print('Total data columns in full training set: {}'.format(df.shape[1]))"
   ]
  },
  {
   "cell_type": "markdown",
   "metadata": {},
   "source": [
    "### 2. Splitting training set into training and validation\n",
    "\n",
    "As we don't have labeled test set, we have to split existing training data into training and validation set in order to evaluate our model performance. We have already split the train and validation in 90/10 ratio and saved as csv files. We read them directly in memory."
   ]
  },
  {
   "cell_type": "code",
   "execution_count": 121,
   "metadata": {},
   "outputs": [],
   "source": [
    "# split data in training and test data\n",
    "train, val = train_test_split(df, test_size=0.1, random_state=42)"
   ]
  },
  {
   "cell_type": "code",
   "execution_count": 122,
   "metadata": {},
   "outputs": [
    {
     "name": "stdout",
     "output_type": "stream",
     "text": [
      "(3636, 32)\n",
      "(404, 32)\n"
     ]
    }
   ],
   "source": [
    "print(train.shape)\n",
    "print(val.shape)"
   ]
  },
  {
   "cell_type": "markdown",
   "metadata": {},
   "source": [
    "### 3. Extracting relevant columns (which are present in test data) "
   ]
  },
  {
   "cell_type": "code",
   "execution_count": 123,
   "metadata": {},
   "outputs": [],
   "source": [
    "relevant_cols = ['request_title', 'request_text_edit_aware' ,\n",
    "                 'requester_number_of_posts_on_raop_at_request', \n",
    "                'requester_number_of_subreddits_at_request', \n",
    "                 'unix_timestamp_of_request', \n",
    "                'requester_account_age_in_days_at_request',\n",
    "                'requester_subreddits_at_request',\n",
    "                'requester_upvotes_minus_downvotes_at_request', \n",
    "                'requester_upvotes_plus_downvotes_at_request']\n",
    "\n",
    "y = 'requester_received_pizza'"
   ]
  },
  {
   "cell_type": "code",
   "execution_count": 124,
   "metadata": {},
   "outputs": [],
   "source": [
    "def subset_df(data, y_cols, x_cols):\n",
    "    return data[[y_cols] + x_cols]"
   ]
  },
  {
   "cell_type": "code",
   "execution_count": 125,
   "metadata": {},
   "outputs": [
    {
     "data": {
      "text/html": [
       "<div>\n",
       "<style scoped>\n",
       "    .dataframe tbody tr th:only-of-type {\n",
       "        vertical-align: middle;\n",
       "    }\n",
       "\n",
       "    .dataframe tbody tr th {\n",
       "        vertical-align: top;\n",
       "    }\n",
       "\n",
       "    .dataframe thead th {\n",
       "        text-align: right;\n",
       "    }\n",
       "</style>\n",
       "<table border=\"1\" class=\"dataframe\">\n",
       "  <thead>\n",
       "    <tr style=\"text-align: right;\">\n",
       "      <th></th>\n",
       "      <th>requester_received_pizza</th>\n",
       "      <th>request_title</th>\n",
       "      <th>request_text_edit_aware</th>\n",
       "      <th>requester_number_of_posts_on_raop_at_request</th>\n",
       "      <th>requester_number_of_subreddits_at_request</th>\n",
       "      <th>unix_timestamp_of_request</th>\n",
       "      <th>requester_account_age_in_days_at_request</th>\n",
       "      <th>requester_subreddits_at_request</th>\n",
       "      <th>requester_upvotes_minus_downvotes_at_request</th>\n",
       "      <th>requester_upvotes_plus_downvotes_at_request</th>\n",
       "    </tr>\n",
       "  </thead>\n",
       "  <tbody>\n",
       "    <tr>\n",
       "      <th>1575</th>\n",
       "      <td>False</td>\n",
       "      <td>[REQUEST] Ottawa Canada poor unemployed  hungr...</td>\n",
       "      <td>I'm a liberal arts student with zero dollars t...</td>\n",
       "      <td>0</td>\n",
       "      <td>1</td>\n",
       "      <td>1.329752e+09</td>\n",
       "      <td>0.000000</td>\n",
       "      <td>[Random_Acts_Of_Pizza]</td>\n",
       "      <td>-1</td>\n",
       "      <td>1</td>\n",
       "    </tr>\n",
       "    <tr>\n",
       "      <th>1614</th>\n",
       "      <td>True</td>\n",
       "      <td>[Request] For my brother and I (south FL)</td>\n",
       "      <td>For the past months since I've been home fro...</td>\n",
       "      <td>0</td>\n",
       "      <td>31</td>\n",
       "      <td>1.310158e+09</td>\n",
       "      <td>525.780440</td>\n",
       "      <td>[4chan, AskReddit, DMA, Filevo, FreewareForRed...</td>\n",
       "      <td>1294</td>\n",
       "      <td>2276</td>\n",
       "    </tr>\n",
       "    <tr>\n",
       "      <th>1487</th>\n",
       "      <td>False</td>\n",
       "      <td>[Request] Broke and hungry - Oregon</td>\n",
       "      <td>Broke, pregnant and hungry. We won't get foods...</td>\n",
       "      <td>0</td>\n",
       "      <td>29</td>\n",
       "      <td>1.372539e+09</td>\n",
       "      <td>374.880625</td>\n",
       "      <td>[AskReddit, Assistance, BabyBumps, BabyExchang...</td>\n",
       "      <td>1369</td>\n",
       "      <td>2387</td>\n",
       "    </tr>\n",
       "    <tr>\n",
       "      <th>188</th>\n",
       "      <td>False</td>\n",
       "      <td>[request] Our cat decided he was going to lay ...</td>\n",
       "      <td>our cat always jumps onto the counter when we ...</td>\n",
       "      <td>0</td>\n",
       "      <td>11</td>\n",
       "      <td>1.366735e+09</td>\n",
       "      <td>41.885185</td>\n",
       "      <td>[ABraThatFits, AskReddit, BustyPetite, Monster...</td>\n",
       "      <td>1426</td>\n",
       "      <td>2666</td>\n",
       "    </tr>\n",
       "    <tr>\n",
       "      <th>12</th>\n",
       "      <td>False</td>\n",
       "      <td>[REQUEST] Georgia, USA Please help me family o...</td>\n",
       "      <td>I am a stay at home mom of two kids i live wit...</td>\n",
       "      <td>0</td>\n",
       "      <td>0</td>\n",
       "      <td>1.311833e+09</td>\n",
       "      <td>0.000000</td>\n",
       "      <td>[]</td>\n",
       "      <td>0</td>\n",
       "      <td>0</td>\n",
       "    </tr>\n",
       "  </tbody>\n",
       "</table>\n",
       "</div>"
      ],
      "text/plain": [
       "      requester_received_pizza  \\\n",
       "1575                     False   \n",
       "1614                      True   \n",
       "1487                     False   \n",
       "188                      False   \n",
       "12                       False   \n",
       "\n",
       "                                          request_title  \\\n",
       "1575  [REQUEST] Ottawa Canada poor unemployed  hungr...   \n",
       "1614          [Request] For my brother and I (south FL)   \n",
       "1487                [Request] Broke and hungry - Oregon   \n",
       "188   [request] Our cat decided he was going to lay ...   \n",
       "12    [REQUEST] Georgia, USA Please help me family o...   \n",
       "\n",
       "                                request_text_edit_aware  \\\n",
       "1575  I'm a liberal arts student with zero dollars t...   \n",
       "1614    For the past months since I've been home fro...   \n",
       "1487  Broke, pregnant and hungry. We won't get foods...   \n",
       "188   our cat always jumps onto the counter when we ...   \n",
       "12    I am a stay at home mom of two kids i live wit...   \n",
       "\n",
       "      requester_number_of_posts_on_raop_at_request  \\\n",
       "1575                                             0   \n",
       "1614                                             0   \n",
       "1487                                             0   \n",
       "188                                              0   \n",
       "12                                               0   \n",
       "\n",
       "      requester_number_of_subreddits_at_request  unix_timestamp_of_request  \\\n",
       "1575                                          1               1.329752e+09   \n",
       "1614                                         31               1.310158e+09   \n",
       "1487                                         29               1.372539e+09   \n",
       "188                                          11               1.366735e+09   \n",
       "12                                            0               1.311833e+09   \n",
       "\n",
       "      requester_account_age_in_days_at_request  \\\n",
       "1575                                  0.000000   \n",
       "1614                                525.780440   \n",
       "1487                                374.880625   \n",
       "188                                  41.885185   \n",
       "12                                    0.000000   \n",
       "\n",
       "                        requester_subreddits_at_request  \\\n",
       "1575                             [Random_Acts_Of_Pizza]   \n",
       "1614  [4chan, AskReddit, DMA, Filevo, FreewareForRed...   \n",
       "1487  [AskReddit, Assistance, BabyBumps, BabyExchang...   \n",
       "188   [ABraThatFits, AskReddit, BustyPetite, Monster...   \n",
       "12                                                   []   \n",
       "\n",
       "      requester_upvotes_minus_downvotes_at_request  \\\n",
       "1575                                            -1   \n",
       "1614                                          1294   \n",
       "1487                                          1369   \n",
       "188                                           1426   \n",
       "12                                               0   \n",
       "\n",
       "      requester_upvotes_plus_downvotes_at_request  \n",
       "1575                                            1  \n",
       "1614                                         2276  \n",
       "1487                                         2387  \n",
       "188                                          2666  \n",
       "12                                              0  "
      ]
     },
     "execution_count": 125,
     "metadata": {},
     "output_type": "execute_result"
    }
   ],
   "source": [
    "train = subset_df(train, y, relevant_cols)\n",
    "val = subset_df(val, y, relevant_cols)\n",
    "train.head()"
   ]
  },
  {
   "cell_type": "code",
   "execution_count": 126,
   "metadata": {},
   "outputs": [
    {
     "name": "stdout",
     "output_type": "stream",
     "text": [
      "(3636, 10)\n",
      "(404, 10)\n"
     ]
    }
   ],
   "source": [
    "print(train.shape)\n",
    "print(val.shape)"
   ]
  },
  {
   "cell_type": "markdown",
   "metadata": {},
   "source": [
    "### 4. Exploration of outcome variable (univariate)"
   ]
  },
  {
   "cell_type": "code",
   "execution_count": 127,
   "metadata": {},
   "outputs": [
    {
     "data": {
      "image/png": "[encoded data removed]",
      "text/plain": [
       "<Figure size 432x288 with 1 Axes>"
      ]
     },
     "metadata": {},
     "output_type": "display_data"
    }
   ],
   "source": [
    "ax = train['requester_received_pizza'].value_counts(normalize=True).plot(kind='bar')\n",
    "for p in ax.patches:\n",
    "    ax.annotate(str(round(p.get_height(), 5)), (p.get_x() * 1.005, p.get_height() * 1.005))\n",
    "plt.title('Success Rate in Training')\n",
    "plt.ylabel('Number of Occurrences', fontsize=12)\n",
    "pass"
   ]
  },
  {
   "cell_type": "markdown",
   "metadata": {},
   "source": [
    "We see that there is a **24.5% success rate** in our training set. This is encouraging as although there is a class imbalance in our training dataset, it is not extream. "
   ]
  },
  {
   "cell_type": "markdown",
   "metadata": {},
   "source": [
    "### 5. Exploration of non-text features"
   ]
  },
  {
   "cell_type": "markdown",
   "metadata": {},
   "source": [
    "#### 5.1 requester_number_of_posts_on_raop_at_request\n",
    "\n",
    "It is evident that most of the requesters in our training set (95.25%) made their first post on RAOP when they requested for pizza. This strongly suggests a novelty effect at play if the training data is representative. When people discover this group and see others requesting pizza, they themselves are encouraged to ask for pizza from an unknown community."
   ]
  },
  {
   "cell_type": "code",
   "execution_count": 128,
   "metadata": {},
   "outputs": [
    {
     "data": {
      "text/plain": [
       "0    3459\n",
       "1     132\n",
       "2      33\n",
       "3       8\n",
       "5       3\n",
       "4       1\n",
       "Name: requester_number_of_posts_on_raop_at_request, dtype: int64"
      ]
     },
     "execution_count": 128,
     "metadata": {},
     "output_type": "execute_result"
    }
   ],
   "source": [
    "train['requester_number_of_posts_on_raop_at_request'].value_counts()"
   ]
  },
  {
   "cell_type": "code",
   "execution_count": 129,
   "metadata": {},
   "outputs": [
    {
     "data": {
      "image/png": "[encoded data removed]",
      "text/plain": [
       "<Figure size 432x288 with 1 Axes>"
      ]
     },
     "metadata": {},
     "output_type": "display_data"
    }
   ],
   "source": [
    "ax = train['requester_number_of_posts_on_raop_at_request'].value_counts(normalize=True).plot(kind='bar')\n",
    "for p in ax.patches:\n",
    "    ax.annotate(str(round(p.get_height(), 2)), (p.get_x() * 1.005, p.get_height() * 1.005))\n",
    "plt.title('Distribution of Number of posts on RAOP at request')\n",
    "plt.ylabel('Number of Occurrences', fontsize=12)\n",
    "pass"
   ]
  },
  {
   "cell_type": "code",
   "execution_count": 130,
   "metadata": {},
   "outputs": [
    {
     "data": {
      "image/png": "[encoded data removed]",
      "text/plain": [
       "<Figure size 432x288 with 1 Axes>"
      ]
     },
     "metadata": {},
     "output_type": "display_data"
    }
   ],
   "source": [
    "sns.countplot(x = 'requester_number_of_posts_on_raop_at_request', \n",
    "              hue='requester_received_pizza', data=train)\n",
    "plt.title('Distribution of success rate across #posts at request')\n",
    "pass"
   ]
  },
  {
   "cell_type": "markdown",
   "metadata": {},
   "source": [
    "#### 5.2 requester_number_of_subreddits_at_request\n",
    "\n",
    "We see the following pattern \n",
    "\n",
    "|Category|sub-reddits|count|Prcnt|\n",
    "|--|--|--|--|\n",
    "|New comer|0|656|18.04%|\n",
    "|Newbie|1-5|730|19.96%|\n",
    "|Somewhat Engaged|5-10|441|11.41%|\n",
    "|Medium Engaged|10-50|1510|42.11%|\n",
    "|Highly Engaged|50-100|267|7.62%|\n",
    "|Power users|100+|32|0.85%|\n",
    "\n",
    "\n",
    "This indicates that may be users are finding ROAP via freeform browsing and engaging when needed. Most of the users are existing users of reddit platform. "
   ]
  },
  {
   "cell_type": "code",
   "execution_count": 131,
   "metadata": {},
   "outputs": [
    {
     "data": {
      "text/plain": [
       "3. 10-50     0.421892\n",
       "1. 1-5       0.198845\n",
       "0. 0         0.182068\n",
       "2. 5-10      0.114411\n",
       "4. 50-100    0.073982\n",
       "5. 100+      0.008801\n",
       "Name: requester_number_of_subreddits_at_request, dtype: float64"
      ]
     },
     "execution_count": 131,
     "metadata": {},
     "output_type": "execute_result"
    }
   ],
   "source": [
    "pd.cut(train['requester_number_of_subreddits_at_request'], \n",
    "       [-np.inf, 0, 5, 10, 50, 100, np.inf], \n",
    "       labels=['0. 0','1. 1-5', '2. 5-10', '3. 10-50', '4. 50-100', '5. 100+']).value_counts(normalize=True)"
   ]
  },
  {
   "cell_type": "code",
   "execution_count": 132,
   "metadata": {},
   "outputs": [
    {
     "data": {
      "image/png": "[encoded data removed]",
      "text/plain": [
       "<Figure size 432x288 with 1 Axes>"
      ]
     },
     "metadata": {},
     "output_type": "display_data"
    }
   ],
   "source": [
    "ax = pd.cut(train['requester_number_of_subreddits_at_request'], \n",
    "       [-np.inf, 0, 5, 10, 50, 100, np.inf], \n",
    "       labels=['0. 0','1. 1-5', '2. 5-10', '3. 10-50', '4. 50-100', '5. 100+']).value_counts().sort_index().plot(kind='bar')\n",
    "for p in ax.patches:\n",
    "    ax.annotate(str(round(p.get_height(), 2)), (p.get_x() * 1.005, p.get_height() * 1.005))\n",
    "plt.title('Distribution of number_of_subreddits_at_request')\n",
    "plt.ylabel('Number of Occurrences', fontsize=12)\n",
    "pass"
   ]
  },
  {
   "cell_type": "code",
   "execution_count": 133,
   "metadata": {},
   "outputs": [],
   "source": [
    "# creating the new feature\n",
    "feat_train = pd.cut(train['requester_number_of_subreddits_at_request'], \n",
    "       [-np.inf, 0, 5, 10, 50, 100, np.inf], \n",
    "       labels=['0. 0','1. 1-5', '2. 5-10', '3. 10-50', '4. 50-100', '5. 100+'])\n",
    "\n",
    "feat_val = pd.cut(val['requester_number_of_subreddits_at_request'], \n",
    "       [-np.inf, 0, 5, 10, 50, 100, np.inf], \n",
    "       labels=['0. 0','1. 1-5', '2. 5-10', '3. 10-50', '4. 50-100', '5. 100+'])\n",
    "\n",
    "train['num_subreddits_req'] = feat_train\n",
    "val['num_subreddits_req'] = feat_val"
   ]
  },
  {
   "cell_type": "code",
   "execution_count": 134,
   "metadata": {},
   "outputs": [
    {
     "data": {
      "image/png": "[encoded data removed]",
      "text/plain": [
       "<Figure size 432x288 with 1 Axes>"
      ]
     },
     "metadata": {},
     "output_type": "display_data"
    }
   ],
   "source": [
    "sns.countplot(x = 'num_subreddits_req', hue='requester_received_pizza', data=train)\n",
    "plt.title('Distribution of success rate across #subreddits at request')\n",
    "pass"
   ]
  },
  {
   "cell_type": "markdown",
   "metadata": {},
   "source": [
    "#### 5.3 Unix timestamp of request"
   ]
  },
  {
   "cell_type": "code",
   "execution_count": 232,
   "metadata": {},
   "outputs": [],
   "source": [
    "# Need to change format of unix timestamp of request, currently it's a float\n",
    "train['timestamp_converted'] = pd.to_datetime(train['unix_timestamp_of_request'],unit='s')\n",
    "val['timestamp_converted'] = pd.to_datetime(val['unix_timestamp_of_request'],unit='s')"
   ]
  },
  {
   "cell_type": "markdown",
   "metadata": {},
   "source": [
    "#### 5.3.1 Distribution by the hour of the day when the request was made"
   ]
  },
  {
   "cell_type": "code",
   "execution_count": 136,
   "metadata": {},
   "outputs": [
    {
     "data": {
      "text/html": [
       "<div>\n",
       "<style scoped>\n",
       "    .dataframe tbody tr th:only-of-type {\n",
       "        vertical-align: middle;\n",
       "    }\n",
       "\n",
       "    .dataframe tbody tr th {\n",
       "        vertical-align: top;\n",
       "    }\n",
       "\n",
       "    .dataframe thead th {\n",
       "        text-align: right;\n",
       "    }\n",
       "</style>\n",
       "<table border=\"1\" class=\"dataframe\">\n",
       "  <thead>\n",
       "    <tr style=\"text-align: right;\">\n",
       "      <th>hour_bin_4</th>\n",
       "      <th>(-0.023, 3.833]</th>\n",
       "      <th>(3.833, 7.667]</th>\n",
       "      <th>(7.667, 11.5]</th>\n",
       "      <th>(11.5, 15.333]</th>\n",
       "      <th>(15.333, 19.167]</th>\n",
       "      <th>(19.167, 23.0]</th>\n",
       "    </tr>\n",
       "    <tr>\n",
       "      <th>requester_received_pizza</th>\n",
       "      <th></th>\n",
       "      <th></th>\n",
       "      <th></th>\n",
       "      <th></th>\n",
       "      <th></th>\n",
       "      <th></th>\n",
       "    </tr>\n",
       "  </thead>\n",
       "  <tbody>\n",
       "    <tr>\n",
       "      <th>False</th>\n",
       "      <td>0.747672</td>\n",
       "      <td>0.81203</td>\n",
       "      <td>0.837838</td>\n",
       "      <td>0.69802</td>\n",
       "      <td>0.719941</td>\n",
       "      <td>0.765411</td>\n",
       "    </tr>\n",
       "    <tr>\n",
       "      <th>True</th>\n",
       "      <td>0.252328</td>\n",
       "      <td>0.18797</td>\n",
       "      <td>0.162162</td>\n",
       "      <td>0.30198</td>\n",
       "      <td>0.280059</td>\n",
       "      <td>0.234589</td>\n",
       "    </tr>\n",
       "  </tbody>\n",
       "</table>\n",
       "</div>"
      ],
      "text/plain": [
       "hour_bin_4                (-0.023, 3.833]  (3.833, 7.667]  (7.667, 11.5]  \\\n",
       "requester_received_pizza                                                   \n",
       "False                            0.747672         0.81203       0.837838   \n",
       "True                             0.252328         0.18797       0.162162   \n",
       "\n",
       "hour_bin_4                (11.5, 15.333]  (15.333, 19.167]  (19.167, 23.0]  \n",
       "requester_received_pizza                                                    \n",
       "False                            0.69802          0.719941        0.765411  \n",
       "True                             0.30198          0.280059        0.234589  "
      ]
     },
     "execution_count": 136,
     "metadata": {},
     "output_type": "execute_result"
    }
   ],
   "source": [
    "hours_quarter = pd.cut(train['timestamp_converted'].dt.hour, 6)\n",
    "train['hour_bin_4'] = hours_quarter \n",
    "pd.DataFrame(pd.crosstab(train.requester_received_pizza, \n",
    "            train.hour_bin_4).apply(lambda r: r/r.sum(), axis=0))"
   ]
  },
  {
   "cell_type": "code",
   "execution_count": 233,
   "metadata": {},
   "outputs": [],
   "source": [
    "hours_quarter = pd.cut(val['timestamp_converted'].dt.hour, 6)\n",
    "val['hour_bin_4'] = hours_quarter "
   ]
  },
  {
   "cell_type": "markdown",
   "metadata": {},
   "source": [
    "It is seen that different times of the data impact the outcome, with 11 am to 7 pm seeing majority of True requests."
   ]
  },
  {
   "cell_type": "code",
   "execution_count": 137,
   "metadata": {},
   "outputs": [],
   "source": [
    "def boxplot_df(data, x_col, y):\n",
    "    df_1 = data[data[y] == True][x_col]\n",
    "    df_0 = data[data[y] == False][x_col]\n",
    "    set_to_plot = [df_1, df_0]\n",
    "    y_lab = data[y].unique()\n",
    "    fig, ax = plt.subplots(figsize=(12,7))\n",
    "    ax.boxplot(set_to_plot, labels=y_lab)\n",
    "    print(np.mean(df_1))\n",
    "    print(np.mean(df_0))"
   ]
  },
  {
   "cell_type": "markdown",
   "metadata": {},
   "source": [
    "#### 5.3.4 requester_account_age_in_days_at_request"
   ]
  },
  {
   "cell_type": "code",
   "execution_count": 138,
   "metadata": {},
   "outputs": [
    {
     "name": "stdout",
     "output_type": "stream",
     "text": [
      "278.28880225239294\n",
      "248.753227923276\n"
     ]
    },
    {
     "data": {
      "image/png": "[encoded data removed]",
      "text/plain": [
       "<Figure size 864x504 with 1 Axes>"
      ]
     },
     "metadata": {},
     "output_type": "display_data"
    }
   ],
   "source": [
    "boxplot_df(train, 'requester_account_age_in_days_at_request','requester_received_pizza')\n",
    "\n",
    "pass"
   ]
  },
  {
   "cell_type": "markdown",
   "metadata": {},
   "source": [
    "The difference in distribution seems more than the other features analyzed below."
   ]
  },
  {
   "cell_type": "markdown",
   "metadata": {},
   "source": [
    "#### 5.3.6 requester_subreddits_at_request"
   ]
  },
  {
   "cell_type": "code",
   "execution_count": 139,
   "metadata": {},
   "outputs": [
    {
     "data": {
      "text/plain": [
       "1575                               [Random_Acts_Of_Pizza]\n",
       "1487    [AskReddit, Assistance, BabyBumps, BabyExchang...\n",
       "188     [ABraThatFits, AskReddit, BustyPetite, Monster...\n",
       "12                                                     []\n",
       "1231    [AdviceAnimals, Ameristralia, AskReddit, IAmA,...\n",
       "                              ...                        \n",
       "1095                               [Random_Acts_Of_Pizza]\n",
       "1294    [AdviceAnimals, AskReddit, Austin, IAmA, fanta...\n",
       "860                                [Random_Acts_Of_Pizza]\n",
       "3507    [AskReddit, IAmA, WTF, frederickmd, funny, gam...\n",
       "3174    [AskReddit, Favors, IAmA, WTF, funny, gaming, ...\n",
       "Name: requester_subreddits_at_request, Length: 2746, dtype: object"
      ]
     },
     "execution_count": 139,
     "metadata": {},
     "output_type": "execute_result"
    }
   ],
   "source": [
    "requester_subreddits_at_request_1 = train[train['requester_received_pizza'] == True]['requester_subreddits_at_request']\n",
    "requester_subreddits_at_request_0 = train[train['requester_received_pizza'] == False]['requester_subreddits_at_request']\n",
    "requester_subreddits_at_request_0"
   ]
  },
  {
   "cell_type": "markdown",
   "metadata": {},
   "source": [
    "##### 5.3.6.1 Relationship between number of subreddits with activity and altruism"
   ]
  },
  {
   "cell_type": "code",
   "execution_count": 140,
   "metadata": {},
   "outputs": [
    {
     "data": {
      "image/png": "[encoded data removed]",
      "text/plain": [
       "<Figure size 432x288 with 1 Axes>"
      ]
     },
     "metadata": {},
     "output_type": "display_data"
    }
   ],
   "source": [
    "len_requester_subreddits_at_request_1 = []\n",
    "for r1 in requester_subreddits_at_request_1:\n",
    "    len_requester_subreddits_at_request_1.append(len(r1))\n",
    "    \n",
    "len_requester_subreddits_at_request_0 = []\n",
    "for r0 in requester_subreddits_at_request_0:\n",
    "    len_requester_subreddits_at_request_0.append(len(r0))\n",
    "\n",
    "set_to_plot = [len_requester_subreddits_at_request_1, len_requester_subreddits_at_request_0]\n",
    "\n",
    "labels = train['requester_received_pizza'].unique()\n",
    "\n",
    "plt.boxplot(set_to_plot, labels=labels)\n",
    "pass"
   ]
  },
  {
   "cell_type": "markdown",
   "metadata": {},
   "source": [
    "Those with fulfilled pizza requests seem to be (on average) lesser active in subreddits than those with unfulfilled requests."
   ]
  },
  {
   "cell_type": "markdown",
   "metadata": {},
   "source": [
    "##### 5.3.6.2 Relationship between number of \"Random\" subreddits with activity and altruism"
   ]
  },
  {
   "cell_type": "markdown",
   "metadata": {},
   "source": [
    "Analyzing activity in the following subreddits:"
   ]
  },
  {
   "cell_type": "code",
   "execution_count": 141,
   "metadata": {},
   "outputs": [],
   "source": [
    "def find_subreddits(data, to_look_for):\n",
    "    found_subreddits = []\n",
    "    for subreddit_list in data['requester_subreddits_at_request']:\n",
    "        temp = []\n",
    "        if not subreddit_list:\n",
    "            found_subreddits.append(temp)\n",
    "        else:\n",
    "            for subreddits in subreddit_list:\n",
    "                if to_look_for.lower() in subreddits.lower():\n",
    "                    temp.append(subreddits)\n",
    "                else:\n",
    "                    continue\n",
    "            found_subreddits.append(temp)              \n",
    "#                 splits_by_line = subreddits.replace(']','').replace('[','').split('\\n')\n",
    "#                 splits_subreddits = [s.replace(\"'\",\"\").split(\",\") for s in splits_by_line]\n",
    "#             found_subreddits.append([r for r in splits_subreddits[0] if to_look_for.lower() in r.lower()])\n",
    "    return found_subreddits"
   ]
  },
  {
   "cell_type": "code",
   "execution_count": 142,
   "metadata": {},
   "outputs": [],
   "source": [
    "def num_random_subreddits_feature(data):\n",
    "    \n",
    "    num_random_sr = [len(x) for x in find_subreddits(train, \"Random\")]\n",
    "    \n",
    "    return np.reshape(np.array(num_random_sr),( len(num_random_sr), 1 ))"
   ]
  },
  {
   "cell_type": "code",
   "execution_count": 143,
   "metadata": {},
   "outputs": [
    {
     "data": {
      "text/plain": [
       "array([[1],\n",
       "       [0],\n",
       "       [2],\n",
       "       ...,\n",
       "       [1],\n",
       "       [0],\n",
       "       [0]])"
      ]
     },
     "execution_count": 143,
     "metadata": {},
     "output_type": "execute_result"
    }
   ],
   "source": [
    "num_random_subreddits_feature(train)"
   ]
  },
  {
   "cell_type": "markdown",
   "metadata": {},
   "source": [
    "##### 5.3.6.3 Relationship between activity in \"Random_Acts_Of_Pizza\" subreddits and altruism"
   ]
  },
  {
   "cell_type": "code",
   "execution_count": 145,
   "metadata": {},
   "outputs": [],
   "source": [
    "def num_raop_subreddits_feature(data):\n",
    "    \n",
    "    num_raop_sr = [len(x) for x in find_subreddits(train, \"Random_Acts_Of_Pizza\")]\n",
    "    \n",
    "    return np.reshape(np.array(num_raop_sr),( len(num_raop_sr), 1 ))"
   ]
  },
  {
   "cell_type": "code",
   "execution_count": 146,
   "metadata": {},
   "outputs": [
    {
     "data": {
      "text/plain": [
       "array([[1],\n",
       "       [0],\n",
       "       [0],\n",
       "       ...,\n",
       "       [1],\n",
       "       [0],\n",
       "       [0]])"
      ]
     },
     "execution_count": 146,
     "metadata": {},
     "output_type": "execute_result"
    }
   ],
   "source": [
    "num_raop_subreddits_feature(train)"
   ]
  },
  {
   "cell_type": "markdown",
   "metadata": {},
   "source": [
    "##### 5.3.6.4 Relationship between activity in 'pizza' related subreddits and altruism"
   ]
  },
  {
   "cell_type": "code",
   "execution_count": 147,
   "metadata": {},
   "outputs": [],
   "source": [
    "def num_food_subreddits_feature(data):\n",
    "    \n",
    "    num_food_sr = [len(x) for x in find_subreddits(train, \"food\")]\n",
    "    \n",
    "    return np.reshape(np.array(num_food_sr),( len(num_food_sr), 1 ))"
   ]
  },
  {
   "cell_type": "code",
   "execution_count": 148,
   "metadata": {},
   "outputs": [
    {
     "data": {
      "text/plain": [
       "array([[0],\n",
       "       [0],\n",
       "       [0],\n",
       "       ...,\n",
       "       [0],\n",
       "       [0],\n",
       "       [0]])"
      ]
     },
     "execution_count": 148,
     "metadata": {},
     "output_type": "execute_result"
    }
   ],
   "source": [
    "num_food_subreddits_feature(train)"
   ]
  },
  {
   "cell_type": "markdown",
   "metadata": {},
   "source": [
    "##### What types of subreddits are most commonly associated with pizza request fulfilment"
   ]
  },
  {
   "cell_type": "code",
   "execution_count": 149,
   "metadata": {},
   "outputs": [],
   "source": [
    "def commonly_associated_subreddits(data):\n",
    "    subreddits_frequency = {}\n",
    "    for r1 in requester_subreddits_at_request_1:\n",
    "        for s in r1:\n",
    "            subreddits_frequency[s] = subreddits_frequency.get(s, 0) + 1\n",
    "    return sorted(subreddits_frequency.items(), key=lambda item: item[1], reverse = True)"
   ]
  },
  {
   "cell_type": "code",
   "execution_count": 150,
   "metadata": {},
   "outputs": [
    {
     "data": {
      "text/plain": [
       "[('AskReddit', 568),\n",
       " ('pics', 490),\n",
       " ('funny', 468),\n",
       " ('WTF', 370),\n",
       " ('IAmA', 369),\n",
       " ('Random_Acts_Of_Pizza', 364),\n",
       " ('gaming', 356),\n",
       " ('videos', 284),\n",
       " ('todayilearned', 267),\n",
       " ('reddit.com', 263)]"
      ]
     },
     "execution_count": 150,
     "metadata": {},
     "output_type": "execute_result"
    }
   ],
   "source": [
    "commonly_associated_subreddits(train)[0:10]"
   ]
  },
  {
   "cell_type": "code",
   "execution_count": 151,
   "metadata": {},
   "outputs": [],
   "source": [
    "def activity_in_commonly_associated_subreddits(data):\n",
    "    activities = []\n",
    "    for casr in commonly_associated_subreddits(data)[0:10]:\n",
    "        activity_array = [len(x) for x in find_subreddits(train, casr[0])]\n",
    "        activity = np.reshape(np.array(activity_array),( len(activity_array), 1 ))\n",
    "        if(len(activities)==0):\n",
    "            activities = activity\n",
    "        else:\n",
    "            activities = np.hstack((activities, activity))\n",
    "    return activities"
   ]
  },
  {
   "cell_type": "code",
   "execution_count": 152,
   "metadata": {},
   "outputs": [
    {
     "data": {
      "text/plain": [
       "array([[0, 0, 0, ..., 0, 0, 0],\n",
       "       [1, 1, 1, ..., 1, 0, 1],\n",
       "       [1, 1, 1, ..., 1, 1, 0],\n",
       "       ...,\n",
       "       [0, 0, 0, ..., 0, 0, 0],\n",
       "       [1, 0, 1, ..., 0, 0, 1],\n",
       "       [1, 1, 1, ..., 0, 1, 1]])"
      ]
     },
     "execution_count": 152,
     "metadata": {},
     "output_type": "execute_result"
    }
   ],
   "source": [
    "activity_in_commonly_associated_subreddits(train)"
   ]
  },
  {
   "cell_type": "markdown",
   "metadata": {},
   "source": [
    "#### 5.4 requester_upvotes_minus_downvotes_at_request"
   ]
  },
  {
   "cell_type": "code",
   "execution_count": 153,
   "metadata": {},
   "outputs": [
    {
     "name": "stdout",
     "output_type": "stream",
     "text": [
      "1381.3505617977528\n",
      "1068.4442825928622\n"
     ]
    },
    {
     "data": {
      "image/png": "[encoded data removed]",
      "text/plain": [
       "<Figure size 864x504 with 1 Axes>"
      ]
     },
     "metadata": {},
     "output_type": "display_data"
    }
   ],
   "source": [
    "boxplot_df(train, 'requester_upvotes_minus_downvotes_at_request', 'requester_received_pizza')"
   ]
  },
  {
   "cell_type": "markdown",
   "metadata": {},
   "source": [
    "#### 5.5 requester_upvotes_plus_downvotes_at_request"
   ]
  },
  {
   "cell_type": "code",
   "execution_count": 154,
   "metadata": {},
   "outputs": [
    {
     "name": "stdout",
     "output_type": "stream",
     "text": [
      "5146.087640449438\n",
      "3189.305171158048\n"
     ]
    },
    {
     "data": {
      "image/png": "[encoded data removed]",
      "text/plain": [
       "<Figure size 864x504 with 1 Axes>"
      ]
     },
     "metadata": {},
     "output_type": "display_data"
    }
   ],
   "source": [
    "boxplot_df(train, 'requester_upvotes_plus_downvotes_at_request', 'requester_received_pizza')"
   ]
  },
  {
   "cell_type": "markdown",
   "metadata": {},
   "source": [
    "### 6. Exploration of text-based features"
   ]
  },
  {
   "cell_type": "markdown",
   "metadata": {},
   "source": [
    "### 6.1 Creating new features from text"
   ]
  },
  {
   "cell_type": "code",
   "execution_count": 155,
   "metadata": {},
   "outputs": [
    {
     "data": {
      "text/html": [
       "<div>\n",
       "<style scoped>\n",
       "    .dataframe tbody tr th:only-of-type {\n",
       "        vertical-align: middle;\n",
       "    }\n",
       "\n",
       "    .dataframe tbody tr th {\n",
       "        vertical-align: top;\n",
       "    }\n",
       "\n",
       "    .dataframe thead th {\n",
       "        text-align: right;\n",
       "    }\n",
       "</style>\n",
       "<table border=\"1\" class=\"dataframe\">\n",
       "  <thead>\n",
       "    <tr style=\"text-align: right;\">\n",
       "      <th></th>\n",
       "      <th>request_text_edit_aware</th>\n",
       "    </tr>\n",
       "  </thead>\n",
       "  <tbody>\n",
       "    <tr>\n",
       "      <th>0</th>\n",
       "      <td>I'm a liberal arts student with zero dollars t...</td>\n",
       "    </tr>\n",
       "    <tr>\n",
       "      <th>1</th>\n",
       "      <td>For the past months since I've been home fro...</td>\n",
       "    </tr>\n",
       "    <tr>\n",
       "      <th>2</th>\n",
       "      <td>Broke, pregnant and hungry. We won't get foods...</td>\n",
       "    </tr>\n",
       "    <tr>\n",
       "      <th>3</th>\n",
       "      <td>our cat always jumps onto the counter when we ...</td>\n",
       "    </tr>\n",
       "    <tr>\n",
       "      <th>4</th>\n",
       "      <td>I am a stay at home mom of two kids i live wit...</td>\n",
       "    </tr>\n",
       "  </tbody>\n",
       "</table>\n",
       "</div>"
      ],
      "text/plain": [
       "                             request_text_edit_aware\n",
       "0  I'm a liberal arts student with zero dollars t...\n",
       "1    For the past months since I've been home fro...\n",
       "2  Broke, pregnant and hungry. We won't get foods...\n",
       "3  our cat always jumps onto the counter when we ...\n",
       "4  I am a stay at home mom of two kids i live wit..."
      ]
     },
     "execution_count": 155,
     "metadata": {},
     "output_type": "execute_result"
    }
   ],
   "source": [
    "request_text_features = train[['request_text_edit_aware']].reset_index(drop=True)\n",
    "request_labels = train[['requester_received_pizza']]\n",
    "request_text_features.head()"
   ]
  },
  {
   "cell_type": "code",
   "execution_count": 156,
   "metadata": {},
   "outputs": [],
   "source": [
    "def lengths_feature(data):\n",
    "    \n",
    "    lengths = [len(t) for t in data['request_text_edit_aware']]\n",
    "    \n",
    "    return np.reshape(np.array(lengths),( len(lengths), 1 ))"
   ]
  },
  {
   "cell_type": "code",
   "execution_count": 157,
   "metadata": {},
   "outputs": [],
   "source": [
    "def num_words_feature(data):\n",
    "        \n",
    "    words = [len(x.split()) for x in data['request_text_edit_aware']]\n",
    "        \n",
    "    return np.reshape(np.array(words),( len(words), 1 ))"
   ]
  },
  {
   "cell_type": "code",
   "execution_count": 158,
   "metadata": {},
   "outputs": [],
   "source": [
    "def num_caps_feature(data):\n",
    "    \n",
    "    caps = [sum(1 for word in x.split() for c in word if c.isupper()) for x in data['request_text_edit_aware']]\n",
    "\n",
    "    return np.reshape(np.array(caps),(len(caps), 1))"
   ]
  },
  {
   "cell_type": "code",
   "execution_count": 159,
   "metadata": {},
   "outputs": [],
   "source": [
    "def caps_vs_lengths_feature(data):\n",
    "    \n",
    "    caps_vs_lengths = [sum(1 for word in x.split() for c in word if c.isupper())/\n",
    "                       len(x) if len(x)>0 else 0 for x in data['request_text_edit_aware']]\n",
    "    return np.reshape(np.array(caps_vs_lengths),(len(caps_vs_lengths), 1))"
   ]
  },
  {
   "cell_type": "code",
   "execution_count": 160,
   "metadata": {},
   "outputs": [],
   "source": [
    "def num_unique_words_feature(data):\n",
    "    \n",
    "    num_unique_words = [len(set(w for w in x.split())) for x in data['request_text_edit_aware']]\n",
    "\n",
    "    return np.reshape(np.array(num_unique_words),(len(num_unique_words), 1))"
   ]
  },
  {
   "cell_type": "code",
   "execution_count": 161,
   "metadata": {},
   "outputs": [],
   "source": [
    "def num_punctuations_feature(data):\n",
    "    \n",
    "    puncs = '!\"#$%&\\'()*+,-./:;<=>?@[\\\\]^_{|}~`'\n",
    "\n",
    "    num_punctuations = [sum(x.count(w) for w in puncs) for x in data['request_text_edit_aware']]\n",
    "\n",
    "    return np.reshape(np.array(num_punctuations),(len(num_punctuations), 1))"
   ]
  },
  {
   "cell_type": "code",
   "execution_count": 162,
   "metadata": {},
   "outputs": [],
   "source": [
    "def requests_with_url(data):\n",
    "    \n",
    "    url_regex = re.compile(r\"(?i)\\b((?:https?://|www\\d{0,3}[.]|[a-z0-9.\\-]+[.][a-z]{2,4}/)(?:[^\\s()<>]+|\\(([^\\s()<>]+|(\\([^\\s()<>]+\\)))*\\))+(?:\\(([^\\s()<>]+|(\\([^\\s()<>]+\\)))*\\)|[^\\s`!()\\[\\]{};:'\\\".,<>?«»“”‘’]))\")\n",
    "\n",
    "    requests_with_url = [1 if len([f[0] for f in re.findall(url_regex,str(x))])>0 else 0 for x in data['request_text_edit_aware']]\n",
    "    \n",
    "    return np.reshape(np.array(requests_with_url),(len(requests_with_url), 1))"
   ]
  },
  {
   "cell_type": "code",
   "execution_count": 163,
   "metadata": {},
   "outputs": [
    {
     "name": "stdout",
     "output_type": "stream",
     "text": [
      "Error found: \n"
     ]
    }
   ],
   "source": [
    "def testTextFeatures(text0, text1):\n",
    "    puncs = '!\"#$%&\\'()*+,-./:;<=>?@[\\\\]^_{|}~`'\n",
    "    url_regex = re.compile(r\"(?i)\\b((?:https?://|www\\d{0,3}[.]|[a-z0-9.\\-]+[.][a-z]{2,4}/)(?:[^\\s()<>]+|\\(([^\\s()<>]+|(\\([^\\s()<>]+\\)))*\\))+(?:\\(([^\\s()<>]+|(\\([^\\s()<>]+\\)))*\\)|[^\\s`!()\\[\\]{};:'\\\".,<>?«»“”‘’]))\")\n",
    "\n",
    "    try:\n",
    "        assert lengths_feature(train)[0][0]==len(text0)\n",
    "        assert lengths_feature(train)[1][0]==len(text1)\n",
    "        \n",
    "        assert num_words_feature(train)[0][0]==len(text0.split())\n",
    "        assert num_words_feature(train)[1][0]==len(text1.split())\n",
    "        \n",
    "        assert num_caps_feature(train)[0][0]==sum([1 for word in text0.split() for c in word if c.isupper()])\n",
    "        assert num_caps_feature(train)[1][0]==sum([1 for word in text1.split() for c in word if c.isupper()])\n",
    "        \n",
    "        assert caps_vs_lengths_feature(train)[0][0]==sum([1 for word in text0.split() for c in word if c.isupper()])/len(text0)\n",
    "        assert caps_vs_lengths_feature(train)[1][0]==sum([1 for word in text1.split() for c in word if c.isupper()])/len(text1)\n",
    "        assert caps_vs_lengths_feature(train)[7][0]==0\n",
    "        \n",
    "        assert num_unique_words_feature(train)[0][0]==len(set(w for w in text0.split()))\n",
    "        assert num_unique_words_feature(train)[1][0]==len(set(w for w in text1.split()))\n",
    "        \n",
    "        assert num_punctuations_feature(train)[0][0]==sum(text0.count(w) for w in puncs)\n",
    "        assert num_punctuations_feature(train)[1][0]==sum(text1.count(w) for w in puncs)\n",
    "        \n",
    "        assert requests_with_url(train)[0][0]==(1 if len(re.findall(url_regex,str(text0)))>0 else 0)\n",
    "        assert requests_with_url(train)[1000][0]==(1 if len(re.findall(url_regex,str(train['request_text_edit_aware'].values[1000])))>0 else 0)\n",
    "        \n",
    "        return \"All tests passed!\"\n",
    "    except AssertionError as error:\n",
    "        print(\"Error found:\", error)\n",
    "testTextFeatures(request_text_features.iloc[0], request_text_features.iloc[1])"
   ]
  },
  {
   "cell_type": "markdown",
   "metadata": {},
   "source": [
    "## 6.2 Adding Request and Text Meta Features to transformed data set"
   ]
  },
  {
   "cell_type": "code",
   "execution_count": 164,
   "metadata": {},
   "outputs": [],
   "source": [
    "def add_additional_features(data, transformed_data):\n",
    "    additional_text_features = np.hstack((lengths_feature(data),\n",
    "                                           num_words_feature(data),\n",
    "                                           num_caps_feature(data),\n",
    "                                           caps_vs_lengths_feature(data),\n",
    "                                           num_unique_words_feature(data),\n",
    "                                           num_punctuations_feature(data),\n",
    "                                           requests_with_url(data),\n",
    "                                           add_request_hour_feature(data),\n",
    "                                           num_random_subreddits_feature(data),\n",
    "                                           num_raop_subreddits_feature(data),\n",
    "                                           num_food_subreddits_feature(data),\n",
    "                                           activity_in_commonly_associated_subreddits(data)))\n",
    "    #print(additional_text_features.shape)\n",
    "    with_additional_text_features = np.concatenate((transformed_data.toarray(), additional_text_features), axis=1)\n",
    "    #print(transformed_data.shape)\n",
    "    #print(with_additional_text_features.shape)\n",
    "    return with_additional_text_features"
   ]
  },
  {
   "cell_type": "code",
   "execution_count": 165,
   "metadata": {},
   "outputs": [
    {
     "ename": "TypeError",
     "evalue": "add_request_hour_feature() missing 2 required positional arguments: 'time_col' and 'interval'",
     "output_type": "error",
     "traceback": [
      "\u001b[0;31m---------------------------------------------------------------------------\u001b[0m",
      "\u001b[0;31mTypeError\u001b[0m                                 Traceback (most recent call last)",
      "\u001b[0;32m<ipython-input-165-67de476152a2>\u001b[0m in \u001b[0;36m<module>\u001b[0;34m\u001b[0m\n\u001b[0;32m----> 1\u001b[0;31m \u001b[0mtrain_with_additional_text_features\u001b[0m \u001b[0;34m=\u001b[0m \u001b[0madd_additional_features\u001b[0m\u001b[0;34m(\u001b[0m\u001b[0mtrain\u001b[0m\u001b[0;34m,\u001b[0m \u001b[0mtrain_with_topics\u001b[0m\u001b[0;34m)\u001b[0m\u001b[0;34m\u001b[0m\u001b[0;34m\u001b[0m\u001b[0m\n\u001b[0m",
      "\u001b[0;32m<ipython-input-164-e6251016f733>\u001b[0m in \u001b[0;36madd_additional_features\u001b[0;34m(data, transformed_data)\u001b[0m\n\u001b[1;32m      7\u001b[0m                                            \u001b[0mnum_punctuations_feature\u001b[0m\u001b[0;34m(\u001b[0m\u001b[0mdata\u001b[0m\u001b[0;34m)\u001b[0m\u001b[0;34m,\u001b[0m\u001b[0;34m\u001b[0m\u001b[0;34m\u001b[0m\u001b[0m\n\u001b[1;32m      8\u001b[0m                                            \u001b[0mrequests_with_url\u001b[0m\u001b[0;34m(\u001b[0m\u001b[0mdata\u001b[0m\u001b[0;34m)\u001b[0m\u001b[0;34m,\u001b[0m\u001b[0;34m\u001b[0m\u001b[0;34m\u001b[0m\u001b[0m\n\u001b[0;32m----> 9\u001b[0;31m                                            \u001b[0madd_request_hour_feature\u001b[0m\u001b[0;34m(\u001b[0m\u001b[0mdata\u001b[0m\u001b[0;34m)\u001b[0m\u001b[0;34m,\u001b[0m\u001b[0;34m\u001b[0m\u001b[0;34m\u001b[0m\u001b[0m\n\u001b[0m\u001b[1;32m     10\u001b[0m                                            \u001b[0mnum_random_subreddits_feature\u001b[0m\u001b[0;34m(\u001b[0m\u001b[0mdata\u001b[0m\u001b[0;34m)\u001b[0m\u001b[0;34m,\u001b[0m\u001b[0;34m\u001b[0m\u001b[0;34m\u001b[0m\u001b[0m\n\u001b[1;32m     11\u001b[0m                                            \u001b[0mnum_raop_subreddits_feature\u001b[0m\u001b[0;34m(\u001b[0m\u001b[0mdata\u001b[0m\u001b[0;34m)\u001b[0m\u001b[0;34m,\u001b[0m\u001b[0;34m\u001b[0m\u001b[0;34m\u001b[0m\u001b[0m\n",
      "\u001b[0;31mTypeError\u001b[0m: add_request_hour_feature() missing 2 required positional arguments: 'time_col' and 'interval'"
     ]
    }
   ],
   "source": [
    "train_with_additional_text_features = add_additional_features(train, train_with_topics)"
   ]
  },
  {
   "cell_type": "code",
   "execution_count": null,
   "metadata": {},
   "outputs": [],
   "source": [
    "train_bigram.shape"
   ]
  },
  {
   "cell_type": "code",
   "execution_count": null,
   "metadata": {},
   "outputs": [],
   "source": [
    "train_with_additional_text_features.shape"
   ]
  },
  {
   "cell_type": "markdown",
   "metadata": {},
   "source": [
    "### 6.2 Feature Preprocessing \n",
    "\n",
    "The first step for text processing is to set up the preprocessing functions. In our preprocessing steps, we are doing the following:\n",
    "\n",
    "1. Coverting the text to lower case\n",
    "2. Removing stopwords\n",
    "3. Removing digits\n",
    "4. Lemmatizing the word tokens"
   ]
  },
  {
   "cell_type": "markdown",
   "metadata": {},
   "source": [
    "### 6.2.1 Creating stopword list\n",
    "\n",
    "Added a couple of custom stopwords that are frequently used in ROAP requests (e.g. piza, request, hey, hi)"
   ]
  },
  {
   "cell_type": "code",
   "execution_count": 167,
   "metadata": {},
   "outputs": [],
   "source": [
    "# stopwords from stopwords-json\n",
    "stopwords_json = {\"en\":[\"a\",\"a's\",\"able\",\"about\",\"above\",\"according\",\"accordingly\",\"across\",\"actually\",\"after\",\"afterwards\",\"again\",\"against\",\"ain't\",\"all\",\"allow\",\"allows\",\"almost\",\"alone\",\"along\",\"already\",\"also\",\"although\",\"always\",\"am\",\"among\",\"amongst\",\"an\",\"and\",\"another\",\"any\",\"anybody\",\"anyhow\",\"anyone\",\"anything\",\"anyway\",\"anyways\",\"anywhere\",\"apart\",\"appear\",\"appreciate\",\"appropriate\",\"are\",\"aren't\",\"around\",\"as\",\"aside\",\"ask\",\"asking\",\"associated\",\"at\",\"available\",\"away\",\"awfully\",\"b\",\"be\",\"became\",\"because\",\"become\",\"becomes\",\"becoming\",\"been\",\"before\",\"beforehand\",\"behind\",\"being\",\"believe\",\"below\",\"beside\",\"besides\",\"best\",\"better\",\"between\",\"beyond\",\"both\",\"brief\",\"but\",\"by\",\"c\",\"c'mon\",\"c's\",\"came\",\"can\",\"can't\",\"cannot\",\"cant\",\"cause\",\"causes\",\"certain\",\"certainly\",\"changes\",\"clearly\",\"co\",\"com\",\"come\",\"comes\",\"concerning\",\"consequently\",\"consider\",\"considering\",\"contain\",\"containing\",\"contains\",\"corresponding\",\"could\",\"couldn't\",\"course\",\"currently\",\"d\",\"definitely\",\"described\",\"despite\",\"did\",\"didn't\",\"different\",\"do\",\"does\",\"doesn't\",\"doing\",\"don't\",\"done\",\"down\",\"downwards\",\"during\",\"e\",\"each\",\"edu\",\"eg\",\"eight\",\"either\",\"else\",\"elsewhere\",\"enough\",\"entirely\",\"especially\",\"et\",\"etc\",\"even\",\"ever\",\"every\",\"everybody\",\"everyone\",\"everything\",\"everywhere\",\"ex\",\"exactly\",\"example\",\"except\",\"f\",\"far\",\"few\",\"fifth\",\"first\",\"five\",\"followed\",\"following\",\"follows\",\"for\",\"former\",\"formerly\",\"forth\",\"four\",\"from\",\"further\",\"furthermore\",\"g\",\"get\",\"gets\",\"getting\",\"given\",\"gives\",\"go\",\"goes\",\"going\",\"gone\",\"got\",\"gotten\",\"greetings\",\"h\",\"had\",\"hadn't\",\"happens\",\"hardly\",\"has\",\"hasn't\",\"have\",\"haven't\",\"having\",\"he\",\"he's\",\"hello\",\"help\",\"hence\",\"her\",\"here\",\"here's\",\"hereafter\",\"hereby\",\"herein\",\"hereupon\",\"hers\",\"herself\",\"hi\",\"him\",\"himself\",\"his\",\"hither\",\"hopefully\",\"how\",\"howbeit\",\"however\",\"i\",\"i'd\",\"i'll\",\"i'm\",\"i've\",\"ie\",\"if\",\"ignored\",\"immediate\",\"in\",\"inasmuch\",\"inc\",\"indeed\",\"indicate\",\"indicated\",\"indicates\",\"inner\",\"insofar\",\"instead\",\"into\",\"inward\",\"is\",\"isn't\",\"it\",\"it'd\",\"it'll\",\"it's\",\"its\",\"itself\",\"j\",\"just\",\"k\",\"keep\",\"keeps\",\"kept\",\"know\",\"known\",\"knows\",\"l\",\"last\",\"lately\",\"later\",\"latter\",\"latterly\",\"least\",\"less\",\"lest\",\"let\",\"let's\",\"like\",\"liked\",\"likely\",\"little\",\"look\",\"looking\",\"looks\",\"ltd\",\"m\",\"mainly\",\"many\",\"may\",\"maybe\",\"me\",\"mean\",\"meanwhile\",\"merely\",\"might\",\"more\",\"moreover\",\"most\",\"mostly\",\"much\",\"must\",\"my\",\"myself\",\"n\",\"name\",\"namely\",\"nd\",\"near\",\"nearly\",\"necessary\",\"need\",\"needs\",\"neither\",\"never\",\"nevertheless\",\"new\",\"next\",\"nine\",\"no\",\"nobody\",\"non\",\"none\",\"noone\",\"nor\",\"normally\",\"not\",\"nothing\",\"novel\",\"now\",\"nowhere\",\"o\",\"obviously\",\"of\",\"off\",\"often\",\"oh\",\"ok\",\"okay\",\"old\",\"on\",\"once\",\"one\",\"ones\",\"only\",\"onto\",\"or\",\"other\",\"others\",\"otherwise\",\"ought\",\"our\",\"ours\",\"ourselves\",\"out\",\"outside\",\"over\",\"overall\",\"own\",\"p\",\"particular\",\"particularly\",\"per\",\"perhaps\",\"placed\",\"please\",\"plus\",\"possible\",\"presumably\",\"probably\",\"provides\",\"q\",\"que\",\"quite\",\"qv\",\"r\",\"rather\",\"rd\",\"re\",\"really\",\"reasonably\",\"regarding\",\"regardless\",\"regards\",\"relatively\",\"respectively\",\"right\",\"s\",\"said\",\"same\",\"saw\",\"say\",\"saying\",\"says\",\"second\",\"secondly\",\"see\",\"seeing\",\"seem\",\"seemed\",\"seeming\",\"seems\",\"seen\",\"self\",\"selves\",\"sensible\",\"sent\",\"serious\",\"seriously\",\"seven\",\"several\",\"shall\",\"she\",\"should\",\"shouldn't\",\"since\",\"six\",\"so\",\"some\",\"somebody\",\"somehow\",\"someone\",\"something\",\"sometime\",\"sometimes\",\"somewhat\",\"somewhere\",\"soon\",\"sorry\",\"specified\",\"specify\",\"specifying\",\"still\",\"sub\",\"such\",\"sup\",\"sure\",\"t\",\"t's\",\"take\",\"taken\",\"tell\",\"tends\",\"th\",\"than\",\"thank\",\"thanks\",\"thanx\",\"that\",\"that's\",\"thats\",\"the\",\"their\",\"theirs\",\"them\",\"themselves\",\"then\",\"thence\",\"there\",\"there's\",\"thereafter\",\"thereby\",\"therefore\",\"therein\",\"theres\",\"thereupon\",\"these\",\"they\",\"they'd\",\"they'll\",\"they're\",\"they've\",\"think\",\"third\",\"this\",\"thorough\",\"thoroughly\",\"those\",\"though\",\"three\",\"through\",\"throughout\",\"thru\",\"thus\",\"to\",\"together\",\"too\",\"took\",\"toward\",\"towards\",\"tried\",\"tries\",\"truly\",\"try\",\"trying\",\"twice\",\"two\",\"u\",\"un\",\"under\",\"unfortunately\",\"unless\",\"unlikely\",\"until\",\"unto\",\"up\",\"upon\",\"us\",\"use\",\"used\",\"useful\",\"uses\",\"using\",\"usually\",\"uucp\",\"v\",\"value\",\"various\",\"very\",\"via\",\"viz\",\"vs\",\"w\",\"want\",\"wants\",\"was\",\"wasn't\",\"way\",\"we\",\"we'd\",\"we'll\",\"we're\",\"we've\",\"welcome\",\"well\",\"went\",\"were\",\"weren't\",\"what\",\"what's\",\"whatever\",\"when\",\"whence\",\"whenever\",\"where\",\"where's\",\"whereafter\",\"whereas\",\"whereby\",\"wherein\",\"whereupon\",\"wherever\",\"whether\",\"which\",\"while\",\"whither\",\"who\",\"who's\",\"whoever\",\"whole\",\"whom\",\"whose\",\"why\",\"will\",\"willing\",\"wish\",\"with\",\"within\",\"without\",\"won't\",\"wonder\",\"would\",\"wouldn't\",\"x\",\"y\",\"yes\",\"yet\",\"you\",\"you'd\",\"you'll\",\"you're\",\"you've\",\"your\",\"yours\",\"yourself\",\"yourselves\",\"z\",\"zero\"]}\n",
    "stopwords_json_en = set(stopwords_json['en'])\n",
    "# adding some of our own stop words to NLTK's stopword list\n",
    "stopwords_nltk_en = set(stopwords.words('english') + ['though','pizza', 'request', 'hey', 'hi'])\n",
    "# create stop word list for punctuation\n",
    "stopwords_punct = set(punctuation)\n",
    "# combine the three stopwords lists\n",
    "stoplist_combined = set.union(stopwords_json_en, stopwords_nltk_en, stopwords_punct)"
   ]
  },
  {
   "cell_type": "markdown",
   "metadata": {},
   "source": [
    "### 6.2.2 Create Text Pre-processor\n",
    "Added the ability to replace contractions with their proper form and remove URLS to the text preprocessor"
   ]
  },
  {
   "cell_type": "code",
   "execution_count": 168,
   "metadata": {},
   "outputs": [],
   "source": [
    "wnl = WordNetLemmatizer()\n",
    "\n",
    "def penn2morphy(penntag):\n",
    "    \"\"\" Converts Penn Treebank tags to WordNet. \"\"\"\n",
    "    morphy_tag = {'NN':'n', 'JJ':'a',\n",
    "                  'VB':'v', 'RB':'r'}\n",
    "    try:\n",
    "        return morphy_tag[penntag[:2]]\n",
    "    except:\n",
    "        return 'n' \n",
    "    \n",
    "def lemmatize_sent(text): \n",
    "    # Text input is string, returns lowercased strings.\n",
    "    return [wnl.lemmatize(word.lower(), pos=penn2morphy(tag)) \n",
    "            for word, tag in pos_tag(word_tokenize(text))]\n",
    "\n",
    "def preprocess_text_tfid(text):\n",
    "    # Input: str, i.e. document/sentence\n",
    "    # Output: str , i.e. list of lemmas\n",
    "    # remove URLs\n",
    "    text = re.sub(r'http\\S+', '', text)\n",
    "    # remove email addresses\n",
    "    text = re.sub('\\S+@\\S+', '', text)\n",
    "    # convert contractions to their full formm\n",
    "    text = contractions.fix(text)\n",
    "    # remove special characters after lemmatizing words\n",
    "    processed_list = [re.sub('[^A-Za-z0-9]+', '', word) for word in lemmatize_sent(text)\n",
    "              # remove words is they're on the stop words list or is a digit\n",
    "            if word not in stoplist_combined\n",
    "            and not word.isdigit()]\n",
    "    # turn list of words into a string to that the output is the same format as the input\n",
    "    return ' '.join(processed_list) \n",
    "\n",
    "def preprocess_text_pmi(text):\n",
    "    # Input: str, i.e. document/sentence\n",
    "    # Output: list(str) , i.e. list of lemmas\n",
    "    return [word for word in lemmatize_sent(text) \n",
    "            if word not in stoplist_combined\n",
    "            and not word.isdigit()]\n",
    "\n",
    "def get_topics(train_text_data, pre_processor, topic_model, vectorizer, ngram_num, num_topics):\n",
    "    \"\"\"Creates word/ngram topics for a set of data\n",
    "    Input: \n",
    "      train_text_data - text field within the training data \n",
    "      pre-processor - pre-processor of choice that cleans the text data \n",
    "      topic_model - fitted model like NMF or LDA\n",
    "      vectorizer - fitted and transformed data like CV and TFIDF\n",
    "      ngram_num - size of word ngrams \n",
    "      num_topics - how many topics to create from the text data\n",
    "    Output: \n",
    "      Returns train_vectorizer, vectorized_data, train_topic_model, train_topic_output\n",
    "    \"\"\"\n",
    "    if vectorizer == 'TFIDF':\n",
    "        train_vectorizer = TfidfVectorizer(analyzer = 'word', preprocessor = pre_processor, ngram_range = (ngram_num, ngram_num), min_df = 2, max_df = 0.95)\n",
    "    if vectorizer == 'Count':\n",
    "        train_vectorizer = CountVectorizer(analyzer = 'word', preprocessor = pre_processor, ngram_range = (ngram_num, ngram_num), min_df = 2, max_df = 0.95)\n",
    "    vectorized_data = train_vectorizer.fit_transform(train_text_data)\n",
    "    \n",
    "    if topic_model == 'LDA':\n",
    "        train_topic_model = LatentDirichletAllocation(n_components = num_topics).fit(vectorized_data)\n",
    "    if topic_model == 'NMF':\n",
    "        train_topic_model = NMF(n_components = num_topics, alpha = .1, l1_ratio = 0.5).fit(vectorized_data)\n",
    "    train_topic_output = train_topic_model.fit_transform(vectorized_data)  \n",
    "    return train_vectorizer, vectorized_data, train_topic_model, train_topic_output\n",
    "    \n",
    "\n",
    "def print_top_words(topic_model, vectorizer, words_in_topic):\n",
    "    \"\"\"Prints the top words/ngrams for each topic\n",
    "    Input: \n",
    "      topic_model - fitted model like NMF or LDA\n",
    "      vectorizer - fitted and transformed data like CV and TFIDF\n",
    "      n_top_words - how many words to print for each topic\n",
    "    Output: \n",
    "      Print of the top words/ngrams for each topic\n",
    "    \"\"\"\n",
    "    for topic_idx, topic in enumerate(topic_model.components_):\n",
    "        message = \"Topic #%d: \" % topic_idx\n",
    "        message += \", \".join([vectorizer.get_feature_names()[i]\n",
    "                             for i in topic.argsort()[:-words_in_topic - 1:-1]])\n",
    "        print(message)\n",
    "    print()\n",
    "\n",
    "    \n",
    "def topic_df(topic_model, vectorizer, words_in_topic):\n",
    "    \"\"\"Creates dataframe of topics (columns) and top words/ngrams (rows)\n",
    "    Input: \n",
    "      topic_model - fitted model like NMF or LDA\n",
    "      vectorizer - fitted and transformed data like CV and TFIDF\n",
    "      n_words - how many words/ngrams for each topic\n",
    "    Output: \n",
    "      Returns dataframe\n",
    "    \"\"\"\n",
    "    keywords = np.array(vectorizer.get_feature_names())\n",
    "    topic_keywords = []\n",
    "    for topic_weights in topic_model.components_:\n",
    "        top_keyword_locs = (-topic_weights).argsort()[:words_in_topic]\n",
    "        topic_keywords.append(keywords.take(top_keyword_locs))\n",
    "    return pd.DataFrame(topic_keywords)"
   ]
  },
  {
   "cell_type": "markdown",
   "metadata": {},
   "source": [
    "### 6.3 Using TFIDFVectorizer for Bigrams"
   ]
  },
  {
   "cell_type": "code",
   "execution_count": 169,
   "metadata": {},
   "outputs": [],
   "source": [
    "vectorizer, vectorized_data, topic_model, topic_model_output = get_topics(train['request_text_edit_aware'], preprocess_text_tfid, \"NMF\", \"TFIDF\", 2, 7)\n",
    "# vectorizer, vectorized_data, topic_model, topic_model_output = get_topics(short_train_df, preprocess_text, \"LDA\", \"TFIDF\", 2, 7)"
   ]
  },
  {
   "cell_type": "code",
   "execution_count": 170,
   "metadata": {},
   "outputs": [
    {
     "data": {
      "text/html": [
       "<div>\n",
       "<style scoped>\n",
       "    .dataframe tbody tr th:only-of-type {\n",
       "        vertical-align: middle;\n",
       "    }\n",
       "\n",
       "    .dataframe tbody tr th {\n",
       "        vertical-align: top;\n",
       "    }\n",
       "\n",
       "    .dataframe thead th {\n",
       "        text-align: right;\n",
       "    }\n",
       "</style>\n",
       "<table border=\"1\" class=\"dataframe\">\n",
       "  <thead>\n",
       "    <tr style=\"text-align: right;\">\n",
       "      <th></th>\n",
       "      <th>0</th>\n",
       "      <th>1</th>\n",
       "      <th>2</th>\n",
       "      <th>3</th>\n",
       "      <th>4</th>\n",
       "    </tr>\n",
       "  </thead>\n",
       "  <tbody>\n",
       "    <tr>\n",
       "      <th>0</th>\n",
       "      <td>pay forward</td>\n",
       "      <td>promise pay</td>\n",
       "      <td>forward pay</td>\n",
       "      <td>gladly pay</td>\n",
       "      <td>week pay</td>\n",
       "    </tr>\n",
       "    <tr>\n",
       "      <th>1</th>\n",
       "      <td>college student</td>\n",
       "      <td>broke college</td>\n",
       "      <td>break college</td>\n",
       "      <td>student pay</td>\n",
       "      <td>hungry college</td>\n",
       "    </tr>\n",
       "    <tr>\n",
       "      <th>2</th>\n",
       "      <td>return favor</td>\n",
       "      <td>gladly return</td>\n",
       "      <td>love return</td>\n",
       "      <td>favor paycheck</td>\n",
       "      <td>favor pay</td>\n",
       "    </tr>\n",
       "    <tr>\n",
       "      <th>3</th>\n",
       "      <td>sob story</td>\n",
       "      <td>real sob</td>\n",
       "      <td>give sob</td>\n",
       "      <td>story bullshit</td>\n",
       "      <td>story hungry</td>\n",
       "    </tr>\n",
       "    <tr>\n",
       "      <th>4</th>\n",
       "      <td>lose job</td>\n",
       "      <td>recently lose</td>\n",
       "      <td>job week</td>\n",
       "      <td>job couple</td>\n",
       "      <td>job month</td>\n",
       "    </tr>\n",
       "    <tr>\n",
       "      <th>5</th>\n",
       "      <td>papa john</td>\n",
       "      <td>gift card</td>\n",
       "      <td>hut domino</td>\n",
       "      <td>domino papa</td>\n",
       "      <td>buy free</td>\n",
       "    </tr>\n",
       "    <tr>\n",
       "      <th>6</th>\n",
       "      <td>bank account</td>\n",
       "      <td>cent bank</td>\n",
       "      <td>empty bank</td>\n",
       "      <td>account balance</td>\n",
       "      <td>dollar bank</td>\n",
       "    </tr>\n",
       "  </tbody>\n",
       "</table>\n",
       "</div>"
      ],
      "text/plain": [
       "                 0              1              2                3  \\\n",
       "0      pay forward    promise pay    forward pay       gladly pay   \n",
       "1  college student  broke college  break college      student pay   \n",
       "2     return favor  gladly return    love return   favor paycheck   \n",
       "3        sob story       real sob       give sob   story bullshit   \n",
       "4         lose job  recently lose       job week       job couple   \n",
       "5        papa john      gift card     hut domino      domino papa   \n",
       "6     bank account      cent bank     empty bank  account balance   \n",
       "\n",
       "                4  \n",
       "0        week pay  \n",
       "1  hungry college  \n",
       "2       favor pay  \n",
       "3    story hungry  \n",
       "4       job month  \n",
       "5        buy free  \n",
       "6     dollar bank  "
      ]
     },
     "execution_count": 170,
     "metadata": {},
     "output_type": "execute_result"
    }
   ],
   "source": [
    "df_topic_keywords = topic_df(topic_model, vectorizer, 5)   \n",
    "df_topic_keywords"
   ]
  },
  {
   "cell_type": "code",
   "execution_count": 171,
   "metadata": {},
   "outputs": [],
   "source": [
    "# Manually create/clean up topics\n",
    "def add_text_topics_feature (data, preprocesser, topic_model, vectorizer, ngram_size, num_topics, num_ngrams_per_topic):\n",
    "    vectorizer, vectorized_data, topic_model, topic_model_output = get_topics(data['request_text_edit_aware'], preprocesser,  topic_model, vectorizer, ngram_size, num_topics)\n",
    "    df_topic_keywords = topic_df(topic_model, vectorizer, num_ngrams_per_topic)   \n",
    "    df_topic_keywords.columns = ['Bigram '+str(i) for i in range(df_topic_keywords.shape[1])]\n",
    "    df_topic_keywords.index = ['Topic '+str(i) for i in range(df_topic_keywords.shape[0])]\n",
    "\n",
    "    topics_names_list = ['promise_to_pay', 'college_student', 'asking_for_favor', 'sad_story',\n",
    "                    'lost_job', 'pizza_company', 'bank_account']\n",
    "    df_topic_keywords['topic_name'] = topics_names_list\n",
    "    df_topic_keywords.set_index('topic_name', inplace=True)\n",
    "    df_topic_keywords.T\n",
    "\n",
    "    # column names\n",
    "    topic_names_index = df_topic_keywords.T.columns\n",
    "    # index names\n",
    "    request_num = [\"Request\" + str(i) for i in range(len(train))]\n",
    "\n",
    "    # Make dataframe of probabilities\n",
    "    topic_probabilities = pd.DataFrame(np.round(topic_model_output, 4), columns=topic_names_index, index=data.index)\n",
    "\n",
    "    # Get dominant topic for each document\n",
    "    dominant_topic = np.argmax(topic_probabilities.values, axis=1)\n",
    "    topic_probabilities['dominant_topic'] = dominant_topic\n",
    "\n",
    "    # merge with original df containing test data\n",
    "    topic_probabilities.reset_index(inplace=True)\n",
    "    data_with_topics= pd.merge(data, topic_probabilities, how = 'left', left_index=True, right_index=True)\n",
    "    data_with_topics.drop('index', axis=1, inplace=True)\n",
    "    \n",
    "    return data_with_topics\n"
   ]
  },
  {
   "cell_type": "code",
   "execution_count": 245,
   "metadata": {},
   "outputs": [],
   "source": [
    "# Define function to predict topic for a given new question.\n",
    "def get_new_topic_feature(data, vectorizer, topic_model):\n",
    "    # transform new data with vectorizer\n",
    "    data_transformed = vectorizer.transform(data['request_text_edit_aware'])\n",
    "\n",
    "    # MNF Transform\n",
    "    topic_probability_scores = topic_model.transform(data_transformed)\n",
    "    \n",
    "    # transform to DF\n",
    "    topic_probability_scores = pd.DataFrame(topic_probability_scores, \n",
    "                                            columns = ['promise_to_pay', 'college_student', 'asking_for_favor', 'sad_story',\n",
    "                    'lost_job', 'pizza_company', 'bank_account'],\n",
    "                                            index = data.index)\n",
    "    # Get dominant topic for each document\n",
    "    dominant_topic = np.argmax(topic_probability_scores.values, axis=1)\n",
    "    topic_probability_scores['dominant_topic'] = dominant_topic\n",
    "    \n",
    "    return pd.merge(data, topic_probability_scores, how = 'left', left_index=True, right_index=True)\n"
   ]
  },
  {
   "cell_type": "code",
   "execution_count": null,
   "metadata": {},
   "outputs": [],
   "source": [
    "# # column names\n",
    "# topic_names_index = df_topic_keywords.T.columns\n",
    "# # index names\n",
    "# request_num = [\"Request\" + str(i) for i in range(len(train))]\n",
    "\n",
    "# # Make dataframe of probabilities\n",
    "# topic_probabilities = pd.DataFrame(np.round(topic_model_output, 4), columns=topic_names_index, index=request_num)\n",
    "\n",
    "\n",
    "# # merge with original df containing test data\n",
    "# topic_probabilities.reset_index(inplace=True)\n",
    "# train_with_topics= pd.merge(train, topic_probabilities, how = 'left', left_index=True, right_index=True)\n",
    "# train_with_topics.drop('index', axis=1, inplace=True)"
   ]
  },
  {
   "cell_type": "code",
   "execution_count": 184,
   "metadata": {},
   "outputs": [
    {
     "data": {
      "text/html": [
       "<div>\n",
       "<style scoped>\n",
       "    .dataframe tbody tr th:only-of-type {\n",
       "        vertical-align: middle;\n",
       "    }\n",
       "\n",
       "    .dataframe tbody tr th {\n",
       "        vertical-align: top;\n",
       "    }\n",
       "\n",
       "    .dataframe thead th {\n",
       "        text-align: right;\n",
       "    }\n",
       "</style>\n",
       "<table border=\"1\" class=\"dataframe\">\n",
       "  <thead>\n",
       "    <tr style=\"text-align: right;\">\n",
       "      <th></th>\n",
       "      <th>requester_received_pizza</th>\n",
       "      <th>request_title</th>\n",
       "      <th>request_text_edit_aware</th>\n",
       "      <th>requester_number_of_posts_on_raop_at_request</th>\n",
       "      <th>requester_number_of_subreddits_at_request</th>\n",
       "      <th>unix_timestamp_of_request</th>\n",
       "      <th>requester_account_age_in_days_at_request</th>\n",
       "      <th>requester_subreddits_at_request</th>\n",
       "      <th>requester_upvotes_minus_downvotes_at_request</th>\n",
       "      <th>requester_upvotes_plus_downvotes_at_request</th>\n",
       "      <th>...</th>\n",
       "      <th>timestamp_converted</th>\n",
       "      <th>hour_bin_4</th>\n",
       "      <th>promise_to_pay</th>\n",
       "      <th>college_student</th>\n",
       "      <th>asking_for_favor</th>\n",
       "      <th>sad_story</th>\n",
       "      <th>lost_job</th>\n",
       "      <th>pizza_company</th>\n",
       "      <th>bank_account</th>\n",
       "      <th>dominant_topic</th>\n",
       "    </tr>\n",
       "  </thead>\n",
       "  <tbody>\n",
       "    <tr>\n",
       "      <th>1575</th>\n",
       "      <td>False</td>\n",
       "      <td>[REQUEST] Ottawa Canada poor unemployed  hungr...</td>\n",
       "      <td>I'm a liberal arts student with zero dollars t...</td>\n",
       "      <td>0</td>\n",
       "      <td>1</td>\n",
       "      <td>1.329752e+09</td>\n",
       "      <td>0.000000</td>\n",
       "      <td>[Random_Acts_Of_Pizza]</td>\n",
       "      <td>-1</td>\n",
       "      <td>1</td>\n",
       "      <td>...</td>\n",
       "      <td>2012-02-20 15:31:45</td>\n",
       "      <td>(11.5, 15.333]</td>\n",
       "      <td>0.0</td>\n",
       "      <td>0.0</td>\n",
       "      <td>0.0</td>\n",
       "      <td>0.0</td>\n",
       "      <td>0.0000</td>\n",
       "      <td>0.0</td>\n",
       "      <td>0.0</td>\n",
       "      <td>0.0</td>\n",
       "    </tr>\n",
       "    <tr>\n",
       "      <th>1614</th>\n",
       "      <td>True</td>\n",
       "      <td>[Request] For my brother and I (south FL)</td>\n",
       "      <td>For the past months since I've been home fro...</td>\n",
       "      <td>0</td>\n",
       "      <td>31</td>\n",
       "      <td>1.310158e+09</td>\n",
       "      <td>525.780440</td>\n",
       "      <td>[4chan, AskReddit, DMA, Filevo, FreewareForRed...</td>\n",
       "      <td>1294</td>\n",
       "      <td>2276</td>\n",
       "      <td>...</td>\n",
       "      <td>2011-07-08 20:43:01</td>\n",
       "      <td>(19.167, 23.0]</td>\n",
       "      <td>0.0</td>\n",
       "      <td>0.0</td>\n",
       "      <td>0.0</td>\n",
       "      <td>0.0</td>\n",
       "      <td>0.0000</td>\n",
       "      <td>0.0</td>\n",
       "      <td>0.0</td>\n",
       "      <td>0.0</td>\n",
       "    </tr>\n",
       "    <tr>\n",
       "      <th>1487</th>\n",
       "      <td>False</td>\n",
       "      <td>[Request] Broke and hungry - Oregon</td>\n",
       "      <td>Broke, pregnant and hungry. We won't get foods...</td>\n",
       "      <td>0</td>\n",
       "      <td>29</td>\n",
       "      <td>1.372539e+09</td>\n",
       "      <td>374.880625</td>\n",
       "      <td>[AskReddit, Assistance, BabyBumps, BabyExchang...</td>\n",
       "      <td>1369</td>\n",
       "      <td>2387</td>\n",
       "      <td>...</td>\n",
       "      <td>2013-06-29 20:48:24</td>\n",
       "      <td>(19.167, 23.0]</td>\n",
       "      <td>0.0</td>\n",
       "      <td>0.0</td>\n",
       "      <td>0.0</td>\n",
       "      <td>0.0</td>\n",
       "      <td>0.0000</td>\n",
       "      <td>0.0</td>\n",
       "      <td>0.0</td>\n",
       "      <td>0.0</td>\n",
       "    </tr>\n",
       "    <tr>\n",
       "      <th>188</th>\n",
       "      <td>False</td>\n",
       "      <td>[request] Our cat decided he was going to lay ...</td>\n",
       "      <td>our cat always jumps onto the counter when we ...</td>\n",
       "      <td>0</td>\n",
       "      <td>11</td>\n",
       "      <td>1.366735e+09</td>\n",
       "      <td>41.885185</td>\n",
       "      <td>[ABraThatFits, AskReddit, BustyPetite, Monster...</td>\n",
       "      <td>1426</td>\n",
       "      <td>2666</td>\n",
       "      <td>...</td>\n",
       "      <td>2013-04-23 16:33:15</td>\n",
       "      <td>(15.333, 19.167]</td>\n",
       "      <td>0.0</td>\n",
       "      <td>0.0</td>\n",
       "      <td>0.0</td>\n",
       "      <td>0.0</td>\n",
       "      <td>0.0000</td>\n",
       "      <td>0.0</td>\n",
       "      <td>0.0</td>\n",
       "      <td>0.0</td>\n",
       "    </tr>\n",
       "    <tr>\n",
       "      <th>12</th>\n",
       "      <td>False</td>\n",
       "      <td>[REQUEST] Georgia, USA Please help me family o...</td>\n",
       "      <td>I am a stay at home mom of two kids i live wit...</td>\n",
       "      <td>0</td>\n",
       "      <td>0</td>\n",
       "      <td>1.311833e+09</td>\n",
       "      <td>0.000000</td>\n",
       "      <td>[]</td>\n",
       "      <td>0</td>\n",
       "      <td>0</td>\n",
       "      <td>...</td>\n",
       "      <td>2011-07-28 06:03:53</td>\n",
       "      <td>(3.833, 7.667]</td>\n",
       "      <td>0.0</td>\n",
       "      <td>0.0</td>\n",
       "      <td>0.0</td>\n",
       "      <td>0.0</td>\n",
       "      <td>0.0593</td>\n",
       "      <td>0.0</td>\n",
       "      <td>0.0</td>\n",
       "      <td>4.0</td>\n",
       "    </tr>\n",
       "  </tbody>\n",
       "</table>\n",
       "<p>5 rows × 21 columns</p>\n",
       "</div>"
      ],
      "text/plain": [
       "      requester_received_pizza  \\\n",
       "1575                     False   \n",
       "1614                      True   \n",
       "1487                     False   \n",
       "188                      False   \n",
       "12                       False   \n",
       "\n",
       "                                          request_title  \\\n",
       "1575  [REQUEST] Ottawa Canada poor unemployed  hungr...   \n",
       "1614          [Request] For my brother and I (south FL)   \n",
       "1487                [Request] Broke and hungry - Oregon   \n",
       "188   [request] Our cat decided he was going to lay ...   \n",
       "12    [REQUEST] Georgia, USA Please help me family o...   \n",
       "\n",
       "                                request_text_edit_aware  \\\n",
       "1575  I'm a liberal arts student with zero dollars t...   \n",
       "1614    For the past months since I've been home fro...   \n",
       "1487  Broke, pregnant and hungry. We won't get foods...   \n",
       "188   our cat always jumps onto the counter when we ...   \n",
       "12    I am a stay at home mom of two kids i live wit...   \n",
       "\n",
       "      requester_number_of_posts_on_raop_at_request  \\\n",
       "1575                                             0   \n",
       "1614                                             0   \n",
       "1487                                             0   \n",
       "188                                              0   \n",
       "12                                               0   \n",
       "\n",
       "      requester_number_of_subreddits_at_request  unix_timestamp_of_request  \\\n",
       "1575                                          1               1.329752e+09   \n",
       "1614                                         31               1.310158e+09   \n",
       "1487                                         29               1.372539e+09   \n",
       "188                                          11               1.366735e+09   \n",
       "12                                            0               1.311833e+09   \n",
       "\n",
       "      requester_account_age_in_days_at_request  \\\n",
       "1575                                  0.000000   \n",
       "1614                                525.780440   \n",
       "1487                                374.880625   \n",
       "188                                  41.885185   \n",
       "12                                    0.000000   \n",
       "\n",
       "                        requester_subreddits_at_request  \\\n",
       "1575                             [Random_Acts_Of_Pizza]   \n",
       "1614  [4chan, AskReddit, DMA, Filevo, FreewareForRed...   \n",
       "1487  [AskReddit, Assistance, BabyBumps, BabyExchang...   \n",
       "188   [ABraThatFits, AskReddit, BustyPetite, Monster...   \n",
       "12                                                   []   \n",
       "\n",
       "      requester_upvotes_minus_downvotes_at_request  \\\n",
       "1575                                            -1   \n",
       "1614                                          1294   \n",
       "1487                                          1369   \n",
       "188                                           1426   \n",
       "12                                               0   \n",
       "\n",
       "      requester_upvotes_plus_downvotes_at_request  ... timestamp_converted  \\\n",
       "1575                                            1  ... 2012-02-20 15:31:45   \n",
       "1614                                         2276  ... 2011-07-08 20:43:01   \n",
       "1487                                         2387  ... 2013-06-29 20:48:24   \n",
       "188                                          2666  ... 2013-04-23 16:33:15   \n",
       "12                                              0  ... 2011-07-28 06:03:53   \n",
       "\n",
       "            hour_bin_4 promise_to_pay  college_student  asking_for_favor  \\\n",
       "1575    (11.5, 15.333]            0.0              0.0               0.0   \n",
       "1614    (19.167, 23.0]            0.0              0.0               0.0   \n",
       "1487    (19.167, 23.0]            0.0              0.0               0.0   \n",
       "188   (15.333, 19.167]            0.0              0.0               0.0   \n",
       "12      (3.833, 7.667]            0.0              0.0               0.0   \n",
       "\n",
       "      sad_story  lost_job  pizza_company  bank_account  dominant_topic  \n",
       "1575        0.0    0.0000            0.0           0.0             0.0  \n",
       "1614        0.0    0.0000            0.0           0.0             0.0  \n",
       "1487        0.0    0.0000            0.0           0.0             0.0  \n",
       "188         0.0    0.0000            0.0           0.0             0.0  \n",
       "12          0.0    0.0593            0.0           0.0             4.0  \n",
       "\n",
       "[5 rows x 21 columns]"
      ]
     },
     "execution_count": 184,
     "metadata": {},
     "output_type": "execute_result"
    }
   ],
   "source": [
    "train = add_text_topics_feature (train, preprocess_text_tfid, \"NMF\", \"TFIDF\", 2, 7, 5)\n",
    "train[0:5]"
   ]
  },
  {
   "cell_type": "code",
   "execution_count": 246,
   "metadata": {},
   "outputs": [
    {
     "data": {
      "text/html": [
       "<div>\n",
       "<style scoped>\n",
       "    .dataframe tbody tr th:only-of-type {\n",
       "        vertical-align: middle;\n",
       "    }\n",
       "\n",
       "    .dataframe tbody tr th {\n",
       "        vertical-align: top;\n",
       "    }\n",
       "\n",
       "    .dataframe thead th {\n",
       "        text-align: right;\n",
       "    }\n",
       "</style>\n",
       "<table border=\"1\" class=\"dataframe\">\n",
       "  <thead>\n",
       "    <tr style=\"text-align: right;\">\n",
       "      <th></th>\n",
       "      <th>requester_received_pizza</th>\n",
       "      <th>request_title</th>\n",
       "      <th>request_text_edit_aware</th>\n",
       "      <th>requester_number_of_posts_on_raop_at_request</th>\n",
       "      <th>requester_number_of_subreddits_at_request</th>\n",
       "      <th>unix_timestamp_of_request</th>\n",
       "      <th>requester_account_age_in_days_at_request</th>\n",
       "      <th>requester_subreddits_at_request</th>\n",
       "      <th>requester_upvotes_minus_downvotes_at_request</th>\n",
       "      <th>requester_upvotes_plus_downvotes_at_request</th>\n",
       "      <th>...</th>\n",
       "      <th>timestamp_converted</th>\n",
       "      <th>hour_bin_4</th>\n",
       "      <th>promise_to_pay</th>\n",
       "      <th>college_student</th>\n",
       "      <th>asking_for_favor</th>\n",
       "      <th>sad_story</th>\n",
       "      <th>lost_job</th>\n",
       "      <th>pizza_company</th>\n",
       "      <th>bank_account</th>\n",
       "      <th>dominant_topic</th>\n",
       "    </tr>\n",
       "  </thead>\n",
       "  <tbody>\n",
       "    <tr>\n",
       "      <th>3138</th>\n",
       "      <td>False</td>\n",
       "      <td>[Request] (US) 9 months pregnant and really, r...</td>\n",
       "      <td>I'm 9 months pregnant, very tired, and very un...</td>\n",
       "      <td>0</td>\n",
       "      <td>1</td>\n",
       "      <td>1.330387e+09</td>\n",
       "      <td>0.000000</td>\n",
       "      <td>[Random_Acts_Of_Pizza]</td>\n",
       "      <td>3</td>\n",
       "      <td>3</td>\n",
       "      <td>...</td>\n",
       "      <td>2012-02-28 00:01:41</td>\n",
       "      <td>(-0.023, 3.833]</td>\n",
       "      <td>0.000000</td>\n",
       "      <td>0.0</td>\n",
       "      <td>0.0</td>\n",
       "      <td>0.0</td>\n",
       "      <td>0.0</td>\n",
       "      <td>0.0</td>\n",
       "      <td>0.0</td>\n",
       "      <td>0</td>\n",
       "    </tr>\n",
       "    <tr>\n",
       "      <th>149</th>\n",
       "      <td>True</td>\n",
       "      <td>[Request] Old throwaway account, embarrassed t...</td>\n",
       "      <td>Could kill for a Pizza... i've spent all day d...</td>\n",
       "      <td>0</td>\n",
       "      <td>2</td>\n",
       "      <td>1.309535e+09</td>\n",
       "      <td>669.520532</td>\n",
       "      <td>[AskReddit, trees]</td>\n",
       "      <td>21</td>\n",
       "      <td>43</td>\n",
       "      <td>...</td>\n",
       "      <td>2011-07-01 15:46:47</td>\n",
       "      <td>(11.5, 15.333]</td>\n",
       "      <td>0.000000</td>\n",
       "      <td>0.0</td>\n",
       "      <td>0.0</td>\n",
       "      <td>0.0</td>\n",
       "      <td>0.0</td>\n",
       "      <td>0.0</td>\n",
       "      <td>0.0</td>\n",
       "      <td>0</td>\n",
       "    </tr>\n",
       "    <tr>\n",
       "      <th>2023</th>\n",
       "      <td>True</td>\n",
       "      <td>[Request] Pizza for my friend just out of surgery</td>\n",
       "      <td>My friend has a foot condition that he was bor...</td>\n",
       "      <td>0</td>\n",
       "      <td>18</td>\n",
       "      <td>1.336846e+09</td>\n",
       "      <td>68.818877</td>\n",
       "      <td>[AdviceAnimals, AskReddit, LadyBoners, Random_...</td>\n",
       "      <td>874</td>\n",
       "      <td>1232</td>\n",
       "      <td>...</td>\n",
       "      <td>2012-05-12 18:08:44</td>\n",
       "      <td>(15.333, 19.167]</td>\n",
       "      <td>0.000000</td>\n",
       "      <td>0.0</td>\n",
       "      <td>0.0</td>\n",
       "      <td>0.0</td>\n",
       "      <td>0.0</td>\n",
       "      <td>0.0</td>\n",
       "      <td>0.0</td>\n",
       "      <td>0</td>\n",
       "    </tr>\n",
       "    <tr>\n",
       "      <th>2446</th>\n",
       "      <td>False</td>\n",
       "      <td>[REQUEST] Rainy day blues. Cold socks. Empty S...</td>\n",
       "      <td>It poured rain her this morning. Some asshole ...</td>\n",
       "      <td>0</td>\n",
       "      <td>40</td>\n",
       "      <td>1.365814e+09</td>\n",
       "      <td>346.229155</td>\n",
       "      <td>[AdviceAnimals, AskReddit, Fitness, IAmA, Musi...</td>\n",
       "      <td>1494</td>\n",
       "      <td>2442</td>\n",
       "      <td>...</td>\n",
       "      <td>2013-04-13 00:38:55</td>\n",
       "      <td>(-0.023, 3.833]</td>\n",
       "      <td>0.000000</td>\n",
       "      <td>0.0</td>\n",
       "      <td>0.0</td>\n",
       "      <td>0.0</td>\n",
       "      <td>0.0</td>\n",
       "      <td>0.0</td>\n",
       "      <td>0.0</td>\n",
       "      <td>0</td>\n",
       "    </tr>\n",
       "    <tr>\n",
       "      <th>3201</th>\n",
       "      <td>False</td>\n",
       "      <td>(request) Been up all night crying, screaming,...</td>\n",
       "      <td>I'm not new to Reddit and I'm not from Jackson...</td>\n",
       "      <td>0</td>\n",
       "      <td>0</td>\n",
       "      <td>1.319975e+09</td>\n",
       "      <td>0.000000</td>\n",
       "      <td>[]</td>\n",
       "      <td>0</td>\n",
       "      <td>0</td>\n",
       "      <td>...</td>\n",
       "      <td>2011-10-30 11:43:44</td>\n",
       "      <td>(7.667, 11.5]</td>\n",
       "      <td>0.020695</td>\n",
       "      <td>0.0</td>\n",
       "      <td>0.0</td>\n",
       "      <td>0.0</td>\n",
       "      <td>0.0</td>\n",
       "      <td>0.0</td>\n",
       "      <td>0.0</td>\n",
       "      <td>0</td>\n",
       "    </tr>\n",
       "  </tbody>\n",
       "</table>\n",
       "<p>5 rows × 21 columns</p>\n",
       "</div>"
      ],
      "text/plain": [
       "      requester_received_pizza  \\\n",
       "3138                     False   \n",
       "149                       True   \n",
       "2023                      True   \n",
       "2446                     False   \n",
       "3201                     False   \n",
       "\n",
       "                                          request_title  \\\n",
       "3138  [Request] (US) 9 months pregnant and really, r...   \n",
       "149   [Request] Old throwaway account, embarrassed t...   \n",
       "2023  [Request] Pizza for my friend just out of surgery   \n",
       "2446  [REQUEST] Rainy day blues. Cold socks. Empty S...   \n",
       "3201  (request) Been up all night crying, screaming,...   \n",
       "\n",
       "                                request_text_edit_aware  \\\n",
       "3138  I'm 9 months pregnant, very tired, and very un...   \n",
       "149   Could kill for a Pizza... i've spent all day d...   \n",
       "2023  My friend has a foot condition that he was bor...   \n",
       "2446  It poured rain her this morning. Some asshole ...   \n",
       "3201  I'm not new to Reddit and I'm not from Jackson...   \n",
       "\n",
       "      requester_number_of_posts_on_raop_at_request  \\\n",
       "3138                                             0   \n",
       "149                                              0   \n",
       "2023                                             0   \n",
       "2446                                             0   \n",
       "3201                                             0   \n",
       "\n",
       "      requester_number_of_subreddits_at_request  unix_timestamp_of_request  \\\n",
       "3138                                          1               1.330387e+09   \n",
       "149                                           2               1.309535e+09   \n",
       "2023                                         18               1.336846e+09   \n",
       "2446                                         40               1.365814e+09   \n",
       "3201                                          0               1.319975e+09   \n",
       "\n",
       "      requester_account_age_in_days_at_request  \\\n",
       "3138                                  0.000000   \n",
       "149                                 669.520532   \n",
       "2023                                 68.818877   \n",
       "2446                                346.229155   \n",
       "3201                                  0.000000   \n",
       "\n",
       "                        requester_subreddits_at_request  \\\n",
       "3138                             [Random_Acts_Of_Pizza]   \n",
       "149                                  [AskReddit, trees]   \n",
       "2023  [AdviceAnimals, AskReddit, LadyBoners, Random_...   \n",
       "2446  [AdviceAnimals, AskReddit, Fitness, IAmA, Musi...   \n",
       "3201                                                 []   \n",
       "\n",
       "      requester_upvotes_minus_downvotes_at_request  \\\n",
       "3138                                             3   \n",
       "149                                             21   \n",
       "2023                                           874   \n",
       "2446                                          1494   \n",
       "3201                                             0   \n",
       "\n",
       "      requester_upvotes_plus_downvotes_at_request  ... timestamp_converted  \\\n",
       "3138                                            3  ... 2012-02-28 00:01:41   \n",
       "149                                            43  ... 2011-07-01 15:46:47   \n",
       "2023                                         1232  ... 2012-05-12 18:08:44   \n",
       "2446                                         2442  ... 2013-04-13 00:38:55   \n",
       "3201                                            0  ... 2011-10-30 11:43:44   \n",
       "\n",
       "            hour_bin_4 promise_to_pay  college_student  asking_for_favor  \\\n",
       "3138   (-0.023, 3.833]       0.000000              0.0               0.0   \n",
       "149     (11.5, 15.333]       0.000000              0.0               0.0   \n",
       "2023  (15.333, 19.167]       0.000000              0.0               0.0   \n",
       "2446   (-0.023, 3.833]       0.000000              0.0               0.0   \n",
       "3201     (7.667, 11.5]       0.020695              0.0               0.0   \n",
       "\n",
       "      sad_story  lost_job  pizza_company  bank_account  dominant_topic  \n",
       "3138        0.0       0.0            0.0           0.0               0  \n",
       "149         0.0       0.0            0.0           0.0               0  \n",
       "2023        0.0       0.0            0.0           0.0               0  \n",
       "2446        0.0       0.0            0.0           0.0               0  \n",
       "3201        0.0       0.0            0.0           0.0               0  \n",
       "\n",
       "[5 rows x 21 columns]"
      ]
     },
     "execution_count": 246,
     "metadata": {},
     "output_type": "execute_result"
    }
   ],
   "source": [
    "val = get_new_topic_feature(val, vectorizer, topic_model)\n",
    "val[0:5]"
   ]
  },
  {
   "cell_type": "code",
   "execution_count": 247,
   "metadata": {},
   "outputs": [
    {
     "data": {
      "text/plain": [
       "Index(['requester_received_pizza', 'request_title', 'request_text_edit_aware',\n",
       "       'requester_number_of_posts_on_raop_at_request',\n",
       "       'requester_number_of_subreddits_at_request',\n",
       "       'unix_timestamp_of_request', 'requester_account_age_in_days_at_request',\n",
       "       'requester_subreddits_at_request',\n",
       "       'requester_upvotes_minus_downvotes_at_request',\n",
       "       'requester_upvotes_plus_downvotes_at_request', 'num_subreddits_req',\n",
       "       'timestamp_converted', 'hour_bin_4', 'promise_to_pay',\n",
       "       'college_student', 'asking_for_favor', 'sad_story', 'lost_job',\n",
       "       'pizza_company', 'bank_account', 'dominant_topic'],\n",
       "      dtype='object')"
      ]
     },
     "execution_count": 247,
     "metadata": {},
     "output_type": "execute_result"
    }
   ],
   "source": [
    "val.columns"
   ]
  },
  {
   "cell_type": "markdown",
   "metadata": {},
   "source": [
    "### 6.6 PMI Calculation\n",
    "The idea of PMI is that we want to quantify the likelihood of co-occurrence of two words, taking into account the fact that it might be caused by the frequency of the single words. Hence, the algorithm computes the (log) probability of co-occurrence scaled by the product of the single probability of occurrence as follows:\n",
    "\n",
    "\n",
    "$$\n",
    "PMI (a, b) = \\log(\\frac{P(a, b)}{P(a) * P(b)})\n",
    "$$\n",
    "\n",
    "Now, knowing that, when ‘a’ and ‘b’ are independent, their joint probability is equal to the product of their marginal probabilities, when the ratio equals 1 (hence the log equals 0), it means that the two words together don’t form a unique concept: they co-occur by chance.\n",
    "\n",
    "It is important to note that we can use PMI criterion to not just detect the collocation of two words. We can also use it to get a sense of if a word and a class are co-occuring togather or not. This is the way we are going to use PMI in our case. "
   ]
  },
  {
   "cell_type": "markdown",
   "metadata": {},
   "source": [
    "#### 6.6.1 Counting inclass and overall frequencies for all words in training dataset\n",
    "\n",
    "The next step is to start with the pre-processed text and identify the occurance frequency for each token in the training and test dataset. "
   ]
  },
  {
   "cell_type": "code",
   "execution_count": 189,
   "metadata": {},
   "outputs": [],
   "source": [
    "def count_words_per_category(v, out):\n",
    "    result_true, result_false, result_vocab = {}, {}, {}\n",
    "    for ind, line in enumerate(v):\n",
    "        #print(ind)\n",
    "        #print(out[ind])\n",
    "        trf_line = preprocess_text_pmi(line) # preprocess and lammatized title text\n",
    "        for elem in trf_line:\n",
    "            result_vocab[elem] = result_vocab.get(elem, 0) + 1\n",
    "            \n",
    "            if out[ind]:\n",
    "                result_true[elem] = result_true.get(elem, 0) + 1\n",
    "            else: \n",
    "                result_false[elem] = result_false.get(elem, 0) + 1\n",
    "    \n",
    "    return result_true, result_false, result_vocab"
   ]
  },
  {
   "cell_type": "markdown",
   "metadata": {},
   "source": [
    "#### 6.6.2 Implementing the PMI function\n",
    "\n",
    "In the next step, we implement the PMI function and compute PMI for all the words in the dictionary"
   ]
  },
  {
   "cell_type": "code",
   "execution_count": 190,
   "metadata": {},
   "outputs": [],
   "source": [
    "def pmi(inclass_freq, total_freq, class_freq, min_count=10):\n",
    "    \"\"\"\n",
    "    inclass_freq (dict): dictionary containing inclass frequency for a given word\n",
    "    total_freq (dict): dictionary containing total frequency for a given word\n",
    "    class_freq (float): class prevalence\n",
    "    min_count (int): minimum frequency for pmi calculation\n",
    "    \"\"\"\n",
    "    pmi = {}\n",
    "    for word, freq in total_freq.items():\n",
    "        if freq < min_count:\n",
    "            continue\n",
    "        pmi[word] = np.log((inclass_freq.get(word, 0) + 0.001) * 1.0 / (class_freq * freq))\n",
    "    return pmi"
   ]
  },
  {
   "cell_type": "markdown",
   "metadata": {},
   "source": [
    "### 7. Feature Engineering"
   ]
  },
  {
   "cell_type": "markdown",
   "metadata": {},
   "source": [
    "#### 7.1 non-text features\n",
    "\n",
    "Looking at the data, there are just few text fields and a lot of non-text features present. We start with creating the non-text features first and then add text based features on top. "
   ]
  },
  {
   "cell_type": "code",
   "execution_count": 191,
   "metadata": {},
   "outputs": [],
   "source": [
    "# feature 1 - number of posts on ROAP at request\n",
    "\n",
    "def num_posts_roap(data, colname, id_colname,th=0):\n",
    "    \"\"\"\n",
    "    data (pandas dataframe): inout data frame\n",
    "    colname (str): original column name\n",
    "    id_colname (str): identifier for the created feature\n",
    "    th (int): threshold for creating binary feature\n",
    "    \"\"\"\n",
    "    new_colname = id_colname + '_' +colname\n",
    "    feat = np.where(data[colname] == th, 0, 1)\n",
    "    data[new_colname] = feat\n",
    "    del data[colname]\n",
    "    return data"
   ]
  },
  {
   "cell_type": "code",
   "execution_count": 192,
   "metadata": {},
   "outputs": [],
   "source": [
    "# feature 2 - number subreddits dummy variables\n",
    "\n",
    "def num_subreddit_dummy(data, colname):\n",
    "    \"\"\"\n",
    "    data (pandas dataframe): inout data frame\n",
    "    colname (str): original column name\n",
    "    \"\"\"\n",
    "    return pd.get_dummies(data=data, columns=[colname], drop_first=True)"
   ]
  },
  {
   "cell_type": "code",
   "execution_count": 193,
   "metadata": {},
   "outputs": [],
   "source": [
    "# feature 3 timestamp\n",
    "def add_request_hour_feature(data, time_col, interval):\n",
    "    data[time_col] =  pd.to_datetime(data[time_col],unit='s')\n",
    "    hour_bin_int = pd.cut(data[time_col].dt.hour, interval)\n",
    "    hour_col_name = time_col + '_' + str(interval)\n",
    "    data[hour_col_name] = hour_bin_int\n",
    "    data = data.drop(time_col, axis=1)\n",
    "    return pd.get_dummies(data=data, columns=[hour_col_name], drop_first=True)"
   ]
  },
  {
   "cell_type": "code",
   "execution_count": 248,
   "metadata": {},
   "outputs": [],
   "source": [
    "train_final = num_posts_roap(data=train.copy(), \n",
    "                             colname='requester_number_of_posts_on_raop_at_request', \n",
    "                             id_colname='binary')\n",
    "\n",
    "val_final = num_posts_roap(data=val.copy(), \n",
    "                             colname='requester_number_of_posts_on_raop_at_request', \n",
    "                             id_colname='binary')"
   ]
  },
  {
   "cell_type": "code",
   "execution_count": 250,
   "metadata": {},
   "outputs": [],
   "source": [
    "train_final = num_subreddit_dummy(data = train_final, colname= 'num_subreddits_req')\n",
    "val_final = num_subreddit_dummy(data = val_final, colname= 'num_subreddits_req')"
   ]
  },
  {
   "cell_type": "code",
   "execution_count": 251,
   "metadata": {},
   "outputs": [],
   "source": [
    "train_final = add_request_hour_feature(data = train_final, time_col='unix_timestamp_of_request', interval=4)\n",
    "val_final = add_request_hour_feature(data = val_final, time_col='unix_timestamp_of_request', interval=4)"
   ]
  },
  {
   "cell_type": "code",
   "execution_count": 252,
   "metadata": {},
   "outputs": [
    {
     "data": {
      "text/plain": [
       "Index(['requester_received_pizza', 'request_title', 'request_text_edit_aware',\n",
       "       'requester_number_of_subreddits_at_request',\n",
       "       'requester_account_age_in_days_at_request',\n",
       "       'requester_subreddits_at_request',\n",
       "       'requester_upvotes_minus_downvotes_at_request',\n",
       "       'requester_upvotes_plus_downvotes_at_request', 'timestamp_converted',\n",
       "       'hour_bin_4', 'promise_to_pay', 'college_student', 'asking_for_favor',\n",
       "       'sad_story', 'lost_job', 'pizza_company', 'bank_account',\n",
       "       'dominant_topic', 'binary_requester_number_of_posts_on_raop_at_request',\n",
       "       'num_subreddits_req_1. 1-5', 'num_subreddits_req_2. 5-10',\n",
       "       'num_subreddits_req_3. 10-50', 'num_subreddits_req_4. 50-100',\n",
       "       'num_subreddits_req_5. 100+',\n",
       "       'unix_timestamp_of_request_4_(5.75, 11.5]',\n",
       "       'unix_timestamp_of_request_4_(11.5, 17.25]',\n",
       "       'unix_timestamp_of_request_4_(17.25, 23.0]'],\n",
       "      dtype='object')"
      ]
     },
     "execution_count": 252,
     "metadata": {},
     "output_type": "execute_result"
    }
   ],
   "source": [
    "val_final.columns"
   ]
  },
  {
   "cell_type": "code",
   "execution_count": 253,
   "metadata": {},
   "outputs": [
    {
     "name": "stdout",
     "output_type": "stream",
     "text": [
      "(3636, 27)\n",
      "(404, 27)\n"
     ]
    }
   ],
   "source": [
    "print(train_final.shape)\n",
    "print(val_final.shape)"
   ]
  },
  {
   "cell_type": "markdown",
   "metadata": {},
   "source": [
    "#### 7.2 Text feature extraction\n",
    "\n",
    "We start by extacting the top 20 words from both text and title columns w.r.t. PMI criterion. For that we need to calculate the inclass frequencies and compute PMI as noted in above code. "
   ]
  },
  {
   "cell_type": "code",
   "execution_count": 201,
   "metadata": {},
   "outputs": [],
   "source": [
    "def get_counts(data, text_colname, outcome_colname):\n",
    "    return count_words_per_category(data[text_colname], \n",
    "                                    list(data[outcome_colname]))\n",
    "\n",
    "def get_top_k_from_dict(d, k):\n",
    "    return sorted(d.items(), key=lambda kv: kv[1])[-k:]\n",
    "\n",
    "def get_words(sorted_dict):\n",
    "    return [w[0] for w in sorted_dict]\n",
    "\n",
    "def calculate_pmi(data, text_colname, outcome_colname, class_freq_true, top_k):\n",
    "    count_class_true, count_class_false, count_total = get_counts(data = data, \n",
    "                                                         text_colname=text_colname, \n",
    "                                                         outcome_colname=outcome_colname) \n",
    "    pmi_true = pmi(inclass_freq=count_class_true, \n",
    "                   total_freq=count_total, \n",
    "                   class_freq=class_freq_true)\n",
    "    \n",
    "    pmi_false = pmi(inclass_freq=count_class_false, \n",
    "                   total_freq=count_total, \n",
    "                   class_freq=1-class_freq_true)\n",
    "    \n",
    "    pmi_true_top_k = get_top_k_from_dict(pmi_true, k=top_k)\n",
    "    pmi_false_top_k = get_top_k_from_dict(pmi_false, k=top_k)\n",
    "    \n",
    "    pmi_true_words = get_words(pmi_true_top_k)\n",
    "    pmi_false_words = get_words(pmi_false_top_k)\n",
    "    \n",
    "    return pmi_true_words, pmi_false_words\n"
   ]
  },
  {
   "cell_type": "code",
   "execution_count": 254,
   "metadata": {},
   "outputs": [],
   "source": [
    "true_class_pmi_words_title, false_class_pmi_words_title = calculate_pmi(data = train_final, \n",
    "                                                                        text_colname='request_title', \n",
    "                                                                        outcome_colname='requester_received_pizza', \n",
    "                                                                        class_freq_true=0.24505, \n",
    "                                                                        top_k=20)"
   ]
  },
  {
   "cell_type": "markdown",
   "metadata": {},
   "source": [
    "# Is this supposed to be duplicated?"
   ]
  },
  {
   "cell_type": "code",
   "execution_count": 203,
   "metadata": {},
   "outputs": [],
   "source": [
    "true_class_pmi_words_text, false_class_pmi_words_text = calculate_pmi(data = train_final, \n",
    "                                                                      text_colname='request_text_edit_aware', \n",
    "                                                                      outcome_colname='requester_received_pizza', \n",
    "                                                                      class_freq_true=0.24505, \n",
    "                                                                      top_k=20)"
   ]
  },
  {
   "cell_type": "code",
   "execution_count": 204,
   "metadata": {},
   "outputs": [],
   "source": [
    "# Creating text features - token counts\n",
    "def simple_token_count(v):\n",
    "    result = []\n",
    "    for line in v:\n",
    "        if line != line:\n",
    "            result.append(1)\n",
    "            continue\n",
    "        result.append(len(word_tokenize(line)))\n",
    "    return result"
   ]
  },
  {
   "cell_type": "code",
   "execution_count": 255,
   "metadata": {},
   "outputs": [],
   "source": [
    "title_length_train = simple_token_count(train_final.request_title)\n",
    "title_length_val = simple_token_count(val_final.request_title)\n",
    "text_length_train = simple_token_count(train_final.request_text_edit_aware)\n",
    "text_length_val = simple_token_count(val_final.request_text_edit_aware)"
   ]
  },
  {
   "cell_type": "code",
   "execution_count": 256,
   "metadata": {},
   "outputs": [],
   "source": [
    "train_final['title_length'] = title_length_train\n",
    "train_final['text_length'] = text_length_train\n",
    "val_final['title_length'] = title_length_val\n",
    "val_final['text_length'] = text_length_val"
   ]
  },
  {
   "cell_type": "code",
   "execution_count": 257,
   "metadata": {},
   "outputs": [
    {
     "data": {
      "text/plain": [
       "Index(['requester_received_pizza', 'request_title', 'request_text_edit_aware',\n",
       "       'requester_number_of_subreddits_at_request',\n",
       "       'requester_account_age_in_days_at_request',\n",
       "       'requester_subreddits_at_request',\n",
       "       'requester_upvotes_minus_downvotes_at_request',\n",
       "       'requester_upvotes_plus_downvotes_at_request', 'timestamp_converted',\n",
       "       'hour_bin_4', 'promise_to_pay', 'college_student', 'asking_for_favor',\n",
       "       'sad_story', 'lost_job', 'pizza_company', 'bank_account',\n",
       "       'dominant_topic', 'binary_requester_number_of_posts_on_raop_at_request',\n",
       "       'num_subreddits_req_1. 1-5', 'num_subreddits_req_2. 5-10',\n",
       "       'num_subreddits_req_3. 10-50', 'num_subreddits_req_4. 50-100',\n",
       "       'num_subreddits_req_5. 100+',\n",
       "       'unix_timestamp_of_request_4_(5.75, 11.5]',\n",
       "       'unix_timestamp_of_request_4_(11.5, 17.25]',\n",
       "       'unix_timestamp_of_request_4_(17.25, 23.0]', 'title_length',\n",
       "       'text_length'],\n",
       "      dtype='object')"
      ]
     },
     "execution_count": 257,
     "metadata": {},
     "output_type": "execute_result"
    }
   ],
   "source": [
    "train_final.columns"
   ]
  },
  {
   "cell_type": "code",
   "execution_count": 258,
   "metadata": {},
   "outputs": [
    {
     "data": {
      "text/plain": [
       "Index(['requester_received_pizza', 'request_title', 'request_text_edit_aware',\n",
       "       'requester_number_of_subreddits_at_request',\n",
       "       'requester_account_age_in_days_at_request',\n",
       "       'requester_subreddits_at_request',\n",
       "       'requester_upvotes_minus_downvotes_at_request',\n",
       "       'requester_upvotes_plus_downvotes_at_request', 'timestamp_converted',\n",
       "       'hour_bin_4', 'promise_to_pay', 'college_student', 'asking_for_favor',\n",
       "       'sad_story', 'lost_job', 'pizza_company', 'bank_account',\n",
       "       'dominant_topic', 'binary_requester_number_of_posts_on_raop_at_request',\n",
       "       'num_subreddits_req_1. 1-5', 'num_subreddits_req_2. 5-10',\n",
       "       'num_subreddits_req_3. 10-50', 'num_subreddits_req_4. 50-100',\n",
       "       'num_subreddits_req_5. 100+',\n",
       "       'unix_timestamp_of_request_4_(5.75, 11.5]',\n",
       "       'unix_timestamp_of_request_4_(11.5, 17.25]',\n",
       "       'unix_timestamp_of_request_4_(17.25, 23.0]', 'title_length',\n",
       "       'text_length'],\n",
       "      dtype='object')"
      ]
     },
     "execution_count": 258,
     "metadata": {},
     "output_type": "execute_result"
    }
   ],
   "source": [
    "val_final.columns"
   ]
  },
  {
   "cell_type": "code",
   "execution_count": 209,
   "metadata": {},
   "outputs": [
    {
     "name": "stdout",
     "output_type": "stream",
     "text": [
      "[=================================================-] 99.7% 199.0/199.5MB downloaded\n"
     ]
    }
   ],
   "source": [
    "## Advanced word matching features\n",
    "\n",
    "w_vect = gensim.downloader.load('glove-twitter-50')"
   ]
  },
  {
   "cell_type": "code",
   "execution_count": 210,
   "metadata": {},
   "outputs": [],
   "source": [
    "def get_binary_feature(word, vector, wv):\n",
    "    result = []\n",
    "    candidates = set([w[0] for w in wv.most_similar(word, topn=20)] + [word])\n",
    "    for line in vector:\n",
    "        if line != line:\n",
    "            result.append(0)\n",
    "            continue\n",
    "        trf_line = preprocess_text_pmi(line)\n",
    "        if len(candidates.intersection(set(trf_line))) > 0:\n",
    "            result.append(1)\n",
    "        else:\n",
    "            result.append(0)\n",
    "    return result\n",
    "\n",
    "def text_feature_addition(word_list, df, colname, id_str, wv):\n",
    "    for ind, word in enumerate(word_list):\n",
    "        print(ind, ' : ', word)\n",
    "        f_name = id_str + word\n",
    "        feat = get_binary_feature(word, df[colname], wv)\n",
    "        df[f_name] = feat\n",
    "    return df"
   ]
  },
  {
   "cell_type": "code",
   "execution_count": 259,
   "metadata": {},
   "outputs": [
    {
     "name": "stdout",
     "output_type": "stream",
     "text": [
      "0  :  page\n",
      "1  :  lover\n",
      "2  :  country\n",
      "3  :  remove\n",
      "4  :  username\n",
      "5  :  sibling\n",
      "6  :  economy\n",
      "7  :  smoke\n",
      "8  :  shelter\n",
      "9  :  favour\n",
      "10  :  drunk\n",
      "11  :  english\n",
      "12  :  ta\n",
      "13  :  animal\n",
      "14  :  ga\n",
      "15  :  dead\n",
      "16  :  essay\n",
      "17  :  bc\n",
      "18  :  tide\n",
      "19  :  fancy\n",
      "0  :  fly\n",
      "1  :  exchange\n",
      "2  :  remain\n",
      "3  :  earn\n",
      "4  :  subsist\n",
      "5  :  partner\n",
      "6  :  basic\n",
      "7  :  stone\n",
      "8  :  leg\n",
      "9  :  dvd\n",
      "10  :  individual\n",
      "11  :  puppy\n",
      "12  :  fry\n",
      "13  :  sum\n",
      "14  :  admit\n",
      "15  :  kidney\n",
      "16  :  lawyer\n",
      "17  :  collect\n",
      "18  :  package\n",
      "19  :  bonus\n",
      "0  :  saturday\n",
      "1  :  hell\n",
      "2  :  london\n",
      "3  :  great\n",
      "4  :  houston\n",
      "5  :  slice\n",
      "6  :  pick\n",
      "7  :  colorado\n",
      "8  :  fuck\n",
      "9  :  play\n",
      "10  :  people\n",
      "11  :  ct\n",
      "12  :  jersey\n",
      "13  :  order\n",
      "14  :  noodle\n",
      "15  :  enjoy\n",
      "16  :  na\n",
      "17  :  pepperoni\n",
      "18  :  wan\n",
      "19  :  class\n",
      "0  :  rough\n",
      "1  :  real\n",
      "2  :  holiday\n",
      "3  :  redditor\n",
      "4  :  iowa\n",
      "5  :  yesterday\n",
      "6  :  arizona\n",
      "7  :  kentucky\n",
      "8  :  los\n",
      "9  :  angeles\n",
      "10  :  fail\n",
      "11  :  smile\n",
      "12  :  anniversary\n",
      "13  :  nj\n",
      "14  :  father\n",
      "15  :  baby\n",
      "16  :  daughter\n",
      "17  :  tucson\n",
      "18  :  happy\n",
      "19  :  lot\n"
     ]
    }
   ],
   "source": [
    "train_final = text_feature_addition(word_list=false_class_pmi_words_text, \n",
    "                                    df=train_final, \n",
    "                                    colname='request_text_edit_aware', \n",
    "                                    wv=w_vect, \n",
    "                                    id_str='text_false_')\n",
    "\n",
    "train_final = text_feature_addition(word_list=true_class_pmi_words_text, \n",
    "                                    df=train_final, \n",
    "                                    colname='request_text_edit_aware', \n",
    "                                    wv=w_vect, \n",
    "                                    id_str='text_true_')\n",
    "\n",
    "train_final = text_feature_addition(word_list=false_class_pmi_words_title, \n",
    "                                    df=train_final, \n",
    "                                    colname='request_title', \n",
    "                                    wv=w_vect, \n",
    "                                    id_str='title_false_')\n",
    "\n",
    "train_final = text_feature_addition(word_list=true_class_pmi_words_title, \n",
    "                                    df=train_final, \n",
    "                                    colname='request_title', \n",
    "                                    wv=w_vect, \n",
    "                                    id_str='title_true_')"
   ]
  },
  {
   "cell_type": "code",
   "execution_count": 260,
   "metadata": {},
   "outputs": [
    {
     "name": "stdout",
     "output_type": "stream",
     "text": [
      "0  :  page\n",
      "1  :  lover\n",
      "2  :  country\n",
      "3  :  remove\n",
      "4  :  username\n",
      "5  :  sibling\n",
      "6  :  economy\n",
      "7  :  smoke\n",
      "8  :  shelter\n",
      "9  :  favour\n",
      "10  :  drunk\n",
      "11  :  english\n",
      "12  :  ta\n",
      "13  :  animal\n",
      "14  :  ga\n",
      "15  :  dead\n",
      "16  :  essay\n",
      "17  :  bc\n",
      "18  :  tide\n",
      "19  :  fancy\n",
      "0  :  fly\n",
      "1  :  exchange\n",
      "2  :  remain\n",
      "3  :  earn\n",
      "4  :  subsist\n",
      "5  :  partner\n",
      "6  :  basic\n",
      "7  :  stone\n",
      "8  :  leg\n",
      "9  :  dvd\n",
      "10  :  individual\n",
      "11  :  puppy\n",
      "12  :  fry\n",
      "13  :  sum\n",
      "14  :  admit\n",
      "15  :  kidney\n",
      "16  :  lawyer\n",
      "17  :  collect\n",
      "18  :  package\n",
      "19  :  bonus\n",
      "0  :  saturday\n",
      "1  :  hell\n",
      "2  :  london\n",
      "3  :  great\n",
      "4  :  houston\n",
      "5  :  slice\n",
      "6  :  pick\n",
      "7  :  colorado\n",
      "8  :  fuck\n",
      "9  :  play\n",
      "10  :  people\n",
      "11  :  ct\n",
      "12  :  jersey\n",
      "13  :  order\n",
      "14  :  noodle\n",
      "15  :  enjoy\n",
      "16  :  na\n",
      "17  :  pepperoni\n",
      "18  :  wan\n",
      "19  :  class\n",
      "0  :  rough\n",
      "1  :  real\n",
      "2  :  holiday\n",
      "3  :  redditor\n",
      "4  :  iowa\n",
      "5  :  yesterday\n",
      "6  :  arizona\n",
      "7  :  kentucky\n",
      "8  :  los\n",
      "9  :  angeles\n",
      "10  :  fail\n",
      "11  :  smile\n",
      "12  :  anniversary\n",
      "13  :  nj\n",
      "14  :  father\n",
      "15  :  baby\n",
      "16  :  daughter\n",
      "17  :  tucson\n",
      "18  :  happy\n",
      "19  :  lot\n"
     ]
    }
   ],
   "source": [
    "val_final = text_feature_addition(word_list=false_class_pmi_words_text, \n",
    "                                    df=val_final, \n",
    "                                    colname='request_text_edit_aware', \n",
    "                                    wv=w_vect, \n",
    "                                    id_str='text_false_')\n",
    "\n",
    "val_final = text_feature_addition(word_list=true_class_pmi_words_text, \n",
    "                                    df=val_final, \n",
    "                                    colname='request_text_edit_aware', \n",
    "                                    wv=w_vect, \n",
    "                                    id_str='text_true_')\n",
    "\n",
    "val_final = text_feature_addition(word_list=false_class_pmi_words_title, \n",
    "                                    df=val_final, \n",
    "                                    colname='request_title', \n",
    "                                    wv=w_vect, \n",
    "                                    id_str='title_false_')\n",
    "\n",
    "val_final = text_feature_addition(word_list=true_class_pmi_words_title, \n",
    "                                    df=val_final, \n",
    "                                    colname='request_title', \n",
    "                                    wv=w_vect, \n",
    "                                    id_str='title_true_')"
   ]
  },
  {
   "cell_type": "code",
   "execution_count": 261,
   "metadata": {},
   "outputs": [
    {
     "data": {
      "text/plain": [
       "(3636, 109)"
      ]
     },
     "execution_count": 261,
     "metadata": {},
     "output_type": "execute_result"
    }
   ],
   "source": [
    "train_final.shape"
   ]
  },
  {
   "cell_type": "code",
   "execution_count": 262,
   "metadata": {},
   "outputs": [
    {
     "data": {
      "text/plain": [
       "(404, 109)"
      ]
     },
     "execution_count": 262,
     "metadata": {},
     "output_type": "execute_result"
    }
   ],
   "source": [
    "val_final.shape"
   ]
  },
  {
   "cell_type": "markdown",
   "metadata": {},
   "source": [
    "#### 7.3 Check Correlation between columns"
   ]
  },
  {
   "cell_type": "code",
   "execution_count": 263,
   "metadata": {},
   "outputs": [
    {
     "data": {
      "image/png": "[encoded data removed]",
      "text/plain": [
       "<Figure size 432x288 with 2 Axes>"
      ]
     },
     "metadata": {},
     "output_type": "display_data"
    }
   ],
   "source": [
    "sns.heatmap(train_final.corr(), annot=True)\n",
    "plt.show()"
   ]
  },
  {
   "cell_type": "markdown",
   "metadata": {},
   "source": [
    "### 8. Model training and baseline results"
   ]
  },
  {
   "cell_type": "code",
   "execution_count": 284,
   "metadata": {},
   "outputs": [],
   "source": [
    "exc_col = ['requester_received_pizza', 'request_title', 'request_text_edit_aware', 'unix_timestamp_of_request', \n",
    "          'requester_subreddits_at_request', 'timestamp_converted', 'hour_bin_4',\n",
    " 'promise_to_pay',\n",
    " 'college_student',\n",
    " 'asking_for_favor',\n",
    " 'sad_story',\n",
    " 'lost_job',\n",
    " 'pizza_company',\n",
    " 'bank_account',\n",
    " 'dominant_topic',\n",
    " 'binary_requester_number_of_posts_on_raop_at_request',\n",
    " 'num_subreddits_req_1. 1-5',\n",
    " 'num_subreddits_req_2. 5-10',\n",
    " 'num_subreddits_req_3. 10-50',\n",
    " 'num_subreddits_req_4. 50-100',\n",
    " 'num_subreddits_req_5. 100+',\n",
    " 'unix_timestamp_of_request_4_(5.75, 11.5]',\n",
    " 'unix_timestamp_of_request_4_(11.5, 17.25]',\n",
    " 'unix_timestamp_of_request_4_(17.25, 23.0]',\n",
    " 'title_length',\n",
    " 'text_length',\n",
    " 'text_false_page',\n",
    " 'text_false_lover',\n",
    " 'text_false_country',\n",
    " 'text_false_remove',\n",
    " 'text_false_username',\n",
    " 'text_false_sibling',\n",
    " 'text_false_economy',\n",
    " 'text_false_smoke',\n",
    " 'text_false_shelter',\n",
    " 'text_false_favour',\n",
    " 'text_false_drunk',\n",
    " 'text_false_english',\n",
    " 'text_false_ta',\n",
    " 'text_false_animal',\n",
    " 'text_false_ga',\n",
    " 'text_false_dead',\n",
    " 'text_false_essay',\n",
    " 'text_false_bc',\n",
    " 'text_false_tide',\n",
    " 'text_false_fancy',\n",
    " 'text_true_fly',\n",
    " 'text_true_exchange',\n",
    " 'text_true_remain',\n",
    " 'text_true_earn',\n",
    " 'text_true_subsist',\n",
    " 'text_true_partner',\n",
    " 'text_true_basic',\n",
    " 'text_true_stone',\n",
    " 'text_true_leg',\n",
    " 'text_true_dvd',\n",
    " 'text_true_individual',\n",
    " 'text_true_puppy',\n",
    " 'text_true_fry',\n",
    " 'text_true_sum',\n",
    " 'text_true_admit',\n",
    " 'text_true_kidney',\n",
    " 'text_true_lawyer',\n",
    " 'text_true_collect',\n",
    " 'text_true_package',\n",
    " 'text_true_bonus',\n",
    " 'title_false_saturday',\n",
    " 'title_false_hell',\n",
    " 'title_false_london',\n",
    " 'title_false_great',\n",
    " 'title_false_houston',\n",
    " 'title_false_slice',\n",
    " 'title_false_pick',\n",
    " 'title_false_colorado',\n",
    " 'title_false_fuck',\n",
    " 'title_false_play',\n",
    " 'title_false_people',\n",
    " 'title_false_ct',\n",
    " 'title_false_jersey',\n",
    " 'title_false_order',\n",
    " 'title_false_noodle',\n",
    " 'title_false_enjoy',\n",
    " 'title_false_na',\n",
    " 'title_false_pepperoni',\n",
    " 'title_false_wan',\n",
    " 'title_false_class',\n",
    " 'title_true_rough',\n",
    " 'title_true_real',\n",
    " 'title_true_holiday',\n",
    " 'title_true_redditor',\n",
    " 'title_true_iowa',\n",
    " 'title_true_yesterday',\n",
    " 'title_true_arizona',\n",
    " 'title_true_kentucky',\n",
    " 'title_true_los',\n",
    " 'title_true_angeles',\n",
    " 'title_true_fail',\n",
    " 'title_true_smile',\n",
    " 'title_true_anniversary',\n",
    " 'title_true_nj',\n",
    " 'title_true_father',\n",
    " 'title_true_baby',\n",
    " 'title_true_daughter',\n",
    " 'title_true_tucson',\n",
    " 'title_true_happy',\n",
    " 'title_true_lot']\n",
    "Xcols = [c for c in train_final.columns.tolist() if c not in exc_col]"
   ]
  },
  {
   "cell_type": "markdown",
   "metadata": {},
   "source": [
    "#### 8.1 Hyper parameter tuning"
   ]
  },
  {
   "cell_type": "code",
   "execution_count": 287,
   "metadata": {},
   "outputs": [
    {
     "name": "stdout",
     "output_type": "stream",
     "text": [
      "Fitting 3 folds for each of 400 candidates, totalling 1200 fits\n"
     ]
    },
    {
     "name": "stderr",
     "output_type": "stream",
     "text": [
      "[Parallel(n_jobs=-1)]: Using backend LokyBackend with 12 concurrent workers.\n",
      "[Parallel(n_jobs=-1)]: Done  26 tasks      | elapsed:    4.2s\n",
      "[Parallel(n_jobs=-1)]: Done 176 tasks      | elapsed:   16.3s\n",
      "[Parallel(n_jobs=-1)]: Done 426 tasks      | elapsed:   36.2s\n",
      "[Parallel(n_jobs=-1)]: Done 776 tasks      | elapsed:  1.1min\n",
      "[Parallel(n_jobs=-1)]: Done 1200 out of 1200 | elapsed:  1.9min finished\n"
     ]
    },
    {
     "data": {
      "text/plain": [
       "{'n_estimators': 800,\n",
       " 'min_samples_split': 8,\n",
       " 'max_features': 'auto',\n",
       " 'max_depth': 1,\n",
       " 'class_weight': None,\n",
       " 'bootstrap': True}"
      ]
     },
     "execution_count": 287,
     "metadata": {},
     "output_type": "execute_result"
    }
   ],
   "source": [
    "# Number of trees in Random Forest\n",
    "rf_n_estimators = [int(x) for x in np.linspace(200, 1000, 5)]\n",
    "\n",
    "# Maximum number of levels in tree\n",
    "rf_max_depth = [int(x) for x in np.linspace(1, 10, 1)]\n",
    "# Add the default as a possible value\n",
    "rf_max_depth.append(None)\n",
    "\n",
    "# Number of features to consider at every split\n",
    "rf_max_features = ['auto', 'log2', 8, 10, 15, 20, 50, 70, 90, 100, 109]\n",
    "\n",
    "# Minimum number of samples required to split a node\n",
    "rf_min_samples_split = [int(x) for x in np.linspace(4, 10, 7)]\n",
    "\n",
    "# Method of selecting samples for training each tree\n",
    "rf_bootstrap = [True, False]\n",
    "\n",
    "rf_class_weight = [None, 'balanced', 'balanced_subsample']\n",
    "\n",
    "# Create the grid\n",
    "rf_grid = {'n_estimators': rf_n_estimators,\n",
    "            'max_depth': rf_max_depth,\n",
    "            'max_features': rf_max_features,\n",
    "            'min_samples_split': rf_min_samples_split,\n",
    "            'bootstrap': rf_bootstrap, \n",
    "            'class_weight': rf_class_weight}\n",
    "\n",
    "rf_base = RandomForestClassifier()\n",
    "\n",
    "# Create the random search Random Forest\n",
    "rf_random = RandomizedSearchCV(estimator = rf_base, param_distributions = rf_grid, \n",
    "                               n_iter = 400, cv = 3, verbose = 1, random_state = 42, \n",
    "                               n_jobs = -1)\n",
    "\n",
    "# Fit the random search model\n",
    "rf_random.fit(train_final[Xcols], train_final[y])\n",
    "\n",
    "# View the best parameters from the random search\n",
    "rf_random.best_params_"
   ]
  },
  {
   "cell_type": "markdown",
   "metadata": {},
   "source": [
    "#### 8.2 Final model fitting "
   ]
  },
  {
   "cell_type": "code",
   "execution_count": 289,
   "metadata": {},
   "outputs": [
    {
     "data": {
      "text/plain": [
       "RandomForestClassifier(bootstrap=True, ccp_alpha=0.0, class_weight=None,\n",
       "                       criterion='gini', max_depth=1, max_features='auto',\n",
       "                       max_leaf_nodes=None, max_samples=None,\n",
       "                       min_impurity_decrease=0.0, min_impurity_split=None,\n",
       "                       min_samples_leaf=1, min_samples_split=8,\n",
       "                       min_weight_fraction_leaf=0.0, n_estimators=800,\n",
       "                       n_jobs=-1, oob_score=False, random_state=42, verbose=0,\n",
       "                       warm_start=False)"
      ]
     },
     "execution_count": 289,
     "metadata": {},
     "output_type": "execute_result"
    }
   ],
   "source": [
    "# rf_final = RandomForestClassifier(n_estimators=400, min_samples_split=8, max_features='log2', \n",
    "#                                   max_depth=1, class_weight=None,\n",
    "#                                  bootstrap=True, n_jobs=-1, random_state=42)\n",
    "\n",
    "rf_final = RandomForestClassifier(n_estimators=800, min_samples_split=8, max_features='auto', \n",
    "                                  max_depth=1, class_weight=None,\n",
    "                                 bootstrap=True, n_jobs=-1, random_state=42)\n",
    "\n",
    "rf_final.fit(train_final[Xcols], train_final[y])"
   ]
  },
  {
   "cell_type": "markdown",
   "metadata": {},
   "source": [
    "#### 8.3 Model predictions"
   ]
  },
  {
   "cell_type": "code",
   "execution_count": 290,
   "metadata": {},
   "outputs": [],
   "source": [
    "prediction_probs = rf_final.predict_proba(val_final[Xcols])[:,1]"
   ]
  },
  {
   "cell_type": "code",
   "execution_count": 291,
   "metadata": {},
   "outputs": [
    {
     "data": {
      "image/png": "[encoded data removed]",
      "text/plain": [
       "<Figure size 432x288 with 1 Axes>"
      ]
     },
     "metadata": {},
     "output_type": "display_data"
    }
   ],
   "source": [
    "feat_importances = pd.Series(rf_final.feature_importances_, index=Xcols)\n",
    "feat_importances.nlargest(10).plot(kind='barh')\n",
    "pass"
   ]
  },
  {
   "cell_type": "markdown",
   "metadata": {},
   "source": [
    "#### 8.4 Choosing right thresholds and reporting results"
   ]
  },
  {
   "cell_type": "code",
   "execution_count": 292,
   "metadata": {},
   "outputs": [
    {
     "name": "stdout",
     "output_type": "stream",
     "text": [
      "Best Threshold=0.255870, F-Score=0.434\n"
     ]
    },
    {
     "data": {
      "image/png": "[encoded data removed]",
      "text/plain": [
       "<Figure size 432x288 with 1 Axes>"
      ]
     },
     "metadata": {},
     "output_type": "display_data"
    }
   ],
   "source": [
    "# calculate roc curves\n",
    "precision, recall, thresholds = precision_recall_curve(val_final[y], prediction_probs)\n",
    "# convert to f score\n",
    "fscore = (2 * precision * recall) / (precision + recall)\n",
    "# locate the index of the largest f score\n",
    "ix = np.nanargmax(fscore)\n",
    "print('Best Threshold=%f, F-Score=%.3f' % (thresholds[ix], fscore[ix]))\n",
    "# plot the roc curve for the model\n",
    "no_skill = 0.24505\n",
    "plt.plot([0,1], [no_skill,no_skill], linestyle='--', label='No Skill')\n",
    "plt.plot(recall, precision, marker='.', label='Logistic')\n",
    "plt.scatter(recall[ix], precision[ix], marker='o', color='black', label='Best')\n",
    "# axis labels\n",
    "plt.xlabel('Recall')\n",
    "plt.ylabel('Precision')\n",
    "plt.legend()\n",
    "# show the plot\n",
    "plt.show()"
   ]
  },
  {
   "cell_type": "code",
   "execution_count": 297,
   "metadata": {},
   "outputs": [],
   "source": [
    "pred_label = prediction_probs>=0.279234"
   ]
  },
  {
   "cell_type": "code",
   "execution_count": 298,
   "metadata": {},
   "outputs": [
    {
     "name": "stdout",
     "output_type": "stream",
     "text": [
      "              precision    recall  f1-score   support\n",
      "\n",
      "       False       0.74      1.00      0.85       300\n",
      "        True       0.00      0.00      0.00       104\n",
      "\n",
      "    accuracy                           0.74       404\n",
      "   macro avg       0.37      0.50      0.43       404\n",
      "weighted avg       0.55      0.74      0.63       404\n",
      "\n"
     ]
    }
   ],
   "source": [
    "print(classification_report(y_true=val_final[y], y_pred=pred_label))"
   ]
  },
  {
   "cell_type": "code",
   "execution_count": null,
   "metadata": {},
   "outputs": [],
   "source": []
  }
 ],
 "metadata": {
  "kernelspec": {
   "display_name": "Python 3",
   "language": "python",
   "name": "python3"
  },
  "language_info": {
   "codemirror_mode": {
    "name": "ipython",
    "version": 3
   },
   "file_extension": ".py",
   "mimetype": "text/x-python",
   "name": "python",
   "nbconvert_exporter": "python",
   "pygments_lexer": "ipython3",
   "version": "3.7.4"
  }
 },
 "nbformat": 4,
 "nbformat_minor": 4
}
