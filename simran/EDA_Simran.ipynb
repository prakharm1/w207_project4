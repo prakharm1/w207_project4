{
 "cells": [
  {
   "cell_type": "code",
   "execution_count": 53,
   "metadata": {},
   "outputs": [],
   "source": [
    "import pandas as pd\n",
    "import numpy as np\n",
    "import json \n",
    "import matplotlib.pyplot as plt\n",
    "from datetime import datetime"
   ]
  },
  {
   "cell_type": "code",
   "execution_count": 2,
   "metadata": {},
   "outputs": [],
   "source": [
    "with open('train.json') as f:\n",
    "  train_json_df = json.load(f)"
   ]
  },
  {
   "cell_type": "code",
   "execution_count": 4,
   "metadata": {},
   "outputs": [
    {
     "name": "stderr",
     "output_type": "stream",
     "text": [
      "<ipython-input-4-6ae5475da184>:1: FutureWarning: pandas.io.json.json_normalize is deprecated, use pandas.json_normalize instead\n",
      "  train_df = pd.io.json.json_normalize(train_json_df)\n"
     ]
    }
   ],
   "source": [
    "train_df = pd.io.json.json_normalize(train_json_df) "
   ]
  },
  {
   "cell_type": "code",
   "execution_count": 11,
   "metadata": {},
   "outputs": [],
   "source": [
    "sim_cols = ['requester_days_since_first_post_on_raop_at_request',\n",
    "          'requester_days_since_first_post_on_raop_at_retrieval',\n",
    "         'requester_number_of_comments_at_request', \n",
    "         'requester_number_of_comments_at_retrieval',\n",
    "         'requester_username',\n",
    "          'requester_user_flair',\n",
    "         'unix_timestamp_of_request',\n",
    "         'unix_timestamp_of_request_utc']"
   ]
  },
  {
   "cell_type": "code",
   "execution_count": 14,
   "metadata": {},
   "outputs": [
    {
     "data": {
      "text/html": [
       "<div>\n",
       "<style scoped>\n",
       "    .dataframe tbody tr th:only-of-type {\n",
       "        vertical-align: middle;\n",
       "    }\n",
       "\n",
       "    .dataframe tbody tr th {\n",
       "        vertical-align: top;\n",
       "    }\n",
       "\n",
       "    .dataframe thead th {\n",
       "        text-align: right;\n",
       "    }\n",
       "</style>\n",
       "<table border=\"1\" class=\"dataframe\">\n",
       "  <thead>\n",
       "    <tr style=\"text-align: right;\">\n",
       "      <th></th>\n",
       "      <th>requester_days_since_first_post_on_raop_at_request</th>\n",
       "      <th>requester_days_since_first_post_on_raop_at_retrieval</th>\n",
       "      <th>requester_number_of_comments_at_request</th>\n",
       "      <th>requester_number_of_comments_at_retrieval</th>\n",
       "      <th>unix_timestamp_of_request</th>\n",
       "      <th>unix_timestamp_of_request_utc</th>\n",
       "    </tr>\n",
       "  </thead>\n",
       "  <tbody>\n",
       "    <tr>\n",
       "      <th>count</th>\n",
       "      <td>4040.000000</td>\n",
       "      <td>4040.000000</td>\n",
       "      <td>4040.000000</td>\n",
       "      <td>4040.000000</td>\n",
       "      <td>4.040000e+03</td>\n",
       "      <td>4.040000e+03</td>\n",
       "    </tr>\n",
       "    <tr>\n",
       "      <th>mean</th>\n",
       "      <td>16.417034</td>\n",
       "      <td>518.993205</td>\n",
       "      <td>115.098267</td>\n",
       "      <td>289.425743</td>\n",
       "      <td>1.342829e+09</td>\n",
       "      <td>1.342826e+09</td>\n",
       "    </tr>\n",
       "    <tr>\n",
       "      <th>std</th>\n",
       "      <td>70.651428</td>\n",
       "      <td>267.872623</td>\n",
       "      <td>193.318968</td>\n",
       "      <td>357.416133</td>\n",
       "      <td>2.333057e+07</td>\n",
       "      <td>2.332989e+07</td>\n",
       "    </tr>\n",
       "    <tr>\n",
       "      <th>min</th>\n",
       "      <td>0.000000</td>\n",
       "      <td>0.000000</td>\n",
       "      <td>0.000000</td>\n",
       "      <td>0.000000</td>\n",
       "      <td>1.297723e+09</td>\n",
       "      <td>1.297723e+09</td>\n",
       "    </tr>\n",
       "    <tr>\n",
       "      <th>25%</th>\n",
       "      <td>0.000000</td>\n",
       "      <td>279.009051</td>\n",
       "      <td>0.000000</td>\n",
       "      <td>8.000000</td>\n",
       "      <td>1.320469e+09</td>\n",
       "      <td>1.320466e+09</td>\n",
       "    </tr>\n",
       "    <tr>\n",
       "      <th>50%</th>\n",
       "      <td>0.000000</td>\n",
       "      <td>528.781939</td>\n",
       "      <td>24.000000</td>\n",
       "      <td>114.000000</td>\n",
       "      <td>1.342565e+09</td>\n",
       "      <td>1.342561e+09</td>\n",
       "    </tr>\n",
       "    <tr>\n",
       "      <th>75%</th>\n",
       "      <td>0.000000</td>\n",
       "      <td>776.226670</td>\n",
       "      <td>140.250000</td>\n",
       "      <td>479.000000</td>\n",
       "      <td>1.364618e+09</td>\n",
       "      <td>1.364614e+09</td>\n",
       "    </tr>\n",
       "    <tr>\n",
       "      <th>max</th>\n",
       "      <td>785.457685</td>\n",
       "      <td>1025.407593</td>\n",
       "      <td>994.000000</td>\n",
       "      <td>1000.000000</td>\n",
       "      <td>1.381552e+09</td>\n",
       "      <td>1.381523e+09</td>\n",
       "    </tr>\n",
       "  </tbody>\n",
       "</table>\n",
       "</div>"
      ],
      "text/plain": [
       "       requester_days_since_first_post_on_raop_at_request  \\\n",
       "count                                        4040.000000    \n",
       "mean                                           16.417034    \n",
       "std                                            70.651428    \n",
       "min                                             0.000000    \n",
       "25%                                             0.000000    \n",
       "50%                                             0.000000    \n",
       "75%                                             0.000000    \n",
       "max                                           785.457685    \n",
       "\n",
       "       requester_days_since_first_post_on_raop_at_retrieval  \\\n",
       "count                                        4040.000000      \n",
       "mean                                          518.993205      \n",
       "std                                           267.872623      \n",
       "min                                             0.000000      \n",
       "25%                                           279.009051      \n",
       "50%                                           528.781939      \n",
       "75%                                           776.226670      \n",
       "max                                          1025.407593      \n",
       "\n",
       "       requester_number_of_comments_at_request  \\\n",
       "count                              4040.000000   \n",
       "mean                                115.098267   \n",
       "std                                 193.318968   \n",
       "min                                   0.000000   \n",
       "25%                                   0.000000   \n",
       "50%                                  24.000000   \n",
       "75%                                 140.250000   \n",
       "max                                 994.000000   \n",
       "\n",
       "       requester_number_of_comments_at_retrieval  unix_timestamp_of_request  \\\n",
       "count                                4040.000000               4.040000e+03   \n",
       "mean                                  289.425743               1.342829e+09   \n",
       "std                                   357.416133               2.333057e+07   \n",
       "min                                     0.000000               1.297723e+09   \n",
       "25%                                     8.000000               1.320469e+09   \n",
       "50%                                   114.000000               1.342565e+09   \n",
       "75%                                   479.000000               1.364618e+09   \n",
       "max                                  1000.000000               1.381552e+09   \n",
       "\n",
       "       unix_timestamp_of_request_utc  \n",
       "count                   4.040000e+03  \n",
       "mean                    1.342826e+09  \n",
       "std                     2.332989e+07  \n",
       "min                     1.297723e+09  \n",
       "25%                     1.320466e+09  \n",
       "50%                     1.342561e+09  \n",
       "75%                     1.364614e+09  \n",
       "max                     1.381523e+09  "
      ]
     },
     "execution_count": 14,
     "metadata": {},
     "output_type": "execute_result"
    }
   ],
   "source": [
    "train_df[sim_cols].describe()"
   ]
  },
  {
   "cell_type": "code",
   "execution_count": 15,
   "metadata": {},
   "outputs": [
    {
     "name": "stdout",
     "output_type": "stream",
     "text": [
      "<class 'pandas.core.frame.DataFrame'>\n",
      "RangeIndex: 4040 entries, 0 to 4039\n",
      "Data columns (total 8 columns):\n",
      " #   Column                                                Non-Null Count  Dtype  \n",
      "---  ------                                                --------------  -----  \n",
      " 0   requester_days_since_first_post_on_raop_at_request    4040 non-null   float64\n",
      " 1   requester_days_since_first_post_on_raop_at_retrieval  4040 non-null   float64\n",
      " 2   requester_number_of_comments_at_request               4040 non-null   int64  \n",
      " 3   requester_number_of_comments_at_retrieval             4040 non-null   int64  \n",
      " 4   requester_username                                    4040 non-null   object \n",
      " 5   requester_user_flair                                  994 non-null    object \n",
      " 6   unix_timestamp_of_request                             4040 non-null   float64\n",
      " 7   unix_timestamp_of_request_utc                         4040 non-null   float64\n",
      "dtypes: float64(4), int64(2), object(2)\n",
      "memory usage: 252.6+ KB\n"
     ]
    }
   ],
   "source": [
    "train_df[sim_cols].info()"
   ]
  },
  {
   "cell_type": "markdown",
   "metadata": {},
   "source": [
    "Summary:\n",
    "- Number of comments on Reddit are higher at retrieval than at requester\n",
    "- Requester username & requester user flair is a text field \n",
    "- only field with nulls is \"requester_user_flair\""
   ]
  },
  {
   "cell_type": "markdown",
   "metadata": {},
   "source": [
    "# Colname: requester_days_since_first_post_on_raop_at_request"
   ]
  },
  {
   "cell_type": "code",
   "execution_count": 41,
   "metadata": {},
   "outputs": [
    {
     "data": {
      "text/plain": [
       "<matplotlib.axes._subplots.AxesSubplot at 0x7f923b886e50>"
      ]
     },
     "execution_count": 41,
     "metadata": {},
     "output_type": "execute_result"
    },
    {
     "data": {
      "image/png": "[encoded data removed]",
      "text/plain": [
       "<Figure size 432x288 with 1 Axes>"
      ]
     },
     "metadata": {
      "needs_background": "light"
     },
     "output_type": "display_data"
    }
   ],
   "source": [
    "train_df['requester_days_since_first_post_on_raop_at_request'].plot(kind='bar')"
   ]
  },
  {
   "cell_type": "code",
   "execution_count": 92,
   "metadata": {},
   "outputs": [
    {
     "data": {
      "text/plain": [
       "<matplotlib.axes._subplots.AxesSubplot at 0x7f922f3862b0>"
      ]
     },
     "execution_count": 92,
     "metadata": {},
     "output_type": "execute_result"
    },
    {
     "data": {
      "image/png": "[encoded data removed]",
      "text/plain": [
       "<Figure size 432x288 with 1 Axes>"
      ]
     },
     "metadata": {
      "needs_background": "light"
     },
     "output_type": "display_data"
    }
   ],
   "source": [
    "train_df['requester_days_since_first_post_on_raop_at_request_bins'] = pd.cut(train_df['requester_days_since_first_post_on_raop_at_request'],\n",
    "                                                                 5)\n",
    "train_df['requester_days_since_first_post_on_raop_at_request_bins'].value_counts().plot(kind='bar')"
   ]
  },
  {
   "cell_type": "code",
   "execution_count": 47,
   "metadata": {},
   "outputs": [
    {
     "data": {
      "text/html": [
       "<div>\n",
       "<style scoped>\n",
       "    .dataframe tbody tr th:only-of-type {\n",
       "        vertical-align: middle;\n",
       "    }\n",
       "\n",
       "    .dataframe tbody tr th {\n",
       "        vertical-align: top;\n",
       "    }\n",
       "\n",
       "    .dataframe thead th {\n",
       "        text-align: right;\n",
       "    }\n",
       "</style>\n",
       "<table border=\"1\" class=\"dataframe\">\n",
       "  <thead>\n",
       "    <tr style=\"text-align: right;\">\n",
       "      <th></th>\n",
       "      <th>requester_days_since_first_post_on_raop_at_request_bins</th>\n",
       "    </tr>\n",
       "  </thead>\n",
       "  <tbody>\n",
       "    <tr>\n",
       "      <th>(-0.785, 157.092]</th>\n",
       "      <td>0.966337</td>\n",
       "    </tr>\n",
       "    <tr>\n",
       "      <th>(157.092, 314.183]</th>\n",
       "      <td>0.017079</td>\n",
       "    </tr>\n",
       "    <tr>\n",
       "      <th>(314.183, 471.275]</th>\n",
       "      <td>0.009406</td>\n",
       "    </tr>\n",
       "    <tr>\n",
       "      <th>(471.275, 628.366]</th>\n",
       "      <td>0.004208</td>\n",
       "    </tr>\n",
       "    <tr>\n",
       "      <th>(628.366, 785.458]</th>\n",
       "      <td>0.002970</td>\n",
       "    </tr>\n",
       "  </tbody>\n",
       "</table>\n",
       "</div>"
      ],
      "text/plain": [
       "                    requester_days_since_first_post_on_raop_at_request_bins\n",
       "(-0.785, 157.092]                                            0.966337      \n",
       "(157.092, 314.183]                                           0.017079      \n",
       "(314.183, 471.275]                                           0.009406      \n",
       "(471.275, 628.366]                                           0.004208      \n",
       "(628.366, 785.458]                                           0.002970      "
      ]
     },
     "execution_count": 47,
     "metadata": {},
     "output_type": "execute_result"
    }
   ],
   "source": [
    "pd.DataFrame(train_df['requester_days_since_first_post_on_raop_at_request_bins'].value_counts()/len(train_df))"
   ]
  },
  {
   "cell_type": "markdown",
   "metadata": {},
   "source": [
    "Summary:\n",
    "- No null values, but majority of values between (-0.785 and 157). The negative value in this is confusing but it could be an outlier, should be ignored in analysis. Can build better buckets to understand this downward trend."
   ]
  },
  {
   "cell_type": "code",
   "execution_count": 88,
   "metadata": {},
   "outputs": [
    {
     "data": {
      "text/html": [
       "<div>\n",
       "<style scoped>\n",
       "    .dataframe tbody tr th:only-of-type {\n",
       "        vertical-align: middle;\n",
       "    }\n",
       "\n",
       "    .dataframe tbody tr th {\n",
       "        vertical-align: top;\n",
       "    }\n",
       "\n",
       "    .dataframe thead th {\n",
       "        text-align: right;\n",
       "    }\n",
       "</style>\n",
       "<table border=\"1\" class=\"dataframe\">\n",
       "  <thead>\n",
       "    <tr style=\"text-align: right;\">\n",
       "      <th>requester_days_since_first_post_on_raop_at_request_bins</th>\n",
       "      <th>(-0.785, 157.092]</th>\n",
       "      <th>(157.092, 314.183]</th>\n",
       "      <th>(314.183, 471.275]</th>\n",
       "      <th>(471.275, 628.366]</th>\n",
       "      <th>(628.366, 785.458]</th>\n",
       "    </tr>\n",
       "    <tr>\n",
       "      <th>requester_received_pizza</th>\n",
       "      <th></th>\n",
       "      <th></th>\n",
       "      <th></th>\n",
       "      <th></th>\n",
       "      <th></th>\n",
       "    </tr>\n",
       "  </thead>\n",
       "  <tbody>\n",
       "    <tr>\n",
       "      <th>False</th>\n",
       "      <td>2967</td>\n",
       "      <td>47</td>\n",
       "      <td>18</td>\n",
       "      <td>8</td>\n",
       "      <td>6</td>\n",
       "    </tr>\n",
       "    <tr>\n",
       "      <th>True</th>\n",
       "      <td>937</td>\n",
       "      <td>22</td>\n",
       "      <td>20</td>\n",
       "      <td>9</td>\n",
       "      <td>6</td>\n",
       "    </tr>\n",
       "  </tbody>\n",
       "</table>\n",
       "</div>"
      ],
      "text/plain": [
       "requester_days_since_first_post_on_raop_at_request_bins  (-0.785, 157.092]  \\\n",
       "requester_received_pizza                                                     \n",
       "False                                                                 2967   \n",
       "True                                                                   937   \n",
       "\n",
       "requester_days_since_first_post_on_raop_at_request_bins  (157.092, 314.183]  \\\n",
       "requester_received_pizza                                                      \n",
       "False                                                                    47   \n",
       "True                                                                     22   \n",
       "\n",
       "requester_days_since_first_post_on_raop_at_request_bins  (314.183, 471.275]  \\\n",
       "requester_received_pizza                                                      \n",
       "False                                                                    18   \n",
       "True                                                                     20   \n",
       "\n",
       "requester_days_since_first_post_on_raop_at_request_bins  (471.275, 628.366]  \\\n",
       "requester_received_pizza                                                      \n",
       "False                                                                     8   \n",
       "True                                                                      9   \n",
       "\n",
       "requester_days_since_first_post_on_raop_at_request_bins  (628.366, 785.458]  \n",
       "requester_received_pizza                                                     \n",
       "False                                                                     6  \n",
       "True                                                                      6  "
      ]
     },
     "execution_count": 88,
     "metadata": {},
     "output_type": "execute_result"
    }
   ],
   "source": [
    "# relation with outcome variable\n",
    "pd.crosstab(train_df.requester_received_pizza, train_df['requester_days_since_first_post_on_raop_at_request_bins'])"
   ]
  },
  {
   "cell_type": "markdown",
   "metadata": {},
   "source": [
    "# Colname: requester_days_since_first_post_on_raop_at_retrieval"
   ]
  },
  {
   "cell_type": "code",
   "execution_count": 40,
   "metadata": {},
   "outputs": [
    {
     "data": {
      "text/plain": [
       "<matplotlib.axes._subplots.AxesSubplot at 0x7f925a10a1f0>"
      ]
     },
     "execution_count": 40,
     "metadata": {},
     "output_type": "execute_result"
    },
    {
     "data": {
      "image/png": "[encoded data removed]",
      "text/plain": [
       "<Figure size 432x288 with 1 Axes>"
      ]
     },
     "metadata": {
      "needs_background": "light"
     },
     "output_type": "display_data"
    }
   ],
   "source": [
    "train_df['requester_days_since_first_post_on_raop_at_retrieval'].plot(kind='bar')"
   ]
  },
  {
   "cell_type": "code",
   "execution_count": 44,
   "metadata": {},
   "outputs": [
    {
     "data": {
      "text/plain": [
       "<matplotlib.axes._subplots.AxesSubplot at 0x7f922a2ab910>"
      ]
     },
     "execution_count": 44,
     "metadata": {},
     "output_type": "execute_result"
    },
    {
     "data": {
      "image/png": "[encoded data removed]",
      "text/plain": [
       "<Figure size 432x288 with 1 Axes>"
      ]
     },
     "metadata": {
      "needs_background": "light"
     },
     "output_type": "display_data"
    }
   ],
   "source": [
    "train_df['requester_days_since_first_post_on_raop_at_retrieval_bins'] = pd.cut(train_df['requester_days_since_first_post_on_raop_at_retrieval'],\n",
    "                                                                 5)\n",
    "train_df['requester_days_since_first_post_on_raop_at_retrieval_bins'].value_counts().plot(kind='bar')\n"
   ]
  },
  {
   "cell_type": "code",
   "execution_count": 48,
   "metadata": {},
   "outputs": [
    {
     "data": {
      "text/html": [
       "<div>\n",
       "<style scoped>\n",
       "    .dataframe tbody tr th:only-of-type {\n",
       "        vertical-align: middle;\n",
       "    }\n",
       "\n",
       "    .dataframe tbody tr th {\n",
       "        vertical-align: top;\n",
       "    }\n",
       "\n",
       "    .dataframe thead th {\n",
       "        text-align: right;\n",
       "    }\n",
       "</style>\n",
       "<table border=\"1\" class=\"dataframe\">\n",
       "  <thead>\n",
       "    <tr style=\"text-align: right;\">\n",
       "      <th></th>\n",
       "      <th>requester_days_since_first_post_on_raop_at_retrieval_bins</th>\n",
       "    </tr>\n",
       "  </thead>\n",
       "  <tbody>\n",
       "    <tr>\n",
       "      <th>(615.245, 820.326]</th>\n",
       "      <td>0.220792</td>\n",
       "    </tr>\n",
       "    <tr>\n",
       "      <th>(410.163, 615.245]</th>\n",
       "      <td>0.219059</td>\n",
       "    </tr>\n",
       "    <tr>\n",
       "      <th>(820.326, 1025.408]</th>\n",
       "      <td>0.190099</td>\n",
       "    </tr>\n",
       "    <tr>\n",
       "      <th>(205.082, 410.163]</th>\n",
       "      <td>0.189851</td>\n",
       "    </tr>\n",
       "    <tr>\n",
       "      <th>(-1.025, 205.082]</th>\n",
       "      <td>0.180198</td>\n",
       "    </tr>\n",
       "  </tbody>\n",
       "</table>\n",
       "</div>"
      ],
      "text/plain": [
       "                     requester_days_since_first_post_on_raop_at_retrieval_bins\n",
       "(615.245, 820.326]                                            0.220792        \n",
       "(410.163, 615.245]                                            0.219059        \n",
       "(820.326, 1025.408]                                           0.190099        \n",
       "(205.082, 410.163]                                            0.189851        \n",
       "(-1.025, 205.082]                                             0.180198        "
      ]
     },
     "execution_count": 48,
     "metadata": {},
     "output_type": "execute_result"
    }
   ],
   "source": [
    "pd.DataFrame(train_df['requester_days_since_first_post_on_raop_at_retrieval_bins'].value_counts()/len(train_df))"
   ]
  },
  {
   "cell_type": "markdown",
   "metadata": {},
   "source": [
    "Summary:\n",
    "- This data feels well distributed, but noisy. There is no downward trend as compared to the # of days at request.Next step would be to understand the influence of this column on outcome vs. that of the request one. "
   ]
  },
  {
   "cell_type": "code",
   "execution_count": 93,
   "metadata": {},
   "outputs": [
    {
     "data": {
      "text/html": [
       "<div>\n",
       "<style scoped>\n",
       "    .dataframe tbody tr th:only-of-type {\n",
       "        vertical-align: middle;\n",
       "    }\n",
       "\n",
       "    .dataframe tbody tr th {\n",
       "        vertical-align: top;\n",
       "    }\n",
       "\n",
       "    .dataframe thead th {\n",
       "        text-align: right;\n",
       "    }\n",
       "</style>\n",
       "<table border=\"1\" class=\"dataframe\">\n",
       "  <thead>\n",
       "    <tr style=\"text-align: right;\">\n",
       "      <th>requester_days_since_first_post_on_raop_at_retrieval_bins</th>\n",
       "      <th>(-1.025, 205.082]</th>\n",
       "      <th>(205.082, 410.163]</th>\n",
       "      <th>(410.163, 615.245]</th>\n",
       "      <th>(615.245, 820.326]</th>\n",
       "      <th>(820.326, 1025.408]</th>\n",
       "    </tr>\n",
       "    <tr>\n",
       "      <th>requester_received_pizza</th>\n",
       "      <th></th>\n",
       "      <th></th>\n",
       "      <th></th>\n",
       "      <th></th>\n",
       "      <th></th>\n",
       "    </tr>\n",
       "  </thead>\n",
       "  <tbody>\n",
       "    <tr>\n",
       "      <th>False</th>\n",
       "      <td>606</td>\n",
       "      <td>601</td>\n",
       "      <td>681</td>\n",
       "      <td>654</td>\n",
       "      <td>504</td>\n",
       "    </tr>\n",
       "    <tr>\n",
       "      <th>True</th>\n",
       "      <td>122</td>\n",
       "      <td>166</td>\n",
       "      <td>204</td>\n",
       "      <td>238</td>\n",
       "      <td>264</td>\n",
       "    </tr>\n",
       "  </tbody>\n",
       "</table>\n",
       "</div>"
      ],
      "text/plain": [
       "requester_days_since_first_post_on_raop_at_retrieval_bins  (-1.025, 205.082]  \\\n",
       "requester_received_pizza                                                       \n",
       "False                                                                    606   \n",
       "True                                                                     122   \n",
       "\n",
       "requester_days_since_first_post_on_raop_at_retrieval_bins  (205.082, 410.163]  \\\n",
       "requester_received_pizza                                                        \n",
       "False                                                                     601   \n",
       "True                                                                      166   \n",
       "\n",
       "requester_days_since_first_post_on_raop_at_retrieval_bins  (410.163, 615.245]  \\\n",
       "requester_received_pizza                                                        \n",
       "False                                                                     681   \n",
       "True                                                                      204   \n",
       "\n",
       "requester_days_since_first_post_on_raop_at_retrieval_bins  (615.245, 820.326]  \\\n",
       "requester_received_pizza                                                        \n",
       "False                                                                     654   \n",
       "True                                                                      238   \n",
       "\n",
       "requester_days_since_first_post_on_raop_at_retrieval_bins  (820.326, 1025.408]  \n",
       "requester_received_pizza                                                        \n",
       "False                                                                      504  \n",
       "True                                                                       264  "
      ]
     },
     "execution_count": 93,
     "metadata": {},
     "output_type": "execute_result"
    }
   ],
   "source": [
    "# relation with outcome variable\n",
    "pd.crosstab(train_df.requester_received_pizza, train_df['requester_days_since_first_post_on_raop_at_retrieval_bins'])"
   ]
  },
  {
   "cell_type": "markdown",
   "metadata": {},
   "source": [
    "# Colname: requester_number_of_comments_at_request"
   ]
  },
  {
   "cell_type": "code",
   "execution_count": 39,
   "metadata": {},
   "outputs": [
    {
     "data": {
      "text/plain": [
       "<matplotlib.axes._subplots.AxesSubplot at 0x7f924d0c3f70>"
      ]
     },
     "execution_count": 39,
     "metadata": {},
     "output_type": "execute_result"
    },
    {
     "data": {
      "image/png": "[encoded data removed]",
      "text/plain": [
       "<Figure size 432x288 with 1 Axes>"
      ]
     },
     "metadata": {
      "needs_background": "light"
     },
     "output_type": "display_data"
    }
   ],
   "source": [
    "train_df['requester_number_of_comments_at_request'].plot(kind='bar')"
   ]
  },
  {
   "cell_type": "code",
   "execution_count": 36,
   "metadata": {},
   "outputs": [
    {
     "data": {
      "text/plain": [
       "<matplotlib.axes._subplots.AxesSubplot at 0x7f9243b2a2b0>"
      ]
     },
     "execution_count": 36,
     "metadata": {},
     "output_type": "execute_result"
    },
    {
     "data": {
      "image/png": "[encoded data removed]",
      "text/plain": [
       "<Figure size 432x288 with 1 Axes>"
      ]
     },
     "metadata": {
      "needs_background": "light"
     },
     "output_type": "display_data"
    }
   ],
   "source": [
    "train_df['requester_number_of_comments_at_request_bins'] = pd.cut(train_df['requester_number_of_comments_at_request'],\n",
    "                                                                 5)\n",
    "train_df['requester_number_of_comments_at_request_bins'].value_counts().plot(kind='bar')"
   ]
  },
  {
   "cell_type": "code",
   "execution_count": 49,
   "metadata": {},
   "outputs": [
    {
     "data": {
      "text/html": [
       "<div>\n",
       "<style scoped>\n",
       "    .dataframe tbody tr th:only-of-type {\n",
       "        vertical-align: middle;\n",
       "    }\n",
       "\n",
       "    .dataframe tbody tr th {\n",
       "        vertical-align: top;\n",
       "    }\n",
       "\n",
       "    .dataframe thead th {\n",
       "        text-align: right;\n",
       "    }\n",
       "</style>\n",
       "<table border=\"1\" class=\"dataframe\">\n",
       "  <thead>\n",
       "    <tr style=\"text-align: right;\">\n",
       "      <th></th>\n",
       "      <th>requester_number_of_comments_at_request_bins</th>\n",
       "    </tr>\n",
       "  </thead>\n",
       "  <tbody>\n",
       "    <tr>\n",
       "      <th>(-0.994, 198.8]</th>\n",
       "      <td>0.807426</td>\n",
       "    </tr>\n",
       "    <tr>\n",
       "      <th>(198.8, 397.6]</th>\n",
       "      <td>0.098267</td>\n",
       "    </tr>\n",
       "    <tr>\n",
       "      <th>(397.6, 596.4]</th>\n",
       "      <td>0.047525</td>\n",
       "    </tr>\n",
       "    <tr>\n",
       "      <th>(596.4, 795.2]</th>\n",
       "      <td>0.029208</td>\n",
       "    </tr>\n",
       "    <tr>\n",
       "      <th>(795.2, 994.0]</th>\n",
       "      <td>0.017574</td>\n",
       "    </tr>\n",
       "  </tbody>\n",
       "</table>\n",
       "</div>"
      ],
      "text/plain": [
       "                 requester_number_of_comments_at_request_bins\n",
       "(-0.994, 198.8]                                      0.807426\n",
       "(198.8, 397.6]                                       0.098267\n",
       "(397.6, 596.4]                                       0.047525\n",
       "(596.4, 795.2]                                       0.029208\n",
       "(795.2, 994.0]                                       0.017574"
      ]
     },
     "execution_count": 49,
     "metadata": {},
     "output_type": "execute_result"
    }
   ],
   "source": [
    "pd.DataFrame(train_df['requester_number_of_comments_at_request_bins'].value_counts()/len(train_df))"
   ]
  },
  {
   "cell_type": "markdown",
   "metadata": {},
   "source": [
    "Summary:\n",
    "- Majority of the values lie between -0.994, 198.8. This distribution seems similar to days since first post on RAOP, as collected on request time. Next step: look into the first bucket in more detail."
   ]
  },
  {
   "cell_type": "code",
   "execution_count": 94,
   "metadata": {},
   "outputs": [
    {
     "data": {
      "text/html": [
       "<div>\n",
       "<style scoped>\n",
       "    .dataframe tbody tr th:only-of-type {\n",
       "        vertical-align: middle;\n",
       "    }\n",
       "\n",
       "    .dataframe tbody tr th {\n",
       "        vertical-align: top;\n",
       "    }\n",
       "\n",
       "    .dataframe thead th {\n",
       "        text-align: right;\n",
       "    }\n",
       "</style>\n",
       "<table border=\"1\" class=\"dataframe\">\n",
       "  <thead>\n",
       "    <tr style=\"text-align: right;\">\n",
       "      <th>requester_number_of_comments_at_request_bins</th>\n",
       "      <th>(-0.994, 198.8]</th>\n",
       "      <th>(198.8, 397.6]</th>\n",
       "      <th>(397.6, 596.4]</th>\n",
       "      <th>(596.4, 795.2]</th>\n",
       "      <th>(795.2, 994.0]</th>\n",
       "    </tr>\n",
       "    <tr>\n",
       "      <th>requester_received_pizza</th>\n",
       "      <th></th>\n",
       "      <th></th>\n",
       "      <th></th>\n",
       "      <th></th>\n",
       "      <th></th>\n",
       "    </tr>\n",
       "  </thead>\n",
       "  <tbody>\n",
       "    <tr>\n",
       "      <th>False</th>\n",
       "      <td>2477</td>\n",
       "      <td>290</td>\n",
       "      <td>145</td>\n",
       "      <td>84</td>\n",
       "      <td>50</td>\n",
       "    </tr>\n",
       "    <tr>\n",
       "      <th>True</th>\n",
       "      <td>785</td>\n",
       "      <td>107</td>\n",
       "      <td>47</td>\n",
       "      <td>34</td>\n",
       "      <td>21</td>\n",
       "    </tr>\n",
       "  </tbody>\n",
       "</table>\n",
       "</div>"
      ],
      "text/plain": [
       "requester_number_of_comments_at_request_bins  (-0.994, 198.8]  (198.8, 397.6]  \\\n",
       "requester_received_pizza                                                        \n",
       "False                                                    2477             290   \n",
       "True                                                      785             107   \n",
       "\n",
       "requester_number_of_comments_at_request_bins  (397.6, 596.4]  (596.4, 795.2]  \\\n",
       "requester_received_pizza                                                       \n",
       "False                                                    145              84   \n",
       "True                                                      47              34   \n",
       "\n",
       "requester_number_of_comments_at_request_bins  (795.2, 994.0]  \n",
       "requester_received_pizza                                      \n",
       "False                                                     50  \n",
       "True                                                      21  "
      ]
     },
     "execution_count": 94,
     "metadata": {},
     "output_type": "execute_result"
    }
   ],
   "source": [
    "# relation with outcome variable\n",
    "pd.crosstab(train_df.requester_received_pizza, train_df['requester_number_of_comments_at_request_bins'])"
   ]
  },
  {
   "cell_type": "markdown",
   "metadata": {},
   "source": [
    "# Colname: requester_number_of_comments_at_retrieval"
   ]
  },
  {
   "cell_type": "code",
   "execution_count": 42,
   "metadata": {},
   "outputs": [
    {
     "data": {
      "text/plain": [
       "<matplotlib.axes._subplots.AxesSubplot at 0x7f923e23e760>"
      ]
     },
     "execution_count": 42,
     "metadata": {},
     "output_type": "execute_result"
    },
    {
     "data": {
      "image/png": "[encoded data removed]",
      "text/plain": [
       "<Figure size 432x288 with 1 Axes>"
      ]
     },
     "metadata": {
      "needs_background": "light"
     },
     "output_type": "display_data"
    }
   ],
   "source": [
    "train_df['requester_number_of_comments_at_retrieval'].plot(kind='bar')"
   ]
  },
  {
   "cell_type": "code",
   "execution_count": 50,
   "metadata": {},
   "outputs": [
    {
     "data": {
      "text/plain": [
       "<matplotlib.axes._subplots.AxesSubplot at 0x7f922d214d60>"
      ]
     },
     "execution_count": 50,
     "metadata": {},
     "output_type": "execute_result"
    },
    {
     "data": {
      "image/png": "[encoded data removed]",
      "text/plain": [
       "<Figure size 432x288 with 1 Axes>"
      ]
     },
     "metadata": {
      "needs_background": "light"
     },
     "output_type": "display_data"
    }
   ],
   "source": [
    "train_df['requester_number_of_comments_at_retrieval_bins'] = pd.cut(train_df['requester_number_of_comments_at_retrieval'],\n",
    "                                                                 5)\n",
    "train_df['requester_number_of_comments_at_retrieval_bins'].value_counts().plot(kind='bar')\n"
   ]
  },
  {
   "cell_type": "code",
   "execution_count": 51,
   "metadata": {},
   "outputs": [
    {
     "data": {
      "text/html": [
       "<div>\n",
       "<style scoped>\n",
       "    .dataframe tbody tr th:only-of-type {\n",
       "        vertical-align: middle;\n",
       "    }\n",
       "\n",
       "    .dataframe tbody tr th {\n",
       "        vertical-align: top;\n",
       "    }\n",
       "\n",
       "    .dataframe thead th {\n",
       "        text-align: right;\n",
       "    }\n",
       "</style>\n",
       "<table border=\"1\" class=\"dataframe\">\n",
       "  <thead>\n",
       "    <tr style=\"text-align: right;\">\n",
       "      <th></th>\n",
       "      <th>requester_number_of_comments_at_retrieval_bins</th>\n",
       "    </tr>\n",
       "  </thead>\n",
       "  <tbody>\n",
       "    <tr>\n",
       "      <th>(-1.0, 200.0]</th>\n",
       "      <td>0.599505</td>\n",
       "    </tr>\n",
       "    <tr>\n",
       "      <th>(800.0, 1000.0]</th>\n",
       "      <td>0.167822</td>\n",
       "    </tr>\n",
       "    <tr>\n",
       "      <th>(200.0, 400.0]</th>\n",
       "      <td>0.122277</td>\n",
       "    </tr>\n",
       "    <tr>\n",
       "      <th>(400.0, 600.0]</th>\n",
       "      <td>0.066089</td>\n",
       "    </tr>\n",
       "    <tr>\n",
       "      <th>(600.0, 800.0]</th>\n",
       "      <td>0.044307</td>\n",
       "    </tr>\n",
       "  </tbody>\n",
       "</table>\n",
       "</div>"
      ],
      "text/plain": [
       "                 requester_number_of_comments_at_retrieval_bins\n",
       "(-1.0, 200.0]                                          0.599505\n",
       "(800.0, 1000.0]                                        0.167822\n",
       "(200.0, 400.0]                                         0.122277\n",
       "(400.0, 600.0]                                         0.066089\n",
       "(600.0, 800.0]                                         0.044307"
      ]
     },
     "execution_count": 51,
     "metadata": {},
     "output_type": "execute_result"
    }
   ],
   "source": [
    "pd.DataFrame(train_df['requester_number_of_comments_at_retrieval_bins'].value_counts()/len(train_df))"
   ]
  },
  {
   "cell_type": "markdown",
   "metadata": {},
   "source": [
    "Summary:\n",
    "- This seems like a good highly left skewed dataset. First bucket seems to have most amount of datapoints, this bucket should be further investigated."
   ]
  },
  {
   "cell_type": "code",
   "execution_count": 95,
   "metadata": {},
   "outputs": [
    {
     "data": {
      "text/html": [
       "<div>\n",
       "<style scoped>\n",
       "    .dataframe tbody tr th:only-of-type {\n",
       "        vertical-align: middle;\n",
       "    }\n",
       "\n",
       "    .dataframe tbody tr th {\n",
       "        vertical-align: top;\n",
       "    }\n",
       "\n",
       "    .dataframe thead th {\n",
       "        text-align: right;\n",
       "    }\n",
       "</style>\n",
       "<table border=\"1\" class=\"dataframe\">\n",
       "  <thead>\n",
       "    <tr style=\"text-align: right;\">\n",
       "      <th>requester_number_of_comments_at_retrieval_bins</th>\n",
       "      <th>(-1.0, 200.0]</th>\n",
       "      <th>(200.0, 400.0]</th>\n",
       "      <th>(400.0, 600.0]</th>\n",
       "      <th>(600.0, 800.0]</th>\n",
       "      <th>(800.0, 1000.0]</th>\n",
       "    </tr>\n",
       "    <tr>\n",
       "      <th>requester_received_pizza</th>\n",
       "      <th></th>\n",
       "      <th></th>\n",
       "      <th></th>\n",
       "      <th></th>\n",
       "      <th></th>\n",
       "    </tr>\n",
       "  </thead>\n",
       "  <tbody>\n",
       "    <tr>\n",
       "      <th>False</th>\n",
       "      <td>1913</td>\n",
       "      <td>352</td>\n",
       "      <td>188</td>\n",
       "      <td>135</td>\n",
       "      <td>458</td>\n",
       "    </tr>\n",
       "    <tr>\n",
       "      <th>True</th>\n",
       "      <td>509</td>\n",
       "      <td>142</td>\n",
       "      <td>79</td>\n",
       "      <td>44</td>\n",
       "      <td>220</td>\n",
       "    </tr>\n",
       "  </tbody>\n",
       "</table>\n",
       "</div>"
      ],
      "text/plain": [
       "requester_number_of_comments_at_retrieval_bins  (-1.0, 200.0]  (200.0, 400.0]  \\\n",
       "requester_received_pizza                                                        \n",
       "False                                                    1913             352   \n",
       "True                                                      509             142   \n",
       "\n",
       "requester_number_of_comments_at_retrieval_bins  (400.0, 600.0]  \\\n",
       "requester_received_pizza                                         \n",
       "False                                                      188   \n",
       "True                                                        79   \n",
       "\n",
       "requester_number_of_comments_at_retrieval_bins  (600.0, 800.0]  \\\n",
       "requester_received_pizza                                         \n",
       "False                                                      135   \n",
       "True                                                        44   \n",
       "\n",
       "requester_number_of_comments_at_retrieval_bins  (800.0, 1000.0]  \n",
       "requester_received_pizza                                         \n",
       "False                                                       458  \n",
       "True                                                        220  "
      ]
     },
     "execution_count": 95,
     "metadata": {},
     "output_type": "execute_result"
    }
   ],
   "source": [
    "# relation with outcome variable\n",
    "pd.crosstab(train_df.requester_received_pizza, train_df['requester_number_of_comments_at_retrieval_bins'])"
   ]
  },
  {
   "cell_type": "markdown",
   "metadata": {},
   "source": [
    "# Colname: requester_username"
   ]
  },
  {
   "cell_type": "code",
   "execution_count": 21,
   "metadata": {},
   "outputs": [
    {
     "data": {
      "text/plain": [
       "knockerwocky       1\n",
       "Brizzwold          1\n",
       "BallerinaBonzai    1\n",
       "juniormantis       1\n",
       "Ticking__bomb      1\n",
       "                  ..\n",
       "MitchellHaaland    1\n",
       "effigies           1\n",
       "ghostofahorse      1\n",
       "staglord           1\n",
       "Cthomte            1\n",
       "Name: requester_username, Length: 4040, dtype: int64"
      ]
     },
     "execution_count": 21,
     "metadata": {},
     "output_type": "execute_result"
    }
   ],
   "source": [
    "train_df.requester_username.value_counts()"
   ]
  },
  {
   "cell_type": "markdown",
   "metadata": {},
   "source": [
    "Summary:\n",
    "- Each user has 1 requester username -> this seems weird as this seems like one person only posts once?\n",
    "- Next step: analyze type of requester username but that seems like a stretch and not directly related to the request"
   ]
  },
  {
   "cell_type": "code",
   "execution_count": 96,
   "metadata": {},
   "outputs": [
    {
     "data": {
      "text/html": [
       "<div>\n",
       "<style scoped>\n",
       "    .dataframe tbody tr th:only-of-type {\n",
       "        vertical-align: middle;\n",
       "    }\n",
       "\n",
       "    .dataframe tbody tr th {\n",
       "        vertical-align: top;\n",
       "    }\n",
       "\n",
       "    .dataframe thead th {\n",
       "        text-align: right;\n",
       "    }\n",
       "</style>\n",
       "<table border=\"1\" class=\"dataframe\">\n",
       "  <thead>\n",
       "    <tr style=\"text-align: right;\">\n",
       "      <th>requester_username</th>\n",
       "      <th>-Magitek-Armor-</th>\n",
       "      <th>-idk</th>\n",
       "      <th>-notagirl-</th>\n",
       "      <th>0b4m4</th>\n",
       "      <th>122david</th>\n",
       "      <th>124418609219</th>\n",
       "      <th>13853211</th>\n",
       "      <th>1level1</th>\n",
       "      <th>20TL12III</th>\n",
       "      <th>20greenshades</th>\n",
       "      <th>...</th>\n",
       "      <th>zimpirate</th>\n",
       "      <th>zombiehannah</th>\n",
       "      <th>zombisaurusrex</th>\n",
       "      <th>zomboi</th>\n",
       "      <th>zooey_roses</th>\n",
       "      <th>zpoehlein12</th>\n",
       "      <th>zqxwcevrbt</th>\n",
       "      <th>zratz3171</th>\n",
       "      <th>ztfreeman</th>\n",
       "      <th>zuggle</th>\n",
       "    </tr>\n",
       "    <tr>\n",
       "      <th>requester_received_pizza</th>\n",
       "      <th></th>\n",
       "      <th></th>\n",
       "      <th></th>\n",
       "      <th></th>\n",
       "      <th></th>\n",
       "      <th></th>\n",
       "      <th></th>\n",
       "      <th></th>\n",
       "      <th></th>\n",
       "      <th></th>\n",
       "      <th></th>\n",
       "      <th></th>\n",
       "      <th></th>\n",
       "      <th></th>\n",
       "      <th></th>\n",
       "      <th></th>\n",
       "      <th></th>\n",
       "      <th></th>\n",
       "      <th></th>\n",
       "      <th></th>\n",
       "      <th></th>\n",
       "    </tr>\n",
       "  </thead>\n",
       "  <tbody>\n",
       "    <tr>\n",
       "      <th>False</th>\n",
       "      <td>1</td>\n",
       "      <td>1</td>\n",
       "      <td>0</td>\n",
       "      <td>1</td>\n",
       "      <td>0</td>\n",
       "      <td>0</td>\n",
       "      <td>1</td>\n",
       "      <td>1</td>\n",
       "      <td>0</td>\n",
       "      <td>1</td>\n",
       "      <td>...</td>\n",
       "      <td>0</td>\n",
       "      <td>0</td>\n",
       "      <td>1</td>\n",
       "      <td>1</td>\n",
       "      <td>1</td>\n",
       "      <td>1</td>\n",
       "      <td>1</td>\n",
       "      <td>1</td>\n",
       "      <td>1</td>\n",
       "      <td>1</td>\n",
       "    </tr>\n",
       "    <tr>\n",
       "      <th>True</th>\n",
       "      <td>0</td>\n",
       "      <td>0</td>\n",
       "      <td>1</td>\n",
       "      <td>0</td>\n",
       "      <td>1</td>\n",
       "      <td>1</td>\n",
       "      <td>0</td>\n",
       "      <td>0</td>\n",
       "      <td>1</td>\n",
       "      <td>0</td>\n",
       "      <td>...</td>\n",
       "      <td>1</td>\n",
       "      <td>1</td>\n",
       "      <td>0</td>\n",
       "      <td>0</td>\n",
       "      <td>0</td>\n",
       "      <td>0</td>\n",
       "      <td>0</td>\n",
       "      <td>0</td>\n",
       "      <td>0</td>\n",
       "      <td>0</td>\n",
       "    </tr>\n",
       "  </tbody>\n",
       "</table>\n",
       "<p>2 rows × 4040 columns</p>\n",
       "</div>"
      ],
      "text/plain": [
       "requester_username        -Magitek-Armor-  -idk  -notagirl-  0b4m4  122david  \\\n",
       "requester_received_pizza                                                       \n",
       "False                                   1     1           0      1         0   \n",
       "True                                    0     0           1      0         1   \n",
       "\n",
       "requester_username        124418609219  13853211  1level1  20TL12III  \\\n",
       "requester_received_pizza                                               \n",
       "False                                0         1        1          0   \n",
       "True                                 1         0        0          1   \n",
       "\n",
       "requester_username        20greenshades  ...  zimpirate  zombiehannah  \\\n",
       "requester_received_pizza                 ...                            \n",
       "False                                 1  ...          0             0   \n",
       "True                                  0  ...          1             1   \n",
       "\n",
       "requester_username        zombisaurusrex  zomboi  zooey_roses  zpoehlein12  \\\n",
       "requester_received_pizza                                                     \n",
       "False                                  1       1            1            1   \n",
       "True                                   0       0            0            0   \n",
       "\n",
       "requester_username        zqxwcevrbt  zratz3171  ztfreeman  zuggle  \n",
       "requester_received_pizza                                            \n",
       "False                              1          1          1       1  \n",
       "True                               0          0          0       0  \n",
       "\n",
       "[2 rows x 4040 columns]"
      ]
     },
     "execution_count": 96,
     "metadata": {},
     "output_type": "execute_result"
    }
   ],
   "source": [
    "# relation with outcome variable\n",
    "pd.crosstab(train_df.requester_received_pizza, train_df['requester_username'])"
   ]
  },
  {
   "cell_type": "markdown",
   "metadata": {},
   "source": [
    "# colname: requester_user_flair"
   ]
  },
  {
   "cell_type": "code",
   "execution_count": 22,
   "metadata": {},
   "outputs": [
    {
     "data": {
      "text/plain": [
       "shroom    935\n",
       "PIF        59\n",
       "Name: requester_user_flair, dtype: int64"
      ]
     },
     "execution_count": 22,
     "metadata": {},
     "output_type": "execute_result"
    }
   ],
   "source": [
    "train_df.requester_user_flair.value_counts()"
   ]
  },
  {
   "cell_type": "markdown",
   "metadata": {},
   "source": [
    "- There are only two types \"requester_user_flair\" however, majority of these values are null. Given that this is binary, this might be helpful for the same scenario"
   ]
  },
  {
   "cell_type": "code",
   "execution_count": 97,
   "metadata": {},
   "outputs": [
    {
     "data": {
      "text/html": [
       "<div>\n",
       "<style scoped>\n",
       "    .dataframe tbody tr th:only-of-type {\n",
       "        vertical-align: middle;\n",
       "    }\n",
       "\n",
       "    .dataframe tbody tr th {\n",
       "        vertical-align: top;\n",
       "    }\n",
       "\n",
       "    .dataframe thead th {\n",
       "        text-align: right;\n",
       "    }\n",
       "</style>\n",
       "<table border=\"1\" class=\"dataframe\">\n",
       "  <thead>\n",
       "    <tr style=\"text-align: right;\">\n",
       "      <th>requester_user_flair</th>\n",
       "      <th>PIF</th>\n",
       "      <th>shroom</th>\n",
       "    </tr>\n",
       "    <tr>\n",
       "      <th>requester_received_pizza</th>\n",
       "      <th></th>\n",
       "      <th></th>\n",
       "    </tr>\n",
       "  </thead>\n",
       "  <tbody>\n",
       "    <tr>\n",
       "      <th>True</th>\n",
       "      <td>59</td>\n",
       "      <td>935</td>\n",
       "    </tr>\n",
       "  </tbody>\n",
       "</table>\n",
       "</div>"
      ],
      "text/plain": [
       "requester_user_flair      PIF  shroom\n",
       "requester_received_pizza             \n",
       "True                       59     935"
      ]
     },
     "execution_count": 97,
     "metadata": {},
     "output_type": "execute_result"
    }
   ],
   "source": [
    "# relation with outcome variable\n",
    "pd.crosstab(train_df.requester_received_pizza, train_df['requester_user_flair'])"
   ]
  },
  {
   "cell_type": "markdown",
   "metadata": {},
   "source": [
    "- This is interesting that only values of success in dependent variable have `requester_user_flair`, as per training dataframe"
   ]
  },
  {
   "cell_type": "markdown",
   "metadata": {},
   "source": [
    "# colname: unix_timestamp_of_request"
   ]
  },
  {
   "cell_type": "code",
   "execution_count": 52,
   "metadata": {},
   "outputs": [
    {
     "data": {
      "text/plain": [
       "1.380356e+09    2\n",
       "1.313532e+09    1\n",
       "1.363909e+09    1\n",
       "1.347131e+09    1\n",
       "1.363907e+09    1\n",
       "               ..\n",
       "1.336100e+09    1\n",
       "1.347143e+09    1\n",
       "1.319319e+09    1\n",
       "1.336094e+09    1\n",
       "1.308624e+09    1\n",
       "Name: unix_timestamp_of_request, Length: 4039, dtype: int64"
      ]
     },
     "execution_count": 52,
     "metadata": {},
     "output_type": "execute_result"
    }
   ],
   "source": [
    "train_df.unix_timestamp_of_request.value_counts()"
   ]
  },
  {
   "cell_type": "code",
   "execution_count": 55,
   "metadata": {},
   "outputs": [
    {
     "data": {
      "text/plain": [
       "2013-09-28 08:05:44    2\n",
       "2013-08-05 18:21:42    1\n",
       "2012-09-07 04:26:55    1\n",
       "2011-12-24 16:01:26    1\n",
       "2013-03-04 22:45:22    1\n",
       "                      ..\n",
       "2011-10-18 12:44:38    1\n",
       "2012-04-13 06:50:50    1\n",
       "2013-08-15 00:11:19    1\n",
       "2011-08-06 15:09:47    1\n",
       "2012-07-07 01:21:38    1\n",
       "Name: timestamp_converted, Length: 4039, dtype: int64"
      ]
     },
     "execution_count": 55,
     "metadata": {},
     "output_type": "execute_result"
    }
   ],
   "source": [
    "# Need to change format of unix timestamp of request, currently it's a float\n",
    "train_df['timestamp_converted'] = pd.to_datetime(train_df['unix_timestamp_of_request'],unit='s')\n",
    "train_df.timestamp_converted.value_counts()"
   ]
  },
  {
   "cell_type": "code",
   "execution_count": 81,
   "metadata": {},
   "outputs": [
    {
     "data": {
      "text/plain": [
       "2012    1493\n",
       "2013    1313\n",
       "2011    1234\n",
       "Name: timestamp_converted, dtype: int64"
      ]
     },
     "execution_count": 81,
     "metadata": {},
     "output_type": "execute_result"
    }
   ],
   "source": [
    "# distribution by year\n",
    "train_df.timestamp_converted.dt.year.value_counts()"
   ]
  },
  {
   "cell_type": "code",
   "execution_count": 98,
   "metadata": {},
   "outputs": [
    {
     "data": {
      "text/html": [
       "<div>\n",
       "<style scoped>\n",
       "    .dataframe tbody tr th:only-of-type {\n",
       "        vertical-align: middle;\n",
       "    }\n",
       "\n",
       "    .dataframe tbody tr th {\n",
       "        vertical-align: top;\n",
       "    }\n",
       "\n",
       "    .dataframe thead th {\n",
       "        text-align: right;\n",
       "    }\n",
       "</style>\n",
       "<table border=\"1\" class=\"dataframe\">\n",
       "  <thead>\n",
       "    <tr style=\"text-align: right;\">\n",
       "      <th>timestamp_converted</th>\n",
       "      <th>2011</th>\n",
       "      <th>2012</th>\n",
       "      <th>2013</th>\n",
       "    </tr>\n",
       "    <tr>\n",
       "      <th>requester_received_pizza</th>\n",
       "      <th></th>\n",
       "      <th></th>\n",
       "      <th></th>\n",
       "    </tr>\n",
       "  </thead>\n",
       "  <tbody>\n",
       "    <tr>\n",
       "      <th>False</th>\n",
       "      <td>863</td>\n",
       "      <td>1141</td>\n",
       "      <td>1042</td>\n",
       "    </tr>\n",
       "    <tr>\n",
       "      <th>True</th>\n",
       "      <td>371</td>\n",
       "      <td>352</td>\n",
       "      <td>271</td>\n",
       "    </tr>\n",
       "  </tbody>\n",
       "</table>\n",
       "</div>"
      ],
      "text/plain": [
       "timestamp_converted       2011  2012  2013\n",
       "requester_received_pizza                  \n",
       "False                      863  1141  1042\n",
       "True                       371   352   271"
      ]
     },
     "execution_count": 98,
     "metadata": {},
     "output_type": "execute_result"
    }
   ],
   "source": [
    "# relation between year & outcome \n",
    "pd.crosstab(train_df.requester_received_pizza, train_df.timestamp_converted.dt.year)"
   ]
  },
  {
   "cell_type": "code",
   "execution_count": 85,
   "metadata": {},
   "outputs": [
    {
     "data": {
      "text/plain": [
       "<matplotlib.axes._subplots.AxesSubplot at 0x7f922e144af0>"
      ]
     },
     "execution_count": 85,
     "metadata": {},
     "output_type": "execute_result"
    },
    {
     "data": {
      "image/png": "[encoded data removed]",
      "text/plain": [
       "<Figure size 432x288 with 1 Axes>"
      ]
     },
     "metadata": {
      "needs_background": "light"
     },
     "output_type": "display_data"
    }
   ],
   "source": [
    "# distribution by week in year\n",
    "train_df.timestamp_converted.dt.week.astype(int).value_counts().plot(kind='bar')"
   ]
  },
  {
   "cell_type": "code",
   "execution_count": 87,
   "metadata": {},
   "outputs": [
    {
     "data": {
      "text/plain": [
       "30    175\n",
       "29    171\n",
       "26    161\n",
       "38    138\n",
       "39    134\n",
       "31    133\n",
       "35    128\n",
       "36    126\n",
       "27    113\n",
       "32    113\n",
       "33    110\n",
       "28    104\n",
       "34    101\n",
       "37     94\n",
       "23     92\n",
       "25     87\n",
       "41     82\n",
       "17     79\n",
       "50     79\n",
       "40     74\n",
       "24     71\n",
       "48     71\n",
       "22     71\n",
       "42     69\n",
       "44     67\n",
       "20     66\n",
       "5      65\n",
       "18     64\n",
       "14     63\n",
       "13     62\n",
       "2      61\n",
       "8      58\n",
       "45     58\n",
       "49     57\n",
       "6      55\n",
       "11     55\n",
       "19     55\n",
       "21     55\n",
       "43     54\n",
       "16     53\n",
       "15     52\n",
       "3      51\n",
       "1      49\n",
       "10     49\n",
       "47     48\n",
       "46     45\n",
       "12     42\n",
       "51     39\n",
       "9      36\n",
       "4      36\n",
       "7      35\n",
       "52     34\n",
       "Name: timestamp_converted, dtype: int64"
      ]
     },
     "execution_count": 87,
     "metadata": {},
     "output_type": "execute_result"
    }
   ],
   "source": [
    "train_df.timestamp_converted.dt.week.value_counts()"
   ]
  },
  {
   "cell_type": "code",
   "execution_count": 99,
   "metadata": {},
   "outputs": [
    {
     "data": {
      "text/html": [
       "<div>\n",
       "<style scoped>\n",
       "    .dataframe tbody tr th:only-of-type {\n",
       "        vertical-align: middle;\n",
       "    }\n",
       "\n",
       "    .dataframe tbody tr th {\n",
       "        vertical-align: top;\n",
       "    }\n",
       "\n",
       "    .dataframe thead th {\n",
       "        text-align: right;\n",
       "    }\n",
       "</style>\n",
       "<table border=\"1\" class=\"dataframe\">\n",
       "  <thead>\n",
       "    <tr style=\"text-align: right;\">\n",
       "      <th>timestamp_converted</th>\n",
       "      <th>1</th>\n",
       "      <th>2</th>\n",
       "      <th>3</th>\n",
       "      <th>4</th>\n",
       "      <th>5</th>\n",
       "      <th>6</th>\n",
       "      <th>7</th>\n",
       "      <th>8</th>\n",
       "      <th>9</th>\n",
       "      <th>10</th>\n",
       "      <th>...</th>\n",
       "      <th>43</th>\n",
       "      <th>44</th>\n",
       "      <th>45</th>\n",
       "      <th>46</th>\n",
       "      <th>47</th>\n",
       "      <th>48</th>\n",
       "      <th>49</th>\n",
       "      <th>50</th>\n",
       "      <th>51</th>\n",
       "      <th>52</th>\n",
       "    </tr>\n",
       "    <tr>\n",
       "      <th>requester_received_pizza</th>\n",
       "      <th></th>\n",
       "      <th></th>\n",
       "      <th></th>\n",
       "      <th></th>\n",
       "      <th></th>\n",
       "      <th></th>\n",
       "      <th></th>\n",
       "      <th></th>\n",
       "      <th></th>\n",
       "      <th></th>\n",
       "      <th></th>\n",
       "      <th></th>\n",
       "      <th></th>\n",
       "      <th></th>\n",
       "      <th></th>\n",
       "      <th></th>\n",
       "      <th></th>\n",
       "      <th></th>\n",
       "      <th></th>\n",
       "      <th></th>\n",
       "      <th></th>\n",
       "    </tr>\n",
       "  </thead>\n",
       "  <tbody>\n",
       "    <tr>\n",
       "      <th>False</th>\n",
       "      <td>32</td>\n",
       "      <td>46</td>\n",
       "      <td>40</td>\n",
       "      <td>32</td>\n",
       "      <td>45</td>\n",
       "      <td>33</td>\n",
       "      <td>31</td>\n",
       "      <td>42</td>\n",
       "      <td>34</td>\n",
       "      <td>35</td>\n",
       "      <td>...</td>\n",
       "      <td>42</td>\n",
       "      <td>53</td>\n",
       "      <td>42</td>\n",
       "      <td>36</td>\n",
       "      <td>35</td>\n",
       "      <td>57</td>\n",
       "      <td>43</td>\n",
       "      <td>63</td>\n",
       "      <td>28</td>\n",
       "      <td>19</td>\n",
       "    </tr>\n",
       "    <tr>\n",
       "      <th>True</th>\n",
       "      <td>17</td>\n",
       "      <td>15</td>\n",
       "      <td>11</td>\n",
       "      <td>4</td>\n",
       "      <td>20</td>\n",
       "      <td>22</td>\n",
       "      <td>4</td>\n",
       "      <td>16</td>\n",
       "      <td>2</td>\n",
       "      <td>14</td>\n",
       "      <td>...</td>\n",
       "      <td>12</td>\n",
       "      <td>14</td>\n",
       "      <td>16</td>\n",
       "      <td>9</td>\n",
       "      <td>13</td>\n",
       "      <td>14</td>\n",
       "      <td>14</td>\n",
       "      <td>16</td>\n",
       "      <td>11</td>\n",
       "      <td>15</td>\n",
       "    </tr>\n",
       "  </tbody>\n",
       "</table>\n",
       "<p>2 rows × 52 columns</p>\n",
       "</div>"
      ],
      "text/plain": [
       "timestamp_converted       1   2   3   4   5   6   7   8   9   10  ...  43  44  \\\n",
       "requester_received_pizza                                          ...           \n",
       "False                     32  46  40  32  45  33  31  42  34  35  ...  42  53   \n",
       "True                      17  15  11   4  20  22   4  16   2  14  ...  12  14   \n",
       "\n",
       "timestamp_converted       45  46  47  48  49  50  51  52  \n",
       "requester_received_pizza                                  \n",
       "False                     42  36  35  57  43  63  28  19  \n",
       "True                      16   9  13  14  14  16  11  15  \n",
       "\n",
       "[2 rows x 52 columns]"
      ]
     },
     "execution_count": 99,
     "metadata": {},
     "output_type": "execute_result"
    }
   ],
   "source": [
    "# relation between week year & outcome \n",
    "pd.crosstab(train_df.requester_received_pizza, train_df.timestamp_converted.dt.week)"
   ]
  },
  {
   "cell_type": "code",
   "execution_count": 74,
   "metadata": {},
   "outputs": [
    {
     "data": {
      "text/plain": [
       "<matplotlib.axes._subplots.AxesSubplot at 0x7f922be8bf70>"
      ]
     },
     "execution_count": 74,
     "metadata": {},
     "output_type": "execute_result"
    },
    {
     "data": {
      "image/png": "[encoded data removed]",
      "text/plain": [
       "<Figure size 432x288 with 1 Axes>"
      ]
     },
     "metadata": {
      "needs_background": "light"
     },
     "output_type": "display_data"
    }
   ],
   "source": [
    "# distribution by weekday\n",
    "train_df.timestamp_converted.dt.day_name().value_counts().plot(kind='bar')"
   ]
  },
  {
   "cell_type": "code",
   "execution_count": 75,
   "metadata": {},
   "outputs": [
    {
     "data": {
      "text/plain": [
       "Wednesday    0.165842\n",
       "Tuesday      0.148267\n",
       "Monday       0.144059\n",
       "Sunday       0.141832\n",
       "Thursday     0.137624\n",
       "Saturday     0.131436\n",
       "Friday       0.130941\n",
       "Name: timestamp_converted, dtype: float64"
      ]
     },
     "execution_count": 75,
     "metadata": {},
     "output_type": "execute_result"
    }
   ],
   "source": [
    "train_df.timestamp_converted.dt.day_name().value_counts()/len(train_df)"
   ]
  },
  {
   "cell_type": "code",
   "execution_count": 101,
   "metadata": {},
   "outputs": [
    {
     "data": {
      "text/html": [
       "<div>\n",
       "<style scoped>\n",
       "    .dataframe tbody tr th:only-of-type {\n",
       "        vertical-align: middle;\n",
       "    }\n",
       "\n",
       "    .dataframe tbody tr th {\n",
       "        vertical-align: top;\n",
       "    }\n",
       "\n",
       "    .dataframe thead th {\n",
       "        text-align: right;\n",
       "    }\n",
       "</style>\n",
       "<table border=\"1\" class=\"dataframe\">\n",
       "  <thead>\n",
       "    <tr style=\"text-align: right;\">\n",
       "      <th>timestamp_converted</th>\n",
       "      <th>Friday</th>\n",
       "      <th>Monday</th>\n",
       "      <th>Saturday</th>\n",
       "      <th>Sunday</th>\n",
       "      <th>Thursday</th>\n",
       "      <th>Tuesday</th>\n",
       "      <th>Wednesday</th>\n",
       "    </tr>\n",
       "    <tr>\n",
       "      <th>requester_received_pizza</th>\n",
       "      <th></th>\n",
       "      <th></th>\n",
       "      <th></th>\n",
       "      <th></th>\n",
       "      <th></th>\n",
       "      <th></th>\n",
       "      <th></th>\n",
       "    </tr>\n",
       "  </thead>\n",
       "  <tbody>\n",
       "    <tr>\n",
       "      <th>False</th>\n",
       "      <td>393</td>\n",
       "      <td>430</td>\n",
       "      <td>414</td>\n",
       "      <td>439</td>\n",
       "      <td>391</td>\n",
       "      <td>461</td>\n",
       "      <td>518</td>\n",
       "    </tr>\n",
       "    <tr>\n",
       "      <th>True</th>\n",
       "      <td>136</td>\n",
       "      <td>152</td>\n",
       "      <td>117</td>\n",
       "      <td>134</td>\n",
       "      <td>165</td>\n",
       "      <td>138</td>\n",
       "      <td>152</td>\n",
       "    </tr>\n",
       "  </tbody>\n",
       "</table>\n",
       "</div>"
      ],
      "text/plain": [
       "timestamp_converted       Friday  Monday  Saturday  Sunday  Thursday  Tuesday  \\\n",
       "requester_received_pizza                                                        \n",
       "False                        393     430       414     439       391      461   \n",
       "True                         136     152       117     134       165      138   \n",
       "\n",
       "timestamp_converted       Wednesday  \n",
       "requester_received_pizza             \n",
       "False                           518  \n",
       "True                            152  "
      ]
     },
     "execution_count": 101,
     "metadata": {},
     "output_type": "execute_result"
    }
   ],
   "source": [
    "# relation between week day & outcome \n",
    "pd.crosstab(train_df.requester_received_pizza, train_df.timestamp_converted.dt.day_name())"
   ]
  },
  {
   "cell_type": "code",
   "execution_count": 80,
   "metadata": {},
   "outputs": [
    {
     "data": {
      "text/plain": [
       "<matplotlib.axes._subplots.AxesSubplot at 0x7f922d32cac0>"
      ]
     },
     "execution_count": 80,
     "metadata": {},
     "output_type": "execute_result"
    },
    {
     "data": {
      "image/png": "[encoded data removed]",
      "text/plain": [
       "<Figure size 432x288 with 1 Axes>"
      ]
     },
     "metadata": {
      "needs_background": "light"
     },
     "output_type": "display_data"
    }
   ],
   "source": [
    "# distribution by hour\n",
    "train_df.timestamp_converted.dt.hour.value_counts().plot(kind='bar')"
   ]
  },
  {
   "cell_type": "code",
   "execution_count": 79,
   "metadata": {},
   "outputs": [
    {
     "data": {
      "text/plain": [
       "23    354\n",
       "0     346\n",
       "22    336\n",
       "1     324\n",
       "21    312\n",
       "2     306\n",
       "20    277\n",
       "19    244\n",
       "3     224\n",
       "18    210\n",
       "4     181\n",
       "17    164\n",
       "16    150\n",
       "5     117\n",
       "15     93\n",
       "6      91\n",
       "14     62\n",
       "7      56\n",
       "13     47\n",
       "9      39\n",
       "8      35\n",
       "11     25\n",
       "10     25\n",
       "12     22\n",
       "Name: timestamp_converted, dtype: int64"
      ]
     },
     "execution_count": 79,
     "metadata": {},
     "output_type": "execute_result"
    }
   ],
   "source": [
    "train_df.timestamp_converted.dt.hour.value_counts()"
   ]
  },
  {
   "cell_type": "code",
   "execution_count": 102,
   "metadata": {},
   "outputs": [
    {
     "data": {
      "text/html": [
       "<div>\n",
       "<style scoped>\n",
       "    .dataframe tbody tr th:only-of-type {\n",
       "        vertical-align: middle;\n",
       "    }\n",
       "\n",
       "    .dataframe tbody tr th {\n",
       "        vertical-align: top;\n",
       "    }\n",
       "\n",
       "    .dataframe thead th {\n",
       "        text-align: right;\n",
       "    }\n",
       "</style>\n",
       "<table border=\"1\" class=\"dataframe\">\n",
       "  <thead>\n",
       "    <tr style=\"text-align: right;\">\n",
       "      <th>timestamp_converted</th>\n",
       "      <th>0</th>\n",
       "      <th>1</th>\n",
       "      <th>2</th>\n",
       "      <th>3</th>\n",
       "      <th>4</th>\n",
       "      <th>5</th>\n",
       "      <th>6</th>\n",
       "      <th>7</th>\n",
       "      <th>8</th>\n",
       "      <th>9</th>\n",
       "      <th>...</th>\n",
       "      <th>14</th>\n",
       "      <th>15</th>\n",
       "      <th>16</th>\n",
       "      <th>17</th>\n",
       "      <th>18</th>\n",
       "      <th>19</th>\n",
       "      <th>20</th>\n",
       "      <th>21</th>\n",
       "      <th>22</th>\n",
       "      <th>23</th>\n",
       "    </tr>\n",
       "    <tr>\n",
       "      <th>requester_received_pizza</th>\n",
       "      <th></th>\n",
       "      <th></th>\n",
       "      <th></th>\n",
       "      <th></th>\n",
       "      <th></th>\n",
       "      <th></th>\n",
       "      <th></th>\n",
       "      <th></th>\n",
       "      <th></th>\n",
       "      <th></th>\n",
       "      <th></th>\n",
       "      <th></th>\n",
       "      <th></th>\n",
       "      <th></th>\n",
       "      <th></th>\n",
       "      <th></th>\n",
       "      <th></th>\n",
       "      <th></th>\n",
       "      <th></th>\n",
       "      <th></th>\n",
       "      <th></th>\n",
       "    </tr>\n",
       "  </thead>\n",
       "  <tbody>\n",
       "    <tr>\n",
       "      <th>False</th>\n",
       "      <td>262</td>\n",
       "      <td>224</td>\n",
       "      <td>239</td>\n",
       "      <td>177</td>\n",
       "      <td>139</td>\n",
       "      <td>101</td>\n",
       "      <td>71</td>\n",
       "      <td>46</td>\n",
       "      <td>30</td>\n",
       "      <td>31</td>\n",
       "      <td>...</td>\n",
       "      <td>45</td>\n",
       "      <td>62</td>\n",
       "      <td>105</td>\n",
       "      <td>116</td>\n",
       "      <td>152</td>\n",
       "      <td>176</td>\n",
       "      <td>212</td>\n",
       "      <td>236</td>\n",
       "      <td>268</td>\n",
       "      <td>262</td>\n",
       "    </tr>\n",
       "    <tr>\n",
       "      <th>True</th>\n",
       "      <td>84</td>\n",
       "      <td>100</td>\n",
       "      <td>67</td>\n",
       "      <td>47</td>\n",
       "      <td>42</td>\n",
       "      <td>16</td>\n",
       "      <td>20</td>\n",
       "      <td>10</td>\n",
       "      <td>5</td>\n",
       "      <td>8</td>\n",
       "      <td>...</td>\n",
       "      <td>17</td>\n",
       "      <td>31</td>\n",
       "      <td>45</td>\n",
       "      <td>48</td>\n",
       "      <td>58</td>\n",
       "      <td>68</td>\n",
       "      <td>65</td>\n",
       "      <td>76</td>\n",
       "      <td>68</td>\n",
       "      <td>92</td>\n",
       "    </tr>\n",
       "  </tbody>\n",
       "</table>\n",
       "<p>2 rows × 24 columns</p>\n",
       "</div>"
      ],
      "text/plain": [
       "timestamp_converted        0    1    2    3    4    5   6   7   8   9   ...  \\\n",
       "requester_received_pizza                                                ...   \n",
       "False                     262  224  239  177  139  101  71  46  30  31  ...   \n",
       "True                       84  100   67   47   42   16  20  10   5   8  ...   \n",
       "\n",
       "timestamp_converted       14  15   16   17   18   19   20   21   22   23  \n",
       "requester_received_pizza                                                  \n",
       "False                     45  62  105  116  152  176  212  236  268  262  \n",
       "True                      17  31   45   48   58   68   65   76   68   92  \n",
       "\n",
       "[2 rows x 24 columns]"
      ]
     },
     "execution_count": 102,
     "metadata": {},
     "output_type": "execute_result"
    }
   ],
   "source": [
    "# relation between hour & outcome \n",
    "pd.crosstab(train_df.requester_received_pizza, train_df.timestamp_converted.dt.hour)"
   ]
  },
  {
   "cell_type": "markdown",
   "metadata": {},
   "source": [
    "Summary\n",
    "- Majority posts seem to be on Wednesdays\n",
    "- Hour of the day seems to have an effect, most requests after 6pm \n",
    "- Weeks 26 to 39 make up majority of the data"
   ]
  },
  {
   "cell_type": "markdown",
   "metadata": {},
   "source": [
    "# colname: requester_received_pizza (dependent)"
   ]
  },
  {
   "cell_type": "code",
   "execution_count": 28,
   "metadata": {},
   "outputs": [
    {
     "data": {
      "text/plain": [
       "False    3046\n",
       "True      994\n",
       "Name: requester_received_pizza, dtype: int64"
      ]
     },
     "execution_count": 28,
     "metadata": {},
     "output_type": "execute_result"
    }
   ],
   "source": [
    "# outcome variable\n",
    "train_df.requester_received_pizza.value_counts()"
   ]
  },
  {
   "cell_type": "code",
   "execution_count": 30,
   "metadata": {},
   "outputs": [
    {
     "data": {
      "text/plain": [
       "<matplotlib.axes._subplots.AxesSubplot at 0x7f924219f0d0>"
      ]
     },
     "execution_count": 30,
     "metadata": {},
     "output_type": "execute_result"
    },
    {
     "data": {
      "image/png": "[encoded data removed]",
      "text/plain": [
       "<Figure size 432x288 with 1 Axes>"
      ]
     },
     "metadata": {
      "needs_background": "light"
     },
     "output_type": "display_data"
    }
   ],
   "source": [
    "train_df.requester_received_pizza.value_counts().plot(kind='bar')"
   ]
  },
  {
   "cell_type": "code",
   "execution_count": null,
   "metadata": {},
   "outputs": [],
   "source": []
  },
  {
   "cell_type": "code",
   "execution_count": null,
   "metadata": {},
   "outputs": [],
   "source": []
  }
 ],
 "metadata": {
  "kernelspec": {
   "display_name": "Python 3",
   "language": "python",
   "name": "python3"
  },
  "language_info": {
   "codemirror_mode": {
    "name": "ipython",
    "version": 3
   },
   "file_extension": ".py",
   "mimetype": "text/x-python",
   "name": "python",
   "nbconvert_exporter": "python",
   "pygments_lexer": "ipython3",
   "version": "3.8.3"
  }
 },
 "nbformat": 4,
 "nbformat_minor": 4
}
