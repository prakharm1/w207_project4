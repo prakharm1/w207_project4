{
 "cells": [
  {
   "cell_type": "code",
   "execution_count": 1,
   "metadata": {
    "scrolled": true
   },
   "outputs": [
    {
     "name": "stderr",
     "output_type": "stream",
     "text": [
      "[nltk_data] Downloading package punkt to\n",
      "[nltk_data]     /Users/simranbhatia/nltk_data...\n",
      "[nltk_data]   Package punkt is already up-to-date!\n",
      "[nltk_data] Downloading package stopwords to\n",
      "[nltk_data]     /Users/simranbhatia/nltk_data...\n",
      "[nltk_data]   Package stopwords is already up-to-date!\n",
      "[nltk_data] Downloading package wordnet to\n",
      "[nltk_data]     /Users/simranbhatia/nltk_data...\n",
      "[nltk_data]   Package wordnet is already up-to-date!\n",
      "[nltk_data] Downloading package averaged_perceptron_tagger to\n",
      "[nltk_data]     /Users/simranbhatia/nltk_data...\n",
      "[nltk_data]   Package averaged_perceptron_tagger is already up-to-\n",
      "[nltk_data]       date!\n"
     ]
    },
    {
     "data": {
      "text/plain": [
       "True"
      ]
     },
     "execution_count": 1,
     "metadata": {},
     "output_type": "execute_result"
    }
   ],
   "source": [
    "# SK-learn libraries for feature extraction from text.\n",
    "from sklearn.feature_extraction.text import *\n",
    "import pandas as pd\n",
    "from datetime import datetime\n",
    "import re\n",
    "import nltk\n",
    "import json\n",
    "import numpy as np\n",
    "from nltk import sent_tokenize, word_tokenize\n",
    "from nltk import pos_tag\n",
    "from nltk.stem import WordNetLemmatizer\n",
    "from nltk.corpus import stopwords\n",
    "from string import punctuation\n",
    "from textblob import TextBlob\n",
    "import contractions \n",
    "from sklearn.decomposition import LatentDirichletAllocation\n",
    "from sklearn.decomposition import NMF\n",
    "from sklearn.pipeline import make_pipeline\n",
    "from sklearn.ensemble import RandomForestClassifier\n",
    "from sklearn.model_selection import RandomizedSearchCV\n",
    "from sklearn.metrics import precision_recall_curve\n",
    "from sklearn.metrics import classification_report\n",
    "import sklearn.tree\n",
    "import re\n",
    "\n",
    "%matplotlib inline\n",
    "import csv\n",
    "import sklearn\n",
    "import matplotlib.pyplot as plt\n",
    "import seaborn as sns\n",
    "from sklearn.model_selection import train_test_split \n",
    "sns.set(style=\"darkgrid\")\n",
    "\n",
    "import gensim\n",
    "from gensim.models import Phrases, KeyedVectors, Word2Vec\n",
    "import gensim.downloader\n",
    "\n",
    "from scipy import stats\n",
    "\n",
    "nltk.download('punkt')\n",
    "nltk.download('stopwords')\n",
    "nltk.download('wordnet')\n",
    "nltk.download('averaged_perceptron_tagger')"
   ]
  },
  {
   "cell_type": "markdown",
   "metadata": {},
   "source": [
    "## Problem Introduction\n",
    "\n",
    "We have a dataset in JSON format containing information about the user activity in a reddit forum **ROAP**. Our feature set comes from a bunch of user features noted at the time of posting user comments in the forun alogside the titel and text they chose. The response variable is whether the requester received the pizza or not."
   ]
  },
  {
   "cell_type": "markdown",
   "metadata": {},
   "source": [
    "### 1. Loading the training data"
   ]
  },
  {
   "cell_type": "code",
   "execution_count": 2,
   "metadata": {},
   "outputs": [],
   "source": [
    "with open('data/random-acts-of-pizza/train.json') as f:\n",
    "    train_json_data = json.load(f)"
   ]
  },
  {
   "cell_type": "code",
   "execution_count": 3,
   "metadata": {},
   "outputs": [
    {
     "name": "stderr",
     "output_type": "stream",
     "text": [
      "<ipython-input-3-41f57f100816>:1: FutureWarning: pandas.io.json.json_normalize is deprecated, use pandas.json_normalize instead\n",
      "  df = pd.io.json.json_normalize(train_json_data)\n"
     ]
    },
    {
     "data": {
      "text/html": [
       "<div>\n",
       "<style scoped>\n",
       "    .dataframe tbody tr th:only-of-type {\n",
       "        vertical-align: middle;\n",
       "    }\n",
       "\n",
       "    .dataframe tbody tr th {\n",
       "        vertical-align: top;\n",
       "    }\n",
       "\n",
       "    .dataframe thead th {\n",
       "        text-align: right;\n",
       "    }\n",
       "</style>\n",
       "<table border=\"1\" class=\"dataframe\">\n",
       "  <thead>\n",
       "    <tr style=\"text-align: right;\">\n",
       "      <th></th>\n",
       "      <th>giver_username_if_known</th>\n",
       "      <th>number_of_downvotes_of_request_at_retrieval</th>\n",
       "      <th>number_of_upvotes_of_request_at_retrieval</th>\n",
       "      <th>post_was_edited</th>\n",
       "      <th>request_id</th>\n",
       "      <th>request_number_of_comments_at_retrieval</th>\n",
       "      <th>request_text</th>\n",
       "      <th>request_text_edit_aware</th>\n",
       "      <th>request_title</th>\n",
       "      <th>requester_account_age_in_days_at_request</th>\n",
       "      <th>...</th>\n",
       "      <th>requester_received_pizza</th>\n",
       "      <th>requester_subreddits_at_request</th>\n",
       "      <th>requester_upvotes_minus_downvotes_at_request</th>\n",
       "      <th>requester_upvotes_minus_downvotes_at_retrieval</th>\n",
       "      <th>requester_upvotes_plus_downvotes_at_request</th>\n",
       "      <th>requester_upvotes_plus_downvotes_at_retrieval</th>\n",
       "      <th>requester_user_flair</th>\n",
       "      <th>requester_username</th>\n",
       "      <th>unix_timestamp_of_request</th>\n",
       "      <th>unix_timestamp_of_request_utc</th>\n",
       "    </tr>\n",
       "  </thead>\n",
       "  <tbody>\n",
       "    <tr>\n",
       "      <th>0</th>\n",
       "      <td>N/A</td>\n",
       "      <td>0</td>\n",
       "      <td>1</td>\n",
       "      <td>False</td>\n",
       "      <td>t3_l25d7</td>\n",
       "      <td>0</td>\n",
       "      <td>Hi I am in need of food for my 4 children we a...</td>\n",
       "      <td>Hi I am in need of food for my 4 children we a...</td>\n",
       "      <td>Request Colorado Springs Help Us Please</td>\n",
       "      <td>0.000000</td>\n",
       "      <td>...</td>\n",
       "      <td>False</td>\n",
       "      <td>[]</td>\n",
       "      <td>0</td>\n",
       "      <td>1</td>\n",
       "      <td>0</td>\n",
       "      <td>1</td>\n",
       "      <td>None</td>\n",
       "      <td>nickylvst</td>\n",
       "      <td>1.317853e+09</td>\n",
       "      <td>1.317849e+09</td>\n",
       "    </tr>\n",
       "    <tr>\n",
       "      <th>1</th>\n",
       "      <td>N/A</td>\n",
       "      <td>2</td>\n",
       "      <td>5</td>\n",
       "      <td>False</td>\n",
       "      <td>t3_rcb83</td>\n",
       "      <td>0</td>\n",
       "      <td>I spent the last money I had on gas today. Im ...</td>\n",
       "      <td>I spent the last money I had on gas today. Im ...</td>\n",
       "      <td>[Request] California, No cash and I could use ...</td>\n",
       "      <td>501.111100</td>\n",
       "      <td>...</td>\n",
       "      <td>False</td>\n",
       "      <td>[AskReddit, Eve, IAmA, MontereyBay, RandomKind...</td>\n",
       "      <td>34</td>\n",
       "      <td>4258</td>\n",
       "      <td>116</td>\n",
       "      <td>11168</td>\n",
       "      <td>None</td>\n",
       "      <td>fohacidal</td>\n",
       "      <td>1.332652e+09</td>\n",
       "      <td>1.332649e+09</td>\n",
       "    </tr>\n",
       "    <tr>\n",
       "      <th>2</th>\n",
       "      <td>N/A</td>\n",
       "      <td>0</td>\n",
       "      <td>3</td>\n",
       "      <td>False</td>\n",
       "      <td>t3_lpu5j</td>\n",
       "      <td>0</td>\n",
       "      <td>My girlfriend decided it would be a good idea ...</td>\n",
       "      <td>My girlfriend decided it would be a good idea ...</td>\n",
       "      <td>[Request] Hungry couple in Dundee, Scotland wo...</td>\n",
       "      <td>0.000000</td>\n",
       "      <td>...</td>\n",
       "      <td>False</td>\n",
       "      <td>[]</td>\n",
       "      <td>0</td>\n",
       "      <td>3</td>\n",
       "      <td>0</td>\n",
       "      <td>3</td>\n",
       "      <td>None</td>\n",
       "      <td>jacquibatman7</td>\n",
       "      <td>1.319650e+09</td>\n",
       "      <td>1.319646e+09</td>\n",
       "    </tr>\n",
       "    <tr>\n",
       "      <th>3</th>\n",
       "      <td>N/A</td>\n",
       "      <td>0</td>\n",
       "      <td>1</td>\n",
       "      <td>True</td>\n",
       "      <td>t3_mxvj3</td>\n",
       "      <td>4</td>\n",
       "      <td>It's cold, I'n hungry, and to be completely ho...</td>\n",
       "      <td>It's cold, I'n hungry, and to be completely ho...</td>\n",
       "      <td>[Request] In Canada (Ontario), just got home f...</td>\n",
       "      <td>6.518438</td>\n",
       "      <td>...</td>\n",
       "      <td>False</td>\n",
       "      <td>[AskReddit, DJs, IAmA, Random_Acts_Of_Pizza]</td>\n",
       "      <td>54</td>\n",
       "      <td>59</td>\n",
       "      <td>76</td>\n",
       "      <td>81</td>\n",
       "      <td>None</td>\n",
       "      <td>4on_the_floor</td>\n",
       "      <td>1.322855e+09</td>\n",
       "      <td>1.322855e+09</td>\n",
       "    </tr>\n",
       "    <tr>\n",
       "      <th>4</th>\n",
       "      <td>N/A</td>\n",
       "      <td>6</td>\n",
       "      <td>6</td>\n",
       "      <td>False</td>\n",
       "      <td>t3_1i6486</td>\n",
       "      <td>5</td>\n",
       "      <td>hey guys:\\n I love this sub. I think it's grea...</td>\n",
       "      <td>hey guys:\\n I love this sub. I think it's grea...</td>\n",
       "      <td>[Request] Old friend coming to visit. Would LO...</td>\n",
       "      <td>162.063252</td>\n",
       "      <td>...</td>\n",
       "      <td>False</td>\n",
       "      <td>[GayBrosWeightLoss, RandomActsOfCookies, Rando...</td>\n",
       "      <td>1121</td>\n",
       "      <td>1225</td>\n",
       "      <td>1733</td>\n",
       "      <td>1887</td>\n",
       "      <td>None</td>\n",
       "      <td>Futuredogwalker</td>\n",
       "      <td>1.373658e+09</td>\n",
       "      <td>1.373654e+09</td>\n",
       "    </tr>\n",
       "  </tbody>\n",
       "</table>\n",
       "<p>5 rows × 32 columns</p>\n",
       "</div>"
      ],
      "text/plain": [
       "  giver_username_if_known  number_of_downvotes_of_request_at_retrieval  \\\n",
       "0                     N/A                                            0   \n",
       "1                     N/A                                            2   \n",
       "2                     N/A                                            0   \n",
       "3                     N/A                                            0   \n",
       "4                     N/A                                            6   \n",
       "\n",
       "   number_of_upvotes_of_request_at_retrieval post_was_edited request_id  \\\n",
       "0                                          1           False   t3_l25d7   \n",
       "1                                          5           False   t3_rcb83   \n",
       "2                                          3           False   t3_lpu5j   \n",
       "3                                          1            True   t3_mxvj3   \n",
       "4                                          6           False  t3_1i6486   \n",
       "\n",
       "   request_number_of_comments_at_retrieval  \\\n",
       "0                                        0   \n",
       "1                                        0   \n",
       "2                                        0   \n",
       "3                                        4   \n",
       "4                                        5   \n",
       "\n",
       "                                        request_text  \\\n",
       "0  Hi I am in need of food for my 4 children we a...   \n",
       "1  I spent the last money I had on gas today. Im ...   \n",
       "2  My girlfriend decided it would be a good idea ...   \n",
       "3  It's cold, I'n hungry, and to be completely ho...   \n",
       "4  hey guys:\\n I love this sub. I think it's grea...   \n",
       "\n",
       "                             request_text_edit_aware  \\\n",
       "0  Hi I am in need of food for my 4 children we a...   \n",
       "1  I spent the last money I had on gas today. Im ...   \n",
       "2  My girlfriend decided it would be a good idea ...   \n",
       "3  It's cold, I'n hungry, and to be completely ho...   \n",
       "4  hey guys:\\n I love this sub. I think it's grea...   \n",
       "\n",
       "                                       request_title  \\\n",
       "0            Request Colorado Springs Help Us Please   \n",
       "1  [Request] California, No cash and I could use ...   \n",
       "2  [Request] Hungry couple in Dundee, Scotland wo...   \n",
       "3  [Request] In Canada (Ontario), just got home f...   \n",
       "4  [Request] Old friend coming to visit. Would LO...   \n",
       "\n",
       "   requester_account_age_in_days_at_request  ...  requester_received_pizza  \\\n",
       "0                                  0.000000  ...                     False   \n",
       "1                                501.111100  ...                     False   \n",
       "2                                  0.000000  ...                     False   \n",
       "3                                  6.518438  ...                     False   \n",
       "4                                162.063252  ...                     False   \n",
       "\n",
       "                     requester_subreddits_at_request  \\\n",
       "0                                                 []   \n",
       "1  [AskReddit, Eve, IAmA, MontereyBay, RandomKind...   \n",
       "2                                                 []   \n",
       "3       [AskReddit, DJs, IAmA, Random_Acts_Of_Pizza]   \n",
       "4  [GayBrosWeightLoss, RandomActsOfCookies, Rando...   \n",
       "\n",
       "   requester_upvotes_minus_downvotes_at_request  \\\n",
       "0                                             0   \n",
       "1                                            34   \n",
       "2                                             0   \n",
       "3                                            54   \n",
       "4                                          1121   \n",
       "\n",
       "   requester_upvotes_minus_downvotes_at_retrieval  \\\n",
       "0                                               1   \n",
       "1                                            4258   \n",
       "2                                               3   \n",
       "3                                              59   \n",
       "4                                            1225   \n",
       "\n",
       "   requester_upvotes_plus_downvotes_at_request  \\\n",
       "0                                            0   \n",
       "1                                          116   \n",
       "2                                            0   \n",
       "3                                           76   \n",
       "4                                         1733   \n",
       "\n",
       "   requester_upvotes_plus_downvotes_at_retrieval  requester_user_flair  \\\n",
       "0                                              1                  None   \n",
       "1                                          11168                  None   \n",
       "2                                              3                  None   \n",
       "3                                             81                  None   \n",
       "4                                           1887                  None   \n",
       "\n",
       "   requester_username  unix_timestamp_of_request  \\\n",
       "0           nickylvst               1.317853e+09   \n",
       "1           fohacidal               1.332652e+09   \n",
       "2       jacquibatman7               1.319650e+09   \n",
       "3       4on_the_floor               1.322855e+09   \n",
       "4     Futuredogwalker               1.373658e+09   \n",
       "\n",
       "   unix_timestamp_of_request_utc  \n",
       "0                   1.317849e+09  \n",
       "1                   1.332649e+09  \n",
       "2                   1.319646e+09  \n",
       "3                   1.322855e+09  \n",
       "4                   1.373654e+09  \n",
       "\n",
       "[5 rows x 32 columns]"
      ]
     },
     "execution_count": 3,
     "metadata": {},
     "output_type": "execute_result"
    }
   ],
   "source": [
    "df = pd.io.json.json_normalize(train_json_data) \n",
    "df.head()"
   ]
  },
  {
   "cell_type": "code",
   "execution_count": 4,
   "metadata": {},
   "outputs": [
    {
     "name": "stdout",
     "output_type": "stream",
     "text": [
      "Total data rows in full training set: 4040\n",
      "Total data columns in full training set: 32\n"
     ]
    }
   ],
   "source": [
    "print('Total data rows in full training set: {}'.format(df.shape[0]))\n",
    "print('Total data columns in full training set: {}'.format(df.shape[1]))"
   ]
  },
  {
   "cell_type": "markdown",
   "metadata": {},
   "source": [
    "### 2. Splitting training set into training and validation\n",
    "\n",
    "As we don't have labeled test set, we have to split existing training data into training and validation set in order to evaluate our model performance. We have already split the train and validation in 90/10 ratio and saved as csv files. We read them directly in memory."
   ]
  },
  {
   "cell_type": "code",
   "execution_count": 5,
   "metadata": {},
   "outputs": [],
   "source": [
    "# split data in training and test data\n",
    "train, val = train_test_split(df, test_size=0.1)"
   ]
  },
  {
   "cell_type": "code",
   "execution_count": 6,
   "metadata": {},
   "outputs": [
    {
     "name": "stdout",
     "output_type": "stream",
     "text": [
      "(3636, 32)\n",
      "(404, 32)\n"
     ]
    }
   ],
   "source": [
    "print(train.shape)\n",
    "print(val.shape)"
   ]
  },
  {
   "cell_type": "markdown",
   "metadata": {},
   "source": [
    "### 3. Extracting relevant columns (which are present in test data) "
   ]
  },
  {
   "cell_type": "code",
   "execution_count": 7,
   "metadata": {},
   "outputs": [],
   "source": [
    "relevant_cols = ['request_title', 'request_text_edit_aware' ,\n",
    "                 'requester_number_of_posts_on_raop_at_request', \n",
    "                'requester_number_of_subreddits_at_request', \n",
    "                 'unix_timestamp_of_request', \n",
    "                'requester_account_age_in_days_at_request',\n",
    "                'requester_subreddits_at_request',\n",
    "                'requester_upvotes_minus_downvotes_at_request', \n",
    "                'requester_upvotes_plus_downvotes_at_request']\n",
    "\n",
    "text_cols = ['request_title','request_text_edit_aware']\n",
    "y_col = 'requester_received_pizza'"
   ]
  },
  {
   "cell_type": "code",
   "execution_count": 8,
   "metadata": {},
   "outputs": [
    {
     "data": {
      "text/html": [
       "<div>\n",
       "<style scoped>\n",
       "    .dataframe tbody tr th:only-of-type {\n",
       "        vertical-align: middle;\n",
       "    }\n",
       "\n",
       "    .dataframe tbody tr th {\n",
       "        vertical-align: top;\n",
       "    }\n",
       "\n",
       "    .dataframe thead th {\n",
       "        text-align: right;\n",
       "    }\n",
       "</style>\n",
       "<table border=\"1\" class=\"dataframe\">\n",
       "  <thead>\n",
       "    <tr style=\"text-align: right;\">\n",
       "      <th></th>\n",
       "      <th>requester_received_pizza</th>\n",
       "      <th>request_title</th>\n",
       "      <th>request_text_edit_aware</th>\n",
       "      <th>requester_number_of_posts_on_raop_at_request</th>\n",
       "      <th>requester_number_of_subreddits_at_request</th>\n",
       "      <th>unix_timestamp_of_request</th>\n",
       "      <th>requester_account_age_in_days_at_request</th>\n",
       "      <th>requester_subreddits_at_request</th>\n",
       "      <th>requester_upvotes_minus_downvotes_at_request</th>\n",
       "      <th>requester_upvotes_plus_downvotes_at_request</th>\n",
       "    </tr>\n",
       "  </thead>\n",
       "  <tbody>\n",
       "    <tr>\n",
       "      <th>929</th>\n",
       "      <td>True</td>\n",
       "      <td>[REQUEST] New Zealand, hungry artist will tra...</td>\n",
       "      <td>Will draw a little torso sketch of you as a fa...</td>\n",
       "      <td>0</td>\n",
       "      <td>10</td>\n",
       "      <td>1.350023e+09</td>\n",
       "      <td>47.877743</td>\n",
       "      <td>[AskReddit, Music, WTF, atheism, aww, depressi...</td>\n",
       "      <td>105</td>\n",
       "      <td>205</td>\n",
       "    </tr>\n",
       "    <tr>\n",
       "      <th>2852</th>\n",
       "      <td>False</td>\n",
       "      <td>[REQUES] Down and out in need of pizza</td>\n",
       "      <td>Got roughly $6,000 on 4 cards over the years f...</td>\n",
       "      <td>0</td>\n",
       "      <td>0</td>\n",
       "      <td>1.319931e+09</td>\n",
       "      <td>0.000000</td>\n",
       "      <td>[]</td>\n",
       "      <td>0</td>\n",
       "      <td>0</td>\n",
       "    </tr>\n",
       "    <tr>\n",
       "      <th>2122</th>\n",
       "      <td>False</td>\n",
       "      <td>[Request] Bellingham WA - starving in a strang...</td>\n",
       "      <td>I just got into bellingham this morning, tryin...</td>\n",
       "      <td>0</td>\n",
       "      <td>4</td>\n",
       "      <td>1.364878e+09</td>\n",
       "      <td>937.596898</td>\n",
       "      <td>[AskReddit, DotA2, gaming, todayilearned]</td>\n",
       "      <td>3</td>\n",
       "      <td>31</td>\n",
       "    </tr>\n",
       "    <tr>\n",
       "      <th>1615</th>\n",
       "      <td>False</td>\n",
       "      <td>[Request] Parents went out of town for the wee...</td>\n",
       "      <td>Parents went out of town for Memorial Day week...</td>\n",
       "      <td>0</td>\n",
       "      <td>33</td>\n",
       "      <td>1.369599e+09</td>\n",
       "      <td>1038.850463</td>\n",
       "      <td>[AdviceAnimals, AskReddit, IAmA, ImGoingToHell...</td>\n",
       "      <td>5030</td>\n",
       "      <td>39490</td>\n",
       "    </tr>\n",
       "    <tr>\n",
       "      <th>458</th>\n",
       "      <td>False</td>\n",
       "      <td>[REQUEST] Off of both jobs tonight, just wanti...</td>\n",
       "      <td>Hi! I felt bad making a request but I'm home a...</td>\n",
       "      <td>0</td>\n",
       "      <td>6</td>\n",
       "      <td>1.344042e+09</td>\n",
       "      <td>109.047523</td>\n",
       "      <td>[AskReddit, DIY, Random_Acts_Of_Amazon, advent...</td>\n",
       "      <td>725</td>\n",
       "      <td>1053</td>\n",
       "    </tr>\n",
       "  </tbody>\n",
       "</table>\n",
       "</div>"
      ],
      "text/plain": [
       "      requester_received_pizza  \\\n",
       "929                       True   \n",
       "2852                     False   \n",
       "2122                     False   \n",
       "1615                     False   \n",
       "458                      False   \n",
       "\n",
       "                                          request_title  \\\n",
       "929    [REQUEST] New Zealand, hungry artist will tra...   \n",
       "2852             [REQUES] Down and out in need of pizza   \n",
       "2122  [Request] Bellingham WA - starving in a strang...   \n",
       "1615  [Request] Parents went out of town for the wee...   \n",
       "458   [REQUEST] Off of both jobs tonight, just wanti...   \n",
       "\n",
       "                                request_text_edit_aware  \\\n",
       "929   Will draw a little torso sketch of you as a fa...   \n",
       "2852  Got roughly $6,000 on 4 cards over the years f...   \n",
       "2122  I just got into bellingham this morning, tryin...   \n",
       "1615  Parents went out of town for Memorial Day week...   \n",
       "458   Hi! I felt bad making a request but I'm home a...   \n",
       "\n",
       "      requester_number_of_posts_on_raop_at_request  \\\n",
       "929                                              0   \n",
       "2852                                             0   \n",
       "2122                                             0   \n",
       "1615                                             0   \n",
       "458                                              0   \n",
       "\n",
       "      requester_number_of_subreddits_at_request  unix_timestamp_of_request  \\\n",
       "929                                          10               1.350023e+09   \n",
       "2852                                          0               1.319931e+09   \n",
       "2122                                          4               1.364878e+09   \n",
       "1615                                         33               1.369599e+09   \n",
       "458                                           6               1.344042e+09   \n",
       "\n",
       "      requester_account_age_in_days_at_request  \\\n",
       "929                                  47.877743   \n",
       "2852                                  0.000000   \n",
       "2122                                937.596898   \n",
       "1615                               1038.850463   \n",
       "458                                 109.047523   \n",
       "\n",
       "                        requester_subreddits_at_request  \\\n",
       "929   [AskReddit, Music, WTF, atheism, aww, depressi...   \n",
       "2852                                                 []   \n",
       "2122          [AskReddit, DotA2, gaming, todayilearned]   \n",
       "1615  [AdviceAnimals, AskReddit, IAmA, ImGoingToHell...   \n",
       "458   [AskReddit, DIY, Random_Acts_Of_Amazon, advent...   \n",
       "\n",
       "      requester_upvotes_minus_downvotes_at_request  \\\n",
       "929                                            105   \n",
       "2852                                             0   \n",
       "2122                                             3   \n",
       "1615                                          5030   \n",
       "458                                            725   \n",
       "\n",
       "      requester_upvotes_plus_downvotes_at_request  \n",
       "929                                           205  \n",
       "2852                                            0  \n",
       "2122                                           31  \n",
       "1615                                        39490  \n",
       "458                                          1053  "
      ]
     },
     "execution_count": 8,
     "metadata": {},
     "output_type": "execute_result"
    }
   ],
   "source": [
    "train = train[[y_col] + relevant_cols]\n",
    "val = val[[y_col] + relevant_cols]\n",
    "train.head()"
   ]
  },
  {
   "cell_type": "code",
   "execution_count": 9,
   "metadata": {},
   "outputs": [
    {
     "name": "stdout",
     "output_type": "stream",
     "text": [
      "(3636, 10)\n",
      "(404, 10)\n"
     ]
    }
   ],
   "source": [
    "print(train.shape)\n",
    "print(val.shape)"
   ]
  },
  {
   "cell_type": "markdown",
   "metadata": {},
   "source": [
    "### 4. Exploration of outcome variable (univariate)"
   ]
  },
  {
   "cell_type": "code",
   "execution_count": 10,
   "metadata": {},
   "outputs": [
    {
     "data": {
      "image/png": "[encoded data removed]",
      "text/plain": [
       "<Figure size 432x288 with 1 Axes>"
      ]
     },
     "metadata": {},
     "output_type": "display_data"
    }
   ],
   "source": [
    "ax = train['requester_received_pizza'].value_counts(normalize=True).plot(kind='bar')\n",
    "for p in ax.patches:\n",
    "    ax.annotate(str(round(p.get_height(), 5)), (p.get_x() * 1.005, p.get_height() * 1.005))\n",
    "plt.title('Success Rate in Training')\n",
    "plt.ylabel('Number of Occurrences', fontsize=12)\n",
    "pass"
   ]
  },
  {
   "cell_type": "markdown",
   "metadata": {},
   "source": [
    "We see that there is a **24.5% success rate** in our training set. This is encouraging as although there is a class imbalance in our training dataset, it is not extream. "
   ]
  },
  {
   "cell_type": "markdown",
   "metadata": {},
   "source": [
    "### 5. Exploration of non-text features"
   ]
  },
  {
   "cell_type": "markdown",
   "metadata": {},
   "source": [
    "#### 5.1 requester_number_of_posts_on_raop_at_request\n",
    "\n",
    "It is evident that most of the requesters in our training set (95.25%) made their first post on RAOP when they requested for pizza. This strongly suggests a novelty effect at play if the training data is representative. When people discover this group and see others requesting pizza, they themselves are encouraged to ask for pizza from an unknown community."
   ]
  },
  {
   "cell_type": "code",
   "execution_count": 11,
   "metadata": {},
   "outputs": [
    {
     "data": {
      "text/plain": [
       "0    3467\n",
       "1     126\n",
       "2      33\n",
       "3       7\n",
       "5       2\n",
       "4       1\n",
       "Name: requester_number_of_posts_on_raop_at_request, dtype: int64"
      ]
     },
     "execution_count": 11,
     "metadata": {},
     "output_type": "execute_result"
    }
   ],
   "source": [
    "train['requester_number_of_posts_on_raop_at_request'].value_counts()"
   ]
  },
  {
   "cell_type": "code",
   "execution_count": 12,
   "metadata": {},
   "outputs": [
    {
     "data": {
      "image/png": "[encoded data removed]",
      "text/plain": [
       "<Figure size 432x288 with 1 Axes>"
      ]
     },
     "metadata": {},
     "output_type": "display_data"
    }
   ],
   "source": [
    "ax = train['requester_number_of_posts_on_raop_at_request'].value_counts(normalize=True).plot(kind='bar')\n",
    "for p in ax.patches:\n",
    "    ax.annotate(str(round(p.get_height(), 2)), (p.get_x() * 1.005, p.get_height() * 1.005))\n",
    "plt.title('Distribution of Number of posts on RAOP at request')\n",
    "plt.ylabel('Number of Occurrences', fontsize=12)\n",
    "pass"
   ]
  },
  {
   "cell_type": "code",
   "execution_count": 13,
   "metadata": {},
   "outputs": [
    {
     "data": {
      "image/png": "[encoded data removed]",
      "text/plain": [
       "<Figure size 432x288 with 1 Axes>"
      ]
     },
     "metadata": {},
     "output_type": "display_data"
    }
   ],
   "source": [
    "sns.countplot(x = 'requester_number_of_posts_on_raop_at_request', \n",
    "              hue='requester_received_pizza', data=train)\n",
    "plt.title('Distribution of success rate across #posts at request')\n",
    "pass"
   ]
  },
  {
   "cell_type": "markdown",
   "metadata": {},
   "source": [
    "#### 5.2 requester_number_of_subreddits_at_request\n",
    "\n",
    "We see the following pattern \n",
    "\n",
    "|Category|sub-reddits|count|Prcnt|\n",
    "|--|--|--|--|\n",
    "|New comer|0|656|18.04%|\n",
    "|Newbie|1-5|730|20.07%|\n",
    "|Somewhat Engaged|5-10|441|12.12%|\n",
    "|Medium Engaged|10-50|1510|41.53%|\n",
    "|Highly Engaged|50-100|267|7.34%|\n",
    "|Power users|100+|32|0.88%|\n",
    "\n",
    "\n",
    "This indicates that may be users are finding ROAP via freeform browsing and engaging when needed. Most of the users are existing users of reddit platform. "
   ]
  },
  {
   "cell_type": "code",
   "execution_count": 14,
   "metadata": {},
   "outputs": [
    {
     "data": {
      "text/plain": [
       "3. 10-50     0.422717\n",
       "1. 1-5       0.198295\n",
       "0. 0         0.183168\n",
       "2. 5-10      0.115512\n",
       "4. 50-100    0.072332\n",
       "5. 100+      0.007976\n",
       "Name: requester_number_of_subreddits_at_request, dtype: float64"
      ]
     },
     "execution_count": 14,
     "metadata": {},
     "output_type": "execute_result"
    }
   ],
   "source": [
    "pd.cut(train['requester_number_of_subreddits_at_request'], \n",
    "       [-np.inf, 0, 5, 10, 50, 100, np.inf], \n",
    "       labels=['0. 0','1. 1-5', '2. 5-10', '3. 10-50', '4. 50-100', '5. 100+']).value_counts(normalize=True)"
   ]
  },
  {
   "cell_type": "code",
   "execution_count": 15,
   "metadata": {},
   "outputs": [
    {
     "data": {
      "image/png": "[encoded data removed]",
      "text/plain": [
       "<Figure size 432x288 with 1 Axes>"
      ]
     },
     "metadata": {},
     "output_type": "display_data"
    }
   ],
   "source": [
    "ax = pd.cut(train['requester_number_of_subreddits_at_request'], \n",
    "       [-np.inf, 0, 5, 10, 50, 100, np.inf], \n",
    "       labels=['0. 0','1. 1-5', '2. 5-10', '3. 10-50', '4. 50-100', '5. 100+']).value_counts().sort_index().plot(kind='bar')\n",
    "for p in ax.patches:\n",
    "    ax.annotate(str(round(p.get_height(), 2)), (p.get_x() * 1.005, p.get_height() * 1.005))\n",
    "plt.title('Distribution of number_of_subreddits_at_request')\n",
    "plt.ylabel('Number of Occurrences', fontsize=12)\n",
    "pass"
   ]
  },
  {
   "cell_type": "code",
   "execution_count": 16,
   "metadata": {},
   "outputs": [],
   "source": [
    "# creating the new feature\n",
    "feat_train = pd.cut(train['requester_number_of_subreddits_at_request'], \n",
    "       [-np.inf, 0, 5, 10, 50, 100, np.inf], \n",
    "       labels=['0. 0','1. 1-5', '2. 5-10', '3. 10-50', '4. 50-100', '5. 100+'])\n",
    "\n",
    "feat_val = pd.cut(val['requester_number_of_subreddits_at_request'], \n",
    "       [-np.inf, 0, 5, 10, 50, 100, np.inf], \n",
    "       labels=['0. 0','1. 1-5', '2. 5-10', '3. 10-50', '4. 50-100', '5. 100+'])\n",
    "\n",
    "train['num_subreddits_req'] = feat_train\n",
    "val['num_subreddits_req'] = feat_val"
   ]
  },
  {
   "cell_type": "code",
   "execution_count": 17,
   "metadata": {},
   "outputs": [
    {
     "data": {
      "image/png": "[encoded data removed]",
      "text/plain": [
       "<Figure size 432x288 with 1 Axes>"
      ]
     },
     "metadata": {},
     "output_type": "display_data"
    }
   ],
   "source": [
    "sns.countplot(x = 'num_subreddits_req', hue='requester_received_pizza', data=train)\n",
    "plt.title('Distribution of success rate across #subreddits at request')\n",
    "pass"
   ]
  },
  {
   "cell_type": "markdown",
   "metadata": {},
   "source": [
    "#### 5.3 Unix timestamp of request"
   ]
  },
  {
   "cell_type": "code",
   "execution_count": 18,
   "metadata": {},
   "outputs": [],
   "source": [
    "# Need to change format of unix timestamp of request, currently it's a float\n",
    "train['timestamp_converted'] = pd.to_datetime(train['unix_timestamp_of_request'],unit='s')"
   ]
  },
  {
   "cell_type": "markdown",
   "metadata": {},
   "source": [
    "#### 5.3.1 Distribution by the hour of the day when the request was made"
   ]
  },
  {
   "cell_type": "code",
   "execution_count": 19,
   "metadata": {},
   "outputs": [
    {
     "data": {
      "text/html": [
       "<div>\n",
       "<style scoped>\n",
       "    .dataframe tbody tr th:only-of-type {\n",
       "        vertical-align: middle;\n",
       "    }\n",
       "\n",
       "    .dataframe tbody tr th {\n",
       "        vertical-align: top;\n",
       "    }\n",
       "\n",
       "    .dataframe thead th {\n",
       "        text-align: right;\n",
       "    }\n",
       "</style>\n",
       "<table border=\"1\" class=\"dataframe\">\n",
       "  <thead>\n",
       "    <tr style=\"text-align: right;\">\n",
       "      <th>hour_bin_4</th>\n",
       "      <th>(-0.023, 3.833]</th>\n",
       "      <th>(3.833, 7.667]</th>\n",
       "      <th>(7.667, 11.5]</th>\n",
       "      <th>(11.5, 15.333]</th>\n",
       "      <th>(15.333, 19.167]</th>\n",
       "      <th>(19.167, 23.0]</th>\n",
       "    </tr>\n",
       "    <tr>\n",
       "      <th>requester_received_pizza</th>\n",
       "      <th></th>\n",
       "      <th></th>\n",
       "      <th></th>\n",
       "      <th></th>\n",
       "      <th></th>\n",
       "      <th></th>\n",
       "    </tr>\n",
       "  </thead>\n",
       "  <tbody>\n",
       "    <tr>\n",
       "      <th>False</th>\n",
       "      <td>0.752549</td>\n",
       "      <td>0.801508</td>\n",
       "      <td>0.842105</td>\n",
       "      <td>0.695431</td>\n",
       "      <td>0.706223</td>\n",
       "      <td>0.761452</td>\n",
       "    </tr>\n",
       "    <tr>\n",
       "      <th>True</th>\n",
       "      <td>0.247451</td>\n",
       "      <td>0.198492</td>\n",
       "      <td>0.157895</td>\n",
       "      <td>0.304569</td>\n",
       "      <td>0.293777</td>\n",
       "      <td>0.238548</td>\n",
       "    </tr>\n",
       "  </tbody>\n",
       "</table>\n",
       "</div>"
      ],
      "text/plain": [
       "hour_bin_4                (-0.023, 3.833]  (3.833, 7.667]  (7.667, 11.5]  \\\n",
       "requester_received_pizza                                                   \n",
       "False                            0.752549        0.801508       0.842105   \n",
       "True                             0.247451        0.198492       0.157895   \n",
       "\n",
       "hour_bin_4                (11.5, 15.333]  (15.333, 19.167]  (19.167, 23.0]  \n",
       "requester_received_pizza                                                    \n",
       "False                           0.695431          0.706223        0.761452  \n",
       "True                            0.304569          0.293777        0.238548  "
      ]
     },
     "execution_count": 19,
     "metadata": {},
     "output_type": "execute_result"
    }
   ],
   "source": [
    "train['hour_bin_4'] = pd.cut(train['timestamp_converted'].dt.hour, 6)\n",
    "pd.DataFrame(pd.crosstab(train.requester_received_pizza, \n",
    "            train.hour_bin_4).apply(lambda r: r/r.sum(), axis=0))"
   ]
  },
  {
   "cell_type": "markdown",
   "metadata": {},
   "source": [
    "It is seen that different times of the data impact the outcome, with 11 am to 7 pm seeing majority of True requests."
   ]
  },
  {
   "cell_type": "markdown",
   "metadata": {},
   "source": [
    "#### 5.3.4 requester_account_age_in_days_at_request"
   ]
  },
  {
   "cell_type": "code",
   "execution_count": 20,
   "metadata": {},
   "outputs": [
    {
     "data": {
      "text/plain": [
       "{'whiskers': [<matplotlib.lines.Line2D at 0x7fef8937e310>,\n",
       "  <matplotlib.lines.Line2D at 0x7fef8937e670>,\n",
       "  <matplotlib.lines.Line2D at 0x7fef8938cb20>,\n",
       "  <matplotlib.lines.Line2D at 0x7fef8938ce80>],\n",
       " 'caps': [<matplotlib.lines.Line2D at 0x7fef8937e9d0>,\n",
       "  <matplotlib.lines.Line2D at 0x7fef8937ed30>,\n",
       "  <matplotlib.lines.Line2D at 0x7fef89399220>,\n",
       "  <matplotlib.lines.Line2D at 0x7fef89399580>],\n",
       " 'boxes': [<matplotlib.lines.Line2D at 0x7fef89292f70>,\n",
       "  <matplotlib.lines.Line2D at 0x7fef8938c7c0>],\n",
       " 'medians': [<matplotlib.lines.Line2D at 0x7fef8938c0d0>,\n",
       "  <matplotlib.lines.Line2D at 0x7fef893998e0>],\n",
       " 'fliers': [<matplotlib.lines.Line2D at 0x7fef8938c3d0>,\n",
       "  <matplotlib.lines.Line2D at 0x7fef89399be0>],\n",
       " 'means': []}"
      ]
     },
     "execution_count": 20,
     "metadata": {},
     "output_type": "execute_result"
    },
    {
     "data": {
      "image/png": "[encoded data removed]",
      "text/plain": [
       "<Figure size 864x504 with 1 Axes>"
      ]
     },
     "metadata": {},
     "output_type": "display_data"
    }
   ],
   "source": [
    "requester_account_age_in_days_at_request_1 = train[train['requester_received_pizza'] == True]['requester_account_age_in_days_at_request']\n",
    "requester_account_age_in_days_at_request_0 = train[train['requester_received_pizza'] == False]['requester_account_age_in_days_at_request']\n",
    "\n",
    "set_to_plot = [requester_account_age_in_days_at_request_1, requester_account_age_in_days_at_request_0]\n",
    "\n",
    "labels = train['requester_received_pizza'].unique()\n",
    "\n",
    "fig, ax = plt.subplots(figsize=(12, 7))\n",
    "ax.boxplot(set_to_plot, labels=labels)\n"
   ]
  },
  {
   "cell_type": "markdown",
   "metadata": {},
   "source": [
    "The difference in distribution seems more than the other features analyzed below."
   ]
  },
  {
   "cell_type": "markdown",
   "metadata": {},
   "source": [
    "#### 5.3.6 requester_subreddits_at_request"
   ]
  },
  {
   "cell_type": "code",
   "execution_count": 21,
   "metadata": {},
   "outputs": [
    {
     "data": {
      "text/plain": [
       "2852                                                   []\n",
       "2122            [AskReddit, DotA2, gaming, todayilearned]\n",
       "1615    [AdviceAnimals, AskReddit, IAmA, ImGoingToHell...\n",
       "458     [AskReddit, DIY, Random_Acts_Of_Amazon, advent...\n",
       "1129    [Android, AndroidQuestions, AskReddit, DoesAny...\n",
       "                              ...                        \n",
       "2533                                                   []\n",
       "1271    [AdviceAnimals, Art, AskReddit, Coachella, Dis...\n",
       "3269                                                   []\n",
       "1817    [AdviceAnimals, AskReddit, Berserk, BitCard, B...\n",
       "66      [4chan, AskReddit, Autos, DoesAnybodyElse, Fav...\n",
       "Name: requester_subreddits_at_request, Length: 2733, dtype: object"
      ]
     },
     "execution_count": 21,
     "metadata": {},
     "output_type": "execute_result"
    }
   ],
   "source": [
    "requester_subreddits_at_request_1 = train[train['requester_received_pizza'] == True]['requester_subreddits_at_request']\n",
    "requester_subreddits_at_request_0 = train[train['requester_received_pizza'] == False]['requester_subreddits_at_request']\n",
    "requester_subreddits_at_request_0\n"
   ]
  },
  {
   "cell_type": "markdown",
   "metadata": {},
   "source": [
    "##### 5.3.6.1 Relationship between number of subreddits with activity and altruism"
   ]
  },
  {
   "cell_type": "code",
   "execution_count": 22,
   "metadata": {},
   "outputs": [
    {
     "data": {
      "text/plain": [
       "{'whiskers': [<matplotlib.lines.Line2D at 0x7fef893f3370>,\n",
       "  <matplotlib.lines.Line2D at 0x7fef893f36d0>,\n",
       "  <matplotlib.lines.Line2D at 0x7fef893feb50>,\n",
       "  <matplotlib.lines.Line2D at 0x7fef893feeb0>],\n",
       " 'caps': [<matplotlib.lines.Line2D at 0x7fef893f3a30>,\n",
       "  <matplotlib.lines.Line2D at 0x7fef893f3d90>,\n",
       "  <matplotlib.lines.Line2D at 0x7fef89408250>,\n",
       "  <matplotlib.lines.Line2D at 0x7fef894085b0>],\n",
       " 'boxes': [<matplotlib.lines.Line2D at 0x7fef893e5fd0>,\n",
       "  <matplotlib.lines.Line2D at 0x7fef893fe7f0>],\n",
       " 'medians': [<matplotlib.lines.Line2D at 0x7fef893fe130>,\n",
       "  <matplotlib.lines.Line2D at 0x7fef89408910>],\n",
       " 'fliers': [<matplotlib.lines.Line2D at 0x7fef893fe430>,\n",
       "  <matplotlib.lines.Line2D at 0x7fef89408c10>],\n",
       " 'means': []}"
      ]
     },
     "execution_count": 22,
     "metadata": {},
     "output_type": "execute_result"
    },
    {
     "data": {
      "image/png": "[encoded data removed]",
      "text/plain": [
       "<Figure size 432x288 with 1 Axes>"
      ]
     },
     "metadata": {},
     "output_type": "display_data"
    }
   ],
   "source": [
    "len_requester_subreddits_at_request_1 = []\n",
    "for r1 in requester_subreddits_at_request_1:\n",
    "    len_requester_subreddits_at_request_1.append(len(r1))\n",
    "    \n",
    "len_requester_subreddits_at_request_0 = []\n",
    "for r0 in requester_subreddits_at_request_0:\n",
    "    len_requester_subreddits_at_request_0.append(len(r0))\n",
    "\n",
    "set_to_plot = [len_requester_subreddits_at_request_1, len_requester_subreddits_at_request_0]\n",
    "\n",
    "labels = train['requester_received_pizza'].unique()\n",
    "\n",
    "plt.boxplot(set_to_plot, labels=labels)"
   ]
  },
  {
   "cell_type": "markdown",
   "metadata": {},
   "source": [
    "Those with fulfilled pizza requests seem to be (on average) lesser active in subreddits than those with unfulfilled requests."
   ]
  },
  {
   "cell_type": "markdown",
   "metadata": {},
   "source": [
    "##### 5.3.6.2 Relationship between number of \"Random\" subreddits with activity and altruism"
   ]
  },
  {
   "cell_type": "markdown",
   "metadata": {},
   "source": [
    "Analyzing activity in the following subreddits:"
   ]
  },
  {
   "cell_type": "code",
   "execution_count": 23,
   "metadata": {},
   "outputs": [
    {
     "ename": "AttributeError",
     "evalue": "'list' object has no attribute 'replace'",
     "output_type": "error",
     "traceback": [
      "\u001b[0;31m---------------------------------------------------------------------------\u001b[0m",
      "\u001b[0;31mAttributeError\u001b[0m                            Traceback (most recent call last)",
      "\u001b[0;32m<ipython-input-23-9df1a4fcf808>\u001b[0m in \u001b[0;36m<module>\u001b[0;34m\u001b[0m\n\u001b[1;32m      7\u001b[0m     \u001b[0;32mreturn\u001b[0m \u001b[0mfound_subreddits\u001b[0m\u001b[0;34m\u001b[0m\u001b[0;34m\u001b[0m\u001b[0m\n\u001b[1;32m      8\u001b[0m \u001b[0;34m\u001b[0m\u001b[0m\n\u001b[0;32m----> 9\u001b[0;31m \u001b[0mfind_subreddits\u001b[0m\u001b[0;34m(\u001b[0m\u001b[0mtrain\u001b[0m\u001b[0;34m[\u001b[0m\u001b[0;34m'requester_subreddits_at_request'\u001b[0m\u001b[0;34m]\u001b[0m\u001b[0;34m,\u001b[0m\u001b[0;34m\"Random\"\u001b[0m\u001b[0;34m)\u001b[0m\u001b[0;34m\u001b[0m\u001b[0;34m\u001b[0m\u001b[0m\n\u001b[0m",
      "\u001b[0;32m<ipython-input-23-9df1a4fcf808>\u001b[0m in \u001b[0;36mfind_subreddits\u001b[0;34m(data, to_look_for)\u001b[0m\n\u001b[1;32m      2\u001b[0m     \u001b[0mfound_subreddits\u001b[0m \u001b[0;34m=\u001b[0m \u001b[0;34m[\u001b[0m\u001b[0;34m]\u001b[0m\u001b[0;34m\u001b[0m\u001b[0;34m\u001b[0m\u001b[0m\n\u001b[1;32m      3\u001b[0m     \u001b[0;32mfor\u001b[0m \u001b[0msubreddits\u001b[0m \u001b[0;32min\u001b[0m \u001b[0mdata\u001b[0m\u001b[0;34m:\u001b[0m\u001b[0;34m\u001b[0m\u001b[0;34m\u001b[0m\u001b[0m\n\u001b[0;32m----> 4\u001b[0;31m         \u001b[0msplits_by_line\u001b[0m \u001b[0;34m=\u001b[0m \u001b[0msubreddits\u001b[0m\u001b[0;34m.\u001b[0m\u001b[0mreplace\u001b[0m\u001b[0;34m(\u001b[0m\u001b[0;34m']'\u001b[0m\u001b[0;34m,\u001b[0m\u001b[0;34m''\u001b[0m\u001b[0;34m)\u001b[0m\u001b[0;34m.\u001b[0m\u001b[0mreplace\u001b[0m\u001b[0;34m(\u001b[0m\u001b[0;34m'['\u001b[0m\u001b[0;34m,\u001b[0m\u001b[0;34m''\u001b[0m\u001b[0;34m)\u001b[0m\u001b[0;34m.\u001b[0m\u001b[0msplit\u001b[0m\u001b[0;34m(\u001b[0m\u001b[0;34m'\\n'\u001b[0m\u001b[0;34m)\u001b[0m\u001b[0;34m\u001b[0m\u001b[0;34m\u001b[0m\u001b[0m\n\u001b[0m\u001b[1;32m      5\u001b[0m         \u001b[0msplits_subreddits\u001b[0m \u001b[0;34m=\u001b[0m \u001b[0;34m[\u001b[0m\u001b[0ms\u001b[0m\u001b[0;34m.\u001b[0m\u001b[0mreplace\u001b[0m\u001b[0;34m(\u001b[0m\u001b[0;34m\"'\"\u001b[0m\u001b[0;34m,\u001b[0m\u001b[0;34m\"\"\u001b[0m\u001b[0;34m)\u001b[0m\u001b[0;34m.\u001b[0m\u001b[0msplit\u001b[0m\u001b[0;34m(\u001b[0m\u001b[0;34m\",\"\u001b[0m\u001b[0;34m)\u001b[0m \u001b[0;32mfor\u001b[0m \u001b[0ms\u001b[0m \u001b[0;32min\u001b[0m \u001b[0msplits_by_line\u001b[0m\u001b[0;34m]\u001b[0m\u001b[0;34m\u001b[0m\u001b[0;34m\u001b[0m\u001b[0m\n\u001b[1;32m      6\u001b[0m         \u001b[0mfound_subreddits\u001b[0m\u001b[0;34m.\u001b[0m\u001b[0mappend\u001b[0m\u001b[0;34m(\u001b[0m\u001b[0;34m[\u001b[0m\u001b[0mr\u001b[0m \u001b[0;32mfor\u001b[0m \u001b[0mr\u001b[0m \u001b[0;32min\u001b[0m \u001b[0msplits_subreddits\u001b[0m\u001b[0;34m[\u001b[0m\u001b[0;36m0\u001b[0m\u001b[0;34m]\u001b[0m \u001b[0;32mif\u001b[0m \u001b[0mto_look_for\u001b[0m\u001b[0;34m.\u001b[0m\u001b[0mlower\u001b[0m\u001b[0;34m(\u001b[0m\u001b[0;34m)\u001b[0m \u001b[0;32min\u001b[0m \u001b[0mr\u001b[0m\u001b[0;34m.\u001b[0m\u001b[0mlower\u001b[0m\u001b[0;34m(\u001b[0m\u001b[0;34m)\u001b[0m\u001b[0;34m]\u001b[0m\u001b[0;34m)\u001b[0m\u001b[0;34m\u001b[0m\u001b[0;34m\u001b[0m\u001b[0m\n",
      "\u001b[0;31mAttributeError\u001b[0m: 'list' object has no attribute 'replace'"
     ]
    }
   ],
   "source": [
    "def find_subreddits(data, to_look_for):\n",
    "    found_subreddits = []\n",
    "    for subreddits in data:\n",
    "        splits_by_line = subreddits.replace(']','').replace('[','').split('\\n')\n",
    "        splits_subreddits = [s.replace(\"'\",\"\").split(\",\") for s in splits_by_line]\n",
    "        found_subreddits.append([r for r in splits_subreddits[0] if to_look_for.lower() in r.lower()])\n",
    "    return found_subreddits\n",
    "\n",
    "find_subreddits(train['requester_subreddits_at_request'],\"Random\")"
   ]
  },
  {
   "cell_type": "code",
   "execution_count": 24,
   "metadata": {},
   "outputs": [
    {
     "ename": "AttributeError",
     "evalue": "'list' object has no attribute 'replace'",
     "output_type": "error",
     "traceback": [
      "\u001b[0;31m---------------------------------------------------------------------------\u001b[0m",
      "\u001b[0;31mAttributeError\u001b[0m                            Traceback (most recent call last)",
      "\u001b[0;32m<ipython-input-24-3ed53baf179e>\u001b[0m in \u001b[0;36m<module>\u001b[0;34m\u001b[0m\n\u001b[0;32m----> 1\u001b[0;31m \u001b[0;34m[\u001b[0m\u001b[0mlen\u001b[0m\u001b[0;34m(\u001b[0m\u001b[0mf\u001b[0m\u001b[0;34m)\u001b[0m \u001b[0;32mfor\u001b[0m \u001b[0mf\u001b[0m \u001b[0;32min\u001b[0m \u001b[0mfind_subreddits\u001b[0m\u001b[0;34m(\u001b[0m\u001b[0mtrain\u001b[0m\u001b[0;34m[\u001b[0m\u001b[0;34m'requester_subreddits_at_request'\u001b[0m\u001b[0;34m]\u001b[0m\u001b[0;34m,\u001b[0m\u001b[0;34m\"Random\"\u001b[0m\u001b[0;34m)\u001b[0m\u001b[0;34m]\u001b[0m\u001b[0;34m\u001b[0m\u001b[0;34m\u001b[0m\u001b[0m\n\u001b[0m",
      "\u001b[0;32m<ipython-input-23-9df1a4fcf808>\u001b[0m in \u001b[0;36mfind_subreddits\u001b[0;34m(data, to_look_for)\u001b[0m\n\u001b[1;32m      2\u001b[0m     \u001b[0mfound_subreddits\u001b[0m \u001b[0;34m=\u001b[0m \u001b[0;34m[\u001b[0m\u001b[0;34m]\u001b[0m\u001b[0;34m\u001b[0m\u001b[0;34m\u001b[0m\u001b[0m\n\u001b[1;32m      3\u001b[0m     \u001b[0;32mfor\u001b[0m \u001b[0msubreddits\u001b[0m \u001b[0;32min\u001b[0m \u001b[0mdata\u001b[0m\u001b[0;34m:\u001b[0m\u001b[0;34m\u001b[0m\u001b[0;34m\u001b[0m\u001b[0m\n\u001b[0;32m----> 4\u001b[0;31m         \u001b[0msplits_by_line\u001b[0m \u001b[0;34m=\u001b[0m \u001b[0msubreddits\u001b[0m\u001b[0;34m.\u001b[0m\u001b[0mreplace\u001b[0m\u001b[0;34m(\u001b[0m\u001b[0;34m']'\u001b[0m\u001b[0;34m,\u001b[0m\u001b[0;34m''\u001b[0m\u001b[0;34m)\u001b[0m\u001b[0;34m.\u001b[0m\u001b[0mreplace\u001b[0m\u001b[0;34m(\u001b[0m\u001b[0;34m'['\u001b[0m\u001b[0;34m,\u001b[0m\u001b[0;34m''\u001b[0m\u001b[0;34m)\u001b[0m\u001b[0;34m.\u001b[0m\u001b[0msplit\u001b[0m\u001b[0;34m(\u001b[0m\u001b[0;34m'\\n'\u001b[0m\u001b[0;34m)\u001b[0m\u001b[0;34m\u001b[0m\u001b[0;34m\u001b[0m\u001b[0m\n\u001b[0m\u001b[1;32m      5\u001b[0m         \u001b[0msplits_subreddits\u001b[0m \u001b[0;34m=\u001b[0m \u001b[0;34m[\u001b[0m\u001b[0ms\u001b[0m\u001b[0;34m.\u001b[0m\u001b[0mreplace\u001b[0m\u001b[0;34m(\u001b[0m\u001b[0;34m\"'\"\u001b[0m\u001b[0;34m,\u001b[0m\u001b[0;34m\"\"\u001b[0m\u001b[0;34m)\u001b[0m\u001b[0;34m.\u001b[0m\u001b[0msplit\u001b[0m\u001b[0;34m(\u001b[0m\u001b[0;34m\",\"\u001b[0m\u001b[0;34m)\u001b[0m \u001b[0;32mfor\u001b[0m \u001b[0ms\u001b[0m \u001b[0;32min\u001b[0m \u001b[0msplits_by_line\u001b[0m\u001b[0;34m]\u001b[0m\u001b[0;34m\u001b[0m\u001b[0;34m\u001b[0m\u001b[0m\n\u001b[1;32m      6\u001b[0m         \u001b[0mfound_subreddits\u001b[0m\u001b[0;34m.\u001b[0m\u001b[0mappend\u001b[0m\u001b[0;34m(\u001b[0m\u001b[0;34m[\u001b[0m\u001b[0mr\u001b[0m \u001b[0;32mfor\u001b[0m \u001b[0mr\u001b[0m \u001b[0;32min\u001b[0m \u001b[0msplits_subreddits\u001b[0m\u001b[0;34m[\u001b[0m\u001b[0;36m0\u001b[0m\u001b[0;34m]\u001b[0m \u001b[0;32mif\u001b[0m \u001b[0mto_look_for\u001b[0m\u001b[0;34m.\u001b[0m\u001b[0mlower\u001b[0m\u001b[0;34m(\u001b[0m\u001b[0;34m)\u001b[0m \u001b[0;32min\u001b[0m \u001b[0mr\u001b[0m\u001b[0;34m.\u001b[0m\u001b[0mlower\u001b[0m\u001b[0;34m(\u001b[0m\u001b[0;34m)\u001b[0m\u001b[0;34m]\u001b[0m\u001b[0;34m)\u001b[0m\u001b[0;34m\u001b[0m\u001b[0;34m\u001b[0m\u001b[0m\n",
      "\u001b[0;31mAttributeError\u001b[0m: 'list' object has no attribute 'replace'"
     ]
    }
   ],
   "source": [
    "[len(f) for f in find_subreddits(train['requester_subreddits_at_request'],\"Random\")]"
   ]
  },
  {
   "cell_type": "code",
   "execution_count": 25,
   "metadata": {},
   "outputs": [
    {
     "ename": "AttributeError",
     "evalue": "'list' object has no attribute 'replace'",
     "output_type": "error",
     "traceback": [
      "\u001b[0;31m---------------------------------------------------------------------------\u001b[0m",
      "\u001b[0;31mAttributeError\u001b[0m                            Traceback (most recent call last)",
      "\u001b[0;32m<ipython-input-25-769d99544317>\u001b[0m in \u001b[0;36m<module>\u001b[0;34m\u001b[0m\n\u001b[1;32m      1\u001b[0m \u001b[0mlen_random_requester_subreddits_at_request_1\u001b[0m \u001b[0;34m=\u001b[0m \u001b[0;34m[\u001b[0m\u001b[0;34m]\u001b[0m\u001b[0;34m\u001b[0m\u001b[0;34m\u001b[0m\u001b[0m\n\u001b[1;32m      2\u001b[0m len_random_requester_subreddits_at_request_1.append(\n\u001b[0;32m----> 3\u001b[0;31m     [len(f) for f in find_subreddits(requester_subreddits_at_request_1,\"Random\")])\n\u001b[0m\u001b[1;32m      4\u001b[0m \u001b[0mprint\u001b[0m\u001b[0;34m(\u001b[0m\u001b[0mnp\u001b[0m\u001b[0;34m.\u001b[0m\u001b[0mmean\u001b[0m\u001b[0;34m(\u001b[0m\u001b[0mlen_random_requester_subreddits_at_request_1\u001b[0m\u001b[0;34m)\u001b[0m\u001b[0;34m)\u001b[0m\u001b[0;34m\u001b[0m\u001b[0;34m\u001b[0m\u001b[0m\n\u001b[1;32m      5\u001b[0m \u001b[0;34m\u001b[0m\u001b[0m\n",
      "\u001b[0;32m<ipython-input-23-9df1a4fcf808>\u001b[0m in \u001b[0;36mfind_subreddits\u001b[0;34m(data, to_look_for)\u001b[0m\n\u001b[1;32m      2\u001b[0m     \u001b[0mfound_subreddits\u001b[0m \u001b[0;34m=\u001b[0m \u001b[0;34m[\u001b[0m\u001b[0;34m]\u001b[0m\u001b[0;34m\u001b[0m\u001b[0;34m\u001b[0m\u001b[0m\n\u001b[1;32m      3\u001b[0m     \u001b[0;32mfor\u001b[0m \u001b[0msubreddits\u001b[0m \u001b[0;32min\u001b[0m \u001b[0mdata\u001b[0m\u001b[0;34m:\u001b[0m\u001b[0;34m\u001b[0m\u001b[0;34m\u001b[0m\u001b[0m\n\u001b[0;32m----> 4\u001b[0;31m         \u001b[0msplits_by_line\u001b[0m \u001b[0;34m=\u001b[0m \u001b[0msubreddits\u001b[0m\u001b[0;34m.\u001b[0m\u001b[0mreplace\u001b[0m\u001b[0;34m(\u001b[0m\u001b[0;34m']'\u001b[0m\u001b[0;34m,\u001b[0m\u001b[0;34m''\u001b[0m\u001b[0;34m)\u001b[0m\u001b[0;34m.\u001b[0m\u001b[0mreplace\u001b[0m\u001b[0;34m(\u001b[0m\u001b[0;34m'['\u001b[0m\u001b[0;34m,\u001b[0m\u001b[0;34m''\u001b[0m\u001b[0;34m)\u001b[0m\u001b[0;34m.\u001b[0m\u001b[0msplit\u001b[0m\u001b[0;34m(\u001b[0m\u001b[0;34m'\\n'\u001b[0m\u001b[0;34m)\u001b[0m\u001b[0;34m\u001b[0m\u001b[0;34m\u001b[0m\u001b[0m\n\u001b[0m\u001b[1;32m      5\u001b[0m         \u001b[0msplits_subreddits\u001b[0m \u001b[0;34m=\u001b[0m \u001b[0;34m[\u001b[0m\u001b[0ms\u001b[0m\u001b[0;34m.\u001b[0m\u001b[0mreplace\u001b[0m\u001b[0;34m(\u001b[0m\u001b[0;34m\"'\"\u001b[0m\u001b[0;34m,\u001b[0m\u001b[0;34m\"\"\u001b[0m\u001b[0;34m)\u001b[0m\u001b[0;34m.\u001b[0m\u001b[0msplit\u001b[0m\u001b[0;34m(\u001b[0m\u001b[0;34m\",\"\u001b[0m\u001b[0;34m)\u001b[0m \u001b[0;32mfor\u001b[0m \u001b[0ms\u001b[0m \u001b[0;32min\u001b[0m \u001b[0msplits_by_line\u001b[0m\u001b[0;34m]\u001b[0m\u001b[0;34m\u001b[0m\u001b[0;34m\u001b[0m\u001b[0m\n\u001b[1;32m      6\u001b[0m         \u001b[0mfound_subreddits\u001b[0m\u001b[0;34m.\u001b[0m\u001b[0mappend\u001b[0m\u001b[0;34m(\u001b[0m\u001b[0;34m[\u001b[0m\u001b[0mr\u001b[0m \u001b[0;32mfor\u001b[0m \u001b[0mr\u001b[0m \u001b[0;32min\u001b[0m \u001b[0msplits_subreddits\u001b[0m\u001b[0;34m[\u001b[0m\u001b[0;36m0\u001b[0m\u001b[0;34m]\u001b[0m \u001b[0;32mif\u001b[0m \u001b[0mto_look_for\u001b[0m\u001b[0;34m.\u001b[0m\u001b[0mlower\u001b[0m\u001b[0;34m(\u001b[0m\u001b[0;34m)\u001b[0m \u001b[0;32min\u001b[0m \u001b[0mr\u001b[0m\u001b[0;34m.\u001b[0m\u001b[0mlower\u001b[0m\u001b[0;34m(\u001b[0m\u001b[0;34m)\u001b[0m\u001b[0;34m]\u001b[0m\u001b[0;34m)\u001b[0m\u001b[0;34m\u001b[0m\u001b[0;34m\u001b[0m\u001b[0m\n",
      "\u001b[0;31mAttributeError\u001b[0m: 'list' object has no attribute 'replace'"
     ]
    }
   ],
   "source": [
    "len_random_requester_subreddits_at_request_1 = []\n",
    "len_random_requester_subreddits_at_request_1.append(\n",
    "    [len(f) for f in find_subreddits(requester_subreddits_at_request_1,\"Random\")])\n",
    "print(np.mean(len_random_requester_subreddits_at_request_1))\n",
    "\n",
    "len_random_requester_subreddits_at_request_0 = []\n",
    "len_random_requester_subreddits_at_request_0.append(\n",
    "    [len(f) for f in find_subreddits(requester_subreddits_at_request_0,\"Random\")])\n",
    "print(np.mean(len_random_requester_subreddits_at_request_0))   "
   ]
  },
  {
   "cell_type": "markdown",
   "metadata": {},
   "source": [
    "##### 5.3.6.3 Relationship between activity in \"Random_Acts_Of_Pizza\" subreddits and altruism"
   ]
  },
  {
   "cell_type": "code",
   "execution_count": 26,
   "metadata": {},
   "outputs": [
    {
     "ename": "AttributeError",
     "evalue": "'list' object has no attribute 'replace'",
     "output_type": "error",
     "traceback": [
      "\u001b[0;31m---------------------------------------------------------------------------\u001b[0m",
      "\u001b[0;31mAttributeError\u001b[0m                            Traceback (most recent call last)",
      "\u001b[0;32m<ipython-input-26-90a2a6290a69>\u001b[0m in \u001b[0;36m<module>\u001b[0;34m\u001b[0m\n\u001b[1;32m      1\u001b[0m \u001b[0mlen_random_requester_subreddits_at_request_1\u001b[0m \u001b[0;34m=\u001b[0m \u001b[0;34m[\u001b[0m\u001b[0;34m]\u001b[0m\u001b[0;34m\u001b[0m\u001b[0;34m\u001b[0m\u001b[0m\n\u001b[1;32m      2\u001b[0m len_random_requester_subreddits_at_request_1.append(\n\u001b[0;32m----> 3\u001b[0;31m     [len(f) for f in find_subreddits(requester_subreddits_at_request_1,\"Random_Acts_Of_Pizza\")])\n\u001b[0m\u001b[1;32m      4\u001b[0m \u001b[0mprint\u001b[0m\u001b[0;34m(\u001b[0m\u001b[0mnp\u001b[0m\u001b[0;34m.\u001b[0m\u001b[0mmean\u001b[0m\u001b[0;34m(\u001b[0m\u001b[0mlen_random_requester_subreddits_at_request_1\u001b[0m\u001b[0;34m)\u001b[0m\u001b[0;34m)\u001b[0m\u001b[0;34m\u001b[0m\u001b[0;34m\u001b[0m\u001b[0m\n\u001b[1;32m      5\u001b[0m \u001b[0;34m\u001b[0m\u001b[0m\n",
      "\u001b[0;32m<ipython-input-23-9df1a4fcf808>\u001b[0m in \u001b[0;36mfind_subreddits\u001b[0;34m(data, to_look_for)\u001b[0m\n\u001b[1;32m      2\u001b[0m     \u001b[0mfound_subreddits\u001b[0m \u001b[0;34m=\u001b[0m \u001b[0;34m[\u001b[0m\u001b[0;34m]\u001b[0m\u001b[0;34m\u001b[0m\u001b[0;34m\u001b[0m\u001b[0m\n\u001b[1;32m      3\u001b[0m     \u001b[0;32mfor\u001b[0m \u001b[0msubreddits\u001b[0m \u001b[0;32min\u001b[0m \u001b[0mdata\u001b[0m\u001b[0;34m:\u001b[0m\u001b[0;34m\u001b[0m\u001b[0;34m\u001b[0m\u001b[0m\n\u001b[0;32m----> 4\u001b[0;31m         \u001b[0msplits_by_line\u001b[0m \u001b[0;34m=\u001b[0m \u001b[0msubreddits\u001b[0m\u001b[0;34m.\u001b[0m\u001b[0mreplace\u001b[0m\u001b[0;34m(\u001b[0m\u001b[0;34m']'\u001b[0m\u001b[0;34m,\u001b[0m\u001b[0;34m''\u001b[0m\u001b[0;34m)\u001b[0m\u001b[0;34m.\u001b[0m\u001b[0mreplace\u001b[0m\u001b[0;34m(\u001b[0m\u001b[0;34m'['\u001b[0m\u001b[0;34m,\u001b[0m\u001b[0;34m''\u001b[0m\u001b[0;34m)\u001b[0m\u001b[0;34m.\u001b[0m\u001b[0msplit\u001b[0m\u001b[0;34m(\u001b[0m\u001b[0;34m'\\n'\u001b[0m\u001b[0;34m)\u001b[0m\u001b[0;34m\u001b[0m\u001b[0;34m\u001b[0m\u001b[0m\n\u001b[0m\u001b[1;32m      5\u001b[0m         \u001b[0msplits_subreddits\u001b[0m \u001b[0;34m=\u001b[0m \u001b[0;34m[\u001b[0m\u001b[0ms\u001b[0m\u001b[0;34m.\u001b[0m\u001b[0mreplace\u001b[0m\u001b[0;34m(\u001b[0m\u001b[0;34m\"'\"\u001b[0m\u001b[0;34m,\u001b[0m\u001b[0;34m\"\"\u001b[0m\u001b[0;34m)\u001b[0m\u001b[0;34m.\u001b[0m\u001b[0msplit\u001b[0m\u001b[0;34m(\u001b[0m\u001b[0;34m\",\"\u001b[0m\u001b[0;34m)\u001b[0m \u001b[0;32mfor\u001b[0m \u001b[0ms\u001b[0m \u001b[0;32min\u001b[0m \u001b[0msplits_by_line\u001b[0m\u001b[0;34m]\u001b[0m\u001b[0;34m\u001b[0m\u001b[0;34m\u001b[0m\u001b[0m\n\u001b[1;32m      6\u001b[0m         \u001b[0mfound_subreddits\u001b[0m\u001b[0;34m.\u001b[0m\u001b[0mappend\u001b[0m\u001b[0;34m(\u001b[0m\u001b[0;34m[\u001b[0m\u001b[0mr\u001b[0m \u001b[0;32mfor\u001b[0m \u001b[0mr\u001b[0m \u001b[0;32min\u001b[0m \u001b[0msplits_subreddits\u001b[0m\u001b[0;34m[\u001b[0m\u001b[0;36m0\u001b[0m\u001b[0;34m]\u001b[0m \u001b[0;32mif\u001b[0m \u001b[0mto_look_for\u001b[0m\u001b[0;34m.\u001b[0m\u001b[0mlower\u001b[0m\u001b[0;34m(\u001b[0m\u001b[0;34m)\u001b[0m \u001b[0;32min\u001b[0m \u001b[0mr\u001b[0m\u001b[0;34m.\u001b[0m\u001b[0mlower\u001b[0m\u001b[0;34m(\u001b[0m\u001b[0;34m)\u001b[0m\u001b[0;34m]\u001b[0m\u001b[0;34m)\u001b[0m\u001b[0;34m\u001b[0m\u001b[0;34m\u001b[0m\u001b[0m\n",
      "\u001b[0;31mAttributeError\u001b[0m: 'list' object has no attribute 'replace'"
     ]
    }
   ],
   "source": [
    "len_random_requester_subreddits_at_request_1 = []\n",
    "len_random_requester_subreddits_at_request_1.append(\n",
    "    [len(f) for f in find_subreddits(requester_subreddits_at_request_1,\"Random_Acts_Of_Pizza\")])\n",
    "print(np.mean(len_random_requester_subreddits_at_request_1))\n",
    "\n",
    "len_random_requester_subreddits_at_request_0 = []\n",
    "len_random_requester_subreddits_at_request_0.append(\n",
    "    [len(f) for f in find_subreddits(requester_subreddits_at_request_0,\"Random_Acts_Of_Pizza\")])\n",
    "print(np.mean(len_random_requester_subreddits_at_request_0))   "
   ]
  },
  {
   "cell_type": "markdown",
   "metadata": {},
   "source": [
    "##### 5.3.6.4 Relationship between activity in 'Food' related subreddits and altruism"
   ]
  },
  {
   "cell_type": "code",
   "execution_count": 27,
   "metadata": {},
   "outputs": [
    {
     "ename": "AttributeError",
     "evalue": "'list' object has no attribute 'replace'",
     "output_type": "error",
     "traceback": [
      "\u001b[0;31m---------------------------------------------------------------------------\u001b[0m",
      "\u001b[0;31mAttributeError\u001b[0m                            Traceback (most recent call last)",
      "\u001b[0;32m<ipython-input-27-248a35db864f>\u001b[0m in \u001b[0;36m<module>\u001b[0;34m\u001b[0m\n\u001b[1;32m      1\u001b[0m \u001b[0mlen_random_requester_subreddits_at_request_1\u001b[0m \u001b[0;34m=\u001b[0m \u001b[0;34m[\u001b[0m\u001b[0;34m]\u001b[0m\u001b[0;34m\u001b[0m\u001b[0;34m\u001b[0m\u001b[0m\n\u001b[1;32m      2\u001b[0m len_random_requester_subreddits_at_request_1.append(\n\u001b[0;32m----> 3\u001b[0;31m     [len(f) for f in find_subreddits(requester_subreddits_at_request_1,\"food\")])\n\u001b[0m\u001b[1;32m      4\u001b[0m \u001b[0mprint\u001b[0m\u001b[0;34m(\u001b[0m\u001b[0mnp\u001b[0m\u001b[0;34m.\u001b[0m\u001b[0mmean\u001b[0m\u001b[0;34m(\u001b[0m\u001b[0mlen_random_requester_subreddits_at_request_1\u001b[0m\u001b[0;34m)\u001b[0m\u001b[0;34m)\u001b[0m\u001b[0;34m\u001b[0m\u001b[0;34m\u001b[0m\u001b[0m\n\u001b[1;32m      5\u001b[0m \u001b[0;34m\u001b[0m\u001b[0m\n",
      "\u001b[0;32m<ipython-input-23-9df1a4fcf808>\u001b[0m in \u001b[0;36mfind_subreddits\u001b[0;34m(data, to_look_for)\u001b[0m\n\u001b[1;32m      2\u001b[0m     \u001b[0mfound_subreddits\u001b[0m \u001b[0;34m=\u001b[0m \u001b[0;34m[\u001b[0m\u001b[0;34m]\u001b[0m\u001b[0;34m\u001b[0m\u001b[0;34m\u001b[0m\u001b[0m\n\u001b[1;32m      3\u001b[0m     \u001b[0;32mfor\u001b[0m \u001b[0msubreddits\u001b[0m \u001b[0;32min\u001b[0m \u001b[0mdata\u001b[0m\u001b[0;34m:\u001b[0m\u001b[0;34m\u001b[0m\u001b[0;34m\u001b[0m\u001b[0m\n\u001b[0;32m----> 4\u001b[0;31m         \u001b[0msplits_by_line\u001b[0m \u001b[0;34m=\u001b[0m \u001b[0msubreddits\u001b[0m\u001b[0;34m.\u001b[0m\u001b[0mreplace\u001b[0m\u001b[0;34m(\u001b[0m\u001b[0;34m']'\u001b[0m\u001b[0;34m,\u001b[0m\u001b[0;34m''\u001b[0m\u001b[0;34m)\u001b[0m\u001b[0;34m.\u001b[0m\u001b[0mreplace\u001b[0m\u001b[0;34m(\u001b[0m\u001b[0;34m'['\u001b[0m\u001b[0;34m,\u001b[0m\u001b[0;34m''\u001b[0m\u001b[0;34m)\u001b[0m\u001b[0;34m.\u001b[0m\u001b[0msplit\u001b[0m\u001b[0;34m(\u001b[0m\u001b[0;34m'\\n'\u001b[0m\u001b[0;34m)\u001b[0m\u001b[0;34m\u001b[0m\u001b[0;34m\u001b[0m\u001b[0m\n\u001b[0m\u001b[1;32m      5\u001b[0m         \u001b[0msplits_subreddits\u001b[0m \u001b[0;34m=\u001b[0m \u001b[0;34m[\u001b[0m\u001b[0ms\u001b[0m\u001b[0;34m.\u001b[0m\u001b[0mreplace\u001b[0m\u001b[0;34m(\u001b[0m\u001b[0;34m\"'\"\u001b[0m\u001b[0;34m,\u001b[0m\u001b[0;34m\"\"\u001b[0m\u001b[0;34m)\u001b[0m\u001b[0;34m.\u001b[0m\u001b[0msplit\u001b[0m\u001b[0;34m(\u001b[0m\u001b[0;34m\",\"\u001b[0m\u001b[0;34m)\u001b[0m \u001b[0;32mfor\u001b[0m \u001b[0ms\u001b[0m \u001b[0;32min\u001b[0m \u001b[0msplits_by_line\u001b[0m\u001b[0;34m]\u001b[0m\u001b[0;34m\u001b[0m\u001b[0;34m\u001b[0m\u001b[0m\n\u001b[1;32m      6\u001b[0m         \u001b[0mfound_subreddits\u001b[0m\u001b[0;34m.\u001b[0m\u001b[0mappend\u001b[0m\u001b[0;34m(\u001b[0m\u001b[0;34m[\u001b[0m\u001b[0mr\u001b[0m \u001b[0;32mfor\u001b[0m \u001b[0mr\u001b[0m \u001b[0;32min\u001b[0m \u001b[0msplits_subreddits\u001b[0m\u001b[0;34m[\u001b[0m\u001b[0;36m0\u001b[0m\u001b[0;34m]\u001b[0m \u001b[0;32mif\u001b[0m \u001b[0mto_look_for\u001b[0m\u001b[0;34m.\u001b[0m\u001b[0mlower\u001b[0m\u001b[0;34m(\u001b[0m\u001b[0;34m)\u001b[0m \u001b[0;32min\u001b[0m \u001b[0mr\u001b[0m\u001b[0;34m.\u001b[0m\u001b[0mlower\u001b[0m\u001b[0;34m(\u001b[0m\u001b[0;34m)\u001b[0m\u001b[0;34m]\u001b[0m\u001b[0;34m)\u001b[0m\u001b[0;34m\u001b[0m\u001b[0;34m\u001b[0m\u001b[0m\n",
      "\u001b[0;31mAttributeError\u001b[0m: 'list' object has no attribute 'replace'"
     ]
    }
   ],
   "source": [
    "len_random_requester_subreddits_at_request_1 = []\n",
    "len_random_requester_subreddits_at_request_1.append(\n",
    "    [len(f) for f in find_subreddits(requester_subreddits_at_request_1,\"food\")])\n",
    "print(np.mean(len_random_requester_subreddits_at_request_1))\n",
    "\n",
    "len_random_requester_subreddits_at_request_0 = []\n",
    "len_random_requester_subreddits_at_request_0.append(\n",
    "    [len(f) for f in find_subreddits(requester_subreddits_at_request_0,\"food\")])\n",
    "print(np.mean(len_random_requester_subreddits_at_request_0))   "
   ]
  },
  {
   "cell_type": "markdown",
   "metadata": {},
   "source": [
    "##### What types of subreddits are most commonly associated with pizza request fulfilment"
   ]
  },
  {
   "cell_type": "code",
   "execution_count": 28,
   "metadata": {},
   "outputs": [
    {
     "ename": "AttributeError",
     "evalue": "'list' object has no attribute 'replace'",
     "output_type": "error",
     "traceback": [
      "\u001b[0;31m---------------------------------------------------------------------------\u001b[0m",
      "\u001b[0;31mAttributeError\u001b[0m                            Traceback (most recent call last)",
      "\u001b[0;32m<ipython-input-28-4cb24353217e>\u001b[0m in \u001b[0;36m<module>\u001b[0;34m\u001b[0m\n\u001b[1;32m      1\u001b[0m \u001b[0msubreddits_frequency\u001b[0m \u001b[0;34m=\u001b[0m \u001b[0;34m{\u001b[0m\u001b[0;34m}\u001b[0m\u001b[0;34m\u001b[0m\u001b[0;34m\u001b[0m\u001b[0m\n\u001b[1;32m      2\u001b[0m \u001b[0;32mfor\u001b[0m \u001b[0mr1\u001b[0m \u001b[0;32min\u001b[0m \u001b[0mrequester_subreddits_at_request_1\u001b[0m\u001b[0;34m:\u001b[0m\u001b[0;34m\u001b[0m\u001b[0;34m\u001b[0m\u001b[0m\n\u001b[0;32m----> 3\u001b[0;31m     \u001b[0;32mfor\u001b[0m \u001b[0ms\u001b[0m \u001b[0;32min\u001b[0m \u001b[0mr1\u001b[0m\u001b[0;34m.\u001b[0m\u001b[0mreplace\u001b[0m\u001b[0;34m(\u001b[0m\u001b[0;34m'['\u001b[0m\u001b[0;34m,\u001b[0m\u001b[0;34m''\u001b[0m\u001b[0;34m)\u001b[0m\u001b[0;34m.\u001b[0m\u001b[0mreplace\u001b[0m\u001b[0;34m(\u001b[0m\u001b[0;34m']'\u001b[0m\u001b[0;34m,\u001b[0m\u001b[0;34m''\u001b[0m\u001b[0;34m)\u001b[0m\u001b[0;34m.\u001b[0m\u001b[0msplit\u001b[0m\u001b[0;34m(\u001b[0m\u001b[0;34m','\u001b[0m\u001b[0;34m)\u001b[0m\u001b[0;34m:\u001b[0m\u001b[0;34m\u001b[0m\u001b[0;34m\u001b[0m\u001b[0m\n\u001b[0m\u001b[1;32m      4\u001b[0m         \u001b[0msubreddit\u001b[0m \u001b[0;34m=\u001b[0m \u001b[0ms\u001b[0m\u001b[0;34m.\u001b[0m\u001b[0mreplace\u001b[0m\u001b[0;34m(\u001b[0m\u001b[0;34m\"'\"\u001b[0m\u001b[0;34m,\u001b[0m\u001b[0;34m\"\"\u001b[0m\u001b[0;34m)\u001b[0m\u001b[0;34m.\u001b[0m\u001b[0mreplace\u001b[0m\u001b[0;34m(\u001b[0m\u001b[0;34m\" \"\u001b[0m\u001b[0;34m,\u001b[0m\u001b[0;34m\"\"\u001b[0m\u001b[0;34m)\u001b[0m\u001b[0;34m\u001b[0m\u001b[0;34m\u001b[0m\u001b[0m\n\u001b[1;32m      5\u001b[0m         \u001b[0;32mif\u001b[0m \u001b[0msubreddit\u001b[0m \u001b[0;32min\u001b[0m \u001b[0mlist\u001b[0m\u001b[0;34m(\u001b[0m\u001b[0msubreddits_frequency\u001b[0m\u001b[0;34m.\u001b[0m\u001b[0mkeys\u001b[0m\u001b[0;34m(\u001b[0m\u001b[0;34m)\u001b[0m\u001b[0;34m)\u001b[0m\u001b[0;34m:\u001b[0m\u001b[0;34m\u001b[0m\u001b[0;34m\u001b[0m\u001b[0m\n",
      "\u001b[0;31mAttributeError\u001b[0m: 'list' object has no attribute 'replace'"
     ]
    }
   ],
   "source": [
    "subreddits_frequency = {}\n",
    "for r1 in requester_subreddits_at_request_1:\n",
    "    for s in r1.replace('[','').replace(']','').split(','):\n",
    "        subreddit = s.replace(\"'\",\"\").replace(\" \",\"\")\n",
    "        if subreddit in list(subreddits_frequency.keys()):\n",
    "            subreddits_frequency[subreddit] = subreddits_frequency[subreddit]+1\n",
    "        else:\n",
    "            subreddits_frequency[subreddit] = 1\n",
    "\n",
    "sorted_subreddits_frequency = sorted(subreddits_frequency.items(), key=lambda item: item[1], reverse = True)\n",
    "\n",
    "print(sorted_subreddits_frequency[0:5]) "
   ]
  },
  {
   "cell_type": "markdown",
   "metadata": {},
   "source": [
    "#### 5.4 requester_upvotes_minus_downvotes_at_request"
   ]
  },
  {
   "cell_type": "code",
   "execution_count": 29,
   "metadata": {},
   "outputs": [
    {
     "name": "stdout",
     "output_type": "stream",
     "text": [
      "1351.2403100775193\n",
      "1088.2414928649835\n"
     ]
    },
    {
     "data": {
      "image/png": "[encoded data removed]",
      "text/plain": [
       "<Figure size 864x504 with 1 Axes>"
      ]
     },
     "metadata": {},
     "output_type": "display_data"
    }
   ],
   "source": [
    "requester_upvotes_minus_downvotes_at_request_1 = train[train['requester_received_pizza'] == True]['requester_upvotes_minus_downvotes_at_request']\n",
    "requester_upvotes_minus_downvotes_at_request_0 = train[train['requester_received_pizza'] == False]['requester_upvotes_minus_downvotes_at_request']\n",
    "\n",
    "set_to_plot = [requester_upvotes_minus_downvotes_at_request_1, requester_upvotes_minus_downvotes_at_request_0]\n",
    "\n",
    "labels = train['requester_received_pizza'].unique()\n",
    "\n",
    "fig, ax = plt.subplots(figsize=(12, 7))\n",
    "ax.boxplot(set_to_plot, labels=labels)\n",
    "\n",
    "print(np.mean(requester_upvotes_minus_downvotes_at_request_1))\n",
    "print(np.mean(requester_upvotes_minus_downvotes_at_request_0))"
   ]
  },
  {
   "cell_type": "code",
   "execution_count": 32,
   "metadata": {},
   "outputs": [
    {
     "name": "stdout",
     "output_type": "stream",
     "text": [
      "903\n",
      "903\n",
      "2733\n",
      "2733\n"
     ]
    }
   ],
   "source": [
    "requester_upvotes_minus_downvotes_at_request_1 = train[train['requester_received_pizza'] == True]['requester_upvotes_minus_downvotes_at_request']\n",
    "requester_upvotes_minus_downvotes_at_request_0 = train[train['requester_received_pizza'] == False]['requester_upvotes_minus_downvotes_at_request']\n",
    "print(len(requester_upvotes_minus_downvotes_at_request_1))\n",
    "#removing outliers\n",
    "z = np.abs(stats.zscore(requester_upvotes_minus_downvotes_at_request_1))\n",
    "#print(z)\n",
    "requester_upvotes_minus_downvotes_at_request_1_removed_outliers = requester_upvotes_minus_downvotes_at_request_1.where(z < 2)\n",
    "print(len(requester_upvotes_minus_downvotes_at_request_1_removed_outliers))\n",
    "\n",
    "print(len(requester_upvotes_minus_downvotes_at_request_0))\n",
    "#removing outliers\n",
    "z = np.abs(stats.zscore(requester_upvotes_minus_downvotes_at_request_0))\n",
    "#print(z)\n",
    "requester_upvotes_minus_downvotes_at_request_0_removed_outliers = requester_upvotes_minus_downvotes_at_request_0.where(z < 2)\n",
    "print(len(requester_upvotes_minus_downvotes_at_request_0_removed_outliers))"
   ]
  },
  {
   "cell_type": "markdown",
   "metadata": {},
   "source": [
    "#### 5.5 requester_upvotes_plus_downvotes_at_request"
   ]
  },
  {
   "cell_type": "code",
   "execution_count": 33,
   "metadata": {},
   "outputs": [
    {
     "name": "stdout",
     "output_type": "stream",
     "text": [
      "4858.928017718716\n",
      "3349.279180387852\n"
     ]
    },
    {
     "data": {
      "image/png": "[encoded data removed]",
      "text/plain": [
       "<Figure size 864x504 with 1 Axes>"
      ]
     },
     "metadata": {},
     "output_type": "display_data"
    }
   ],
   "source": [
    "requester_upvotes_plus_downvotes_at_request_1 = train[train['requester_received_pizza'] == True]['requester_upvotes_plus_downvotes_at_request']\n",
    "requester_upvotes_plus_downvotes_at_request_0 = train[train['requester_received_pizza'] == False]['requester_upvotes_plus_downvotes_at_request']\n",
    "\n",
    "set_to_plot = [requester_upvotes_plus_downvotes_at_request_1, requester_upvotes_plus_downvotes_at_request_0]\n",
    "\n",
    "labels = train['requester_received_pizza'].unique()\n",
    "\n",
    "fig, ax = plt.subplots(figsize=(12, 7))\n",
    "ax.boxplot(set_to_plot, labels=labels)\n",
    "\n",
    "print(np.mean(requester_upvotes_plus_downvotes_at_request_1))\n",
    "print(np.mean(requester_upvotes_plus_downvotes_at_request_0))"
   ]
  },
  {
   "cell_type": "markdown",
   "metadata": {},
   "source": [
    "#### 5.6 PCA for request (excluding text) features analyzed or created above\n",
    "\n",
    "Principal Component Analysis (PCA) is an unsupervised, non-parametric statistical technique primarily used for dimensionality reduction in machine learning.\n",
    "\n",
    "It helps extract information from features that is not shared between them so we are not weighing some information more than other because it is contained in a large portion of our selected feautres. \n",
    "\n",
    "PCA outputs a set of features (that are independent of one another/orthogonal in the dimensionality space). These are hard to interpret but they hold the information from the variables that we give as input to PCA.  "
   ]
  },
  {
   "cell_type": "code",
   "execution_count": 34,
   "metadata": {},
   "outputs": [
    {
     "name": "stderr",
     "output_type": "stream",
     "text": [
      "/Users/simranbhatia/opt/anaconda3/lib/python3.8/site-packages/pandas/core/indexing.py:845: SettingWithCopyWarning: \n",
      "A value is trying to be set on a copy of a slice from a DataFrame.\n",
      "Try using .loc[row_indexer,col_indexer] = value instead\n",
      "\n",
      "See the caveats in the documentation: https://pandas.pydata.org/pandas-docs/stable/user_guide/indexing.html#returning-a-view-versus-a-copy\n",
      "  self.obj[key] = _infer_fill_value(value)\n",
      "/Users/simranbhatia/opt/anaconda3/lib/python3.8/site-packages/pandas/core/indexing.py:966: SettingWithCopyWarning: \n",
      "A value is trying to be set on a copy of a slice from a DataFrame.\n",
      "Try using .loc[row_indexer,col_indexer] = value instead\n",
      "\n",
      "See the caveats in the documentation: https://pandas.pydata.org/pandas-docs/stable/user_guide/indexing.html#returning-a-view-versus-a-copy\n",
      "  self.obj[item] = s\n"
     ]
    },
    {
     "ename": "NameError",
     "evalue": "name 'sorted_subreddits_frequency' is not defined",
     "output_type": "error",
     "traceback": [
      "\u001b[0;31m---------------------------------------------------------------------------\u001b[0m",
      "\u001b[0;31mNameError\u001b[0m                                 Traceback (most recent call last)",
      "\u001b[0;32m<ipython-input-34-f0320ab9ad84>\u001b[0m in \u001b[0;36m<module>\u001b[0;34m\u001b[0m\n\u001b[1;32m     15\u001b[0m     \u001b[0mrequest_meta_features\u001b[0m\u001b[0;34m.\u001b[0m\u001b[0mloc\u001b[0m\u001b[0;34m[\u001b[0m\u001b[0mi\u001b[0m\u001b[0;34m,\u001b[0m\u001b[0;34m'random_pizza_subreddits'\u001b[0m\u001b[0;34m]\u001b[0m \u001b[0;34m=\u001b[0m \u001b[0mlen\u001b[0m\u001b[0;34m(\u001b[0m\u001b[0;34m[\u001b[0m\u001b[0mr\u001b[0m \u001b[0;32mfor\u001b[0m \u001b[0mr\u001b[0m \u001b[0;32min\u001b[0m \u001b[0mrequests\u001b[0m \u001b[0;32mif\u001b[0m \u001b[0;34m\"random acts of pizza\"\u001b[0m \u001b[0;32min\u001b[0m \u001b[0mr\u001b[0m\u001b[0;34m.\u001b[0m\u001b[0mlower\u001b[0m\u001b[0;34m(\u001b[0m\u001b[0;34m)\u001b[0m\u001b[0;34m]\u001b[0m\u001b[0;34m)\u001b[0m\u001b[0;34m\u001b[0m\u001b[0;34m\u001b[0m\u001b[0m\n\u001b[1;32m     16\u001b[0m     \u001b[0mrequest_meta_features\u001b[0m\u001b[0;34m.\u001b[0m\u001b[0mloc\u001b[0m\u001b[0;34m[\u001b[0m\u001b[0mi\u001b[0m\u001b[0;34m,\u001b[0m\u001b[0;34m'food_subreddits'\u001b[0m\u001b[0;34m]\u001b[0m \u001b[0;34m=\u001b[0m \u001b[0mlen\u001b[0m\u001b[0;34m(\u001b[0m\u001b[0;34m[\u001b[0m\u001b[0mr\u001b[0m \u001b[0;32mfor\u001b[0m \u001b[0mr\u001b[0m \u001b[0;32min\u001b[0m \u001b[0mrequests\u001b[0m \u001b[0;32mif\u001b[0m \u001b[0;34m\"food\"\u001b[0m \u001b[0;32min\u001b[0m \u001b[0mr\u001b[0m\u001b[0;34m.\u001b[0m\u001b[0mlower\u001b[0m\u001b[0;34m(\u001b[0m\u001b[0;34m)\u001b[0m\u001b[0;34m]\u001b[0m\u001b[0;34m)\u001b[0m\u001b[0;34m\u001b[0m\u001b[0;34m\u001b[0m\u001b[0m\n\u001b[0;32m---> 17\u001b[0;31m     request_meta_features.loc[i,'common_subreddits'] = len([r for r in requests if \n\u001b[0m\u001b[1;32m     18\u001b[0m                                                             (sorted_subreddits_frequency[0][0] in r.lower()\n\u001b[1;32m     19\u001b[0m                                                             \u001b[0;32mor\u001b[0m \u001b[0msorted_subreddits_frequency\u001b[0m\u001b[0;34m[\u001b[0m\u001b[0;36m1\u001b[0m\u001b[0;34m]\u001b[0m\u001b[0;34m[\u001b[0m\u001b[0;36m0\u001b[0m\u001b[0;34m]\u001b[0m \u001b[0;32min\u001b[0m \u001b[0mr\u001b[0m\u001b[0;34m.\u001b[0m\u001b[0mlower\u001b[0m\u001b[0;34m(\u001b[0m\u001b[0;34m)\u001b[0m\u001b[0;34m\u001b[0m\u001b[0;34m\u001b[0m\u001b[0m\n",
      "\u001b[0;32m<ipython-input-34-f0320ab9ad84>\u001b[0m in \u001b[0;36m<listcomp>\u001b[0;34m(.0)\u001b[0m\n\u001b[1;32m     16\u001b[0m     \u001b[0mrequest_meta_features\u001b[0m\u001b[0;34m.\u001b[0m\u001b[0mloc\u001b[0m\u001b[0;34m[\u001b[0m\u001b[0mi\u001b[0m\u001b[0;34m,\u001b[0m\u001b[0;34m'food_subreddits'\u001b[0m\u001b[0;34m]\u001b[0m \u001b[0;34m=\u001b[0m \u001b[0mlen\u001b[0m\u001b[0;34m(\u001b[0m\u001b[0;34m[\u001b[0m\u001b[0mr\u001b[0m \u001b[0;32mfor\u001b[0m \u001b[0mr\u001b[0m \u001b[0;32min\u001b[0m \u001b[0mrequests\u001b[0m \u001b[0;32mif\u001b[0m \u001b[0;34m\"food\"\u001b[0m \u001b[0;32min\u001b[0m \u001b[0mr\u001b[0m\u001b[0;34m.\u001b[0m\u001b[0mlower\u001b[0m\u001b[0;34m(\u001b[0m\u001b[0;34m)\u001b[0m\u001b[0;34m]\u001b[0m\u001b[0;34m)\u001b[0m\u001b[0;34m\u001b[0m\u001b[0;34m\u001b[0m\u001b[0m\n\u001b[1;32m     17\u001b[0m     request_meta_features.loc[i,'common_subreddits'] = len([r for r in requests if \n\u001b[0;32m---> 18\u001b[0;31m                                                             (sorted_subreddits_frequency[0][0] in r.lower()\n\u001b[0m\u001b[1;32m     19\u001b[0m                                                             \u001b[0;32mor\u001b[0m \u001b[0msorted_subreddits_frequency\u001b[0m\u001b[0;34m[\u001b[0m\u001b[0;36m1\u001b[0m\u001b[0;34m]\u001b[0m\u001b[0;34m[\u001b[0m\u001b[0;36m0\u001b[0m\u001b[0;34m]\u001b[0m \u001b[0;32min\u001b[0m \u001b[0mr\u001b[0m\u001b[0;34m.\u001b[0m\u001b[0mlower\u001b[0m\u001b[0;34m(\u001b[0m\u001b[0;34m)\u001b[0m\u001b[0;34m\u001b[0m\u001b[0;34m\u001b[0m\u001b[0m\n\u001b[1;32m     20\u001b[0m                                                             \u001b[0;32mor\u001b[0m \u001b[0msorted_subreddits_frequency\u001b[0m\u001b[0;34m[\u001b[0m\u001b[0;36m2\u001b[0m\u001b[0;34m]\u001b[0m\u001b[0;34m[\u001b[0m\u001b[0;36m0\u001b[0m\u001b[0;34m]\u001b[0m \u001b[0;32min\u001b[0m \u001b[0mr\u001b[0m\u001b[0;34m.\u001b[0m\u001b[0mlower\u001b[0m\u001b[0;34m(\u001b[0m\u001b[0;34m)\u001b[0m\u001b[0;34m\u001b[0m\u001b[0;34m\u001b[0m\u001b[0m\n",
      "\u001b[0;31mNameError\u001b[0m: name 'sorted_subreddits_frequency' is not defined"
     ]
    }
   ],
   "source": [
    "len_subreddits = []\n",
    "random_subreddits = []\n",
    "random_pizza_subreddits = []\n",
    "food_subreddits = []\n",
    "\n",
    "request_meta_features = train[['requester_account_age_in_days_at_request',\n",
    "                         'requester_subreddits_at_request',\n",
    "                         'requester_upvotes_minus_downvotes_at_request',\n",
    "                         'requester_upvotes_plus_downvotes_at_request',]]\n",
    "\n",
    "\n",
    "for i,requests in enumerate(request_meta_features['requester_subreddits_at_request']):\n",
    "    request_meta_features.loc[i,'len_subreddits'] = len(requests)\n",
    "    request_meta_features.loc[i,'random_subreddits'] = len([r for r in requests if \"random\" in r.lower()])\n",
    "    request_meta_features.loc[i,'random_pizza_subreddits'] = len([r for r in requests if \"random acts of pizza\" in r.lower()])\n",
    "    request_meta_features.loc[i,'food_subreddits'] = len([r for r in requests if \"food\" in r.lower()])\n",
    "    request_meta_features.loc[i,'common_subreddits'] = len([r for r in requests if \n",
    "                                                            (sorted_subreddits_frequency[0][0] in r.lower()\n",
    "                                                            or sorted_subreddits_frequency[1][0] in r.lower()\n",
    "                                                            or sorted_subreddits_frequency[2][0] in r.lower()\n",
    "                                                            or sorted_subreddits_frequency[3][0] in r.lower()\n",
    "                                                            or sorted_subreddits_frequency[4][0] in r.lower())])\n",
    "\n",
    "\n",
    "pca_features = sklearn.decomposition.PCA(request_meta_features)\n",
    "\n",
    "print(pca_features)"
   ]
  },
  {
   "cell_type": "markdown",
   "metadata": {},
   "source": [
    "### 6. Exploration of text-based features"
   ]
  },
  {
   "cell_type": "markdown",
   "metadata": {},
   "source": [
    "### 6.1 Basic Analysis of text field"
   ]
  },
  {
   "cell_type": "code",
   "execution_count": 35,
   "metadata": {},
   "outputs": [
    {
     "data": {
      "text/html": [
       "<div>\n",
       "<style scoped>\n",
       "    .dataframe tbody tr th:only-of-type {\n",
       "        vertical-align: middle;\n",
       "    }\n",
       "\n",
       "    .dataframe tbody tr th {\n",
       "        vertical-align: top;\n",
       "    }\n",
       "\n",
       "    .dataframe thead th {\n",
       "        text-align: right;\n",
       "    }\n",
       "</style>\n",
       "<table border=\"1\" class=\"dataframe\">\n",
       "  <thead>\n",
       "    <tr style=\"text-align: right;\">\n",
       "      <th></th>\n",
       "      <th>request_text_edit_aware</th>\n",
       "    </tr>\n",
       "  </thead>\n",
       "  <tbody>\n",
       "    <tr>\n",
       "      <th>929</th>\n",
       "      <td>Will draw a little torso sketch of you as a fa...</td>\n",
       "    </tr>\n",
       "    <tr>\n",
       "      <th>2852</th>\n",
       "      <td>Got roughly $6,000 on 4 cards over the years f...</td>\n",
       "    </tr>\n",
       "    <tr>\n",
       "      <th>2122</th>\n",
       "      <td>I just got into bellingham this morning, tryin...</td>\n",
       "    </tr>\n",
       "    <tr>\n",
       "      <th>1615</th>\n",
       "      <td>Parents went out of town for Memorial Day week...</td>\n",
       "    </tr>\n",
       "    <tr>\n",
       "      <th>458</th>\n",
       "      <td>Hi! I felt bad making a request but I'm home a...</td>\n",
       "    </tr>\n",
       "  </tbody>\n",
       "</table>\n",
       "</div>"
      ],
      "text/plain": [
       "                                request_text_edit_aware\n",
       "929   Will draw a little torso sketch of you as a fa...\n",
       "2852  Got roughly $6,000 on 4 cards over the years f...\n",
       "2122  I just got into bellingham this morning, tryin...\n",
       "1615  Parents went out of town for Memorial Day week...\n",
       "458   Hi! I felt bad making a request but I'm home a..."
      ]
     },
     "execution_count": 35,
     "metadata": {},
     "output_type": "execute_result"
    }
   ],
   "source": [
    "request_text_features = train[['request_text_edit_aware']]\n",
    "request_labels = train[['requester_received_pizza']]\n",
    "request_text_features.head()"
   ]
  },
  {
   "cell_type": "code",
   "execution_count": 36,
   "metadata": {},
   "outputs": [],
   "source": [
    "# separating train data by topics for analysis\n",
    "completed_request_indices = [i for i,l in enumerate(request_labels['requester_received_pizza']) if l==True]\n",
    "not_completed_request_indices = [i for i,l in enumerate(request_labels['requester_received_pizza']) if l==False]\n",
    "\n",
    "\n",
    "completed_request_train_data = [t for i,t in enumerate(request_text_features['request_text_edit_aware']) if i in completed_request_indices]\n",
    "not_completed_request_train_data = [t for i,t in enumerate(request_text_features['request_text_edit_aware']) if i in not_completed_request_indices]\n"
   ]
  },
  {
   "cell_type": "code",
   "execution_count": 37,
   "metadata": {},
   "outputs": [
    {
     "name": "stdout",
     "output_type": "stream",
     "text": [
      "lengths for pizza request completed:  472.3709856035437\n",
      "lengths for pizza request not completed:  375.05488474204174\n"
     ]
    }
   ],
   "source": [
    "print(\"lengths for pizza request completed: \",\n",
    "      np.mean([len(x) for x in completed_request_train_data]))\n",
    "print(\"lengths for pizza request not completed: \",\n",
    "      np.mean([len(x) for x in not_completed_request_train_data]))"
   ]
  },
  {
   "cell_type": "code",
   "execution_count": 38,
   "metadata": {},
   "outputs": [
    {
     "data": {
      "text/plain": [
       "366.48059284853906"
      ]
     },
     "execution_count": 38,
     "metadata": {},
     "output_type": "execute_result"
    }
   ],
   "source": [
    "np.std([len(x) for x in request_text_features['request_text_edit_aware']])"
   ]
  },
  {
   "cell_type": "code",
   "execution_count": 39,
   "metadata": {},
   "outputs": [
    {
     "name": "stdout",
     "output_type": "stream",
     "text": [
      "number of words for pizza request completed:  90.28682170542636\n",
      "number of words request not completed:  72.01719721917307\n"
     ]
    }
   ],
   "source": [
    "def lengths_feature(data):\n",
    "    \n",
    "    lengths = [len(x) for x in data]\n",
    "    \n",
    "    return np.reshape(np.array(lengths),( len(lengths), 1 ))\n",
    "\n",
    "print(\"number of words for pizza request completed: \",\n",
    "      np.mean([len(x.split())for x in completed_request_train_data]))\n",
    "print(\"number of words request not completed: \",\n",
    "      np.mean([len(x.split()) for x in not_completed_request_train_data]))"
   ]
  },
  {
   "cell_type": "code",
   "execution_count": 40,
   "metadata": {},
   "outputs": [
    {
     "name": "stdout",
     "output_type": "stream",
     "text": [
      "number of capital letters for pizza request completed:  4.040974529346622\n",
      "number of capital letters request not completed:  3.2590559824368825\n"
     ]
    }
   ],
   "source": [
    "def num_words_feature(data):\n",
    "        \n",
    "    words = [len(x.split()) for x in data]\n",
    "        \n",
    "    return np.reshape(np.array(words),( len(words), 1 ))\n",
    "\n",
    "print(\"number of capital letters for pizza request completed: \",\n",
    "      np.mean([sum(1 for c in x.split() if c.isupper()) for x in completed_request_train_data]))\n",
    "print(\"number of capital letters request not completed: \",\n",
    "      np.mean([sum(1 for c in x.split() if c.isupper()) for x in not_completed_request_train_data]))"
   ]
  },
  {
   "cell_type": "code",
   "execution_count": 41,
   "metadata": {},
   "outputs": [
    {
     "data": {
      "text/plain": [
       "4.65725865984963"
      ]
     },
     "execution_count": 41,
     "metadata": {},
     "output_type": "execute_result"
    }
   ],
   "source": [
    "np.std([sum(1 for c in x.split() if c.isupper()) for x in request_text_features['request_text_edit_aware']])"
   ]
  },
  {
   "cell_type": "code",
   "execution_count": 42,
   "metadata": {},
   "outputs": [
    {
     "name": "stdout",
     "output_type": "stream",
     "text": [
      "number of capital letters/length for pizza request completed:  0.008576704992833573\n",
      "number of capital letters/length request not completed:  0.008440469298842783\n"
     ]
    }
   ],
   "source": [
    "def num_caps_feature(data):\n",
    "    \n",
    "    caps = [sum(1 for c in x.split() if c.isupper()) for x in data]\n",
    "        \n",
    "    return np.reshape(np.array(caps),(len(caps), 1))\n",
    "\n",
    "print(\"number of capital letters/length for pizza request completed: \",\n",
    "      np.mean([sum(1 for c in x.split() if c.isupper())/len(x) if len(x)>0 else 0 for x in completed_request_train_data]))\n",
    "print(\"number of capital letters/length request not completed: \",\n",
    "      np.mean([sum(1 for c in x.split() if c.isupper())/len(x) if len(x)>0 else 0  for x in not_completed_request_train_data]))"
   ]
  },
  {
   "cell_type": "code",
   "execution_count": 43,
   "metadata": {},
   "outputs": [
    {
     "name": "stdout",
     "output_type": "stream",
     "text": [
      "number of unique words for pizza request completed:  67.76744186046511\n",
      "number of unique words request not completed:  55.46652030735456\n"
     ]
    }
   ],
   "source": [
    "def caps_vs_lengths_feature(data):\n",
    "    \n",
    "    caps_vs_lengths = [sum(1 for c in x.split() if c.isupper())/len(x) if len(x)>0 else 0 for x in data]\n",
    "    \n",
    "    return np.reshape(np.array(caps_vs_lengths),(len(caps_vs_lengths), 1))\n",
    "\n",
    "print(\"number of unique words for pizza request completed: \",\n",
    "      np.mean([len(set(w for w in x.split())) for x in completed_request_train_data]))\n",
    "print(\"number of unique words request not completed: \",\n",
    "      np.mean([len(set(w for w in x.split())) for x in not_completed_request_train_data]))"
   ]
  },
  {
   "cell_type": "code",
   "execution_count": 46,
   "metadata": {},
   "outputs": [],
   "source": [
    "def num_unique_words_feature(data):\n",
    "    \n",
    "    num_unique_words = [len(set(w for w in x.split())) for x in data]\n",
    "\n",
    "    return np.reshape(np.array(num_unique_words),(len(num_unique_words), 1))"
   ]
  },
  {
   "cell_type": "code",
   "execution_count": 50,
   "metadata": {},
   "outputs": [
    {
     "name": "stdout",
     "output_type": "stream",
     "text": [
      "number of punctuations for pizza request completed:  16.940199335548172\n",
      "number of punctuations request not completed:  13.056714233443103\n"
     ]
    }
   ],
   "source": [
    "puncs = '!\"#$%&\\'()*+,-./:;<=>?@[\\\\]^_{|}~`'\n",
    "def num_punctuations_feature(data):\n",
    "    \n",
    "    num_punctuations = [sum(x.count(w) for w in puncs) for x in data]\n",
    "        \n",
    "    return np.reshape(np.array(num_punctuations),(len(num_punctuations), 1))\n",
    "\n",
    "print(\"number of punctuations for pizza request completed: \",\n",
    "      np.mean([sum(x.count(w) for w in puncs) for x in completed_request_train_data]))\n",
    "print(\"number of punctuations request not completed: \",\n",
    "      np.mean([sum(x.count(w) for w in puncs) for x in not_completed_request_train_data]))"
   ]
  },
  {
   "cell_type": "code",
   "execution_count": 51,
   "metadata": {},
   "outputs": [
    {
     "data": {
      "text/plain": [
       "14.30270895050531"
      ]
     },
     "execution_count": 51,
     "metadata": {},
     "output_type": "execute_result"
    }
   ],
   "source": [
    "np.std([sum(x.count(w) for w in puncs) for x in request_text_features['request_text_edit_aware']])"
   ]
  },
  {
   "cell_type": "code",
   "execution_count": 52,
   "metadata": {},
   "outputs": [
    {
     "name": "stdout",
     "output_type": "stream",
     "text": [
      "number of stop words for pizza request completed:  265.5913621262458\n",
      "number of stop words request not completed:  211.10647639956093\n"
     ]
    }
   ],
   "source": [
    "def num_stopwords_feature(data):\n",
    "    \n",
    "    num_stopwords = [sum(x.count(w) for w in set(nltk.corpus.stopwords.words('english'))) for x in data]\n",
    "        \n",
    "    return np.reshape(np.array(num_stopwords),(len(num_stopwords), 1))\n",
    "\n",
    "print(\"number of stop words for pizza request completed: \",\n",
    "      np.mean([sum(x.count(w) for w in set(nltk.corpus.stopwords.words('english'))) for x in completed_request_train_data]))\n",
    "print(\"number of stop words request not completed: \",\n",
    "      np.mean([sum(x.count(w) for w in set(nltk.corpus.stopwords.words('english'))) for x in not_completed_request_train_data]))"
   ]
  },
  {
   "cell_type": "code",
   "execution_count": 53,
   "metadata": {},
   "outputs": [
    {
     "name": "stdout",
     "output_type": "stream",
     "text": [
      "average number of completed request containing a URL: 0.10299003322259136\n",
      "average number of not completed request containing a URL: 0.06147091108671789\n"
     ]
    }
   ],
   "source": [
    "url_regex = re.compile(r\"(?i)\\b((?:https?://|www\\d{0,3}[.]|[a-z0-9.\\-]+[.][a-z]{2,4}/)(?:[^\\s()<>]+|\\(([^\\s()<>]+|(\\([^\\s()<>]+\\)))*\\))+(?:\\(([^\\s()<>]+|(\\([^\\s()<>]+\\)))*\\)|[^\\s`!()\\[\\]{};:'\\\".,<>?«»“”‘’]))\")\n",
    "\n",
    "completed_requests_with_url = 0\n",
    "not_completed_request_with_url = 0\n",
    "\n",
    "for x in completed_request_train_data:\n",
    "    url_regex_found = [f[0] for f in re.findall(url_regex,str(x))]\n",
    "    if(len(url_regex_found)>0):\n",
    "        completed_requests_with_url += 1\n",
    "\n",
    "for x in not_completed_request_train_data:\n",
    "    url_regex_found = [f[0] for f in re.findall(url_regex,str(x))]\n",
    "    if len(url_regex_found)>0:\n",
    "        not_completed_request_with_url += 1\n",
    "\n",
    "print(\"average number of completed request containing a URL:\",\n",
    "      completed_requests_with_url*1.0/len(completed_request_train_data))\n",
    "print(\"average number of not completed request containing a URL:\",\n",
    "      not_completed_request_with_url*1.0/len(not_completed_request_train_data))"
   ]
  },
  {
   "cell_type": "code",
   "execution_count": 54,
   "metadata": {},
   "outputs": [],
   "source": [
    "def requests_with_url(data):\n",
    "    \n",
    "    requests_with_url = [1 if len([f[0] for f in re.findall(url_regex,str(x))])>0 else 0 for x in data]\n",
    "        \n",
    "    return np.reshape(np.array(requests_with_url),(len(requests_with_url), 1))"
   ]
  },
  {
   "cell_type": "code",
   "execution_count": 55,
   "metadata": {},
   "outputs": [
    {
     "data": {
      "text/plain": [
       "0.10299003322259136"
      ]
     },
     "execution_count": 55,
     "metadata": {},
     "output_type": "execute_result"
    }
   ],
   "source": [
    "np.mean(requests_with_url(completed_request_train_data))"
   ]
  },
  {
   "cell_type": "code",
   "execution_count": 56,
   "metadata": {},
   "outputs": [
    {
     "data": {
      "text/plain": [
       "0.06147091108671789"
      ]
     },
     "execution_count": 56,
     "metadata": {},
     "output_type": "execute_result"
    }
   ],
   "source": [
    "np.mean(requests_with_url(not_completed_request_train_data))"
   ]
  },
  {
   "cell_type": "markdown",
   "metadata": {},
   "source": [
    "### 6.2 Feature Preprocessing \n",
    "\n",
    "The first step for text processing is to set up the preprocessing functions. In our preprocessing steps, we are doing the following:\n",
    "\n",
    "1. Coverting the text to lower case\n",
    "2. Removing stopwords\n",
    "3. Removing digits\n",
    "4. Lemmatizing the word tokens"
   ]
  },
  {
   "cell_type": "markdown",
   "metadata": {},
   "source": [
    "### 6.2.1 Creating stopword list\n",
    "\n",
    "Added a couple of custom stopwords that are frequently used in ROAP requests (e.g. piza, request, hey, hi)"
   ]
  },
  {
   "cell_type": "code",
   "execution_count": 57,
   "metadata": {},
   "outputs": [],
   "source": [
    "# stopwords from stopwords-json\n",
    "stopwords_json = {\"en\":[\"a\",\"a's\",\"able\",\"about\",\"above\",\"according\",\"accordingly\",\"across\",\"actually\",\"after\",\"afterwards\",\"again\",\"against\",\"ain't\",\"all\",\"allow\",\"allows\",\"almost\",\"alone\",\"along\",\"already\",\"also\",\"although\",\"always\",\"am\",\"among\",\"amongst\",\"an\",\"and\",\"another\",\"any\",\"anybody\",\"anyhow\",\"anyone\",\"anything\",\"anyway\",\"anyways\",\"anywhere\",\"apart\",\"appear\",\"appreciate\",\"appropriate\",\"are\",\"aren't\",\"around\",\"as\",\"aside\",\"ask\",\"asking\",\"associated\",\"at\",\"available\",\"away\",\"awfully\",\"b\",\"be\",\"became\",\"because\",\"become\",\"becomes\",\"becoming\",\"been\",\"before\",\"beforehand\",\"behind\",\"being\",\"believe\",\"below\",\"beside\",\"besides\",\"best\",\"better\",\"between\",\"beyond\",\"both\",\"brief\",\"but\",\"by\",\"c\",\"c'mon\",\"c's\",\"came\",\"can\",\"can't\",\"cannot\",\"cant\",\"cause\",\"causes\",\"certain\",\"certainly\",\"changes\",\"clearly\",\"co\",\"com\",\"come\",\"comes\",\"concerning\",\"consequently\",\"consider\",\"considering\",\"contain\",\"containing\",\"contains\",\"corresponding\",\"could\",\"couldn't\",\"course\",\"currently\",\"d\",\"definitely\",\"described\",\"despite\",\"did\",\"didn't\",\"different\",\"do\",\"does\",\"doesn't\",\"doing\",\"don't\",\"done\",\"down\",\"downwards\",\"during\",\"e\",\"each\",\"edu\",\"eg\",\"eight\",\"either\",\"else\",\"elsewhere\",\"enough\",\"entirely\",\"especially\",\"et\",\"etc\",\"even\",\"ever\",\"every\",\"everybody\",\"everyone\",\"everything\",\"everywhere\",\"ex\",\"exactly\",\"example\",\"except\",\"f\",\"far\",\"few\",\"fifth\",\"first\",\"five\",\"followed\",\"following\",\"follows\",\"for\",\"former\",\"formerly\",\"forth\",\"four\",\"from\",\"further\",\"furthermore\",\"g\",\"get\",\"gets\",\"getting\",\"given\",\"gives\",\"go\",\"goes\",\"going\",\"gone\",\"got\",\"gotten\",\"greetings\",\"h\",\"had\",\"hadn't\",\"happens\",\"hardly\",\"has\",\"hasn't\",\"have\",\"haven't\",\"having\",\"he\",\"he's\",\"hello\",\"help\",\"hence\",\"her\",\"here\",\"here's\",\"hereafter\",\"hereby\",\"herein\",\"hereupon\",\"hers\",\"herself\",\"hi\",\"him\",\"himself\",\"his\",\"hither\",\"hopefully\",\"how\",\"howbeit\",\"however\",\"i\",\"i'd\",\"i'll\",\"i'm\",\"i've\",\"ie\",\"if\",\"ignored\",\"immediate\",\"in\",\"inasmuch\",\"inc\",\"indeed\",\"indicate\",\"indicated\",\"indicates\",\"inner\",\"insofar\",\"instead\",\"into\",\"inward\",\"is\",\"isn't\",\"it\",\"it'd\",\"it'll\",\"it's\",\"its\",\"itself\",\"j\",\"just\",\"k\",\"keep\",\"keeps\",\"kept\",\"know\",\"known\",\"knows\",\"l\",\"last\",\"lately\",\"later\",\"latter\",\"latterly\",\"least\",\"less\",\"lest\",\"let\",\"let's\",\"like\",\"liked\",\"likely\",\"little\",\"look\",\"looking\",\"looks\",\"ltd\",\"m\",\"mainly\",\"many\",\"may\",\"maybe\",\"me\",\"mean\",\"meanwhile\",\"merely\",\"might\",\"more\",\"moreover\",\"most\",\"mostly\",\"much\",\"must\",\"my\",\"myself\",\"n\",\"name\",\"namely\",\"nd\",\"near\",\"nearly\",\"necessary\",\"need\",\"needs\",\"neither\",\"never\",\"nevertheless\",\"new\",\"next\",\"nine\",\"no\",\"nobody\",\"non\",\"none\",\"noone\",\"nor\",\"normally\",\"not\",\"nothing\",\"novel\",\"now\",\"nowhere\",\"o\",\"obviously\",\"of\",\"off\",\"often\",\"oh\",\"ok\",\"okay\",\"old\",\"on\",\"once\",\"one\",\"ones\",\"only\",\"onto\",\"or\",\"other\",\"others\",\"otherwise\",\"ought\",\"our\",\"ours\",\"ourselves\",\"out\",\"outside\",\"over\",\"overall\",\"own\",\"p\",\"particular\",\"particularly\",\"per\",\"perhaps\",\"placed\",\"please\",\"plus\",\"possible\",\"presumably\",\"probably\",\"provides\",\"q\",\"que\",\"quite\",\"qv\",\"r\",\"rather\",\"rd\",\"re\",\"really\",\"reasonably\",\"regarding\",\"regardless\",\"regards\",\"relatively\",\"respectively\",\"right\",\"s\",\"said\",\"same\",\"saw\",\"say\",\"saying\",\"says\",\"second\",\"secondly\",\"see\",\"seeing\",\"seem\",\"seemed\",\"seeming\",\"seems\",\"seen\",\"self\",\"selves\",\"sensible\",\"sent\",\"serious\",\"seriously\",\"seven\",\"several\",\"shall\",\"she\",\"should\",\"shouldn't\",\"since\",\"six\",\"so\",\"some\",\"somebody\",\"somehow\",\"someone\",\"something\",\"sometime\",\"sometimes\",\"somewhat\",\"somewhere\",\"soon\",\"sorry\",\"specified\",\"specify\",\"specifying\",\"still\",\"sub\",\"such\",\"sup\",\"sure\",\"t\",\"t's\",\"take\",\"taken\",\"tell\",\"tends\",\"th\",\"than\",\"thank\",\"thanks\",\"thanx\",\"that\",\"that's\",\"thats\",\"the\",\"their\",\"theirs\",\"them\",\"themselves\",\"then\",\"thence\",\"there\",\"there's\",\"thereafter\",\"thereby\",\"therefore\",\"therein\",\"theres\",\"thereupon\",\"these\",\"they\",\"they'd\",\"they'll\",\"they're\",\"they've\",\"think\",\"third\",\"this\",\"thorough\",\"thoroughly\",\"those\",\"though\",\"three\",\"through\",\"throughout\",\"thru\",\"thus\",\"to\",\"together\",\"too\",\"took\",\"toward\",\"towards\",\"tried\",\"tries\",\"truly\",\"try\",\"trying\",\"twice\",\"two\",\"u\",\"un\",\"under\",\"unfortunately\",\"unless\",\"unlikely\",\"until\",\"unto\",\"up\",\"upon\",\"us\",\"use\",\"used\",\"useful\",\"uses\",\"using\",\"usually\",\"uucp\",\"v\",\"value\",\"various\",\"very\",\"via\",\"viz\",\"vs\",\"w\",\"want\",\"wants\",\"was\",\"wasn't\",\"way\",\"we\",\"we'd\",\"we'll\",\"we're\",\"we've\",\"welcome\",\"well\",\"went\",\"were\",\"weren't\",\"what\",\"what's\",\"whatever\",\"when\",\"whence\",\"whenever\",\"where\",\"where's\",\"whereafter\",\"whereas\",\"whereby\",\"wherein\",\"whereupon\",\"wherever\",\"whether\",\"which\",\"while\",\"whither\",\"who\",\"who's\",\"whoever\",\"whole\",\"whom\",\"whose\",\"why\",\"will\",\"willing\",\"wish\",\"with\",\"within\",\"without\",\"won't\",\"wonder\",\"would\",\"wouldn't\",\"x\",\"y\",\"yes\",\"yet\",\"you\",\"you'd\",\"you'll\",\"you're\",\"you've\",\"your\",\"yours\",\"yourself\",\"yourselves\",\"z\",\"zero\"]}\n",
    "stopwords_json_en = set(stopwords_json['en'])\n",
    "# adding some of our own stop words to NLTK's stopword list\n",
    "stopwords_nltk_en = set(stopwords.words('english') + ['though','pizza', 'request', 'hey', 'hi'])\n",
    "# create stop word list for punctuation\n",
    "stopwords_punct = set(punctuation)\n",
    "# combine the three stopwords lists\n",
    "stoplist_combined = set.union(stopwords_json_en, stopwords_nltk_en, stopwords_punct)"
   ]
  },
  {
   "cell_type": "markdown",
   "metadata": {},
   "source": [
    "### 6.2.2 Create Text Pre-processor\n",
    "Added the ability to replace contractions with their proper form and remove URLS to the text preprocessor"
   ]
  },
  {
   "cell_type": "code",
   "execution_count": 58,
   "metadata": {},
   "outputs": [],
   "source": [
    "wnl = WordNetLemmatizer()\n",
    "\n",
    "def penn2morphy(penntag):\n",
    "    \"\"\" Converts Penn Treebank tags to WordNet. \"\"\"\n",
    "    morphy_tag = {'NN':'n', 'JJ':'a',\n",
    "                  'VB':'v', 'RB':'r'}\n",
    "    try:\n",
    "        return morphy_tag[penntag[:2]]\n",
    "    except:\n",
    "        return 'n' \n",
    "    \n",
    "def lemmatize_sent(text): \n",
    "    # Text input is string, returns lowercased strings.\n",
    "    return [wnl.lemmatize(word.lower(), pos=penn2morphy(tag)) \n",
    "            for word, tag in pos_tag(word_tokenize(text))]\n",
    "\n",
    "def preprocess_text_1(text):\n",
    "    # Input: str, i.e. document/sentence\n",
    "    # Output: list(str) , i.e. list of lemmas\n",
    "    # added functions to replace contractions with their proper form\n",
    "    # and remove any URLs\n",
    "    processed_list = [word for word in lemmatize_sent(contractions.fix(re.sub(r'http\\S+', '', text)))\n",
    "            if word not in stoplist_combined\n",
    "            and not word.isdigit()]\n",
    "    processed_text = ' '.join(processed_list) \n",
    "    return processed_text\n",
    "\n",
    "\n",
    "def preprocess_text_2(text):\n",
    "    # Input: str, i.e. document/sentence\n",
    "    # Output: list(str) , i.e. list of lemmas\n",
    "    return ' '.join([word for word in lemmatize_sent(text) \n",
    "            if word not in stoplist_combined\n",
    "            and not word.isdigit()])"
   ]
  },
  {
   "cell_type": "markdown",
   "metadata": {},
   "source": [
    "### 6.3 Using TFIDFVectorizer for Bigrams"
   ]
  },
  {
   "cell_type": "code",
   "execution_count": 59,
   "metadata": {},
   "outputs": [],
   "source": [
    "# Initialize bigram TDIFD vectorizer \n",
    "tf_bigram = TfidfVectorizer(analyzer = 'word', preprocessor = preprocess_text_1, ngram_range = (2, 2))\n",
    "train_bigram = tf_bigram.fit_transform(train['request_text_edit_aware'])\n",
    "\n",
    "# average frequency of ngrams\n",
    "avg_values = train_bigram.toarray().sum(axis=0)\n",
    "# list of ngrams\n",
    "vocab = tf_bigram.vocabulary_\n",
    "df_bigram = pd.DataFrame(sorted([(avg_values[i],k) for k,i in vocab.items()], reverse=True)).rename(columns={0: 'sum frequency', 1:'bigram'})"
   ]
  },
  {
   "cell_type": "code",
   "execution_count": 60,
   "metadata": {},
   "outputs": [
    {
     "data": {
      "text/html": [
       "<div>\n",
       "<style scoped>\n",
       "    .dataframe tbody tr th:only-of-type {\n",
       "        vertical-align: middle;\n",
       "    }\n",
       "\n",
       "    .dataframe tbody tr th {\n",
       "        vertical-align: top;\n",
       "    }\n",
       "\n",
       "    .dataframe thead th {\n",
       "        text-align: right;\n",
       "    }\n",
       "</style>\n",
       "<table border=\"1\" class=\"dataframe\">\n",
       "  <thead>\n",
       "    <tr style=\"text-align: right;\">\n",
       "      <th></th>\n",
       "      <th>sum frequency</th>\n",
       "      <th>bigram</th>\n",
       "    </tr>\n",
       "  </thead>\n",
       "  <tbody>\n",
       "    <tr>\n",
       "      <th>0</th>\n",
       "      <td>40.771764</td>\n",
       "      <td>pay forward</td>\n",
       "    </tr>\n",
       "    <tr>\n",
       "      <th>1</th>\n",
       "      <td>17.831264</td>\n",
       "      <td>college student</td>\n",
       "    </tr>\n",
       "    <tr>\n",
       "      <th>2</th>\n",
       "      <td>15.412475</td>\n",
       "      <td>return favor</td>\n",
       "    </tr>\n",
       "    <tr>\n",
       "      <th>3</th>\n",
       "      <td>15.410980</td>\n",
       "      <td>sob story</td>\n",
       "    </tr>\n",
       "    <tr>\n",
       "      <th>4</th>\n",
       "      <td>13.989663</td>\n",
       "      <td>bank account</td>\n",
       "    </tr>\n",
       "    <tr>\n",
       "      <th>5</th>\n",
       "      <td>13.361998</td>\n",
       "      <td>lose job</td>\n",
       "    </tr>\n",
       "    <tr>\n",
       "      <th>6</th>\n",
       "      <td>11.078374</td>\n",
       "      <td>papa john</td>\n",
       "    </tr>\n",
       "    <tr>\n",
       "      <th>7</th>\n",
       "      <td>10.608835</td>\n",
       "      <td>pay back</td>\n",
       "    </tr>\n",
       "    <tr>\n",
       "      <th>8</th>\n",
       "      <td>9.410354</td>\n",
       "      <td>couple day</td>\n",
       "    </tr>\n",
       "    <tr>\n",
       "      <th>9</th>\n",
       "      <td>9.290891</td>\n",
       "      <td>pay week</td>\n",
       "    </tr>\n",
       "    <tr>\n",
       "      <th>10</th>\n",
       "      <td>9.287350</td>\n",
       "      <td>pay friday</td>\n",
       "    </tr>\n",
       "    <tr>\n",
       "      <th>11</th>\n",
       "      <td>8.909595</td>\n",
       "      <td>random act</td>\n",
       "    </tr>\n",
       "    <tr>\n",
       "      <th>12</th>\n",
       "      <td>8.817727</td>\n",
       "      <td>pay rent</td>\n",
       "    </tr>\n",
       "    <tr>\n",
       "      <th>13</th>\n",
       "      <td>8.751043</td>\n",
       "      <td>make day</td>\n",
       "    </tr>\n",
       "    <tr>\n",
       "      <th>14</th>\n",
       "      <td>8.419771</td>\n",
       "      <td>money food</td>\n",
       "    </tr>\n",
       "    <tr>\n",
       "      <th>15</th>\n",
       "      <td>8.255400</td>\n",
       "      <td>find job</td>\n",
       "    </tr>\n",
       "    <tr>\n",
       "      <th>16</th>\n",
       "      <td>7.692803</td>\n",
       "      <td>week pay</td>\n",
       "    </tr>\n",
       "    <tr>\n",
       "      <th>17</th>\n",
       "      <td>7.674508</td>\n",
       "      <td>food house</td>\n",
       "    </tr>\n",
       "    <tr>\n",
       "      <th>18</th>\n",
       "      <td>7.511015</td>\n",
       "      <td>week ago</td>\n",
       "    </tr>\n",
       "    <tr>\n",
       "      <th>19</th>\n",
       "      <td>7.465312</td>\n",
       "      <td>promise pay</td>\n",
       "    </tr>\n",
       "  </tbody>\n",
       "</table>\n",
       "</div>"
      ],
      "text/plain": [
       "    sum frequency           bigram\n",
       "0       40.771764      pay forward\n",
       "1       17.831264  college student\n",
       "2       15.412475     return favor\n",
       "3       15.410980        sob story\n",
       "4       13.989663     bank account\n",
       "5       13.361998         lose job\n",
       "6       11.078374        papa john\n",
       "7       10.608835         pay back\n",
       "8        9.410354       couple day\n",
       "9        9.290891         pay week\n",
       "10       9.287350       pay friday\n",
       "11       8.909595       random act\n",
       "12       8.817727         pay rent\n",
       "13       8.751043         make day\n",
       "14       8.419771       money food\n",
       "15       8.255400         find job\n",
       "16       7.692803         week pay\n",
       "17       7.674508       food house\n",
       "18       7.511015         week ago\n",
       "19       7.465312      promise pay"
      ]
     },
     "execution_count": 60,
     "metadata": {},
     "output_type": "execute_result"
    }
   ],
   "source": [
    "df_bigram[:20]"
   ]
  },
  {
   "cell_type": "markdown",
   "metadata": {},
   "source": [
    "### 6.4 Topic Modeling using LDA (Latent Dirichlet Allocation)\n",
    "\n",
    "After using the TDIDF vectorizer to create bigrams, we looked into whether similar bigrams can be grouped into topics. One method we used for topic modeling is LDA.\n",
    "\n",
    "LDA is an iterative probabilistic model that creates topics using two probability values: P(Word|Topic) and P(Topic|Document). We set the LDA model tocreate 10 topics. First, LDA will randomly assign bigrams to 10 topics. Then it'll use the two probability values to reassign bigrams to topics. The reassignment step will happen over and over again until the model converges. This results is the final 10 topics."
   ]
  },
  {
   "cell_type": "code",
   "execution_count": 61,
   "metadata": {},
   "outputs": [
    {
     "name": "stdout",
     "output_type": "stream",
     "text": [
      "Topic #0: pay forward, papa john, sob story, college student, bank account\n",
      "Topic #1: pay forward, sob story, college student, pay rent, lose job\n",
      "Topic #2: pay forward, poor college, bank account, college student, lose job\n",
      "Topic #3: pay forward, random act, money food, food money, sob story\n",
      "Topic #4: pay forward, pay back, return favor, lose job, sob story\n",
      "Topic #5: pay forward, return favor, week ago, paycheck paycheck, hard time\n",
      "Topic #6: pay forward, bank account, college student, sob story, lose job\n",
      "Topic #7: pay forward, college student, bank account, pay week, sob story\n",
      "Topic #8: pay forward, college student, pay week, return favor, pay friday\n",
      "Topic #9: pay forward, return favor, college student, bank account, run food\n",
      "\n"
     ]
    }
   ],
   "source": [
    "# topics for TFIDF trigrams using LDA\n",
    "lda = LatentDirichletAllocation(n_components=10)\n",
    "pipe_lda = make_pipeline(tf_bigram, lda)\n",
    "pipe_lda.fit(train['request_text_edit_aware'])\n",
    "def print_top_words(model, feature_names, n_top_words):\n",
    "    for topic_idx, topic in enumerate(model.components_):\n",
    "        message = \"Topic #%d: \" % topic_idx\n",
    "        message += \", \".join([feature_names[i]\n",
    "                             for i in topic.argsort()[:-n_top_words - 1:-1]])\n",
    "        print(message)\n",
    "    print()\n",
    "print_top_words(lda, tf_bigram.get_feature_names(), n_top_words=5)"
   ]
  },
  {
   "cell_type": "markdown",
   "metadata": {},
   "source": [
    "### 6.5 Topic Modeling using NMF (Non-negative Matrix Factorization)\n",
    "\n",
    "Another topic modeling method we used was NMF. NMF is a linear algebreic model that moves from higher dimensionality to lower dimensionality. It makes a given document-word matrix (our TDIDF matrix) and factors it into two lower dimensional forms: one is a vector of topics and another is a matrix of topic weights for each document. The two lower dimensionality forms are calculated by iterating over them until them optimize and coverge.\n",
    "\n",
    "Below we used NMF to create 10 topics like we did above with LDA modeling. From NMF we saw topics that seemed to make more sense and have less repetition."
   ]
  },
  {
   "cell_type": "code",
   "execution_count": 62,
   "metadata": {},
   "outputs": [
    {
     "name": "stdout",
     "output_type": "stream",
     "text": [
      "Topic #0: pay forward, promise pay, forward money, forward feel, forward friday\n",
      "Topic #1: college student, broke college, poor college, student pay, break college\n",
      "Topic #2: return favor, gladly return, love return, favor paycheck, favor pay\n",
      "Topic #3: sob story, story hungry, title pretty, pretty sob, hungry bore\n",
      "Topic #4: lose job, job week, week ago, job month, month ago\n",
      "Topic #5: pay week, week pay, week buy, forward pay, reciprocate pay\n",
      "Topic #6: pay back, pay friday, pay day, day pay, love pay\n",
      "Topic #7: bank account, account information, cent bank, past week, transfer bank\n",
      "Topic #8: papa john, gift card, domino hut, full time, domino papa\n",
      "Topic #9: money food, food eat, eat today, food hungry, hungry nice\n",
      "\n"
     ]
    }
   ],
   "source": [
    "## topics for TFIDF trigrams using NMF\n",
    "nmf = NMF(n_components=10)\n",
    "pipe = make_pipeline(tf_bigram, nmf)\n",
    "pipe.fit(train['request_text_edit_aware'])\n",
    "print_top_words(nmf, tf_bigram.get_feature_names(), n_top_words=5)"
   ]
  },
  {
   "cell_type": "code",
   "execution_count": 63,
   "metadata": {},
   "outputs": [
    {
     "name": "stdout",
     "output_type": "stream",
     "text": [
      "Topic #0: pay forward, forward money, forward feel, promise pay, grateful pay\n",
      "Topic #1: couple day, job pay, work week, past couple, pay work\n",
      "Topic #2: college student, poor college, make friday, friday random, random college\n",
      "Topic #3: pay week, reciprocate pay, house mood, egg leave, cereal egg\n",
      "Topic #4: sob story, money food, hungry nice, food hungry, find heart\n",
      "Topic #5: return favor, love return, pay friday, day pay, fee day\n",
      "Topic #6: bank account, empty bank, pay bank, dollar bank, account pay\n",
      "Topic #7: day love, eat day, meal day, love eat, love nice\n",
      "Topic #8: make day, lose job, job week, week ago, bad day\n",
      "Topic #9: pay back, back pay, back forward, north carolina, gladly pay\n",
      "\n"
     ]
    },
    {
     "name": "stderr",
     "output_type": "stream",
     "text": [
      "/Users/simranbhatia/opt/anaconda3/lib/python3.8/site-packages/sklearn/decomposition/_nmf.py:1076: ConvergenceWarning: Maximum number of iterations 200 reached. Increase it to improve convergence.\n",
      "  warnings.warn(\"Maximum number of iterations %d reached. Increase it to\"\n"
     ]
    }
   ],
   "source": [
    "## topics for TFIDF trigrams using NMF for those who did get pizza\n",
    "nmf = NMF(n_components=10)\n",
    "pipe = make_pipeline(tf_bigram, nmf)\n",
    "pipe.fit(train.request_text_edit_aware[train.requester_received_pizza == True])\n",
    "print_top_words(nmf, tf_bigram.get_feature_names(), n_top_words=5)"
   ]
  },
  {
   "cell_type": "code",
   "execution_count": 64,
   "metadata": {},
   "outputs": [
    {
     "name": "stdout",
     "output_type": "stream",
     "text": [
      "Topic #0: pay forward, promise pay, advance pay, throw pay, forward paycheck\n",
      "Topic #1: college student, broke college, student pay, break college, poor college\n",
      "Topic #2: return favor, gladly return, favor paycheck, title return, assuredly return\n",
      "Topic #3: sob story, story hungry, hungry bore, random act, story random\n",
      "Topic #4: lose job, job month, job couple, job week, month ago\n",
      "Topic #5: pay back, pay week, forward pay, pay friday, week pay\n",
      "Topic #6: pay day, couple day, food money, make day, money buy\n",
      "Topic #7: bank account, account information, cent bank, past week, transfer bank\n",
      "Topic #8: money food, food eat, eat today, starve money, food reach\n",
      "Topic #9: papa john, gift card, domino hut, full time, alfys papa\n",
      "\n"
     ]
    }
   ],
   "source": [
    "## topics for TFIDF trigrams using NMF for those who did not get piza\n",
    "nmf = NMF(n_components=10)\n",
    "pipe = make_pipeline(tf_bigram, nmf)\n",
    "pipe.fit(train.request_text_edit_aware[train.requester_received_pizza == False])\n",
    "print_top_words(nmf, tf_bigram.get_feature_names(), n_top_words=5)"
   ]
  },
  {
   "cell_type": "markdown",
   "metadata": {},
   "source": [
    "### 6.6 PMI Calculation\n",
    "The idea of PMI is that we want to quantify the likelihood of co-occurrence of two words, taking into account the fact that it might be caused by the frequency of the single words. Hence, the algorithm computes the (log) probability of co-occurrence scaled by the product of the single probability of occurrence as follows:\n",
    "\n",
    "\n",
    "$$\n",
    "PMI (a, b) = \\log(\\frac{P(a, b)}{P(a) * P(b)})\n",
    "$$\n",
    "\n",
    "Now, knowing that, when ‘a’ and ‘b’ are independent, their joint probability is equal to the product of their marginal probabilities, when the ratio equals 1 (hence the log equals 0), it means that the two words together don’t form a unique concept: they co-occur by chance.\n",
    "\n",
    "It is important to note that we can use PMI criterion to not just detect the collocation of two words. We can also use it to get a sense of if a word and a class are co-occuring togather or not. This is the way we are going to use PMI in our case. "
   ]
  },
  {
   "cell_type": "markdown",
   "metadata": {},
   "source": [
    "#### 6.6.1 Counting inclass and overall frequencies for all words in training dataset\n",
    "\n",
    "The next step is to start with the pre-processed text and identify the occurance frequency for each token in the training and test dataset. "
   ]
  },
  {
   "cell_type": "code",
   "execution_count": 65,
   "metadata": {},
   "outputs": [],
   "source": [
    "def count_words_per_category(v, out):\n",
    "    result_true, result_false, result_vocab = {}, {}, {}\n",
    "    for ind, line in enumerate(v):\n",
    "        #print(ind)\n",
    "        #print(out[ind])\n",
    "        trf_line = preprocess_text_2(line) # preprocess and lammatized title text\n",
    "        for elem in trf_line:\n",
    "            result_vocab[elem] = result_vocab.get(elem, 0) + 1\n",
    "            \n",
    "            if out[ind]:\n",
    "                result_true[elem] = result_true.get(elem, 0) + 1\n",
    "            else: \n",
    "                result_false[elem] = result_false.get(elem, 0) + 1\n",
    "    \n",
    "    return result_true, result_false, result_vocab"
   ]
  },
  {
   "cell_type": "markdown",
   "metadata": {},
   "source": [
    "#### 6.6.2 Implementing the PMI function\n",
    "\n",
    "In the next step, we implement the PMI function and compute PMI for all the words in the dictionary"
   ]
  },
  {
   "cell_type": "code",
   "execution_count": 66,
   "metadata": {},
   "outputs": [],
   "source": [
    "def pmi(inclass_freq, total_freq, class_freq, min_count=10):\n",
    "    \"\"\"\n",
    "    inclass_freq (dict): dictionary containing inclass frequency for a given word\n",
    "    total_freq (dict): dictionary containing total frequency for a given word\n",
    "    class_freq (float): class prevalence\n",
    "    min_count (int): minimum frequency for pmi calculation\n",
    "    \"\"\"\n",
    "    pmi = {}\n",
    "    for word, freq in total_freq.items():\n",
    "        if freq < min_count:\n",
    "            continue\n",
    "        pmi[word] = np.log((inclass_freq.get(word, 0) + 0.001) * 1.0 / (class_freq * freq))\n",
    "    return pmi"
   ]
  },
  {
   "cell_type": "markdown",
   "metadata": {},
   "source": [
    "### 7. Feature Engineering"
   ]
  },
  {
   "cell_type": "markdown",
   "metadata": {},
   "source": [
    "#### 7.1 non-text features\n",
    "\n",
    "Looking at the data, there are just few text fields and a lot of non-text features present. We start with creating the non-text features first and then add text based features on top. "
   ]
  },
  {
   "cell_type": "code",
   "execution_count": 67,
   "metadata": {},
   "outputs": [],
   "source": [
    "# feature 1 - number of posts on ROAP at request\n",
    "\n",
    "def num_posts_roap(data, colname, id_colname,th=0):\n",
    "    \"\"\"\n",
    "    data (pandas dataframe): inout data frame\n",
    "    colname (str): original column name\n",
    "    id_colname (str): identifier for the created feature\n",
    "    th (int): threshold for creating binary feature\n",
    "    \"\"\"\n",
    "    new_colname = id_colname + '_' +colname\n",
    "    feat = np.where(data[colname] == th, 0, 1)\n",
    "    data[new_colname] = feat\n",
    "    del data[colname]\n",
    "    return data"
   ]
  },
  {
   "cell_type": "code",
   "execution_count": 68,
   "metadata": {},
   "outputs": [],
   "source": [
    "# feature 2 - number subreddits dummy variables\n",
    "\n",
    "def num_subreddit_dummy(data, colname):\n",
    "    \"\"\"\n",
    "    data (pandas dataframe): inout data frame\n",
    "    colname (str): original column name\n",
    "    \"\"\"\n",
    "    return pd.get_dummies(data=data, columns=[colname], drop_first=True)"
   ]
  },
  {
   "cell_type": "code",
   "execution_count": 69,
   "metadata": {},
   "outputs": [],
   "source": [
    "train_final = train.copy()\n",
    "val_final = val.copy()"
   ]
  },
  {
   "cell_type": "code",
   "execution_count": 70,
   "metadata": {},
   "outputs": [],
   "source": [
    "train_final = num_posts_roap(data=train_final, \n",
    "                             colname='requester_number_of_posts_on_raop_at_request', \n",
    "                             id_colname='binary')\n",
    "\n",
    "val_final = num_posts_roap(data=val_final, \n",
    "                             colname='requester_number_of_posts_on_raop_at_request', \n",
    "                             id_colname='binary')"
   ]
  },
  {
   "cell_type": "code",
   "execution_count": 71,
   "metadata": {},
   "outputs": [],
   "source": [
    "train_final = num_subreddit_dummy(data = train_final, colname= 'num_subreddits_req')\n",
    "val_final = num_subreddit_dummy(data = val_final, colname= 'num_subreddits_req')"
   ]
  },
  {
   "cell_type": "code",
   "execution_count": 72,
   "metadata": {},
   "outputs": [
    {
     "data": {
      "text/plain": [
       "Index(['requester_received_pizza', 'request_title', 'request_text_edit_aware',\n",
       "       'requester_number_of_subreddits_at_request',\n",
       "       'unix_timestamp_of_request', 'requester_account_age_in_days_at_request',\n",
       "       'requester_subreddits_at_request',\n",
       "       'requester_upvotes_minus_downvotes_at_request',\n",
       "       'requester_upvotes_plus_downvotes_at_request',\n",
       "       'binary_requester_number_of_posts_on_raop_at_request',\n",
       "       'num_subreddits_req_1. 1-5', 'num_subreddits_req_2. 5-10',\n",
       "       'num_subreddits_req_3. 10-50', 'num_subreddits_req_4. 50-100',\n",
       "       'num_subreddits_req_5. 100+'],\n",
       "      dtype='object')"
      ]
     },
     "execution_count": 72,
     "metadata": {},
     "output_type": "execute_result"
    }
   ],
   "source": [
    "val_final.columns"
   ]
  },
  {
   "cell_type": "markdown",
   "metadata": {},
   "source": [
    "#### 7.2 Text feature extraction\n",
    "\n",
    "We start by extacting the top 20 words from both text and title columns w.r.t. PMI criterion. For that we need to calculate the inclass frequencies and compute PMI as noted in above code. "
   ]
  },
  {
   "cell_type": "code",
   "execution_count": 73,
   "metadata": {},
   "outputs": [],
   "source": [
    "def get_counts(data, text_colname, outcome_colname):\n",
    "    return count_words_per_category(data[text_colname], \n",
    "                                    list(data[outcome_colname]))\n",
    "\n",
    "def get_top_k_from_dict(d, k):\n",
    "    return sorted(d.items(), key=lambda kv: kv[1])[-k:]\n",
    "\n",
    "def get_words(sorted_dict):\n",
    "    return [w[0] for w in sorted_dict]\n",
    "\n",
    "def calculate_pmi(data, text_colname, outcome_colname, class_freq_true, top_k):\n",
    "    count_class_true, count_class_false, count_total = get_counts(data = data, \n",
    "                                                         text_colname=text_colname, \n",
    "                                                         outcome_colname=outcome_colname) \n",
    "    pmi_true = pmi(inclass_freq=count_class_true, \n",
    "                   total_freq=count_total, \n",
    "                   class_freq=class_freq_true)\n",
    "    \n",
    "    pmi_false = pmi(inclass_freq=count_class_false, \n",
    "                   total_freq=count_total, \n",
    "                   class_freq=1-class_freq_true)\n",
    "    \n",
    "    pmi_true_top_k = get_top_k_from_dict(pmi_true, k=top_k)\n",
    "    pmi_false_top_k = get_top_k_from_dict(pmi_false, k=top_k)\n",
    "    \n",
    "    pmi_true_words = get_words(pmi_true_top_k)\n",
    "    pmi_false_words = get_words(pmi_false_top_k)\n",
    "    \n",
    "    return pmi_true_words, pmi_false_words\n"
   ]
  },
  {
   "cell_type": "code",
   "execution_count": 74,
   "metadata": {},
   "outputs": [],
   "source": [
    "true_class_pmi_words_title, false_class_pmi_words_title = calculate_pmi(data = train_final, \n",
    "                                                                        text_colname='request_title', \n",
    "                                                                        outcome_colname='requester_received_pizza', \n",
    "                                                                        class_freq_true=0.24505, \n",
    "                                                                        top_k=20)"
   ]
  },
  {
   "cell_type": "code",
   "execution_count": 75,
   "metadata": {},
   "outputs": [],
   "source": [
    "true_class_pmi_words_text, false_class_pmi_words_text = calculate_pmi(data = train_final, \n",
    "                                                                      text_colname='request_text_edit_aware', \n",
    "                                                                      outcome_colname='requester_received_pizza', \n",
    "                                                                      class_freq_true=0.24505, \n",
    "                                                                      top_k=20)"
   ]
  },
  {
   "cell_type": "code",
   "execution_count": 76,
   "metadata": {},
   "outputs": [],
   "source": [
    "# Creating text features - token counts\n",
    "def simple_token_count(v):\n",
    "    result = []\n",
    "    for line in v:\n",
    "        if line != line:\n",
    "            result.append(1)\n",
    "            continue\n",
    "        result.append(len(word_tokenize(line)))\n",
    "    return result"
   ]
  },
  {
   "cell_type": "code",
   "execution_count": 77,
   "metadata": {},
   "outputs": [],
   "source": [
    "title_length_train = simple_token_count(train_final.request_title)\n",
    "title_length_val = simple_token_count(val_final.request_title)\n",
    "text_length_train = simple_token_count(train_final.request_text_edit_aware)\n",
    "text_length_val = simple_token_count(val_final.request_text_edit_aware)"
   ]
  },
  {
   "cell_type": "code",
   "execution_count": 78,
   "metadata": {},
   "outputs": [],
   "source": [
    "train_final['title_length'] = title_length_train\n",
    "train_final['text_length'] = text_length_train\n",
    "val_final['title_length'] = title_length_val\n",
    "val_final['text_length'] = text_length_val"
   ]
  },
  {
   "cell_type": "code",
   "execution_count": 79,
   "metadata": {},
   "outputs": [
    {
     "data": {
      "text/plain": [
       "Index(['requester_received_pizza', 'request_title', 'request_text_edit_aware',\n",
       "       'requester_number_of_subreddits_at_request',\n",
       "       'unix_timestamp_of_request', 'requester_account_age_in_days_at_request',\n",
       "       'requester_subreddits_at_request',\n",
       "       'requester_upvotes_minus_downvotes_at_request',\n",
       "       'requester_upvotes_plus_downvotes_at_request', 'timestamp_converted',\n",
       "       'hour_bin_4', 'binary_requester_number_of_posts_on_raop_at_request',\n",
       "       'num_subreddits_req_1. 1-5', 'num_subreddits_req_2. 5-10',\n",
       "       'num_subreddits_req_3. 10-50', 'num_subreddits_req_4. 50-100',\n",
       "       'num_subreddits_req_5. 100+', 'title_length', 'text_length'],\n",
       "      dtype='object')"
      ]
     },
     "execution_count": 79,
     "metadata": {},
     "output_type": "execute_result"
    }
   ],
   "source": [
    "train_final.columns"
   ]
  },
  {
   "cell_type": "code",
   "execution_count": 80,
   "metadata": {},
   "outputs": [
    {
     "data": {
      "text/plain": [
       "Index(['requester_received_pizza', 'request_title', 'request_text_edit_aware',\n",
       "       'requester_number_of_subreddits_at_request',\n",
       "       'unix_timestamp_of_request', 'requester_account_age_in_days_at_request',\n",
       "       'requester_subreddits_at_request',\n",
       "       'requester_upvotes_minus_downvotes_at_request',\n",
       "       'requester_upvotes_plus_downvotes_at_request',\n",
       "       'binary_requester_number_of_posts_on_raop_at_request',\n",
       "       'num_subreddits_req_1. 1-5', 'num_subreddits_req_2. 5-10',\n",
       "       'num_subreddits_req_3. 10-50', 'num_subreddits_req_4. 50-100',\n",
       "       'num_subreddits_req_5. 100+', 'title_length', 'text_length'],\n",
       "      dtype='object')"
      ]
     },
     "execution_count": 80,
     "metadata": {},
     "output_type": "execute_result"
    }
   ],
   "source": [
    "val_final.columns"
   ]
  },
  {
   "cell_type": "code",
   "execution_count": 82,
   "metadata": {},
   "outputs": [],
   "source": [
    "## Advanced word matching features\n",
    "\n",
    "w_vect = gensim.downloader.load('glove-twitter-50')"
   ]
  },
  {
   "cell_type": "code",
   "execution_count": 83,
   "metadata": {},
   "outputs": [],
   "source": [
    "def get_binary_feature(word, vector, wv):\n",
    "    result = []\n",
    "    candidates = set([w[0] for w in wv.most_similar(word, topn=20)] + [word])\n",
    "    for line in vector:\n",
    "        if line != line:\n",
    "            result.append(0)\n",
    "            continue\n",
    "        trf_line = preprocess_text_2(line)\n",
    "        if len(candidates.intersection(set(trf_line))) > 0:\n",
    "            result.append(1)\n",
    "        else:\n",
    "            result.append(0)\n",
    "    return result\n",
    "\n",
    "def text_feature_addition(word_list, df, colname, id_str, wv):\n",
    "    for ind, word in enumerate(word_list):\n",
    "        print(ind, ' : ', word)\n",
    "        f_name = id_str + word\n",
    "        feat = get_binary_feature(word, df[colname], wv)\n",
    "        df[f_name] = feat\n",
    "    return df"
   ]
  },
  {
   "cell_type": "code",
   "execution_count": 84,
   "metadata": {},
   "outputs": [
    {
     "name": "stdout",
     "output_type": "stream",
     "text": [
      "0  :  m\n",
      "1  :  x\n",
      "2  :  h\n",
      "3  :  t\n",
      "4  :  s\n",
      "5  :  w\n",
      "6  :  g\n",
      "7  :  f\n",
      "8  :  n\n",
      "9  :  l\n",
      "10  :  r\n",
      "11  :  e\n",
      "12  :  q\n"
     ]
    },
    {
     "ename": "KeyboardInterrupt",
     "evalue": "",
     "output_type": "error",
     "traceback": [
      "\u001b[0;31m---------------------------------------------------------------------------\u001b[0m",
      "\u001b[0;31mKeyboardInterrupt\u001b[0m                         Traceback (most recent call last)",
      "\u001b[0;32m<ipython-input-84-87514d2fb868>\u001b[0m in \u001b[0;36m<module>\u001b[0;34m\u001b[0m\n\u001b[0;32m----> 1\u001b[0;31m train_final = text_feature_addition(word_list=false_class_pmi_words_text, \n\u001b[0m\u001b[1;32m      2\u001b[0m                                     \u001b[0mdf\u001b[0m\u001b[0;34m=\u001b[0m\u001b[0mtrain_final\u001b[0m\u001b[0;34m,\u001b[0m\u001b[0;34m\u001b[0m\u001b[0;34m\u001b[0m\u001b[0m\n\u001b[1;32m      3\u001b[0m                                     \u001b[0mcolname\u001b[0m\u001b[0;34m=\u001b[0m\u001b[0;34m'request_text_edit_aware'\u001b[0m\u001b[0;34m,\u001b[0m\u001b[0;34m\u001b[0m\u001b[0;34m\u001b[0m\u001b[0m\n\u001b[1;32m      4\u001b[0m                                     \u001b[0mwv\u001b[0m\u001b[0;34m=\u001b[0m\u001b[0mw_vect\u001b[0m\u001b[0;34m,\u001b[0m\u001b[0;34m\u001b[0m\u001b[0;34m\u001b[0m\u001b[0m\n\u001b[1;32m      5\u001b[0m                                     id_str='text_false_')\n",
      "\u001b[0;32m<ipython-input-83-e5f8dc3d87ae>\u001b[0m in \u001b[0;36mtext_feature_addition\u001b[0;34m(word_list, df, colname, id_str, wv)\u001b[0m\n\u001b[1;32m     17\u001b[0m         \u001b[0mprint\u001b[0m\u001b[0;34m(\u001b[0m\u001b[0mind\u001b[0m\u001b[0;34m,\u001b[0m \u001b[0;34m' : '\u001b[0m\u001b[0;34m,\u001b[0m \u001b[0mword\u001b[0m\u001b[0;34m)\u001b[0m\u001b[0;34m\u001b[0m\u001b[0;34m\u001b[0m\u001b[0m\n\u001b[1;32m     18\u001b[0m         \u001b[0mf_name\u001b[0m \u001b[0;34m=\u001b[0m \u001b[0mid_str\u001b[0m \u001b[0;34m+\u001b[0m \u001b[0mword\u001b[0m\u001b[0;34m\u001b[0m\u001b[0;34m\u001b[0m\u001b[0m\n\u001b[0;32m---> 19\u001b[0;31m         \u001b[0mfeat\u001b[0m \u001b[0;34m=\u001b[0m \u001b[0mget_binary_feature\u001b[0m\u001b[0;34m(\u001b[0m\u001b[0mword\u001b[0m\u001b[0;34m,\u001b[0m \u001b[0mdf\u001b[0m\u001b[0;34m[\u001b[0m\u001b[0mcolname\u001b[0m\u001b[0;34m]\u001b[0m\u001b[0;34m,\u001b[0m \u001b[0mwv\u001b[0m\u001b[0;34m)\u001b[0m\u001b[0;34m\u001b[0m\u001b[0;34m\u001b[0m\u001b[0m\n\u001b[0m\u001b[1;32m     20\u001b[0m         \u001b[0mdf\u001b[0m\u001b[0;34m[\u001b[0m\u001b[0mf_name\u001b[0m\u001b[0;34m]\u001b[0m \u001b[0;34m=\u001b[0m \u001b[0mfeat\u001b[0m\u001b[0;34m\u001b[0m\u001b[0;34m\u001b[0m\u001b[0m\n\u001b[1;32m     21\u001b[0m     \u001b[0;32mreturn\u001b[0m \u001b[0mdf\u001b[0m\u001b[0;34m\u001b[0m\u001b[0;34m\u001b[0m\u001b[0m\n",
      "\u001b[0;32m<ipython-input-83-e5f8dc3d87ae>\u001b[0m in \u001b[0;36mget_binary_feature\u001b[0;34m(word, vector, wv)\u001b[0m\n\u001b[1;32m      6\u001b[0m             \u001b[0mresult\u001b[0m\u001b[0;34m.\u001b[0m\u001b[0mappend\u001b[0m\u001b[0;34m(\u001b[0m\u001b[0;36m0\u001b[0m\u001b[0;34m)\u001b[0m\u001b[0;34m\u001b[0m\u001b[0;34m\u001b[0m\u001b[0m\n\u001b[1;32m      7\u001b[0m             \u001b[0;32mcontinue\u001b[0m\u001b[0;34m\u001b[0m\u001b[0;34m\u001b[0m\u001b[0m\n\u001b[0;32m----> 8\u001b[0;31m         \u001b[0mtrf_line\u001b[0m \u001b[0;34m=\u001b[0m \u001b[0mpreprocess_text_2\u001b[0m\u001b[0;34m(\u001b[0m\u001b[0mline\u001b[0m\u001b[0;34m)\u001b[0m\u001b[0;34m\u001b[0m\u001b[0;34m\u001b[0m\u001b[0m\n\u001b[0m\u001b[1;32m      9\u001b[0m         \u001b[0;32mif\u001b[0m \u001b[0mlen\u001b[0m\u001b[0;34m(\u001b[0m\u001b[0mcandidates\u001b[0m\u001b[0;34m.\u001b[0m\u001b[0mintersection\u001b[0m\u001b[0;34m(\u001b[0m\u001b[0mset\u001b[0m\u001b[0;34m(\u001b[0m\u001b[0mtrf_line\u001b[0m\u001b[0;34m)\u001b[0m\u001b[0;34m)\u001b[0m\u001b[0;34m)\u001b[0m \u001b[0;34m>\u001b[0m \u001b[0;36m0\u001b[0m\u001b[0;34m:\u001b[0m\u001b[0;34m\u001b[0m\u001b[0;34m\u001b[0m\u001b[0m\n\u001b[1;32m     10\u001b[0m             \u001b[0mresult\u001b[0m\u001b[0;34m.\u001b[0m\u001b[0mappend\u001b[0m\u001b[0;34m(\u001b[0m\u001b[0;36m1\u001b[0m\u001b[0;34m)\u001b[0m\u001b[0;34m\u001b[0m\u001b[0;34m\u001b[0m\u001b[0m\n",
      "\u001b[0;32m<ipython-input-58-3c3deb76d999>\u001b[0m in \u001b[0;36mpreprocess_text_2\u001b[0;34m(text)\u001b[0m\n\u001b[1;32m     30\u001b[0m     \u001b[0;31m# Input: str, i.e. document/sentence\u001b[0m\u001b[0;34m\u001b[0m\u001b[0;34m\u001b[0m\u001b[0;34m\u001b[0m\u001b[0m\n\u001b[1;32m     31\u001b[0m     \u001b[0;31m# Output: list(str) , i.e. list of lemmas\u001b[0m\u001b[0;34m\u001b[0m\u001b[0;34m\u001b[0m\u001b[0;34m\u001b[0m\u001b[0m\n\u001b[0;32m---> 32\u001b[0;31m     return ' '.join([word for word in lemmatize_sent(text) \n\u001b[0m\u001b[1;32m     33\u001b[0m             \u001b[0;32mif\u001b[0m \u001b[0mword\u001b[0m \u001b[0;32mnot\u001b[0m \u001b[0;32min\u001b[0m \u001b[0mstoplist_combined\u001b[0m\u001b[0;34m\u001b[0m\u001b[0;34m\u001b[0m\u001b[0m\n\u001b[1;32m     34\u001b[0m             and not word.isdigit()])\n",
      "\u001b[0;32m<ipython-input-58-3c3deb76d999>\u001b[0m in \u001b[0;36mlemmatize_sent\u001b[0;34m(text)\u001b[0m\n\u001b[1;32m     13\u001b[0m     \u001b[0;31m# Text input is string, returns lowercased strings.\u001b[0m\u001b[0;34m\u001b[0m\u001b[0;34m\u001b[0m\u001b[0;34m\u001b[0m\u001b[0m\n\u001b[1;32m     14\u001b[0m     return [wnl.lemmatize(word.lower(), pos=penn2morphy(tag)) \n\u001b[0;32m---> 15\u001b[0;31m             for word, tag in pos_tag(word_tokenize(text))]\n\u001b[0m\u001b[1;32m     16\u001b[0m \u001b[0;34m\u001b[0m\u001b[0m\n\u001b[1;32m     17\u001b[0m \u001b[0;32mdef\u001b[0m \u001b[0mpreprocess_text_1\u001b[0m\u001b[0;34m(\u001b[0m\u001b[0mtext\u001b[0m\u001b[0;34m)\u001b[0m\u001b[0;34m:\u001b[0m\u001b[0;34m\u001b[0m\u001b[0;34m\u001b[0m\u001b[0m\n",
      "\u001b[0;32m~/opt/anaconda3/lib/python3.8/site-packages/nltk/tag/__init__.py\u001b[0m in \u001b[0;36mpos_tag\u001b[0;34m(tokens, tagset, lang)\u001b[0m\n\u001b[1;32m    159\u001b[0m     \"\"\"\n\u001b[1;32m    160\u001b[0m     \u001b[0mtagger\u001b[0m \u001b[0;34m=\u001b[0m \u001b[0m_get_tagger\u001b[0m\u001b[0;34m(\u001b[0m\u001b[0mlang\u001b[0m\u001b[0;34m)\u001b[0m\u001b[0;34m\u001b[0m\u001b[0;34m\u001b[0m\u001b[0m\n\u001b[0;32m--> 161\u001b[0;31m     \u001b[0;32mreturn\u001b[0m \u001b[0m_pos_tag\u001b[0m\u001b[0;34m(\u001b[0m\u001b[0mtokens\u001b[0m\u001b[0;34m,\u001b[0m \u001b[0mtagset\u001b[0m\u001b[0;34m,\u001b[0m \u001b[0mtagger\u001b[0m\u001b[0;34m,\u001b[0m \u001b[0mlang\u001b[0m\u001b[0;34m)\u001b[0m\u001b[0;34m\u001b[0m\u001b[0;34m\u001b[0m\u001b[0m\n\u001b[0m\u001b[1;32m    162\u001b[0m \u001b[0;34m\u001b[0m\u001b[0m\n\u001b[1;32m    163\u001b[0m \u001b[0;34m\u001b[0m\u001b[0m\n",
      "\u001b[0;32m~/opt/anaconda3/lib/python3.8/site-packages/nltk/tag/__init__.py\u001b[0m in \u001b[0;36m_pos_tag\u001b[0;34m(tokens, tagset, tagger, lang)\u001b[0m\n\u001b[1;32m    116\u001b[0m         )\n\u001b[1;32m    117\u001b[0m     \u001b[0;32melse\u001b[0m\u001b[0;34m:\u001b[0m\u001b[0;34m\u001b[0m\u001b[0;34m\u001b[0m\u001b[0m\n\u001b[0;32m--> 118\u001b[0;31m         \u001b[0mtagged_tokens\u001b[0m \u001b[0;34m=\u001b[0m \u001b[0mtagger\u001b[0m\u001b[0;34m.\u001b[0m\u001b[0mtag\u001b[0m\u001b[0;34m(\u001b[0m\u001b[0mtokens\u001b[0m\u001b[0;34m)\u001b[0m\u001b[0;34m\u001b[0m\u001b[0;34m\u001b[0m\u001b[0m\n\u001b[0m\u001b[1;32m    119\u001b[0m         \u001b[0;32mif\u001b[0m \u001b[0mtagset\u001b[0m\u001b[0;34m:\u001b[0m  \u001b[0;31m# Maps to the specified tagset.\u001b[0m\u001b[0;34m\u001b[0m\u001b[0;34m\u001b[0m\u001b[0m\n\u001b[1;32m    120\u001b[0m             \u001b[0;32mif\u001b[0m \u001b[0mlang\u001b[0m \u001b[0;34m==\u001b[0m \u001b[0;34m\"eng\"\u001b[0m\u001b[0;34m:\u001b[0m\u001b[0;34m\u001b[0m\u001b[0;34m\u001b[0m\u001b[0m\n",
      "\u001b[0;32m~/opt/anaconda3/lib/python3.8/site-packages/nltk/tag/perceptron.py\u001b[0m in \u001b[0;36mtag\u001b[0;34m(self, tokens, return_conf, use_tagdict)\u001b[0m\n\u001b[1;32m    186\u001b[0m             \u001b[0;32mif\u001b[0m \u001b[0;32mnot\u001b[0m \u001b[0mtag\u001b[0m\u001b[0;34m:\u001b[0m\u001b[0;34m\u001b[0m\u001b[0;34m\u001b[0m\u001b[0m\n\u001b[1;32m    187\u001b[0m                 \u001b[0mfeatures\u001b[0m \u001b[0;34m=\u001b[0m \u001b[0mself\u001b[0m\u001b[0;34m.\u001b[0m\u001b[0m_get_features\u001b[0m\u001b[0;34m(\u001b[0m\u001b[0mi\u001b[0m\u001b[0;34m,\u001b[0m \u001b[0mword\u001b[0m\u001b[0;34m,\u001b[0m \u001b[0mcontext\u001b[0m\u001b[0;34m,\u001b[0m \u001b[0mprev\u001b[0m\u001b[0;34m,\u001b[0m \u001b[0mprev2\u001b[0m\u001b[0;34m)\u001b[0m\u001b[0;34m\u001b[0m\u001b[0;34m\u001b[0m\u001b[0m\n\u001b[0;32m--> 188\u001b[0;31m                 \u001b[0mtag\u001b[0m\u001b[0;34m,\u001b[0m \u001b[0mconf\u001b[0m \u001b[0;34m=\u001b[0m \u001b[0mself\u001b[0m\u001b[0;34m.\u001b[0m\u001b[0mmodel\u001b[0m\u001b[0;34m.\u001b[0m\u001b[0mpredict\u001b[0m\u001b[0;34m(\u001b[0m\u001b[0mfeatures\u001b[0m\u001b[0;34m,\u001b[0m \u001b[0mreturn_conf\u001b[0m\u001b[0;34m)\u001b[0m\u001b[0;34m\u001b[0m\u001b[0;34m\u001b[0m\u001b[0m\n\u001b[0m\u001b[1;32m    189\u001b[0m             \u001b[0moutput\u001b[0m\u001b[0;34m.\u001b[0m\u001b[0mappend\u001b[0m\u001b[0;34m(\u001b[0m\u001b[0;34m(\u001b[0m\u001b[0mword\u001b[0m\u001b[0;34m,\u001b[0m \u001b[0mtag\u001b[0m\u001b[0;34m,\u001b[0m \u001b[0mconf\u001b[0m\u001b[0;34m)\u001b[0m \u001b[0;32mif\u001b[0m \u001b[0mreturn_conf\u001b[0m \u001b[0;34m==\u001b[0m \u001b[0;32mTrue\u001b[0m \u001b[0;32melse\u001b[0m \u001b[0;34m(\u001b[0m\u001b[0mword\u001b[0m\u001b[0;34m,\u001b[0m \u001b[0mtag\u001b[0m\u001b[0;34m)\u001b[0m\u001b[0;34m)\u001b[0m\u001b[0;34m\u001b[0m\u001b[0;34m\u001b[0m\u001b[0m\n\u001b[1;32m    190\u001b[0m \u001b[0;34m\u001b[0m\u001b[0m\n",
      "\u001b[0;32m~/opt/anaconda3/lib/python3.8/site-packages/nltk/tag/perceptron.py\u001b[0m in \u001b[0;36mpredict\u001b[0;34m(self, features, return_conf)\u001b[0m\n\u001b[1;32m     65\u001b[0m             \u001b[0mweights\u001b[0m \u001b[0;34m=\u001b[0m \u001b[0mself\u001b[0m\u001b[0;34m.\u001b[0m\u001b[0mweights\u001b[0m\u001b[0;34m[\u001b[0m\u001b[0mfeat\u001b[0m\u001b[0;34m]\u001b[0m\u001b[0;34m\u001b[0m\u001b[0;34m\u001b[0m\u001b[0m\n\u001b[1;32m     66\u001b[0m             \u001b[0;32mfor\u001b[0m \u001b[0mlabel\u001b[0m\u001b[0;34m,\u001b[0m \u001b[0mweight\u001b[0m \u001b[0;32min\u001b[0m \u001b[0mweights\u001b[0m\u001b[0;34m.\u001b[0m\u001b[0mitems\u001b[0m\u001b[0;34m(\u001b[0m\u001b[0;34m)\u001b[0m\u001b[0;34m:\u001b[0m\u001b[0;34m\u001b[0m\u001b[0;34m\u001b[0m\u001b[0m\n\u001b[0;32m---> 67\u001b[0;31m                 \u001b[0mscores\u001b[0m\u001b[0;34m[\u001b[0m\u001b[0mlabel\u001b[0m\u001b[0;34m]\u001b[0m \u001b[0;34m+=\u001b[0m \u001b[0mvalue\u001b[0m \u001b[0;34m*\u001b[0m \u001b[0mweight\u001b[0m\u001b[0;34m\u001b[0m\u001b[0;34m\u001b[0m\u001b[0m\n\u001b[0m\u001b[1;32m     68\u001b[0m \u001b[0;34m\u001b[0m\u001b[0m\n\u001b[1;32m     69\u001b[0m         \u001b[0;31m# Do a secondary alphabetic sort, for stability\u001b[0m\u001b[0;34m\u001b[0m\u001b[0;34m\u001b[0m\u001b[0;34m\u001b[0m\u001b[0m\n",
      "\u001b[0;31mKeyboardInterrupt\u001b[0m: "
     ]
    }
   ],
   "source": [
    "train_final = text_feature_addition(word_list=false_class_pmi_words_text, \n",
    "                                    df=train_final, \n",
    "                                    colname='request_text_edit_aware', \n",
    "                                    wv=w_vect, \n",
    "                                    id_str='text_false_')\n",
    "\n",
    "train_final = text_feature_addition(word_list=true_class_pmi_words_text, \n",
    "                                    df=train_final, \n",
    "                                    colname='request_text_edit_aware', \n",
    "                                    wv=w_vect, \n",
    "                                    id_str='text_true_')\n",
    "\n",
    "train_final = text_feature_addition(word_list=false_class_pmi_words_title, \n",
    "                                    df=train_final, \n",
    "                                    colname='request_title', \n",
    "                                    wv=w_vect, \n",
    "                                    id_str='title_false_')\n",
    "\n",
    "train_final = text_feature_addition(word_list=true_class_pmi_words_title, \n",
    "                                    df=train_final, \n",
    "                                    colname='request_title', \n",
    "                                    wv=w_vect, \n",
    "                                    id_str='title_true_')"
   ]
  },
  {
   "cell_type": "code",
   "execution_count": null,
   "metadata": {},
   "outputs": [],
   "source": [
    "val_final = text_feature_addition(word_list=false_class_pmi_words_text, \n",
    "                                    df=val_final, \n",
    "                                    colname='request_text_edit_aware', \n",
    "                                    wv=w_vect, \n",
    "                                    id_str='text_false_')\n",
    "\n",
    "val_final = text_feature_addition(word_list=true_class_pmi_words_text, \n",
    "                                    df=val_final, \n",
    "                                    colname='request_text_edit_aware', \n",
    "                                    wv=w_vect, \n",
    "                                    id_str='text_true_')\n",
    "\n",
    "val_final = text_feature_addition(word_list=false_class_pmi_words_title, \n",
    "                                    df=val_final, \n",
    "                                    colname='request_title', \n",
    "                                    wv=w_vect, \n",
    "                                    id_str='title_false_')\n",
    "\n",
    "val_final = text_feature_addition(word_list=true_class_pmi_words_title, \n",
    "                                    df=val_final, \n",
    "                                    colname='request_title', \n",
    "                                    wv=w_vect, \n",
    "                                    id_str='title_true_')"
   ]
  },
  {
   "cell_type": "code",
   "execution_count": null,
   "metadata": {},
   "outputs": [],
   "source": [
    "train_final.columns"
   ]
  },
  {
   "cell_type": "code",
   "execution_count": null,
   "metadata": {},
   "outputs": [],
   "source": [
    "val_final.columns"
   ]
  },
  {
   "cell_type": "markdown",
   "metadata": {},
   "source": [
    "### 8. Model training and baseline results"
   ]
  },
  {
   "cell_type": "code",
   "execution_count": null,
   "metadata": {},
   "outputs": [],
   "source": [
    "Xcols = [c for c in train_final.columns.tolist() if c not in train.columns.tolist()[:3]]"
   ]
  },
  {
   "cell_type": "markdown",
   "metadata": {},
   "source": [
    "#### 8.1 Hyper parameter tuning"
   ]
  },
  {
   "cell_type": "code",
   "execution_count": null,
   "metadata": {},
   "outputs": [],
   "source": [
    "# Number of trees in Random Forest\n",
    "rf_n_estimators = [int(x) for x in np.linspace(200, 1000, 5)]\n",
    "\n",
    "# Maximum number of levels in tree\n",
    "rf_max_depth = [int(x) for x in np.linspace(1, 10, 1)]\n",
    "# Add the default as a possible value\n",
    "rf_max_depth.append(None)\n",
    "\n",
    "# Number of features to consider at every split\n",
    "rf_max_features = ['auto', 'log2', 8, 10, 15, 20]\n",
    "\n",
    "# Minimum number of samples required to split a node\n",
    "rf_min_samples_split = [int(x) for x in np.linspace(4, 10, 7)]\n",
    "\n",
    "# Method of selecting samples for training each tree\n",
    "rf_bootstrap = [True, False]\n",
    "\n",
    "rf_class_weight = [None, 'balanced', 'balanced_subsample']\n",
    "\n",
    "# Create the grid\n",
    "rf_grid = {'n_estimators': rf_n_estimators,\n",
    "            'max_depth': rf_max_depth,\n",
    "            'max_features': rf_max_features,\n",
    "            'min_samples_split': rf_min_samples_split,\n",
    "            'bootstrap': rf_bootstrap, \n",
    "            'class_weight': rf_class_weight}\n",
    "\n",
    "rf_base = RandomForestClassifier()\n",
    "\n",
    "# Create the random search Random Forest\n",
    "rf_random = RandomizedSearchCV(estimator = rf_base, param_distributions = rf_grid, \n",
    "                               n_iter = 2000, cv = 5, verbose = 1, random_state = 42, \n",
    "                               n_jobs = -1)\n",
    "\n",
    "# Fit the random search model\n",
    "rf_random.fit(train_final[Xcols], train_final[y_col])\n",
    "\n",
    "# View the best parameters from the random search\n",
    "rf_random.best_params_"
   ]
  },
  {
   "cell_type": "markdown",
   "metadata": {},
   "source": [
    "#### 8.2 Final model fitting "
   ]
  },
  {
   "cell_type": "code",
   "execution_count": null,
   "metadata": {},
   "outputs": [],
   "source": [
    "rf_final = RandomForestClassifier(n_estimators=400, min_samples_split=8, max_features=20, \n",
    "                                  max_depth=1, class_weight=None,\n",
    "                                 bootstrap=True, n_jobs=-1, random_state=42)\n",
    "\n",
    "rf_final.fit(train_final[Xcols], train_final[y_col])"
   ]
  },
  {
   "cell_type": "markdown",
   "metadata": {},
   "source": [
    "#### 8.3 Model predictions"
   ]
  },
  {
   "cell_type": "code",
   "execution_count": null,
   "metadata": {},
   "outputs": [],
   "source": [
    "prediction_probs = rf_final.predict_proba(val_final[Xcols])[:,1]"
   ]
  },
  {
   "cell_type": "code",
   "execution_count": null,
   "metadata": {},
   "outputs": [],
   "source": [
    "feat_importances = pd.Series(rf_final.feature_importances_, index=Xcols)\n",
    "feat_importances.nlargest(10).plot(kind='barh')\n",
    "pass"
   ]
  },
  {
   "cell_type": "markdown",
   "metadata": {},
   "source": [
    "#### 8.4 Choosing right thresholds and reporting results"
   ]
  },
  {
   "cell_type": "code",
   "execution_count": null,
   "metadata": {},
   "outputs": [],
   "source": [
    "# calculate roc curves\n",
    "precision, recall, thresholds = precision_recall_curve(val_final[y_col], prediction_probs)\n",
    "# convert to f score\n",
    "fscore = (2 * precision * recall) / (precision + recall)\n",
    "# locate the index of the largest f score\n",
    "ix = np.nanargmax(fscore)\n",
    "print('Best Threshold=%f, F-Score=%.3f' % (thresholds[ix], fscore[ix]))\n",
    "# plot the roc curve for the model\n",
    "no_skill = 0.24505\n",
    "plt.plot([0,1], [no_skill,no_skill], linestyle='--', label='No Skill')\n",
    "plt.plot(recall, precision, marker='.', label='Logistic')\n",
    "plt.scatter(recall[ix], precision[ix], marker='o', color='black', label='Best')\n",
    "# axis labels\n",
    "plt.xlabel('Recall')\n",
    "plt.ylabel('Precision')\n",
    "plt.legend()\n",
    "# show the plot\n",
    "plt.show()"
   ]
  },
  {
   "cell_type": "code",
   "execution_count": null,
   "metadata": {},
   "outputs": [],
   "source": [
    "pred_label = prediction_probs>=0.239164"
   ]
  },
  {
   "cell_type": "code",
   "execution_count": null,
   "metadata": {},
   "outputs": [],
   "source": [
    "print(classification_report(y_true=val_final[y_col], y_pred=pred_label))"
   ]
  }
 ],
 "metadata": {
  "kernelspec": {
   "display_name": "Python 3",
   "language": "python",
   "name": "python3"
  },
  "language_info": {
   "codemirror_mode": {
    "name": "ipython",
    "version": 3
   },
   "file_extension": ".py",
   "mimetype": "text/x-python",
   "name": "python",
   "nbconvert_exporter": "python",
   "pygments_lexer": "ipython3",
   "version": "3.8.3"
  }
 },
 "nbformat": 4,
 "nbformat_minor": 4
}
