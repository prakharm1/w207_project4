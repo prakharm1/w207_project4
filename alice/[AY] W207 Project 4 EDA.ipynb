{
 "cells": [
  {
   "cell_type": "code",
   "execution_count": 111,
   "metadata": {},
   "outputs": [],
   "source": [
    "# This tells matplotlib not to try opening a new window for each plot.\n",
    "%matplotlib inline\n",
    "\n",
    "# General libraries.\n",
    "import re\n",
    "import numpy as np\n",
    "import matplotlib.pyplot as plt\n",
    "import pandas as pd\n",
    "\n",
    "# SK-learn libraries for learning.\n",
    "from sklearn.pipeline import Pipeline\n",
    "from sklearn.datasets import fetch_openml\n",
    "from sklearn.neighbors import KNeighborsClassifier\n",
    "from sklearn.linear_model import LinearRegression\n",
    "from sklearn.linear_model import LogisticRegression\n",
    "from sklearn.naive_bayes import BernoulliNB\n",
    "from sklearn.naive_bayes import MultinomialNB\n",
    "from sklearn.naive_bayes import GaussianNB\n",
    "from sklearn.model_selection import GridSearchCV\n",
    "\n",
    "# SK-learn libraries for evaluation.\n",
    "from sklearn.metrics import confusion_matrix\n",
    "from sklearn import metrics\n",
    "from sklearn.metrics import classification_report\n",
    "\n",
    "# SK-learn libraries for feature extraction from text.\n",
    "from sklearn.feature_extraction.text import *\n",
    "\n",
    "import nltk\n",
    "import json"
   ]
  },
  {
   "cell_type": "code",
   "execution_count": 18,
   "metadata": {},
   "outputs": [],
   "source": [
    "train_json_data = json.load(open('train.json'))\n",
    "train_df = pandas.json_normalize(train_json_data)\n",
    "\n",
    "test_json_data = json.load(open('test.json'))\n",
    "test_df = pandas.json_normalize(test_json_data)"
   ]
  },
  {
   "cell_type": "code",
   "execution_count": 54,
   "metadata": {},
   "outputs": [
    {
     "data": {
      "text/plain": [
       "Index(['giver_username_if_known',\n",
       "       'number_of_downvotes_of_request_at_retrieval',\n",
       "       'number_of_upvotes_of_request_at_retrieval', 'post_was_edited',\n",
       "       'request_id', 'request_number_of_comments_at_retrieval', 'request_text',\n",
       "       'request_text_edit_aware', 'request_title',\n",
       "       'requester_account_age_in_days_at_request',\n",
       "       'requester_account_age_in_days_at_retrieval',\n",
       "       'requester_days_since_first_post_on_raop_at_request',\n",
       "       'requester_days_since_first_post_on_raop_at_retrieval',\n",
       "       'requester_number_of_comments_at_request',\n",
       "       'requester_number_of_comments_at_retrieval',\n",
       "       'requester_number_of_comments_in_raop_at_request',\n",
       "       'requester_number_of_comments_in_raop_at_retrieval',\n",
       "       'requester_number_of_posts_at_request',\n",
       "       'requester_number_of_posts_at_retrieval',\n",
       "       'requester_number_of_posts_on_raop_at_request',\n",
       "       'requester_number_of_posts_on_raop_at_retrieval',\n",
       "       'requester_number_of_subreddits_at_request', 'requester_received_pizza',\n",
       "       'requester_subreddits_at_request',\n",
       "       'requester_upvotes_minus_downvotes_at_request',\n",
       "       'requester_upvotes_minus_downvotes_at_retrieval',\n",
       "       'requester_upvotes_plus_downvotes_at_request',\n",
       "       'requester_upvotes_plus_downvotes_at_retrieval', 'requester_user_flair',\n",
       "       'requester_username', 'unix_timestamp_of_request',\n",
       "       'unix_timestamp_of_request_utc'],\n",
       "      dtype='object')"
      ]
     },
     "execution_count": 54,
     "metadata": {},
     "output_type": "execute_result"
    }
   ],
   "source": [
    "train_df.columns"
   ]
  },
  {
   "cell_type": "markdown",
   "metadata": {},
   "source": [
    "## giver_username_if_known\n",
    "Reddit username of giver if known, i.e. the person satisfying the request (\"N/A\" otherwise).\n",
    "\n",
    "Notes:\n",
    "\n",
    "There are 3753 N/A values. There are 250 unique values. 225 values only appear once. 1 username appears 5 times, 2 usernames appear 4 times, 3 usernames appear 3 times, and 2 usernames appear 16 times.\n",
    "N/A usernames contains those who received pizza and those who did not. So N/A is not an indicator of whether the post did not get a pizza."
   ]
  },
  {
   "cell_type": "code",
   "execution_count": 132,
   "metadata": {},
   "outputs": [
    {
     "data": {
      "text/plain": [
       "count     4040\n",
       "unique     250\n",
       "top        N/A\n",
       "freq      3753\n",
       "Name: giver_username_if_known, dtype: object"
      ]
     },
     "execution_count": 132,
     "metadata": {},
     "output_type": "execute_result"
    }
   ],
   "source": [
    "# number of unique values\n",
    "# number of most frequently appearing username (which is N/A)\n",
    "train_df.giver_username_if_known.describe()"
   ]
  },
  {
   "cell_type": "code",
   "execution_count": 145,
   "metadata": {},
   "outputs": [
    {
     "data": {
      "text/plain": [
       "(225,)"
      ]
     },
     "execution_count": 145,
     "metadata": {},
     "output_type": "execute_result"
    }
   ],
   "source": [
    "# number of giver usernames that only show up once\n",
    "giver_username_counts = train_df.giver_username_if_known.value_counts()\n",
    "giver_username_counts[giver_username_counts == 1].shape"
   ]
  },
  {
   "cell_type": "code",
   "execution_count": 141,
   "metadata": {},
   "outputs": [
    {
     "data": {
      "text/plain": [
       "N/A                     3753\n",
       "jetboyterp                 5\n",
       "m2nu                       4\n",
       "johngalt1337               4\n",
       "thr                        4\n",
       "mr_jeep                    4\n",
       "glinda_da_good_witch       3\n",
       "pizzamom                   3\n",
       "leftnewdigg                3\n",
       "bgoodrbcareful             2\n",
       "pastafariantwit            2\n",
       "dezmodez                   2\n",
       "boatdude                   2\n",
       "idtugyourboat              2\n",
       "kramapple                  2\n",
       "harrisonfire               2\n",
       "zandyman                   2\n",
       "olivertw1st                2\n",
       "psm321                     2\n",
       "ladyjanegr                 2\n",
       "govalle                    2\n",
       "foki                       2\n",
       "whosthatguru_v2            2\n",
       "fogdelune                  2\n",
       "jabberworx                 2\n",
       "Name: giver_username_if_known, dtype: int64"
      ]
     },
     "execution_count": 141,
     "metadata": {},
     "output_type": "execute_result"
    }
   ],
   "source": [
    "# look at usernames that show up more than 1 time\n",
    "giver_username_counts[giver_username_counts > 1]"
   ]
  },
  {
   "cell_type": "code",
   "execution_count": 128,
   "metadata": {},
   "outputs": [
    {
     "data": {
      "text/plain": [
       "False    3046\n",
       "True      707\n",
       "Name: requester_received_pizza, dtype: int64"
      ]
     },
     "execution_count": 128,
     "metadata": {},
     "output_type": "execute_result"
    }
   ],
   "source": [
    "# how many requests got a pizza with a giver who's user_name is N/A\n",
    "train_df.requester_received_pizza[train_df.giver_username_if_known == 'N/A'].value_counts()"
   ]
  },
  {
   "cell_type": "markdown",
   "metadata": {},
   "source": [
    "## requester_number_of_comments_in_raop_at_request\n",
    "Total number of comments in RAOP by requester at time of request.\n",
    "\n",
    "Notes:\n",
    "The range is 0 to 88 comments. The majority of requestors have 0 ROAP comments before placing a request in ROAP (n = 3453).\n",
    "\n",
    "23% of those with 0 ROAP comments got a pizza. 37% of those with at least one ROAP comment got a pizza.\n",
    "\n",
    "Have those with no comments separate from those with comments"
   ]
  },
  {
   "cell_type": "code",
   "execution_count": 178,
   "metadata": {},
   "outputs": [
    {
     "name": "stdout",
     "output_type": "stream",
     "text": [
      "count    4040.000000\n",
      "mean        0.645050\n",
      "std         3.413813\n",
      "min         0.000000\n",
      "25%         0.000000\n",
      "50%         0.000000\n",
      "75%         0.000000\n",
      "max        88.000000\n",
      "Name: requester_number_of_comments_in_raop_at_request, dtype: float64\n",
      "0    3453\n",
      "1     240\n",
      "2      98\n",
      "3      61\n",
      "4      49\n",
      "Name: requester_number_of_comments_in_raop_at_request, dtype: int64\n",
      "17    1\n",
      "21    1\n",
      "33    1\n",
      "43    1\n",
      "88    1\n",
      "Name: requester_number_of_comments_in_raop_at_request, dtype: int64\n"
     ]
    }
   ],
   "source": [
    "print(train_df.requester_number_of_comments_in_raop_at_request.describe())\n",
    "# print(train_df.requester_number_of_comments_in_raop_at_request.value_counts())\n",
    "print(train_df.requester_number_of_comments_in_raop_at_request.value_counts()[:5])\n",
    "print(train_df.requester_number_of_comments_in_raop_at_request.value_counts()[-5:])\n"
   ]
  },
  {
   "cell_type": "code",
   "execution_count": 236,
   "metadata": {},
   "outputs": [
    {
     "data": {
      "text/plain": [
       "[<matplotlib.axis.XTick at 0x7fbb56dfb190>,\n",
       " <matplotlib.axis.XTick at 0x7fbb56df5890>,\n",
       " <matplotlib.axis.XTick at 0x7fbb56df5590>,\n",
       " <matplotlib.axis.XTick at 0x7fbb56ec5b50>,\n",
       " <matplotlib.axis.XTick at 0x7fbb56ece250>,\n",
       " <matplotlib.axis.XTick at 0x7fbb56ec09d0>,\n",
       " <matplotlib.axis.XTick at 0x7fbb56eb4590>,\n",
       " <matplotlib.axis.XTick at 0x7fbb56ece9d0>,\n",
       " <matplotlib.axis.XTick at 0x7fbb56ecef10>,\n",
       " <matplotlib.axis.XTick at 0x7fbb56ed4590>]"
      ]
     },
     "execution_count": 236,
     "metadata": {},
     "output_type": "execute_result"
    },
    {
     "data": {
      "image/png": "[encoded data removed]",
      "text/plain": [
       "<Figure size 432x288 with 3 Axes>"
      ]
     },
     "metadata": {
      "needs_background": "light"
     },
     "output_type": "display_data"
    }
   ],
   "source": [
    "# plotting distribution of ROAP comments\n",
    "fig = plt.figure()\n",
    "axes1 = fig.add_axes([0.1,0.1,1,1]) # main axes\n",
    "axes2 = fig.add_axes([1.2,-1.2,1,1])\n",
    "axes3 = fig.add_axes([0.1,-1.2,1,1])\n",
    "\n",
    "axes1.hist(train_df.requester_number_of_comments_in_raop_at_request[train_df.requester_number_of_comments_in_raop_at_request <11])\n",
    "axes1.set_title(\"Histogram of ROAP comments at request(less than 11 comments)\")\n",
    "axes1.set_yticks(range(0,4000, 500))\n",
    "axes1.set_xticks(range(0,10, 1))\n",
    "\n",
    "# plotting distribution of ROAP comments when someone received a pizza\n",
    "axes2.hist(train_df.requester_number_of_comments_in_raop_at_request[(train_df.requester_received_pizza == 1) & (train_df.requester_number_of_comments_in_raop_at_request <11)])\n",
    "axes2.set_title(\"Histogram of ROAP comments at request (when a pizza is received)\")\n",
    "axes2.set_yticks(range(0,4000, 500))\n",
    "axes2.set_xticks(range(0,10, 1))\n",
    "\n",
    "# plotting distribution of ROAP comments when someone did not receive a pizza\n",
    "axes3.hist(train_df.requester_number_of_comments_in_raop_at_request[(train_df.requester_received_pizza == 0) & (train_df.requester_number_of_comments_in_raop_at_request <11)])\n",
    "axes3.set_title(\"Histogram of ROAP comments at request (when a pizza is not received)\")\n",
    "axes3.set_yticks(range(0,4000, 500))\n",
    "axes3.set_xticks(range(0,10, 1))"
   ]
  },
  {
   "cell_type": "code",
   "execution_count": 254,
   "metadata": {},
   "outputs": [
    {
     "data": {
      "text/plain": [
       "{'whiskers': [<matplotlib.lines.Line2D at 0x7fbb5925f710>,\n",
       "  <matplotlib.lines.Line2D at 0x7fbb59266890>,\n",
       "  <matplotlib.lines.Line2D at 0x7fbb59404750>,\n",
       "  <matplotlib.lines.Line2D at 0x7fbb593fcd90>],\n",
       " 'caps': [<matplotlib.lines.Line2D at 0x7fbb59266d90>,\n",
       "  <matplotlib.lines.Line2D at 0x7fbb59202750>,\n",
       "  <matplotlib.lines.Line2D at 0x7fbb593fc7d0>,\n",
       "  <matplotlib.lines.Line2D at 0x7fbb5940e650>],\n",
       " 'boxes': [<matplotlib.lines.Line2D at 0x7fbb5925f6d0>,\n",
       "  <matplotlib.lines.Line2D at 0x7fbb59266e10>],\n",
       " 'medians': [<matplotlib.lines.Line2D at 0x7fbb593fc810>,\n",
       "  <matplotlib.lines.Line2D at 0x7fbb5940eb50>],\n",
       " 'fliers': [<matplotlib.lines.Line2D at 0x7fbb593fcd10>,\n",
       "  <matplotlib.lines.Line2D at 0x7fbb59404c90>],\n",
       " 'means': []}"
      ]
     },
     "execution_count": 254,
     "metadata": {},
     "output_type": "execute_result"
    },
    {
     "data": {
      "image/png": "[encoded data removed]",
      "text/plain": [
       "<Figure size 864x504 with 1 Axes>"
      ]
     },
     "metadata": {
      "needs_background": "light"
     },
     "output_type": "display_data"
    }
   ],
   "source": [
    "# plotting log transformed feature\n",
    "num_roap_comments_pizza = train_df[train_df['requester_received_pizza'] == True]['requester_number_of_comments_in_raop_at_request']\n",
    "num_roap_comments_no_pizza = train_df[train_df['requester_received_pizza'] == False]['requester_number_of_comments_in_raop_at_request']\n",
    "\n",
    "set_to_plot = [num_roap_comments_pizza, num_roap_comments_no_pizza]\n",
    "labels = train_df['requester_received_pizza'].unique()\n",
    "\n",
    "fig, ax = plt.subplots(figsize=(12, 7))\n",
    "ax.boxplot(set_to_plot, labels=labels)"
   ]
  },
  {
   "cell_type": "code",
   "execution_count": 201,
   "metadata": {},
   "outputs": [
    {
     "data": {
      "text/html": [
       "<div>\n",
       "<style scoped>\n",
       "    .dataframe tbody tr th:only-of-type {\n",
       "        vertical-align: middle;\n",
       "    }\n",
       "\n",
       "    .dataframe tbody tr th {\n",
       "        vertical-align: top;\n",
       "    }\n",
       "\n",
       "    .dataframe thead th {\n",
       "        text-align: right;\n",
       "    }\n",
       "</style>\n",
       "<table border=\"1\" class=\"dataframe\">\n",
       "  <thead>\n",
       "    <tr style=\"text-align: right;\">\n",
       "      <th>roap_comments_start_bucketed</th>\n",
       "      <th>0</th>\n",
       "      <th>1</th>\n",
       "    </tr>\n",
       "    <tr>\n",
       "      <th>requester_received_pizza</th>\n",
       "      <th></th>\n",
       "      <th></th>\n",
       "    </tr>\n",
       "  </thead>\n",
       "  <tbody>\n",
       "    <tr>\n",
       "      <th>False</th>\n",
       "      <td>2674</td>\n",
       "      <td>372</td>\n",
       "    </tr>\n",
       "    <tr>\n",
       "      <th>True</th>\n",
       "      <td>779</td>\n",
       "      <td>215</td>\n",
       "    </tr>\n",
       "  </tbody>\n",
       "</table>\n",
       "</div>"
      ],
      "text/plain": [
       "roap_comments_start_bucketed     0    1\n",
       "requester_received_pizza               \n",
       "False                         2674  372\n",
       "True                           779  215"
      ]
     },
     "execution_count": 201,
     "metadata": {},
     "output_type": "execute_result"
    }
   ],
   "source": [
    "# now using buckets ROAP comments\n",
    "train_df['roap_comments_start_bucketed'] = np.where(train_df.requester_number_of_comments_in_raop_at_request >= 1, 1, 0)\n",
    "pd.crosstab(train_df.requester_received_pizza, train_df.roap_comments_start_bucketed)\n"
   ]
  },
  {
   "cell_type": "code",
   "execution_count": 186,
   "metadata": {},
   "outputs": [
    {
     "data": {
      "text/html": [
       "<div>\n",
       "<style scoped>\n",
       "    .dataframe tbody tr th:only-of-type {\n",
       "        vertical-align: middle;\n",
       "    }\n",
       "\n",
       "    .dataframe tbody tr th {\n",
       "        vertical-align: top;\n",
       "    }\n",
       "\n",
       "    .dataframe thead th {\n",
       "        text-align: right;\n",
       "    }\n",
       "</style>\n",
       "<table border=\"1\" class=\"dataframe\">\n",
       "  <thead>\n",
       "    <tr style=\"text-align: right;\">\n",
       "      <th>requester_number_of_comments_in_raop_at_request</th>\n",
       "      <th>(-0.088, 0.978]</th>\n",
       "      <th>(0.978, 1.956]</th>\n",
       "      <th>(1.956, 2.933]</th>\n",
       "      <th>(2.933, 3.911]</th>\n",
       "      <th>(3.911, 4.889]</th>\n",
       "      <th>(4.889, 5.867]</th>\n",
       "      <th>(5.867, 6.844]</th>\n",
       "      <th>(6.844, 7.822]</th>\n",
       "      <th>(7.822, 8.8]</th>\n",
       "      <th>(8.8, 9.778]</th>\n",
       "      <th>...</th>\n",
       "      <th>(28.356, 29.333]</th>\n",
       "      <th>(32.267, 33.244]</th>\n",
       "      <th>(39.111, 40.089]</th>\n",
       "      <th>(42.044, 43.022]</th>\n",
       "      <th>(46.933, 47.911]</th>\n",
       "      <th>(51.822, 52.8]</th>\n",
       "      <th>(53.778, 54.756]</th>\n",
       "      <th>(55.733, 56.711]</th>\n",
       "      <th>(76.267, 77.244]</th>\n",
       "      <th>(87.022, 88.0]</th>\n",
       "    </tr>\n",
       "    <tr>\n",
       "      <th>requester_received_pizza</th>\n",
       "      <th></th>\n",
       "      <th></th>\n",
       "      <th></th>\n",
       "      <th></th>\n",
       "      <th></th>\n",
       "      <th></th>\n",
       "      <th></th>\n",
       "      <th></th>\n",
       "      <th></th>\n",
       "      <th></th>\n",
       "      <th></th>\n",
       "      <th></th>\n",
       "      <th></th>\n",
       "      <th></th>\n",
       "      <th></th>\n",
       "      <th></th>\n",
       "      <th></th>\n",
       "      <th></th>\n",
       "      <th></th>\n",
       "      <th></th>\n",
       "      <th></th>\n",
       "    </tr>\n",
       "  </thead>\n",
       "  <tbody>\n",
       "    <tr>\n",
       "      <th>False</th>\n",
       "      <td>2674</td>\n",
       "      <td>176</td>\n",
       "      <td>63</td>\n",
       "      <td>38</td>\n",
       "      <td>30</td>\n",
       "      <td>14</td>\n",
       "      <td>10</td>\n",
       "      <td>8</td>\n",
       "      <td>13</td>\n",
       "      <td>3</td>\n",
       "      <td>...</td>\n",
       "      <td>1</td>\n",
       "      <td>0</td>\n",
       "      <td>1</td>\n",
       "      <td>0</td>\n",
       "      <td>0</td>\n",
       "      <td>1</td>\n",
       "      <td>0</td>\n",
       "      <td>0</td>\n",
       "      <td>0</td>\n",
       "      <td>0</td>\n",
       "    </tr>\n",
       "    <tr>\n",
       "      <th>True</th>\n",
       "      <td>779</td>\n",
       "      <td>64</td>\n",
       "      <td>35</td>\n",
       "      <td>23</td>\n",
       "      <td>19</td>\n",
       "      <td>12</td>\n",
       "      <td>7</td>\n",
       "      <td>5</td>\n",
       "      <td>3</td>\n",
       "      <td>6</td>\n",
       "      <td>...</td>\n",
       "      <td>2</td>\n",
       "      <td>1</td>\n",
       "      <td>1</td>\n",
       "      <td>1</td>\n",
       "      <td>1</td>\n",
       "      <td>0</td>\n",
       "      <td>1</td>\n",
       "      <td>1</td>\n",
       "      <td>1</td>\n",
       "      <td>1</td>\n",
       "    </tr>\n",
       "  </tbody>\n",
       "</table>\n",
       "<p>2 rows × 34 columns</p>\n",
       "</div>"
      ],
      "text/plain": [
       "requester_number_of_comments_in_raop_at_request  (-0.088, 0.978]  \\\n",
       "requester_received_pizza                                           \n",
       "False                                                       2674   \n",
       "True                                                         779   \n",
       "\n",
       "requester_number_of_comments_in_raop_at_request  (0.978, 1.956]  \\\n",
       "requester_received_pizza                                          \n",
       "False                                                       176   \n",
       "True                                                         64   \n",
       "\n",
       "requester_number_of_comments_in_raop_at_request  (1.956, 2.933]  \\\n",
       "requester_received_pizza                                          \n",
       "False                                                        63   \n",
       "True                                                         35   \n",
       "\n",
       "requester_number_of_comments_in_raop_at_request  (2.933, 3.911]  \\\n",
       "requester_received_pizza                                          \n",
       "False                                                        38   \n",
       "True                                                         23   \n",
       "\n",
       "requester_number_of_comments_in_raop_at_request  (3.911, 4.889]  \\\n",
       "requester_received_pizza                                          \n",
       "False                                                        30   \n",
       "True                                                         19   \n",
       "\n",
       "requester_number_of_comments_in_raop_at_request  (4.889, 5.867]  \\\n",
       "requester_received_pizza                                          \n",
       "False                                                        14   \n",
       "True                                                         12   \n",
       "\n",
       "requester_number_of_comments_in_raop_at_request  (5.867, 6.844]  \\\n",
       "requester_received_pizza                                          \n",
       "False                                                        10   \n",
       "True                                                          7   \n",
       "\n",
       "requester_number_of_comments_in_raop_at_request  (6.844, 7.822]  (7.822, 8.8]  \\\n",
       "requester_received_pizza                                                        \n",
       "False                                                         8            13   \n",
       "True                                                          5             3   \n",
       "\n",
       "requester_number_of_comments_in_raop_at_request  (8.8, 9.778]  ...  \\\n",
       "requester_received_pizza                                       ...   \n",
       "False                                                       3  ...   \n",
       "True                                                        6  ...   \n",
       "\n",
       "requester_number_of_comments_in_raop_at_request  (28.356, 29.333]  \\\n",
       "requester_received_pizza                                            \n",
       "False                                                           1   \n",
       "True                                                            2   \n",
       "\n",
       "requester_number_of_comments_in_raop_at_request  (32.267, 33.244]  \\\n",
       "requester_received_pizza                                            \n",
       "False                                                           0   \n",
       "True                                                            1   \n",
       "\n",
       "requester_number_of_comments_in_raop_at_request  (39.111, 40.089]  \\\n",
       "requester_received_pizza                                            \n",
       "False                                                           1   \n",
       "True                                                            1   \n",
       "\n",
       "requester_number_of_comments_in_raop_at_request  (42.044, 43.022]  \\\n",
       "requester_received_pizza                                            \n",
       "False                                                           0   \n",
       "True                                                            1   \n",
       "\n",
       "requester_number_of_comments_in_raop_at_request  (46.933, 47.911]  \\\n",
       "requester_received_pizza                                            \n",
       "False                                                           0   \n",
       "True                                                            1   \n",
       "\n",
       "requester_number_of_comments_in_raop_at_request  (51.822, 52.8]  \\\n",
       "requester_received_pizza                                          \n",
       "False                                                         1   \n",
       "True                                                          0   \n",
       "\n",
       "requester_number_of_comments_in_raop_at_request  (53.778, 54.756]  \\\n",
       "requester_received_pizza                                            \n",
       "False                                                           0   \n",
       "True                                                            1   \n",
       "\n",
       "requester_number_of_comments_in_raop_at_request  (55.733, 56.711]  \\\n",
       "requester_received_pizza                                            \n",
       "False                                                           0   \n",
       "True                                                            1   \n",
       "\n",
       "requester_number_of_comments_in_raop_at_request  (76.267, 77.244]  \\\n",
       "requester_received_pizza                                            \n",
       "False                                                           0   \n",
       "True                                                            1   \n",
       "\n",
       "requester_number_of_comments_in_raop_at_request  (87.022, 88.0]  \n",
       "requester_received_pizza                                         \n",
       "False                                                         0  \n",
       "True                                                          1  \n",
       "\n",
       "[2 rows x 34 columns]"
      ]
     },
     "execution_count": 186,
     "metadata": {},
     "output_type": "execute_result"
    }
   ],
   "source": [
    "# seeing number of requestors by whether they got a pizza and number of ROAP comments\n",
    "pd.crosstab(train_df.requester_received_pizza, pd.cut(train_df.requester_number_of_comments_in_raop_at_request, 90)) "
   ]
  },
  {
   "cell_type": "code",
   "execution_count": 252,
   "metadata": {},
   "outputs": [],
   "source": [
    "# transforming feature with log\n",
    "train_df['num_roap_comments_log'] = np.log(train_df.requester_number_of_comments_in_raop_at_request + 0.00001)"
   ]
  },
  {
   "cell_type": "code",
   "execution_count": 271,
   "metadata": {},
   "outputs": [
    {
     "data": {
      "text/plain": [
       "Text(0.5, 1.0, 'Number of log ROAP Comments by whether they received a pizza')"
      ]
     },
     "execution_count": 271,
     "metadata": {},
     "output_type": "execute_result"
    },
    {
     "data": {
      "image/png": "[encoded data removed]",
      "text/plain": [
       "<Figure size 864x504 with 1 Axes>"
      ]
     },
     "metadata": {
      "needs_background": "light"
     },
     "output_type": "display_data"
    }
   ],
   "source": [
    "# plotting log transformed feature\n",
    "num_roap_comments_log_pizza = train_df[train_df['requester_received_pizza'] == True]['num_roap_comments_log']\n",
    "num_roap_comments_log_no_pizza = train_df[train_df['requester_received_pizza'] == False]['num_roap_comments_log']\n",
    "\n",
    "set_to_plot = [num_roap_comments_log_pizza, num_roap_comments_log_no_pizza]\n",
    "labels = train_df['requester_received_pizza'].unique()\n",
    "\n",
    "fig, ax = plt.subplots(figsize=(12, 7))\n",
    "ax.boxplot(set_to_plot, labels=labels)\n",
    "ax.set_title('Number of log ROAP Comments by whether they received a pizza')"
   ]
  },
  {
   "cell_type": "code",
   "execution_count": 267,
   "metadata": {},
   "outputs": [],
   "source": [
    "# creating new variable for those with no comments \n",
    "train_df['no_roap_comments'] = np.where(train_df['requester_number_of_comments_in_raop_at_request'] == 0, True, False)"
   ]
  },
  {
   "cell_type": "code",
   "execution_count": 266,
   "metadata": {},
   "outputs": [
    {
     "data": {
      "text/plain": [
       "Text(0.5, 1.0, 'Number of ROAP Comments (at least 1) by whether they received a pizza')"
      ]
     },
     "execution_count": 266,
     "metadata": {},
     "output_type": "execute_result"
    },
    {
     "data": {
      "image/png": "[encoded data removed]",
      "text/plain": [
       "<Figure size 864x504 with 1 Axes>"
      ]
     },
     "metadata": {
      "needs_background": "light"
     },
     "output_type": "display_data"
    }
   ],
   "source": [
    "# plotting without those who had zero comments\n",
    "num_roap_comments_pizza = train_df[(train_df['requester_received_pizza'] == True) & (train_df['no_roap_comments'] == False)]['requester_number_of_comments_in_raop_at_request']\n",
    "num_roap_comments_no_pizza = train_df[(train_df['requester_received_pizza'] == False) & (train_df['no_roap_comments'] == False)]['requester_number_of_comments_in_raop_at_request']\n",
    "\n",
    "set_to_plot = [num_roap_comments_pizza, num_roap_comments_no_pizza]\n",
    "labels = train_df['requester_received_pizza'].unique()\n",
    "\n",
    "fig, ax = plt.subplots(figsize=(12, 7))\n",
    "ax.boxplot(set_to_plot, labels=labels)\n",
    "ax.set_title('Number of ROAP Comments (at least 1) by whether they received a pizza')"
   ]
  },
  {
   "cell_type": "code",
   "execution_count": 273,
   "metadata": {},
   "outputs": [
    {
     "data": {
      "text/plain": [
       "Text(0.5, 1.0, 'Number of log ROAP Comments (at least 1) by whether they received a pizza')"
      ]
     },
     "execution_count": 273,
     "metadata": {},
     "output_type": "execute_result"
    },
    {
     "data": {
      "image/png": "[encoded data removed]",
      "text/plain": [
       "<Figure size 864x504 with 1 Axes>"
      ]
     },
     "metadata": {
      "needs_background": "light"
     },
     "output_type": "display_data"
    }
   ],
   "source": [
    "# plotting without those who had zero comments\n",
    "num_roap_comments_pizza = train_df[(train_df['requester_received_pizza'] == True) & (train_df['no_roap_comments'] == False)]['num_roap_comments_log']\n",
    "num_roap_comments_no_pizza = train_df[(train_df['requester_received_pizza'] == False) & (train_df['no_roap_comments'] == False)]['num_roap_comments_log']\n",
    "\n",
    "set_to_plot = [num_roap_comments_pizza, num_roap_comments_no_pizza]\n",
    "labels = train_df['requester_received_pizza'].unique()\n",
    "\n",
    "fig, ax = plt.subplots(figsize=(12, 7))\n",
    "ax.boxplot(set_to_plot, labels=labels)\n",
    "ax.set_title('Number of log ROAP Comments (at least 1) by whether they received a pizza')\n"
   ]
  },
  {
   "cell_type": "markdown",
   "metadata": {},
   "source": [
    "## requester_number_of_posts_at_request\n",
    "Total number of posts on Reddit by requester at time of request.\n",
    "\n",
    "Notes:\n",
    "The range is 0 to 867 Reddit post. About 1198 requestors have 0 post on Reddit. Half of the requesters have 5 or less Reddit posts. Since the mean is so high (esp compared to the median) there must be outliers which are people who are very very active Reddit posters. \n",
    "\n",
    "19% of those with 0 Reddit posts got a pizza. 27% of those who have >0 Reddit posts got a pizza.\n"
   ]
  },
  {
   "cell_type": "code",
   "execution_count": 209,
   "metadata": {},
   "outputs": [
    {
     "name": "stdout",
     "output_type": "stream",
     "text": [
      "count    4040.000000\n",
      "mean       21.601485\n",
      "std        50.895060\n",
      "min         0.000000\n",
      "25%         0.000000\n",
      "50%         5.000000\n",
      "75%        22.000000\n",
      "max       867.000000\n",
      "Name: requester_number_of_posts_at_request, dtype: float64\n",
      "0    1198\n",
      "1     293\n",
      "2     218\n",
      "3     167\n",
      "4     131\n",
      "Name: requester_number_of_posts_at_request, dtype: int64\n",
      "586    1\n",
      "594    1\n",
      "809    1\n",
      "824    1\n",
      "612    1\n",
      "Name: requester_number_of_posts_at_request, dtype: int64\n"
     ]
    }
   ],
   "source": [
    "print(train_df.requester_number_of_posts_at_request.describe())\n",
    "# print(train_df.requester_number_of_posts_at_request.value_counts())\n",
    "print(train_df.requester_number_of_posts_at_request.value_counts()[:5])\n",
    "print(train_df.requester_number_of_posts_at_request.value_counts()[-5:])"
   ]
  },
  {
   "cell_type": "code",
   "execution_count": 228,
   "metadata": {},
   "outputs": [
    {
     "data": {
      "text/plain": [
       "[<matplotlib.axis.XTick at 0x7fbb54defa50>,\n",
       " <matplotlib.axis.XTick at 0x7fbb54def190>,\n",
       " <matplotlib.axis.XTick at 0x7fbb54de5e50>,\n",
       " <matplotlib.axis.XTick at 0x7fbb5505e850>,\n",
       " <matplotlib.axis.XTick at 0x7fbb5505ee90>,\n",
       " <matplotlib.axis.XTick at 0x7fbb5505e090>,\n",
       " <matplotlib.axis.XTick at 0x7fbb5503a790>,\n",
       " <matplotlib.axis.XTick at 0x7fbb550653d0>,\n",
       " <matplotlib.axis.XTick at 0x7fbb55065b90>,\n",
       " <matplotlib.axis.XTick at 0x7fbb5506b290>,\n",
       " <matplotlib.axis.XTick at 0x7fbb5506b810>,\n",
       " <matplotlib.axis.XTick at 0x7fbb5506be50>,\n",
       " <matplotlib.axis.XTick at 0x7fbb550714d0>,\n",
       " <matplotlib.axis.XTick at 0x7fbb55071b10>,\n",
       " <matplotlib.axis.XTick at 0x7fbb5507a1d0>,\n",
       " <matplotlib.axis.XTick at 0x7fbb55071590>,\n",
       " <matplotlib.axis.XTick at 0x7fbb55065450>,\n",
       " <matplotlib.axis.XTick at 0x7fbb5507a6d0>,\n",
       " <matplotlib.axis.XTick at 0x7fbb5507ad10>,\n",
       " <matplotlib.axis.XTick at 0x7fbb55081390>]"
      ]
     },
     "execution_count": 228,
     "metadata": {},
     "output_type": "execute_result"
    },
    {
     "data": {
      "image/png": "[encoded data removed]",
      "text/plain": [
       "<Figure size 432x288 with 3 Axes>"
      ]
     },
     "metadata": {
      "needs_background": "light"
     },
     "output_type": "display_data"
    }
   ],
   "source": [
    "# plotting distribution of Reddit Posts\n",
    "fig = plt.figure()\n",
    "axes1 = fig.add_axes([0.1,0.1,1,1]) # main axes\n",
    "axes2 = fig.add_axes([1.2,-1.2,1,1])\n",
    "axes3 = fig.add_axes([0.1,-1.2,1,1])\n",
    "\n",
    "axes1.hist(train_df.requester_number_of_posts_at_request[train_df.requester_number_of_posts_at_request <21])\n",
    "axes1.set_title(\"Histogram of Reddit Posts at request (less than 21 comments)\")\n",
    "axes1.set_yticks(range(0,2000, 100))\n",
    "axes1.set_xticks(range(0,20, 1))\n",
    "\n",
    "# plotting distribution of Reddit Posts when someone received a pizza\n",
    "axes2.hist(train_df.requester_number_of_posts_at_request[(train_df.requester_received_pizza == 1) & (train_df.requester_number_of_posts_at_request <21)])\n",
    "axes2.set_title(\"Histogram of Reddit Posts at request (when a pizza is received)\")\n",
    "axes2.set_yticks(range(0,2000, 100))\n",
    "axes2.set_xticks(range(0,20, 1))\n",
    "\n",
    "# plotting distribution of Reddit Posts when someone did not receive a pizza\n",
    "axes3.hist(train_df.requester_number_of_posts_at_request[(train_df.requester_received_pizza == 0) & (train_df.requester_number_of_posts_at_request <21)])\n",
    "axes3.set_title(\"Histogram of Reddit Posts at request (when a pizza is not received)\")\n",
    "axes3.set_yticks(range(0,2000, 100))\n",
    "axes3.set_xticks(range(0,20,1))"
   ]
  },
  {
   "cell_type": "code",
   "execution_count": 213,
   "metadata": {},
   "outputs": [
    {
     "data": {
      "text/html": [
       "<div>\n",
       "<style scoped>\n",
       "    .dataframe tbody tr th:only-of-type {\n",
       "        vertical-align: middle;\n",
       "    }\n",
       "\n",
       "    .dataframe tbody tr th {\n",
       "        vertical-align: top;\n",
       "    }\n",
       "\n",
       "    .dataframe thead th {\n",
       "        text-align: right;\n",
       "    }\n",
       "</style>\n",
       "<table border=\"1\" class=\"dataframe\">\n",
       "  <thead>\n",
       "    <tr style=\"text-align: right;\">\n",
       "      <th>reddit_posts_start_bucketed</th>\n",
       "      <th>0</th>\n",
       "      <th>1</th>\n",
       "    </tr>\n",
       "    <tr>\n",
       "      <th>requester_received_pizza</th>\n",
       "      <th></th>\n",
       "      <th></th>\n",
       "    </tr>\n",
       "  </thead>\n",
       "  <tbody>\n",
       "    <tr>\n",
       "      <th>False</th>\n",
       "      <td>967</td>\n",
       "      <td>2079</td>\n",
       "    </tr>\n",
       "    <tr>\n",
       "      <th>True</th>\n",
       "      <td>231</td>\n",
       "      <td>763</td>\n",
       "    </tr>\n",
       "  </tbody>\n",
       "</table>\n",
       "</div>"
      ],
      "text/plain": [
       "reddit_posts_start_bucketed    0     1\n",
       "requester_received_pizza              \n",
       "False                        967  2079\n",
       "True                         231   763"
      ]
     },
     "execution_count": 213,
     "metadata": {},
     "output_type": "execute_result"
    }
   ],
   "source": [
    "# now using buckets Reddit posts start\n",
    "train_df['reddit_posts_start_bucketed'] = np.where(train_df.requester_number_of_posts_at_request >= 1, 1, 0)\n",
    "pd.crosstab(train_df.requester_received_pizza, train_df.reddit_posts_start_bucketed)\n"
   ]
  },
  {
   "cell_type": "code",
   "execution_count": 223,
   "metadata": {},
   "outputs": [
    {
     "data": {
      "text/html": [
       "<div>\n",
       "<style scoped>\n",
       "    .dataframe tbody tr th:only-of-type {\n",
       "        vertical-align: middle;\n",
       "    }\n",
       "\n",
       "    .dataframe tbody tr th {\n",
       "        vertical-align: top;\n",
       "    }\n",
       "\n",
       "    .dataframe thead th {\n",
       "        text-align: right;\n",
       "    }\n",
       "</style>\n",
       "<table border=\"1\" class=\"dataframe\">\n",
       "  <thead>\n",
       "    <tr style=\"text-align: right;\">\n",
       "      <th>requester_number_of_posts_at_request</th>\n",
       "      <th>(-0.867, 43.35]</th>\n",
       "      <th>(43.35, 86.7]</th>\n",
       "      <th>(86.7, 130.05]</th>\n",
       "      <th>(130.05, 173.4]</th>\n",
       "      <th>(173.4, 216.75]</th>\n",
       "      <th>(216.75, 260.1]</th>\n",
       "      <th>(260.1, 303.45]</th>\n",
       "      <th>(303.45, 346.8]</th>\n",
       "      <th>(346.8, 390.15]</th>\n",
       "      <th>(390.15, 433.5]</th>\n",
       "      <th>(433.5, 476.85]</th>\n",
       "      <th>(476.85, 520.2]</th>\n",
       "      <th>(563.55, 606.9]</th>\n",
       "      <th>(606.9, 650.25]</th>\n",
       "      <th>(780.3, 823.65]</th>\n",
       "      <th>(823.65, 867.0]</th>\n",
       "    </tr>\n",
       "    <tr>\n",
       "      <th>requester_received_pizza</th>\n",
       "      <th></th>\n",
       "      <th></th>\n",
       "      <th></th>\n",
       "      <th></th>\n",
       "      <th></th>\n",
       "      <th></th>\n",
       "      <th></th>\n",
       "      <th></th>\n",
       "      <th></th>\n",
       "      <th></th>\n",
       "      <th></th>\n",
       "      <th></th>\n",
       "      <th></th>\n",
       "      <th></th>\n",
       "      <th></th>\n",
       "      <th></th>\n",
       "    </tr>\n",
       "  </thead>\n",
       "  <tbody>\n",
       "    <tr>\n",
       "      <th>False</th>\n",
       "      <td>2639</td>\n",
       "      <td>238</td>\n",
       "      <td>75</td>\n",
       "      <td>47</td>\n",
       "      <td>17</td>\n",
       "      <td>9</td>\n",
       "      <td>6</td>\n",
       "      <td>1</td>\n",
       "      <td>6</td>\n",
       "      <td>1</td>\n",
       "      <td>1</td>\n",
       "      <td>2</td>\n",
       "      <td>1</td>\n",
       "      <td>0</td>\n",
       "      <td>1</td>\n",
       "      <td>2</td>\n",
       "    </tr>\n",
       "    <tr>\n",
       "      <th>True</th>\n",
       "      <td>838</td>\n",
       "      <td>98</td>\n",
       "      <td>27</td>\n",
       "      <td>11</td>\n",
       "      <td>5</td>\n",
       "      <td>8</td>\n",
       "      <td>0</td>\n",
       "      <td>3</td>\n",
       "      <td>1</td>\n",
       "      <td>0</td>\n",
       "      <td>0</td>\n",
       "      <td>0</td>\n",
       "      <td>1</td>\n",
       "      <td>2</td>\n",
       "      <td>0</td>\n",
       "      <td>0</td>\n",
       "    </tr>\n",
       "  </tbody>\n",
       "</table>\n",
       "</div>"
      ],
      "text/plain": [
       "requester_number_of_posts_at_request  (-0.867, 43.35]  (43.35, 86.7]  \\\n",
       "requester_received_pizza                                               \n",
       "False                                            2639            238   \n",
       "True                                              838             98   \n",
       "\n",
       "requester_number_of_posts_at_request  (86.7, 130.05]  (130.05, 173.4]  \\\n",
       "requester_received_pizza                                                \n",
       "False                                             75               47   \n",
       "True                                              27               11   \n",
       "\n",
       "requester_number_of_posts_at_request  (173.4, 216.75]  (216.75, 260.1]  \\\n",
       "requester_received_pizza                                                 \n",
       "False                                              17                9   \n",
       "True                                                5                8   \n",
       "\n",
       "requester_number_of_posts_at_request  (260.1, 303.45]  (303.45, 346.8]  \\\n",
       "requester_received_pizza                                                 \n",
       "False                                               6                1   \n",
       "True                                                0                3   \n",
       "\n",
       "requester_number_of_posts_at_request  (346.8, 390.15]  (390.15, 433.5]  \\\n",
       "requester_received_pizza                                                 \n",
       "False                                               6                1   \n",
       "True                                                1                0   \n",
       "\n",
       "requester_number_of_posts_at_request  (433.5, 476.85]  (476.85, 520.2]  \\\n",
       "requester_received_pizza                                                 \n",
       "False                                               1                2   \n",
       "True                                                0                0   \n",
       "\n",
       "requester_number_of_posts_at_request  (563.55, 606.9]  (606.9, 650.25]  \\\n",
       "requester_received_pizza                                                 \n",
       "False                                               1                0   \n",
       "True                                                1                2   \n",
       "\n",
       "requester_number_of_posts_at_request  (780.3, 823.65]  (823.65, 867.0]  \n",
       "requester_received_pizza                                                \n",
       "False                                               1                2  \n",
       "True                                                0                0  "
      ]
     },
     "execution_count": 223,
     "metadata": {},
     "output_type": "execute_result"
    }
   ],
   "source": [
    "# seeing number of requestors by whether they got a pizza and number of Reddit posts at start\n",
    "pd.crosstab(train_df.requester_received_pizza, pd.cut(train_df.requester_number_of_posts_at_request, 20)) \n"
   ]
  },
  {
   "cell_type": "code",
   "execution_count": 270,
   "metadata": {},
   "outputs": [
    {
     "data": {
      "text/plain": [
       "{'whiskers': [<matplotlib.lines.Line2D at 0x7fbb59e0acd0>,\n",
       "  <matplotlib.lines.Line2D at 0x7fbb59f39e50>,\n",
       "  <matplotlib.lines.Line2D at 0x7fbb59f48d10>,\n",
       "  <matplotlib.lines.Line2D at 0x7fbb59f42e50>],\n",
       " 'caps': [<matplotlib.lines.Line2D at 0x7fbb59e0aa90>,\n",
       "  <matplotlib.lines.Line2D at 0x7fbb59f42890>,\n",
       "  <matplotlib.lines.Line2D at 0x7fbb59f51710>,\n",
       "  <matplotlib.lines.Line2D at 0x7fbb59f51c10>],\n",
       " 'boxes': [<matplotlib.lines.Line2D at 0x7fbb59e0ac90>,\n",
       "  <matplotlib.lines.Line2D at 0x7fbb59f48810>],\n",
       " 'medians': [<matplotlib.lines.Line2D at 0x7fbb59f42dd0>,\n",
       "  <matplotlib.lines.Line2D at 0x7fbb59f42d90>],\n",
       " 'fliers': [<matplotlib.lines.Line2D at 0x7fbb59f39ed0>,\n",
       "  <matplotlib.lines.Line2D at 0x7fbb59f5b650>],\n",
       " 'means': []}"
      ]
     },
     "execution_count": 270,
     "metadata": {},
     "output_type": "execute_result"
    },
    {
     "data": {
      "image/png": "[encoded data removed]",
      "text/plain": [
       "<Figure size 864x504 with 1 Axes>"
      ]
     },
     "metadata": {
      "needs_background": "light"
     },
     "output_type": "display_data"
    }
   ],
   "source": [
    "# plotting feature\n",
    "num_posts_pizza = train_df[train_df['requester_received_pizza'] == True]['requester_number_of_posts_at_request']\n",
    "num_posts_no_pizza = train_df[train_df['requester_received_pizza'] == False]['requester_number_of_posts_at_request']\n",
    "\n",
    "set_to_plot = [num_posts_pizza, num_posts_no_pizza]\n",
    "labels = train_df['requester_received_pizza'].unique()\n",
    "\n",
    "fig, ax = plt.subplots(figsize=(12, 7))\n",
    "ax.boxplot(set_to_plot, labels=labels)"
   ]
  },
  {
   "cell_type": "code",
   "execution_count": 272,
   "metadata": {},
   "outputs": [],
   "source": [
    "# transforming feature with log\n",
    "train_df['num_posts_log'] = np.log(train_df['requester_number_of_posts_at_request'] + 0.00001)\n",
    "# creating new variable for those with no posts \n",
    "train_df['no_posts'] = np.where(train_df['requester_number_of_comments_in_raop_at_request'] == 0, True, False)"
   ]
  },
  {
   "cell_type": "code",
   "execution_count": 274,
   "metadata": {},
   "outputs": [
    {
     "data": {
      "text/plain": [
       "Text(0.5, 1.0, 'Number of Reddit Posts (at least 1) by whether they received a pizza')"
      ]
     },
     "execution_count": 274,
     "metadata": {},
     "output_type": "execute_result"
    },
    {
     "data": {
      "image/png": "[encoded data removed]",
      "text/plain": [
       "<Figure size 864x504 with 1 Axes>"
      ]
     },
     "metadata": {
      "needs_background": "light"
     },
     "output_type": "display_data"
    }
   ],
   "source": [
    "# plotting without those who had zero posts\n",
    "num_posts_pizza = train_df[(train_df['requester_received_pizza'] == True) & (train_df['no_posts'] == False)]['requester_number_of_posts_at_request']\n",
    "num_posts_no_pizza = train_df[(train_df['requester_received_pizza'] == False) & (train_df['no_posts'] == False)]['requester_number_of_posts_at_request']\n",
    "\n",
    "set_to_plot = [num_posts_pizza, num_posts_no_pizza]\n",
    "labels = train_df['requester_received_pizza'].unique()\n",
    "\n",
    "fig, ax = plt.subplots(figsize=(12, 7))\n",
    "ax.boxplot(set_to_plot, labels=labels)\n",
    "ax.set_title('Number of Reddit Posts (at least 1) by whether they received a pizza')"
   ]
  },
  {
   "cell_type": "code",
   "execution_count": 275,
   "metadata": {},
   "outputs": [
    {
     "data": {
      "text/plain": [
       "Text(0.5, 1.0, 'Number of log Reddit Posts (at least 1) by whether they received a pizza')"
      ]
     },
     "execution_count": 275,
     "metadata": {},
     "output_type": "execute_result"
    },
    {
     "data": {
      "image/png": "[encoded data removed]",
      "text/plain": [
       "<Figure size 864x504 with 1 Axes>"
      ]
     },
     "metadata": {
      "needs_background": "light"
     },
     "output_type": "display_data"
    }
   ],
   "source": [
    "# plotting without those who had zero posts\n",
    "num_log_posts_pizza = train_df[(train_df['requester_received_pizza'] == True) & (train_df['no_posts'] == False)]['num_posts_log']\n",
    "num_log_posts_no_pizza = train_df[(train_df['requester_received_pizza'] == False) & (train_df['no_posts'] == False)]['num_posts_log']\n",
    "\n",
    "set_to_plot = [num_log_posts_pizza, num_log_posts_no_pizza]\n",
    "labels = train_df['requester_received_pizza'].unique()\n",
    "\n",
    "fig, ax = plt.subplots(figsize=(12, 7))\n",
    "ax.boxplot(set_to_plot, labels=labels)\n",
    "ax.set_title('Number of log Reddit Posts (at least 1) by whether they received a pizza')"
   ]
  },
  {
   "cell_type": "code",
   "execution_count": null,
   "metadata": {},
   "outputs": [],
   "source": []
  }
 ],
 "metadata": {
  "kernelspec": {
   "display_name": "Python 3",
   "language": "python",
   "name": "python3"
  },
  "language_info": {
   "codemirror_mode": {
    "name": "ipython",
    "version": 3
   },
   "file_extension": ".py",
   "mimetype": "text/x-python",
   "name": "python",
   "nbconvert_exporter": "python",
   "pygments_lexer": "ipython3",
   "version": "3.7.7"
  }
 },
 "nbformat": 4,
 "nbformat_minor": 4
}
